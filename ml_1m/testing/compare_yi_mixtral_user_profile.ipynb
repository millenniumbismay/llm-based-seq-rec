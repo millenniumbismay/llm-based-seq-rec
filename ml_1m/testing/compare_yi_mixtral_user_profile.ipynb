{
 "cells": [
  {
   "cell_type": "code",
   "execution_count": 1,
   "metadata": {},
   "outputs": [],
   "source": [
    "import os\n",
    "import pickle\n",
    "import numpy as np\n",
    "import pandas as pd"
   ]
  },
  {
   "cell_type": "code",
   "execution_count": 4,
   "metadata": {},
   "outputs": [],
   "source": [
    "user_content_path = \"../ml_1m/user_content_dict.pkl\"\n",
    "user_profile_yi_path = \"../ml_1m/user_profile_dict.pkl\"\n",
    "user_profile_mixtral_path = \"../ml_1m/user_profile_dict_mixtral.pkl\""
   ]
  },
  {
   "cell_type": "code",
   "execution_count": 5,
   "metadata": {},
   "outputs": [
    {
     "name": "stdout",
     "output_type": "stream",
     "text": [
      "User num = 6040\n"
     ]
    }
   ],
   "source": [
    "with open(user_content_path, 'rb') as f:\n",
    "    user_content_dict = pickle.load(f)\n",
    "with open(user_profile_yi_path, 'rb') as f1:\n",
    "    user_profile_yi = pickle.load(f1)\n",
    "with open(user_profile_mixtral_path, 'rb') as f2:\n",
    "    user_profile_mixtral = pickle.load(f2)\n",
    "\n",
    "print(f\"User num = {len(user_content_dict)}\")"
   ]
  },
  {
   "cell_type": "code",
   "execution_count": 7,
   "metadata": {},
   "outputs": [
    {
     "name": "stdout",
     "output_type": "stream",
     "text": [
      "User 1734 Content:\n",
      "Liked Movies:\n",
      "Godfather: Part III, The : The final installment of the iconic Godfather trilogy, filled with complex family dynamics, power struggles, and a haunting exploration of redemption.\n",
      "Groundhog Day : \"Groundhog Day is a charming and hilarious comedy about a weatherman stuck in a time loop, forced to relive the same day over and over again.\"\n",
      "Star Wars: Episode VI - Return of the Jedi : \"Return of the Jedi\" is a thrilling and satisfying conclusion to the original Star Wars trilogy, filled with epic battles, emotional reunions, and a redemption arc that leaves audiences satisfied.\n",
      "Raising Arizona : \"Raising Arizona is a quirky and hilarious comedy about a childless couple who kidnaps a baby, leading to a series of chaotic and absurd events.\"\n",
      "High Plains Drifter : High Plains Drifter is a gritty and atmospheric Western film directed by Clint Eastwood, featuring revenge, mystery, and supernatural elements.\n",
      "Magnolia : Magnolia (1999) is a sprawling, emotionally charged drama that weaves together multiple storylines to explore themes of chance, forgiveness, and redemption.\n",
      "Rocky IV : Rocky IV (1985) is a high-octane sports drama that pits Rocky Balboa against the formidable Soviet boxer Ivan Drago in a battle of strength, determination, and patriotism.\n",
      "Two Jakes, The : Two Jakes (1990) is a neo-noir mystery film directed by Jack Nicholson, serving as a sequel to Chinatown, exploring corruption and deceit in 1940s Los Angeles.\n",
      "Places in the Heart : \"Places in the Heart\" is a heartfelt drama set in 1930s Texas, exploring themes of resilience, community, and the power of love during challenging times.\n",
      "Godfather: Part II, The : The Godfather: Part II (1974) is a masterful sequel that delves deeper into the Corleone family's dark past and present, showcasing exceptional performances and storytelling.\n",
      "Network : \"Network\" is a gripping satire that explores the dark side of television, depicting a news anchor's descent into madness and the manipulation of media for profit.\n",
      "Citizen Kane : Citizen Kane, a masterpiece directed by Orson Welles, explores the rise and fall of a media tycoon through innovative storytelling techniques and stunning cinematography.\n",
      "Casablanca : Casablanca is a timeless classic set during World War II, filled with romance, intrigue, and unforgettable performances, making it a must-watch for any film lover.\n",
      "Conversation, The : \"The Conversation, a 1974 psychological thriller directed by Francis Ford Coppola, delves into the paranoia and moral dilemmas of a surveillance expert.\"\n",
      "Schindler's List : Schindler's List (1993) is a powerful and haunting portrayal of Oskar Schindler's efforts to save Jews during the Holocaust.\n",
      "\n",
      "Yi:\n",
      "User Profile: This individual has a profound appreciation for films that delve deep into human emotions, relationships, and societal issues. They enjoy stories that offer thought-provoking narratives and well-developed characters across various genres such as crime dramas, comedies, westerns, sci-fi epics, and historical tales. Their taste leans towards critically acclaimed classics and modern gems alike, demonstrating a discerning eye for cinematic excellence.\n",
      "Mixtral:\n",
      "\n",
      "            The user's preferred movie genres include drama, comedy, Western, neo-noir, and classic films. They have a taste for complex family dynamics, power struggles, and redemption arcs, as seen in The Godfather: Part III and Places in the Heart. The user also enjoys quirky and humorous comedies like Groundhog Day and Raising Arizona.\n",
      "            \n",
      "            In Westerns, they appreciate gritty and atmospheric films like High Plains Drifter, and in the neo-noir genre, they enjoy intricate mystery narratives like The Two Jakes. The user is drawn to emotionally charged dramas like Magnolia and Network, which tackle themes of chance, forgiveness, and redemption.\n",
      "            \n",
      "            Sci-fi and fantasy are not entirely absent from their preferences, as evidenced by their appreciation for the Star Wars saga and Rocky IV, which incorporates elements of science fiction.\n",
      "            \n",
      "            Classic films like Citizen Kane and Casablanca hold a special place in their preferences, showcasing their affinity for timeless stories and exceptional performances.\n",
      "            \n",
      "            The user tends to avoid movies with light-hearted or simple themes, instead gravitating towards complex narratives that explore deeper human emotions and experiences. They are drawn to movies that challenge societal norms and offer thought-provoking perspectives.\n"
     ]
    }
   ],
   "source": [
    "user_id = 1734\n",
    "print(f\"User {user_id} Content:\\n{user_content_dict[user_id]}\")\n",
    "print(f\"Yi:\\n{user_profile_yi[user_id]}\")\n",
    "print(f\"Mixtral:\\n{user_profile_mixtral[user_id]}\")"
   ]
  },
  {
   "cell_type": "code",
   "execution_count": 8,
   "metadata": {},
   "outputs": [
    {
     "name": "stdout",
     "output_type": "stream",
     "text": [
      "User 638 Content:\n",
      "Liked Movies:\n",
      "Star Wars: Episode VI - Return of the Jedi : \"Return of the Jedi\" is a thrilling and satisfying conclusion to the original Star Wars trilogy, filled with epic battles, emotional reunions, and a redemption arc that leaves audiences satisfied.\n",
      "Ghostbusters : \"Ghostbusters (1984) is a hilarious supernatural comedy about a group of eccentric scientists who start a ghost-catching business in New York City.\"\n",
      "Mummy, The : The Mummy (1999) is an action-packed adventure film that combines horror and humor, following a group of explorers battling an ancient mummy resurrected in Egypt.\n",
      "Nutty Professor, The : \"The Nutty Professor (1996) is a hilarious comedy where Eddie Murphy shines in multiple roles, delivering laughs and heart as a lovable but socially awkward professor.\"\n",
      "Conquest of the Planet of the Apes : \"Conquest of the Planet of the Apes (1972) is a thrilling sci-fi film that explores a dystopian future where intelligent apes rise up against their human oppressors.\"\n",
      "U-571 : U-571 is a gripping World War II thriller that follows an American submarine crew as they embark on a dangerous mission to capture a German U-boat.\n",
      "X-Men : X-Men (2000) is a thrilling superhero film that introduces the mutant world, blending action and drama as Professor Xavier's team battles Magneto's evil plans.\n",
      "Patriot, The : \"The Patriot (2000) is an epic historical drama set during the American Revolutionary War, showcasing Mel Gibson's intense performance as a reluctant hero fighting for freedom.\"\n",
      "Gladiator : \"Gladiator is an epic historical drama that combines breathtaking action, powerful performances, and a gripping story of revenge and redemption.\"\n",
      "Skulls, The : \"The Skulls (2000) is a suspenseful thriller that follows a college student who uncovers a secret society's dark secrets, leading to dangerous consequences.\"\n",
      "Any Given Sunday : \"Any Given Sunday is an intense and gritty sports drama that explores the cutthroat world of professional football, showcasing the highs and lows of the game.\"\n",
      "Final Destination : Final Destination (2000) is a thrilling horror film where a group of teenagers cheat death, only to be hunted down by an unseen force seeking balance.\n",
      "Disliked Movies:\n",
      "Friday the 13th Part V: A New Beginning : Friday the 13th Part V: A New Beginning (1985) continues the slasher franchise with a new killer terrorizing a halfway house, but lacks the suspense and originality of its predecessors.\n",
      "Baby Geniuses : \"Baby Geniuses (1999) is a poorly executed comedy that fails to deliver on its promising concept of talking babies.\"\n",
      "Magnolia : Magnolia (1999) is a sprawling, emotionally charged drama that weaves together multiple storylines to explore themes of chance, forgiveness, and redemption.\n",
      "\n",
      "Yi:\n",
      "Based on your preferences, you enjoy films that offer a mix of genres including science fiction, fantasy, thrillers, comedies, dramas, and even some documentaries. You appreciate well-executed plots, strong character development, and engaging storytelling across various categories. Your taste leans towards thought-provoking content rather than mindless entertainment. When it comes to visuals, you seem to favor high production value and cinematography that enhances the narrative experience. Additionally, you have shown interest in both classic franchises like Star Wars and newer releases from different decades. Overall, you appear to be someone who values quality over quantity when selecting movies to watch.\n",
      "Mixtral:\n",
      "\n",
      "            The user has a clear preference for action-packed, thrilling movies with a touch of humor and adventure. Their taste leans towards science fiction, superhero, and historical dramas, as evidenced by their appreciation for Star Wars: Episode VI - Return of the Jedi, X-Men, Gladiator, and Conquest of the Planet of the Apes. They enjoy movies that combine genres, such as the supernatural comedy Ghostbusters and the action-horror film The Mummy.\n",
      "            \n",
      "            The user also has a fondness for comedies, particularly those with strong performances and heartwarming stories, like The Nutty Professor and Any Given Sunday. Additionally, they are drawn to suspenseful thrillers, such as The Skulls and U-571, which keep them on the edge of their seat.\n",
      "            \n",
      "            On the other hand, the user tends to dislike movies that lack originality or fail to deliver on their premise. For instance, Friday the 13th Part V: A New Beginning and Baby Geniuses both received negative reviews due to their uninspired storylines and execution.\n",
      "            \n",
      "            Furthermore, the user seems to be less enthusiastic about complex, emotionally charged dramas like Magnolia, which may not resonate with their preference for more straightforward narratives and clear resolutions.\n"
     ]
    }
   ],
   "source": [
    "user_id = 638\n",
    "print(f\"User {user_id} Content:\\n{user_content_dict[user_id]}\")\n",
    "print(f\"Yi:\\n{user_profile_yi[user_id]}\")\n",
    "print(f\"Mixtral:\\n{user_profile_mixtral[user_id]}\")"
   ]
  },
  {
   "cell_type": "code",
   "execution_count": 9,
   "metadata": {},
   "outputs": [
    {
     "name": "stdout",
     "output_type": "stream",
     "text": [
      "User 3429 Content:\n",
      "Liked Movies:\n",
      "Mrs. Doubtfire : Mrs. Doubtfire is a heartwarming comedy about a divorced father who disguises himself as a British nanny to spend time with his children.\n",
      "Annie Hall : \"Annie Hall is a witty and introspective romantic comedy that explores the complexities of love, relationships, and the human condition.\"\n",
      "Omen, The : \"The Omen (1976) is a chilling horror film about a couple who discovers their adopted son may be the Antichrist, leading to terrifying consequences.\"\n",
      "Scream : \"Scream (1996) is a clever and self-aware slasher film that revitalized the genre with its meta-commentary and suspenseful plot twists.\"\n",
      "Corruptor, The : \"The Corruptor\" is a gritty crime thriller set in New York City, exploring the dangerous alliance between a rookie cop and a powerful Chinese gang.\n",
      "American Beauty : \"American Beauty is a thought-provoking drama that explores the dark underbelly of suburban life, filled with stunning performances and a hauntingly beautiful narrative.\"\n",
      "Walking and Talking : Walking and Talking (1996) is a witty and relatable indie comedy that explores the complexities of friendship, love, and growing up in New York City.\n",
      "Fight Club : \"Fight Club is a mind-bending, darkly humorous exploration of masculinity and consumerism, with an unforgettable twist that will leave you questioning reality.\"\n",
      "Being John Malkovich : \"Being John Malkovich is a mind-bending and surreal comedy that explores identity, obsession, and the blurred lines between reality and fantasy.\"\n",
      "Dangerous Liaisons : Dangerous Liaisons is a captivating period drama filled with deceit, manipulation, and seduction as two aristocrats engage in a dangerous game of love and betrayal.\n",
      "Insider, The : \"The Insider\" (1999) is a gripping drama based on true events, exploring the moral dilemma faced by a whistleblower exposing corruption in the tobacco industry.\n",
      "American Movie : \"American Movie\" is a captivating documentary that follows the passionate and often comical journey of an aspiring filmmaker trying to make his dream horror film a reality.\n",
      "Disliked Movies:\n",
      "Police Academy 2: Their First Assignment : \"Police Academy 2: Their First Assignment is a hilarious comedy sequel that follows a group of misfit police recruits as they tackle their first real assignment.\"\n",
      "Addiction, The : \"Addiction\" (1995) is a haunting and thought-provoking exploration of one woman's descent into drug addiction, featuring a mesmerizing performance by Lili Taylor.\n",
      "What Dreams May Come : \"What Dreams May Come\" is a visually stunning and emotionally gripping film that explores the afterlife and the power of love, starring Robin Williams in a mesmerizing performance.\n",
      "\n",
      "Yi:\n",
      "Based on your preferences for both liked and disliked films, it seems like you enjoy a wide range of genres but have specific tastes within them. You appreciate comedies that offer wit and depth, such as Annie Hall or American Movie, which also has elements of documentaries. When it comes to dramas, you favor stories that delve into complex issues of society, morality, and psychology, as seen in Fight Club, Being John Malkovich, and Addiction. Your taste in thrillers includes those with intense plots and realistic settings, like The Corrupter and Insidious. Horror films appeal to you when they combine scares with social commentary, as exemplified by Scream and The Omen. Period pieces like Dangerous Liaisions intrigue you due to their intricate character dynamics and historical context. Finally, you seem drawn to unconventional storytelling and cinematography that challenges traditional narratives, as found in What Dreams May Come. Overall, you appear to value innovative filmmaking, engaging characters, and thoughtful explorations of humanity across different eras and realities.\n",
      "Mixtral:\n",
      "\n",
      "            The user has a diverse taste in movies, with a preference for thought-provoking and complex narratives. They enjoy films that delve into the human condition, exploring themes such as love, relationships, and identity. Their liked movies include a mix of genres, from heartwarming comedies like \"Mrs. Doubtfire\" to introspective romantic comedies like \"Annie Hall,\" and from chilling horror films like \"The Omen\" to self-aware slasher films like \"Scream.\" They also appreciate gritty crime thrillers, such as \"The Corruptor,\" and visually stunning dramas like \"What Dreams May Come.\"\n",
      "            \n",
      "            On the other hand, the user is not a fan of mindless comedies or overly simplistic narratives. They tend to avoid movies that lack depth or substance, as evidenced by their dislike of \"Police Academy 2: Their First Assignment.\" They also seem to be less interested in movies that focus on superficial elements, such as special effects or action sequences, as seen in their dislike of \"What Dreams May Come.\"\n",
      "            \n",
      "            In summary, the user enjoys movies that offer complex and thought-provoking narratives, with a preference for themes related to the human condition. They appreciate films that explore love, relationships, and identity, and tend to avoid movies that lack depth or substance.\n"
     ]
    }
   ],
   "source": [
    "user_id = 3429\n",
    "print(f\"User {user_id} Content:\\n{user_content_dict[user_id]}\")\n",
    "print(f\"Yi:\\n{user_profile_yi[user_id]}\")\n",
    "print(f\"Mixtral:\\n{user_profile_mixtral[user_id]}\")"
   ]
  },
  {
   "cell_type": "code",
   "execution_count": null,
   "metadata": {},
   "outputs": [],
   "source": []
  }
 ],
 "metadata": {
  "kernelspec": {
   "display_name": "mixtral",
   "language": "python",
   "name": "python3"
  },
  "language_info": {
   "codemirror_mode": {
    "name": "ipython",
    "version": 3
   },
   "file_extension": ".py",
   "mimetype": "text/x-python",
   "name": "python",
   "nbconvert_exporter": "python",
   "pygments_lexer": "ipython3",
   "version": "3.9.18"
  }
 },
 "nbformat": 4,
 "nbformat_minor": 2
}
