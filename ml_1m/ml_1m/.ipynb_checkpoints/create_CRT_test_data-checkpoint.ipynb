{
 "cells": [
  {
   "cell_type": "code",
   "execution_count": 1,
   "id": "1fdcb59e-2190-4d25-8cec-5c5d88f0e9b4",
   "metadata": {},
   "outputs": [],
   "source": [
    "import pandas as pd\n",
    "import numpy as np\n",
    "import pickle"
   ]
  },
  {
   "cell_type": "code",
   "execution_count": 2,
   "id": "e1ec7902-6687-4354-b750-5622fd84b41b",
   "metadata": {},
   "outputs": [],
   "source": [
    "user_train_path = './train_valid_test/user_train.pkl'\n",
    "user_valid_path = './train_valid_test/user_valid.pkl'\n",
    "user_test_path = './train_valid_test/user_test.pkl'"
   ]
  },
  {
   "cell_type": "code",
   "execution_count": 3,
   "id": "4190ff88-5bb1-4a79-af34-dbdbef7e9e09",
   "metadata": {},
   "outputs": [],
   "source": [
    "with open(user_train_path, 'rb') as f:\n",
    "    user_train_dict = pickle.load(f)"
   ]
  },
  {
   "cell_type": "code",
   "execution_count": 4,
   "id": "766df856-2807-479d-90b7-03846d2b4526",
   "metadata": {},
   "outputs": [],
   "source": [
    "with open(user_valid_path, 'rb') as f:\n",
    "    user_valid_dict = pickle.load(f)"
   ]
  },
  {
   "cell_type": "code",
   "execution_count": 5,
   "id": "7ddc182f-116e-4b71-b38f-3fe8066bc395",
   "metadata": {},
   "outputs": [],
   "source": [
    "with open(user_test_path, 'rb') as f:\n",
    "    user_test_dict = pickle.load(f)"
   ]
  },
  {
   "cell_type": "code",
   "execution_count": 6,
   "id": "0319a153-89f7-4faa-a053-9cde8ba9d7ef",
   "metadata": {},
   "outputs": [
    {
     "data": {
      "text/html": [
       "<div>\n",
       "<style scoped>\n",
       "    .dataframe tbody tr th:only-of-type {\n",
       "        vertical-align: middle;\n",
       "    }\n",
       "\n",
       "    .dataframe tbody tr th {\n",
       "        vertical-align: top;\n",
       "    }\n",
       "\n",
       "    .dataframe thead th {\n",
       "        text-align: right;\n",
       "    }\n",
       "</style>\n",
       "<table border=\"1\" class=\"dataframe\">\n",
       "  <thead>\n",
       "    <tr style=\"text-align: right;\">\n",
       "      <th></th>\n",
       "      <th>user_id</th>\n",
       "      <th>movie_id</th>\n",
       "      <th>rating</th>\n",
       "    </tr>\n",
       "  </thead>\n",
       "  <tbody>\n",
       "    <tr>\n",
       "      <th>0</th>\n",
       "      <td>1</td>\n",
       "      <td>3186</td>\n",
       "      <td>4</td>\n",
       "    </tr>\n",
       "    <tr>\n",
       "      <th>1</th>\n",
       "      <td>1</td>\n",
       "      <td>1721</td>\n",
       "      <td>4</td>\n",
       "    </tr>\n",
       "    <tr>\n",
       "      <th>2</th>\n",
       "      <td>1</td>\n",
       "      <td>1022</td>\n",
       "      <td>5</td>\n",
       "    </tr>\n",
       "    <tr>\n",
       "      <th>3</th>\n",
       "      <td>1</td>\n",
       "      <td>1270</td>\n",
       "      <td>5</td>\n",
       "    </tr>\n",
       "    <tr>\n",
       "      <th>4</th>\n",
       "      <td>1</td>\n",
       "      <td>2340</td>\n",
       "      <td>3</td>\n",
       "    </tr>\n",
       "  </tbody>\n",
       "</table>\n",
       "</div>"
      ],
      "text/plain": [
       "   user_id  movie_id  rating\n",
       "0        1      3186       4\n",
       "1        1      1721       4\n",
       "2        1      1022       5\n",
       "3        1      1270       5\n",
       "4        1      2340       3"
      ]
     },
     "execution_count": 6,
     "metadata": {},
     "output_type": "execute_result"
    }
   ],
   "source": [
    "ratings_df = pd.read_csv('ratings.csv')\n",
    "ratings_df.head()"
   ]
  },
  {
   "cell_type": "code",
   "execution_count": 7,
   "id": "04773977-5fde-46f9-b6a5-575fa7a6ca26",
   "metadata": {},
   "outputs": [
    {
     "name": "stdout",
     "output_type": "stream",
     "text": [
      "[[1961, 2028, 3105, 938, 1962, 1035, 150, 2018, 1028, 1097, 914, 2797, 1287, 2762, 1246, 661, 2918, 531, 3114, 2791, 1029, 2321, 1197, 594, 2398, 1545, 527, 1, 588, 2687, 745, 595, 2294, 783, 2355, 1907]]\n",
      "[1566]\n",
      "[48]\n"
     ]
    }
   ],
   "source": [
    "user_id = 1\n",
    "print(user_train_dict[user_id])\n",
    "print(user_valid_dict[user_id])\n",
    "print(user_test_dict[user_id])"
   ]
  },
  {
   "cell_type": "code",
   "execution_count": null,
   "id": "940c5b0f-701c-4bbe-b896-6978d8f7a5e1",
   "metadata": {},
   "outputs": [],
   "source": []
  }
 ],
 "metadata": {
  "kernelspec": {
   "display_name": "Python 3 (ipykernel)",
   "language": "python",
   "name": "python3"
  },
  "language_info": {
   "codemirror_mode": {
    "name": "ipython",
    "version": 3
   },
   "file_extension": ".py",
   "mimetype": "text/x-python",
   "name": "python",
   "nbconvert_exporter": "python",
   "pygments_lexer": "ipython3",
   "version": "3.9.18"
  }
 },
 "nbformat": 4,
 "nbformat_minor": 5
}
