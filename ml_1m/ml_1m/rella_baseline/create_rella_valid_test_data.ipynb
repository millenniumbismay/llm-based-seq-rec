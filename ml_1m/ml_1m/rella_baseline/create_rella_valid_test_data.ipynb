{
 "cells": [
  {
   "cell_type": "code",
   "execution_count": 1,
   "id": "1adf3328-1917-4107-8fe3-9fcbb462e279",
   "metadata": {},
   "outputs": [],
   "source": [
    "import pickle\n",
    "import pandas as pd\n",
    "import numpy as np\n",
    "import os\n",
    "import time\n",
    "from dotenv import load_dotenv"
   ]
  },
  {
   "cell_type": "code",
   "execution_count": 2,
   "id": "04979962-6a86-4099-90a2-235a2f4b6f87",
   "metadata": {},
   "outputs": [],
   "source": [
    "from openai import OpenAI\n",
    "load_dotenv()\n",
    "client = OpenAI(\n",
    "    # This is the default and can be omitted\n",
    "    api_key=os.environ.get(\"OPENAI_API_KEY\"),\n",
    ")"
   ]
  },
  {
   "cell_type": "code",
   "execution_count": 3,
   "id": "d1515bab-14ca-4967-8d5e-f4e686707515",
   "metadata": {},
   "outputs": [],
   "source": [
    "user_train_path = '../train_valid_test/user_train.pkl'\n",
    "user_valid_path = '../train_valid_test/user_valid.pkl'\n",
    "user_test_path = '../train_valid_test/user_test.pkl'"
   ]
  },
  {
   "cell_type": "code",
   "execution_count": 4,
   "id": "f850e468-bf69-4b6d-8c71-f41a2af5f28b",
   "metadata": {},
   "outputs": [],
   "source": [
    "with open(user_train_path, 'rb') as f:\n",
    "    user_train_dict = pickle.load(f)"
   ]
  },
  {
   "cell_type": "code",
   "execution_count": 5,
   "id": "e15cf520-ecd1-492f-b990-5142bb43e6fc",
   "metadata": {},
   "outputs": [],
   "source": [
    "with open(user_valid_path, 'rb') as f:\n",
    "    user_valid_dict = pickle.load(f)"
   ]
  },
  {
   "cell_type": "code",
   "execution_count": 6,
   "id": "94bcf5f5-32d0-486c-869f-3ae21010a2fe",
   "metadata": {},
   "outputs": [],
   "source": [
    "with open(user_test_path, 'rb') as f:\n",
    "    user_test_dict = pickle.load(f)"
   ]
  },
  {
   "cell_type": "code",
   "execution_count": 9,
   "id": "905ab5e3-51d4-415c-a2b0-baed7f18de98",
   "metadata": {},
   "outputs": [
    {
     "name": "stdout",
     "output_type": "stream",
     "text": [
      "6040 [1022, 1270, 919, 938, 2018, 1028, 661, 3114, 1029, 2321, 1197, 594, 1, 588, 2687, 595, 2294, 783, 2355, 1907]\n"
     ]
    }
   ],
   "source": [
    "with open('./rella_dataset/sem_sim_valid.pkl', 'rb') as f:\n",
    "    user_sem_sim_valid_data = pickle.load(f)\n",
    "print(len(user_sem_sim_valid_data), user_sem_sim_valid_data[1])"
   ]
  },
  {
   "cell_type": "code",
   "execution_count": 7,
   "id": "bfeee13f-824e-4a59-8864-cadf3f8a10dc",
   "metadata": {},
   "outputs": [
    {
     "name": "stdout",
     "output_type": "stream",
     "text": [
      "6040 [1721, 1022, 919, 2018, 1028, 1246, 661, 531, 3114, 1029, 2321, 1197, 594, 1, 588, 2687, 595, 783, 1907, 1566]\n"
     ]
    }
   ],
   "source": [
    "with open('./rella_dataset/sem_sim_test.pkl', 'rb') as f:\n",
    "    user_sem_sim_test_data = pickle.load(f)\n",
    "print(len(user_sem_sim_test_data), user_sem_sim_test_data[1])"
   ]
  },
  {
   "cell_type": "code",
   "execution_count": 8,
   "id": "4c94a8f0-eb62-45bd-ada1-434a72c0de03",
   "metadata": {},
   "outputs": [
    {
     "name": "stdout",
     "output_type": "stream",
     "text": [
      "[[1961, 2028, 3105, 938, 1962, 1035, 150, 2018, 1028, 1097, 914, 2797, 1287, 2762, 1246, 661, 2918, 531, 3114, 2791, 1029, 2321, 1197, 594, 2398, 1545, 527, 1, 588, 2687, 745, 595, 2294, 783, 2355, 1907]]\n",
      "[1566]\n",
      "[48]\n"
     ]
    }
   ],
   "source": [
    "user_id = 1\n",
    "print(user_train_dict[user_id])\n",
    "print(user_valid_dict[user_id])\n",
    "print(user_test_dict[user_id])"
   ]
  },
  {
   "cell_type": "code",
   "execution_count": 9,
   "id": "5670b298-3f28-421a-a2b8-beb607bb180b",
   "metadata": {},
   "outputs": [
    {
     "data": {
      "text/plain": [
       "36"
      ]
     },
     "execution_count": 9,
     "metadata": {},
     "output_type": "execute_result"
    }
   ],
   "source": [
    "len(user_train_dict[user_id][0])"
   ]
  },
  {
   "cell_type": "code",
   "execution_count": 10,
   "id": "f01e1dfe-82fe-456f-a99a-d471308b9447",
   "metadata": {},
   "outputs": [
    {
     "name": "stdout",
     "output_type": "stream",
     "text": [
      "\n",
      "            The user has a diverse taste in movies, with a preference for thought-provoking and emotionally engaging films. They enjoy dramas that explore complex themes such as mental illness, racial injustice, and the meaning of life. The user is drawn to movies that challenge their perspective and provoke deep thought, often favoring those that tackle serious and mature subjects.\n",
      "            \n",
      "            In addition to dramas, the user also has a soft spot for classic Disney films, as evidenced by their fondness for Cinderella. They appreciate the enchanting storytelling and timeless charm of these animated tales.\n",
      "            \n",
      "            The user's taste in movies also extends to comedies, as seen in their appreciation for the hilarious antics of Wallace & Gromit and the dark humor of Fargo. They are also drawn to adventure films, as demonstrated by their love for Star Wars: Episode IV - A New Hope and Back to the Future.\n",
      "            \n",
      "            However, the user is not a fan of horror movies, as none are listed among their favorites. They also tend to avoid movies that are overly violent or graphic, preferring instead to focus on stories that are emotionally resonant and intellectually stimulating.\n",
      "            \n",
      "            Overall, the user's movie preferences reflect a deep appreciation for storytelling, character development, and thematic depth.\n"
     ]
    }
   ],
   "source": [
    "user_profile_path = '../user_profile/cleaned_user_profile_mixtral.pkl'\n",
    "with open(user_profile_path, 'rb') as f:\n",
    "    user_profile_dict = pickle.load(f)\n",
    "print(user_profile_dict[user_id])"
   ]
  },
  {
   "cell_type": "code",
   "execution_count": 11,
   "id": "35e60e15-35e4-456d-aef3-dc9a96f91d08",
   "metadata": {},
   "outputs": [
    {
     "data": {
      "text/html": [
       "<div>\n",
       "<style scoped>\n",
       "    .dataframe tbody tr th:only-of-type {\n",
       "        vertical-align: middle;\n",
       "    }\n",
       "\n",
       "    .dataframe tbody tr th {\n",
       "        vertical-align: top;\n",
       "    }\n",
       "\n",
       "    .dataframe thead th {\n",
       "        text-align: right;\n",
       "    }\n",
       "</style>\n",
       "<table border=\"1\" class=\"dataframe\">\n",
       "  <thead>\n",
       "    <tr style=\"text-align: right;\">\n",
       "      <th></th>\n",
       "      <th>movie_id</th>\n",
       "      <th>name</th>\n",
       "      <th>cleaned_genre</th>\n",
       "      <th>year</th>\n",
       "      <th>summary</th>\n",
       "    </tr>\n",
       "  </thead>\n",
       "  <tbody>\n",
       "    <tr>\n",
       "      <th>0</th>\n",
       "      <td>1</td>\n",
       "      <td>Toy Story</td>\n",
       "      <td>Animation,Children's,Comedy</td>\n",
       "      <td>1995</td>\n",
       "      <td>Toy Story is a groundbreaking animated film th...</td>\n",
       "    </tr>\n",
       "    <tr>\n",
       "      <th>1</th>\n",
       "      <td>2</td>\n",
       "      <td>Jumanji</td>\n",
       "      <td>Adventure,Children's,Fantasy</td>\n",
       "      <td>1995</td>\n",
       "      <td>\"Jumanji (1995) is a thrilling adventure film ...</td>\n",
       "    </tr>\n",
       "    <tr>\n",
       "      <th>2</th>\n",
       "      <td>3</td>\n",
       "      <td>Grumpier Old Men</td>\n",
       "      <td>Comedy,Romance</td>\n",
       "      <td>1995</td>\n",
       "      <td>\"Grumpier Old Men is a hilarious and heartwarm...</td>\n",
       "    </tr>\n",
       "    <tr>\n",
       "      <th>3</th>\n",
       "      <td>4</td>\n",
       "      <td>Waiting to Exhale</td>\n",
       "      <td>Comedy,Drama</td>\n",
       "      <td>1995</td>\n",
       "      <td>\"Waiting to Exhale\" (1995) is a heartfelt dram...</td>\n",
       "    </tr>\n",
       "    <tr>\n",
       "      <th>4</th>\n",
       "      <td>5</td>\n",
       "      <td>Father of the Bride Part II</td>\n",
       "      <td>Comedy</td>\n",
       "      <td>1995</td>\n",
       "      <td>Father of the Bride Part II (1995) is a heartw...</td>\n",
       "    </tr>\n",
       "  </tbody>\n",
       "</table>\n",
       "</div>"
      ],
      "text/plain": [
       "   movie_id                          name                 cleaned_genre  year  \\\n",
       "0         1                    Toy Story    Animation,Children's,Comedy  1995   \n",
       "1         2                      Jumanji   Adventure,Children's,Fantasy  1995   \n",
       "2         3             Grumpier Old Men                 Comedy,Romance  1995   \n",
       "3         4            Waiting to Exhale                   Comedy,Drama  1995   \n",
       "4         5  Father of the Bride Part II                         Comedy  1995   \n",
       "\n",
       "                                             summary  \n",
       "0  Toy Story is a groundbreaking animated film th...  \n",
       "1  \"Jumanji (1995) is a thrilling adventure film ...  \n",
       "2  \"Grumpier Old Men is a hilarious and heartwarm...  \n",
       "3  \"Waiting to Exhale\" (1995) is a heartfelt dram...  \n",
       "4  Father of the Bride Part II (1995) is a heartw...  "
      ]
     },
     "execution_count": 11,
     "metadata": {},
     "output_type": "execute_result"
    }
   ],
   "source": [
    "movie_summary_df = pd.read_csv('../movie_summary_25_words.csv')\n",
    "movie_summary_df.head()"
   ]
  },
  {
   "cell_type": "code",
   "execution_count": 12,
   "id": "a89db52d-5068-4c5e-8ffe-9634e31e7c88",
   "metadata": {},
   "outputs": [
    {
     "name": "stdout",
     "output_type": "stream",
     "text": [
      "     movie_id                                               name  \\\n",
      "262       265  Like Water for Chocolate (Como agua para choco...   \n",
      "\n",
      "     cleaned_genre  year                                            summary  \n",
      "262  Drama,Romance  1992  \"Like Water for Chocolate is a visually stunni...  \n"
     ]
    }
   ],
   "source": [
    "print(movie_summary_df[movie_summary_df['movie_id'] == 265])"
   ]
  },
  {
   "cell_type": "code",
   "execution_count": 13,
   "id": "a69d1d49-deac-473c-b2e8-eab752a23fbf",
   "metadata": {},
   "outputs": [
    {
     "data": {
      "text/html": [
       "<div>\n",
       "<style scoped>\n",
       "    .dataframe tbody tr th:only-of-type {\n",
       "        vertical-align: middle;\n",
       "    }\n",
       "\n",
       "    .dataframe tbody tr th {\n",
       "        vertical-align: top;\n",
       "    }\n",
       "\n",
       "    .dataframe thead th {\n",
       "        text-align: right;\n",
       "    }\n",
       "</style>\n",
       "<table border=\"1\" class=\"dataframe\">\n",
       "  <thead>\n",
       "    <tr style=\"text-align: right;\">\n",
       "      <th></th>\n",
       "      <th>user_id</th>\n",
       "      <th>user_profile</th>\n",
       "    </tr>\n",
       "  </thead>\n",
       "  <tbody>\n",
       "    <tr>\n",
       "      <th>0</th>\n",
       "      <td>1</td>\n",
       "      <td>female k-12 student under 18 years of age</td>\n",
       "    </tr>\n",
       "    <tr>\n",
       "      <th>1</th>\n",
       "      <td>2</td>\n",
       "      <td>male self-employed above 56 years of age</td>\n",
       "    </tr>\n",
       "    <tr>\n",
       "      <th>2</th>\n",
       "      <td>3</td>\n",
       "      <td>male scientist between 25 to 34 years of age</td>\n",
       "    </tr>\n",
       "    <tr>\n",
       "      <th>3</th>\n",
       "      <td>4</td>\n",
       "      <td>male executive/managerial between 45 to 49 yea...</td>\n",
       "    </tr>\n",
       "    <tr>\n",
       "      <th>4</th>\n",
       "      <td>5</td>\n",
       "      <td>male writer between 25 to 34 years of age</td>\n",
       "    </tr>\n",
       "  </tbody>\n",
       "</table>\n",
       "</div>"
      ],
      "text/plain": [
       "   user_id                                       user_profile\n",
       "0        1          female k-12 student under 18 years of age\n",
       "1        2           male self-employed above 56 years of age\n",
       "2        3       male scientist between 25 to 34 years of age\n",
       "3        4  male executive/managerial between 45 to 49 yea...\n",
       "4        5          male writer between 25 to 34 years of age"
      ]
     },
     "execution_count": 13,
     "metadata": {},
     "output_type": "execute_result"
    }
   ],
   "source": [
    "user_df = pd.read_csv('../users.csv')\n",
    "user_df.head()"
   ]
  },
  {
   "cell_type": "code",
   "execution_count": 14,
   "id": "b90be7ee-0d13-4180-b3f6-351ce3e0bf59",
   "metadata": {},
   "outputs": [
    {
     "data": {
      "text/html": [
       "<div>\n",
       "<style scoped>\n",
       "    .dataframe tbody tr th:only-of-type {\n",
       "        vertical-align: middle;\n",
       "    }\n",
       "\n",
       "    .dataframe tbody tr th {\n",
       "        vertical-align: top;\n",
       "    }\n",
       "\n",
       "    .dataframe thead th {\n",
       "        text-align: right;\n",
       "    }\n",
       "</style>\n",
       "<table border=\"1\" class=\"dataframe\">\n",
       "  <thead>\n",
       "    <tr style=\"text-align: right;\">\n",
       "      <th></th>\n",
       "      <th>user_id</th>\n",
       "      <th>movie_id</th>\n",
       "      <th>rating</th>\n",
       "    </tr>\n",
       "  </thead>\n",
       "  <tbody>\n",
       "    <tr>\n",
       "      <th>0</th>\n",
       "      <td>1</td>\n",
       "      <td>3186</td>\n",
       "      <td>4</td>\n",
       "    </tr>\n",
       "    <tr>\n",
       "      <th>1</th>\n",
       "      <td>1</td>\n",
       "      <td>1721</td>\n",
       "      <td>4</td>\n",
       "    </tr>\n",
       "    <tr>\n",
       "      <th>2</th>\n",
       "      <td>1</td>\n",
       "      <td>1022</td>\n",
       "      <td>5</td>\n",
       "    </tr>\n",
       "    <tr>\n",
       "      <th>3</th>\n",
       "      <td>1</td>\n",
       "      <td>1270</td>\n",
       "      <td>5</td>\n",
       "    </tr>\n",
       "    <tr>\n",
       "      <th>4</th>\n",
       "      <td>1</td>\n",
       "      <td>2340</td>\n",
       "      <td>3</td>\n",
       "    </tr>\n",
       "  </tbody>\n",
       "</table>\n",
       "</div>"
      ],
      "text/plain": [
       "   user_id  movie_id  rating\n",
       "0        1      3186       4\n",
       "1        1      1721       4\n",
       "2        1      1022       5\n",
       "3        1      1270       5\n",
       "4        1      2340       3"
      ]
     },
     "execution_count": 14,
     "metadata": {},
     "output_type": "execute_result"
    }
   ],
   "source": [
    "ratings_df = pd.read_csv('../ratings.csv')\n",
    "ratings_df.head()"
   ]
  },
  {
   "cell_type": "code",
   "execution_count": 19,
   "id": "ee319549-95eb-4e80-86b1-46bd4f02d065",
   "metadata": {},
   "outputs": [],
   "source": [
    "crt_sem_valid_zeroshot_dataset = dict()\n",
    "cnt = 0\n",
    "for user, user_profile in user_profile_dict.items():\n",
    "    cnt += 1\n",
    "    final_user_profile = \"The user is a \"+user_df[user_df['user_id'] == user]['user_profile'].values[0]+\"\\n\"\n",
    "    # print(final_user_profile)\n",
    "    prompt = final_user_profile\n",
    "    prompt += \"\"\"\n",
    "   User watched the following movies in the given order in the past and rated them -\n",
    "    \"\"\"\n",
    "    # print(prompt)\n",
    "    user_rating_dict = ratings_df[ratings_df['user_id'] == user]\n",
    "    # print(user_rating_dict)\n",
    "    liked_movies = []\n",
    "    disliked_movies = []\n",
    "\n",
    "    prompt += \"[\"\n",
    "    for movie in user_sem_sim_test_data[user]:\n",
    "        # print(movie)\n",
    "        user_movie_rating = user_rating_dict[user_rating_dict['movie_id'] == movie]['rating'].values[0]\n",
    "        # print(movie, user_movie_rating)\n",
    "        movie_details = movie_summary_df[movie_summary_df['movie_id'] == movie]\n",
    "        prompt += movie_details['name'].values[0] + \" (\" + str(movie_details['year'].values[0]) + \") (\" + str(user_movie_rating) + \" stars), \"\n",
    "    prompt += \"]\"\n",
    "\n",
    "    ### To predict\n",
    "    # print(user_valid_dict[user][0])\n",
    "    movie_details = movie_summary_df[movie_summary_df['movie_id'] == user_test_dict[user][0]]\n",
    "    prompt += f\"\"\"\n",
    "    Based on the movies he has watched, deduce if he will like the movie {movie_details['name'].values[0]} ({str(movie_details['year'].values[0])}). Note that more stars the user rated the movie, the user like the movie more.\n",
    "    You should ONLY tell me Yes or No in the following format -\n",
    "    Prediction: Yes or No\n",
    "    \"\"\"\n",
    "    # print(f\"Prompt length: {len(prompt.split())}\", prompt)\n",
    "    crt_sem_valid_zeroshot_dataset[user] = prompt\n",
    "    # break"
   ]
  },
  {
   "cell_type": "code",
   "execution_count": 20,
   "id": "1cace0cf-ef70-4a92-b4b0-c5511b411c95",
   "metadata": {},
   "outputs": [
    {
     "name": "stdout",
     "output_type": "stream",
     "text": [
      "6040\n"
     ]
    }
   ],
   "source": [
    "print(len(crt_sem_valid_zeroshot_dataset))"
   ]
  },
  {
   "cell_type": "code",
   "execution_count": 21,
   "id": "1778ac75-a508-471d-a340-1bf2ca70d29c",
   "metadata": {},
   "outputs": [
    {
     "data": {
      "text/plain": [
       "\"The user is a male executive/managerial above 56 years of age\\n\\n   User watched the following movies in the given order in the past and rated them -\\n    [Cape Fear  (1991) (4 stars), Lost World: Jurassic Park, The  (1997) (3 stars), Fatal Attraction  (1987) (4 stars), My Cousin Vinny  (1992) (4 stars), Backdraft  (1991) (4 stars), Washington Square  (1997) (5 stars), Schindler's List  (1993) (4 stars), American Beauty  (1999) (3 stars), Sling Blade  (1996) (5 stars), Thelma & Louise  (1991) (5 stars), Fugitive, The  (1993) (3 stars), Liberty Heights  (1999) (5 stars), Amistad  (1997) (4 stars), Some Folks Call It a Sling Blade  (1993) (5 stars), Limey, The  (1999) (4 stars), GoodFellas  (1990) (4 stars), Crying Game, The  (1992) (4 stars), Babe  (1995) (5 stars), Grifters, The  (1990) (5 stars), End of the Affair, The  (1999) (4 stars), ]\\n    Based on the movies he has watched, deduce if he will like the movie Boiler Room  (2000). Note that more stars the user rated the movie, the user like the movie more.\\n    You should ONLY tell me Yes or No in the following format -\\n    Prediction: Yes or No\\n    \""
      ]
     },
     "execution_count": 21,
     "metadata": {},
     "output_type": "execute_result"
    }
   ],
   "source": [
    "crt_sem_valid_zeroshot_dataset[124]"
   ]
  },
  {
   "cell_type": "code",
   "execution_count": 22,
   "id": "3796708a-deaa-4ee9-aaba-0ef996c7a5f8",
   "metadata": {},
   "outputs": [],
   "source": [
    "crt_sem_valid_zeroshot_dataset_path = './rella_dataset/rella_test_dataset.pkl'\n",
    "with open(crt_sem_valid_zeroshot_dataset_path, 'wb') as f:\n",
    "    pickle.dump(crt_sem_valid_zeroshot_dataset, f)\n",
    "    f.close()"
   ]
  },
  {
   "cell_type": "code",
   "execution_count": 37,
   "id": "3d04813f-70a9-44ef-a637-809c0d5f43c1",
   "metadata": {},
   "outputs": [],
   "source": [
    "# with open(crt_valid_zeroshot_dataset_path, 'rb') as f:\n",
    "#     crt_valid_zeroshot_dataset_temp = pickle.load(f)\n",
    "# print(len(crt_valid_zeroshot_dataset_temp), crt_valid_zeroshot_dataset_temp[1])"
   ]
  },
  {
   "cell_type": "code",
   "execution_count": 23,
   "id": "b304d4d8-8f0f-4650-9260-c0864bb95eef",
   "metadata": {},
   "outputs": [
    {
     "name": "stdout",
     "output_type": "stream",
     "text": [
      "The user is a female k-12 student under 18 years of age\n",
      "\n",
      "   User watched the following movies in the given order in the past and rated them -\n",
      "    [Titanic  (1997) (4 stars), Cinderella  (1950) (5 stars), Wizard of Oz, The  (1939) (4 stars), Bambi  (1942) (4 stars), Mary Poppins  (1964) (5 stars), Dead Poets Society  (1989) (4 stars), James and the Giant Peach  (1996) (3 stars), Secret Garden, The  (1993) (4 stars), Toy Story 2  (1999) (4 stars), Dumbo  (1941) (5 stars), Pleasantville  (1998) (3 stars), Princess Bride, The  (1987) (3 stars), Snow White and the Seven Dwarfs  (1937) (4 stars), Toy Story  (1995) (5 stars), Aladdin  (1992) (4 stars), Tarzan  (1999) (3 stars), Beauty and the Beast  (1991) (5 stars), Hunchback of Notre Dame, The  (1996) (4 stars), Mulan  (1998) (4 stars), Hercules  (1997) (4 stars), ]\n",
      "    Based on the movies he has watched, deduce if he will like the movie Pocahontas  (1995). Note that more stars the user rated the movie, the user like the movie more.\n",
      "    You should ONLY tell me Yes or No in the following format -\n",
      "    Prediction: Yes or No\n",
      "    \n",
      "****************************************************************************************************\n",
      "Prediction: Yes\n"
     ]
    },
    {
     "data": {
      "text/plain": [
       "2"
      ]
     },
     "execution_count": 23,
     "metadata": {},
     "output_type": "execute_result"
    }
   ],
   "source": [
    "content = prompt\n",
    "print(crt_sem_valid_zeroshot_dataset[1])\n",
    "print('*'*100)\n",
    "response = client.chat.completions.create(\n",
    "  model=\"gpt-3.5-turbo\",\n",
    "  messages=[\n",
    "    {\n",
    "      \"role\": \"user\",\n",
    "      \"content\": crt_sem_valid_zeroshot_dataset[1]\n",
    "    }\n",
    "  ],\n",
    "  temperature=0.1,\n",
    "  max_tokens=64,\n",
    "  top_p=0.9\n",
    ")\n",
    "\n",
    "response = response.choices[0].message.content\n",
    "print(response)\n",
    "len(response.split(' '))"
   ]
  },
  {
   "cell_type": "code",
   "execution_count": null,
   "id": "c920c05f-4c68-4208-86e0-7000aced1cc4",
   "metadata": {},
   "outputs": [],
   "source": []
  }
 ],
 "metadata": {
  "kernelspec": {
   "display_name": "Python 3 (ipykernel)",
   "language": "python",
   "name": "python3"
  },
  "language_info": {
   "codemirror_mode": {
    "name": "ipython",
    "version": 3
   },
   "file_extension": ".py",
   "mimetype": "text/x-python",
   "name": "python",
   "nbconvert_exporter": "python",
   "pygments_lexer": "ipython3",
   "version": "3.9.18"
  }
 },
 "nbformat": 4,
 "nbformat_minor": 5
}
