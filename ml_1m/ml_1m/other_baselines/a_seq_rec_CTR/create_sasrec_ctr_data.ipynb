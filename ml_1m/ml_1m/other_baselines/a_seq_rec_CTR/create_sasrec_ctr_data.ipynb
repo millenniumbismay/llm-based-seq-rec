{
 "cells": [
  {
   "cell_type": "code",
   "execution_count": 1,
   "id": "74d5d076-eb41-4c83-a098-84f0071206e5",
   "metadata": {},
   "outputs": [],
   "source": [
    "import pandas as pd\n",
    "import numpy as np\n",
    "import os\n",
    "import pickle\n",
    "import csv\n",
    "import json"
   ]
  },
  {
   "cell_type": "code",
   "execution_count": 4,
   "id": "3ad19d19-6921-42db-8bf4-48a0e845f55c",
   "metadata": {},
   "outputs": [],
   "source": [
    "user_train_path = '../../train_valid_test/user_train.pkl'\n",
    "user_valid_path = '../../train_valid_test/user_valid.pkl'\n",
    "user_test_path = '../../train_valid_test/user_test.pkl'"
   ]
  },
  {
   "cell_type": "code",
   "execution_count": 5,
   "id": "561af8e3-fc06-44ac-915f-06c680acf332",
   "metadata": {},
   "outputs": [],
   "source": [
    "with open(user_train_path, 'rb') as f:\n",
    "    user_train_dict = pickle.load(f)\n",
    "with open(user_valid_path, 'rb') as f:\n",
    "    user_valid_dict = pickle.load(f)\n",
    "with open(user_test_path, 'rb') as f:\n",
    "    user_test_dict = pickle.load(f)"
   ]
  },
  {
   "cell_type": "code",
   "execution_count": 6,
   "id": "d2b77886-e18f-42ce-8cc6-d0b49706372b",
   "metadata": {},
   "outputs": [
    {
     "name": "stdout",
     "output_type": "stream",
     "text": [
      "[[1961, 2028, 3105, 938, 1962, 1035, 150, 2018, 1028, 1097, 914, 2797, 1287, 2762, 1246, 661, 2918, 531, 3114, 2791, 1029, 2321, 1197, 594, 2398, 1545, 527, 1, 588, 2687, 745, 595, 2294, 783, 2355, 1907]]\n",
      "[1566]\n",
      "[48]\n"
     ]
    }
   ],
   "source": [
    "user_id = 1\n",
    "print(user_train_dict[user_id])\n",
    "print(user_valid_dict[user_id])\n",
    "print(user_test_dict[user_id])"
   ]
  },
  {
   "cell_type": "code",
   "execution_count": 7,
   "id": "740aabc7-8bd9-454e-b36d-a7c59add7fce",
   "metadata": {},
   "outputs": [
    {
     "data": {
      "text/plain": [
       "36"
      ]
     },
     "execution_count": 7,
     "metadata": {},
     "output_type": "execute_result"
    }
   ],
   "source": [
    "len(user_train_dict[user_id][0])"
   ]
  },
  {
   "cell_type": "code",
   "execution_count": 11,
   "id": "ee7bb6df-b915-4a6a-a144-e3e543830af5",
   "metadata": {},
   "outputs": [
    {
     "data": {
      "text/html": [
       "<div>\n",
       "<style scoped>\n",
       "    .dataframe tbody tr th:only-of-type {\n",
       "        vertical-align: middle;\n",
       "    }\n",
       "\n",
       "    .dataframe tbody tr th {\n",
       "        vertical-align: top;\n",
       "    }\n",
       "\n",
       "    .dataframe thead th {\n",
       "        text-align: right;\n",
       "    }\n",
       "</style>\n",
       "<table border=\"1\" class=\"dataframe\">\n",
       "  <thead>\n",
       "    <tr style=\"text-align: right;\">\n",
       "      <th></th>\n",
       "      <th>movie_id</th>\n",
       "      <th>name</th>\n",
       "      <th>cleaned_genre</th>\n",
       "      <th>year</th>\n",
       "      <th>summary</th>\n",
       "    </tr>\n",
       "  </thead>\n",
       "  <tbody>\n",
       "    <tr>\n",
       "      <th>0</th>\n",
       "      <td>1</td>\n",
       "      <td>Toy Story</td>\n",
       "      <td>Animation,Children's,Comedy</td>\n",
       "      <td>1995</td>\n",
       "      <td>Toy Story is a groundbreaking animated film th...</td>\n",
       "    </tr>\n",
       "    <tr>\n",
       "      <th>1</th>\n",
       "      <td>2</td>\n",
       "      <td>Jumanji</td>\n",
       "      <td>Adventure,Children's,Fantasy</td>\n",
       "      <td>1995</td>\n",
       "      <td>\"Jumanji (1995) is a thrilling adventure film ...</td>\n",
       "    </tr>\n",
       "    <tr>\n",
       "      <th>2</th>\n",
       "      <td>3</td>\n",
       "      <td>Grumpier Old Men</td>\n",
       "      <td>Comedy,Romance</td>\n",
       "      <td>1995</td>\n",
       "      <td>\"Grumpier Old Men is a hilarious and heartwarm...</td>\n",
       "    </tr>\n",
       "    <tr>\n",
       "      <th>3</th>\n",
       "      <td>4</td>\n",
       "      <td>Waiting to Exhale</td>\n",
       "      <td>Comedy,Drama</td>\n",
       "      <td>1995</td>\n",
       "      <td>\"Waiting to Exhale\" (1995) is a heartfelt dram...</td>\n",
       "    </tr>\n",
       "    <tr>\n",
       "      <th>4</th>\n",
       "      <td>5</td>\n",
       "      <td>Father of the Bride Part II</td>\n",
       "      <td>Comedy</td>\n",
       "      <td>1995</td>\n",
       "      <td>Father of the Bride Part II (1995) is a heartw...</td>\n",
       "    </tr>\n",
       "  </tbody>\n",
       "</table>\n",
       "</div>"
      ],
      "text/plain": [
       "   movie_id                          name                 cleaned_genre  year  \\\n",
       "0         1                    Toy Story    Animation,Children's,Comedy  1995   \n",
       "1         2                      Jumanji   Adventure,Children's,Fantasy  1995   \n",
       "2         3             Grumpier Old Men                 Comedy,Romance  1995   \n",
       "3         4            Waiting to Exhale                   Comedy,Drama  1995   \n",
       "4         5  Father of the Bride Part II                         Comedy  1995   \n",
       "\n",
       "                                             summary  \n",
       "0  Toy Story is a groundbreaking animated film th...  \n",
       "1  \"Jumanji (1995) is a thrilling adventure film ...  \n",
       "2  \"Grumpier Old Men is a hilarious and heartwarm...  \n",
       "3  \"Waiting to Exhale\" (1995) is a heartfelt dram...  \n",
       "4  Father of the Bride Part II (1995) is a heartw...  "
      ]
     },
     "execution_count": 11,
     "metadata": {},
     "output_type": "execute_result"
    }
   ],
   "source": [
    "movie_summary_df = pd.read_csv('../../movie_summary_25_words.csv')\n",
    "movie_summary_df.head()"
   ]
  },
  {
   "cell_type": "code",
   "execution_count": 12,
   "id": "c6000f35-43b6-4ad9-af86-9c2301f0eb40",
   "metadata": {},
   "outputs": [
    {
     "data": {
      "text/html": [
       "<div>\n",
       "<style scoped>\n",
       "    .dataframe tbody tr th:only-of-type {\n",
       "        vertical-align: middle;\n",
       "    }\n",
       "\n",
       "    .dataframe tbody tr th {\n",
       "        vertical-align: top;\n",
       "    }\n",
       "\n",
       "    .dataframe thead th {\n",
       "        text-align: right;\n",
       "    }\n",
       "</style>\n",
       "<table border=\"1\" class=\"dataframe\">\n",
       "  <thead>\n",
       "    <tr style=\"text-align: right;\">\n",
       "      <th></th>\n",
       "      <th>user_id</th>\n",
       "      <th>user_profile</th>\n",
       "    </tr>\n",
       "  </thead>\n",
       "  <tbody>\n",
       "    <tr>\n",
       "      <th>0</th>\n",
       "      <td>1</td>\n",
       "      <td>female k-12 student under 18 years of age</td>\n",
       "    </tr>\n",
       "    <tr>\n",
       "      <th>1</th>\n",
       "      <td>2</td>\n",
       "      <td>male self-employed above 56 years of age</td>\n",
       "    </tr>\n",
       "    <tr>\n",
       "      <th>2</th>\n",
       "      <td>3</td>\n",
       "      <td>male scientist between 25 to 34 years of age</td>\n",
       "    </tr>\n",
       "    <tr>\n",
       "      <th>3</th>\n",
       "      <td>4</td>\n",
       "      <td>male executive/managerial between 45 to 49 yea...</td>\n",
       "    </tr>\n",
       "    <tr>\n",
       "      <th>4</th>\n",
       "      <td>5</td>\n",
       "      <td>male writer between 25 to 34 years of age</td>\n",
       "    </tr>\n",
       "  </tbody>\n",
       "</table>\n",
       "</div>"
      ],
      "text/plain": [
       "   user_id                                       user_profile\n",
       "0        1          female k-12 student under 18 years of age\n",
       "1        2           male self-employed above 56 years of age\n",
       "2        3       male scientist between 25 to 34 years of age\n",
       "3        4  male executive/managerial between 45 to 49 yea...\n",
       "4        5          male writer between 25 to 34 years of age"
      ]
     },
     "execution_count": 12,
     "metadata": {},
     "output_type": "execute_result"
    }
   ],
   "source": [
    "user_df = pd.read_csv('../../users.csv')\n",
    "user_df.head()"
   ]
  },
  {
   "cell_type": "code",
   "execution_count": 13,
   "id": "3a96fdd0-8e06-436d-827b-d3f2ee8130d7",
   "metadata": {},
   "outputs": [
    {
     "data": {
      "text/html": [
       "<div>\n",
       "<style scoped>\n",
       "    .dataframe tbody tr th:only-of-type {\n",
       "        vertical-align: middle;\n",
       "    }\n",
       "\n",
       "    .dataframe tbody tr th {\n",
       "        vertical-align: top;\n",
       "    }\n",
       "\n",
       "    .dataframe thead th {\n",
       "        text-align: right;\n",
       "    }\n",
       "</style>\n",
       "<table border=\"1\" class=\"dataframe\">\n",
       "  <thead>\n",
       "    <tr style=\"text-align: right;\">\n",
       "      <th></th>\n",
       "      <th>user_id</th>\n",
       "      <th>movie_id</th>\n",
       "      <th>rating</th>\n",
       "    </tr>\n",
       "  </thead>\n",
       "  <tbody>\n",
       "    <tr>\n",
       "      <th>0</th>\n",
       "      <td>1</td>\n",
       "      <td>3186</td>\n",
       "      <td>4</td>\n",
       "    </tr>\n",
       "    <tr>\n",
       "      <th>1</th>\n",
       "      <td>1</td>\n",
       "      <td>1721</td>\n",
       "      <td>4</td>\n",
       "    </tr>\n",
       "    <tr>\n",
       "      <th>2</th>\n",
       "      <td>1</td>\n",
       "      <td>1022</td>\n",
       "      <td>5</td>\n",
       "    </tr>\n",
       "    <tr>\n",
       "      <th>3</th>\n",
       "      <td>1</td>\n",
       "      <td>1270</td>\n",
       "      <td>5</td>\n",
       "    </tr>\n",
       "    <tr>\n",
       "      <th>4</th>\n",
       "      <td>1</td>\n",
       "      <td>2340</td>\n",
       "      <td>3</td>\n",
       "    </tr>\n",
       "  </tbody>\n",
       "</table>\n",
       "</div>"
      ],
      "text/plain": [
       "   user_id  movie_id  rating\n",
       "0        1      3186       4\n",
       "1        1      1721       4\n",
       "2        1      1022       5\n",
       "3        1      1270       5\n",
       "4        1      2340       3"
      ]
     },
     "execution_count": 13,
     "metadata": {},
     "output_type": "execute_result"
    }
   ],
   "source": [
    "ratings_df = pd.read_csv('../../ratings.csv')\n",
    "ratings_df.head()"
   ]
  },
  {
   "cell_type": "markdown",
   "id": "b1e544e6-5af6-4a85-a0f4-7cbc5f3a5824",
   "metadata": {},
   "source": [
    "### Creating the SASRec CTR Data"
   ]
  },
  {
   "cell_type": "code",
   "execution_count": 48,
   "id": "66fa88a9-64d6-4463-a09e-ec5e45c4ddb1",
   "metadata": {},
   "outputs": [],
   "source": [
    "sasrec_train_dict = {\"user\": [],\"history_item_id\": [],\"history_rating\": [],\"item_id\": [],\"rating\": [], \"timestamp\": []}\n",
    "sasrec_valid_dict = {\"user\": [],\"history_item_id\": [],\"history_rating\": [],\"item_id\": [],\"rating\": [], \"timestamp\": []}\n",
    "sasrec_test_dict = {\"user\": [],\"history_item_id\": [],\"history_rating\": [],\"item_id\": [],\"rating\": [], \"timestamp\": []}\n",
    "user_list = list(user_train_dict.keys())\n",
    "\n",
    "cnt =  0\n",
    "for user in user_list:\n",
    "    # cnt += 1\n",
    "    # print(f\"User: {user}\")\n",
    "    \n",
    "    # sasrec_valid_dict['user'].append(user)\n",
    "    # sasrec_test_dict['user'].append(user)\n",
    "\n",
    "    user_rating_dict = ratings_df[ratings_df['user_id'] == user]\n",
    "    # print(f\"user_rating_dict: {user_rating_dict}\")\n",
    "\n",
    "    train_valid_test_movies = user_train_dict[user][0][-21:]\n",
    "    train_valid_test_movies.append(user_valid_dict[user][0])\n",
    "    train_valid_test_movies.append(user_test_dict[user][0])\n",
    "    # print(f\"All train_valid_test_movies: {train_valid_test_movies}\")\n",
    "\n",
    "    train_valid_test_ratings = []\n",
    "    for movie in train_valid_test_movies:\n",
    "        movie_rating = user_rating_dict[user_rating_dict['movie_id'] == movie]['rating'].values[0]\n",
    "        if movie_rating >= 3:\n",
    "            train_valid_test_ratings.append(1)\n",
    "        else:\n",
    "            train_valid_test_ratings.append(0)\n",
    "    # print(f\"All train_valid_test_ratings: {train_valid_test_ratings}\")\n",
    "\n",
    "    ### SASRec Train Data\n",
    "    sasrec_train_dict['user'].append(user)\n",
    "    sasrec_train_dict['history_item_id'].append(train_valid_test_movies[-23:-3])\n",
    "    sasrec_train_dict['history_rating'].append(train_valid_test_ratings[-23:-3])\n",
    "    sasrec_train_dict['item_id'].append(train_valid_test_movies[-3])\n",
    "    sasrec_train_dict['rating'].append(train_valid_test_ratings[-3])\n",
    "    sasrec_train_dict['timestamp'].append(0)\n",
    "\n",
    "    ### SASRec Valid Data\n",
    "    sasrec_valid_dict['user'].append(user)\n",
    "    sasrec_valid_dict['history_item_id'].append(train_valid_test_movies[-22:-2])\n",
    "    sasrec_valid_dict['history_rating'].append(train_valid_test_ratings[-22:-2])\n",
    "    sasrec_valid_dict['item_id'].append(train_valid_test_movies[-2])\n",
    "    sasrec_valid_dict['rating'].append(train_valid_test_ratings[-2])\n",
    "    sasrec_valid_dict['timestamp'].append(0)\n",
    "\n",
    "    ### SASRec Test Data\n",
    "    sasrec_test_dict['user'].append(user)\n",
    "    sasrec_test_dict['history_item_id'].append(train_valid_test_movies[-21:-1])\n",
    "    sasrec_test_dict['history_rating'].append(train_valid_test_ratings[-21:-1])\n",
    "    sasrec_test_dict['item_id'].append(train_valid_test_movies[-1])\n",
    "    sasrec_test_dict['rating'].append(train_valid_test_ratings[-1])\n",
    "    sasrec_test_dict['timestamp'].append(0)\n",
    "    # if cnt == 10:\n",
    "    #     break"
   ]
  },
  {
   "cell_type": "code",
   "execution_count": 49,
   "id": "2d23e481-429b-4b3d-bb65-62de820adf8d",
   "metadata": {},
   "outputs": [
    {
     "name": "stdout",
     "output_type": "stream",
     "text": [
      "sasrec_train_dict: 6040\n",
      "\n",
      "    sasrec_valid_dict: 6040\n",
      "\n",
      "    sasrec_test_dict: 6040\n",
      "\n",
      "    \n"
     ]
    }
   ],
   "source": [
    "print(f\"\"\"sasrec_train_dict: {len(sasrec_train_dict['user'])}\\n\n",
    "    sasrec_valid_dict: {len(sasrec_valid_dict['user'])}\\n\n",
    "    sasrec_test_dict: {len(sasrec_test_dict['user'])}\\n\n",
    "    \"\"\")"
   ]
  },
  {
   "cell_type": "markdown",
   "id": "7d71368a-eeea-4aa0-a283-171e47e5378e",
   "metadata": {},
   "source": [
    "### Saving files"
   ]
  },
  {
   "cell_type": "code",
   "execution_count": 50,
   "id": "d4ddde8d-dde0-4851-9b94-5f5917987d21",
   "metadata": {},
   "outputs": [],
   "source": [
    "def save_to_csv(path, data_dict):\n",
    "    with open(path, 'w+', newline='') as file:\n",
    "        writer = csv.DictWriter(file, fieldnames=data_dict.keys())\n",
    "        # Write header\n",
    "        writer.writeheader()\n",
    "        # Write data rows\n",
    "        for i in range(len(data_dict['user'])):\n",
    "            row = {key: data_dict[key][i] for key in data_dict.keys()}\n",
    "            writer.writerow(row)\n",
    "    print(\"CSV file created successfully.\")"
   ]
  },
  {
   "cell_type": "code",
   "execution_count": 51,
   "id": "f8f37e53-c420-47fd-a55d-76aedf44e0d6",
   "metadata": {},
   "outputs": [
    {
     "name": "stdout",
     "output_type": "stream",
     "text": [
      "CSV file created successfully.\n",
      "CSV file created successfully.\n",
      "CSV file created successfully.\n"
     ]
    }
   ],
   "source": [
    "train_data_path = './final_data/movie/train.csv'\n",
    "valid_data_path = './final_data/movie/valid.csv'\n",
    "test_data_path = './final_data/movie/test.csv'\n",
    "\n",
    "save_to_csv(train_data_path, sasrec_train_dict)\n",
    "save_to_csv(valid_data_path, sasrec_valid_dict)\n",
    "save_to_csv(test_data_path, sasrec_test_dict)"
   ]
  },
  {
   "cell_type": "markdown",
   "id": "a78b28aa-8db3-411e-b7e2-845080b67ec1",
   "metadata": {},
   "source": [
    "#### Getting unique number of items"
   ]
  },
  {
   "cell_type": "code",
   "execution_count": 52,
   "id": "abfcfb7b-a3a1-4753-9e64-75492029449f",
   "metadata": {},
   "outputs": [
    {
     "data": {
      "text/plain": [
       "3706"
      ]
     },
     "execution_count": 52,
     "metadata": {},
     "output_type": "execute_result"
    }
   ],
   "source": [
    "ratings_df.movie_id.nunique()"
   ]
  },
  {
   "cell_type": "code",
   "execution_count": null,
   "id": "61c77ff5-607f-4b62-8949-7f20b7192872",
   "metadata": {},
   "outputs": [],
   "source": []
  }
 ],
 "metadata": {
  "kernelspec": {
   "display_name": "Python 3 (ipykernel)",
   "language": "python",
   "name": "python3"
  },
  "language_info": {
   "codemirror_mode": {
    "name": "ipython",
    "version": 3
   },
   "file_extension": ".py",
   "mimetype": "text/x-python",
   "name": "python",
   "nbconvert_exporter": "python",
   "pygments_lexer": "ipython3",
   "version": "3.9.18"
  }
 },
 "nbformat": 4,
 "nbformat_minor": 5
}
