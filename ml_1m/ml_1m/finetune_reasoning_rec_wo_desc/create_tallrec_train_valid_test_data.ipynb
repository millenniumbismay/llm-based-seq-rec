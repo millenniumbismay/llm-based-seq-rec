{
 "cells": [
  {
   "cell_type": "code",
   "execution_count": 1,
   "id": "1adf3328-1917-4107-8fe3-9fcbb462e279",
   "metadata": {},
   "outputs": [],
   "source": [
    "import pickle\n",
    "import pandas as pd\n",
    "import numpy as np\n",
    "import os\n",
    "import time\n",
    "from dotenv import load_dotenv"
   ]
  },
  {
   "cell_type": "code",
   "execution_count": 2,
   "id": "04979962-6a86-4099-90a2-235a2f4b6f87",
   "metadata": {},
   "outputs": [],
   "source": [
    "from openai import OpenAI\n",
    "load_dotenv()\n",
    "client = OpenAI(\n",
    "    # This is the default and can be omitted\n",
    "    api_key=os.environ.get(\"OPENAI_API_KEY\"),\n",
    ")"
   ]
  },
  {
   "cell_type": "code",
   "execution_count": 3,
   "id": "d1515bab-14ca-4967-8d5e-f4e686707515",
   "metadata": {},
   "outputs": [],
   "source": [
    "user_train_path = '../train_valid_test/user_train.pkl'\n",
    "user_valid_path = '../train_valid_test/user_valid.pkl'\n",
    "user_test_path = '../train_valid_test/user_test.pkl'"
   ]
  },
  {
   "cell_type": "code",
   "execution_count": 4,
   "id": "f850e468-bf69-4b6d-8c71-f41a2af5f28b",
   "metadata": {},
   "outputs": [],
   "source": [
    "with open(user_train_path, 'rb') as f:\n",
    "    user_train_dict = pickle.load(f)"
   ]
  },
  {
   "cell_type": "code",
   "execution_count": 5,
   "id": "e15cf520-ecd1-492f-b990-5142bb43e6fc",
   "metadata": {},
   "outputs": [],
   "source": [
    "with open(user_valid_path, 'rb') as f:\n",
    "    user_valid_dict = pickle.load(f)"
   ]
  },
  {
   "cell_type": "code",
   "execution_count": 6,
   "id": "94bcf5f5-32d0-486c-869f-3ae21010a2fe",
   "metadata": {},
   "outputs": [],
   "source": [
    "with open(user_test_path, 'rb') as f:\n",
    "    user_test_dict = pickle.load(f)"
   ]
  },
  {
   "cell_type": "code",
   "execution_count": 7,
   "id": "4c94a8f0-eb62-45bd-ada1-434a72c0de03",
   "metadata": {},
   "outputs": [
    {
     "name": "stdout",
     "output_type": "stream",
     "text": [
      "[[1961, 2028, 3105, 938, 1962, 1035, 150, 2018, 1028, 1097, 914, 2797, 1287, 2762, 1246, 661, 2918, 531, 3114, 2791, 1029, 2321, 1197, 594, 2398, 1545, 527, 1, 588, 2687, 745, 595, 2294, 783, 2355, 1907]]\n",
      "[1566]\n",
      "[48]\n"
     ]
    }
   ],
   "source": [
    "user_id = 1\n",
    "print(user_train_dict[user_id])\n",
    "print(user_valid_dict[user_id])\n",
    "print(user_test_dict[user_id])"
   ]
  },
  {
   "cell_type": "code",
   "execution_count": 8,
   "id": "5670b298-3f28-421a-a2b8-beb607bb180b",
   "metadata": {},
   "outputs": [
    {
     "data": {
      "text/plain": [
       "36"
      ]
     },
     "execution_count": 8,
     "metadata": {},
     "output_type": "execute_result"
    }
   ],
   "source": [
    "len(user_train_dict[user_id][0])"
   ]
  },
  {
   "cell_type": "code",
   "execution_count": 9,
   "id": "f01e1dfe-82fe-456f-a99a-d471308b9447",
   "metadata": {},
   "outputs": [
    {
     "name": "stdout",
     "output_type": "stream",
     "text": [
      "\n",
      "            The user has a diverse taste in movies, with a preference for thought-provoking and emotionally engaging films. They enjoy dramas that explore complex themes such as mental illness, racial injustice, and the meaning of life. The user is drawn to movies that challenge their perspective and provoke deep thought, often favoring those that tackle serious and mature subjects.\n",
      "            \n",
      "            In addition to dramas, the user also has a soft spot for classic Disney films, as evidenced by their fondness for Cinderella. They appreciate the enchanting storytelling and timeless charm of these animated tales.\n",
      "            \n",
      "            The user's taste in movies also extends to comedies, as seen in their appreciation for the hilarious antics of Wallace & Gromit and the dark humor of Fargo. They are also drawn to adventure films, as demonstrated by their love for Star Wars: Episode IV - A New Hope and Back to the Future.\n",
      "            \n",
      "            However, the user is not a fan of horror movies, as none are listed among their favorites. They also tend to avoid movies that are overly violent or graphic, preferring instead to focus on stories that are emotionally resonant and intellectually stimulating.\n",
      "            \n",
      "            Overall, the user's movie preferences reflect a deep appreciation for storytelling, character development, and thematic depth.\n"
     ]
    }
   ],
   "source": [
    "user_profile_path = '../user_profile/cleaned_user_profile_mixtral.pkl'\n",
    "with open(user_profile_path, 'rb') as f:\n",
    "    user_profile_dict = pickle.load(f)\n",
    "print(user_profile_dict[user_id])"
   ]
  },
  {
   "cell_type": "code",
   "execution_count": 10,
   "id": "35e60e15-35e4-456d-aef3-dc9a96f91d08",
   "metadata": {},
   "outputs": [
    {
     "data": {
      "text/html": [
       "<div>\n",
       "<style scoped>\n",
       "    .dataframe tbody tr th:only-of-type {\n",
       "        vertical-align: middle;\n",
       "    }\n",
       "\n",
       "    .dataframe tbody tr th {\n",
       "        vertical-align: top;\n",
       "    }\n",
       "\n",
       "    .dataframe thead th {\n",
       "        text-align: right;\n",
       "    }\n",
       "</style>\n",
       "<table border=\"1\" class=\"dataframe\">\n",
       "  <thead>\n",
       "    <tr style=\"text-align: right;\">\n",
       "      <th></th>\n",
       "      <th>movie_id</th>\n",
       "      <th>name</th>\n",
       "      <th>cleaned_genre</th>\n",
       "      <th>year</th>\n",
       "      <th>summary</th>\n",
       "    </tr>\n",
       "  </thead>\n",
       "  <tbody>\n",
       "    <tr>\n",
       "      <th>0</th>\n",
       "      <td>1</td>\n",
       "      <td>Toy Story</td>\n",
       "      <td>Animation,Children's,Comedy</td>\n",
       "      <td>1995</td>\n",
       "      <td>Toy Story is a groundbreaking animated film th...</td>\n",
       "    </tr>\n",
       "    <tr>\n",
       "      <th>1</th>\n",
       "      <td>2</td>\n",
       "      <td>Jumanji</td>\n",
       "      <td>Adventure,Children's,Fantasy</td>\n",
       "      <td>1995</td>\n",
       "      <td>\"Jumanji (1995) is a thrilling adventure film ...</td>\n",
       "    </tr>\n",
       "    <tr>\n",
       "      <th>2</th>\n",
       "      <td>3</td>\n",
       "      <td>Grumpier Old Men</td>\n",
       "      <td>Comedy,Romance</td>\n",
       "      <td>1995</td>\n",
       "      <td>\"Grumpier Old Men is a hilarious and heartwarm...</td>\n",
       "    </tr>\n",
       "    <tr>\n",
       "      <th>3</th>\n",
       "      <td>4</td>\n",
       "      <td>Waiting to Exhale</td>\n",
       "      <td>Comedy,Drama</td>\n",
       "      <td>1995</td>\n",
       "      <td>\"Waiting to Exhale\" (1995) is a heartfelt dram...</td>\n",
       "    </tr>\n",
       "    <tr>\n",
       "      <th>4</th>\n",
       "      <td>5</td>\n",
       "      <td>Father of the Bride Part II</td>\n",
       "      <td>Comedy</td>\n",
       "      <td>1995</td>\n",
       "      <td>Father of the Bride Part II (1995) is a heartw...</td>\n",
       "    </tr>\n",
       "  </tbody>\n",
       "</table>\n",
       "</div>"
      ],
      "text/plain": [
       "   movie_id                          name                 cleaned_genre  year  \\\n",
       "0         1                    Toy Story    Animation,Children's,Comedy  1995   \n",
       "1         2                      Jumanji   Adventure,Children's,Fantasy  1995   \n",
       "2         3             Grumpier Old Men                 Comedy,Romance  1995   \n",
       "3         4            Waiting to Exhale                   Comedy,Drama  1995   \n",
       "4         5  Father of the Bride Part II                         Comedy  1995   \n",
       "\n",
       "                                             summary  \n",
       "0  Toy Story is a groundbreaking animated film th...  \n",
       "1  \"Jumanji (1995) is a thrilling adventure film ...  \n",
       "2  \"Grumpier Old Men is a hilarious and heartwarm...  \n",
       "3  \"Waiting to Exhale\" (1995) is a heartfelt dram...  \n",
       "4  Father of the Bride Part II (1995) is a heartw...  "
      ]
     },
     "execution_count": 10,
     "metadata": {},
     "output_type": "execute_result"
    }
   ],
   "source": [
    "movie_summary_df = pd.read_csv('../movie_summary_25_words.csv')\n",
    "movie_summary_df.head()"
   ]
  },
  {
   "cell_type": "code",
   "execution_count": 11,
   "id": "a89db52d-5068-4c5e-8ffe-9634e31e7c88",
   "metadata": {},
   "outputs": [
    {
     "name": "stdout",
     "output_type": "stream",
     "text": [
      "     movie_id                                               name  \\\n",
      "262       265  Like Water for Chocolate (Como agua para choco...   \n",
      "\n",
      "     cleaned_genre  year                                            summary  \n",
      "262  Drama,Romance  1992  \"Like Water for Chocolate is a visually stunni...  \n"
     ]
    }
   ],
   "source": [
    "print(movie_summary_df[movie_summary_df['movie_id'] == 265])"
   ]
  },
  {
   "cell_type": "code",
   "execution_count": 12,
   "id": "a69d1d49-deac-473c-b2e8-eab752a23fbf",
   "metadata": {},
   "outputs": [
    {
     "data": {
      "text/html": [
       "<div>\n",
       "<style scoped>\n",
       "    .dataframe tbody tr th:only-of-type {\n",
       "        vertical-align: middle;\n",
       "    }\n",
       "\n",
       "    .dataframe tbody tr th {\n",
       "        vertical-align: top;\n",
       "    }\n",
       "\n",
       "    .dataframe thead th {\n",
       "        text-align: right;\n",
       "    }\n",
       "</style>\n",
       "<table border=\"1\" class=\"dataframe\">\n",
       "  <thead>\n",
       "    <tr style=\"text-align: right;\">\n",
       "      <th></th>\n",
       "      <th>user_id</th>\n",
       "      <th>user_profile</th>\n",
       "    </tr>\n",
       "  </thead>\n",
       "  <tbody>\n",
       "    <tr>\n",
       "      <th>0</th>\n",
       "      <td>1</td>\n",
       "      <td>female k-12 student under 18 years of age</td>\n",
       "    </tr>\n",
       "    <tr>\n",
       "      <th>1</th>\n",
       "      <td>2</td>\n",
       "      <td>male self-employed above 56 years of age</td>\n",
       "    </tr>\n",
       "    <tr>\n",
       "      <th>2</th>\n",
       "      <td>3</td>\n",
       "      <td>male scientist between 25 to 34 years of age</td>\n",
       "    </tr>\n",
       "    <tr>\n",
       "      <th>3</th>\n",
       "      <td>4</td>\n",
       "      <td>male executive/managerial between 45 to 49 yea...</td>\n",
       "    </tr>\n",
       "    <tr>\n",
       "      <th>4</th>\n",
       "      <td>5</td>\n",
       "      <td>male writer between 25 to 34 years of age</td>\n",
       "    </tr>\n",
       "  </tbody>\n",
       "</table>\n",
       "</div>"
      ],
      "text/plain": [
       "   user_id                                       user_profile\n",
       "0        1          female k-12 student under 18 years of age\n",
       "1        2           male self-employed above 56 years of age\n",
       "2        3       male scientist between 25 to 34 years of age\n",
       "3        4  male executive/managerial between 45 to 49 yea...\n",
       "4        5          male writer between 25 to 34 years of age"
      ]
     },
     "execution_count": 12,
     "metadata": {},
     "output_type": "execute_result"
    }
   ],
   "source": [
    "user_df = pd.read_csv('../users.csv')\n",
    "user_df.head()"
   ]
  },
  {
   "cell_type": "code",
   "execution_count": 13,
   "id": "b90be7ee-0d13-4180-b3f6-351ce3e0bf59",
   "metadata": {},
   "outputs": [
    {
     "data": {
      "text/html": [
       "<div>\n",
       "<style scoped>\n",
       "    .dataframe tbody tr th:only-of-type {\n",
       "        vertical-align: middle;\n",
       "    }\n",
       "\n",
       "    .dataframe tbody tr th {\n",
       "        vertical-align: top;\n",
       "    }\n",
       "\n",
       "    .dataframe thead th {\n",
       "        text-align: right;\n",
       "    }\n",
       "</style>\n",
       "<table border=\"1\" class=\"dataframe\">\n",
       "  <thead>\n",
       "    <tr style=\"text-align: right;\">\n",
       "      <th></th>\n",
       "      <th>user_id</th>\n",
       "      <th>movie_id</th>\n",
       "      <th>rating</th>\n",
       "    </tr>\n",
       "  </thead>\n",
       "  <tbody>\n",
       "    <tr>\n",
       "      <th>0</th>\n",
       "      <td>1</td>\n",
       "      <td>3186</td>\n",
       "      <td>4</td>\n",
       "    </tr>\n",
       "    <tr>\n",
       "      <th>1</th>\n",
       "      <td>1</td>\n",
       "      <td>1721</td>\n",
       "      <td>4</td>\n",
       "    </tr>\n",
       "    <tr>\n",
       "      <th>2</th>\n",
       "      <td>1</td>\n",
       "      <td>1022</td>\n",
       "      <td>5</td>\n",
       "    </tr>\n",
       "    <tr>\n",
       "      <th>3</th>\n",
       "      <td>1</td>\n",
       "      <td>1270</td>\n",
       "      <td>5</td>\n",
       "    </tr>\n",
       "    <tr>\n",
       "      <th>4</th>\n",
       "      <td>1</td>\n",
       "      <td>2340</td>\n",
       "      <td>3</td>\n",
       "    </tr>\n",
       "  </tbody>\n",
       "</table>\n",
       "</div>"
      ],
      "text/plain": [
       "   user_id  movie_id  rating\n",
       "0        1      3186       4\n",
       "1        1      1721       4\n",
       "2        1      1022       5\n",
       "3        1      1270       5\n",
       "4        1      2340       3"
      ]
     },
     "execution_count": 13,
     "metadata": {},
     "output_type": "execute_result"
    }
   ],
   "source": [
    "ratings_df = pd.read_csv('../ratings.csv')\n",
    "ratings_df.head()"
   ]
  },
  {
   "cell_type": "code",
   "execution_count": 14,
   "id": "cb66bdea-2c69-435e-bb79-aa9c150e2c38",
   "metadata": {},
   "outputs": [
    {
     "name": "stdout",
     "output_type": "stream",
     "text": [
      "6040\n"
     ]
    }
   ],
   "source": [
    "train_data = []\n",
    "instruction = \"Given the user preference and unpreference, identify whether the user will like the target movie by answering \\\"Yes.\\\" or \\\"No.\\\".\"\n",
    "# print(instruction)\n",
    "cnt = 0\n",
    "for user, user_profile in user_profile_dict.items():\n",
    "    user_dict = dict()\n",
    "    user_dict[\"instruction\"] = instruction\n",
    "    cnt += 1\n",
    "    liked_movies = []\n",
    "    disliked_movies = []\n",
    "    user_rating_dict = ratings_df[ratings_df['user_id'] == user]\n",
    "    # print(user_rating_dict)\n",
    "    for movie in user_train_dict[user][0][-21:-1]:\n",
    "        # print(movie)\n",
    "        if user_rating_dict[user_rating_dict['movie_id'] == movie]['rating'].values[0] >= 3:\n",
    "            liked_movies.append(movie)\n",
    "        else:\n",
    "            disliked_movies.append(movie)\n",
    "    input = \"\"\n",
    "    if len(liked_movies) > 0:\n",
    "        input += \"\\nUser Preference:\"\n",
    "        for movie in liked_movies:\n",
    "            movie_details = movie_summary_df[movie_summary_df['movie_id'] == movie]\n",
    "            input += f\" \\\"{movie_details['name'].values[0]}({str(movie_details['year'].values[0])})\\\",\"\n",
    "    if len(disliked_movies) > 0:\n",
    "        input += \"\\nUser Unpreference:\"\n",
    "        for movie in disliked_movies:\n",
    "            movie_details = movie_summary_df[movie_summary_df['movie_id'] == movie]\n",
    "            input += f\"\\\"{movie_details['name'].values[0]}({str(movie_details['year'].values[0])})\\\",\"\n",
    "    movie_details = movie_summary_df[movie_summary_df['movie_id'] == user_train_dict[user][0][-1]]\n",
    "    input += f\"\\n Whether the user will like the target movie \\\"{movie_details['name'].values[0]}({str(movie_details['year'].values[0])})\\?\"\n",
    "    # print(input)\n",
    "    user_dict[\"input\"] = input\n",
    "    if user_rating_dict[user_rating_dict['movie_id'] == user_train_dict[user][0][-1]]['rating'].values[0] >= 3:\n",
    "        user_dict[\"output\"] = \"Yes.\"\n",
    "    else:\n",
    "        user_dict[\"output\"] = \"No.\"\n",
    "    train_data.append(user_dict)\n",
    "    # if cnt == 5:\n",
    "    #     print(train_data)\n",
    "    #     break\n",
    "print(len(train_data))"
   ]
  },
  {
   "cell_type": "code",
   "execution_count": 15,
   "id": "999e1f1d-54af-498a-9dee-4ad29706bb9c",
   "metadata": {},
   "outputs": [
    {
     "name": "stdout",
     "output_type": "stream",
     "text": [
      "6040\n"
     ]
    }
   ],
   "source": [
    "valid_data = []\n",
    "instruction = \"Given the user preference and unpreference, identify whether the user will like the target movie by answering \\\"Yes.\\\" or \\\"No.\\\".\"\n",
    "# print(instruction)\n",
    "cnt = 0\n",
    "for user, user_profile in user_profile_dict.items():\n",
    "    user_dict = dict()\n",
    "    user_dict[\"instruction\"] = instruction\n",
    "    cnt += 1\n",
    "    liked_movies = []\n",
    "    disliked_movies = []\n",
    "    user_rating_dict = ratings_df[ratings_df['user_id'] == user]\n",
    "    # print(user_rating_dict)\n",
    "    for movie in user_train_dict[user][0][-20:]:\n",
    "        # print(movie)\n",
    "        if user_rating_dict[user_rating_dict['movie_id'] == movie]['rating'].values[0] >= 3:\n",
    "            liked_movies.append(movie)\n",
    "        else:\n",
    "            disliked_movies.append(movie)\n",
    "    input = \"\"\n",
    "    if len(liked_movies) > 0:\n",
    "        input += \"\\nUser Preference:\"\n",
    "        for movie in liked_movies:\n",
    "            movie_details = movie_summary_df[movie_summary_df['movie_id'] == movie]\n",
    "            input += f\" \\\"{movie_details['name'].values[0]}({str(movie_details['year'].values[0])})\\\",\"\n",
    "    if len(disliked_movies) > 0:\n",
    "        input += \"\\nUser Unpreference:\"\n",
    "        for movie in disliked_movies:\n",
    "            movie_details = movie_summary_df[movie_summary_df['movie_id'] == movie]\n",
    "            input += f\"\\\"{movie_details['name'].values[0]}({str(movie_details['year'].values[0])})\\\",\"\n",
    "    \n",
    "    movie_details = movie_summary_df[movie_summary_df['movie_id'] == user_valid_dict[user][0]]\n",
    "    input += f\"\\n Whether the user will like the target movie \\\"{movie_details['name'].values[0]}({str(movie_details['year'].values[0])})\\?\"\n",
    "    # print(input)\n",
    "    user_dict[\"input\"] = input\n",
    "    if user_rating_dict[user_rating_dict['movie_id'] == user_valid_dict[user][0]]['rating'].values[0] >= 3:\n",
    "        user_dict[\"output\"] = \"Yes.\"\n",
    "    else:\n",
    "        user_dict[\"output\"] = \"No.\"\n",
    "    valid_data.append(user_dict)\n",
    "    # if cnt == 5:\n",
    "    #     print(valid_data)\n",
    "    #     break\n",
    "print(len(valid_data))"
   ]
  },
  {
   "cell_type": "code",
   "execution_count": 16,
   "id": "28645d1b-762f-44db-ba23-31763ffc118b",
   "metadata": {},
   "outputs": [
    {
     "name": "stdout",
     "output_type": "stream",
     "text": [
      "{'instruction': 'Given the user preference and unpreference, identify whether the user will like the target movie by answering \"Yes.\" or \"No.\".', 'input': '\\nUser Preference: \"People vs. Larry Flynt, The (1996)\", \"Cider House Rules, The (1999)\", \"JFK (1991)\", \"Dances with Wolves (1990)\", \"Private Parts (1997)\", \"Amistad (1997)\", \"Outbreak (1995)\", \"Life and Times of Hank Greenberg, The (1998)\", \"Remember the Titans (2000)\", \"Amadeus (1984)\", \"Right Stuff, The (1983)\", \"Roger & Me (1989)\", \"When Harry Met Sally... (1989)\", \"Do the Right Thing (1989)\", \"Local Hero (1983)\", \"Moonstruck (1987)\", \"Fish Called Wanda, A (1988)\", \"She\\'s Gotta Have It (1986)\",\\nUser Unpreference:\"Horse Whisperer, The (1998)\",\"Any Given Sunday (1999)\",\\n Whether the user will like the target movie \"Thin Blue Line, The (1988)\\\\?', 'output': 'Yes.'}\n",
      "{'instruction': 'Given the user preference and unpreference, identify whether the user will like the target movie by answering \"Yes.\" or \"No.\".', 'input': '\\nUser Preference: \"Cider House Rules, The (1999)\", \"JFK (1991)\", \"Dances with Wolves (1990)\", \"Private Parts (1997)\", \"Amistad (1997)\", \"Outbreak (1995)\", \"Life and Times of Hank Greenberg, The (1998)\", \"Remember the Titans (2000)\", \"Amadeus (1984)\", \"Right Stuff, The (1983)\", \"Roger & Me (1989)\", \"When Harry Met Sally... (1989)\", \"Do the Right Thing (1989)\", \"Local Hero (1983)\", \"Moonstruck (1987)\", \"Fish Called Wanda, A (1988)\", \"She\\'s Gotta Have It (1986)\", \"Thin Blue Line, The (1988)\",\\nUser Unpreference:\"Horse Whisperer, The (1998)\",\"Any Given Sunday (1999)\",\\n Whether the user will like the target movie \"Big Chill, The (1983)\\\\?', 'output': 'Yes.'}\n"
     ]
    }
   ],
   "source": [
    "print(train_data[5])\n",
    "print(valid_data[5])"
   ]
  },
  {
   "cell_type": "code",
   "execution_count": 17,
   "id": "ef2cea93-4fe8-4043-816c-c897568b30f1",
   "metadata": {},
   "outputs": [
    {
     "name": "stdout",
     "output_type": "stream",
     "text": [
      "6040\n"
     ]
    }
   ],
   "source": [
    "test_data = []\n",
    "instruction = \"Given the user preference and unpreference, identify whether the user will like the target movie by answering \\\"Yes.\\\" or \\\"No.\\\".\"\n",
    "# print(instruction)\n",
    "cnt = 0\n",
    "for user, user_profile in user_profile_dict.items():\n",
    "    user_dict = dict()\n",
    "    user_dict[\"instruction\"] = instruction\n",
    "    cnt += 1\n",
    "    liked_movies = []\n",
    "    disliked_movies = []\n",
    "    user_rating_dict = ratings_df[ratings_df['user_id'] == user]\n",
    "    # print(user_rating_dict)\n",
    "    movie_history = user_train_dict[user][0][-19:]\n",
    "    movie_history.append(user_valid_dict[user][0])\n",
    "    # print(\"Movie History Length: \",len(movie_history))\n",
    "    for movie in movie_history:\n",
    "        # print(movie)\n",
    "        if user_rating_dict[user_rating_dict['movie_id'] == movie]['rating'].values[0] >= 3:\n",
    "            liked_movies.append(movie)\n",
    "        else:\n",
    "            disliked_movies.append(movie)\n",
    "    input = \"\"\n",
    "    if len(liked_movies) > 0:\n",
    "        input += \"\\nUser Preference:\"\n",
    "        for movie in liked_movies:\n",
    "            movie_details = movie_summary_df[movie_summary_df['movie_id'] == movie]\n",
    "            input += f\" \\\"{movie_details['name'].values[0]}({str(movie_details['year'].values[0])})\\\",\"\n",
    "    if len(disliked_movies) > 0:\n",
    "        input += \"\\nUser Unpreference:\"\n",
    "        for movie in disliked_movies:\n",
    "            movie_details = movie_summary_df[movie_summary_df['movie_id'] == movie]\n",
    "            input += f\"\\\"{movie_details['name'].values[0]}({str(movie_details['year'].values[0])})\\\",\"\n",
    "    \n",
    "    movie_details = movie_summary_df[movie_summary_df['movie_id'] == user_test_dict[user][0]]\n",
    "    input += f\"\\n Whether the user will like the target movie \\\"{movie_details['name'].values[0]}({str(movie_details['year'].values[0])})\\?\"\n",
    "    # print(input)\n",
    "    user_dict[\"input\"] = input\n",
    "    if user_rating_dict[user_rating_dict['movie_id'] == user_test_dict[user][0]]['rating'].values[0] >= 3:\n",
    "        user_dict[\"output\"] = \"Yes.\"\n",
    "    else:\n",
    "        user_dict[\"output\"] = \"No.\"\n",
    "    test_data.append(user_dict)\n",
    "    # if cnt == 1:\n",
    "    #     print(test_data)\n",
    "    #     break\n",
    "print(len(test_data))"
   ]
  },
  {
   "cell_type": "code",
   "execution_count": 18,
   "id": "83a870ec-945f-4f58-b6bf-dc13a1cefb97",
   "metadata": {},
   "outputs": [
    {
     "name": "stdout",
     "output_type": "stream",
     "text": [
      "6040\n",
      "6040\n",
      "6040\n"
     ]
    }
   ],
   "source": [
    "print(len(train_data))\n",
    "print(len(valid_data))\n",
    "print(len(test_data))"
   ]
  },
  {
   "cell_type": "code",
   "execution_count": 19,
   "id": "1778ac75-a508-471d-a340-1bf2ca70d29c",
   "metadata": {},
   "outputs": [
    {
     "name": "stdout",
     "output_type": "stream",
     "text": [
      "{'instruction': 'Given the user preference and unpreference, identify whether the user will like the target movie by answering \"Yes.\" or \"No.\".', 'input': '\\nUser Preference: \"James and the Giant Peach (1996)\", \"Ferris Bueller\\'s Day Off (1986)\", \"Secret Garden, The (1993)\", \"Toy Story 2 (1999)\", \"Airplane! (1980)\", \"Dumbo (1941)\", \"Pleasantville (1998)\", \"Princess Bride, The (1987)\", \"Snow White and the Seven Dwarfs (1937)\", \"Miracle on 34th Street (1947)\", \"Ponette (1996)\", \"Schindler\\'s List (1993)\", \"Toy Story (1995)\", \"Aladdin (1992)\", \"Tarzan (1999)\", \"Close Shave, A (1995)\", \"Beauty and the Beast (1991)\", \"Antz (1998)\", \"Hunchback of Notre Dame, The (1996)\", \"Bug\\'s Life, A (1998)\",\\n Whether the user will like the target movie \"Mulan (1998)\\\\?', 'output': 'Yes.'}\n",
      "{'instruction': 'Given the user preference and unpreference, identify whether the user will like the target movie by answering \"Yes.\" or \"No.\".', 'input': '\\nUser Preference: \"Ferris Bueller\\'s Day Off (1986)\", \"Secret Garden, The (1993)\", \"Toy Story 2 (1999)\", \"Airplane! (1980)\", \"Dumbo (1941)\", \"Pleasantville (1998)\", \"Princess Bride, The (1987)\", \"Snow White and the Seven Dwarfs (1937)\", \"Miracle on 34th Street (1947)\", \"Ponette (1996)\", \"Schindler\\'s List (1993)\", \"Toy Story (1995)\", \"Aladdin (1992)\", \"Tarzan (1999)\", \"Close Shave, A (1995)\", \"Beauty and the Beast (1991)\", \"Antz (1998)\", \"Hunchback of Notre Dame, The (1996)\", \"Bug\\'s Life, A (1998)\", \"Mulan (1998)\",\\n Whether the user will like the target movie \"Hercules (1997)\\\\?', 'output': 'Yes.'}\n",
      "{'instruction': 'Given the user preference and unpreference, identify whether the user will like the target movie by answering \"Yes.\" or \"No.\".', 'input': '\\nUser Preference: \"Secret Garden, The (1993)\", \"Toy Story 2 (1999)\", \"Airplane! (1980)\", \"Dumbo (1941)\", \"Pleasantville (1998)\", \"Princess Bride, The (1987)\", \"Snow White and the Seven Dwarfs (1937)\", \"Miracle on 34th Street (1947)\", \"Ponette (1996)\", \"Schindler\\'s List (1993)\", \"Toy Story (1995)\", \"Aladdin (1992)\", \"Tarzan (1999)\", \"Close Shave, A (1995)\", \"Beauty and the Beast (1991)\", \"Antz (1998)\", \"Hunchback of Notre Dame, The (1996)\", \"Bug\\'s Life, A (1998)\", \"Mulan (1998)\", \"Hercules (1997)\",\\n Whether the user will like the target movie \"Pocahontas (1995)\\\\?', 'output': 'Yes.'}\n"
     ]
    }
   ],
   "source": [
    "print(train_data[0])\n",
    "print(valid_data[0])\n",
    "print(test_data[0])"
   ]
  },
  {
   "cell_type": "code",
   "execution_count": 20,
   "id": "31734bd3-2dc6-4ecd-8e18-b78c8cfee039",
   "metadata": {},
   "outputs": [
    {
     "name": "stdout",
     "output_type": "stream",
     "text": [
      "12080 [{'instruction': 'Given the user preference and unpreference, identify whether the user will like the target movie by answering \"Yes.\" or \"No.\".', 'input': '\\nUser Preference: \"James and the Giant Peach (1996)\", \"Ferris Bueller\\'s Day Off (1986)\", \"Secret Garden, The (1993)\", \"Toy Story 2 (1999)\", \"Airplane! (1980)\", \"Dumbo (1941)\", \"Pleasantville (1998)\", \"Princess Bride, The (1987)\", \"Snow White and the Seven Dwarfs (1937)\", \"Miracle on 34th Street (1947)\", \"Ponette (1996)\", \"Schindler\\'s List (1993)\", \"Toy Story (1995)\", \"Aladdin (1992)\", \"Tarzan (1999)\", \"Close Shave, A (1995)\", \"Beauty and the Beast (1991)\", \"Antz (1998)\", \"Hunchback of Notre Dame, The (1996)\", \"Bug\\'s Life, A (1998)\",\\n Whether the user will like the target movie \"Mulan (1998)\\\\?', 'output': 'Yes.'}, {'instruction': 'Given the user preference and unpreference, identify whether the user will like the target movie by answering \"Yes.\" or \"No.\".', 'input': '\\nUser Preference: \"Terminator, The (1984)\", \"Winnie the Pooh and the Blustery Day (1968)\", \"Sound of Music, The (1965)\", \"Boat, The (Das Boot) (1981)\", \"Never Cry Wolf (1983)\", \"Schindler\\'s List (1993)\", \"Being There (1979)\", \"Cinderella (1950)\", \"Peter Pan (1953)\", \"Ghostbusters II (1989)\", \"My Favorite Martian (1999)\", \"Lost in Space (1998)\", \"Battlefield Earth (2000)\", \"Mixed Nuts (1994)\", \"Robin Hood (1973)\", \"Good Earth, The (1937)\", \"Beauty and the Beast (1991)\", \"Citizen Kane (1941)\", \"Good Will Hunting (1997)\", \"High Noon (1952)\",\\n Whether the user will like the target movie \"Godfather: Part II, The (1974)\\\\?', 'output': 'Yes.'}, {'instruction': 'Given the user preference and unpreference, identify whether the user will like the target movie by answering \"Yes.\" or \"No.\".', 'input': '\\nUser Preference: \"Outbreak (1995)\", \"Jewel of the Nile, The (1985)\", \"Rocky II (1979)\", \"Star Trek: The Motion Picture (1979)\", \"Star Trek V: The Final Frontier (1989)\", \"Lost World: Jurassic Park, The (1997)\", \"King Kong (1976)\", \"Bodyguard, The (1992)\", \"Cutthroat Island (1995)\", \"Silence of the Lambs, The (1991)\", \"Schindler\\'s List (1993)\", \"Shawshank Redemption, The (1994)\", \"2001: A Space Odyssey (1968)\", \"Fargo (1996)\", \"GoodFellas (1990)\",\\nUser Unpreference:\"Earthquake (1974)\",\"Waterworld (1995)\",\"Red Dawn (1984)\",\"Batman & Robin (1997)\",\"Anaconda (1997)\",\\n Whether the user will like the target movie \"Wizard of Oz, The (1939)\\\\?', 'output': 'Yes.'}]\n",
      "6040 6040 6040\n"
     ]
    }
   ],
   "source": [
    "train_valid_data = train_data.copy()\n",
    "train_valid_data.extend(valid_data)\n",
    "print(len(train_valid_data), train_valid_data[:3])\n",
    "print(len(train_data), len(valid_data), len(test_data))"
   ]
  },
  {
   "cell_type": "markdown",
   "id": "3103072d-85c2-4bea-93cf-e4805917f4d9",
   "metadata": {},
   "source": [
    "### Train Valid split 70:30"
   ]
  },
  {
   "cell_type": "code",
   "execution_count": 22,
   "id": "8e23602f-f910-4237-a501-4d6514ceb3b2",
   "metadata": {},
   "outputs": [
    {
     "name": "stdout",
     "output_type": "stream",
     "text": [
      "8456\n"
     ]
    }
   ],
   "source": [
    "import random\n",
    "random_seed = 42\n",
    "random.seed(random_seed)\n",
    "random.shuffle(train_valid_data)\n",
    "\n",
    "train_valid_split = 0.7\n",
    "split_index = int(train_valid_split*len(train_valid_data))\n",
    "print(split_index)"
   ]
  },
  {
   "cell_type": "code",
   "execution_count": 23,
   "id": "053e586a-6c42-491b-80a3-93e23b77060b",
   "metadata": {},
   "outputs": [
    {
     "name": "stdout",
     "output_type": "stream",
     "text": [
      "Train Data:  8456 [{'instruction': 'Given the user preference and unpreference, identify whether the user will like the target movie by answering \"Yes.\" or \"No.\".', 'input': '\\nUser Preference: \"Papillon (1973)\", \"Buddy Holly Story, The (1978)\", \"Klute (1971)\", \"Kramer Vs. Kramer (1979)\", \"Rocky (1976)\", \"Way We Were, The (1973)\", \"Midnight Express (1978)\", \"Candidate, The (1972)\", \"Last Detail, The (1973)\", \"Carnal Knowledge (1971)\", \"Tin Drum, The (Blechtrommel, Die) (1979)\", \"...And Justice for All (1979)\", \"Coming Home (1978)\", \"Death Wish (1974)\", \"Towering Inferno, The (1974)\", \"Rocky II (1979)\", \"North Dallas Forty (1979)\", \"Airport (1970)\", \"Airport 1975 (1974)\", \"Airport \\'77 (1977)\",\\n Whether the user will like the target movie \"Concorde: Airport \\'79, The (1979)\\\\?', 'output': 'Yes.'}, {'instruction': 'Given the user preference and unpreference, identify whether the user will like the target movie by answering \"Yes.\" or \"No.\".', 'input': '\\nUser Preference: \"Donnie Brasco (1997)\", \"Gladiator (2000)\", \"Fly, The (1958)\", \"Men in Black (1997)\", \"Jurassic Park (1993)\", \"Shanghai Noon (2000)\", \"Center Stage (2000)\", \"Patriot, The (2000)\", \"Frequency (2000)\", \"Grumpy Old Men (1993)\", \"Legends of the Fall (1994)\", \"Voyage to the Bottom of the Sea (1961)\", \"Grumpier Old Men (1995)\", \"Mission: Impossible (1996)\",\\nUser Unpreference:\"Magnolia (1999)\",\"Mission to Mars (2000)\",\\n Whether the user will like the target movie \"As Good As It Gets (1997)\\\\?', 'output': 'Yes.'}, {'instruction': 'Given the user preference and unpreference, identify whether the user will like the target movie by answering \"Yes.\" or \"No.\".', 'input': '\\nUser Preference: \"Cape Fear (1991)\", \"Fugitive, The (1993)\", \"Indecent Proposal (1993)\", \"Raiders of the Lost Ark (1981)\", \"Seven Days in May (1964)\", \"Raging Bull (1980)\", \"Godfather, The (1972)\", \"Princess Bride, The (1987)\", \"Silence of the Lambs, The (1991)\", \"Nightmare on Elm Street, A (1984)\", \"Phenomenon (1996)\", \"Monty Python and the Holy Grail (1974)\", \"War of the Worlds, The (1953)\", \"Game, The (1997)\", \"Running Scared (1986)\",\\nUser Unpreference:\"Sense and Sensibility (1995)\",\"Clockwork Orange, A (1971)\",\"Forbidden Planet (1956)\",\"Cider House Rules, The (1999)\",\"Green Mile, The (1999)\",\\n Whether the user will like the target movie \"Sixth Sense, The (1999)\\\\?', 'output': 'Yes.'}]\n",
      "Valid Data:  3624 [{'instruction': 'Given the user preference and unpreference, identify whether the user will like the target movie by answering \"Yes.\" or \"No.\".', 'input': '\\nUser Preference: \"Twister (1996)\", \"Con Air (1997)\", \"River Wild, The (1994)\", \"13th Warrior, The (1999)\", \"Batman Returns (1992)\", \"From Dusk Till Dawn (1996)\", \"Young Guns II (1990)\", \"Demolition Man (1993)\", \"Mummy, The (1999)\", \"Eraser (1996)\", \"Substitute, The (1996)\", \"Maximum Risk (1996)\", \"Sudden Death (1995)\", \"Outbreak (1995)\", \"Dick Tracy (1990)\",\\nUser Unpreference:\"Cliffhanger (1993)\",\"Armageddon (1998)\",\"Mercury Rising (1998)\",\"U.S. Marshalls (1998)\",\"Shadow, The (1994)\",\\n Whether the user will like the target movie \"Rocketeer, The (1991)\\\\?', 'output': 'No.'}, {'instruction': 'Given the user preference and unpreference, identify whether the user will like the target movie by answering \"Yes.\" or \"No.\".', 'input': '\\nUser Preference: \"Star Trek: The Motion Picture (1979)\", \"Running Man, The (1987)\", \"Doctor Dolittle (1967)\", \"Star Trek V: The Final Frontier (1989)\", \"Armageddon (1998)\", \"Batman Forever (1995)\", \"Karate Kid, Part II, The (1986)\", \"Crocodile Dundee II (1988)\", \"Batman Returns (1992)\", \"Superman II (1980)\", \"Golden Child, The (1986)\", \"Inspector Gadget (1999)\", \"Phantom, The (1996)\", \"Pete\\'s Dragon (1977)\", \"Batman & Robin (1997)\", \"Herbie Rides Again (1974)\", \"Superman III (1983)\", \"Herbie Goes Bananas (1980)\", \"Herbie Goes to Monte Carlo (1977)\",\\nUser Unpreference:\"Lost World: Jurassic Park, The (1997)\",\\n Whether the user will like the target movie \"Free Willy (1993)\\\\?', 'output': 'Yes.'}, {'instruction': 'Given the user preference and unpreference, identify whether the user will like the target movie by answering \"Yes.\" or \"No.\".', 'input': '\\nUser Preference: \"Shanghai Noon (2000)\", \"Requiem for a Dream (2000)\", \"Crime and Punishment in Suburbia (2000)\", \"Groove (2000)\", \"Election (1999)\", \"Three Kings (1999)\", \"Meet the Parents (2000)\", \"Return to Me (2000)\", \"Straight Story, The (1999)\", \"Shallow Grave (1994)\", \"Delicatessen (1991)\", \"Skulls, The (2000)\", \"Beautiful Girls (1996)\", \"Matewan (1987)\", \"Before the Rain (Pred dozhdot) (1994)\", \"Three Colors: Red (1994)\", \"Wonder Boys (2000)\", \"Hurricane, The (1999)\", \"Shall We Dance? (Shall We Dansu?) (1996)\", \"Hands on a Hard Body (1996)\",\\n Whether the user will like the target movie \"Best in Show (2000)\\\\?', 'output': 'Yes.'}]\n"
     ]
    }
   ],
   "source": [
    "new_train_data = train_valid_data[:split_index]\n",
    "new_valid_data = train_valid_data[split_index:]\n",
    "\n",
    "print(\"Train Data: \", len(new_train_data), new_train_data[:3])\n",
    "print(\"Valid Data: \", len(new_valid_data), new_valid_data[:3])"
   ]
  },
  {
   "cell_type": "markdown",
   "id": "baedd1d3-e959-4f87-8929-cfd3bf7e369f",
   "metadata": {},
   "source": [
    "### Storing as json"
   ]
  },
  {
   "cell_type": "code",
   "execution_count": 24,
   "id": "45455f6d-5a1a-463a-9732-8db83f03be70",
   "metadata": {},
   "outputs": [],
   "source": [
    "import json\n",
    "\n",
    "with open('./data/train.json', 'w') as train_file:\n",
    "    json.dump(new_train_data, train_file)\n",
    "\n",
    "with open('./data/valid.json', 'w') as valid_file:\n",
    "    json.dump(new_valid_data, valid_file)\n",
    "\n",
    "with open('./data/test.json', 'w') as test_file:\n",
    "    json.dump(test_data, test_file)"
   ]
  },
  {
   "cell_type": "code",
   "execution_count": 28,
   "id": "b304d4d8-8f0f-4650-9260-c0864bb95eef",
   "metadata": {},
   "outputs": [
    {
     "name": "stdout",
     "output_type": "stream",
     "text": [
      "Given the user preference and unpreference, identify whether the user will like the target movie by answering \"Yes.\" or \"No.\".\n",
      "User Preference: \"Picture Perfect (1997)\", \"Tango Lesson, The (1997)\", \"Wilde (1997)\", \"Wings of the Dove, The (1997)\", \"Crash (1996)\", \"Kama Sutra: A Tale of Love (1996)\", \"Ponette (1996)\", \"Up Close and Personal (1996)\", \"Fantasia (1940)\", \"Joe Gould's Secret (2000)\", \"Aimée & Jaguar (1999)\", \"King of Masks, The (Bian Lian) (1996)\", \"Yards, The (1999)\", \"Goya in Bordeaux (Goya en Bodeos) (1999)\", \"Wonder Boys (2000)\",\n",
      "User Unpreference:\"Tomorrow Never Dies (1997)\",\"Replacements, The (2000)\",\"Autumn in New York (2000)\",\"Boys and Girls (2000)\",\"Golden Bowl, The (2000)\",\n",
      " Whether the user will like the target movie \"Courage Under Fire (1996)\\?\n",
      "****************************************************************************************************\n",
      "Yes.\n"
     ]
    },
    {
     "data": {
      "text/plain": [
       "1"
      ]
     },
     "execution_count": 28,
     "metadata": {},
     "output_type": "execute_result"
    }
   ],
   "source": [
    "content = test_data[4][\"instruction\"] + test_data[4][\"input\"]\n",
    "print(content)\n",
    "print('*'*100)\n",
    "response = client.chat.completions.create(\n",
    "  model=\"gpt-3.5-turbo\",\n",
    "  messages=[\n",
    "    {\n",
    "      \"role\": \"user\",\n",
    "      \"content\": content\n",
    "    }\n",
    "  ],\n",
    "  temperature=0.1,\n",
    "  max_tokens=64,\n",
    "  top_p=0.9\n",
    ")\n",
    "\n",
    "response = response.choices[0].message.content\n",
    "print(response)\n",
    "len(response.split(' '))"
   ]
  },
  {
   "cell_type": "code",
   "execution_count": null,
   "id": "c920c05f-4c68-4208-86e0-7000aced1cc4",
   "metadata": {},
   "outputs": [],
   "source": []
  }
 ],
 "metadata": {
  "kernelspec": {
   "display_name": "Python 3 (ipykernel)",
   "language": "python",
   "name": "python3"
  },
  "language_info": {
   "codemirror_mode": {
    "name": "ipython",
    "version": 3
   },
   "file_extension": ".py",
   "mimetype": "text/x-python",
   "name": "python",
   "nbconvert_exporter": "python",
   "pygments_lexer": "ipython3",
   "version": "3.9.18"
  }
 },
 "nbformat": 4,
 "nbformat_minor": 5
}
