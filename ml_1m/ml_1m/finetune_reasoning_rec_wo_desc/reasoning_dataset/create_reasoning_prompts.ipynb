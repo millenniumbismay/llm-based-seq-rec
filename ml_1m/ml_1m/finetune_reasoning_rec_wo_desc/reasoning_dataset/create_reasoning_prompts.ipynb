{
 "cells": [
  {
   "cell_type": "code",
   "execution_count": 1,
   "id": "1afd5484-961f-4997-9178-6c0f2e46e085",
   "metadata": {},
   "outputs": [],
   "source": [
    "import pickle\n",
    "import pandas as pd\n",
    "import numpy as np\n",
    "import os\n",
    "import time\n",
    "from dotenv import load_dotenv"
   ]
  },
  {
   "cell_type": "code",
   "execution_count": 2,
   "id": "95487d68-9053-49c4-8381-5aa26e09035f",
   "metadata": {},
   "outputs": [],
   "source": [
    "from openai import OpenAI\n",
    "load_dotenv()\n",
    "client = OpenAI(\n",
    "    # This is the default and can be omitted\n",
    "    api_key=os.environ.get(\"OPENAI_API_KEY\"),\n",
    ")"
   ]
  },
  {
   "cell_type": "code",
   "execution_count": 3,
   "id": "f804c243-3647-4d2c-a97e-3383a22b3035",
   "metadata": {},
   "outputs": [],
   "source": [
    "user_train_path = '../../train_valid_test/user_train.pkl'\n",
    "user_valid_path = '../../train_valid_test/user_valid.pkl'\n",
    "user_test_path = '../../train_valid_test/user_test.pkl'"
   ]
  },
  {
   "cell_type": "code",
   "execution_count": 4,
   "id": "ec86d569-b862-4999-bba3-78b44ccfe0c3",
   "metadata": {},
   "outputs": [],
   "source": [
    "with open(user_train_path, 'rb') as f:\n",
    "    user_train_dict = pickle.load(f)\n",
    "with open(user_valid_path, 'rb') as f:\n",
    "    user_valid_dict = pickle.load(f)\n",
    "with open(user_test_path, 'rb') as f:\n",
    "    user_test_dict = pickle.load(f)"
   ]
  },
  {
   "cell_type": "code",
   "execution_count": 5,
   "id": "ee17dbc5-601c-48c8-8e44-c2d1838740d0",
   "metadata": {},
   "outputs": [
    {
     "name": "stdout",
     "output_type": "stream",
     "text": [
      "[[1961, 2028, 3105, 938, 1962, 1035, 150, 2018, 1028, 1097, 914, 2797, 1287, 2762, 1246, 661, 2918, 531, 3114, 2791, 1029, 2321, 1197, 594, 2398, 1545, 527, 1, 588, 2687, 745, 595, 2294, 783, 2355, 1907]]\n",
      "[1566]\n",
      "[48]\n",
      "36\n"
     ]
    }
   ],
   "source": [
    "user_id = 1\n",
    "print(user_train_dict[user_id])\n",
    "print(user_valid_dict[user_id])\n",
    "print(user_test_dict[user_id])\n",
    "print(len(user_train_dict[user_id][0]))"
   ]
  },
  {
   "cell_type": "code",
   "execution_count": 6,
   "id": "859eac23-3551-4a84-a025-b9de11ef5eec",
   "metadata": {},
   "outputs": [
    {
     "name": "stdout",
     "output_type": "stream",
     "text": [
      "\n",
      "            The user has a diverse taste in movies, with a preference for thought-provoking and emotionally engaging films. They enjoy dramas that explore complex themes such as mental illness, racial injustice, and the meaning of life. The user is drawn to movies that challenge their perspective and provoke deep thought, often favoring those that tackle serious and mature subjects.\n",
      "            \n",
      "            In addition to dramas, the user also has a soft spot for classic Disney films, as evidenced by their fondness for Cinderella. They appreciate the enchanting storytelling and timeless charm of these animated tales.\n",
      "            \n",
      "            The user's taste in movies also extends to comedies, as seen in their appreciation for the hilarious antics of Wallace & Gromit and the dark humor of Fargo. They are also drawn to adventure films, as demonstrated by their love for Star Wars: Episode IV - A New Hope and Back to the Future.\n",
      "            \n",
      "            However, the user is not a fan of horror movies, as none are listed among their favorites. They also tend to avoid movies that are overly violent or graphic, preferring instead to focus on stories that are emotionally resonant and intellectually stimulating.\n",
      "            \n",
      "            Overall, the user's movie preferences reflect a deep appreciation for storytelling, character development, and thematic depth.\n"
     ]
    }
   ],
   "source": [
    "user_profile_path = '../../user_profile/cleaned_user_profile_mixtral.pkl'\n",
    "with open(user_profile_path, 'rb') as f:\n",
    "    user_profile_dict = pickle.load(f)\n",
    "print(user_profile_dict[user_id])"
   ]
  },
  {
   "cell_type": "code",
   "execution_count": 7,
   "id": "2f37746b-388c-4dda-a278-5fbb18758fdf",
   "metadata": {},
   "outputs": [
    {
     "data": {
      "text/html": [
       "<div>\n",
       "<style scoped>\n",
       "    .dataframe tbody tr th:only-of-type {\n",
       "        vertical-align: middle;\n",
       "    }\n",
       "\n",
       "    .dataframe tbody tr th {\n",
       "        vertical-align: top;\n",
       "    }\n",
       "\n",
       "    .dataframe thead th {\n",
       "        text-align: right;\n",
       "    }\n",
       "</style>\n",
       "<table border=\"1\" class=\"dataframe\">\n",
       "  <thead>\n",
       "    <tr style=\"text-align: right;\">\n",
       "      <th></th>\n",
       "      <th>movie_id</th>\n",
       "      <th>name</th>\n",
       "      <th>cleaned_genre</th>\n",
       "      <th>year</th>\n",
       "      <th>summary</th>\n",
       "    </tr>\n",
       "  </thead>\n",
       "  <tbody>\n",
       "    <tr>\n",
       "      <th>0</th>\n",
       "      <td>1</td>\n",
       "      <td>Toy Story</td>\n",
       "      <td>Animation,Children's,Comedy</td>\n",
       "      <td>1995</td>\n",
       "      <td>Toy Story is a groundbreaking animated film th...</td>\n",
       "    </tr>\n",
       "    <tr>\n",
       "      <th>1</th>\n",
       "      <td>2</td>\n",
       "      <td>Jumanji</td>\n",
       "      <td>Adventure,Children's,Fantasy</td>\n",
       "      <td>1995</td>\n",
       "      <td>\"Jumanji (1995) is a thrilling adventure film ...</td>\n",
       "    </tr>\n",
       "    <tr>\n",
       "      <th>2</th>\n",
       "      <td>3</td>\n",
       "      <td>Grumpier Old Men</td>\n",
       "      <td>Comedy,Romance</td>\n",
       "      <td>1995</td>\n",
       "      <td>\"Grumpier Old Men is a hilarious and heartwarm...</td>\n",
       "    </tr>\n",
       "    <tr>\n",
       "      <th>3</th>\n",
       "      <td>4</td>\n",
       "      <td>Waiting to Exhale</td>\n",
       "      <td>Comedy,Drama</td>\n",
       "      <td>1995</td>\n",
       "      <td>\"Waiting to Exhale\" (1995) is a heartfelt dram...</td>\n",
       "    </tr>\n",
       "    <tr>\n",
       "      <th>4</th>\n",
       "      <td>5</td>\n",
       "      <td>Father of the Bride Part II</td>\n",
       "      <td>Comedy</td>\n",
       "      <td>1995</td>\n",
       "      <td>Father of the Bride Part II (1995) is a heartw...</td>\n",
       "    </tr>\n",
       "  </tbody>\n",
       "</table>\n",
       "</div>"
      ],
      "text/plain": [
       "   movie_id                          name                 cleaned_genre  year  \\\n",
       "0         1                    Toy Story    Animation,Children's,Comedy  1995   \n",
       "1         2                      Jumanji   Adventure,Children's,Fantasy  1995   \n",
       "2         3             Grumpier Old Men                 Comedy,Romance  1995   \n",
       "3         4            Waiting to Exhale                   Comedy,Drama  1995   \n",
       "4         5  Father of the Bride Part II                         Comedy  1995   \n",
       "\n",
       "                                             summary  \n",
       "0  Toy Story is a groundbreaking animated film th...  \n",
       "1  \"Jumanji (1995) is a thrilling adventure film ...  \n",
       "2  \"Grumpier Old Men is a hilarious and heartwarm...  \n",
       "3  \"Waiting to Exhale\" (1995) is a heartfelt dram...  \n",
       "4  Father of the Bride Part II (1995) is a heartw...  "
      ]
     },
     "execution_count": 7,
     "metadata": {},
     "output_type": "execute_result"
    }
   ],
   "source": [
    "movie_summary_df = pd.read_csv('../../movie_summary_25_words.csv')\n",
    "movie_summary_df.head()"
   ]
  },
  {
   "cell_type": "code",
   "execution_count": 8,
   "id": "e50265fd-da00-4c26-9342-51d8bde4bacc",
   "metadata": {},
   "outputs": [
    {
     "name": "stdout",
     "output_type": "stream",
     "text": [
      "     movie_id                                               name  \\\n",
      "262       265  Like Water for Chocolate (Como agua para choco...   \n",
      "\n",
      "     cleaned_genre  year                                            summary  \n",
      "262  Drama,Romance  1992  \"Like Water for Chocolate is a visually stunni...  \n"
     ]
    }
   ],
   "source": [
    "print(movie_summary_df[movie_summary_df['movie_id'] == 265])"
   ]
  },
  {
   "cell_type": "code",
   "execution_count": 9,
   "id": "9c64a2d4-65d4-4f71-bfd8-172e6192ab13",
   "metadata": {},
   "outputs": [
    {
     "data": {
      "text/html": [
       "<div>\n",
       "<style scoped>\n",
       "    .dataframe tbody tr th:only-of-type {\n",
       "        vertical-align: middle;\n",
       "    }\n",
       "\n",
       "    .dataframe tbody tr th {\n",
       "        vertical-align: top;\n",
       "    }\n",
       "\n",
       "    .dataframe thead th {\n",
       "        text-align: right;\n",
       "    }\n",
       "</style>\n",
       "<table border=\"1\" class=\"dataframe\">\n",
       "  <thead>\n",
       "    <tr style=\"text-align: right;\">\n",
       "      <th></th>\n",
       "      <th>user_id</th>\n",
       "      <th>user_profile</th>\n",
       "    </tr>\n",
       "  </thead>\n",
       "  <tbody>\n",
       "    <tr>\n",
       "      <th>0</th>\n",
       "      <td>1</td>\n",
       "      <td>female k-12 student under 18 years of age</td>\n",
       "    </tr>\n",
       "    <tr>\n",
       "      <th>1</th>\n",
       "      <td>2</td>\n",
       "      <td>male self-employed above 56 years of age</td>\n",
       "    </tr>\n",
       "    <tr>\n",
       "      <th>2</th>\n",
       "      <td>3</td>\n",
       "      <td>male scientist between 25 to 34 years of age</td>\n",
       "    </tr>\n",
       "    <tr>\n",
       "      <th>3</th>\n",
       "      <td>4</td>\n",
       "      <td>male executive/managerial between 45 to 49 yea...</td>\n",
       "    </tr>\n",
       "    <tr>\n",
       "      <th>4</th>\n",
       "      <td>5</td>\n",
       "      <td>male writer between 25 to 34 years of age</td>\n",
       "    </tr>\n",
       "  </tbody>\n",
       "</table>\n",
       "</div>"
      ],
      "text/plain": [
       "   user_id                                       user_profile\n",
       "0        1          female k-12 student under 18 years of age\n",
       "1        2           male self-employed above 56 years of age\n",
       "2        3       male scientist between 25 to 34 years of age\n",
       "3        4  male executive/managerial between 45 to 49 yea...\n",
       "4        5          male writer between 25 to 34 years of age"
      ]
     },
     "execution_count": 9,
     "metadata": {},
     "output_type": "execute_result"
    }
   ],
   "source": [
    "user_df = pd.read_csv('../../users.csv')\n",
    "user_df.head()"
   ]
  },
  {
   "cell_type": "code",
   "execution_count": 10,
   "id": "84a42d22-43f2-4378-8266-f0862eb9e08c",
   "metadata": {},
   "outputs": [
    {
     "data": {
      "text/html": [
       "<div>\n",
       "<style scoped>\n",
       "    .dataframe tbody tr th:only-of-type {\n",
       "        vertical-align: middle;\n",
       "    }\n",
       "\n",
       "    .dataframe tbody tr th {\n",
       "        vertical-align: top;\n",
       "    }\n",
       "\n",
       "    .dataframe thead th {\n",
       "        text-align: right;\n",
       "    }\n",
       "</style>\n",
       "<table border=\"1\" class=\"dataframe\">\n",
       "  <thead>\n",
       "    <tr style=\"text-align: right;\">\n",
       "      <th></th>\n",
       "      <th>user_id</th>\n",
       "      <th>movie_id</th>\n",
       "      <th>rating</th>\n",
       "    </tr>\n",
       "  </thead>\n",
       "  <tbody>\n",
       "    <tr>\n",
       "      <th>0</th>\n",
       "      <td>1</td>\n",
       "      <td>3186</td>\n",
       "      <td>4</td>\n",
       "    </tr>\n",
       "    <tr>\n",
       "      <th>1</th>\n",
       "      <td>1</td>\n",
       "      <td>1721</td>\n",
       "      <td>4</td>\n",
       "    </tr>\n",
       "    <tr>\n",
       "      <th>2</th>\n",
       "      <td>1</td>\n",
       "      <td>1022</td>\n",
       "      <td>5</td>\n",
       "    </tr>\n",
       "    <tr>\n",
       "      <th>3</th>\n",
       "      <td>1</td>\n",
       "      <td>1270</td>\n",
       "      <td>5</td>\n",
       "    </tr>\n",
       "    <tr>\n",
       "      <th>4</th>\n",
       "      <td>1</td>\n",
       "      <td>2340</td>\n",
       "      <td>3</td>\n",
       "    </tr>\n",
       "  </tbody>\n",
       "</table>\n",
       "</div>"
      ],
      "text/plain": [
       "   user_id  movie_id  rating\n",
       "0        1      3186       4\n",
       "1        1      1721       4\n",
       "2        1      1022       5\n",
       "3        1      1270       5\n",
       "4        1      2340       3"
      ]
     },
     "execution_count": 10,
     "metadata": {},
     "output_type": "execute_result"
    }
   ],
   "source": [
    "ratings_df = pd.read_csv('../../ratings.csv')\n",
    "ratings_df.head()"
   ]
  },
  {
   "cell_type": "code",
   "execution_count": 11,
   "id": "701b45c7",
   "metadata": {},
   "outputs": [],
   "source": [
    "# reasoning_prompts = dict()\n",
    "# cnt = 0\n",
    "# for user, user_profile in user_profile_dict.items():\n",
    "#     # if cnt < 121:\n",
    "#     #     cnt += 1\n",
    "#     #     continue\n",
    "#     cnt += 1\n",
    "#     # print(f\"User: {user}\")\n",
    "#     prompt = \"\"\"You are an expert movie critic. You are provided with the user profile and list of recent movies that the user has watched and whether the user likes it or not.\n",
    "#     User Profile -\"\"\"\n",
    "#     ### Create the user profile\n",
    "#     # final_user_profile = \"The user is a \"+user_df[user_df['user_id'] == user]['user_profile'].values[0]+user_profile+\"\\n\"\n",
    "#     # print(final_user_profile)\n",
    "#     prompt += user_profile\n",
    "#     prompt += \"\"\"\n",
    "#    User watched the following movies recently in the given order. List of recent movies and their description -\n",
    "#     \"\"\"\n",
    "#     # print(prompt)\n",
    "#     ### Create the like/dislike list of last 20 movies\n",
    "#     # print(user_train_dict[user][0][-20:])\n",
    "#     user_rating_dict = ratings_df[ratings_df['user_id'] == user]\n",
    "#     # print(user_rating_dict)\n",
    "#     liked_movies = []\n",
    "#     disliked_movies = []\n",
    "#     train_valid_movie_list = user_train_dict[user][0][-19:]\n",
    "#     train_valid_movie_list.append(user_valid_dict[user][0])\n",
    "#     # print(\"Train Movie List:\", len(train_valid_movie_list), train_valid_movie_list)\n",
    "\n",
    "#     for movie in train_valid_movie_list:\n",
    "#         user_movie_rating = user_rating_dict[user_rating_dict['movie_id'] == movie]['rating'].values[0]\n",
    "#         # print(movie, user_movie_rating)\n",
    "#         movie_details = movie_summary_df[movie_summary_df['movie_id'] == movie]\n",
    "#         if user_movie_rating >= 3:\n",
    "#             if movie != user_valid_dict[user][0]:\n",
    "#                 prompt += \"\\nLiked \" + movie_details['name'].values[0] + \"(Genre: \" + movie_details['cleaned_genre'].values[0] + \") \" + movie_details['summary'].values[0] + \",\"\n",
    "#             else:\n",
    "#                 ### For the last movie - ending with a . and starting new line\n",
    "#                 prompt += \"\\nLiked \" + movie_details['name'].values[0] + \"(Genre: \" + movie_details['cleaned_genre'].values[0] + \") \" +  movie_details['summary'].values[0] + \"\\n\"\n",
    "#         else:\n",
    "#             if movie != user_valid_dict[user][0]:\n",
    "#                 prompt += \"\\nDisliked \" + movie_details['name'].values[0] + \"(Genre: \" + movie_details['cleaned_genre'].values[0] + \") \" +  movie_details['summary'].values[0] + \",\"\n",
    "#             else:\n",
    "#                 ### For the last movie - ending with a . and starting new line\n",
    "#                 prompt += \"\\nDisliked \" + movie_details['name'].values[0] + \"(Genre: \" + movie_details['cleaned_genre'].values[0] + \") \" +  movie_details['summary'].values[0] + \"\\n\"\n",
    "\n",
    "#     ### To predict\n",
    "#     # print(user_valid_dict[user][0])\n",
    "#     target_movie_details = movie_summary_df[movie_summary_df['movie_id'] == user_test_dict[user][0]]\n",
    "#     target_movie_rating = user_rating_dict[user_rating_dict['movie_id'] == user_test_dict[user][0]]['rating'].values[0]\n",
    "#     # print(\"Target Movie Rating:\", target_movie_details, target_movie_rating)\n",
    "#     if target_movie_rating >= 3:\n",
    "#         prompt += \"Now, We know that the user will like the next movie \"\n",
    "#         prompt += target_movie_details['name'].values[0] + \"(Genre: \" + target_movie_details['cleaned_genre'].values[0] + \") \" +  target_movie_details['summary'].values[0]\n",
    "#         prompt += f\"\"\" As an expert movie critic, do the following steps -\n",
    "#         First, Analyze the user profile and movie watching history given in order and summarize the user's behavior from the given list of movies and identify the movie characteristics that he likes and dislikes in atmost 100 words.\n",
    "#         Finally, Explain with reasoning why the user will like {target_movie_details['name'].values[0]} in atmost 100 words.\n",
    "#         Do not use any information not mentioned above.\"\"\"\n",
    "#         recommendation = \"\\nPrediction: Yes\"\n",
    "#     else:\n",
    "#         prompt += \"Now, We know that the user will dislike the next movie \"\n",
    "#         prompt += target_movie_details['name'].values[0] + \"(Genre: \" + target_movie_details['cleaned_genre'].values[0] + \") \" +  target_movie_details['summary'].values[0]\n",
    "#         prompt += f\"\"\" As an expert movie critic, do the following steps -\n",
    "#         First, Analyze the user profile and movie watching history given in order and summarize the user's behavior from the given list of movies and identify the movie characteristics that he likes and dislikes in atmost 100 words.\n",
    "#         Finally, Explain with reasoning why the user will dislike {target_movie_details['name'].values[0]} in atmost 100 words.\n",
    "#         Do not use any information not mentioned above.\"\"\"\n",
    "#         recommendation = \"\\nPrediction: No\"\n",
    "#     # print('_'*100)\n",
    "#     # print(f\"Prompt length: {len(prompt.split())}\", prompt, recommendation)\n",
    "#     reasoning_prompts[user] = [prompt, recommendation]\n",
    "#     # break"
   ]
  },
  {
   "cell_type": "code",
   "execution_count": 13,
   "id": "819aa4f2",
   "metadata": {},
   "outputs": [],
   "source": [
    "reasoning_prompts = dict()\n",
    "cnt = 0\n",
    "for user, user_profile in user_profile_dict.items():\n",
    "    # if cnt < 121:\n",
    "    #     cnt += 1\n",
    "    #     continue\n",
    "    cnt += 1\n",
    "    # print(f\"User: {user}\")\n",
    "    prompt = \"\"\"You are an expert movie critic. You are provided with a list of recent movies that the user has watched and whether the user likes it or not. User watched the following movies recently in the given order. List of recent movies and their description -\"\"\"\n",
    "    # print(prompt)\n",
    "    ### Create the like/dislike list of last 20 movies\n",
    "    # print(user_train_dict[user][0][-20:])\n",
    "    user_rating_dict = ratings_df[ratings_df['user_id'] == user]\n",
    "    # print(user_rating_dict)\n",
    "    liked_movies = []\n",
    "    disliked_movies = []\n",
    "    train_valid_movie_list = user_train_dict[user][0][-21:-1]\n",
    "    # train_valid_movie_list.append(user_valid_dict[user][0])\n",
    "    # print(\"Train Movie List:\", len(train_valid_movie_list), train_valid_movie_list)\n",
    "\n",
    "    for movie in train_valid_movie_list:\n",
    "        user_movie_rating = user_rating_dict[user_rating_dict['movie_id'] == movie]['rating'].values[0]\n",
    "        # print(movie, user_movie_rating)\n",
    "        movie_details = movie_summary_df[movie_summary_df['movie_id'] == movie]\n",
    "        if user_movie_rating >= 3:\n",
    "            if movie != user_valid_dict[user][0]:\n",
    "                prompt += \"\\nLiked \" + movie_details['name'].values[0] + \"(Genre: \" + movie_details['cleaned_genre'].values[0] + \") \" + movie_details['summary'].values[0] + \",\"\n",
    "            else:\n",
    "                ### For the last movie - ending with a . and starting new line\n",
    "                prompt += \"\\nLiked \" + movie_details['name'].values[0] + \"(Genre: \" + movie_details['cleaned_genre'].values[0] + \") \" +  movie_details['summary'].values[0] + \"\\n\"\n",
    "        else:\n",
    "            if movie != user_valid_dict[user][0]:\n",
    "                prompt += \"\\nDisliked \" + movie_details['name'].values[0] + \"(Genre: \" + movie_details['cleaned_genre'].values[0] + \") \" +  movie_details['summary'].values[0] + \",\"\n",
    "            else:\n",
    "                ### For the last movie - ending with a . and starting new line\n",
    "                prompt += \"\\nDisliked \" + movie_details['name'].values[0] + \"(Genre: \" + movie_details['cleaned_genre'].values[0] + \") \" +  movie_details['summary'].values[0] + \"\\n\"\n",
    "\n",
    "    ### To predict\n",
    "    # print(user_valid_dict[user][0])\n",
    "    target_movie_details = movie_summary_df[movie_summary_df['movie_id'] == user_train_dict[user][0][-1]]\n",
    "    target_movie_rating = user_rating_dict[user_rating_dict['movie_id'] == user_train_dict[user][0][-1]]['rating'].values[0]\n",
    "    # print(\"Target Movie Rating:\", target_movie_details, target_movie_rating)\n",
    "    if target_movie_rating >= 3:\n",
    "        prompt += \"Now, We know that the user will like the next movie \"\n",
    "        prompt += target_movie_details['name'].values[0] + \"(Genre: \" + target_movie_details['cleaned_genre'].values[0] + \") \" +  target_movie_details['summary'].values[0]\n",
    "        prompt += f\"\"\" As an expert movie critic, do the following steps -\n",
    "        First, Analyze the user's movie watching history given in order and summarize the user's behavior from the given list of movies and identify the movie characteristics that he likes and dislikes in atmost 100 words.\n",
    "        Finally, Explain with reasoning why the user will like {target_movie_details['name'].values[0]} in atmost 100 words.\n",
    "        Do not use any information not mentioned above.\"\"\"\n",
    "        recommendation = \"\\nPrediction: Yes\"\n",
    "    else:\n",
    "        prompt += \"Now, We know that the user will dislike the next movie \"\n",
    "        prompt += target_movie_details['name'].values[0] + \"(Genre: \" + target_movie_details['cleaned_genre'].values[0] + \") \" +  target_movie_details['summary'].values[0]\n",
    "        prompt += f\"\"\" As an expert movie critic, do the following steps -\n",
    "        First, Analyze the user's movie watching history given in order and summarize the user's behavior from the given list of movies and identify the movie characteristics that he likes and dislikes in atmost 100 words.\n",
    "        Finally, Explain with reasoning why the user will dislike {target_movie_details['name'].values[0]} in atmost 100 words.\n",
    "        Do not use any information not mentioned above.\"\"\"\n",
    "        recommendation = \"\\nPrediction: No\"\n",
    "    # print('_'*100)\n",
    "    # print(f\"Prompt length: {len(prompt.split())}\", prompt, recommendation)\n",
    "    reasoning_prompts[user] = [prompt, recommendation]\n",
    "    # break"
   ]
  },
  {
   "cell_type": "code",
   "execution_count": 14,
   "id": "9caae6d7-5c1f-4b90-9898-02bddd3c9891",
   "metadata": {},
   "outputs": [
    {
     "name": "stdout",
     "output_type": "stream",
     "text": [
      "6040\n"
     ]
    }
   ],
   "source": [
    "print(len(reasoning_prompts))"
   ]
  },
  {
   "cell_type": "code",
   "execution_count": 15,
   "id": "7417d2f7-c554-4359-93c5-748da8c99e1b",
   "metadata": {},
   "outputs": [
    {
     "data": {
      "text/plain": [
       "['You are an expert movie critic. You are provided with a list of recent movies that the user has watched and whether the user likes it or not. User watched the following movies recently in the given order. List of recent movies and their description -\\nLiked James and the Giant Peach (Genre: Animation,Children\\'s,Musical) \"James and the Giant Peach (1996) is a whimsical and visually stunning adaptation of Roald Dahl\\'s beloved children\\'s book, filled with adventure, friendship, and magic.\",\\nLiked Ferris Bueller\\'s Day Off (Genre: Comedy) \"Ferris Bueller\\'s Day Off\" is a classic 1980s comedy about a high school student who fakes being sick to have an epic day of adventure and mischief in Chicago.,\\nLiked Secret Garden, The (Genre: Children\\'s,Drama) \"Secret Garden (1993) is a heartwarming adaptation of the classic children\\'s novel, filled with enchanting visuals and a touching story of friendship and healing.\",\\nLiked Toy Story 2 (Genre: Animation,Children\\'s,Comedy) Toy Story 2 (1999) is a heartwarming and hilarious animated adventure that explores the value of friendship and the importance of embracing one\\'s identity.,\\nLiked Airplane! (Genre: Comedy) \"Airplane! is a hilarious spoof comedy that takes flight with its clever wordplay, slapstick humor, and memorable one-liners.\",\\nLiked Dumbo (Genre: Animation,Children\\'s,Musical) \"Dumbo, a heartwarming Disney classic, tells the story of a lovable elephant with big ears who discovers his unique talent and finds his place in the world.\",\\nLiked Pleasantville (Genre: Comedy) \"Pleasantville is a thought-provoking and visually stunning film that explores the power of change and individuality in a black-and-white 1950s sitcom world.\",\\nLiked Princess Bride, The (Genre: Action,Adventure,Comedy,Romance) \"The Princess Bride is a timeless romantic adventure filled with humor, sword fights, and true love that captivates audiences of all ages.\",\\nLiked Snow White and the Seven Dwarfs (Genre: Animation,Children\\'s,Musical) Snow White and the Seven Dwarfs is a timeless classic that brings enchantment to life with its charming characters, beautiful animation, and unforgettable songs.,\\nLiked Miracle on 34th Street (Genre: Drama) \"Miracle on 34th Street (1947) is a heartwarming Christmas classic about a department store Santa who claims to be the real deal, spreading holiday cheer and restoring faith in Santa Claus.\",\\nLiked Ponette (Genre: Drama) \"Ponette is a heartbreaking French drama that follows a young girl\\'s journey to cope with the loss of her mother.\",\\nLiked Schindler\\'s List (Genre: Drama,War) Schindler\\'s List (1993) is a powerful and haunting portrayal of Oskar Schindler\\'s efforts to save Jews during the Holocaust.,\\nLiked Toy Story (Genre: Animation,Children\\'s,Comedy) Toy Story is a groundbreaking animated film that brings toys to life, delivering heartwarming humor and adventure as Woody and Buzz navigate the world of childhood imagination.,\\nLiked Aladdin (Genre: Animation,Children\\'s,Comedy,Musical) \"Aladdin is a magical and enchanting animated film that takes viewers on a thrilling adventure filled with humor, romance, and unforgettable songs.\",\\nLiked Tarzan (Genre: Animation,Children\\'s) Tarzan (1999) is a visually stunning and heartfelt Disney animated film that brings the classic tale to life with memorable characters and an enchanting soundtrack.,\\nLiked Close Shave, A (Genre: Animation,Comedy,Thriller) \"A Close Shave (1995) is a delightful stop-motion animated film that combines humor, suspense, and heart as Wallace and Gromit unravel a sheep-stealing mystery.\",\\nLiked Beauty and the Beast (Genre: Animation,Children\\'s,Musical) \"Beauty and the Beast (1991) is a timeless Disney classic that enchants with its captivating story, stunning animation, and unforgettable music.\",\\nLiked Antz (Genre: Animation,Children\\'s) Antz (1998) is a witty and entertaining animated film that explores themes of individuality, friendship, and the power of standing up for what you believe in.,\\nLiked Hunchback of Notre Dame, The (Genre: Animation,Children\\'s,Musical) The Hunchback of Notre Dame (1996) is a visually stunning and emotionally powerful Disney animated film that explores themes of love, acceptance, and the power of inner beauty.,\\nLiked Bug\\'s Life, A (Genre: Animation,Children\\'s,Comedy) A misfit ant named Flik recruits a group of circus bugs to save his colony from greedy grasshoppers in this animated adventure.,Now, We know that the user will like the next movie Mulan (Genre: Animation,Children\\'s) Mulan is a captivating animated film that tells the empowering story of a young Chinese woman who disguises herself as a man to fight in the army. As an expert movie critic, do the following steps -\\n        First, Analyze the user\\'s movie watching history given in order and summarize the user\\'s behavior from the given list of movies and identify the movie characteristics that he likes and dislikes in atmost 100 words.\\n        Finally, Explain with reasoning why the user will like Mulan  in atmost 100 words.\\n        Do not use any information not mentioned above.',\n",
       " '\\nPrediction: Yes']"
      ]
     },
     "execution_count": 15,
     "metadata": {},
     "output_type": "execute_result"
    }
   ],
   "source": [
    "reasoning_prompts[1]"
   ]
  },
  {
   "cell_type": "code",
   "execution_count": 16,
   "id": "d7860cc4-b347-4b97-89fd-57cad5f272db",
   "metadata": {},
   "outputs": [],
   "source": [
    "reasoning_prompt_path = './reasoning_prompt_data/reasoning_prompt_train_wo_profile.pkl'\n",
    "with open(reasoning_prompt_path, 'wb') as f:\n",
    "    pickle.dump(reasoning_prompts, f)\n",
    "    f.close()"
   ]
  },
  {
   "cell_type": "code",
   "execution_count": 17,
   "id": "3cd5f401-718d-4c50-902a-fdd530245f63",
   "metadata": {},
   "outputs": [
    {
     "name": "stdout",
     "output_type": "stream",
     "text": [
      "You are an expert movie critic. You are provided with a list of recent movies that the user has watched and whether the user likes it or not. User watched the following movies recently in the given order. List of recent movies and their description -\n",
      "Liked Nell (Genre: Drama) \"Nell\" (1994) is a thought-provoking drama about a young woman living in isolation, played by Jodie Foster, whose life changes when she encounters the outside world.,\n",
      "Disliked Last Man Standing (Genre: Action,Drama,Western) \"Last Man Standing is a gritty and action-packed western thriller, starring Bruce Willis as a lone gunman caught in a deadly gang war.\",\n",
      "Liked Juror, The (Genre: Drama,Thriller) A gripping courtroom drama where a juror, played by Demi Moore, fights against the odds to uncover the truth and save an innocent man.,\n",
      "Liked Walk in the Clouds, A (Genre: Drama,Romance) A romantic drama set in post-WWII California, where a soldier pretends to be a married man to help a pregnant woman and falls in love with her.,\n",
      "Liked Sommersby (Genre: Drama,Mystery,Romance) \"Sommersby\" is a captivating drama set in post-Civil War America, exploring identity, love, and redemption through a man's return from the dead.,\n",
      "Disliked White Man's Burden (Genre: Drama) \"White Man's Burden (1995) is a thought-provoking drama that explores racial tensions by flipping the roles of black and white Americans in a society divided by prejudice.\",\n",
      "Liked Practical Magic (Genre: Drama,Romance) \"Practical Magic is a charming and whimsical film about two witch sisters who must confront love, family curses, and the power of sisterhood.\",\n",
      "Liked It Could Happen to You (Genre: Drama,Romance) \"It Could Happen to You\" is a heartwarming romantic comedy about a kind-hearted cop who splits his lottery winnings with a waitress, changing their lives forever.,\n",
      "Disliked Your Friends and Neighbors (Genre: Drama) \"Your Friends and Neighbors (1998) is a dark comedy that explores the complexities of relationships, exposing the raw and often uncomfortable truths about human nature.\",\n",
      "Liked General's Daughter, The (Genre: Drama,Thriller) A gripping military thriller that delves into the dark secrets of a high-ranking officer's daughter, leading to a shocking murder investigation.,\n",
      "Disliked We're No Angels (Genre: Drama) \"We're No Angels\" is a charming and hilarious comedy about two escaped convicts who pose as priests to help a struggling family during Christmas.,\n",
      "Disliked Out of Africa (Genre: Drama,Romance) \"Out of Africa\" is a visually stunning and emotionally captivating epic that explores love, loss, and the beauty of the African landscape.,\n",
      "Liked Powder (Genre: Drama,Sci-Fi) \"Powder (1995) is a thought-provoking drama about an extraordinary young man with supernatural abilities who challenges societal norms and explores the meaning of humanity.\",\n",
      "Liked Instinct (Genre: Drama,Thriller) \"Instinct (1999) is a gripping psychological thriller that explores the thin line between sanity and madness, with powerful performances by Anthony Hopkins and Cuba Gooding Jr.\",\n",
      "Disliked Corruptor, The (Genre: Action,Crime,Drama,Thriller) \"The Corruptor\" is a gritty crime thriller set in New York City, exploring the dangerous alliance between a rookie cop and a powerful Chinese gang.,\n",
      "Liked Where the Heart Is (Genre: Comedy,Drama) \"Where the Heart Is\" (2000) is a heartwarming drama about a pregnant teenager who finds love and strength while living in a Walmart store.,\n",
      "Liked Jack (Genre: Comedy,Drama) \"Jack\" is a heartwarming comedy-drama about a boy who ages four times faster than normal, navigating the challenges of growing up in an accelerated world.,\n",
      "Disliked Evening Star, The (Genre: Comedy,Drama) The Evening Star (1996) is a heartfelt drama that follows the life of Aurora Greenway as she navigates love, loss, and family in her later years.,\n",
      "Liked Preacher's Wife, The (Genre: Drama) A heartwarming and uplifting film about a preacher who receives divine intervention in the form of an angel to help save his struggling church and marriage.,\n",
      "Liked Indecent Proposal (Genre: Drama) Indecent Proposal (1993) is a provocative drama about a wealthy man who offers a young couple one million dollars for a night with the wife.,Now, We know that the user will like the next movie 200 Cigarettes (Genre: Comedy,Drama) \"200 Cigarettes is a comedic ensemble film set on New Year's Eve in 1981, following various characters navigating love and partying in New York City.\" As an expert movie critic, do the following steps -\n",
      "        First, Analyze the user's movie watching history given in order and summarize the user's behavior from the given list of movies and identify the movie characteristics that he likes and dislikes in atmost 100 words.\n",
      "        Finally, Explain with reasoning why the user will like 200 Cigarettes  in atmost 100 words.\n",
      "        Do not use any information not mentioned above.\n",
      "****************************************************************************************************\n",
      "Based on the user's movie watching history, it is evident that the user enjoys drama films with elements of romance, mystery, and thriller. The user tends to appreciate thought-provoking and gripping storylines with strong character development. However, the user dislikes movies that are more action-packed or focus on darker themes like crime and racial tensions.\n",
      "\n",
      "The user will likely enjoy \"200 Cigarettes\" because it is a comedic ensemble film with a mix of drama and comedy, set in a vibrant and nostalgic 1980s New York City. The movie features multiple storylines and characters navigating love and relationships on New Year's Eve, which aligns with the user's preference for character-driven and emotionally engaging films.\n"
     ]
    },
    {
     "data": {
      "text/plain": [
       "112"
      ]
     },
     "execution_count": 17,
     "metadata": {},
     "output_type": "execute_result"
    }
   ],
   "source": [
    "content = prompt\n",
    "print(content)\n",
    "print('*'*100)\n",
    "response = client.chat.completions.create(\n",
    "  model=\"gpt-3.5-turbo\",\n",
    "  messages=[\n",
    "    {\n",
    "      \"role\": \"user\",\n",
    "      \"content\": content\n",
    "    }\n",
    "  ],\n",
    "  temperature=0,\n",
    "  max_tokens=256,\n",
    "  top_p=0.75\n",
    ")\n",
    "\n",
    "\n",
    "response = response.choices[0].message.content\n",
    "print(response)\n",
    "len(response.split(' '))"
   ]
  },
  {
   "cell_type": "code",
   "execution_count": null,
   "id": "e61476a4-61cf-4354-bac3-b70303b1cf22",
   "metadata": {},
   "outputs": [],
   "source": []
  }
 ],
 "metadata": {
  "kernelspec": {
   "display_name": "Python 3 (ipykernel)",
   "language": "python",
   "name": "python3"
  },
  "language_info": {
   "codemirror_mode": {
    "name": "ipython",
    "version": 3
   },
   "file_extension": ".py",
   "mimetype": "text/x-python",
   "name": "python",
   "nbconvert_exporter": "python",
   "pygments_lexer": "ipython3",
   "version": "3.9.18"
  }
 },
 "nbformat": 4,
 "nbformat_minor": 5
}
