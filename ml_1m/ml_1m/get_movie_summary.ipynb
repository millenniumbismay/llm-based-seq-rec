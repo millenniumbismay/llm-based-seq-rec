{
 "cells": [
  {
   "cell_type": "code",
   "execution_count": 1,
   "id": "1606e909-2a28-4de4-8503-512f9459934a",
   "metadata": {},
   "outputs": [],
   "source": [
    "import imdb\n",
    "import pandas as pd"
   ]
  },
  {
   "cell_type": "code",
   "execution_count": 2,
   "id": "28b0c10d-cc1c-400c-ada1-c7ae6bdbb838",
   "metadata": {},
   "outputs": [],
   "source": [
    "ia = imdb.Cinemagoer()"
   ]
  },
  {
   "cell_type": "code",
   "execution_count": 16,
   "id": "3687c201-1b57-4376-bae4-98edaeb5db8a",
   "metadata": {},
   "outputs": [
    {
     "data": {
      "text/plain": [
       "<Movie id:0065489[http] title:_Brancaleone at the Crusades (1970)_>"
      ]
     },
     "execution_count": 16,
     "metadata": {},
     "output_type": "execute_result"
    }
   ],
   "source": [
    "movie = ia.get_movie('65489')\n",
    "movie"
   ]
  },
  {
   "cell_type": "code",
   "execution_count": 15,
   "id": "d1250601-b6a5-485f-8db4-18741e8c816e",
   "metadata": {},
   "outputs": [],
   "source": [
    "# movies = ia.search_movie('Sense and Sensibility')\n",
    "# print(movies)\n",
    "# for movie in movies:\n",
    "#     print(movie)"
   ]
  },
  {
   "cell_type": "code",
   "execution_count": 17,
   "id": "d25da4c7-0f6d-4d7f-a2d0-522e480f004e",
   "metadata": {},
   "outputs": [
    {
     "data": {
      "text/plain": [
       "['main', 'plot', 'synopsis']"
      ]
     },
     "execution_count": 17,
     "metadata": {},
     "output_type": "execute_result"
    }
   ],
   "source": [
    "movie.current_info"
   ]
  },
  {
   "cell_type": "code",
   "execution_count": 18,
   "id": "701a7544-ed13-4933-af71-e31b66194cc2",
   "metadata": {},
   "outputs": [
    {
     "name": "stdout",
     "output_type": "stream",
     "text": [
      "['After saving an infant of royal blood, knight Brancaleone forms a new army and sets out to return the baby to his father: a prince fighting in the Crusades.', 'Brancaleone and his followers go to the crusades. God allows them a safe crossing of the Mediteranean. Except that they did not sail on the sea but on a... lake! Brancaleone soon finds himself caught in the middle of a feud between... two popes, Gregory and Clement. In order to determine which of the two men is the true pope, Brancaleone must walk on hot coals. After this ordeal, accompanied by a dwarf, a witch, a leper and a masochistic penitent, Brancaleone continues his quest.In the Holy Land, he fights the unfaithful before facing Death in person. He is eventually saved by Tiburzia the witch who is reincarnated in the form of a magpie—Guy Bellinger']\n"
     ]
    }
   ],
   "source": [
    "print(movie.get('plot'))"
   ]
  },
  {
   "cell_type": "code",
   "execution_count": 19,
   "id": "8a2625d3-9359-46aa-bfe3-1438ac4d3d83",
   "metadata": {},
   "outputs": [
    {
     "name": "stdout",
     "output_type": "stream",
     "text": [
      "None\n"
     ]
    }
   ],
   "source": [
    "print(movie.get('synopsis'))"
   ]
  },
  {
   "cell_type": "code",
   "execution_count": 20,
   "id": "561529ec-be8e-471e-8bea-c36ad3a34f98",
   "metadata": {},
   "outputs": [
    {
     "data": {
      "text/plain": [
       "{'main': ['alternative kind',\n",
       "  'localized title',\n",
       "  'stars',\n",
       "  'cast',\n",
       "  'genres',\n",
       "  'runtimes',\n",
       "  'countries',\n",
       "  'country codes',\n",
       "  'language codes',\n",
       "  'color info',\n",
       "  'aspect ratio',\n",
       "  'sound mix',\n",
       "  'certificates',\n",
       "  'original air date',\n",
       "  'rating',\n",
       "  'votes',\n",
       "  'cover url',\n",
       "  'imdbID',\n",
       "  'plot outline',\n",
       "  'languages',\n",
       "  'title',\n",
       "  'year',\n",
       "  'kind',\n",
       "  'original title',\n",
       "  'director',\n",
       "  'writer',\n",
       "  'producer',\n",
       "  'composer',\n",
       "  'cinematographer',\n",
       "  'editor',\n",
       "  'editorial department',\n",
       "  'production design',\n",
       "  'costume designer',\n",
       "  'make up',\n",
       "  'production manager',\n",
       "  'assistant director',\n",
       "  'art department',\n",
       "  'sound crew',\n",
       "  'special effects',\n",
       "  'camera and electrical department',\n",
       "  'costume department',\n",
       "  'music department',\n",
       "  'script department',\n",
       "  'miscellaneous crew',\n",
       "  'akas',\n",
       "  'production companies',\n",
       "  'distributors',\n",
       "  'other companies'],\n",
       " 'plot': ['plot']}"
      ]
     },
     "execution_count": 20,
     "metadata": {},
     "output_type": "execute_result"
    }
   ],
   "source": [
    "movie.infoset2keys"
   ]
  },
  {
   "cell_type": "code",
   "execution_count": 21,
   "id": "07aae1ac-e820-4130-99f2-1121e5439773",
   "metadata": {},
   "outputs": [
    {
     "name": "stdout",
     "output_type": "stream",
     "text": [
      "alternative kind - movie\n",
      "localized title - Brancaleone at the Crusades\n",
      "stars - ['Vittorio Gassman', 'Adolfo Celi', 'Sandro Dori']\n",
      "cast - [<Person id:0002094[http] name:_Vittorio Gassman_>, <Person id:0148041[http] name:_Adolfo Celi_>, <Person id:0233604[http] name:_Sandro Dori_>, <Person id:0518627[http] name:_Beba Loncar_>, <Person id:0698541[http] name:_Gigi Proietti_>, <Person id:0853732[http] name:_Gianrico Tedeschi_>, <Person id:0865515[http] name:_Lino Toffolo_>, <Person id:0897715[http] name:_Paolo Villaggio_>, <Person id:0547379[http] name:_Renzo Marignano_>, <Person id:0557806[http] name:_Augusto Mastrantoni_>, <Person id:0224034[http] name:_Gildo Di Marco_>, <Person id:0788482[http] name:_Shel Shapiro_>, <Person id:0019608[http] name:_Christian Aligny_>, <Person id:0093792[http] name:_Remo Bonarota_>, <Person id:0049836[http] name:_Franco Balducci_>, <Person id:0212121[http] name:_Pietro De Vico_>, <Person id:0275023[http] name:_Edda Ferronao_>, <Person id:0687092[http] name:_Alberto Plebani_>, <Person id:0833087[http] name:_Orazio Stracuzzi_>, <Person id:0723039[http] name:_Enrico Ribulsi_>, <Person id:0264779[http] name:_Arnaldo Fabrizio_>, <Person id:0009457[http] name:_Abou Djamel_>, <Person id:0522221[http] name:_Raymond Louzoum_>, <Person id:0225066[http] name:_Mokthar Dib_>, <Person id:0543973[http] name:_Ali Mansourane_>, <Person id:0252825[http] name:_Hassan El-Hassani_>, <Person id:0693551[http] name:_Maurice Pouillet_>, <Person id:0756433[http] name:_Hilmi Said_>, <Person id:0762248[http] name:_Stefania Sandrelli_>, <Person id:0008709[http] name:_Ceuru Abgui_>, <Person id:0312764[http] name:_Veriano Ginesi_>]\n",
      "genres - ['Adventure', 'Fantasy', 'History']\n",
      "runtimes - ['116']\n",
      "countries - ['Italy', 'Algeria']\n",
      "country codes - ['it', 'dz']\n",
      "language codes - ['it']\n",
      "color info - ['Color::(Technicolor)']\n",
      "aspect ratio - 1.66 : 1\n",
      "sound mix - ['Mono']\n",
      "certificates - ['Argentina:13', 'Italy:T', 'West Germany:12::(nf)']\n",
      "original air date - 24 Dec 1970 (Italy)\n",
      "rating - 7.3\n",
      "votes - 1990\n",
      "cover url - https://m.media-amazon.com/images/M/MV5BNjFlNzY0MDAtYjJhZS00ZDUxLTg5NWMtMjIyZTY5MDIzYWFmXkEyXkFqcGdeQXVyMTQ3Njg3MQ@@._V1_SX101_CR0,0,101,150_.jpg\n",
      "imdbID - 0065489\n",
      "plot outline - Brancaleone and his followers go to the crusades. God allows them a safe crossing of the Mediteranean. Except that they did not sail on the sea but on a... lake! Brancaleone soon finds himself caught in the middle of a feud between... two popes, Gregory and Clement. In order to determine which of the two men is the true pope, Brancaleone must walk on hot coals. After this ordeal, accompanied by a dwarf, a witch, a leper and a masochistic penitent, Brancaleone continues his quest.In the Holy Land, he fights the unfaithful before facing Death in person. He is eventually saved by Tiburzia the witch who is reincarnated in the form of a magpie\n",
      "languages - ['Italian']\n",
      "title - Brancaleone at the Crusades\n",
      "year - 1970\n",
      "kind - movie\n",
      "original title - Brancaleone alle Crociate\n",
      "director - [<Person id:0598102[http] name:_Mario Monicelli_>]\n",
      "writer - [<Person id:0408488[http] name:_Agenore Incrocci_>, <Person id:0769249[http] name:_Furio Scarpelli_>, <Person id:0598102[http] name:_Mario Monicelli_>, <Person id:None[http] name:_None_>, <Person id:0408488[http] name:_Agenore Incrocci_>, <Person id:0769249[http] name:_Furio Scarpelli_>, <Person id:0598102[http] name:_Mario Monicelli_>]\n",
      "producer - [<Person id:0147601[http] name:_Mario Cecchi Gori_>, <Person id:0705085[http] name:_Ahmed Rachedi_>]\n",
      "composer - [<Person id:0006267[http] name:_Carlo Rustichelli_>]\n",
      "cinematographer - [<Person id:0005905[http] name:_Aldo Tonti_>]\n",
      "editor - [<Person id:0557870[http] name:_Ruggero Mastroianni_>]\n",
      "editorial department - [<Person id:0137805[http] name:_Paola Carlozzi_>]\n",
      "production design - [<Person id:0305013[http] name:_Mario Garbuglia_>]\n",
      "costume designer - [<Person id:0305013[http] name:_Mario Garbuglia_>, <Person id:0673741[http] name:_Ugo Pericoli_>]\n",
      "make up - [<Person id:0100642[http] name:_Giusy Bovino_>, <Person id:0136210[http] name:_Rino Carboni_>]\n",
      "production manager - [<Person id:4182652[http] name:_Mustapha Bellil_>, <Person id:4181808[http] name:_Bachir Hanifi_>, <Person id:0526049[http] name:_Luciano Luna_>, <Person id:0563708[http] name:_Vincenzo Mazzucchi_>, <Person id:0577730[http] name:_Alfredo Melidoni_>, <Person id:11386686[http] name:_Franco Porcelli_>, <Person id:0147603[http] name:_Vittorio Cecchi Gori_>]\n",
      "assistant director - [<Person id:0286229[http] name:_Mario Forges Davanzati_>, <Person id:0889402[http] name:_Carlo Vanzina_>]\n",
      "art department - [<Person id:0069542[http] name:_Alvaro Belsole_>, <Person id:0099154[http] name:_Mohamed Boudjema_>, <Person id:0195237[http] name:_Emilio D'Andria_>, <Person id:0320535[http] name:_Ferdinando Giovannoni_>]\n",
      "sound crew - [<Person id:0017221[http] name:_Benito Alchimede_>, <Person id:0681710[http] name:_Umberto Picistrelli_>, <Person id:0143786[http] name:_Fernando Caso_>]\n",
      "special effects - [<Person id:1086751[http] name:_Walfrido Traversari_>]\n",
      "camera and electrical department - [<Person id:0534544[http] name:_Gianni Maddaleni_>, <Person id:0867413[http] name:_Antonio Tonti_>, <Person id:0867416[http] name:_Luciano Tonti_>]\n",
      "costume department - [<Person id:0278515[http] name:_Enrico Fiorentini_>, <Person id:0673742[http] name:_Carmen Pericolo_>]\n",
      "music department - [<Person id:0687157[http] name:_Gianfranco Plenizio_>]\n",
      "script department - [<Person id:0192900[http] name:_Laura Curreli_>]\n",
      "miscellaneous crew - [<Person id:11386688[http] name:_Arezki Ait Mohand_>, <Person id:0135773[http] name:_Ferdinando Caputo_>, <Person id:0207089[http] name:_Remo De Angelis_>, <Person id:0316216[http] name:_Giulio Gianini_>, <Person id:0527810[http] name:_Emanuele Luzzati_>, <Person id:11386687[http] name:_Abdelmadjid Madjid_>, <Person id:2007704[http] name:_Alvaro Spada_>, <Person id:0826361[http] name:_Giandomenico Stellitano_>, <Person id:0046637[http] name:_Angiola Baggi_>, <Person id:0069040[http] name:_Isa Bellini_>, <Person id:0197532[http] name:_Nino Dal Fabbro_>, <Person id:0309383[http] name:_Michel Gast_>, <Person id:2099005[http] name:_Noemi Gifuni_>, <Person id:0346742[http] name:_Antonio Guidi_>, <Person id:0508836[http] name:_Enzo Liberti_>]\n",
      "akas - [\"Brancaleone s'en va-t-aux croisades (Algeria, French title)\", 'Brancaleone at the Crusades (World-wide, English title)', \"Brancaleone s'en va-t-aux croisades (France)\", 'Brancaleone (France)', 'Бранкалеоне на кръстоносен поход (Bulgaria, Bulgarian title)']\n",
      "production companies - [<Company id:0045861[http] name:_Fair Film_>, <Company id:0012785[http] name:_Office National pour le Commerce et l'Industrie Cinématographique_>]\n",
      "distributors - [<Company id:0032224[http] name:_Titanus_>, <Company id:0573392[http] name:_Continental Films_>, <Company id:0015095[http] name:_Planfilm_>, <Company id:0053197[http] name:_Doperfilme_>, <Company id:0075693[http] name:_VPS Video_>, <Company id:0112177[http] name:_Cecchi Gori Home Video_>, <Company id:0413796[http] name:_Filmjuwelen_>, <Company id:0039732[http] name:_General Video_>]\n",
      "other companies - [<Company id:0050821[http] name:_Cine Audio Effects_>, <Company id:0041197[http] name:_Société Nouvelle de Doublage SND_>]\n"
     ]
    }
   ],
   "source": [
    "for param in movie.infoset2keys['main']:\n",
    "    print(f\"{param} - {movie.get(param)}\")"
   ]
  },
  {
   "cell_type": "code",
   "execution_count": 11,
   "id": "c9212ba0-d5a1-41c7-8244-8ca192f50d04",
   "metadata": {},
   "outputs": [
    {
     "data": {
      "text/plain": [
       "['William West', 'Yale Boss', 'Margery Bonney Erskine']"
      ]
     },
     "execution_count": 11,
     "metadata": {},
     "output_type": "execute_result"
    }
   ],
   "source": [
    "movie.get('stars')"
   ]
  },
  {
   "cell_type": "code",
   "execution_count": 12,
   "id": "d8af369b-ed3a-40b4-897a-2ac337d5867f",
   "metadata": {},
   "outputs": [
    {
     "data": {
      "text/plain": [
       "'short'"
      ]
     },
     "execution_count": 12,
     "metadata": {},
     "output_type": "execute_result"
    }
   ],
   "source": [
    "movie.get('alternative kind')"
   ]
  },
  {
   "cell_type": "code",
   "execution_count": null,
   "id": "0878bb6f-4aad-428e-9f1e-8edbddababe7",
   "metadata": {},
   "outputs": [],
   "source": [
    "movie.get('')"
   ]
  }
 ],
 "metadata": {
  "kernelspec": {
   "display_name": "Python 3 (ipykernel)",
   "language": "python",
   "name": "python3"
  },
  "language_info": {
   "codemirror_mode": {
    "name": "ipython",
    "version": 3
   },
   "file_extension": ".py",
   "mimetype": "text/x-python",
   "name": "python",
   "nbconvert_exporter": "python",
   "pygments_lexer": "ipython3",
   "version": "3.9.18"
  }
 },
 "nbformat": 4,
 "nbformat_minor": 5
}
