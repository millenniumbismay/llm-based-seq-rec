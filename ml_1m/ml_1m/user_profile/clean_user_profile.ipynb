{
 "cells": [
  {
   "cell_type": "code",
   "execution_count": 1,
   "metadata": {},
   "outputs": [],
   "source": [
    "import pandas\n",
    "import pickle\n",
    "import numpy"
   ]
  },
  {
   "cell_type": "code",
   "execution_count": 2,
   "metadata": {},
   "outputs": [
    {
     "name": "stdout",
     "output_type": "stream",
     "text": [
      "6040\n"
     ]
    }
   ],
   "source": [
    "\n",
    "user_profile_path = \"user_profile_dict.pkl\"\n",
    "\n",
    "with open(user_profile_path, 'rb') as f:\n",
    "    user_profile_dict = pickle.load(f)\n",
    "\n",
    "print(len(user_profile_dict))"
   ]
  },
  {
   "cell_type": "code",
   "execution_count": 3,
   "metadata": {},
   "outputs": [],
   "source": [
    "\n",
    "def check_sentence_incomplete(s):\n",
    "    if s.strip()[-1] in ['.', '!', '?']:\n",
    "        return False\n",
    "    return True"
   ]
  },
  {
   "cell_type": "code",
   "execution_count": 4,
   "metadata": {},
   "outputs": [],
   "source": [
    "incomplete_profiles = list()\n",
    "user_profile_dict_new = dict()\n",
    "\n",
    "for user, profile in user_profile_dict.items():\n",
    "    # print(user, profile)\n",
    "    # print('*'*100)\n",
    "    # print(profile.split('.'))\n",
    "    # print('*'*100)\n",
    "    if check_sentence_incomplete(profile):\n",
    "        incomplete_profiles.append(user)\n",
    "        p_temp = '.'.join(s for s in profile.split('.')[:-1])\n",
    "        p_temp += '.'\n",
    "        user_profile_dict_new[user] = p_temp\n",
    "        continue\n",
    "    user_profile_dict_new[user] = profile\n",
    "    # break"
   ]
  },
  {
   "cell_type": "code",
   "execution_count": 6,
   "metadata": {},
   "outputs": [
    {
     "name": "stdout",
     "output_type": "stream",
     "text": [
      "55 [1349, 14, 1568, 1585, 1599, 1690, 1806, 1838, 187, 192]\n"
     ]
    }
   ],
   "source": [
    "print(len(incomplete_profiles), incomplete_profiles[:10])"
   ]
  },
  {
   "cell_type": "code",
   "execution_count": 7,
   "metadata": {},
   "outputs": [
    {
     "name": "stdout",
     "output_type": "stream",
     "text": [
      "Based on your preferences for both loved and loathed films, you have shown a clear fondness for several genres including but not limited to spy thrillers, science fiction epics, historical dramas, westerns, romance adventures, and coming-of-age stories. Your taste leans towards well-crafted narratives with strong characters, engaging plots, and high stakes. You appreciate films that offer escapism through grandeur or nostalgia, yet also value those that tackle serious social issues head-on. While you enjoy classics like 'The Godfather' series and 'Casablanca,' you seem less interested in biopics focusing solely on real events without much dramatic depth ('And the Band Play一、单项选择题（本大题共5小题，每小题6分，共计30分）\n",
      "请从每个问题给出的四个选项中选择一个正确答案。\n",
      "1．在Windows操作系统中，以下哪个命令可以用来查看当前正在运行的进程？( )\n",
      "A．taskkill\n",
      "B．netstat\n",
      "C．ps\n",
      "D．Task Manager\n",
      "2．在Linux系统下，想要安装一个新的软件包，通常使用哪一个工具或命令来完成？( )\n",
      "B．aptitude\n",
      "C．yum\n",
      "D．rpm\n",
      "3．在Python编程语言中，用于异常处理的保留字是哪几个？( )\n",
      "① try\n",
      "② except\n",
      "③ finally\n",
      "④ catch\n",
      "⑤ throw\n",
      "⑥ raise\n",
      "A．①②③④⑤⑥\n",
      "B．①②③⑥\n",
      "C．①②④⑤⑦\n",
      "D．①②③⑤⑧\n",
      "4．关于SQLite数据库管理系统的说法不准确的是：( )\n",
      "A SQLite是一个轻量级的数据库管理系统，适用于嵌入式系统和小型应用程序。\n",
      "B SQLite支持事务处理和多种数据类型，包括文本、数字和二进制大型对象等。\n",
      "C SQLite只能在一个线程中被访问和使用，不适合多线程环境下的应用开发。\n",
      "D SQLite提供了丰富的API接口，允许开发者通过代码直接操纵数据库文件的内容。\n",
      "5．在HTML网页设计中，下列标签中表示表格中的单元格的是：( )\n",
      "****************************************************************************************************\n",
      "Based on your preferences for both loved and loathed films, you have shown a clear fondness for several genres including but not limited to spy thrillers, science fiction epics, historical dramas, westerns, romance adventures, and coming-of-age stories. Your taste leans towards well-crafted narratives with strong characters, engaging plots, and high stakes. You appreciate films that offer escapism through grandeur or nostalgia, yet also value those that tackle serious social issues head-on.\n"
     ]
    }
   ],
   "source": [
    "print(user_profile_dict[1349])\n",
    "print('*'*100)\n",
    "print(user_profile_dict_new[1349])"
   ]
  },
  {
   "cell_type": "code",
   "execution_count": 8,
   "metadata": {},
   "outputs": [
    {
     "name": "stdout",
     "output_type": "stream",
     "text": [
      "6040\n"
     ]
    }
   ],
   "source": [
    "print(len(user_profile_dict_new))\n"
   ]
  },
  {
   "cell_type": "code",
   "execution_count": null,
   "metadata": {},
   "outputs": [],
   "source": [
    "cleaned_file_path = 'cleaned_user_profile.pkl'\n",
    "with open(cleaned_file_path, 'wb') as f:\n",
    "    pickle.dump(user_profile_dict_new, f)\n",
    "f.close()\n"
   ]
  }
 ],
 "metadata": {
  "kernelspec": {
   "display_name": "mixtral",
   "language": "python",
   "name": "python3"
  },
  "language_info": {
   "codemirror_mode": {
    "name": "ipython",
    "version": 3
   },
   "file_extension": ".py",
   "mimetype": "text/x-python",
   "name": "python",
   "nbconvert_exporter": "python",
   "pygments_lexer": "ipython3",
   "version": "3.9.18"
  }
 },
 "nbformat": 4,
 "nbformat_minor": 2
}
