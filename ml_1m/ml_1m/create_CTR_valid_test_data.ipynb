{
 "cells": [
  {
   "cell_type": "code",
   "execution_count": 1,
   "id": "1adf3328-1917-4107-8fe3-9fcbb462e279",
   "metadata": {},
   "outputs": [],
   "source": [
    "import pickle\n",
    "import pandas as pd\n",
    "import numpy as np\n",
    "import os\n",
    "import time\n",
    "from dotenv import load_dotenv"
   ]
  },
  {
   "cell_type": "code",
   "execution_count": 2,
   "id": "04979962-6a86-4099-90a2-235a2f4b6f87",
   "metadata": {},
   "outputs": [],
   "source": [
    "from openai import OpenAI\n",
    "load_dotenv()\n",
    "client = OpenAI(\n",
    "    # This is the default and can be omitted\n",
    "    api_key=os.environ.get(\"OPENAI_API_KEY\"),\n",
    ")"
   ]
  },
  {
   "cell_type": "code",
   "execution_count": 3,
   "id": "d1515bab-14ca-4967-8d5e-f4e686707515",
   "metadata": {},
   "outputs": [],
   "source": [
    "user_train_path = './train_valid_test/user_train.pkl'\n",
    "user_valid_path = './train_valid_test/user_valid.pkl'\n",
    "user_test_path = './train_valid_test/user_test.pkl'"
   ]
  },
  {
   "cell_type": "code",
   "execution_count": 4,
   "id": "f850e468-bf69-4b6d-8c71-f41a2af5f28b",
   "metadata": {},
   "outputs": [],
   "source": [
    "with open(user_train_path, 'rb') as f:\n",
    "    user_train_dict = pickle.load(f)"
   ]
  },
  {
   "cell_type": "code",
   "execution_count": 5,
   "id": "e15cf520-ecd1-492f-b990-5142bb43e6fc",
   "metadata": {},
   "outputs": [],
   "source": [
    "with open(user_valid_path, 'rb') as f:\n",
    "    user_valid_dict = pickle.load(f)"
   ]
  },
  {
   "cell_type": "code",
   "execution_count": 6,
   "id": "94bcf5f5-32d0-486c-869f-3ae21010a2fe",
   "metadata": {},
   "outputs": [],
   "source": [
    "with open(user_test_path, 'rb') as f:\n",
    "    user_test_dict = pickle.load(f)"
   ]
  },
  {
   "cell_type": "code",
   "execution_count": 7,
   "id": "4c94a8f0-eb62-45bd-ada1-434a72c0de03",
   "metadata": {},
   "outputs": [
    {
     "name": "stdout",
     "output_type": "stream",
     "text": [
      "[[1961, 2028, 3105, 938, 1962, 1035, 150, 2018, 1028, 1097, 914, 2797, 1287, 2762, 1246, 661, 2918, 531, 3114, 2791, 1029, 2321, 1197, 594, 2398, 1545, 527, 1, 588, 2687, 745, 595, 2294, 783, 2355, 1907]]\n",
      "[1566]\n",
      "[48]\n"
     ]
    }
   ],
   "source": [
    "user_id = 1\n",
    "print(user_train_dict[user_id])\n",
    "print(user_valid_dict[user_id])\n",
    "print(user_test_dict[user_id])"
   ]
  },
  {
   "cell_type": "code",
   "execution_count": 8,
   "id": "5670b298-3f28-421a-a2b8-beb607bb180b",
   "metadata": {},
   "outputs": [
    {
     "data": {
      "text/plain": [
       "36"
      ]
     },
     "execution_count": 8,
     "metadata": {},
     "output_type": "execute_result"
    }
   ],
   "source": [
    "len(user_train_dict[user_id][0])"
   ]
  },
  {
   "cell_type": "code",
   "execution_count": 9,
   "id": "f01e1dfe-82fe-456f-a99a-d471308b9447",
   "metadata": {},
   "outputs": [
    {
     "name": "stdout",
     "output_type": "stream",
     "text": [
      "\n",
      "            The user has a diverse taste in movies, with a preference for thought-provoking and emotionally engaging films. They enjoy dramas that explore complex themes such as mental illness, racial injustice, and the meaning of life. The user is drawn to movies that challenge their perspective and provoke deep thought, often favoring those that tackle serious and mature subjects.\n",
      "            \n",
      "            In addition to dramas, the user also has a soft spot for classic Disney films, as evidenced by their fondness for Cinderella. They appreciate the enchanting storytelling and timeless charm of these animated tales.\n",
      "            \n",
      "            The user's taste in movies also extends to comedies, as seen in their appreciation for the hilarious antics of Wallace & Gromit and the dark humor of Fargo. They are also drawn to adventure films, as demonstrated by their love for Star Wars: Episode IV - A New Hope and Back to the Future.\n",
      "            \n",
      "            However, the user is not a fan of horror movies, as none are listed among their favorites. They also tend to avoid movies that are overly violent or graphic, preferring instead to focus on stories that are emotionally resonant and intellectually stimulating.\n",
      "            \n",
      "            Overall, the user's movie preferences reflect a deep appreciation for storytelling, character development, and thematic depth.\n"
     ]
    }
   ],
   "source": [
    "user_profile_path = './user_profile/cleaned_user_profile_mixtral.pkl'\n",
    "with open(user_profile_path, 'rb') as f:\n",
    "    user_profile_dict = pickle.load(f)\n",
    "print(user_profile_dict[user_id])"
   ]
  },
  {
   "cell_type": "code",
   "execution_count": 10,
   "id": "35e60e15-35e4-456d-aef3-dc9a96f91d08",
   "metadata": {},
   "outputs": [
    {
     "data": {
      "text/html": [
       "<div>\n",
       "<style scoped>\n",
       "    .dataframe tbody tr th:only-of-type {\n",
       "        vertical-align: middle;\n",
       "    }\n",
       "\n",
       "    .dataframe tbody tr th {\n",
       "        vertical-align: top;\n",
       "    }\n",
       "\n",
       "    .dataframe thead th {\n",
       "        text-align: right;\n",
       "    }\n",
       "</style>\n",
       "<table border=\"1\" class=\"dataframe\">\n",
       "  <thead>\n",
       "    <tr style=\"text-align: right;\">\n",
       "      <th></th>\n",
       "      <th>movie_id</th>\n",
       "      <th>name</th>\n",
       "      <th>cleaned_genre</th>\n",
       "      <th>year</th>\n",
       "      <th>summary</th>\n",
       "    </tr>\n",
       "  </thead>\n",
       "  <tbody>\n",
       "    <tr>\n",
       "      <th>0</th>\n",
       "      <td>1</td>\n",
       "      <td>Toy Story</td>\n",
       "      <td>Animation,Children's,Comedy</td>\n",
       "      <td>1995</td>\n",
       "      <td>Toy Story is a groundbreaking animated film th...</td>\n",
       "    </tr>\n",
       "    <tr>\n",
       "      <th>1</th>\n",
       "      <td>2</td>\n",
       "      <td>Jumanji</td>\n",
       "      <td>Adventure,Children's,Fantasy</td>\n",
       "      <td>1995</td>\n",
       "      <td>\"Jumanji (1995) is a thrilling adventure film ...</td>\n",
       "    </tr>\n",
       "    <tr>\n",
       "      <th>2</th>\n",
       "      <td>3</td>\n",
       "      <td>Grumpier Old Men</td>\n",
       "      <td>Comedy,Romance</td>\n",
       "      <td>1995</td>\n",
       "      <td>\"Grumpier Old Men is a hilarious and heartwarm...</td>\n",
       "    </tr>\n",
       "    <tr>\n",
       "      <th>3</th>\n",
       "      <td>4</td>\n",
       "      <td>Waiting to Exhale</td>\n",
       "      <td>Comedy,Drama</td>\n",
       "      <td>1995</td>\n",
       "      <td>\"Waiting to Exhale\" (1995) is a heartfelt dram...</td>\n",
       "    </tr>\n",
       "    <tr>\n",
       "      <th>4</th>\n",
       "      <td>5</td>\n",
       "      <td>Father of the Bride Part II</td>\n",
       "      <td>Comedy</td>\n",
       "      <td>1995</td>\n",
       "      <td>Father of the Bride Part II (1995) is a heartw...</td>\n",
       "    </tr>\n",
       "  </tbody>\n",
       "</table>\n",
       "</div>"
      ],
      "text/plain": [
       "   movie_id                          name                 cleaned_genre  year  \\\n",
       "0         1                    Toy Story    Animation,Children's,Comedy  1995   \n",
       "1         2                      Jumanji   Adventure,Children's,Fantasy  1995   \n",
       "2         3             Grumpier Old Men                 Comedy,Romance  1995   \n",
       "3         4            Waiting to Exhale                   Comedy,Drama  1995   \n",
       "4         5  Father of the Bride Part II                         Comedy  1995   \n",
       "\n",
       "                                             summary  \n",
       "0  Toy Story is a groundbreaking animated film th...  \n",
       "1  \"Jumanji (1995) is a thrilling adventure film ...  \n",
       "2  \"Grumpier Old Men is a hilarious and heartwarm...  \n",
       "3  \"Waiting to Exhale\" (1995) is a heartfelt dram...  \n",
       "4  Father of the Bride Part II (1995) is a heartw...  "
      ]
     },
     "execution_count": 10,
     "metadata": {},
     "output_type": "execute_result"
    }
   ],
   "source": [
    "movie_summary_df = pd.read_csv('movie_summary_25_words.csv')\n",
    "movie_summary_df.head()"
   ]
  },
  {
   "cell_type": "code",
   "execution_count": 11,
   "id": "a69d1d49-deac-473c-b2e8-eab752a23fbf",
   "metadata": {},
   "outputs": [
    {
     "data": {
      "text/html": [
       "<div>\n",
       "<style scoped>\n",
       "    .dataframe tbody tr th:only-of-type {\n",
       "        vertical-align: middle;\n",
       "    }\n",
       "\n",
       "    .dataframe tbody tr th {\n",
       "        vertical-align: top;\n",
       "    }\n",
       "\n",
       "    .dataframe thead th {\n",
       "        text-align: right;\n",
       "    }\n",
       "</style>\n",
       "<table border=\"1\" class=\"dataframe\">\n",
       "  <thead>\n",
       "    <tr style=\"text-align: right;\">\n",
       "      <th></th>\n",
       "      <th>user_id</th>\n",
       "      <th>user_profile</th>\n",
       "    </tr>\n",
       "  </thead>\n",
       "  <tbody>\n",
       "    <tr>\n",
       "      <th>0</th>\n",
       "      <td>1</td>\n",
       "      <td>female k-12 student under 18 years of age</td>\n",
       "    </tr>\n",
       "    <tr>\n",
       "      <th>1</th>\n",
       "      <td>2</td>\n",
       "      <td>male self-employed above 56 years of age</td>\n",
       "    </tr>\n",
       "    <tr>\n",
       "      <th>2</th>\n",
       "      <td>3</td>\n",
       "      <td>male scientist between 25 to 34 years of age</td>\n",
       "    </tr>\n",
       "    <tr>\n",
       "      <th>3</th>\n",
       "      <td>4</td>\n",
       "      <td>male executive/managerial between 45 to 49 yea...</td>\n",
       "    </tr>\n",
       "    <tr>\n",
       "      <th>4</th>\n",
       "      <td>5</td>\n",
       "      <td>male writer between 25 to 34 years of age</td>\n",
       "    </tr>\n",
       "  </tbody>\n",
       "</table>\n",
       "</div>"
      ],
      "text/plain": [
       "   user_id                                       user_profile\n",
       "0        1          female k-12 student under 18 years of age\n",
       "1        2           male self-employed above 56 years of age\n",
       "2        3       male scientist between 25 to 34 years of age\n",
       "3        4  male executive/managerial between 45 to 49 yea...\n",
       "4        5          male writer between 25 to 34 years of age"
      ]
     },
     "execution_count": 11,
     "metadata": {},
     "output_type": "execute_result"
    }
   ],
   "source": [
    "user_df = pd.read_csv('users.csv')\n",
    "user_df.head()"
   ]
  },
  {
   "cell_type": "code",
   "execution_count": 12,
   "id": "b90be7ee-0d13-4180-b3f6-351ce3e0bf59",
   "metadata": {},
   "outputs": [
    {
     "data": {
      "text/html": [
       "<div>\n",
       "<style scoped>\n",
       "    .dataframe tbody tr th:only-of-type {\n",
       "        vertical-align: middle;\n",
       "    }\n",
       "\n",
       "    .dataframe tbody tr th {\n",
       "        vertical-align: top;\n",
       "    }\n",
       "\n",
       "    .dataframe thead th {\n",
       "        text-align: right;\n",
       "    }\n",
       "</style>\n",
       "<table border=\"1\" class=\"dataframe\">\n",
       "  <thead>\n",
       "    <tr style=\"text-align: right;\">\n",
       "      <th></th>\n",
       "      <th>user_id</th>\n",
       "      <th>movie_id</th>\n",
       "      <th>rating</th>\n",
       "    </tr>\n",
       "  </thead>\n",
       "  <tbody>\n",
       "    <tr>\n",
       "      <th>0</th>\n",
       "      <td>1</td>\n",
       "      <td>3186</td>\n",
       "      <td>4</td>\n",
       "    </tr>\n",
       "    <tr>\n",
       "      <th>1</th>\n",
       "      <td>1</td>\n",
       "      <td>1721</td>\n",
       "      <td>4</td>\n",
       "    </tr>\n",
       "    <tr>\n",
       "      <th>2</th>\n",
       "      <td>1</td>\n",
       "      <td>1022</td>\n",
       "      <td>5</td>\n",
       "    </tr>\n",
       "    <tr>\n",
       "      <th>3</th>\n",
       "      <td>1</td>\n",
       "      <td>1270</td>\n",
       "      <td>5</td>\n",
       "    </tr>\n",
       "    <tr>\n",
       "      <th>4</th>\n",
       "      <td>1</td>\n",
       "      <td>2340</td>\n",
       "      <td>3</td>\n",
       "    </tr>\n",
       "  </tbody>\n",
       "</table>\n",
       "</div>"
      ],
      "text/plain": [
       "   user_id  movie_id  rating\n",
       "0        1      3186       4\n",
       "1        1      1721       4\n",
       "2        1      1022       5\n",
       "3        1      1270       5\n",
       "4        1      2340       3"
      ]
     },
     "execution_count": 12,
     "metadata": {},
     "output_type": "execute_result"
    }
   ],
   "source": [
    "ratings_df = pd.read_csv('ratings.csv')\n",
    "ratings_df.head()"
   ]
  },
  {
   "cell_type": "code",
   "execution_count": 30,
   "id": "e931275e-9417-4bc3-9f9d-ee7110b18c16",
   "metadata": {},
   "outputs": [],
   "source": [
    "crt_valid_zeroshot_dataset = dict()\n",
    "cnt = 0\n",
    "for user, user_profile in user_profile_dict.items():\n",
    "    # if cnt < 4578:\n",
    "    #     cnt += 1\n",
    "    #     continue\n",
    "    cnt += 1\n",
    "    # print(f\"User: {user}\")\n",
    "    prompt = \"\"\"\n",
    "    You are an expert movie critic. You are provided with the user profile and list of recent movies that the user has watched and whether the user likes it or not.\n",
    "    User Profile -\n",
    "    \"\"\"\n",
    "    ### Create the user profile\n",
    "    final_user_profile = \"The user is a \"+user_df[user_df['user_id'] == user]['user_profile'].values[0]+user_profile+\"\\n\"\n",
    "    # print(final_user_profile)\n",
    "    prompt += final_user_profile\n",
    "    \n",
    "    prompt += \"\"\"\n",
    "   User watched the following movies recently in the given order. List of recent movies and their description -\n",
    "    \"\"\"\n",
    "    # print(prompt)\n",
    "    ### Create the like/dislike list of last 20 movies\n",
    "    # print(user_train_dict[user][0][-20:])\n",
    "    user_rating_dict = ratings_df[ratings_df['user_id'] == user]\n",
    "    # print(user_rating_dict)\n",
    "    liked_movies = []\n",
    "    disliked_movies = []\n",
    "    for movie in user_train_dict[user][0][-20:]:\n",
    "        user_movie_rating = user_rating_dict[user_rating_dict['movie_id'] == movie]['rating'].values[0]\n",
    "        # print(movie, user_movie_rating)\n",
    "        movie_details = movie_summary_df[movie_summary_df['movie_id'] == movie]\n",
    "        if user_movie_rating >= 3:\n",
    "            if movie != user_train_dict[user][0][-20:][-1]:\n",
    "                prompt += \"\\nLiked \" + movie_details['name'].values[0] + \"(Genre: \" + movie_details['cleaned_genre'].values[0] + \") \" + movie_details['summary'].values[0] + \",\"\n",
    "            else:\n",
    "                ### For the last movie - ending with a . and starting new line\n",
    "                prompt += \"\\nLiked \" + movie_details['name'].values[0] + \"(Genre: \" + movie_details['cleaned_genre'].values[0] + \") \" +  movie_details['summary'].values[0] + \"\\n\"\n",
    "        else:\n",
    "            if movie != user_train_dict[user][0][-20:][-1]:\n",
    "                prompt += \"\\nDisliked \" + movie_details['name'].values[0] + \"(Genre: \" + movie_details['cleaned_genre'].values[0] + \") \" +  movie_details['summary'].values[0] + \",\"\n",
    "            else:\n",
    "                ### For the last movie - ending with a . and starting new line\n",
    "                prompt += \"\\nDisliked \" + movie_details['name'].values[0] + \"(Genre: \" + movie_details['cleaned_genre'].values[0] + \") \" +  movie_details['summary'].values[0] + \"\\n\"\n",
    "\n",
    "    ### To predict\n",
    "    prompt += \"\"\"\n",
    "    Analyze all the information given in order. Do not use any information not mentioned above. Summarize the user's behavior from the given list of movies and identify the movie characteristics that he likes and dislikes.\n",
    "    Now, from this analysis provide step-by-step reasoning and predict whether the user will like or dislike the next movie -\n",
    "    \"\"\"\n",
    "    # print(user_valid_dict[user][0])\n",
    "    movie_details = movie_summary_df[movie_summary_df['movie_id'] == user_valid_dict[user][0]]\n",
    "    # print(\"Test Movie Rating:\", user_rating_dict[user_rating_dict['movie_id'] == user_valid_dict[user][0]]['rating'].values[0])\n",
    "    prompt += movie_details['name'].values[0] + \"(Genre: \" + movie_details['cleaned_genre'].values[0] + \") \" +  movie_details['summary'].values[0]\n",
    "    prompt += f\"\"\"\n",
    "    As an expert movie critic, provide the reasoning why the user will like or dislike {movie_details['name'].values[0]} by analyzing user behavior, movie watching history and explain your reasoning.\n",
    "    According to your reasoning, predict whether the user will like the movie or not. Finally answer with a Yes or No in the following format -\n",
    "    Prediction: Yes or No\n",
    "    \"\"\"\n",
    "    # print(f\"Prompt length: {len(prompt.split())}\", prompt)\n",
    "    crt_valid_zeroshot_dataset[user] = prompt\n",
    "    # break"
   ]
  },
  {
   "cell_type": "code",
   "execution_count": 31,
   "id": "1cace0cf-ef70-4a92-b4b0-c5511b411c95",
   "metadata": {},
   "outputs": [
    {
     "name": "stdout",
     "output_type": "stream",
     "text": [
      "6040\n"
     ]
    }
   ],
   "source": [
    "print(len(crt_valid_zeroshot_dataset))"
   ]
  },
  {
   "cell_type": "code",
   "execution_count": 32,
   "id": "1778ac75-a508-471d-a340-1bf2ca70d29c",
   "metadata": {},
   "outputs": [
    {
     "data": {
      "text/plain": [
       "'\\n    You are an expert movie critic. You are provided with the user profile and list of recent movies that the user has watched and whether the user likes it or not.\\n    User Profile -\\n    The user is a female academic/educator between 35 to 44 years of age\\n            The user has a diverse taste in movies, with a preference for complex and thought-provoking films. They enjoy movies that push the boundaries of sanity and freedom, as seen in \"One Flew Over the Cuckoo\\'s Nest,\" and morally ambiguous characters, as depicted in \"Miller\\'s Crossing.\" The user is drawn to political dramas, as evidenced by their interest in \"The Candidate,\" and adventure films like \"Raiders of the Lost Ark.\"\\n            The user also has a soft spot for movies that explore the human condition, such as \"Butterfly (La Lengua de las Mariposas),\" which delves into the bond between a young boy and his teacher during the Spanish Civil War. They are also interested in movies that intertwine past and present, as seen in \"Dead Again,\" and movies that explore corruption and scandal, as in \"L.A. Confidential.\"\\n            On the other hand, the user is not a fan of mind-bending psychological thrillers, as evidenced by their dislike of \"Jacob\\'s Ladder.\" They also tend to avoid comedies, as seen by their dislike of \"A Very Brady Sequel.\"\\n            Overall, the user is drawn to complex and thought-provoking films that explore the human condition, with a preference for movies that push the boundaries of reality and morality.\\n\\n   User watched the following movies recently in the given order. List of recent movies and their description -\\n    \\nLiked Clear and Present Danger (Genre: Action,Adventure,Thriller) \"Clear and Present Danger\" is a gripping political thriller that follows CIA analyst Jack Ryan as he uncovers corruption within the U.S. government while battling Colombian drug cartels.,\\nDisliked Twister (Genre: Action,Adventure,Romance,Thriller) \"Twister (1996) is a thrilling disaster film that follows storm chasers as they pursue tornadoes, delivering intense action and impressive visual effects.\",\\nDisliked Air Force One (Genre: Action,Thriller) \"Air Force One (1997) is a thrilling action film where the President of the United States fights terrorists aboard his own plane.\",\\nLiked Ghost and the Darkness, The (Genre: Action,Adventure) \"Ghost and the Darkness\" (1996) is a thrilling adventure based on true events, following two man-eating lions terrorizing a construction site in Africa.,\\nDisliked Fifth Element, The (Genre: Action,Sci-Fi) The Fifth Element is a visually stunning and action-packed sci-fi film set in a futuristic world, featuring an epic battle to save humanity from an ancient evil force.,\\nLiked Maverick (Genre: Action,Comedy,Western) \"Maverick\" is a witty and entertaining Western comedy that follows the adventures of a charming gambler trying to win a high-stakes poker tournament.,\\nDisliked Single White Female (Genre: Action) \"Single White Female (1992) is a psychological thriller about a woman who becomes obsessed with her roommate, leading to dangerous consequences.\",\\nDisliked World Is Not Enough, The (Genre: Action,Thriller) In \"The World Is Not Enough\" (1999), James Bond must protect an oil heiress from a terrorist plotting to control the world\\'s oil supply.,\\nDisliked Days of Thunder (Genre: Action,Romance) Days of Thunder (1990) is a high-octane racing film directed by Tony Scott, starring Tom Cruise as a hotshot driver battling personal and professional challenges on the NASCAR circuit.,\\nDisliked Beverly Hills Cop III (Genre: Action,Comedy) \"Beverly Hills Cop III (1994) is a lackluster sequel that fails to capture the charm and excitement of its predecessors, offering little more than tired action clichés.\",\\nLiked Replacement Killers, The (Genre: Action,Thriller) \"Replacement Killers (1998) is a high-octane action film about a hitman and a forger teaming up to outsmart their ruthless enemies.\",\\nLiked U.S. Marshalls (Genre: Action,Thriller) \"U.S. Marshals (1998) is a thrilling action film that follows a team of marshals as they hunt down a fugitive while uncovering a conspiracy.\",\\nDisliked Dante\\'s Peak (Genre: Action,Thriller) \"Dante\\'s Peak is a thrilling disaster film that follows a volcanologist\\'s race against time to save a small town from an impending volcanic eruption.\",\\nDisliked Hot Shots! Part Deux (Genre: Action,Comedy,War) Hot Shots! Part Deux is a hilarious and over-the-top parody of action movies, filled with slapstick humor and clever spoofs.,\\nDisliked River Wild, The (Genre: Action,Thriller) A thrilling adventure film about a family on a white-water rafting trip who must outsmart dangerous criminals in order to survive.,\\nLiked Cliffhanger (Genre: Action,Adventure,Crime) \"Cliffhanger (1993) is a thrilling action film set in the Rocky Mountains, where a mountain climber must rescue hostages from dangerous criminals.\",\\nLiked Air America (Genre: Action,Comedy) \"Air America is an action-comedy film set during the Vietnam War, following two pilots who work for a covert CIA airline.\",\\nLiked Dick Tracy (Genre: Action,Crime) \"Dick Tracy, a stylish and visually stunning crime noir film, brings the iconic comic strip detective to life with its vibrant colors and memorable performances.\",\\nDisliked Inspector Gadget (Genre: Action,Adventure,Children\\'s,Comedy) Inspector Gadget (1999) is a family-friendly action-comedy about a bumbling security guard turned cyborg detective, filled with slapstick humor and gadget-filled adventures.,\\nDisliked Last Action Hero (Genre: Action,Comedy) \"Last Action Hero is a self-aware action-comedy that cleverly satirizes the genre, with Arnold Schwarzenegger playing a fictional character who enters the real world.\"\\n\\n    Analyze all the information given in order. Do not use any information not mentioned above. Summarize the user\\'s behavior from the given list of movies and identify the movie characteristics that he likes and dislikes.\\n    Now, from this analysis provide step-by-step reasoning and predict whether the user will like or dislike the next movie -\\n    Blues Brothers 2000 (Genre: Action,Comedy,Musical) Blues Brothers 2000 is a lively musical comedy sequel that follows the new adventures of Jake and Elwood as they assemble a band to save an orphanage.\\n    As an expert movie critic, provide the reasoning why the user will like or dislike Blues Brothers 2000  by analyzing user behavior, movie watching history and explain your reasoning.\\n    According to your reasoning, predict whether the user will like the movie or not. Finally answer with a Yes or No in the following format -\\n    Prediction: Yes or No\\n    '"
      ]
     },
     "execution_count": 32,
     "metadata": {},
     "output_type": "execute_result"
    }
   ],
   "source": [
    "crt_valid_zeroshot_dataset[3246]"
   ]
  },
  {
   "cell_type": "code",
   "execution_count": 35,
   "id": "3796708a-deaa-4ee9-aaba-0ef996c7a5f8",
   "metadata": {},
   "outputs": [],
   "source": [
    "crt_valid_zeroshot_dataset_path = './crt_zeroshot_dataset/crt_valid_zeroshot_dataset.pkl'\n",
    "with open(crt_valid_zeroshot_dataset_path, 'wb') as f:\n",
    "    pickle.dump(crt_valid_zeroshot_dataset, f)\n",
    "    f.close()"
   ]
  },
  {
   "cell_type": "code",
   "execution_count": 37,
   "id": "3d04813f-70a9-44ef-a637-809c0d5f43c1",
   "metadata": {},
   "outputs": [],
   "source": [
    "# with open(crt_valid_zeroshot_dataset_path, 'rb') as f:\n",
    "#     crt_valid_zeroshot_dataset_temp = pickle.load(f)\n",
    "# print(len(crt_valid_zeroshot_dataset_temp), crt_valid_zeroshot_dataset_temp[1])"
   ]
  },
  {
   "cell_type": "code",
   "execution_count": 33,
   "id": "b304d4d8-8f0f-4650-9260-c0864bb95eef",
   "metadata": {},
   "outputs": [
    {
     "name": "stdout",
     "output_type": "stream",
     "text": [
      "\n",
      "    You are an expert movie critic. You are provided with the user profile and list of recent movies that the user has watched and whether the user likes it or not.\n",
      "    User Profile -\n",
      "    The user is a male scientist between 25 to 34 years of age\n",
      "            The user has a clear preference for classic and iconic films, with a particular affinity for the Star Wars franchise, as evidenced by their inclusion of multiple Star Wars films in their liked movies list. They also enjoy adventure and sci-fi genres, with movies like E.T., Terminator 2, and Raiders of the Lost Ark among their favorites.\n",
      "            \n",
      "            The user's liked movies also suggest a fondness for historical dramas and war films, with Saving Private Ryan, Braveheart, and Glory all making the list. Additionally, they appreciate movies with a strong emotional core, as seen in the inclusion of Homeward Bound and She's So Lovely.\n",
      "            \n",
      "            On the other hand, the user's disliked movies list suggests a preference for more contemporary action films, with Metro and Die Hard being the only action movies included in their liked movies. They may also be less interested in romantic dramas, as evidenced by their dislike of She's So Lovely.\n",
      "            \n",
      "            Overall, the user's movie preferences suggest a taste for classic and iconic films, with a particular affinity for adventure, sci-fi, and historical dramas. They may also appreciate movies with a strong emotional core and a sense of nostalgia. However, they may be less interested in contemporary action films and romantic dramas.\n",
      "\n",
      "   User watched the following movies recently in the given order. List of recent movies and their description -\n",
      "    \n",
      "Disliked Last Man Standing (Genre: Action,Drama,Western) \"Last Man Standing is a gritty and action-packed western thriller, starring Bruce Willis as a lone gunman caught in a deadly gang war.\",\n",
      "Liked Juror, The (Genre: Drama,Thriller) A gripping courtroom drama where a juror, played by Demi Moore, fights against the odds to uncover the truth and save an innocent man.,\n",
      "Liked Walk in the Clouds, A (Genre: Drama,Romance) A romantic drama set in post-WWII California, where a soldier pretends to be a married man to help a pregnant woman and falls in love with her.,\n",
      "Liked Sommersby (Genre: Drama,Mystery,Romance) \"Sommersby\" is a captivating drama set in post-Civil War America, exploring identity, love, and redemption through a man's return from the dead.,\n",
      "Disliked White Man's Burden (Genre: Drama) \"White Man's Burden (1995) is a thought-provoking drama that explores racial tensions by flipping the roles of black and white Americans in a society divided by prejudice.\",\n",
      "Liked Practical Magic (Genre: Drama,Romance) \"Practical Magic is a charming and whimsical film about two witch sisters who must confront love, family curses, and the power of sisterhood.\",\n",
      "Liked It Could Happen to You (Genre: Drama,Romance) \"It Could Happen to You\" is a heartwarming romantic comedy about a kind-hearted cop who splits his lottery winnings with a waitress, changing their lives forever.,\n",
      "Disliked Your Friends and Neighbors (Genre: Drama) \"Your Friends and Neighbors (1998) is a dark comedy that explores the complexities of relationships, exposing the raw and often uncomfortable truths about human nature.\",\n",
      "Liked General's Daughter, The (Genre: Drama,Thriller) A gripping military thriller that delves into the dark secrets of a high-ranking officer's daughter, leading to a shocking murder investigation.,\n",
      "Disliked We're No Angels (Genre: Drama) \"We're No Angels\" is a charming and hilarious comedy about two escaped convicts who pose as priests to help a struggling family during Christmas.,\n",
      "Disliked Out of Africa (Genre: Drama,Romance) \"Out of Africa\" is a visually stunning and emotionally captivating epic that explores love, loss, and the beauty of the African landscape.,\n",
      "Liked Powder (Genre: Drama,Sci-Fi) \"Powder (1995) is a thought-provoking drama about an extraordinary young man with supernatural abilities who challenges societal norms and explores the meaning of humanity.\",\n",
      "Liked Instinct (Genre: Drama,Thriller) \"Instinct (1999) is a gripping psychological thriller that explores the thin line between sanity and madness, with powerful performances by Anthony Hopkins and Cuba Gooding Jr.\",\n",
      "Disliked Corruptor, The (Genre: Action,Crime,Drama,Thriller) \"The Corruptor\" is a gritty crime thriller set in New York City, exploring the dangerous alliance between a rookie cop and a powerful Chinese gang.,\n",
      "Liked Where the Heart Is (Genre: Comedy,Drama) \"Where the Heart Is\" (2000) is a heartwarming drama about a pregnant teenager who finds love and strength while living in a Walmart store.,\n",
      "Liked Jack (Genre: Comedy,Drama) \"Jack\" is a heartwarming comedy-drama about a boy who ages four times faster than normal, navigating the challenges of growing up in an accelerated world.,\n",
      "Disliked Evening Star, The (Genre: Comedy,Drama) The Evening Star (1996) is a heartfelt drama that follows the life of Aurora Greenway as she navigates love, loss, and family in her later years.,\n",
      "Liked Preacher's Wife, The (Genre: Drama) A heartwarming and uplifting film about a preacher who receives divine intervention in the form of an angel to help save his struggling church and marriage.,\n",
      "Liked Indecent Proposal (Genre: Drama) Indecent Proposal (1993) is a provocative drama about a wealthy man who offers a young couple one million dollars for a night with the wife.,\n",
      "Liked 200 Cigarettes (Genre: Comedy,Drama) \"200 Cigarettes is a comedic ensemble film set on New Year's Eve in 1981, following various characters navigating love and partying in New York City.\"\n",
      "\n",
      "    Analyze all the information given in order. Do not use any information not mentioned above. Summarize the user's behavior from the given list of movies and identify the movie characteristics that he likes and dislikes.\n",
      "    Now, from this analysis provide step-by-step reasoning and predict whether the user will like or dislike the next movie -\n",
      "    Showgirls (Genre: Drama) \"Showgirls\" (1995) is a controversial and over-the-top drama about a young woman's rise to fame in the world of Las Vegas showgirls.\n",
      "    As an expert movie critic, provide the reasoning why the user will like or dislike Showgirls  by analyzing user behavior, movie watching history and explain your reasoning.\n",
      "    According to your reasoning, predict whether the user will like the movie or not. Finally answer with a Yes or No in the following format -\n",
      "    Prediction: Yes or No\n",
      "    \n",
      "****************************************************************************************************\n",
      "Based on the user's movie preferences and behavior, it is evident that the user enjoys classic and iconic films, particularly in the adventure, sci-fi, and historical drama genres. They also appreciate movies with a strong emotional core and may not be as interested in contemporary action films or romantic dramas.\n",
      "\n",
      "Looking at the list of recent movies watched by the user, it is clear that they have a preference for dramas, thrillers, and comedies with heartwarming or thought-provoking themes. They have liked movies such as \"The Juror,\" \"A Walk in the Clouds,\" \"Sommersby,\" \"Practical Magic,\" and \"The Preacher's Wife,\" which all have elements of drama, romance, or comedy with emotional depth.\n",
      "\n",
      "Given that \"Showgirls\" is described as a controversial and over-the-top drama about a young woman's rise to fame in the world of Las Vegas showgirls, it is likely that the user may not enjoy this movie. The themes and tone of \"Showgirls\" may not align with the user's preference for classic, emotionally resonant films with a sense of nostalgia.\n",
      "\n",
      "Prediction: No\n"
     ]
    },
    {
     "data": {
      "text/plain": [
       "169"
      ]
     },
     "execution_count": 33,
     "metadata": {},
     "output_type": "execute_result"
    }
   ],
   "source": [
    "content = prompt\n",
    "print(content)\n",
    "print('*'*100)\n",
    "response = client.chat.completions.create(\n",
    "  model=\"gpt-3.5-turbo\",\n",
    "  messages=[\n",
    "    {\n",
    "      \"role\": \"user\",\n",
    "      \"content\": content\n",
    "    }\n",
    "  ],\n",
    "  temperature=0,\n",
    "  max_tokens=1024,\n",
    "  top_p=0.75\n",
    ")\n",
    "\n",
    "\n",
    "response = response.choices[0].message.content\n",
    "print(response)\n",
    "len(response.split(' '))"
   ]
  },
  {
   "cell_type": "code",
   "execution_count": null,
   "id": "c920c05f-4c68-4208-86e0-7000aced1cc4",
   "metadata": {},
   "outputs": [],
   "source": []
  }
 ],
 "metadata": {
  "kernelspec": {
   "display_name": "Python 3 (ipykernel)",
   "language": "python",
   "name": "python3"
  },
  "language_info": {
   "codemirror_mode": {
    "name": "ipython",
    "version": 3
   },
   "file_extension": ".py",
   "mimetype": "text/x-python",
   "name": "python",
   "nbconvert_exporter": "python",
   "pygments_lexer": "ipython3",
   "version": "3.9.18"
  }
 },
 "nbformat": 4,
 "nbformat_minor": 5
}
