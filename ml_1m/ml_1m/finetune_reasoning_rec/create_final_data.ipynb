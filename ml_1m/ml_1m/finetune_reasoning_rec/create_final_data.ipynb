{
 "cells": [
  {
   "cell_type": "code",
   "execution_count": 1,
   "id": "d030076e-28d9-4c3d-982d-fa6c4a634a96",
   "metadata": {},
   "outputs": [],
   "source": [
    "import pickle\n",
    "import pandas as pd\n",
    "import numpy as np\n",
    "import os\n",
    "import json\n",
    "import time\n",
    "from dotenv import load_dotenv"
   ]
  },
  {
   "cell_type": "code",
   "execution_count": 2,
   "id": "f20d1e2b-d511-4a45-bf2f-91346da269c3",
   "metadata": {},
   "outputs": [],
   "source": [
    "user_train_path = '../train_valid_test/user_train.pkl'\n",
    "user_valid_path = '../train_valid_test/user_valid.pkl'\n",
    "user_test_path = '../train_valid_test/user_test.pkl'"
   ]
  },
  {
   "cell_type": "code",
   "execution_count": 3,
   "id": "28b4aaf2-9db0-4d75-a662-c7fc10dfa194",
   "metadata": {},
   "outputs": [],
   "source": [
    "with open(user_train_path, 'rb') as f:\n",
    "    user_train_dict = pickle.load(f)\n",
    "with open(user_valid_path, 'rb') as f:\n",
    "    user_valid_dict = pickle.load(f)\n",
    "with open(user_test_path, 'rb') as f:\n",
    "    user_test_dict = pickle.load(f)"
   ]
  },
  {
   "cell_type": "code",
   "execution_count": 4,
   "id": "f2a78613-a43b-4d56-b4b0-bf5bbf3288dc",
   "metadata": {},
   "outputs": [
    {
     "name": "stdout",
     "output_type": "stream",
     "text": [
      "[[1961, 2028, 3105, 938, 1962, 1035, 150, 2018, 1028, 1097, 914, 2797, 1287, 2762, 1246, 661, 2918, 531, 3114, 2791, 1029, 2321, 1197, 594, 2398, 1545, 527, 1, 588, 2687, 745, 595, 2294, 783, 2355, 1907]]\n",
      "[1566]\n",
      "[48]\n",
      "36\n"
     ]
    }
   ],
   "source": [
    "user_id = 1\n",
    "print(user_train_dict[user_id])\n",
    "print(user_valid_dict[user_id])\n",
    "print(user_test_dict[user_id])\n",
    "print(len(user_train_dict[user_id][0]))"
   ]
  },
  {
   "cell_type": "code",
   "execution_count": 5,
   "id": "6805537e-c2a6-4e22-9ca6-e70c96b80393",
   "metadata": {},
   "outputs": [
    {
     "name": "stdout",
     "output_type": "stream",
     "text": [
      "\n",
      "            The user has a diverse taste in movies, with a preference for thought-provoking and emotionally engaging films. They enjoy dramas that explore complex themes such as mental illness, racial injustice, and the meaning of life. The user is drawn to movies that challenge their perspective and provoke deep thought, often favoring those that tackle serious and mature subjects.\n",
      "            \n",
      "            In addition to dramas, the user also has a soft spot for classic Disney films, as evidenced by their fondness for Cinderella. They appreciate the enchanting storytelling and timeless charm of these animated tales.\n",
      "            \n",
      "            The user's taste in movies also extends to comedies, as seen in their appreciation for the hilarious antics of Wallace & Gromit and the dark humor of Fargo. They are also drawn to adventure films, as demonstrated by their love for Star Wars: Episode IV - A New Hope and Back to the Future.\n",
      "            \n",
      "            However, the user is not a fan of horror movies, as none are listed among their favorites. They also tend to avoid movies that are overly violent or graphic, preferring instead to focus on stories that are emotionally resonant and intellectually stimulating.\n",
      "            \n",
      "            Overall, the user's movie preferences reflect a deep appreciation for storytelling, character development, and thematic depth.\n"
     ]
    }
   ],
   "source": [
    "user_profile_path = '../user_profile/cleaned_user_profile_mixtral.pkl'\n",
    "with open(user_profile_path, 'rb') as f:\n",
    "    user_profile_dict = pickle.load(f)\n",
    "print(user_profile_dict[user_id])"
   ]
  },
  {
   "cell_type": "code",
   "execution_count": 6,
   "id": "a396d677-af72-4b17-ac95-d121947de6bf",
   "metadata": {},
   "outputs": [
    {
     "data": {
      "text/html": [
       "<div>\n",
       "<style scoped>\n",
       "    .dataframe tbody tr th:only-of-type {\n",
       "        vertical-align: middle;\n",
       "    }\n",
       "\n",
       "    .dataframe tbody tr th {\n",
       "        vertical-align: top;\n",
       "    }\n",
       "\n",
       "    .dataframe thead th {\n",
       "        text-align: right;\n",
       "    }\n",
       "</style>\n",
       "<table border=\"1\" class=\"dataframe\">\n",
       "  <thead>\n",
       "    <tr style=\"text-align: right;\">\n",
       "      <th></th>\n",
       "      <th>movie_id</th>\n",
       "      <th>name</th>\n",
       "      <th>cleaned_genre</th>\n",
       "      <th>year</th>\n",
       "      <th>summary</th>\n",
       "    </tr>\n",
       "  </thead>\n",
       "  <tbody>\n",
       "    <tr>\n",
       "      <th>0</th>\n",
       "      <td>1</td>\n",
       "      <td>Toy Story</td>\n",
       "      <td>Animation,Children's,Comedy</td>\n",
       "      <td>1995</td>\n",
       "      <td>Toy Story is a groundbreaking animated film th...</td>\n",
       "    </tr>\n",
       "    <tr>\n",
       "      <th>1</th>\n",
       "      <td>2</td>\n",
       "      <td>Jumanji</td>\n",
       "      <td>Adventure,Children's,Fantasy</td>\n",
       "      <td>1995</td>\n",
       "      <td>\"Jumanji (1995) is a thrilling adventure film ...</td>\n",
       "    </tr>\n",
       "    <tr>\n",
       "      <th>2</th>\n",
       "      <td>3</td>\n",
       "      <td>Grumpier Old Men</td>\n",
       "      <td>Comedy,Romance</td>\n",
       "      <td>1995</td>\n",
       "      <td>\"Grumpier Old Men is a hilarious and heartwarm...</td>\n",
       "    </tr>\n",
       "    <tr>\n",
       "      <th>3</th>\n",
       "      <td>4</td>\n",
       "      <td>Waiting to Exhale</td>\n",
       "      <td>Comedy,Drama</td>\n",
       "      <td>1995</td>\n",
       "      <td>\"Waiting to Exhale\" (1995) is a heartfelt dram...</td>\n",
       "    </tr>\n",
       "    <tr>\n",
       "      <th>4</th>\n",
       "      <td>5</td>\n",
       "      <td>Father of the Bride Part II</td>\n",
       "      <td>Comedy</td>\n",
       "      <td>1995</td>\n",
       "      <td>Father of the Bride Part II (1995) is a heartw...</td>\n",
       "    </tr>\n",
       "  </tbody>\n",
       "</table>\n",
       "</div>"
      ],
      "text/plain": [
       "   movie_id                          name                 cleaned_genre  year  \\\n",
       "0         1                    Toy Story    Animation,Children's,Comedy  1995   \n",
       "1         2                      Jumanji   Adventure,Children's,Fantasy  1995   \n",
       "2         3             Grumpier Old Men                 Comedy,Romance  1995   \n",
       "3         4            Waiting to Exhale                   Comedy,Drama  1995   \n",
       "4         5  Father of the Bride Part II                         Comedy  1995   \n",
       "\n",
       "                                             summary  \n",
       "0  Toy Story is a groundbreaking animated film th...  \n",
       "1  \"Jumanji (1995) is a thrilling adventure film ...  \n",
       "2  \"Grumpier Old Men is a hilarious and heartwarm...  \n",
       "3  \"Waiting to Exhale\" (1995) is a heartfelt dram...  \n",
       "4  Father of the Bride Part II (1995) is a heartw...  "
      ]
     },
     "execution_count": 6,
     "metadata": {},
     "output_type": "execute_result"
    }
   ],
   "source": [
    "movie_summary_df = pd.read_csv('../movie_summary_25_words.csv')\n",
    "movie_summary_df.head()"
   ]
  },
  {
   "cell_type": "code",
   "execution_count": 7,
   "id": "24d95527-e1ee-4572-b225-9ff40d53c459",
   "metadata": {},
   "outputs": [
    {
     "name": "stdout",
     "output_type": "stream",
     "text": [
      "     movie_id                                               name  \\\n",
      "262       265  Like Water for Chocolate (Como agua para choco...   \n",
      "\n",
      "     cleaned_genre  year                                            summary  \n",
      "262  Drama,Romance  1992  \"Like Water for Chocolate is a visually stunni...  \n"
     ]
    }
   ],
   "source": [
    "print(movie_summary_df[movie_summary_df['movie_id'] == 265])"
   ]
  },
  {
   "cell_type": "code",
   "execution_count": 8,
   "id": "9266679a-753f-4080-8079-ba8c95bfb46f",
   "metadata": {},
   "outputs": [
    {
     "data": {
      "text/html": [
       "<div>\n",
       "<style scoped>\n",
       "    .dataframe tbody tr th:only-of-type {\n",
       "        vertical-align: middle;\n",
       "    }\n",
       "\n",
       "    .dataframe tbody tr th {\n",
       "        vertical-align: top;\n",
       "    }\n",
       "\n",
       "    .dataframe thead th {\n",
       "        text-align: right;\n",
       "    }\n",
       "</style>\n",
       "<table border=\"1\" class=\"dataframe\">\n",
       "  <thead>\n",
       "    <tr style=\"text-align: right;\">\n",
       "      <th></th>\n",
       "      <th>user_id</th>\n",
       "      <th>user_profile</th>\n",
       "    </tr>\n",
       "  </thead>\n",
       "  <tbody>\n",
       "    <tr>\n",
       "      <th>0</th>\n",
       "      <td>1</td>\n",
       "      <td>female k-12 student under 18 years of age</td>\n",
       "    </tr>\n",
       "    <tr>\n",
       "      <th>1</th>\n",
       "      <td>2</td>\n",
       "      <td>male self-employed above 56 years of age</td>\n",
       "    </tr>\n",
       "    <tr>\n",
       "      <th>2</th>\n",
       "      <td>3</td>\n",
       "      <td>male scientist between 25 to 34 years of age</td>\n",
       "    </tr>\n",
       "    <tr>\n",
       "      <th>3</th>\n",
       "      <td>4</td>\n",
       "      <td>male executive/managerial between 45 to 49 yea...</td>\n",
       "    </tr>\n",
       "    <tr>\n",
       "      <th>4</th>\n",
       "      <td>5</td>\n",
       "      <td>male writer between 25 to 34 years of age</td>\n",
       "    </tr>\n",
       "  </tbody>\n",
       "</table>\n",
       "</div>"
      ],
      "text/plain": [
       "   user_id                                       user_profile\n",
       "0        1          female k-12 student under 18 years of age\n",
       "1        2           male self-employed above 56 years of age\n",
       "2        3       male scientist between 25 to 34 years of age\n",
       "3        4  male executive/managerial between 45 to 49 yea...\n",
       "4        5          male writer between 25 to 34 years of age"
      ]
     },
     "execution_count": 8,
     "metadata": {},
     "output_type": "execute_result"
    }
   ],
   "source": [
    "user_df = pd.read_csv('../users.csv')\n",
    "user_df.head()"
   ]
  },
  {
   "cell_type": "code",
   "execution_count": 9,
   "id": "0fdc4135-2c09-439d-b4e7-40b13f36fa86",
   "metadata": {},
   "outputs": [
    {
     "data": {
      "text/html": [
       "<div>\n",
       "<style scoped>\n",
       "    .dataframe tbody tr th:only-of-type {\n",
       "        vertical-align: middle;\n",
       "    }\n",
       "\n",
       "    .dataframe tbody tr th {\n",
       "        vertical-align: top;\n",
       "    }\n",
       "\n",
       "    .dataframe thead th {\n",
       "        text-align: right;\n",
       "    }\n",
       "</style>\n",
       "<table border=\"1\" class=\"dataframe\">\n",
       "  <thead>\n",
       "    <tr style=\"text-align: right;\">\n",
       "      <th></th>\n",
       "      <th>user_id</th>\n",
       "      <th>movie_id</th>\n",
       "      <th>rating</th>\n",
       "    </tr>\n",
       "  </thead>\n",
       "  <tbody>\n",
       "    <tr>\n",
       "      <th>0</th>\n",
       "      <td>1</td>\n",
       "      <td>3186</td>\n",
       "      <td>4</td>\n",
       "    </tr>\n",
       "    <tr>\n",
       "      <th>1</th>\n",
       "      <td>1</td>\n",
       "      <td>1721</td>\n",
       "      <td>4</td>\n",
       "    </tr>\n",
       "    <tr>\n",
       "      <th>2</th>\n",
       "      <td>1</td>\n",
       "      <td>1022</td>\n",
       "      <td>5</td>\n",
       "    </tr>\n",
       "    <tr>\n",
       "      <th>3</th>\n",
       "      <td>1</td>\n",
       "      <td>1270</td>\n",
       "      <td>5</td>\n",
       "    </tr>\n",
       "    <tr>\n",
       "      <th>4</th>\n",
       "      <td>1</td>\n",
       "      <td>2340</td>\n",
       "      <td>3</td>\n",
       "    </tr>\n",
       "  </tbody>\n",
       "</table>\n",
       "</div>"
      ],
      "text/plain": [
       "   user_id  movie_id  rating\n",
       "0        1      3186       4\n",
       "1        1      1721       4\n",
       "2        1      1022       5\n",
       "3        1      1270       5\n",
       "4        1      2340       3"
      ]
     },
     "execution_count": 9,
     "metadata": {},
     "output_type": "execute_result"
    }
   ],
   "source": [
    "ratings_df = pd.read_csv('../ratings.csv')\n",
    "ratings_df.head()"
   ]
  },
  {
   "cell_type": "code",
   "execution_count": 10,
   "id": "bcb9bf7a-25c2-4161-b3bc-a94d07a60407",
   "metadata": {},
   "outputs": [],
   "source": [
    "# reasoning_prompt_train_data = \"./reasoning_dataset/reasoning_prompt_data/reasoning_prompt_train_new.pkl\"\n",
    "# reasoning_train_data = \"./reasoning_dataset/reasoning_data/reasoning_train_dict.pkl\"\n",
    "# reasoning_valid_data = \"./reasoning_dataset/reasoning_data/reasoning_valid_dict.pkl\"\n",
    "# reasoning_test_data = \"./reasoning_dataset/reasoning_data/reasoning_test_dict.pkl\""
   ]
  },
  {
   "cell_type": "code",
   "execution_count": 11,
   "id": "17bfbacd-caea-4ba2-a4f1-ac84c548877e",
   "metadata": {},
   "outputs": [],
   "source": [
    "# with open(reasoning_train_data, 'rb') as f:\n",
    "#     reasoning_train = pickle.load(f)\n",
    "# with open(reasoning_valid_data, 'rb') as f:\n",
    "#     reasoning_valid = pickle.load(f)\n",
    "# with open(reasoning_test_data, 'rb') as f:\n",
    "#     reasoning_test = pickle.load(f)"
   ]
  },
  {
   "cell_type": "code",
   "execution_count": 12,
   "id": "ca4ce67d",
   "metadata": {},
   "outputs": [],
   "source": [
    "reasoning_train_data = \"./reasoning_dataset/reasoning_data_wo_profile/reasoning_train_dict.pkl\"\n",
    "reasoning_valid_data = \"./reasoning_dataset/reasoning_data_wo_profile/reasoning_valid_dict.pkl\"\n",
    "reasoning_test_data = \"./reasoning_dataset/reasoning_data_wo_profile/reasoning_test_dict.pkl\""
   ]
  },
  {
   "cell_type": "code",
   "execution_count": 13,
   "id": "1b71e7dd",
   "metadata": {},
   "outputs": [],
   "source": [
    "with open(reasoning_train_data, 'rb') as f:\n",
    "    reasoning_train = pickle.load(f)\n",
    "with open(reasoning_valid_data, 'rb') as f:\n",
    "    reasoning_valid = pickle.load(f)\n",
    "with open(reasoning_test_data, 'rb') as f:\n",
    "    reasoning_test = pickle.load(f)"
   ]
  },
  {
   "cell_type": "code",
   "execution_count": 14,
   "id": "38765fde-b66e-4426-81f2-7d93b2b2c253",
   "metadata": {},
   "outputs": [
    {
     "name": "stdout",
     "output_type": "stream",
     "text": [
      "\n",
      "Summary of user's behavior:\n",
      "The user enjoys a diverse range of genres, including animation, comedy, drama, musical, and children's films. They have a preference for heartwarming and adventurous stories with themes of friendship, identity, and self-discovery. They also appreciate visually stunning animation and memorable music. The user tends to avoid movies with darker themes, as evidenced by their avoidance of horror and thriller genres.\n",
      "\n",
      "Explanation for why the user will like Mulan:\n",
      "Mulan aligns with the user's preferences for animation, children's films, and adventure. The story of a young woman disguising herself as a man to fight in the army is both empowering and adventurous, appealing to the user's interest in themes of identity and self-discovery. Additionally, Mulan features stunning animation and memorable music, which the user has shown a preference for in the past. Given the user's avoidance of darker themes, Mulan's focus on heroism and bravery is likely to be more appealing than the horror or thriller genres.\n",
      "Prediction: Yes\n",
      "\n",
      "The user's movie watching history suggests that they enjoy a mix of genres, including animation, children's films, comedy, musicals, and drama. They have a preference for classic tales, heartwarming stories, and themes of friendship, identity, and self-discovery. The user also enjoys visually stunning films and movies that explore the power of change and individuality. Based on this, the user will like Hercules because it is a fun and vibrant animated film that puts a modern twist on the classic Greek myth, complete with catchy songs and memorable characters. The movie's themes of self-discovery and adventure align with the user's preferences, and the film's visual style and memorable characters are sure to appeal to their taste.\n",
      "Prediction: Yes\n",
      "\n",
      "The user's movie watching history suggests that they enjoy a mix of animation, children's, drama, comedy, and musical genres. They particularly enjoy heartwarming and enchanting stories, often with themes of friendship, healing, and self-discovery. The user also appreciates humor and visually stunning animation. They tend to avoid movies with intense or mature themes, as evidenced by their preference for children's films and their avoidance of Schindler's List.\n",
      "\n",
      "Given the user's preferences, they will likely enjoy Pocahontas because it is a visually stunning Disney animated film with a focus on love, understanding, and self-discovery. The film features memorable music and humor, which aligns with the user's preference for heartwarming and entertaining movies. Additionally, the film's themes of cultural understanding and acceptance align with the user's interest in movies that promote positive values. Overall, Pocahontas checks all the boxes for the user's movie preferences, making it a strong recommendation for their next watch.\n",
      "Prediction: Yes\n"
     ]
    }
   ],
   "source": [
    "# print(reasoning_prompt_train[user_id])\n",
    "print(reasoning_train[user_id])\n",
    "print(reasoning_valid[user_id])\n",
    "print(reasoning_test[user_id])"
   ]
  },
  {
   "cell_type": "code",
   "execution_count": 15,
   "id": "19bc745f",
   "metadata": {},
   "outputs": [],
   "source": [
    "def get_new_reasoning_text(reasoning):\n",
    "    # print(f\"reasoning: {reasoning}\")\n",
    "    new_reasoning_text = f\"Prediction: {reasoning.split(' ')[-1]} \\n\"\n",
    "    new_reasoning_text += ' '.join(s.strip() for s in reasoning.split(\"\\n\")[:-1])\n",
    "    # print(f\"new_reasoning_text: {new_reasoning_text}\")\n",
    "    return new_reasoning_text"
   ]
  },
  {
   "cell_type": "code",
   "execution_count": 14,
   "id": "f45630c0-6aad-4887-b1dc-0237955817c4",
   "metadata": {},
   "outputs": [
    {
     "name": "stdout",
     "output_type": "stream",
     "text": [
      "Length of final_train_dict: 6040 {'instruction': 'You are an expert movie critic and recommender. Given the user profile and list of recent liked and disliked movies, identify whether the user will like the target movie or not by providing reasoning for the same. Please follow further instruction below.', 'input': 'User Profile - \\n            The user has a diverse taste in movies, with a preference for thought-provoking and emotionally engaging films. They enjoy dramas that explore complex themes such as mental illness, racial injustice, and the meaning of life. The user is drawn to movies that challenge their perspective and provoke deep thought, often favoring those that tackle serious and mature subjects.\\n            \\n            In addition to dramas, the user also has a soft spot for classic Disney films, as evidenced by their fondness for Cinderella. They appreciate the enchanting storytelling and timeless charm of these animated tales.\\n            \\n            The user\\'s taste in movies also extends to comedies, as seen in their appreciation for the hilarious antics of Wallace & Gromit and the dark humor of Fargo. They are also drawn to adventure films, as demonstrated by their love for Star Wars: Episode IV - A New Hope and Back to the Future.\\n            \\n            However, the user is not a fan of horror movies, as none are listed among their favorites. They also tend to avoid movies that are overly violent or graphic, preferring instead to focus on stories that are emotionally resonant and intellectually stimulating.\\n            \\n            Overall, the user\\'s movie preferences reflect a deep appreciation for storytelling, character development, and thematic depth.\\nUser watched the following movies recently in the given order. List of user behaviour for recent movies and their description -\\nLiked Secret Garden, The (Genre: Children\\'s,Drama) \"Secret Garden (1993) is a heartwarming adaptation of the classic children\\'s novel, filled with enchanting visuals and a touching story of friendship and healing.\",\\nLiked Toy Story 2 (Genre: Animation,Children\\'s,Comedy) Toy Story 2 (1999) is a heartwarming and hilarious animated adventure that explores the value of friendship and the importance of embracing one\\'s identity.,\\nLiked Airplane! (Genre: Comedy) \"Airplane! is a hilarious spoof comedy that takes flight with its clever wordplay, slapstick humor, and memorable one-liners.\",\\nLiked Dumbo (Genre: Animation,Children\\'s,Musical) \"Dumbo, a heartwarming Disney classic, tells the story of a lovable elephant with big ears who discovers his unique talent and finds his place in the world.\",\\nLiked Pleasantville (Genre: Comedy) \"Pleasantville is a thought-provoking and visually stunning film that explores the power of change and individuality in a black-and-white 1950s sitcom world.\",\\nLiked Princess Bride, The (Genre: Action,Adventure,Comedy,Romance) \"The Princess Bride is a timeless romantic adventure filled with humor, sword fights, and true love that captivates audiences of all ages.\",\\nLiked Snow White and the Seven Dwarfs (Genre: Animation,Children\\'s,Musical) Snow White and the Seven Dwarfs is a timeless classic that brings enchantment to life with its charming characters, beautiful animation, and unforgettable songs.,\\nLiked Miracle on 34th Street (Genre: Drama) \"Miracle on 34th Street (1947) is a heartwarming Christmas classic about a department store Santa who claims to be the real deal, spreading holiday cheer and restoring faith in Santa Claus.\",\\nLiked Ponette (Genre: Drama) \"Ponette is a heartbreaking French drama that follows a young girl\\'s journey to cope with the loss of her mother.\",\\nLiked Schindler\\'s List (Genre: Drama,War) Schindler\\'s List (1993) is a powerful and haunting portrayal of Oskar Schindler\\'s efforts to save Jews during the Holocaust.,\\nLiked Toy Story (Genre: Animation,Children\\'s,Comedy) Toy Story is a groundbreaking animated film that brings toys to life, delivering heartwarming humor and adventure as Woody and Buzz navigate the world of childhood imagination.,\\nLiked Aladdin (Genre: Animation,Children\\'s,Comedy,Musical) \"Aladdin is a magical and enchanting animated film that takes viewers on a thrilling adventure filled with humor, romance, and unforgettable songs.\",\\nLiked Tarzan (Genre: Animation,Children\\'s) Tarzan (1999) is a visually stunning and heartfelt Disney animated film that brings the classic tale to life with memorable characters and an enchanting soundtrack.,\\nLiked Close Shave, A (Genre: Animation,Comedy,Thriller) \"A Close Shave (1995) is a delightful stop-motion animated film that combines humor, suspense, and heart as Wallace and Gromit unravel a sheep-stealing mystery.\",\\nLiked Beauty and the Beast (Genre: Animation,Children\\'s,Musical) \"Beauty and the Beast (1991) is a timeless Disney classic that enchants with its captivating story, stunning animation, and unforgettable music.\",\\nLiked Antz (Genre: Animation,Children\\'s) Antz (1998) is a witty and entertaining animated film that explores themes of individuality, friendship, and the power of standing up for what you believe in.,\\nLiked Hunchback of Notre Dame, The (Genre: Animation,Children\\'s,Musical) The Hunchback of Notre Dame (1996) is a visually stunning and emotionally powerful Disney animated film that explores themes of love, acceptance, and the power of inner beauty.,\\nLiked Bug\\'s Life, A (Genre: Animation,Children\\'s,Comedy) A misfit ant named Flik recruits a group of circus bugs to save his colony from greedy grasshoppers in this animated adventure.,\\nLiked Mulan (Genre: Animation,Children\\'s) Mulan is a captivating animated film that tells the empowering story of a young Chinese woman who disguises herself as a man to fight in the army.,\\nLiked Hercules (Genre: Adventure,Animation,Children\\'s,Comedy,Musical) Disney\\'s Hercules is a fun and vibrant animated film that puts a modern twist on the classic Greek myth, with catchy songs and memorable characters.,\\nThe user watched the next target movie - Pocahontas (Genre: Animation,Children\\'s,Musical,Romance) \"Pocahontas\" (1995) is a visually stunning Disney animated film that tells a fictionalized tale of love and understanding between a Native American princess and an English explorer.\\n    Do not use any information not mentioned above. As an expert movie critic and recommender, do the following steps -\\n    Analyze the user profile and movie watching history given in order and summarize the user\\'s behavior from the given list of movies and identify the movie characteristics that he likes and dislikes in atmost 100 words.\\n    Explain with reasoning whether the user will like or dislike the target movie - Pocahontas  in atmost 100 words.\\n    Predict whether the user will like the target movie or not in the following format - Prediction: Yes or No\\n    ', 'output': \"Prediction: Yes \\n Summary of user behavior and movie characteristics: The user enjoys a diverse range of movies, with a preference for thought-provoking and emotionally engaging films. They appreciate enchanting storytelling, timeless charm, and humor in children's movies, as seen in their fondness for classic Disney films and comedies like Wallace & Gromit. The user also enjoys adventure films, such as Star Wars and Back to the Future. However, they tend to avoid horror movies and prefer stories that are intellectually stimulating and emotionally resonant.  Reasoning for liking Pocahontas: Based on the user's movie watching history, Pocahontas is a movie that aligns with their preferences. It is a visually stunning Disney animated film that tells a fictionalized tale of love and understanding between a Native American princess and an English explorer. The movie explores themes of cultural differences, empathy, and the power of love, which are all intellectually stimulating and emotionally resonant. Additionally, the movie features catchy songs and memorable characters, which the user has shown appreciation for in other animated films. Therefore, the user is likely to enjoy Pocahontas.\"}\n",
      "Avg Length: 1076.8362582781458\n",
      "Max length: 1266\n"
     ]
    }
   ],
   "source": [
    "# final_train_dict = list()\n",
    "# cnt = 0\n",
    "# max_total_len = 0\n",
    "# avg_total_len = 0\n",
    "# for user, user_profile in user_profile_dict.items():\n",
    "#     if user not in reasoning_test:\n",
    "#         continue\n",
    "#     # if cnt < 1999:\n",
    "#     #     cnt += 1\n",
    "#     #     continue\n",
    "#     cnt += 1\n",
    "#     temp_dict = dict()\n",
    "#     # print(f\"User: {user}\")\n",
    "#     temp_dict[\"instruction\"] = \"You are an expert movie critic and recommender. Given the user profile and list of recent liked and disliked movies, identify whether the user will like the target movie or not by providing reasoning for the same. Please follow further instruction below.\"\n",
    "#     prompt = \"User Profile - \"\n",
    "#     ### Create the user profile\n",
    "#     # final_user_profile = \"The user is a \"+user_df[user_df['user_id'] == user]['user_profile'].values[0]+user_profile+\"\\n\"\n",
    "#     # print(final_user_profile)\n",
    "#     prompt += user_profile\n",
    "    \n",
    "#     prompt += \"\\nUser watched the following movies recently in the given order. List of user behaviour for recent movies and their description -\"\n",
    "#     # print(prompt)\n",
    "#     ### Create the like/dislike list of last 20 movies\n",
    "#     # print(user_train_dict[user][0][-20:])\n",
    "#     user_rating_dict = ratings_df[ratings_df['user_id'] == user]\n",
    "#     # print(user_rating_dict)\n",
    "#     liked_movies = []\n",
    "#     disliked_movies = []\n",
    "\n",
    "#     train_valid_movie_list = user_train_dict[user][0][-19:]\n",
    "#     train_valid_movie_list.append(user_valid_dict[user][0])\n",
    "#     target_movie = user_test_dict[user][0]\n",
    "\n",
    "#     for movie in train_valid_movie_list:\n",
    "#         user_movie_rating = user_rating_dict[user_rating_dict['movie_id'] == movie]['rating'].values[0]\n",
    "#         # print(movie, user_movie_rating)\n",
    "#         movie_details = movie_summary_df[movie_summary_df['movie_id'] == movie]\n",
    "#         if user_movie_rating >= 3:\n",
    "#             if movie != target_movie:\n",
    "#                 prompt += \"\\nLiked \" + movie_details['name'].values[0] + \"(Genre: \" + movie_details['cleaned_genre'].values[0] + \") \" + movie_details['summary'].values[0] + \",\"\n",
    "#             else:\n",
    "#                 ### For the last movie - ending with a . and starting new line\n",
    "#                 prompt += \"\\nLiked \" + movie_details['name'].values[0] + \"(Genre: \" + movie_details['cleaned_genre'].values[0] + \") \" +  movie_details['summary'].values[0] + \"\\n\"\n",
    "#         else:\n",
    "#             if movie != target_movie:\n",
    "#                 prompt += \"\\nDisliked \" + movie_details['name'].values[0] + \"(Genre: \" + movie_details['cleaned_genre'].values[0] + \") \" +  movie_details['summary'].values[0] + \",\"\n",
    "#             else:\n",
    "#                 ### For the last movie - ending with a . and starting new line\n",
    "#                 prompt += \"\\nDisliked \" + movie_details['name'].values[0] + \"(Genre: \" + movie_details['cleaned_genre'].values[0] + \") \" +  movie_details['summary'].values[0] + \"\\n\"\n",
    "\n",
    "#     ### To predict\n",
    "#     prompt += \"\\nThe user watched the next target movie - \"\n",
    "#     # print(user_valid_dict[user][0])\n",
    "#     target_movie_details = movie_summary_df[movie_summary_df['movie_id'] == target_movie]\n",
    "#     # print(\"Test Movie Rating:\", user_rating_dict[user_rating_dict['movie_id'] == user_valid_dict[user][0]]['rating'].values[0])\n",
    "#     prompt += target_movie_details['name'].values[0] + \"(Genre: \" + target_movie_details['cleaned_genre'].values[0] + \") \" +  target_movie_details['summary'].values[0]\n",
    "#     prompt += f\"\"\"\n",
    "#     Do not use any information not mentioned above. As an expert movie critic and recommender, do the following steps -\n",
    "#     Analyze the user profile and movie watching history given in order and summarize the user's behavior from the given list of movies and identify the movie characteristics that he likes and dislikes in atmost 100 words.\n",
    "#     Explain with reasoning whether the user will like or dislike the target movie - {target_movie_details['name'].values[0]} in atmost 100 words.\n",
    "#     Predict whether the user will like the target movie or not in the following format - Prediction: Yes or No\n",
    "#     \"\"\"\n",
    "#     temp_dict[\"input\"] = prompt\n",
    "#     '''\n",
    "#     Found the issue that when the Prediction: Yes is at the very end, during training the output, as is parallelized, always performs good as it already has the information till the n-1th token, so the AUC saturates in the first epoch itself. Hence changing the position of 'Prediction: Yes' to starting\n",
    "#     '''\n",
    "#     temp_dict[\"output\"] = get_new_reasoning_text(reasoning_test[user])\n",
    "\n",
    "#     final_train_dict.append(temp_dict)\n",
    "#     total_len = len(temp_dict['instruction'].split()) + len(temp_dict['input'].split()) + len(temp_dict['output'].split())\n",
    "#     avg_total_len += total_len\n",
    "#     max_total_len = max(max_total_len, total_len)\n",
    "#     # print(f\"Prompt length: {len(prompt.split())}\")\n",
    "#     # print(f\"Total length: {len(temp_dict['instruction'].split()) + len(temp_dict['input'].split()) + len(temp_dict['output'].split())}\")\n",
    "#     # print(final_train_dict)\n",
    "#     # break\n",
    "\n",
    "# print(\"Length of final_train_dict:\", len(final_train_dict), final_train_dict[0])\n",
    "# print(\"Avg Length:\", avg_total_len/len(final_train_dict))\n",
    "# print(\"Max length:\", max_total_len)"
   ]
  },
  {
   "cell_type": "code",
   "execution_count": 28,
   "id": "f10daafe",
   "metadata": {},
   "outputs": [
    {
     "name": "stdout",
     "output_type": "stream",
     "text": [
      "Length of final_train_dict: 2400 {'instruction': 'You are an expert movie critic and recommender. Given the list of recent liked and disliked movies and their description, identify whether the user will like the target movie or not by providing reasoning for the same. Please follow further instruction below.', 'input': '\\nUser watched the following movies recently in the given order. List of user behaviour for recent movies and their description -\\nLiked Secret Garden, The (Genre: Children\\'s,Drama) \"Secret Garden (1993) is a heartwarming adaptation of the classic children\\'s novel, filled with enchanting visuals and a touching story of friendship and healing.\",\\nLiked Toy Story 2 (Genre: Animation,Children\\'s,Comedy) Toy Story 2 (1999) is a heartwarming and hilarious animated adventure that explores the value of friendship and the importance of embracing one\\'s identity.,\\nLiked Airplane! (Genre: Comedy) \"Airplane! is a hilarious spoof comedy that takes flight with its clever wordplay, slapstick humor, and memorable one-liners.\",\\nLiked Dumbo (Genre: Animation,Children\\'s,Musical) \"Dumbo, a heartwarming Disney classic, tells the story of a lovable elephant with big ears who discovers his unique talent and finds his place in the world.\",\\nLiked Pleasantville (Genre: Comedy) \"Pleasantville is a thought-provoking and visually stunning film that explores the power of change and individuality in a black-and-white 1950s sitcom world.\",\\nLiked Princess Bride, The (Genre: Action,Adventure,Comedy,Romance) \"The Princess Bride is a timeless romantic adventure filled with humor, sword fights, and true love that captivates audiences of all ages.\",\\nLiked Snow White and the Seven Dwarfs (Genre: Animation,Children\\'s,Musical) Snow White and the Seven Dwarfs is a timeless classic that brings enchantment to life with its charming characters, beautiful animation, and unforgettable songs.,\\nLiked Miracle on 34th Street (Genre: Drama) \"Miracle on 34th Street (1947) is a heartwarming Christmas classic about a department store Santa who claims to be the real deal, spreading holiday cheer and restoring faith in Santa Claus.\",\\nLiked Ponette (Genre: Drama) \"Ponette is a heartbreaking French drama that follows a young girl\\'s journey to cope with the loss of her mother.\",\\nLiked Schindler\\'s List (Genre: Drama,War) Schindler\\'s List (1993) is a powerful and haunting portrayal of Oskar Schindler\\'s efforts to save Jews during the Holocaust.,\\nLiked Toy Story (Genre: Animation,Children\\'s,Comedy) Toy Story is a groundbreaking animated film that brings toys to life, delivering heartwarming humor and adventure as Woody and Buzz navigate the world of childhood imagination.,\\nLiked Aladdin (Genre: Animation,Children\\'s,Comedy,Musical) \"Aladdin is a magical and enchanting animated film that takes viewers on a thrilling adventure filled with humor, romance, and unforgettable songs.\",\\nLiked Tarzan (Genre: Animation,Children\\'s) Tarzan (1999) is a visually stunning and heartfelt Disney animated film that brings the classic tale to life with memorable characters and an enchanting soundtrack.,\\nLiked Close Shave, A (Genre: Animation,Comedy,Thriller) \"A Close Shave (1995) is a delightful stop-motion animated film that combines humor, suspense, and heart as Wallace and Gromit unravel a sheep-stealing mystery.\",\\nLiked Beauty and the Beast (Genre: Animation,Children\\'s,Musical) \"Beauty and the Beast (1991) is a timeless Disney classic that enchants with its captivating story, stunning animation, and unforgettable music.\",\\nLiked Antz (Genre: Animation,Children\\'s) Antz (1998) is a witty and entertaining animated film that explores themes of individuality, friendship, and the power of standing up for what you believe in.,\\nLiked Hunchback of Notre Dame, The (Genre: Animation,Children\\'s,Musical) The Hunchback of Notre Dame (1996) is a visually stunning and emotionally powerful Disney animated film that explores themes of love, acceptance, and the power of inner beauty.,\\nLiked Bug\\'s Life, A (Genre: Animation,Children\\'s,Comedy) A misfit ant named Flik recruits a group of circus bugs to save his colony from greedy grasshoppers in this animated adventure.,\\nLiked Mulan (Genre: Animation,Children\\'s) Mulan is a captivating animated film that tells the empowering story of a young Chinese woman who disguises herself as a man to fight in the army.,\\nLiked Hercules (Genre: Adventure,Animation,Children\\'s,Comedy,Musical) Disney\\'s Hercules is a fun and vibrant animated film that puts a modern twist on the classic Greek myth, with catchy songs and memorable characters.,\\nThe user watched the next target movie - Pocahontas (Genre: Animation,Children\\'s,Musical,Romance) \"Pocahontas\" (1995) is a visually stunning Disney animated film that tells a fictionalized tale of love and understanding between a Native American princess and an English explorer.\\nDo not use any information not mentioned above. As an expert movie critic and recommender, do the following steps -\\n    Analyze the user\\'s movie watching history given in order and summarize the user\\'s behavior from the given list of movies and identify the movie characteristics that he likes and dislikes in atmost 100 words.\\n    Explain with reasoning whether the user will like or dislike the target movie - Pocahontas  in atmost 100 words.\\n    Finally, Predict whether the user will like the target movie or not in the following format - Prediction: Yes or No', 'output': \"Prediction: Yes \\n The user's movie watching history suggests that they enjoy a mix of animation, children's, drama, comedy, and musical genres. They particularly enjoy heartwarming and enchanting stories, often with themes of friendship, healing, and self-discovery. The user also appreciates humor and visually stunning animation. They tend to avoid movies with intense or mature themes, as evidenced by their preference for children's films and their avoidance of Schindler's List.  Given the user's preferences, they will likely enjoy Pocahontas because it is a visually stunning Disney animated film with a focus on love, understanding, and self-discovery. The film features memorable music and humor, which aligns with the user's preference for heartwarming and entertaining movies. Additionally, the film's themes of cultural understanding and acceptance align with the user's interest in movies that promote positive values. Overall, Pocahontas checks all the boxes for the user's movie preferences, making it a strong recommendation for their next watch.\"}\n",
      "Avg Length: 884.4554166666667\n",
      "Max length: 1045\n"
     ]
    }
   ],
   "source": [
    "final_train_dict = list()\n",
    "cnt = 0\n",
    "max_total_len = 0\n",
    "avg_total_len = 0\n",
    "for user, user_profile in user_profile_dict.items():\n",
    "    if user not in reasoning_test:\n",
    "        continue\n",
    "    # if cnt < 1999:\n",
    "    #     cnt += 1\n",
    "    #     continue\n",
    "    cnt += 1\n",
    "    temp_dict = dict()\n",
    "    # print(f\"User: {user}\")\n",
    "    prompt = \"\\nUser watched the following movies recently in the given order. List of user behaviour for recent movies and their description -\"\n",
    "    temp_dict[\"instruction\"] = \"You are an expert movie critic and recommender. Given the list of recent liked and disliked movies and their description, identify whether the user will like the target movie or not by providing reasoning for the same. Please follow further instruction below.\"\n",
    "    # print(prompt)\n",
    "    ### Create the like/dislike list of last 20 movies\n",
    "    # print(user_train_dict[user][0][-20:])\n",
    "    user_rating_dict = ratings_df[ratings_df['user_id'] == user]\n",
    "    # print(user_rating_dict)\n",
    "    liked_movies = []\n",
    "    disliked_movies = []\n",
    "\n",
    "    train_valid_movie_list = user_train_dict[user][0][-19:]\n",
    "    train_valid_movie_list.append(user_valid_dict[user][0])\n",
    "    target_movie = user_test_dict[user][0]\n",
    "\n",
    "    for movie in train_valid_movie_list:\n",
    "        user_movie_rating = user_rating_dict[user_rating_dict['movie_id'] == movie]['rating'].values[0]\n",
    "        # print(movie, user_movie_rating)\n",
    "        movie_details = movie_summary_df[movie_summary_df['movie_id'] == movie]\n",
    "        if user_movie_rating >= 3:\n",
    "            if movie != target_movie:\n",
    "                prompt += \"\\nLiked \" + movie_details['name'].values[0] + \"(Genre: \" + movie_details['cleaned_genre'].values[0] + \") \" + movie_details['summary'].values[0] + \",\"\n",
    "            else:\n",
    "                ### For the last movie - ending with a . and starting new line\n",
    "                prompt += \"\\nLiked \" + movie_details['name'].values[0] + \"(Genre: \" + movie_details['cleaned_genre'].values[0] + \") \" +  movie_details['summary'].values[0] + \"\\n\"\n",
    "        else:\n",
    "            if movie != target_movie:\n",
    "                prompt += \"\\nDisliked \" + movie_details['name'].values[0] + \"(Genre: \" + movie_details['cleaned_genre'].values[0] + \") \" +  movie_details['summary'].values[0] + \",\"\n",
    "            else:\n",
    "                ### For the last movie - ending with a . and starting new line\n",
    "                prompt += \"\\nDisliked \" + movie_details['name'].values[0] + \"(Genre: \" + movie_details['cleaned_genre'].values[0] + \") \" +  movie_details['summary'].values[0] + \"\\n\"\n",
    "\n",
    "    ### To predict\n",
    "    prompt += \"\\nThe user watched the next target movie - \"\n",
    "    # print(user_valid_dict[user][0])\n",
    "    target_movie_details = movie_summary_df[movie_summary_df['movie_id'] == target_movie]\n",
    "    # print(\"Test Movie Rating:\", user_rating_dict[user_rating_dict['movie_id'] == user_valid_dict[user][0]]['rating'].values[0])\n",
    "    prompt += target_movie_details['name'].values[0] + \"(Genre: \" + target_movie_details['cleaned_genre'].values[0] + \") \" +  target_movie_details['summary'].values[0]\n",
    "    prompt += f\"\"\"\\nDo not use any information not mentioned above. As an expert movie critic and recommender, do the following steps -\n",
    "    Analyze the user's movie watching history given in order and summarize the user's behavior from the given list of movies and identify the movie characteristics that he likes and dislikes in atmost 100 words.\n",
    "    Explain with reasoning whether the user will like or dislike the target movie - {target_movie_details['name'].values[0]} in atmost 100 words.\n",
    "    Finally, Predict whether the user will like the target movie or not in the following format - Prediction: Yes or No\"\"\"\n",
    "    temp_dict[\"input\"] = prompt\n",
    "    temp_dict[\"output\"] = get_new_reasoning_text(reasoning_test[user])\n",
    "    final_train_dict.append(temp_dict)\n",
    "    total_len = len(temp_dict['instruction'].split()) + len(temp_dict['input'].split()) + len(temp_dict['output'].split())\n",
    "    avg_total_len += total_len\n",
    "    max_total_len = max(max_total_len, total_len)\n",
    "    # print(f\"Prompt length: {len(prompt.split())}\")\n",
    "    # print(f\"Total length: {len(temp_dict['instruction'].split()) + len(temp_dict['input'].split()) + len(temp_dict['output'].split())}\")\n",
    "    # print(final_train_dict)\n",
    "    # break\n",
    "\n",
    "print(\"Length of final_train_dict:\", len(final_train_dict), final_train_dict[0])\n",
    "print(\"Avg Length:\", avg_total_len/len(final_train_dict))\n",
    "print(\"Max length:\", max_total_len)"
   ]
  },
  {
   "cell_type": "code",
   "execution_count": 29,
   "id": "f6df14e5",
   "metadata": {},
   "outputs": [
    {
     "data": {
      "text/plain": [
       "{'instruction': 'You are an expert movie critic and recommender. Given the list of recent liked and disliked movies and their description, identify whether the user will like the target movie or not by providing reasoning for the same. Please follow further instruction below.',\n",
       " 'input': '\\nUser watched the following movies recently in the given order. List of user behaviour for recent movies and their description -\\nLiked Mortal Kombat (Genre: Action,Adventure) \"Mortal Kombat (1995) is a cheesy yet entertaining adaptation of the popular video game, filled with over-the-top action and iconic characters.\",\\nLiked Lost World: Jurassic Park, The (Genre: Action,Adventure,Sci-Fi,Thriller) In this thrilling sequel, a team returns to Isla Sorna to rescue dinosaurs before they are exploited, only to face even deadlier threats.,\\nLiked Last Action Hero (Genre: Action,Comedy) \"Last Action Hero is a self-aware action-comedy that cleverly satirizes the genre, with Arnold Schwarzenegger playing a fictional character who enters the real world.\",\\nLiked Gone in 60 Seconds (Genre: Action,Crime) \"Gone in 60 Seconds is a fast-paced action film about a skilled car thief forced to steal 50 cars in one night to save his brother\\'s life.\",\\nLiked Con Air (Genre: Action,Adventure,Thriller) \"Con Air is a high-octane action thriller that follows a group of dangerous convicts on a hijacked plane, delivering non-stop excitement and explosive entertainment.\",\\nLiked Frequency (Genre: Drama,Thriller) Frequency is a gripping sci-fi thriller that explores the power of a father-son connection through a mysterious radio frequency that transcends time.,\\nLiked Road Trip (Genre: Comedy) \"Road Trip is a hilarious and raunchy comedy about a group of college friends embarking on a wild cross-country adventure filled with outrageous mishaps.\",\\nLiked Whole Nine Yards, The (Genre: Comedy,Crime) \"The Whole Nine Yards\" is a hilarious crime-comedy that follows a mild-mannered dentist caught in the middle of a mob war.,\\nLiked Final Destination (Genre: Drama,Thriller) Final Destination (2000) is a thrilling horror film where a group of teenagers cheat death, only to be hunted down by an unseen force seeking balance.,\\nLiked 28 Days (Genre: Comedy) \"28 Days is a gripping and thought-provoking drama that explores addiction and recovery, with Sandra Bullock delivering a powerful performance.\",\\nLiked Replacements, The (Genre: Comedy) \"The Replacements\" is a sports comedy film about a group of misfit football players who are hired as replacements during a professional football strike.,\\nLiked What Lies Beneath (Genre: Thriller) \"What Lies Beneath\" is a gripping psychological thriller that keeps you on the edge of your seat with its suspenseful plot and stellar performances.,\\nLiked Nutty Professor II: The Klumps (Genre: Comedy) Nutty Professor II: The Klumps (2000) is a hilarious comedy sequel where Eddie Murphy plays multiple characters, showcasing his comedic talent and delivering laughs.,\\nLiked American Psycho (Genre: Comedy,Horror,Thriller) \"American Psycho is a chilling psychological thriller that delves into the twisted mind of a wealthy investment banker with a penchant for murder.\",\\nLiked Hollow Man (Genre: Horror,Sci-Fi,Thriller) \"Hollow Man (2000) is a thrilling sci-fi horror film about a scientist who turns invisible and descends into madness, resulting in deadly consequences.\",\\nLiked Drowning Mona (Genre: Comedy) \"Drowning Mona (2000) is a dark comedy about a small town\\'s investigation into the suspicious death of an unpopular woman, filled with quirky characters and unexpected twists.\",\\nLiked Me, Myself and Irene (Genre: Comedy) \"Me, Myself and Irene is a hilarious comedy starring Jim Carrey as a man with a split personality disorder, leading to outrageous and unpredictable situations.\",\\nDisliked Hanging Up (Genre: Comedy,Drama) \"Hanging Up\" is a heartfelt comedy-drama about three sisters navigating their complicated relationships while dealing with their aging father\\'s declining health.,\\nLiked Whatever It Takes (Genre: Comedy,Romance) \"Whatever It Takes\" is a lighthearted teen romantic comedy about two high school friends who make a pact to help each other win over their crushes.,\\nLiked Down to You (Genre: Comedy,Romance) \"Down to You\" is a forgettable romantic comedy from 2000, featuring Freddie Prinze Jr. and Julia Stiles in a predictable and clichéd love story.,\\nThe user watched the next target movie - Skulls, The (Genre: Thriller) \"The Skulls (2000) is a suspenseful thriller that follows a college student who uncovers a secret society\\'s dark secrets, leading to dangerous consequences.\"\\nDo not use any information not mentioned above. As an expert movie critic and recommender, do the following steps -\\n    Analyze the user\\'s movie watching history given in order and summarize the user\\'s behavior from the given list of movies and identify the movie characteristics that he likes and dislikes in atmost 100 words.\\n    Explain with reasoning whether the user will like or dislike the target movie - Skulls, The  in atmost 100 words.\\n    Finally, Predict whether the user will like the target movie or not in the following format - Prediction: Yes or No',\n",
       " 'output': \"Prediction: Yes \\n The user's movie watching history suggests that they enjoy action-packed films with thrilling plots and a hint of sci-fi or fantasy, such as Mortal Kombat, The Lost World: Jurassic Park, and Con Air. They also appreciate comedies, like Road Trip and The Whole Nine Yards, that offer a lighter tone but still have some suspense or crime elements. The user dislikes heavier dramas like Hanging Up, preferring movies with a clear resolution and less focus on character development.  The user will like Skulls, The because it is a suspenseful thriller with a secret society plot that aligns with their preference for action-packed films. Additionally, the college setting and the protagonist uncovering dark secrets provide a sense of adventure and mystery, which the user seems to enjoy. Although it is not a comedy, Skulls, The does not appear to be a heavy drama, making it more likely to appeal to the user's tastes.\"}"
      ]
     },
     "execution_count": 29,
     "metadata": {},
     "output_type": "execute_result"
    }
   ],
   "source": [
    "final_train_dict[183]"
   ]
  },
  {
   "cell_type": "code",
   "execution_count": 30,
   "id": "1080cc58",
   "metadata": {},
   "outputs": [
    {
     "name": "stdout",
     "output_type": "stream",
     "text": [
      "1969 431 2400\n"
     ]
    }
   ],
   "source": [
    "yes_cnt = 0\n",
    "no_cnt = 0\n",
    "for train_data in final_train_dict:\n",
    "    pred = train_data['output'].split(' ')[1]\n",
    "    # print(pred)\n",
    "    if pred == 'Yes':\n",
    "        yes_cnt += 1\n",
    "    elif pred == 'No':\n",
    "        no_cnt += 1\n",
    "    else:\n",
    "        print(pred, '--', train_data['output'])\n",
    "print(yes_cnt, no_cnt, yes_cnt + no_cnt)"
   ]
  },
  {
   "cell_type": "code",
   "execution_count": 31,
   "id": "54a33c95-264b-436d-a2c4-824025cf1453",
   "metadata": {},
   "outputs": [],
   "source": [
    "final_train_path = \"./final_data/movie_wo_profile/test.json\"\n",
    "with open(final_train_path, 'w') as f:\n",
    "    json.dump(final_train_dict, f)"
   ]
  },
  {
   "cell_type": "code",
   "execution_count": null,
   "id": "46a2eb92-fd9b-4e53-9372-0ee9d2f8cd70",
   "metadata": {},
   "outputs": [],
   "source": []
  }
 ],
 "metadata": {
  "kernelspec": {
   "display_name": "Python 3 (ipykernel)",
   "language": "python",
   "name": "python3"
  },
  "language_info": {
   "codemirror_mode": {
    "name": "ipython",
    "version": 3
   },
   "file_extension": ".py",
   "mimetype": "text/x-python",
   "name": "python",
   "nbconvert_exporter": "python",
   "pygments_lexer": "ipython3",
   "version": "3.9.18"
  }
 },
 "nbformat": 4,
 "nbformat_minor": 5
}
