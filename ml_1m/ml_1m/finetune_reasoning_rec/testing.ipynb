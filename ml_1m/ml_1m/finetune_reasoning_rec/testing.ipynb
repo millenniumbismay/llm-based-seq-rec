{
 "cells": [
  {
   "cell_type": "code",
   "execution_count": 1,
   "metadata": {},
   "outputs": [],
   "source": [
    "from transformers import LlamaForCausalLM, LlamaTokenizer, AutoTokenizer, AutoModelForCausalLM\n",
    "import os\n",
    "import numpy as np\n",
    "import torch"
   ]
  },
  {
   "cell_type": "code",
   "execution_count": 2,
   "metadata": {},
   "outputs": [],
   "source": [
    "base_model = \"meta-llama/Llama-2-7b-chat-hf\"\n",
    "# llama_model = \"meta-llama/Meta-Llama-3-8B-Instruct\"\n",
    "\n",
    "device_map = 'auto'\n",
    "max_memory_mapping = {0: \"23GiB\", 1: \"23GiB\"}"
   ]
  },
  {
   "cell_type": "code",
   "execution_count": 3,
   "metadata": {},
   "outputs": [
    {
     "data": {
      "text/plain": [
       "1"
      ]
     },
     "execution_count": 3,
     "metadata": {},
     "output_type": "execute_result"
    }
   ],
   "source": [
    "tokenizer = LlamaTokenizer.from_pretrained(base_model,\n",
    "                                           padding_side = \"left\",\n",
    "                                           add_eos_token = True,\n",
    "                                           add_bos_token = True,                                        \n",
    "                                           token = os.environ.get(\"HUGGINGFACE_ACCESS_TOKEN\"),\n",
    ")\n",
    "tokenizer.add_special_tokens({\"pad_token\":\"<pad>\"})"
   ]
  },
  {
   "cell_type": "code",
   "execution_count": 4,
   "metadata": {},
   "outputs": [
    {
     "name": "stdout",
     "output_type": "stream",
     "text": [
      "pad_token_id=32000\n"
     ]
    }
   ],
   "source": [
    "print(f\"pad_token_id={tokenizer.pad_token_id}\")"
   ]
  },
  {
   "cell_type": "code",
   "execution_count": 5,
   "metadata": {},
   "outputs": [
    {
     "data": {
      "application/vnd.jupyter.widget-view+json": {
       "model_id": "0b52a05d2d2b4be39e2c8cc38d75aafc",
       "version_major": 2,
       "version_minor": 0
      },
      "text/plain": [
       "Loading checkpoint shards:   0%|          | 0/2 [00:00<?, ?it/s]"
      ]
     },
     "metadata": {},
     "output_type": "display_data"
    },
    {
     "data": {
      "text/plain": [
       "Embedding(32008, 4096)"
      ]
     },
     "execution_count": 5,
     "metadata": {},
     "output_type": "execute_result"
    }
   ],
   "source": [
    "model = LlamaForCausalLM.from_pretrained(\n",
    "        base_model,\n",
    "        load_in_8bit=True,\n",
    "        torch_dtype=torch.float16,\n",
    "        device_map=device_map,\n",
    "        max_memory = max_memory_mapping,\n",
    "        token = os.environ.get(\"HUGGINGFACE_ACCESS_TOKEN\"),\n",
    "    ).eval()\n",
    "model.resize_token_embeddings(len(tokenizer),pad_to_multiple_of=8)"
   ]
  },
  {
   "cell_type": "code",
   "execution_count": 6,
   "metadata": {},
   "outputs": [
    {
     "data": {
      "text/plain": [
       "32000"
      ]
     },
     "execution_count": 6,
     "metadata": {},
     "output_type": "execute_result"
    }
   ],
   "source": [
    "tokenizer.vocab_size"
   ]
  },
  {
   "cell_type": "code",
   "execution_count": 7,
   "metadata": {},
   "outputs": [
    {
     "name": "stdout",
     "output_type": "stream",
     "text": [
      "3200\n"
     ]
    }
   ],
   "source": [
    "import json\n",
    "train_data_path = './final_data/movie/train.json'\n",
    "with open(train_data_path, 'r') as f:\n",
    "    train_data = json.load(f)\n",
    "print(len(train_data))"
   ]
  },
  {
   "cell_type": "code",
   "execution_count": 8,
   "metadata": {},
   "outputs": [],
   "source": [
    "def create_data(d):\n",
    "    return d[\"instruction\"] + \"\\n\" + d[\"input\"]"
   ]
  },
  {
   "cell_type": "code",
   "execution_count": 9,
   "metadata": {},
   "outputs": [
    {
     "name": "stdout",
     "output_type": "stream",
     "text": [
      "['You are an expert movie critic and recommender. Given the user profile and list of recent liked and disliked movies, identify whether the user will like the target movie or not by providing reasoning for the same. Please follow further instruction below.\\nUser Profile - \\n            The user has a diverse taste in movies, with a preference for thought-provoking and emotionally engaging films. They enjoy dramas that explore complex themes such as mental illness, racial injustice, and the meaning of life. The user is drawn to movies that challenge their perspective and provoke deep thought, often favoring those that tackle serious and mature subjects.\\n            \\n            In addition to dramas, the user also has a soft spot for classic Disney films, as evidenced by their fondness for Cinderella. They appreciate the enchanting storytelling and timeless charm of these animated tales.\\n            \\n            The user\\'s taste in movies also extends to comedies, as seen in their appreciation for the hilarious antics of Wallace & Gromit and the dark humor of Fargo. They are also drawn to adventure films, as demonstrated by their love for Star Wars: Episode IV - A New Hope and Back to the Future.\\n            \\n            However, the user is not a fan of horror movies, as none are listed among their favorites. They also tend to avoid movies that are overly violent or graphic, preferring instead to focus on stories that are emotionally resonant and intellectually stimulating.\\n            \\n            Overall, the user\\'s movie preferences reflect a deep appreciation for storytelling, character development, and thematic depth.\\nUser watched the following movies recently in the given order. List of user behaviour for recent movies and their description -\\nLiked James and the Giant Peach (Genre: Animation,Children\\'s,Musical) \"James and the Giant Peach (1996) is a whimsical and visually stunning adaptation of Roald Dahl\\'s beloved children\\'s book, filled with adventure, friendship, and magic.\",\\nLiked Ferris Bueller\\'s Day Off (Genre: Comedy) \"Ferris Bueller\\'s Day Off\" is a classic 1980s comedy about a high school student who fakes being sick to have an epic day of adventure and mischief in Chicago.,\\nLiked Secret Garden, The (Genre: Children\\'s,Drama) \"Secret Garden (1993) is a heartwarming adaptation of the classic children\\'s novel, filled with enchanting visuals and a touching story of friendship and healing.\",\\nLiked Toy Story 2 (Genre: Animation,Children\\'s,Comedy) Toy Story 2 (1999) is a heartwarming and hilarious animated adventure that explores the value of friendship and the importance of embracing one\\'s identity.,\\nLiked Airplane! (Genre: Comedy) \"Airplane! is a hilarious spoof comedy that takes flight with its clever wordplay, slapstick humor, and memorable one-liners.\",\\nLiked Dumbo (Genre: Animation,Children\\'s,Musical) \"Dumbo, a heartwarming Disney classic, tells the story of a lovable elephant with big ears who discovers his unique talent and finds his place in the world.\",\\nLiked Pleasantville (Genre: Comedy) \"Pleasantville is a thought-provoking and visually stunning film that explores the power of change and individuality in a black-and-white 1950s sitcom world.\",\\nLiked Princess Bride, The (Genre: Action,Adventure,Comedy,Romance) \"The Princess Bride is a timeless romantic adventure filled with humor, sword fights, and true love that captivates audiences of all ages.\",\\nLiked Snow White and the Seven Dwarfs (Genre: Animation,Children\\'s,Musical) Snow White and the Seven Dwarfs is a timeless classic that brings enchantment to life with its charming characters, beautiful animation, and unforgettable songs.,\\nLiked Miracle on 34th Street (Genre: Drama) \"Miracle on 34th Street (1947) is a heartwarming Christmas classic about a department store Santa who claims to be the real deal, spreading holiday cheer and restoring faith in Santa Claus.\",\\nLiked Ponette (Genre: Drama) \"Ponette is a heartbreaking French drama that follows a young girl\\'s journey to cope with the loss of her mother.\",\\nLiked Schindler\\'s List (Genre: Drama,War) Schindler\\'s List (1993) is a powerful and haunting portrayal of Oskar Schindler\\'s efforts to save Jews during the Holocaust.,\\nLiked Toy Story (Genre: Animation,Children\\'s,Comedy) Toy Story is a groundbreaking animated film that brings toys to life, delivering heartwarming humor and adventure as Woody and Buzz navigate the world of childhood imagination.,\\nLiked Aladdin (Genre: Animation,Children\\'s,Comedy,Musical) \"Aladdin is a magical and enchanting animated film that takes viewers on a thrilling adventure filled with humor, romance, and unforgettable songs.\",\\nLiked Tarzan (Genre: Animation,Children\\'s) Tarzan (1999) is a visually stunning and heartfelt Disney animated film that brings the classic tale to life with memorable characters and an enchanting soundtrack.,\\nLiked Close Shave, A (Genre: Animation,Comedy,Thriller) \"A Close Shave (1995) is a delightful stop-motion animated film that combines humor, suspense, and heart as Wallace and Gromit unravel a sheep-stealing mystery.\",\\nLiked Beauty and the Beast (Genre: Animation,Children\\'s,Musical) \"Beauty and the Beast (1991) is a timeless Disney classic that enchants with its captivating story, stunning animation, and unforgettable music.\",\\nLiked Antz (Genre: Animation,Children\\'s) Antz (1998) is a witty and entertaining animated film that explores themes of individuality, friendship, and the power of standing up for what you believe in.,\\nLiked Hunchback of Notre Dame, The (Genre: Animation,Children\\'s,Musical) The Hunchback of Notre Dame (1996) is a visually stunning and emotionally powerful Disney animated film that explores themes of love, acceptance, and the power of inner beauty.,\\nLiked Bug\\'s Life, A (Genre: Animation,Children\\'s,Comedy) A misfit ant named Flik recruits a group of circus bugs to save his colony from greedy grasshoppers in this animated adventure.,\\nThe user watched the next target movie - Mulan (Genre: Animation,Children\\'s) Mulan is a captivating animated film that tells the empowering story of a young Chinese woman who disguises herself as a man to fight in the army.\\n    Do not use any information not mentioned above. As an expert movie critic and recommender, do the following steps -\\n    Analyze the user profile and movie watching history given in order and summarize the user\\'s behavior from the given list of movies and identify the movie characteristics that he likes and dislikes in atmost 100 words.\\n    Explain with reasoning whether the user will like or dislike the target movie - Mulan  in atmost 100 words.\\n    Finally, Predict whether the user will like the target movie or not in the following format - Prediction: Yes or No\\n    ', 'You are an expert movie critic and recommender. Given the user profile and list of recent liked and disliked movies, identify whether the user will like the target movie or not by providing reasoning for the same. Please follow further instruction below.\\nUser Profile - \\n            The user has a diverse taste in movies, with a preference for classic films and comedies. They enjoy movies that are both visually stunning and emotionally impactful, such as Fantasia and Children of a Lesser God. The user is drawn to movies that offer a unique perspective, like Anna and the King, and is not afraid to explore darker themes, as evidenced by their appreciation for American Beauty and The Black Cauldron.\\n            They have a soft spot for romantic comedies, as seen in their fondness for Pretty Woman, and are also a fan of action-packed films like Jurassic Park and its sequel, The Lost World: Jurassic Park. The user is not limited to a specific genre, as they also enjoy spoof comedies like Airplane! and spy movie parodies like Spy Hard.\\n            However, the user is not a fan of horror movies, as indicated by their absence from the list. They also tend to avoid movies with excessive violence or gore, as their preferred films are generally light-hearted and family-friendly, such as Chicken Run and The Nightmare Before Christmas.\\n            In summary, the user enjoys movies that are visually captivating, emotionally resonant, and often have a unique perspective. They appreciate humor, romance, and adventure, but tend to avoid horror and excessive violence.\\nUser watched the following movies recently in the given order. List of user behaviour for recent movies and their description -\\nLiked Terminator, The (Genre: Action,Sci-Fi,Thriller) In the sci-fi classic Terminator, a relentless cyborg assassin is sent back in time to kill Sarah Connor, while a soldier from the future tries to protect her.,\\nLiked Winnie the Pooh and the Blustery Day (Genre: Animation,Children\\'s) \"Winnie the Pooh and the Blustery Day\" is a heartwarming animated film that follows Pooh and his friends as they face a stormy adventure filled with friendship, humor, and life lessons.,\\nLiked Sound of Music, The (Genre: Musical) The Sound of Music (1965) is a heartwarming musical about a governess who brings joy and music to a widower\\'s seven children in pre-World War II Austria.,\\nLiked Boat, The (Das Boot) (Genre: Action,Drama,War) \"Das Boot\" is a gripping German war film set during World War II, following the intense and claustrophobic experiences of a German U-boat crew.,\\nLiked Never Cry Wolf (Genre: Drama) \"Never Cry Wolf\" is a visually stunning and thought-provoking film that explores the delicate balance between man and nature in the Arctic wilderness.,\\nLiked Schindler\\'s List (Genre: Drama,War) Schindler\\'s List (1993) is a powerful and haunting portrayal of Oskar Schindler\\'s efforts to save Jews during the Holocaust.,\\nLiked Being There (Genre: Comedy) \"Being There\" is a thought-provoking comedy-drama about a simple-minded gardener who becomes an influential figure in society through his unintentional wisdom.,\\nLiked Cinderella (Genre: Animation,Children\\'s,Musical) Cinderella (1950) is a timeless Disney classic that tells the enchanting story of a kind-hearted girl who overcomes adversity with the help of her fairy godmother.,\\nLiked Peter Pan (Genre: Animation,Children\\'s,Fantasy,Musical) \"Disney\\'s enchanting adaptation of J.M. Barrie\\'s classic tale follows the adventures of Peter Pan and his friends in Neverland.\",\\nLiked Ghostbusters II (Genre: Comedy,Horror) \"Ghostbusters II is a fun and entertaining sequel that reunites the beloved team to save New York City from supernatural threats once again.\",\\nLiked My Favorite Martian (Genre: Comedy,Sci-Fi) \"My Favorite Martian\" (1999) is a lighthearted sci-fi comedy about a journalist who befriends a stranded Martian and tries to keep his existence a secret.,\\nLiked Lost in Space (Genre: Action,Sci-Fi,Thriller) \"Lost in Space (1998) is a visually stunning but ultimately disappointing sci-fi adventure that fails to capture the charm of the original TV series.\",\\nLiked Battlefield Earth (Genre: Action,Sci-Fi) Battlefield Earth is a poorly executed sci-fi film set in a post-apocalyptic world, filled with over-the-top acting and a convoluted plot.,\\nLiked Mixed Nuts (Genre: Comedy) Mixed Nuts (1994) is a chaotic holiday comedy about a group of misfits running a suicide hotline, filled with zany characters and absurd situations.,\\nLiked Robin Hood (Genre: Animation,Children\\'s) Disney\\'s animated adaptation of the classic tale follows Robin Hood and his merry band of animals as they outwit the greedy Prince John.,\\nLiked Good Earth, The (Genre: Drama) The Good Earth (1937) is a visually stunning adaptation of Pearl S. Buck\\'s novel, depicting the struggles and triumphs of a Chinese farming family.,\\nLiked Beauty and the Beast (Genre: Animation,Children\\'s,Musical) \"Beauty and the Beast (1991) is a timeless Disney classic that enchants with its captivating story, stunning animation, and unforgettable music.\",\\nLiked Citizen Kane (Genre: Drama) Citizen Kane, a masterpiece directed by Orson Welles, explores the rise and fall of a media tycoon through innovative storytelling techniques and stunning cinematography.,\\nLiked Good Will Hunting (Genre: Drama) \"Good Will Hunting is a heartfelt drama about a troubled genius who finds redemption through therapy and friendship.\",\\nLiked High Noon (Genre: Western) High Noon is a gripping Western that follows a marshal facing a moral dilemma as he prepares to confront a vengeful outlaw.,\\nThe user watched the next target movie - Godfather: Part II, The (Genre: Action,Crime,Drama) The Godfather: Part II (1974) is a masterful sequel that delves deeper into the Corleone family\\'s dark past and present, showcasing exceptional performances and storytelling.\\n    Do not use any information not mentioned above. As an expert movie critic and recommender, do the following steps -\\n    Analyze the user profile and movie watching history given in order and summarize the user\\'s behavior from the given list of movies and identify the movie characteristics that he likes and dislikes in atmost 100 words.\\n    Explain with reasoning whether the user will like or dislike the target movie - Godfather: Part II, The  in atmost 100 words.\\n    Finally, Predict whether the user will like the target movie or not in the following format - Prediction: Yes or No\\n    ']\n",
      "{'input_ids': tensor([[  2675,    527,    459,  ...,   2360,    198,    257],\n",
      "        [128256, 128256, 128256,  ...,   2360,    198,    257]]), 'attention_mask': tensor([[1, 1, 1,  ..., 1, 1, 1],\n",
      "        [0, 0, 0,  ..., 1, 1, 1]])}\n"
     ]
    }
   ],
   "source": [
    "prompt = [\n",
    "    create_data(train_data[0]),\n",
    "    create_data(train_data[1])\n",
    "]\n",
    "print(prompt)\n",
    "inputs = tokenizer(prompt, return_tensors=\"pt\", padding = True)\n",
    "print(inputs)"
   ]
  },
  {
   "cell_type": "code",
   "execution_count": 10,
   "metadata": {},
   "outputs": [
    {
     "name": "stderr",
     "output_type": "stream",
     "text": [
      "The attention mask and the pad token id were not set. As a consequence, you may observe unexpected behavior. Please pass your input's `attention_mask` to obtain reliable results.\n",
      "Setting `pad_token_id` to `eos_token_id`:128001 for open-end generation.\n",
      "/home/grads/m/mbismay/miniconda3/envs/mixtral/lib/python3.9/site-packages/transformers/generation/utils.py:1141: UserWarning: Input length of input_ids is 1424, but `max_length` is set to 64. This can lead to unexpected behavior. You should consider increasing `max_new_tokens`.\n",
      "  warnings.warn(\n",
      "/home/grads/m/mbismay/miniconda3/envs/mixtral/lib/python3.9/site-packages/transformers/generation/utils.py:1413: UserWarning: You are calling .generate() with the `input_ids` being on a device type different than your model's device. `input_ids` is on cpu, whereas the model is on cuda. You may experience unexpected behaviors or slower generation. Please make sure that you have put `input_ids` to the correct device by calling for example input_ids = input_ids.to('cuda') before running `.generate()`.\n",
      "  warnings.warn(\n"
     ]
    },
    {
     "name": "stdout",
     "output_type": "stream",
     "text": [
      "tensor([[  2675,    527,    459,  ...,    198,    257,   1038],\n",
      "        [128256, 128256, 128256,  ...,    198,    257,    220]])\n"
     ]
    }
   ],
   "source": [
    "generate_ids = model.generate(inputs.input_ids, max_length=64)\n",
    "print(generate_ids)"
   ]
  },
  {
   "cell_type": "code",
   "execution_count": 11,
   "metadata": {},
   "outputs": [
    {
     "data": {
      "text/plain": [
       "['You are an expert movie critic and recommender. Given the user profile and list of recent liked and disliked movies, identify whether the user will like the target movie or not by providing reasoning for the same. Please follow further instruction below.\\nUser Profile - \\n            The user has a diverse taste in movies, with a preference for thought-provoking and emotionally engaging films. They enjoy dramas that explore complex themes such as mental illness, racial injustice, and the meaning of life. The user is drawn to movies that challenge their perspective and provoke deep thought, often favoring those that tackle serious and mature subjects.\\n            \\n            In addition to dramas, the user also has a soft spot for classic Disney films, as evidenced by their fondness for Cinderella. They appreciate the enchanting storytelling and timeless charm of these animated tales.\\n            \\n            The user\\'s taste in movies also extends to comedies, as seen in their appreciation for the hilarious antics of Wallace & Gromit and the dark humor of Fargo. They are also drawn to adventure films, as demonstrated by their love for Star Wars: Episode IV - A New Hope and Back to the Future.\\n            \\n            However, the user is not a fan of horror movies, as none are listed among their favorites. They also tend to avoid movies that are overly violent or graphic, preferring instead to focus on stories that are emotionally resonant and intellectually stimulating.\\n            \\n            Overall, the user\\'s movie preferences reflect a deep appreciation for storytelling, character development, and thematic depth.\\nUser watched the following movies recently in the given order. List of user behaviour for recent movies and their description -\\nLiked James and the Giant Peach (Genre: Animation,Children\\'s,Musical) \"James and the Giant Peach (1996) is a whimsical and visually stunning adaptation of Roald Dahl\\'s beloved children\\'s book, filled with adventure, friendship, and magic.\",\\nLiked Ferris Bueller\\'s Day Off (Genre: Comedy) \"Ferris Bueller\\'s Day Off\" is a classic 1980s comedy about a high school student who fakes being sick to have an epic day of adventure and mischief in Chicago.,\\nLiked Secret Garden, The (Genre: Children\\'s,Drama) \"Secret Garden (1993) is a heartwarming adaptation of the classic children\\'s novel, filled with enchanting visuals and a touching story of friendship and healing.\",\\nLiked Toy Story 2 (Genre: Animation,Children\\'s,Comedy) Toy Story 2 (1999) is a heartwarming and hilarious animated adventure that explores the value of friendship and the importance of embracing one\\'s identity.,\\nLiked Airplane! (Genre: Comedy) \"Airplane! is a hilarious spoof comedy that takes flight with its clever wordplay, slapstick humor, and memorable one-liners.\",\\nLiked Dumbo (Genre: Animation,Children\\'s,Musical) \"Dumbo, a heartwarming Disney classic, tells the story of a lovable elephant with big ears who discovers his unique talent and finds his place in the world.\",\\nLiked Pleasantville (Genre: Comedy) \"Pleasantville is a thought-provoking and visually stunning film that explores the power of change and individuality in a black-and-white 1950s sitcom world.\",\\nLiked Princess Bride, The (Genre: Action,Adventure,Comedy,Romance) \"The Princess Bride is a timeless romantic adventure filled with humor, sword fights, and true love that captivates audiences of all ages.\",\\nLiked Snow White and the Seven Dwarfs (Genre: Animation,Children\\'s,Musical) Snow White and the Seven Dwarfs is a timeless classic that brings enchantment to life with its charming characters, beautiful animation, and unforgettable songs.,\\nLiked Miracle on 34th Street (Genre: Drama) \"Miracle on 34th Street (1947) is a heartwarming Christmas classic about a department store Santa who claims to be the real deal, spreading holiday cheer and restoring faith in Santa Claus.\",\\nLiked Ponette (Genre: Drama) \"Ponette is a heartbreaking French drama that follows a young girl\\'s journey to cope with the loss of her mother.\",\\nLiked Schindler\\'s List (Genre: Drama,War) Schindler\\'s List (1993) is a powerful and haunting portrayal of Oskar Schindler\\'s efforts to save Jews during the Holocaust.,\\nLiked Toy Story (Genre: Animation,Children\\'s,Comedy) Toy Story is a groundbreaking animated film that brings toys to life, delivering heartwarming humor and adventure as Woody and Buzz navigate the world of childhood imagination.,\\nLiked Aladdin (Genre: Animation,Children\\'s,Comedy,Musical) \"Aladdin is a magical and enchanting animated film that takes viewers on a thrilling adventure filled with humor, romance, and unforgettable songs.\",\\nLiked Tarzan (Genre: Animation,Children\\'s) Tarzan (1999) is a visually stunning and heartfelt Disney animated film that brings the classic tale to life with memorable characters and an enchanting soundtrack.,\\nLiked Close Shave, A (Genre: Animation,Comedy,Thriller) \"A Close Shave (1995) is a delightful stop-motion animated film that combines humor, suspense, and heart as Wallace and Gromit unravel a sheep-stealing mystery.\",\\nLiked Beauty and the Beast (Genre: Animation,Children\\'s,Musical) \"Beauty and the Beast (1991) is a timeless Disney classic that enchants with its captivating story, stunning animation, and unforgettable music.\",\\nLiked Antz (Genre: Animation,Children\\'s) Antz (1998) is a witty and entertaining animated film that explores themes of individuality, friendship, and the power of standing up for what you believe in.,\\nLiked Hunchback of Notre Dame, The (Genre: Animation,Children\\'s,Musical) The Hunchback of Notre Dame (1996) is a visually stunning and emotionally powerful Disney animated film that explores themes of love, acceptance, and the power of inner beauty.,\\nLiked Bug\\'s Life, A (Genre: Animation,Children\\'s,Comedy) A misfit ant named Flik recruits a group of circus bugs to save his colony from greedy grasshoppers in this animated adventure.,\\nThe user watched the next target movie - Mulan (Genre: Animation,Children\\'s) Mulan is a captivating animated film that tells the empowering story of a young Chinese woman who disguises herself as a man to fight in the army.\\n    Do not use any information not mentioned above. As an expert movie critic and recommender, do the following steps -\\n    Analyze the user profile and movie watching history given in order and summarize the user\\'s behavior from the given list of movies and identify the movie characteristics that he likes and dislikes in atmost 100 words.\\n    Explain with reasoning whether the user will like or dislike the target movie - Mulan  in atmost 100 words.\\n    Finally, Predict whether the user will like the target movie or not in the following format - Prediction: Yes or No\\n    \\n\\n\\n\\n',\n",
       " '<pad><pad><pad><pad><pad><pad><pad><pad><pad><pad><pad><pad><pad><pad><pad><pad><pad><pad><pad><pad><pad><pad><pad><pad><pad><pad><pad><pad><pad><pad><pad><pad><pad><pad><pad><pad><pad><pad><pad><pad><pad><pad><pad><pad>You are an expert movie critic and recommender. Given the user profile and list of recent liked and disliked movies, identify whether the user will like the target movie or not by providing reasoning for the same. Please follow further instruction below.\\nUser Profile - \\n            The user has a diverse taste in movies, with a preference for classic films and comedies. They enjoy movies that are both visually stunning and emotionally impactful, such as Fantasia and Children of a Lesser God. The user is drawn to movies that offer a unique perspective, like Anna and the King, and is not afraid to explore darker themes, as evidenced by their appreciation for American Beauty and The Black Cauldron.\\n            They have a soft spot for romantic comedies, as seen in their fondness for Pretty Woman, and are also a fan of action-packed films like Jurassic Park and its sequel, The Lost World: Jurassic Park. The user is not limited to a specific genre, as they also enjoy spoof comedies like Airplane! and spy movie parodies like Spy Hard.\\n            However, the user is not a fan of horror movies, as indicated by their absence from the list. They also tend to avoid movies with excessive violence or gore, as their preferred films are generally light-hearted and family-friendly, such as Chicken Run and The Nightmare Before Christmas.\\n            In summary, the user enjoys movies that are visually captivating, emotionally resonant, and often have a unique perspective. They appreciate humor, romance, and adventure, but tend to avoid horror and excessive violence.\\nUser watched the following movies recently in the given order. List of user behaviour for recent movies and their description -\\nLiked Terminator, The (Genre: Action,Sci-Fi,Thriller) In the sci-fi classic Terminator, a relentless cyborg assassin is sent back in time to kill Sarah Connor, while a soldier from the future tries to protect her.,\\nLiked Winnie the Pooh and the Blustery Day (Genre: Animation,Children\\'s) \"Winnie the Pooh and the Blustery Day\" is a heartwarming animated film that follows Pooh and his friends as they face a stormy adventure filled with friendship, humor, and life lessons.,\\nLiked Sound of Music, The (Genre: Musical) The Sound of Music (1965) is a heartwarming musical about a governess who brings joy and music to a widower\\'s seven children in pre-World War II Austria.,\\nLiked Boat, The (Das Boot) (Genre: Action,Drama,War) \"Das Boot\" is a gripping German war film set during World War II, following the intense and claustrophobic experiences of a German U-boat crew.,\\nLiked Never Cry Wolf (Genre: Drama) \"Never Cry Wolf\" is a visually stunning and thought-provoking film that explores the delicate balance between man and nature in the Arctic wilderness.,\\nLiked Schindler\\'s List (Genre: Drama,War) Schindler\\'s List (1993) is a powerful and haunting portrayal of Oskar Schindler\\'s efforts to save Jews during the Holocaust.,\\nLiked Being There (Genre: Comedy) \"Being There\" is a thought-provoking comedy-drama about a simple-minded gardener who becomes an influential figure in society through his unintentional wisdom.,\\nLiked Cinderella (Genre: Animation,Children\\'s,Musical) Cinderella (1950) is a timeless Disney classic that tells the enchanting story of a kind-hearted girl who overcomes adversity with the help of her fairy godmother.,\\nLiked Peter Pan (Genre: Animation,Children\\'s,Fantasy,Musical) \"Disney\\'s enchanting adaptation of J.M. Barrie\\'s classic tale follows the adventures of Peter Pan and his friends in Neverland.\",\\nLiked Ghostbusters II (Genre: Comedy,Horror) \"Ghostbusters II is a fun and entertaining sequel that reunites the beloved team to save New York City from supernatural threats once again.\",\\nLiked My Favorite Martian (Genre: Comedy,Sci-Fi) \"My Favorite Martian\" (1999) is a lighthearted sci-fi comedy about a journalist who befriends a stranded Martian and tries to keep his existence a secret.,\\nLiked Lost in Space (Genre: Action,Sci-Fi,Thriller) \"Lost in Space (1998) is a visually stunning but ultimately disappointing sci-fi adventure that fails to capture the charm of the original TV series.\",\\nLiked Battlefield Earth (Genre: Action,Sci-Fi) Battlefield Earth is a poorly executed sci-fi film set in a post-apocalyptic world, filled with over-the-top acting and a convoluted plot.,\\nLiked Mixed Nuts (Genre: Comedy) Mixed Nuts (1994) is a chaotic holiday comedy about a group of misfits running a suicide hotline, filled with zany characters and absurd situations.,\\nLiked Robin Hood (Genre: Animation,Children\\'s) Disney\\'s animated adaptation of the classic tale follows Robin Hood and his merry band of animals as they outwit the greedy Prince John.,\\nLiked Good Earth, The (Genre: Drama) The Good Earth (1937) is a visually stunning adaptation of Pearl S. Buck\\'s novel, depicting the struggles and triumphs of a Chinese farming family.,\\nLiked Beauty and the Beast (Genre: Animation,Children\\'s,Musical) \"Beauty and the Beast (1991) is a timeless Disney classic that enchants with its captivating story, stunning animation, and unforgettable music.\",\\nLiked Citizen Kane (Genre: Drama) Citizen Kane, a masterpiece directed by Orson Welles, explores the rise and fall of a media tycoon through innovative storytelling techniques and stunning cinematography.,\\nLiked Good Will Hunting (Genre: Drama) \"Good Will Hunting is a heartfelt drama about a troubled genius who finds redemption through therapy and friendship.\",\\nLiked High Noon (Genre: Western) High Noon is a gripping Western that follows a marshal facing a moral dilemma as he prepares to confront a vengeful outlaw.,\\nThe user watched the next target movie - Godfather: Part II, The (Genre: Action,Crime,Drama) The Godfather: Part II (1974) is a masterful sequel that delves deeper into the Corleone family\\'s dark past and present, showcasing exceptional performances and storytelling.\\n    Do not use any information not mentioned above. As an expert movie critic and recommender, do the following steps -\\n    Analyze the user profile and movie watching history given in order and summarize the user\\'s behavior from the given list of movies and identify the movie characteristics that he likes and dislikes in atmost 100 words.\\n    Explain with reasoning whether the user will like or dislike the target movie - Godfather: Part II, The  in atmost 100 words.\\n    Finally, Predict whether the user will like the target movie or not in the following format - Prediction: Yes or No\\n     ']"
      ]
     },
     "execution_count": 11,
     "metadata": {},
     "output_type": "execute_result"
    }
   ],
   "source": [
    "tokenizer.batch_decode(generate_ids, skip_special_tokens=False, clean_up_tokenization_spaces=True)"
   ]
  },
  {
   "cell_type": "code",
   "execution_count": 13,
   "metadata": {},
   "outputs": [],
   "source": [
    "messages = [\n",
    "    {\"role\": \"system\", \"content\": train_data[0]['instruction']},\n",
    "    {\"role\": \"user\", \"content\": train_data[0]['input']},\n",
    "]"
   ]
  },
  {
   "cell_type": "code",
   "execution_count": 14,
   "metadata": {},
   "outputs": [
    {
     "name": "stdout",
     "output_type": "stream",
     "text": [
      "tensor([[128000, 128006,   9125,  ...,  78191, 128007,    271]],\n",
      "       device='cuda:2')\n"
     ]
    }
   ],
   "source": [
    "input_ids = tokenizer.apply_chat_template(\n",
    "    messages,\n",
    "    add_generation_prompt=True,\n",
    "    return_tensors=\"pt\"\n",
    ").to(model.device)\n",
    "print(input_ids)"
   ]
  },
  {
   "cell_type": "code",
   "execution_count": 18,
   "metadata": {},
   "outputs": [
    {
     "data": {
      "text/plain": [
       "'<|begin_of_text|><|start_header_id|>system<|end_header_id|>\\n\\nYou are an expert movie critic and recommender. Given the user profile and list of recent liked and disliked movies, identify whether the user will like the target movie or not by providing reasoning for the same. Please follow further instruction below.<|eot_id|><|start_header_id|>user<|end_header_id|>\\n\\nUser Profile - \\n            The user has a diverse taste in movies, with a preference for thought-provoking and emotionally engaging films. They enjoy dramas that explore complex themes such as mental illness, racial injustice, and the meaning of life. The user is drawn to movies that challenge their perspective and provoke deep thought, often favoring those that tackle serious and mature subjects.\\n            \\n            In addition to dramas, the user also has a soft spot for classic Disney films, as evidenced by their fondness for Cinderella. They appreciate the enchanting storytelling and timeless charm of these animated tales.\\n            \\n            The user\\'s taste in movies also extends to comedies, as seen in their appreciation for the hilarious antics of Wallace & Gromit and the dark humor of Fargo. They are also drawn to adventure films, as demonstrated by their love for Star Wars: Episode IV - A New Hope and Back to the Future.\\n            \\n            However, the user is not a fan of horror movies, as none are listed among their favorites. They also tend to avoid movies that are overly violent or graphic, preferring instead to focus on stories that are emotionally resonant and intellectually stimulating.\\n            \\n            Overall, the user\\'s movie preferences reflect a deep appreciation for storytelling, character development, and thematic depth.\\nUser watched the following movies recently in the given order. List of user behaviour for recent movies and their description -\\nLiked James and the Giant Peach (Genre: Animation,Children\\'s,Musical) \"James and the Giant Peach (1996) is a whimsical and visually stunning adaptation of Roald Dahl\\'s beloved children\\'s book, filled with adventure, friendship, and magic.\",\\nLiked Ferris Bueller\\'s Day Off (Genre: Comedy) \"Ferris Bueller\\'s Day Off\" is a classic 1980s comedy about a high school student who fakes being sick to have an epic day of adventure and mischief in Chicago.,\\nLiked Secret Garden, The (Genre: Children\\'s,Drama) \"Secret Garden (1993) is a heartwarming adaptation of the classic children\\'s novel, filled with enchanting visuals and a touching story of friendship and healing.\",\\nLiked Toy Story 2 (Genre: Animation,Children\\'s,Comedy) Toy Story 2 (1999) is a heartwarming and hilarious animated adventure that explores the value of friendship and the importance of embracing one\\'s identity.,\\nLiked Airplane! (Genre: Comedy) \"Airplane! is a hilarious spoof comedy that takes flight with its clever wordplay, slapstick humor, and memorable one-liners.\",\\nLiked Dumbo (Genre: Animation,Children\\'s,Musical) \"Dumbo, a heartwarming Disney classic, tells the story of a lovable elephant with big ears who discovers his unique talent and finds his place in the world.\",\\nLiked Pleasantville (Genre: Comedy) \"Pleasantville is a thought-provoking and visually stunning film that explores the power of change and individuality in a black-and-white 1950s sitcom world.\",\\nLiked Princess Bride, The (Genre: Action,Adventure,Comedy,Romance) \"The Princess Bride is a timeless romantic adventure filled with humor, sword fights, and true love that captivates audiences of all ages.\",\\nLiked Snow White and the Seven Dwarfs (Genre: Animation,Children\\'s,Musical) Snow White and the Seven Dwarfs is a timeless classic that brings enchantment to life with its charming characters, beautiful animation, and unforgettable songs.,\\nLiked Miracle on 34th Street (Genre: Drama) \"Miracle on 34th Street (1947) is a heartwarming Christmas classic about a department store Santa who claims to be the real deal, spreading holiday cheer and restoring faith in Santa Claus.\",\\nLiked Ponette (Genre: Drama) \"Ponette is a heartbreaking French drama that follows a young girl\\'s journey to cope with the loss of her mother.\",\\nLiked Schindler\\'s List (Genre: Drama,War) Schindler\\'s List (1993) is a powerful and haunting portrayal of Oskar Schindler\\'s efforts to save Jews during the Holocaust.,\\nLiked Toy Story (Genre: Animation,Children\\'s,Comedy) Toy Story is a groundbreaking animated film that brings toys to life, delivering heartwarming humor and adventure as Woody and Buzz navigate the world of childhood imagination.,\\nLiked Aladdin (Genre: Animation,Children\\'s,Comedy,Musical) \"Aladdin is a magical and enchanting animated film that takes viewers on a thrilling adventure filled with humor, romance, and unforgettable songs.\",\\nLiked Tarzan (Genre: Animation,Children\\'s) Tarzan (1999) is a visually stunning and heartfelt Disney animated film that brings the classic tale to life with memorable characters and an enchanting soundtrack.,\\nLiked Close Shave, A (Genre: Animation,Comedy,Thriller) \"A Close Shave (1995) is a delightful stop-motion animated film that combines humor, suspense, and heart as Wallace and Gromit unravel a sheep-stealing mystery.\",\\nLiked Beauty and the Beast (Genre: Animation,Children\\'s,Musical) \"Beauty and the Beast (1991) is a timeless Disney classic that enchants with its captivating story, stunning animation, and unforgettable music.\",\\nLiked Antz (Genre: Animation,Children\\'s) Antz (1998) is a witty and entertaining animated film that explores themes of individuality, friendship, and the power of standing up for what you believe in.,\\nLiked Hunchback of Notre Dame, The (Genre: Animation,Children\\'s,Musical) The Hunchback of Notre Dame (1996) is a visually stunning and emotionally powerful Disney animated film that explores themes of love, acceptance, and the power of inner beauty.,\\nLiked Bug\\'s Life, A (Genre: Animation,Children\\'s,Comedy) A misfit ant named Flik recruits a group of circus bugs to save his colony from greedy grasshoppers in this animated adventure.,\\nThe user watched the next target movie - Mulan (Genre: Animation,Children\\'s) Mulan is a captivating animated film that tells the empowering story of a young Chinese woman who disguises herself as a man to fight in the army.\\n    Do not use any information not mentioned above. As an expert movie critic and recommender, do the following steps -\\n    Analyze the user profile and movie watching history given in order and summarize the user\\'s behavior from the given list of movies and identify the movie characteristics that he likes and dislikes in atmost 100 words.\\n    Explain with reasoning whether the user will like or dislike the target movie - Mulan  in atmost 100 words.\\n    Finally, Predict whether the user will like the target movie or not in the following format - Prediction: Yes or No<|eot_id|><|start_header_id|>assistant<|end_header_id|>\\n\\n'"
      ]
     },
     "execution_count": 18,
     "metadata": {},
     "output_type": "execute_result"
    }
   ],
   "source": [
    "tokenizer.decode(input_ids[0])"
   ]
  },
  {
   "cell_type": "code",
   "execution_count": 15,
   "metadata": {},
   "outputs": [
    {
     "name": "stderr",
     "output_type": "stream",
     "text": [
      "The attention mask and the pad token id were not set. As a consequence, you may observe unexpected behavior. Please pass your input's `attention_mask` to obtain reliable results.\n",
      "Setting `pad_token_id` to `eos_token_id`:128001 for open-end generation.\n"
     ]
    }
   ],
   "source": [
    "terminators = [\n",
    "    tokenizer.eos_token_id,\n",
    "    tokenizer.convert_tokens_to_ids(\"<|eot_id|>\")\n",
    "]\n",
    "outputs = model.generate(\n",
    "    input_ids,\n",
    "    max_new_tokens=256,\n",
    "    eos_token_id=terminators,\n",
    "    do_sample=True,\n",
    "    temperature=0.6,\n",
    "    top_p=0.9,\n",
    ")"
   ]
  },
  {
   "cell_type": "code",
   "execution_count": 16,
   "metadata": {},
   "outputs": [
    {
     "name": "stdout",
     "output_type": "stream",
     "text": [
      "Summary of user behavior:\n",
      "The user has a diverse taste in movies, preferring thought-provoking dramas, classic Disney films, comedies, and adventure films. They enjoy stories with complex themes, enchanting storytelling, and memorable characters. The user tends to avoid horror movies and overly violent or graphic content.\n",
      "\n",
      "Movie characteristics liked by the user:\n",
      "* Whimsical and visually stunning adaptations\n",
      "* Heartwarming and emotionally engaging stories\n",
      "* Enchanting animation and memorable characters\n",
      "* Themes of friendship, healing, and individuality\n",
      "* Classic Disney films with timeless charm\n",
      "* Comedies with clever wordplay and slapstick humor\n",
      "* Adventure films with memorable characters and thrilling storylines\n",
      "\n",
      "Movie characteristics disliked by the user:\n",
      "* Horror movies\n",
      "* Overly violent or graphic content\n",
      "\n",
      "Prediction: Yes\n",
      "\n",
      "Reasoning: Mulan is a captivating animated film that tells the empowering story of a young Chinese woman who disguises herself as a man to fight in the army. The film has a strong female lead, enchanting animation, and a heartwarming story of self-discovery and growth. Given the user's appreciation for classic Disney films, animation, and emotionally engaging stories, it is likely that they will enjoy Mulan.\n"
     ]
    }
   ],
   "source": [
    "response = outputs[0][input_ids.shape[-1]:]\n",
    "print(tokenizer.decode(response, skip_special_tokens=True))"
   ]
  },
  {
   "cell_type": "code",
   "execution_count": 12,
   "metadata": {},
   "outputs": [
    {
     "data": {
      "text/plain": [
       "'<|end_of_text|>'"
      ]
     },
     "execution_count": 12,
     "metadata": {},
     "output_type": "execute_result"
    }
   ],
   "source": [
    "tokenizer.eos_token"
   ]
  },
  {
   "cell_type": "code",
   "execution_count": 41,
   "metadata": {},
   "outputs": [
    {
     "name": "stdout",
     "output_type": "stream",
     "text": [
      "{'input_ids': tensor([[   1,  584, 3869,    2]]), 'attention_mask': tensor([[1, 1, 1, 1]])}\n"
     ]
    }
   ],
   "source": [
    "prompt = [': Yes']\n",
    "inputs = tokenizer(prompt, return_tensors=\"pt\", padding = True)\n",
    "print(inputs)"
   ]
  },
  {
   "cell_type": "code",
   "execution_count": 1,
   "metadata": {},
   "outputs": [
    {
     "ename": "NameError",
     "evalue": "name 'tokenizer' is not defined",
     "output_type": "error",
     "traceback": [
      "\u001b[0;31m---------------------------------------------------------------------------\u001b[0m",
      "\u001b[0;31mNameError\u001b[0m                                 Traceback (most recent call last)",
      "Cell \u001b[0;32mIn[1], line 1\u001b[0m\n\u001b[0;32m----> 1\u001b[0m \u001b[43mtokenizer\u001b[49m\u001b[38;5;241m.\u001b[39mbatch_decode([\u001b[38;5;241m29901\u001b[39m, \u001b[38;5;241m3869\u001b[39m], skip_special_tokens\u001b[38;5;241m=\u001b[39m\u001b[38;5;28;01mTrue\u001b[39;00m, clean_up_tokenization_spaces\u001b[38;5;241m=\u001b[39m\u001b[38;5;28;01mFalse\u001b[39;00m)\n",
      "\u001b[0;31mNameError\u001b[0m: name 'tokenizer' is not defined"
     ]
    }
   ],
   "source": [
    "tokenizer.batch_decode([29901, 3869], skip_special_tokens=True, clean_up_tokenization_spaces=False)"
   ]
  },
  {
   "cell_type": "code",
   "execution_count": 44,
   "metadata": {},
   "outputs": [
    {
     "data": {
      "text/plain": [
       "([[0, 2, 0, 3, 0, 3, 4, 45, 0, 3], [0, 2, 0, 3, 0, 3, 4, 45, 0, 3]],\n",
       " [[1, 2, 1, 3, 1, 3, 4, 45, 1, 3], [1, 2, 1, 3, 1, 3, 4, 45, 1, 3]])"
      ]
     },
     "execution_count": 44,
     "metadata": {},
     "output_type": "execute_result"
    }
   ],
   "source": [
    "l = [[1,2,1,3,1,3,4,45,1,3], [1,2,1,3,1,3,4,45,1,3]]\n",
    "l1 = [[n if n!=1 else 0 for n in label] for label in l]\n",
    "l1, l"
   ]
  },
  {
   "cell_type": "code",
   "execution_count": 7,
   "metadata": {},
   "outputs": [
    {
     "name": "stderr",
     "output_type": "stream",
     "text": [
      "/home/grads/m/mbismay/miniconda3/envs/mixtral/lib/python3.9/site-packages/transformers/generation/utils.py:1413: UserWarning: You are calling .generate() with the `input_ids` being on a device type different than your model's device. `input_ids` is on cpu, whereas the model is on cuda. You may experience unexpected behaviors or slower generation. Please make sure that you have put `input_ids` to the correct device by calling for example input_ids = input_ids.to('cuda') before running `.generate()`.\n",
      "  warnings.warn(\n"
     ]
    },
    {
     "data": {
      "text/plain": [
       "'Hey, are you conscious? Can you talk to me?\\nЉ�д�д�д�д�д�д�д'"
      ]
     },
     "execution_count": 7,
     "metadata": {},
     "output_type": "execute_result"
    }
   ],
   "source": [
    "from transformers import AutoTokenizer, LlamaForCausalLM\n",
    "\n",
    "prompt = \"Hey, are you conscious? Can you talk to me?\"\n",
    "inputs = tokenizer(prompt, return_tensors=\"pt\")\n",
    "\n",
    "# Generate\n",
    "generate_ids = model.generate(inputs.input_ids, max_length=30)\n",
    "tokenizer.batch_decode(generate_ids, skip_special_tokens=True, clean_up_tokenization_spaces=False)[0]"
   ]
  },
  {
   "cell_type": "markdown",
   "metadata": {},
   "source": [
    "### Mistral 7B Instruct v0.2"
   ]
  },
  {
   "cell_type": "code",
   "execution_count": 5,
   "metadata": {},
   "outputs": [
    {
     "data": {
      "application/vnd.jupyter.widget-view+json": {
       "model_id": "45b22f7b110843f8b015874143df9ca1",
       "version_major": 2,
       "version_minor": 0
      },
      "text/plain": [
       "Loading checkpoint shards:   0%|          | 0/3 [00:00<?, ?it/s]"
      ]
     },
     "metadata": {},
     "output_type": "display_data"
    },
    {
     "name": "stderr",
     "output_type": "stream",
     "text": [
      "The attention mask and the pad token id were not set. As a consequence, you may observe unexpected behavior. Please pass your input's `attention_mask` to obtain reliable results.\n",
      "Setting `pad_token_id` to `eos_token_id`:2 for open-end generation.\n"
     ]
    },
    {
     "name": "stdout",
     "output_type": "stream",
     "text": [
      "<s> [INST] You are an expert movie critic and recommender. Given the user profile and list of recent liked and disliked movies, identify whether the user will like the target movie or not by providing reasoning for the same. Please follow further instruction below.\n",
      "User Profile - \n",
      "            The user has a diverse taste in movies, with a preference for thought-provoking and emotionally engaging films. They enjoy dramas that explore complex themes such as mental illness, racial injustice, and the meaning of life. The user is drawn to movies that challenge their perspective and provoke deep thought, often favoring those that tackle serious and mature subjects.\n",
      "            \n",
      "            In addition to dramas, the user also has a soft spot for classic Disney films, as evidenced by their fondness for Cinderella. They appreciate the enchanting storytelling and timeless charm of these animated tales.\n",
      "            \n",
      "            The user's taste in movies also extends to comedies, as seen in their appreciation for the hilarious antics of Wallace & Gromit and the dark humor of Fargo. They are also drawn to adventure films, as demonstrated by their love for Star Wars: Episode IV - A New Hope and Back to the Future.\n",
      "            \n",
      "            However, the user is not a fan of horror movies, as none are listed among their favorites. They also tend to avoid movies that are overly violent or graphic, preferring instead to focus on stories that are emotionally resonant and intellectually stimulating.\n",
      "            \n",
      "            Overall, the user's movie preferences reflect a deep appreciation for storytelling, character development, and thematic depth.\n",
      "User watched the following movies recently in the given order. List of user behaviour for recent movies and their description -\n",
      "Liked James and the Giant Peach (Genre: Animation,Children's,Musical) \"James and the Giant Peach (1996) is a whimsical and visually stunning adaptation of Roald Dahl's beloved children's book, filled with adventure, friendship, and magic.\",\n",
      "Liked Ferris Bueller's Day Off (Genre: Comedy) \"Ferris Bueller's Day Off\" is a classic 1980s comedy about a high school student who fakes being sick to have an epic day of adventure and mischief in Chicago.,\n",
      "Liked Secret Garden, The (Genre: Children's,Drama) \"Secret Garden (1993) is a heartwarming adaptation of the classic children's novel, filled with enchanting visuals and a touching story of friendship and healing.\",\n",
      "Liked Toy Story 2 (Genre: Animation,Children's,Comedy) Toy Story 2 (1999) is a heartwarming and hilarious animated adventure that explores the value of friendship and the importance of embracing one's identity.,\n",
      "Liked Airplane! (Genre: Comedy) \"Airplane! is a hilarious spoof comedy that takes flight with its clever wordplay, slapstick humor, and memorable one-liners.\",\n",
      "Liked Dumbo (Genre: Animation,Children's,Musical) \"Dumbo, a heartwarming Disney classic, tells the story of a lovable elephant with big ears who discovers his unique talent and finds his place in the world.\",\n",
      "Liked Pleasantville (Genre: Comedy) \"Pleasantville is a thought-provoking and visually stunning film that explores the power of change and individuality in a black-and-white 1950s sitcom world.\",\n",
      "Liked Princess Bride, The (Genre: Action,Adventure,Comedy,Romance) \"The Princess Bride is a timeless romantic adventure filled with humor, sword fights, and true love that captivates audiences of all ages.\",\n",
      "Liked Snow White and the Seven Dwarfs (Genre: Animation,Children's,Musical) Snow White and the Seven Dwarfs is a timeless classic that brings enchantment to life with its charming characters, beautiful animation, and unforgettable songs.,\n",
      "Liked Miracle on 34th Street (Genre: Drama) \"Miracle on 34th Street (1947) is a heartwarming Christmas classic about a department store Santa who claims to be the real deal, spreading holiday cheer and restoring faith in Santa Claus.\",\n",
      "Liked Ponette (Genre: Drama) \"Ponette is a heartbreaking French drama that follows a young girl's journey to cope with the loss of her mother.\",\n",
      "Liked Schindler's List (Genre: Drama,War) Schindler's List (1993) is a powerful and haunting portrayal of Oskar Schindler's efforts to save Jews during the Holocaust.,\n",
      "Liked Toy Story (Genre: Animation,Children's,Comedy) Toy Story is a groundbreaking animated film that brings toys to life, delivering heartwarming humor and adventure as Woody and Buzz navigate the world of childhood imagination.,\n",
      "Liked Aladdin (Genre: Animation,Children's,Comedy,Musical) \"Aladdin is a magical and enchanting animated film that takes viewers on a thrilling adventure filled with humor, romance, and unforgettable songs.\",\n",
      "Liked Tarzan (Genre: Animation,Children's) Tarzan (1999) is a visually stunning and heartfelt Disney animated film that brings the classic tale to life with memorable characters and an enchanting soundtrack.,\n",
      "Liked Close Shave, A (Genre: Animation,Comedy,Thriller) \"A Close Shave (1995) is a delightful stop-motion animated film that combines humor, suspense, and heart as Wallace and Gromit unravel a sheep-stealing mystery.\",\n",
      "Liked Beauty and the Beast (Genre: Animation,Children's,Musical) \"Beauty and the Beast (1991) is a timeless Disney classic that enchants with its captivating story, stunning animation, and unforgettable music.\",\n",
      "Liked Antz (Genre: Animation,Children's) Antz (1998) is a witty and entertaining animated film that explores themes of individuality, friendship, and the power of standing up for what you believe in.,\n",
      "Liked Hunchback of Notre Dame, The (Genre: Animation,Children's,Musical) The Hunchback of Notre Dame (1996) is a visually stunning and emotionally powerful Disney animated film that explores themes of love, acceptance, and the power of inner beauty.,\n",
      "Liked Bug's Life, A (Genre: Animation,Children's,Comedy) A misfit ant named Flik recruits a group of circus bugs to save his colony from greedy grasshoppers in this animated adventure.,\n",
      "The user watched the next target movie - Mulan (Genre: Animation,Children's) Mulan is a captivating animated film that tells the empowering story of a young Chinese woman who disguises herself as a man to fight in the army.\n",
      "    As an expert movie critic and recommender, do the following steps -\n",
      "    First, Analyze the user profile and movie watching history given in order and summarize the user's behavior from the given list of movies and identify the movie characteristics that he likes and dislikes in atmost 100 words.\n",
      "    Finally, Explain with reasoning whether the user will like or dislike the target movie - Mulan  in atmost 100 words.\n",
      "    Do not use any information not mentioned above. [/INST] Based on the user profile and movie watching history, the user has a diverse taste in movies, with a preference for thought-provoking and emotionally engaging films. They enjoy dramas that explore complex themes and appreciate enchanting storytelling in animated films, particularly those with a deep message or exploration of identity. The user tends to avoid horror movies, violence, and graphic content.\n",
      "\n",
      "The user's recent movie preferences demonstrate a liking for animated films with strong narratives and complex themes, such as \"Snow White and the Seven Dwarfs,\" \"Beauty and the Beast,\" and \"The Hunchback of Notre Dame.\" They also enjoy comedies, as shown by their appreciation for \"Airplane!\" and \"Wallace & Gromit.\"\n",
      "\n",
      "Given the user's history and the user profile, it is likely that they will enjoy \"Mulan\" due to its strong narrative, themes of empowerment, and its visual storytelling in an animated format. Additionally, the user's appreciation for deeper storytelling in animated films, along with their disinterest in violence, should make \"Mulan\" an appealing option.</s>\n"
     ]
    }
   ],
   "source": [
    "from transformers import AutoModelForCausalLM, AutoTokenizer\n",
    "import os\n",
    "import torch\n",
    "# device = \"cuda\" # the device to load the model onto\n",
    "device_map = 'auto'\n",
    "max_memory_mapping = {0: \"23GiB\", 1: \"23GiB\"}\n",
    "model_id = \"mistralai/Mistral-7B-Instruct-v0.2\"\n",
    "\n",
    "model = AutoModelForCausalLM.from_pretrained(model_id,\n",
    "                                             token = os.environ.get(\"HUGGINGFACE_ACCESS_TOKEN\"))\n",
    "tokenizer = AutoTokenizer.from_pretrained(model_id,\n",
    "                                        load_in_8bit=True,\n",
    "                                        torch_dtype=torch.float16,\n",
    "                                        device_map=device_map,\n",
    "                                        max_memory = max_memory_mapping,\n",
    "                                        token = os.environ.get(\"HUGGINGFACE_ACCESS_TOKEN\"),)\n",
    "\n",
    "messages = [\n",
    "    {\"role\": \"user\", \"content\": create_data(train_data[0])}\n",
    "]\n",
    "\n",
    "encodeds = tokenizer.apply_chat_template(messages, return_tensors=\"pt\")\n",
    "\n",
    "model_inputs = encodeds\n",
    "\n",
    "generated_ids = model.generate(model_inputs, max_new_tokens=1000, do_sample=True)\n",
    "decoded = tokenizer.batch_decode(generated_ids)"
   ]
  },
  {
   "cell_type": "code",
   "execution_count": 6,
   "metadata": {},
   "outputs": [
    {
     "name": "stdout",
     "output_type": "stream",
     "text": [
      " Based on the user profile and movie watching history, the user has a diverse taste in movies, with a preference for thought-provoking and emotionally engaging films. They enjoy dramas that explore complex themes and appreciate enchanting storytelling in animated films, particularly those with a deep message or exploration of identity. The user tends to avoid horror movies, violence, and graphic content.\n",
      "\n",
      "The user's recent movie preferences demonstrate a liking for animated films with strong narratives and complex themes, such as \"Snow White and the Seven Dwarfs,\" \"Beauty and the Beast,\" and \"The Hunchback of Notre Dame.\" They also enjoy comedies, as shown by their appreciation for \"Airplane!\" and \"Wallace & Gromit.\"\n",
      "\n",
      "Given the user's history and the user profile, it is likely that they will enjoy \"Mulan\" due to its strong narrative, themes of empowerment, and its visual storytelling in an animated format. Additionally, the user's appreciation for deeper storytelling in animated films, along with their disinterest in violence, should make \"Mulan\" an appealing option.</s>\n"
     ]
    }
   ],
   "source": [
    "print(decoded[0].split(\"[/INST]\")[1])\n"
   ]
  },
  {
   "cell_type": "code",
   "execution_count": 1,
   "metadata": {},
   "outputs": [
    {
     "name": "stdout",
     "output_type": "stream",
     "text": [
      "16.17045783996582 10000000003\n"
     ]
    }
   ],
   "source": [
    "import operator\n",
    "import time\n",
    "import gc\n",
    "gc.collect()\n",
    "\n",
    "start = time.time()\n",
    "def rindex(lst, value):\n",
    "    return len(lst) - operator.indexOf(reversed(lst), value) - 1\n",
    "lst = [3]*10000000000\n",
    "lst.extend([2,5,7,3,8,9])\n",
    "val = 3\n",
    "print(time.time()-start, rindex(lst, val))"
   ]
  },
  {
   "cell_type": "code",
   "execution_count": null,
   "metadata": {},
   "outputs": [],
   "source": [
    "def find_r_index(lst, val):\n",
    "    n = len(lst)\n",
    "    "
   ]
  },
  {
   "cell_type": "code",
   "execution_count": 11,
   "metadata": {},
   "outputs": [
    {
     "name": "stdout",
     "output_type": "stream",
     "text": [
      "8.225440979003906e-05 23.025850929940457\n"
     ]
    }
   ],
   "source": [
    "from math import log\n",
    "\n",
    "start = time.time()\n",
    "x = log(10000000000)\n",
    "print(time.time() - start, x)"
   ]
  },
  {
   "cell_type": "code",
   "execution_count": null,
   "metadata": {},
   "outputs": [],
   "source": [
    "100 - 0.00024\n",
    "1000 - 0.00011\n",
    "100000 - 0.0043\n",
    "1000000 - 0.0033\n",
    "100000000 - 0.181\n",
    "10000000000 - 16.06"
   ]
  },
  {
   "cell_type": "markdown",
   "metadata": {},
   "source": [
    "### Testing Similarity"
   ]
  },
  {
   "cell_type": "code",
   "execution_count": 1,
   "metadata": {},
   "outputs": [],
   "source": [
    "from sklearn.metrics.pairwise import cosine_similarity"
   ]
  },
  {
   "cell_type": "code",
   "execution_count": 9,
   "metadata": {},
   "outputs": [
    {
     "data": {
      "text/plain": [
       "array([[0.01322412]])"
      ]
     },
     "execution_count": 9,
     "metadata": {},
     "output_type": "execute_result"
    }
   ],
   "source": [
    "l1 = [[1,1,1,1,1,1,1,1,1,1,1,1,1,2,3,4,7385,6221]]\n",
    "l2 = [[1,1,1,1,1,1,1,1,1,1,1,1,22,1123,3,10,9,12]]\n",
    "cosine_similarity(l1, l2)"
   ]
  },
  {
   "cell_type": "code",
   "execution_count": null,
   "metadata": {},
   "outputs": [],
   "source": []
  }
 ],
 "metadata": {
  "kernelspec": {
   "display_name": "mixtral",
   "language": "python",
   "name": "python3"
  },
  "language_info": {
   "codemirror_mode": {
    "name": "ipython",
    "version": 3
   },
   "file_extension": ".py",
   "mimetype": "text/x-python",
   "name": "python",
   "nbconvert_exporter": "python",
   "pygments_lexer": "ipython3",
   "version": "3.9.18"
  }
 },
 "nbformat": 4,
 "nbformat_minor": 2
}
