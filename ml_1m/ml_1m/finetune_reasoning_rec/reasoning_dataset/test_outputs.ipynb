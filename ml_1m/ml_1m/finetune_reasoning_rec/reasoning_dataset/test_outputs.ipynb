{
 "cells": [
  {
   "cell_type": "code",
   "execution_count": 1,
   "metadata": {},
   "outputs": [],
   "source": [
    "import pickle\n",
    "import os"
   ]
  },
  {
   "cell_type": "code",
   "execution_count": 2,
   "metadata": {},
   "outputs": [],
   "source": [
    "train_reasoning_path = './reasoning_data/reasoning_test_dict.pkl'\n",
    "with open(train_reasoning_path, 'rb') as f:\n",
    "    train_reasoning_dict = pickle.load(f)"
   ]
  },
  {
   "cell_type": "code",
   "execution_count": 3,
   "metadata": {},
   "outputs": [
    {
     "name": "stdout",
     "output_type": "stream",
     "text": [
      "151.90904255319148\n"
     ]
    }
   ],
   "source": [
    "total_len = 0\n",
    "for user, reasoning in train_reasoning_dict.items():\n",
    "    total_len += len(reasoning.strip().split())\n",
    "print(total_len/len(train_reasoning_dict))"
   ]
  },
  {
   "cell_type": "code",
   "execution_count": 4,
   "metadata": {},
   "outputs": [
    {
     "data": {
      "text/plain": [
       "(1880,\n",
       " dict_keys([1, 10, 100, 1000, 1001, 1002, 1003, 1004, 1005, 1006, 1007, 1008, 1009, 101, 1010, 1011, 1012, 1013, 1014, 1015, 1016, 1017, 1018, 1019, 102, 1020, 1021, 1022, 1023, 1024, 1025, 1026, 1027, 1028, 1029, 103, 1030, 1031, 1032, 1033, 1034, 1035, 1036, 1037, 1038, 1039, 104, 1040, 1041, 1042, 1043, 1044, 1045, 1046, 1047, 1048, 1049, 105, 1050, 1051, 1052, 1053, 1054, 1055, 1056, 1057, 1058, 1059, 106, 1060, 1061, 1062, 1063, 1064, 1065, 1066, 1067, 1068, 1069, 107, 1070, 1071, 1072, 1073, 1074, 1075, 1076, 1077, 1078, 1079, 108, 1080, 1081, 1082, 1083, 1084, 1085, 1086, 1087, 1088, 1089, 109, 1090, 1091, 1092, 1093, 1094, 1095, 1096, 1097, 1098, 1099, 11, 110, 1100, 1101, 1102, 1103, 1104, 1105, 1106, 1107, 1108, 1109, 111, 1110, 1111, 1112, 1113, 1114, 1115, 1116, 1117, 1118, 1119, 112, 1120, 1121, 1122, 1123, 1124, 1125, 1126, 1127, 1128, 1129, 113, 1130, 1131, 1132, 1133, 1134, 1135, 1136, 1137, 1138, 1139, 114, 1140, 1141, 1142, 1143, 1144, 1145, 1146, 1147, 1148, 1149, 115, 1150, 1151, 1152, 1153, 1154, 1155, 1156, 1157, 1158, 1159, 116, 1160, 1161, 1162, 1163, 1164, 1165, 1166, 1167, 1168, 1169, 117, 1170, 1171, 1172, 1173, 1174, 1175, 1176, 1177, 1178, 1179, 118, 1180, 1181, 1182, 1183, 1184, 1185, 1186, 1187, 1188, 1189, 119, 1190, 1191, 1192, 1193, 1194, 1195, 1196, 1197, 1198, 1199, 12, 120, 1200, 1201, 1202, 1203, 1204, 1205, 1206, 1207, 1208, 1209, 121, 1210, 1211, 1212, 1213, 1214, 1215, 1216, 1217, 1218, 1219, 122, 1220, 1221, 1222, 1223, 1224, 1225, 1226, 1227, 1228, 1229, 123, 1230, 1231, 1232, 1233, 1234, 1235, 1236, 1237, 1238, 1239, 124, 1240, 1241, 1242, 1243, 1244, 1245, 1246, 1247, 1248, 1249, 125, 1250, 1251, 1252, 1253, 1254, 1255, 1256, 1257, 1258, 1259, 126, 1260, 1261, 1262, 1263, 1264, 1265, 1266, 1267, 1268, 1269, 127, 1270, 1271, 1272, 1273, 1274, 1275, 1276, 1277, 1278, 1279, 128, 1280, 1281, 1282, 1283, 1284, 1285, 1286, 1287, 1288, 1289, 129, 1290, 1291, 1292, 1293, 1294, 1295, 1296, 1297, 1298, 1299, 13, 130, 1300, 1301, 1302, 1303, 1304, 1305, 1306, 1307, 1308, 1309, 131, 1310, 1311, 1312, 1313, 1314, 1315, 1316, 1317, 1318, 1319, 132, 1320, 1321, 1322, 1323, 1324, 1325, 1326, 1327, 1328, 1329, 133, 1330, 1331, 1332, 1333, 1334, 1335, 1336, 1337, 1338, 1339, 134, 1340, 1341, 1342, 1343, 1344, 1345, 1346, 1347, 1348, 1349, 135, 1350, 1351, 1352, 1353, 1354, 1355, 1356, 1357, 1358, 1359, 136, 1360, 1361, 1362, 1363, 1364, 1365, 1366, 1367, 1368, 1369, 137, 1370, 1371, 1372, 1373, 1374, 1375, 1376, 1377, 1378, 1379, 138, 1380, 1381, 1382, 1383, 1384, 1385, 1386, 1387, 1388, 1389, 139, 1390, 1391, 1392, 1393, 1394, 1395, 1396, 1397, 1398, 1399, 14, 140, 1400, 1401, 1402, 1403, 1404, 1405, 1406, 1407, 1408, 1409, 141, 1410, 1411, 1412, 1413, 1414, 1415, 1416, 1417, 1418, 1419, 142, 1420, 1421, 1422, 1423, 1424, 1425, 1426, 1427, 1428, 1429, 143, 1430, 1431, 1432, 1433, 1434, 1435, 1436, 1437, 1438, 1439, 144, 1440, 1441, 1442, 1443, 1444, 1445, 1446, 1447, 1448, 1449, 145, 1450, 1451, 1452, 1453, 1454, 1455, 1456, 1457, 1458, 1459, 146, 1460, 1461, 1462, 1463, 1464, 1465, 1466, 1467, 1468, 1469, 147, 1470, 1471, 1472, 1473, 1474, 1475, 1476, 1477, 1478, 1479, 148, 1480, 1481, 1482, 1483, 1484, 1485, 1486, 1487, 1488, 1489, 149, 1490, 1491, 1492, 1493, 1494, 1495, 1496, 1497, 1498, 1499, 15, 150, 1500, 1501, 1502, 1503, 1504, 1505, 1506, 1507, 1508, 1509, 151, 1510, 1511, 1512, 1513, 1514, 1515, 1516, 1517, 1518, 1519, 152, 1520, 1521, 1522, 1523, 1524, 1525, 1526, 1527, 1528, 1529, 153, 1530, 1531, 1532, 1533, 1534, 1535, 1536, 1537, 1538, 1539, 154, 1540, 1541, 1542, 1543, 1544, 1545, 1546, 1547, 1548, 1549, 155, 1550, 1551, 1552, 1553, 1554, 1555, 1556, 1557, 1558, 1559, 156, 1560, 1561, 1562, 1563, 1564, 1565, 1566, 1567, 1568, 1569, 157, 1570, 1571, 1572, 1573, 1574, 1575, 1576, 1577, 1578, 1579, 158, 1580, 1581, 1582, 1583, 1584, 1585, 1586, 1587, 1588, 1589, 159, 1590, 1591, 1592, 1593, 1594, 1595, 1596, 1597, 1598, 1599, 16, 160, 1600, 1601, 1602, 1603, 1604, 1605, 1606, 1607, 1608, 1609, 161, 1610, 1611, 1612, 1613, 1614, 1615, 1616, 1617, 1618, 1619, 162, 1620, 1621, 1622, 1623, 1624, 1625, 1626, 1627, 1628, 1629, 163, 1630, 1631, 1632, 1633, 1634, 1635, 1636, 1637, 1638, 1639, 164, 1640, 1641, 1642, 1643, 1644, 1645, 1646, 1647, 1648, 1649, 165, 1650, 1651, 1652, 1653, 1654, 1655, 1656, 1657, 1658, 1659, 166, 1660, 1661, 1662, 1663, 1664, 1665, 1666, 1667, 1668, 1669, 167, 1670, 1671, 1672, 1673, 1674, 1675, 1676, 1677, 1678, 1679, 168, 1680, 1681, 1682, 1683, 1684, 1685, 1686, 1687, 1688, 1689, 169, 1690, 1691, 1692, 1693, 1694, 1695, 1696, 1697, 1698, 1699, 17, 170, 1700, 1701, 1702, 1703, 1704, 1705, 1706, 1707, 1708, 1709, 171, 1710, 1711, 1712, 1713, 1714, 1715, 1716, 1717, 1718, 1719, 172, 1720, 1721, 1722, 1723, 1724, 1725, 1726, 1727, 1728, 1729, 173, 1730, 1731, 1732, 1733, 1734, 1735, 1736, 1737, 1738, 1739, 174, 1740, 1741, 1742, 1743, 1744, 1745, 1746, 1747, 1748, 1749, 175, 1750, 1751, 1752, 1753, 1754, 1755, 1756, 1757, 1758, 1759, 176, 1760, 1761, 1762, 1763, 1764, 1765, 1766, 1767, 1768, 1769, 177, 1770, 1771, 1772, 1773, 1774, 1775, 1776, 1777, 1778, 1779, 178, 1780, 1781, 1782, 1783, 1784, 1785, 1786, 1787, 1788, 1789, 179, 1790, 1791, 1792, 1793, 1794, 1795, 1796, 1797, 1798, 1799, 18, 180, 1800, 1801, 1802, 1803, 1804, 1805, 1806, 1807, 1808, 1809, 181, 1810, 1811, 1812, 1813, 1814, 1815, 1816, 1817, 1818, 1819, 182, 1820, 1821, 1822, 1823, 1824, 1825, 1826, 1827, 1828, 1829, 183, 1830, 1831, 1832, 1833, 1834, 1835, 1836, 1837, 1838, 1839, 184, 1840, 1841, 1842, 1843, 1844, 1845, 1846, 1847, 1848, 1849, 185, 1850, 1851, 1852, 1853, 1854, 1855, 1856, 1857, 1858, 1859, 186, 1860, 1861, 1862, 1863, 1864, 1865, 1866, 1867, 1868, 1869, 187, 1870, 1871, 1872, 1873, 1874, 1875, 1876, 1877, 1878, 1879, 188, 1880, 1881, 1882, 1883, 1884, 1885, 1886, 1887, 1888, 1889, 189, 1890, 1891, 1892, 1893, 1894, 1895, 1896, 1897, 1898, 1899, 19, 190, 1900, 1901, 1902, 1903, 1904, 1905, 1906, 1907, 1908, 1909, 191, 1910, 1911, 1912, 1913, 1914, 1915, 1916, 1917, 1918, 1919, 192, 1920, 1921, 1922, 1923, 1924, 1925, 1926, 1927, 1928, 1929, 193, 1930, 1931, 1932, 1933, 1934, 1935, 1936, 1937, 1938, 1939, 194, 1940, 1941, 1942, 1943, 1944, 1945, 1946, 1947, 1948, 1949, 195, 1950, 1951, 1952, 1953, 1954, 1955, 1956, 1957, 1958, 1959, 196, 1960, 1961, 1962, 1963, 1964, 1965, 1966, 1967, 1968, 1969, 197, 1970, 1971, 1972, 1973, 1974, 1975, 1976, 1977, 1978, 1979, 198, 1980, 1981, 1982, 1983, 1984, 1985, 1986, 1987, 1988, 1989, 199, 1990, 1991, 1992, 1993, 1994, 1995, 1996, 1997, 1998, 1999, 2, 20, 200, 2000, 2001, 2002, 2003, 2004, 2005, 2006, 2007, 2008, 2009, 201, 2010, 2011, 2012, 2013, 2014, 2015, 2016, 2017, 2018, 2019, 202, 2020, 2021, 2022, 2023, 2024, 2025, 2026, 2027, 2028, 2029, 203, 2030, 2031, 2032, 2033, 2034, 2035, 2036, 2037, 2038, 2039, 204, 2040, 2041, 2042, 2043, 2044, 2045, 2046, 2047, 2048, 2049, 205, 2050, 2051, 2052, 2053, 2054, 2055, 2056, 2057, 2058, 2059, 206, 2060, 2061, 2062, 2063, 2064, 2065, 2066, 2067, 2068, 2069, 207, 2070, 2071, 2072, 2073, 2074, 2075, 2076, 2077, 2078, 2079, 208, 2080, 2081, 2082, 2083, 2084, 2085, 2086, 2087, 2088, 2089, 209, 2090, 2091, 2092, 2093, 2094, 2095, 2096, 2097, 2098, 2099, 21, 210, 2100, 2101, 2102, 2103, 2104, 2105, 2106, 2107, 2108, 2109, 211, 2110, 2111, 2112, 2113, 2114, 2115, 2116, 2117, 2118, 2119, 212, 2120, 2121, 2122, 2123, 2124, 2125, 2126, 2127, 2128, 2129, 213, 2130, 2131, 2132, 2133, 2134, 2135, 2136, 2137, 2138, 2139, 214, 2140, 2141, 2142, 2143, 2144, 2145, 2146, 2147, 2148, 2149, 215, 2150, 2151, 2152, 2153, 2154, 2155, 2156, 2157, 2158, 2159, 216, 2160, 2161, 2162, 2163, 2164, 2165, 2166, 2167, 2168, 2169, 217, 2170, 2171, 2172, 2173, 2174, 2175, 2176, 2177, 2178, 2179, 218, 2180, 2181, 2182, 2183, 2184, 2185, 2186, 2187, 2188, 2189, 219, 2190, 2191, 2192, 2193, 2194, 2195, 2196, 2197, 2198, 2199, 22, 220, 2200, 2201, 2202, 2203, 2204, 2205, 2206, 2207, 2208, 2209, 221, 2210, 2211, 2212, 2213, 2214, 2215, 2216, 2217, 2218, 2219, 222, 2220, 2221, 2222, 2223, 2224, 2225, 2226, 2227, 2228, 2229, 223, 2230, 2231, 2232, 2233, 2234, 2235, 2236, 2237, 2238, 2239, 224, 2240, 2241, 2242, 2243, 2244, 2245, 2246, 2247, 2248, 2249, 225, 2250, 2251, 2252, 2253, 2254, 2255, 2256, 2257, 2258, 2259, 226, 2260, 2261, 2262, 2263, 2264, 2265, 2266, 2267, 2268, 2269, 227, 2270, 2271, 2272, 2273, 2274, 2275, 2276, 2277, 2278, 2279, 228, 2280, 2281, 2282, 2283, 2284, 2285, 2286, 2287, 2288, 2289, 229, 2290, 2291, 2292, 2293, 2294, 2295, 2296, 2297, 2298, 2299, 23, 230, 2300, 2301, 2302, 2303, 2304, 2305, 2306, 2307, 2308, 2309, 231, 2310, 2311, 2312, 2313, 2314, 2315, 2316, 2317, 2318, 2319, 232, 2320, 2321, 2322, 2323, 2324, 2325, 2326, 2327, 2328, 2329, 233, 2330, 2331, 2332, 2333, 2334, 2335, 2336, 2337, 2338, 2339, 234, 2340, 2341, 2342, 2343, 2344, 2345, 2346, 2347, 2348, 2349, 235, 2350, 2351, 2352, 2353, 2354, 2355, 2356, 2357, 2358, 2359, 236, 2360, 2361, 2362, 2363, 2364, 2365, 2366, 2367, 2368, 2369, 237, 2370, 2371, 2372, 2373, 2374, 2375, 2376, 2377, 2378, 2379, 238, 2380, 2381, 2382, 2383, 2384, 2385, 2386, 2387, 2388, 2389, 239, 2390, 2391, 2392, 2393, 2394, 2395, 2396, 2397, 2398, 2399, 24, 240, 2400, 2401, 2402, 2403, 2404, 2405, 2406, 2407, 2408, 2409, 241, 2410, 2411, 2412, 2413, 2414, 2415, 2416, 2417, 2418, 2419, 242, 2420, 2421, 2422, 2423, 2424, 2425, 2426, 2427, 2428, 2429, 243, 2430, 2431, 2432, 2433, 2434, 2435, 2436, 2437, 2438, 2439, 244, 2440, 2441, 2442, 2443, 2444, 2445, 2446, 2447, 2448, 2449, 245, 2450, 2451, 2452, 2453, 2454, 2455, 2456, 2457, 2458, 2459, 246, 2460, 2461, 2462, 2463, 2464, 2465, 2466, 2467, 2468, 2469, 247, 2470, 2471, 2472, 2473, 2474, 2475, 2476, 2477, 2478, 2479, 248, 2480, 2481, 2482, 2483, 2484, 2485, 2486, 2487, 2488, 2489, 249, 2490, 2491, 2492, 2493, 2494, 2495, 2496, 2497, 2498, 2499, 25, 250, 2500, 2501, 2502, 2503, 2504, 2505, 2506, 2507, 2508, 2509, 251, 2510, 2511, 2512, 2513, 2514, 2515, 2516, 2517, 2518, 2519, 252, 2520, 2521, 2522, 2523, 2524, 2525, 2526, 2527, 2528, 2529, 253, 2530, 2531, 2532, 2533, 2534, 2535, 2536, 2537, 2538, 2539, 254, 2540, 2541, 2542, 2543, 2544, 2545, 2546, 2547, 2548, 2549, 255, 2550, 2551, 2552, 2553, 2554, 2555, 2556, 2557, 2558, 2559, 256, 2560, 2561, 2562, 2563, 2564, 2565, 2566, 2567, 2568, 2569, 257, 2570, 2571, 2572, 2573, 2574, 2575, 2576, 2577, 2578, 2579, 258, 2580, 2581, 2582, 2583, 2584, 2585, 2586, 2587, 2588, 2589, 259, 2590, 2591, 2592, 2593, 2594, 2595, 2596, 2597, 2598, 2599, 26, 260, 2600, 2601, 2602, 2603, 2604, 2605, 2606, 2607, 2608, 2609, 261, 2610, 2611, 2612, 2613, 2614, 2615, 2616, 2617, 2618, 2619, 262, 2620, 2621, 2622, 2623, 2624, 2625, 2626, 2627, 2628, 2629, 263, 2630, 2631, 2632, 2633, 2634, 2635, 2636, 2637, 2638, 2639, 264, 2640, 2641, 2642, 2643, 2644, 2645, 2646, 2647, 2648, 2649, 265, 2650, 2651, 2652, 2653, 2654, 2655, 2656, 2657, 2658, 2659, 266, 2660, 2661, 2662, 2663, 2664, 2665, 2666, 2667, 2668, 2669, 267, 2670, 2671, 2672, 2673, 2674, 2675, 2676, 2677, 2678, 2679, 268, 2680, 2681, 2682, 2683, 2684, 2685, 2686, 2687, 2688, 2689, 269, 2690]))"
      ]
     },
     "execution_count": 4,
     "metadata": {},
     "output_type": "execute_result"
    }
   ],
   "source": [
    "len(train_reasoning_dict.keys()), train_reasoning_dict.keys()"
   ]
  },
  {
   "cell_type": "code",
   "execution_count": 5,
   "metadata": {},
   "outputs": [
    {
     "data": {
      "text/plain": [
       "\"\\nSummary of user behavior and movie characteristics:\\nThe user enjoys a diverse range of movies, with a preference for thought-provoking and emotionally engaging films. They appreciate enchanting storytelling, timeless charm, and humor in children's movies, as seen in their fondness for classic Disney films and comedies like Wallace & Gromit. The user also enjoys adventure films, such as Star Wars and Back to the Future. However, they tend to avoid horror movies and prefer stories that are intellectually stimulating and emotionally resonant.\\n\\nReasoning for liking Pocahontas:\\nBased on the user's movie watching history, Pocahontas is a movie that aligns with their preferences. It is a visually stunning Disney animated film that tells a fictionalized tale of love and understanding between a Native American princess and an English explorer. The movie explores themes of cultural differences, empathy, and the power of love, which are all intellectually stimulating and emotionally resonant. Additionally, the movie features catchy songs and memorable characters, which the user has shown appreciation for in other animated films. Therefore, the user is likely to enjoy Pocahontas.\\nPrediction: Yes\""
      ]
     },
     "execution_count": 5,
     "metadata": {},
     "output_type": "execute_result"
    }
   ],
   "source": [
    "train_reasoning_dict[1]"
   ]
  },
  {
   "cell_type": "markdown",
   "metadata": {},
   "source": []
  },
  {
   "cell_type": "code",
   "execution_count": 8,
   "metadata": {},
   "outputs": [],
   "source": [
    "train_reasoning_prompt_path = './reasoning_prompt_data/reasoning_prompt_train_new.pkl'\n",
    "with open(train_reasoning_prompt_path, 'rb') as f:\n",
    "    train_reasoning_prompt_dict = pickle.load(f)"
   ]
  },
  {
   "cell_type": "code",
   "execution_count": 9,
   "metadata": {},
   "outputs": [
    {
     "data": {
      "text/plain": [
       "['You are an expert movie critic. You are provided with the user profile and list of recent movies that the user has watched and whether the user likes it or not.\\n    User Profile -\\n            The user has a diverse taste in movies, with a preference for thought-provoking and emotionally engaging films. They enjoy dramas that explore complex themes such as mental illness, racial injustice, and the meaning of life. The user is drawn to movies that challenge their perspective and provoke deep thought, often favoring those that tackle serious and mature subjects.\\n            \\n            In addition to dramas, the user also has a soft spot for classic Disney films, as evidenced by their fondness for Cinderella. They appreciate the enchanting storytelling and timeless charm of these animated tales.\\n            \\n            The user\\'s taste in movies also extends to comedies, as seen in their appreciation for the hilarious antics of Wallace & Gromit and the dark humor of Fargo. They are also drawn to adventure films, as demonstrated by their love for Star Wars: Episode IV - A New Hope and Back to the Future.\\n            \\n            However, the user is not a fan of horror movies, as none are listed among their favorites. They also tend to avoid movies that are overly violent or graphic, preferring instead to focus on stories that are emotionally resonant and intellectually stimulating.\\n            \\n            Overall, the user\\'s movie preferences reflect a deep appreciation for storytelling, character development, and thematic depth.\\n   User watched the following movies recently in the given order. List of recent movies and their description -\\n    \\nLiked James and the Giant Peach (Genre: Animation,Children\\'s,Musical) \"James and the Giant Peach (1996) is a whimsical and visually stunning adaptation of Roald Dahl\\'s beloved children\\'s book, filled with adventure, friendship, and magic.\",\\nLiked Ferris Bueller\\'s Day Off (Genre: Comedy) \"Ferris Bueller\\'s Day Off\" is a classic 1980s comedy about a high school student who fakes being sick to have an epic day of adventure and mischief in Chicago.,\\nLiked Secret Garden, The (Genre: Children\\'s,Drama) \"Secret Garden (1993) is a heartwarming adaptation of the classic children\\'s novel, filled with enchanting visuals and a touching story of friendship and healing.\",\\nLiked Toy Story 2 (Genre: Animation,Children\\'s,Comedy) Toy Story 2 (1999) is a heartwarming and hilarious animated adventure that explores the value of friendship and the importance of embracing one\\'s identity.,\\nLiked Airplane! (Genre: Comedy) \"Airplane! is a hilarious spoof comedy that takes flight with its clever wordplay, slapstick humor, and memorable one-liners.\",\\nLiked Dumbo (Genre: Animation,Children\\'s,Musical) \"Dumbo, a heartwarming Disney classic, tells the story of a lovable elephant with big ears who discovers his unique talent and finds his place in the world.\",\\nLiked Pleasantville (Genre: Comedy) \"Pleasantville is a thought-provoking and visually stunning film that explores the power of change and individuality in a black-and-white 1950s sitcom world.\",\\nLiked Princess Bride, The (Genre: Action,Adventure,Comedy,Romance) \"The Princess Bride is a timeless romantic adventure filled with humor, sword fights, and true love that captivates audiences of all ages.\",\\nLiked Snow White and the Seven Dwarfs (Genre: Animation,Children\\'s,Musical) Snow White and the Seven Dwarfs is a timeless classic that brings enchantment to life with its charming characters, beautiful animation, and unforgettable songs.,\\nLiked Miracle on 34th Street (Genre: Drama) \"Miracle on 34th Street (1947) is a heartwarming Christmas classic about a department store Santa who claims to be the real deal, spreading holiday cheer and restoring faith in Santa Claus.\",\\nLiked Ponette (Genre: Drama) \"Ponette is a heartbreaking French drama that follows a young girl\\'s journey to cope with the loss of her mother.\",\\nLiked Schindler\\'s List (Genre: Drama,War) Schindler\\'s List (1993) is a powerful and haunting portrayal of Oskar Schindler\\'s efforts to save Jews during the Holocaust.,\\nLiked Toy Story (Genre: Animation,Children\\'s,Comedy) Toy Story is a groundbreaking animated film that brings toys to life, delivering heartwarming humor and adventure as Woody and Buzz navigate the world of childhood imagination.,\\nLiked Aladdin (Genre: Animation,Children\\'s,Comedy,Musical) \"Aladdin is a magical and enchanting animated film that takes viewers on a thrilling adventure filled with humor, romance, and unforgettable songs.\",\\nLiked Tarzan (Genre: Animation,Children\\'s) Tarzan (1999) is a visually stunning and heartfelt Disney animated film that brings the classic tale to life with memorable characters and an enchanting soundtrack.,\\nLiked Close Shave, A (Genre: Animation,Comedy,Thriller) \"A Close Shave (1995) is a delightful stop-motion animated film that combines humor, suspense, and heart as Wallace and Gromit unravel a sheep-stealing mystery.\",\\nLiked Beauty and the Beast (Genre: Animation,Children\\'s,Musical) \"Beauty and the Beast (1991) is a timeless Disney classic that enchants with its captivating story, stunning animation, and unforgettable music.\",\\nLiked Antz (Genre: Animation,Children\\'s) Antz (1998) is a witty and entertaining animated film that explores themes of individuality, friendship, and the power of standing up for what you believe in.,\\nLiked Hunchback of Notre Dame, The (Genre: Animation,Children\\'s,Musical) The Hunchback of Notre Dame (1996) is a visually stunning and emotionally powerful Disney animated film that explores themes of love, acceptance, and the power of inner beauty.,\\nLiked Bug\\'s Life, A (Genre: Animation,Children\\'s,Comedy) A misfit ant named Flik recruits a group of circus bugs to save his colony from greedy grasshoppers in this animated adventure.,Now, We know that the user will like the next movie Mulan (Genre: Animation,Children\\'s) Mulan is a captivating animated film that tells the empowering story of a young Chinese woman who disguises herself as a man to fight in the army. As an expert movie critic, do the following steps -\\n        First, Analyze the user profile and movie watching history given in order and summarize the user\\'s behavior from the given list of movies and identify the movie characteristics that he likes and dislikes in atmost 100 words.\\n        Finally, Explain with reasoning why the user will like Mulan  in atmost 100 words.\\n        Do not use any information not mentioned above.',\n",
       " '\\nPrediction: Yes']"
      ]
     },
     "execution_count": 9,
     "metadata": {},
     "output_type": "execute_result"
    }
   ],
   "source": [
    "train_reasoning_prompt_dict[1]"
   ]
  },
  {
   "cell_type": "code",
   "execution_count": 11,
   "metadata": {},
   "outputs": [
    {
     "data": {
      "text/plain": [
       "6040"
      ]
     },
     "execution_count": 11,
     "metadata": {},
     "output_type": "execute_result"
    }
   ],
   "source": [
    "len(train_reasoning_prompt_dict)"
   ]
  },
  {
   "cell_type": "code",
   "execution_count": null,
   "metadata": {},
   "outputs": [],
   "source": []
  }
 ],
 "metadata": {
  "kernelspec": {
   "display_name": "mixtral",
   "language": "python",
   "name": "python3"
  },
  "language_info": {
   "codemirror_mode": {
    "name": "ipython",
    "version": 3
   },
   "file_extension": ".py",
   "mimetype": "text/x-python",
   "name": "python",
   "nbconvert_exporter": "python",
   "pygments_lexer": "ipython3",
   "version": "3.9.18"
  }
 },
 "nbformat": 4,
 "nbformat_minor": 2
}
