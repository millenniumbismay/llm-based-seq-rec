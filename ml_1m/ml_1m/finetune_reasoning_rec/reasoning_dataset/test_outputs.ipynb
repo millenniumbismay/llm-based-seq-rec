{
 "cells": [
  {
   "cell_type": "code",
   "execution_count": 2,
   "metadata": {},
   "outputs": [],
   "source": [
    "import pickle\n",
    "import os"
   ]
  },
  {
   "cell_type": "code",
   "execution_count": 3,
   "metadata": {},
   "outputs": [],
   "source": [
    "train_reasoning_path = './reasoning_data/reasoning_train_dict.pkl'\n",
    "with open(train_reasoning_path, 'rb') as f:\n",
    "    train_reasoning_dict = pickle.load(f)"
   ]
  },
  {
   "cell_type": "code",
   "execution_count": 4,
   "metadata": {},
   "outputs": [
    {
     "name": "stdout",
     "output_type": "stream",
     "text": [
      "170.125\n"
     ]
    }
   ],
   "source": [
    "total_len = 0\n",
    "for user, reasoning in train_reasoning_dict.items():\n",
    "    total_len += len(reasoning.strip().split())\n",
    "print(total_len/len(train_reasoning_dict))"
   ]
  },
  {
   "cell_type": "code",
   "execution_count": 5,
   "metadata": {},
   "outputs": [
    {
     "data": {
      "text/plain": [
       "dict_keys([1, 10, 100, 1000, 1001, 1002, 1003, 1004, 1005, 1006, 1007, 1008, 1009, 101, 1010, 1011])"
      ]
     },
     "execution_count": 5,
     "metadata": {},
     "output_type": "execute_result"
    }
   ],
   "source": [
    "train_reasoning_dict.keys()"
   ]
  },
  {
   "cell_type": "code",
   "execution_count": 7,
   "metadata": {},
   "outputs": [
    {
     "data": {
      "text/plain": [
       "\"\\n    Based on the user's movie preferences, it is clear that they enjoy movies that are well-crafted, engaging, and thought-provoking, with a wide range of genres spanning from science fiction and fantasy to drama, comedy, and action. They appreciate movies that are epic in scope, with complex characters, intricate plots, and high stakes. The user's favorite movies often feature themes of redemption, unity, and the triumph of the human spirit, and they are drawn to stories that explore the depths of human emotion and the complexities of the human condition.\\n\\n    The user's recent movie watching history shows a clear preference for movies with fantastical elements, including science fiction, animation, and magical realism. They have enjoyed movies such as Akira, Excalibur, Time Bandits, Willy Wonka and the Chocolate Factory, Big, E.T. the Extra-Terrestrial, The 7th Voyage of Sinbad, Beetlejuice, Star Wars: Episode IV - A New Hope, Splash, 20,000 Leagues Under the Sea, Willow, Dark Crystal, Indian in the Cup\""
      ]
     },
     "execution_count": 7,
     "metadata": {},
     "output_type": "execute_result"
    }
   ],
   "source": [
    "train_reasoning_dict[1011]"
   ]
  },
  {
   "cell_type": "code",
   "execution_count": null,
   "metadata": {},
   "outputs": [],
   "source": []
  }
 ],
 "metadata": {
  "kernelspec": {
   "display_name": "mixtral",
   "language": "python",
   "name": "python3"
  },
  "language_info": {
   "codemirror_mode": {
    "name": "ipython",
    "version": 3
   },
   "file_extension": ".py",
   "mimetype": "text/x-python",
   "name": "python",
   "nbconvert_exporter": "python",
   "pygments_lexer": "ipython3",
   "version": "3.9.18"
  }
 },
 "nbformat": 4,
 "nbformat_minor": 2
}
