{
 "cells": [
  {
   "cell_type": "code",
   "execution_count": 1,
   "metadata": {},
   "outputs": [],
   "source": [
    "import pickle\n",
    "import os"
   ]
  },
  {
   "cell_type": "code",
   "execution_count": 2,
   "metadata": {},
   "outputs": [],
   "source": [
    "train_reasoning_path = './reasoning_data/reasoning_train_dict.pkl'\n",
    "with open(train_reasoning_path, 'rb') as f:\n",
    "    train_reasoning_dict = pickle.load(f)"
   ]
  },
  {
   "cell_type": "code",
   "execution_count": 8,
   "metadata": {},
   "outputs": [
    {
     "name": "stdout",
     "output_type": "stream",
     "text": [
      "313.875\n"
     ]
    }
   ],
   "source": [
    "total_len = 0\n",
    "for user, reasoning in train_reasoning_dict.items():\n",
    "    total_len += len(reasoning.strip().split())\n",
    "print(total_len/len(train_reasoning_dict))"
   ]
  },
  {
   "cell_type": "code",
   "execution_count": 9,
   "metadata": {},
   "outputs": [
    {
     "data": {
      "text/plain": [
       "\"The user is a female k-12 student under 18 years of age with a diverse taste in movies, but with a preference for thought-provoking and emotionally engaging films. They enjoy dramas that explore complex themes such as mental illness, racial injustice, and the meaning of life. The user also has a soft spot for classic Disney films, as evidenced by their fondness for Cinderella. They appreciate the enchanting storytelling and timeless charm of these animated tales.\\n\\n    Based on the user's movie watching history, they have shown a clear preference for animated films, with 15 out of 20 movies being animated. They have also shown a preference for Disney films, with 8 out of 20 movies being Disney films. The user has also shown a preference for films with strong storytelling and character development, as seen in their appreciation for films like Ferris Bueller's Day Off, Pleasantville, and Schindler's List.\\n\\n    Given the user's movie watching history and preferences, it is highly likely that they will enjoy Mulan. The film is an animated Disney film that tells the empowering story of a young Chinese woman who disguises herself as a man to fight in the army. This film checks all the boxes for the user's preferences, as it is an animated film, a Disney film, and has a strong storyline with a female lead character. Additionally, the film explores themes of identity, courage, and family, which are all themes that the user has shown an interest in.\\n\\n    Overall, based on the user's movie watching history and preferences, Mulan is a film that is highly likely to resonate with the user. The film's strong storytelling, character development, and themes of identity and courage are all characteristics that the user has shown a preference for in the past. Therefore, it is highly recommended that the user watch Mulan.\""
      ]
     },
     "execution_count": 9,
     "metadata": {},
     "output_type": "execute_result"
    }
   ],
   "source": [
    "train_reasoning_dict[1]"
   ]
  },
  {
   "cell_type": "code",
   "execution_count": null,
   "metadata": {},
   "outputs": [],
   "source": []
  }
 ],
 "metadata": {
  "kernelspec": {
   "display_name": "mixtral",
   "language": "python",
   "name": "python3"
  },
  "language_info": {
   "codemirror_mode": {
    "name": "ipython",
    "version": 3
   },
   "file_extension": ".py",
   "mimetype": "text/x-python",
   "name": "python",
   "nbconvert_exporter": "python",
   "pygments_lexer": "ipython3",
   "version": "3.9.18"
  }
 },
 "nbformat": 4,
 "nbformat_minor": 2
}
