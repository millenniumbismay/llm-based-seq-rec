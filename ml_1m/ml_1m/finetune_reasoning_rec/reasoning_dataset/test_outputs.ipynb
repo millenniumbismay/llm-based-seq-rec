{
 "cells": [
  {
   "cell_type": "code",
   "execution_count": 1,
   "metadata": {},
   "outputs": [],
   "source": [
    "import pickle\n",
    "import os"
   ]
  },
  {
   "cell_type": "code",
   "execution_count": 2,
   "metadata": {},
   "outputs": [],
   "source": [
    "train_reasoning_path = './reasoning_data/reasoning_train_dict.pkl'\n",
    "with open(train_reasoning_path, 'rb') as f:\n",
    "    train_reasoning_dict = pickle.load(f)"
   ]
  },
  {
   "cell_type": "code",
   "execution_count": 3,
   "metadata": {},
   "outputs": [
    {
     "name": "stdout",
     "output_type": "stream",
     "text": [
      "167.0\n"
     ]
    }
   ],
   "source": [
    "total_len = 0\n",
    "for user, reasoning in train_reasoning_dict.items():\n",
    "    total_len += len(reasoning.strip().split())\n",
    "print(total_len/len(train_reasoning_dict))"
   ]
  },
  {
   "cell_type": "code",
   "execution_count": 4,
   "metadata": {},
   "outputs": [
    {
     "data": {
      "text/plain": [
       "dict_keys([1, 10, 100, 1000, 1001, 1002, 1003, 1004])"
      ]
     },
     "execution_count": 4,
     "metadata": {},
     "output_type": "execute_result"
    }
   ],
   "source": [
    "train_reasoning_dict.keys()"
   ]
  },
  {
   "cell_type": "code",
   "execution_count": 5,
   "metadata": {},
   "outputs": [
    {
     "data": {
      "text/plain": [
       "\"\\nSummary of user behavior and movie preferences:\\n\\nThe user has a strong preference for complex, thought-provoking films with character-driven dramas and intricate human relationships. They enjoy movies that challenge societal norms and explore personal growth, as well as classic films and those that showcase the power of music and youth. The user dislikes lighthearted comedies and action films that prioritize humor or spectacle over character development and storytelling.\\n\\nExplanation for why the user will like Wonder Boys:\\n\\nWonder Boys features a struggling writer navigating personal and professional crises, which aligns with the user's preference for complex, character-driven dramas. The film's introspective nature and stellar performances from its ensemble cast will likely appeal to the user's appreciation for thought-provoking themes and compelling storytelling. Additionally, the film's focus on personal growth and relationships may resonate with the user's interest in exploring societal norms and human intricacies.\""
      ]
     },
     "execution_count": 5,
     "metadata": {},
     "output_type": "execute_result"
    }
   ],
   "source": [
    "train_reasoning_dict[1001]"
   ]
  },
  {
   "cell_type": "code",
   "execution_count": 8,
   "metadata": {},
   "outputs": [],
   "source": [
    "train_reasoning_prompt_path = './reasoning_prompt_data/reasoning_prompt_train_new.pkl'\n",
    "with open(train_reasoning_prompt_path, 'rb') as f:\n",
    "    train_reasoning_prompt_dict = pickle.load(f)"
   ]
  },
  {
   "cell_type": "code",
   "execution_count": 9,
   "metadata": {},
   "outputs": [
    {
     "data": {
      "text/plain": [
       "['You are an expert movie critic. You are provided with the user profile and list of recent movies that the user has watched and whether the user likes it or not.\\n    User Profile -\\n            The user has a diverse taste in movies, with a preference for thought-provoking and emotionally engaging films. They enjoy dramas that explore complex themes such as mental illness, racial injustice, and the meaning of life. The user is drawn to movies that challenge their perspective and provoke deep thought, often favoring those that tackle serious and mature subjects.\\n            \\n            In addition to dramas, the user also has a soft spot for classic Disney films, as evidenced by their fondness for Cinderella. They appreciate the enchanting storytelling and timeless charm of these animated tales.\\n            \\n            The user\\'s taste in movies also extends to comedies, as seen in their appreciation for the hilarious antics of Wallace & Gromit and the dark humor of Fargo. They are also drawn to adventure films, as demonstrated by their love for Star Wars: Episode IV - A New Hope and Back to the Future.\\n            \\n            However, the user is not a fan of horror movies, as none are listed among their favorites. They also tend to avoid movies that are overly violent or graphic, preferring instead to focus on stories that are emotionally resonant and intellectually stimulating.\\n            \\n            Overall, the user\\'s movie preferences reflect a deep appreciation for storytelling, character development, and thematic depth.\\n   User watched the following movies recently in the given order. List of recent movies and their description -\\n    \\nLiked James and the Giant Peach (Genre: Animation,Children\\'s,Musical) \"James and the Giant Peach (1996) is a whimsical and visually stunning adaptation of Roald Dahl\\'s beloved children\\'s book, filled with adventure, friendship, and magic.\",\\nLiked Ferris Bueller\\'s Day Off (Genre: Comedy) \"Ferris Bueller\\'s Day Off\" is a classic 1980s comedy about a high school student who fakes being sick to have an epic day of adventure and mischief in Chicago.,\\nLiked Secret Garden, The (Genre: Children\\'s,Drama) \"Secret Garden (1993) is a heartwarming adaptation of the classic children\\'s novel, filled with enchanting visuals and a touching story of friendship and healing.\",\\nLiked Toy Story 2 (Genre: Animation,Children\\'s,Comedy) Toy Story 2 (1999) is a heartwarming and hilarious animated adventure that explores the value of friendship and the importance of embracing one\\'s identity.,\\nLiked Airplane! (Genre: Comedy) \"Airplane! is a hilarious spoof comedy that takes flight with its clever wordplay, slapstick humor, and memorable one-liners.\",\\nLiked Dumbo (Genre: Animation,Children\\'s,Musical) \"Dumbo, a heartwarming Disney classic, tells the story of a lovable elephant with big ears who discovers his unique talent and finds his place in the world.\",\\nLiked Pleasantville (Genre: Comedy) \"Pleasantville is a thought-provoking and visually stunning film that explores the power of change and individuality in a black-and-white 1950s sitcom world.\",\\nLiked Princess Bride, The (Genre: Action,Adventure,Comedy,Romance) \"The Princess Bride is a timeless romantic adventure filled with humor, sword fights, and true love that captivates audiences of all ages.\",\\nLiked Snow White and the Seven Dwarfs (Genre: Animation,Children\\'s,Musical) Snow White and the Seven Dwarfs is a timeless classic that brings enchantment to life with its charming characters, beautiful animation, and unforgettable songs.,\\nLiked Miracle on 34th Street (Genre: Drama) \"Miracle on 34th Street (1947) is a heartwarming Christmas classic about a department store Santa who claims to be the real deal, spreading holiday cheer and restoring faith in Santa Claus.\",\\nLiked Ponette (Genre: Drama) \"Ponette is a heartbreaking French drama that follows a young girl\\'s journey to cope with the loss of her mother.\",\\nLiked Schindler\\'s List (Genre: Drama,War) Schindler\\'s List (1993) is a powerful and haunting portrayal of Oskar Schindler\\'s efforts to save Jews during the Holocaust.,\\nLiked Toy Story (Genre: Animation,Children\\'s,Comedy) Toy Story is a groundbreaking animated film that brings toys to life, delivering heartwarming humor and adventure as Woody and Buzz navigate the world of childhood imagination.,\\nLiked Aladdin (Genre: Animation,Children\\'s,Comedy,Musical) \"Aladdin is a magical and enchanting animated film that takes viewers on a thrilling adventure filled with humor, romance, and unforgettable songs.\",\\nLiked Tarzan (Genre: Animation,Children\\'s) Tarzan (1999) is a visually stunning and heartfelt Disney animated film that brings the classic tale to life with memorable characters and an enchanting soundtrack.,\\nLiked Close Shave, A (Genre: Animation,Comedy,Thriller) \"A Close Shave (1995) is a delightful stop-motion animated film that combines humor, suspense, and heart as Wallace and Gromit unravel a sheep-stealing mystery.\",\\nLiked Beauty and the Beast (Genre: Animation,Children\\'s,Musical) \"Beauty and the Beast (1991) is a timeless Disney classic that enchants with its captivating story, stunning animation, and unforgettable music.\",\\nLiked Antz (Genre: Animation,Children\\'s) Antz (1998) is a witty and entertaining animated film that explores themes of individuality, friendship, and the power of standing up for what you believe in.,\\nLiked Hunchback of Notre Dame, The (Genre: Animation,Children\\'s,Musical) The Hunchback of Notre Dame (1996) is a visually stunning and emotionally powerful Disney animated film that explores themes of love, acceptance, and the power of inner beauty.,\\nLiked Bug\\'s Life, A (Genre: Animation,Children\\'s,Comedy) A misfit ant named Flik recruits a group of circus bugs to save his colony from greedy grasshoppers in this animated adventure.,Now, We know that the user will like the next movie Mulan (Genre: Animation,Children\\'s) Mulan is a captivating animated film that tells the empowering story of a young Chinese woman who disguises herself as a man to fight in the army. As an expert movie critic, do the following steps -\\n        First, Analyze the user profile and movie watching history given in order and summarize the user\\'s behavior from the given list of movies and identify the movie characteristics that he likes and dislikes in atmost 100 words.\\n        Finally, Explain with reasoning why the user will like Mulan  in atmost 100 words.\\n        Do not use any information not mentioned above.',\n",
       " '\\nPrediction: Yes']"
      ]
     },
     "execution_count": 9,
     "metadata": {},
     "output_type": "execute_result"
    }
   ],
   "source": [
    "train_reasoning_prompt_dict[1]"
   ]
  },
  {
   "cell_type": "code",
   "execution_count": 11,
   "metadata": {},
   "outputs": [
    {
     "data": {
      "text/plain": [
       "6040"
      ]
     },
     "execution_count": 11,
     "metadata": {},
     "output_type": "execute_result"
    }
   ],
   "source": [
    "len(train_reasoning_prompt_dict)"
   ]
  },
  {
   "cell_type": "code",
   "execution_count": null,
   "metadata": {},
   "outputs": [],
   "source": []
  }
 ],
 "metadata": {
  "kernelspec": {
   "display_name": "mixtral",
   "language": "python",
   "name": "python3"
  },
  "language_info": {
   "codemirror_mode": {
    "name": "ipython",
    "version": 3
   },
   "file_extension": ".py",
   "mimetype": "text/x-python",
   "name": "python",
   "nbconvert_exporter": "python",
   "pygments_lexer": "ipython3",
   "version": "3.9.18"
  }
 },
 "nbformat": 4,
 "nbformat_minor": 2
}
