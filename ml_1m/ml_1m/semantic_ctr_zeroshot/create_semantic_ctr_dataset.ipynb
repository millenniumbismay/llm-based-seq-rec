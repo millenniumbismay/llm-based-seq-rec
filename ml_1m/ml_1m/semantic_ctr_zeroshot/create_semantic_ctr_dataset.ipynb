{
 "cells": [
  {
   "cell_type": "code",
   "execution_count": 1,
   "id": "a662b2ea-d39e-43d2-a9c1-decc5cb85d9f",
   "metadata": {},
   "outputs": [],
   "source": [
    "import pandas as pd\n",
    "import numpy as np\n",
    "import pickle\n",
    "import os"
   ]
  },
  {
   "cell_type": "code",
   "execution_count": 2,
   "id": "a317d7da-489e-4b42-bf62-1ccc12317f32",
   "metadata": {},
   "outputs": [
    {
     "name": "stdout",
     "output_type": "stream",
     "text": [
      "3883 1024\n"
     ]
    }
   ],
   "source": [
    "with open('movie_1024_embeddings.pkl', 'rb') as f:\n",
    "    movie_1024_embeddings = pickle.load(f)\n",
    "print(len(movie_1024_embeddings), len(movie_1024_embeddings[204]))"
   ]
  },
  {
   "cell_type": "code",
   "execution_count": 3,
   "id": "82edc6af-d93e-4080-a8a1-599170ef894f",
   "metadata": {},
   "outputs": [
    {
     "name": "stdout",
     "output_type": "stream",
     "text": [
      "6040 [3186, 1721, 1022, 1270, 2340, 1836, 3408, 1207, 2804, 720, 1193, 260, 919, 608, 2692, 1961, 2028, 3105, 938, 1962, 1035, 150, 2018, 1028, 1097, 914, 2797, 1287, 2762, 1246, 661, 2918, 531, 3114, 2791, 1029, 2321, 1197, 594, 2398, 1545, 527, 1, 588, 2687, 745, 595, 2294, 783, 2355, 1907, 1566, 48]\n"
     ]
    }
   ],
   "source": [
    "user_movie_dict_path = '../train_valid_test/user_movie_dict.pkl'\n",
    "with open(user_movie_dict_path, 'rb') as f:\n",
    "    user_movie_dict = pickle.load(f)\n",
    "print(len(user_movie_dict), user_movie_dict[1])"
   ]
  },
  {
   "cell_type": "code",
   "execution_count": 4,
   "id": "2f14f21a-d862-4ce8-9f15-b3d0414b0ab4",
   "metadata": {},
   "outputs": [
    {
     "name": "stdout",
     "output_type": "stream",
     "text": [
      "6040 [1566]\n"
     ]
    }
   ],
   "source": [
    "user_valid_path = '../train_valid_test/user_valid.pkl'\n",
    "with open(user_valid_path, 'rb') as f:\n",
    "    user_valid_dict = pickle.load(f)\n",
    "print(len(user_valid_dict), user_valid_dict[1])"
   ]
  },
  {
   "cell_type": "code",
   "execution_count": 5,
   "id": "4cfc5956-3050-4907-af31-3002094f5384",
   "metadata": {},
   "outputs": [
    {
     "name": "stdout",
     "output_type": "stream",
     "text": [
      "6040 [48]\n"
     ]
    }
   ],
   "source": [
    "user_test_path = '../train_valid_test/user_test.pkl'\n",
    "with open(user_test_path, 'rb') as f:\n",
    "    user_test_dict = pickle.load(f)\n",
    "print(len(user_test_dict), user_test_dict[1])"
   ]
  },
  {
   "cell_type": "code",
   "execution_count": 9,
   "id": "d81dafb4-ad0c-476b-a70c-8e79a754f345",
   "metadata": {},
   "outputs": [
    {
     "data": {
      "text/html": [
       "<div>\n",
       "<style scoped>\n",
       "    .dataframe tbody tr th:only-of-type {\n",
       "        vertical-align: middle;\n",
       "    }\n",
       "\n",
       "    .dataframe tbody tr th {\n",
       "        vertical-align: top;\n",
       "    }\n",
       "\n",
       "    .dataframe thead th {\n",
       "        text-align: right;\n",
       "    }\n",
       "</style>\n",
       "<table border=\"1\" class=\"dataframe\">\n",
       "  <thead>\n",
       "    <tr style=\"text-align: right;\">\n",
       "      <th></th>\n",
       "      <th>user_id</th>\n",
       "      <th>movie_id</th>\n",
       "      <th>rating</th>\n",
       "    </tr>\n",
       "  </thead>\n",
       "  <tbody>\n",
       "    <tr>\n",
       "      <th>0</th>\n",
       "      <td>1</td>\n",
       "      <td>3186</td>\n",
       "      <td>4</td>\n",
       "    </tr>\n",
       "    <tr>\n",
       "      <th>1</th>\n",
       "      <td>1</td>\n",
       "      <td>1721</td>\n",
       "      <td>4</td>\n",
       "    </tr>\n",
       "    <tr>\n",
       "      <th>2</th>\n",
       "      <td>1</td>\n",
       "      <td>1022</td>\n",
       "      <td>5</td>\n",
       "    </tr>\n",
       "    <tr>\n",
       "      <th>3</th>\n",
       "      <td>1</td>\n",
       "      <td>1270</td>\n",
       "      <td>5</td>\n",
       "    </tr>\n",
       "    <tr>\n",
       "      <th>4</th>\n",
       "      <td>1</td>\n",
       "      <td>2340</td>\n",
       "      <td>3</td>\n",
       "    </tr>\n",
       "  </tbody>\n",
       "</table>\n",
       "</div>"
      ],
      "text/plain": [
       "   user_id  movie_id  rating\n",
       "0        1      3186       4\n",
       "1        1      1721       4\n",
       "2        1      1022       5\n",
       "3        1      1270       5\n",
       "4        1      2340       3"
      ]
     },
     "execution_count": 9,
     "metadata": {},
     "output_type": "execute_result"
    }
   ],
   "source": [
    "ratings_df = pd.read_csv('../ratings.csv')\n",
    "ratings_df.head()"
   ]
  },
  {
   "cell_type": "code",
   "execution_count": 21,
   "id": "e57523aa-36b0-4285-bd7a-597090f4e9b9",
   "metadata": {},
   "outputs": [],
   "source": [
    "from numpy.linalg import norm\n",
    "\n",
    "def findKSimilarMovies(user, valid_movie, k):\n",
    "    movie_sim_dict = dict()\n",
    "    # movies_watched = user_movie_dict[user][:-2] ### For Valid movie\n",
    "    movies_watched = user_movie_dict[user][:-1] ### For Test movie\n",
    "    # print(\"movies_watched:\", movies_watched)\n",
    "    valid_movie_norm = norm(movie_1024_embeddings[valid_movie])\n",
    "    for movie in movies_watched:\n",
    "        movie_sim_dict[movie] = np.dot(movie_1024_embeddings[valid_movie], movie_1024_embeddings[movie])/(valid_movie_norm * norm(movie_1024_embeddings[movie]))\n",
    "    movie_sim_dict = dict(sorted(movie_sim_dict.items(), key = lambda item: item[1], reverse = True))\n",
    "    return list(movie_sim_dict.keys())[:20]"
   ]
  },
  {
   "cell_type": "code",
   "execution_count": 8,
   "id": "cd73fbaa-f5ac-477c-bdbf-dc657895bb47",
   "metadata": {
    "scrolled": true
   },
   "outputs": [
    {
     "name": "stdout",
     "output_type": "stream",
     "text": [
      "6040 [595, 588, 783, 594, 2687, 1022, 1029, 1907, 1, 3114, 919, 2355, 2018, 2294, 1197, 661, 1028, 2321, 938, 1270]\n"
     ]
    }
   ],
   "source": [
    "k = 20\n",
    "user_valid_sem_sim_movies = dict()\n",
    "for user, movie in user_valid_dict.items():\n",
    "    # print(user, movie)\n",
    "    k_similar_movie_list = findKSimilarMovies(user, movie[0], k)\n",
    "    # print(len(k_similar_movie_list), k_similar_movie_list)\n",
    "    user_valid_sem_sim_movies[user] = k_similar_movie_list\n",
    "    # break\n",
    "print(len(user_valid_sem_sim_movies), user_valid_sem_sim_movies[1])"
   ]
  },
  {
   "cell_type": "code",
   "execution_count": 19,
   "id": "984f1b83-d8e7-4c5b-825f-c2047cc24d0a",
   "metadata": {},
   "outputs": [
    {
     "name": "stdout",
     "output_type": "stream",
     "text": [
      "6040 [1022, 1270, 919, 938, 2018, 1028, 661, 3114, 1029, 2321, 1197, 594, 1, 588, 2687, 595, 2294, 783, 2355, 1907]\n"
     ]
    }
   ],
   "source": [
    "user_valid_sem_sim_data = dict()\n",
    "for user, sem_sim_movies in user_valid_sem_sim_movies.items():\n",
    "    cnt += 1\n",
    "    user_items = ratings_df[ratings_df['user_id'] == user]['movie_id'].to_list()\n",
    "    user_items = [item for item in user_items if item in sem_sim_movies]\n",
    "    user_valid_sem_sim_data[user] = user_items\n",
    "print(len(user_valid_sem_sim_data), user_valid_sem_sim_data[1])"
   ]
  },
  {
   "cell_type": "code",
   "execution_count": 20,
   "id": "1e3a7904-da47-40b2-93b9-17634247cdbe",
   "metadata": {},
   "outputs": [],
   "source": [
    "with open('./sem_sim_dataset/sem_sim_valid.pkl', 'wb') as f:\n",
    "    pickle.dump(user_valid_sem_sim_data, f)"
   ]
  },
  {
   "cell_type": "code",
   "execution_count": 23,
   "id": "cee1346a-2290-42ce-85eb-8071a4bdf353",
   "metadata": {},
   "outputs": [
    {
     "name": "stdout",
     "output_type": "stream",
     "text": [
      "6040 [595, 783, 2687, 588, 1022, 2018, 1029, 1907, 1566, 661, 594, 1721, 1, 1197, 531, 1028, 919, 3114, 1246, 2321]\n"
     ]
    }
   ],
   "source": [
    "k = 20\n",
    "user_test_sem_sim_movies = dict()\n",
    "for user, movie in user_test_dict.items():\n",
    "    # print(user, movie)\n",
    "    k_similar_movie_list = findKSimilarMovies(user, movie[0], k)\n",
    "    # print(len(k_similar_movie_list), k_similar_movie_list)\n",
    "    user_test_sem_sim_movies[user] = k_similar_movie_list\n",
    "    # break\n",
    "print(len(user_test_sem_sim_movies), user_test_sem_sim_movies[1])"
   ]
  },
  {
   "cell_type": "code",
   "execution_count": 24,
   "id": "0400be54-ea40-4075-950d-0142176ec283",
   "metadata": {},
   "outputs": [
    {
     "name": "stdout",
     "output_type": "stream",
     "text": [
      "6040 [1721, 1022, 919, 2018, 1028, 1246, 661, 531, 3114, 1029, 2321, 1197, 594, 1, 588, 2687, 595, 783, 1907, 1566]\n"
     ]
    }
   ],
   "source": [
    "user_test_sem_sim_data = dict()\n",
    "for user, sem_sim_movies in user_test_sem_sim_movies.items():\n",
    "    cnt += 1\n",
    "    user_items = ratings_df[ratings_df['user_id'] == user]['movie_id'].to_list()\n",
    "    user_items = [item for item in user_items if item in sem_sim_movies]\n",
    "    user_test_sem_sim_data[user] = user_items\n",
    "print(len(user_test_sem_sim_data), user_test_sem_sim_data[1])"
   ]
  },
  {
   "cell_type": "code",
   "execution_count": 25,
   "id": "d7d2ebd3-42da-4596-b9c9-bb8b33da2468",
   "metadata": {},
   "outputs": [],
   "source": [
    "with open('./sem_sim_dataset/sem_sim_test.pkl', 'wb') as f:\n",
    "    pickle.dump(user_test_sem_sim_data, f)"
   ]
  },
  {
   "cell_type": "code",
   "execution_count": null,
   "id": "7c2b624b-712b-4d68-836b-cefe03cf9047",
   "metadata": {},
   "outputs": [],
   "source": []
  }
 ],
 "metadata": {
  "kernelspec": {
   "display_name": "Python 3 (ipykernel)",
   "language": "python",
   "name": "python3"
  },
  "language_info": {
   "codemirror_mode": {
    "name": "ipython",
    "version": 3
   },
   "file_extension": ".py",
   "mimetype": "text/x-python",
   "name": "python",
   "nbconvert_exporter": "python",
   "pygments_lexer": "ipython3",
   "version": "3.9.18"
  }
 },
 "nbformat": 4,
 "nbformat_minor": 5
}
