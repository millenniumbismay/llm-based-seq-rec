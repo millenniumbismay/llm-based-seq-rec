{
 "cells": [
  {
   "cell_type": "code",
   "execution_count": 1,
   "id": "a662b2ea-d39e-43d2-a9c1-decc5cb85d9f",
   "metadata": {},
   "outputs": [],
   "source": [
    "import pandas as pd\n",
    "import numpy as np\n",
    "import pickle\n",
    "import os"
   ]
  },
  {
   "cell_type": "code",
   "execution_count": 2,
   "id": "e302f19d-7fe4-4774-87d2-09528018bc17",
   "metadata": {},
   "outputs": [
    {
     "data": {
      "text/html": [
       "<div>\n",
       "<style scoped>\n",
       "    .dataframe tbody tr th:only-of-type {\n",
       "        vertical-align: middle;\n",
       "    }\n",
       "\n",
       "    .dataframe tbody tr th {\n",
       "        vertical-align: top;\n",
       "    }\n",
       "\n",
       "    .dataframe thead th {\n",
       "        text-align: right;\n",
       "    }\n",
       "</style>\n",
       "<table border=\"1\" class=\"dataframe\">\n",
       "  <thead>\n",
       "    <tr style=\"text-align: right;\">\n",
       "      <th></th>\n",
       "      <th>movie_id</th>\n",
       "      <th>name</th>\n",
       "      <th>cleaned_genre</th>\n",
       "      <th>year</th>\n",
       "      <th>summary</th>\n",
       "      <th>embeddings_1024</th>\n",
       "    </tr>\n",
       "  </thead>\n",
       "  <tbody>\n",
       "    <tr>\n",
       "      <th>0</th>\n",
       "      <td>1</td>\n",
       "      <td>Toy Story</td>\n",
       "      <td>Animation,Children's,Comedy</td>\n",
       "      <td>1995</td>\n",
       "      <td>Toy Story is a groundbreaking animated film th...</td>\n",
       "      <td>[-0.04189223  0.05833309 -0.02476214 ... -0.02...</td>\n",
       "    </tr>\n",
       "    <tr>\n",
       "      <th>1</th>\n",
       "      <td>2</td>\n",
       "      <td>Jumanji</td>\n",
       "      <td>Adventure,Children's,Fantasy</td>\n",
       "      <td>1995</td>\n",
       "      <td>\"Jumanji (1995) is a thrilling adventure film ...</td>\n",
       "      <td>[ 0.01302368  0.03859716 -0.01630003 ... -0.01...</td>\n",
       "    </tr>\n",
       "    <tr>\n",
       "      <th>2</th>\n",
       "      <td>3</td>\n",
       "      <td>Grumpier Old Men</td>\n",
       "      <td>Comedy,Romance</td>\n",
       "      <td>1995</td>\n",
       "      <td>\"Grumpier Old Men is a hilarious and heartwarm...</td>\n",
       "      <td>[ 0.02791052  0.01487485 -0.02803959 ... -0.01...</td>\n",
       "    </tr>\n",
       "    <tr>\n",
       "      <th>3</th>\n",
       "      <td>4</td>\n",
       "      <td>Waiting to Exhale</td>\n",
       "      <td>Comedy,Drama</td>\n",
       "      <td>1995</td>\n",
       "      <td>\"Waiting to Exhale\" (1995) is a heartfelt dram...</td>\n",
       "      <td>[-0.05895531  0.05494044 -0.01637648 ... -0.00...</td>\n",
       "    </tr>\n",
       "    <tr>\n",
       "      <th>4</th>\n",
       "      <td>5</td>\n",
       "      <td>Father of the Bride Part II</td>\n",
       "      <td>Comedy</td>\n",
       "      <td>1995</td>\n",
       "      <td>Father of the Bride Part II (1995) is a heartw...</td>\n",
       "      <td>[-0.00589523  0.0246773  -0.02444115 ...  0.00...</td>\n",
       "    </tr>\n",
       "  </tbody>\n",
       "</table>\n",
       "</div>"
      ],
      "text/plain": [
       "   movie_id                          name                 cleaned_genre  year  \\\n",
       "0         1                    Toy Story    Animation,Children's,Comedy  1995   \n",
       "1         2                      Jumanji   Adventure,Children's,Fantasy  1995   \n",
       "2         3             Grumpier Old Men                 Comedy,Romance  1995   \n",
       "3         4            Waiting to Exhale                   Comedy,Drama  1995   \n",
       "4         5  Father of the Bride Part II                         Comedy  1995   \n",
       "\n",
       "                                             summary  \\\n",
       "0  Toy Story is a groundbreaking animated film th...   \n",
       "1  \"Jumanji (1995) is a thrilling adventure film ...   \n",
       "2  \"Grumpier Old Men is a hilarious and heartwarm...   \n",
       "3  \"Waiting to Exhale\" (1995) is a heartfelt dram...   \n",
       "4  Father of the Bride Part II (1995) is a heartw...   \n",
       "\n",
       "                                     embeddings_1024  \n",
       "0  [-0.04189223  0.05833309 -0.02476214 ... -0.02...  \n",
       "1  [ 0.01302368  0.03859716 -0.01630003 ... -0.01...  \n",
       "2  [ 0.02791052  0.01487485 -0.02803959 ... -0.01...  \n",
       "3  [-0.05895531  0.05494044 -0.01637648 ... -0.00...  \n",
       "4  [-0.00589523  0.0246773  -0.02444115 ...  0.00...  "
      ]
     },
     "execution_count": 2,
     "metadata": {},
     "output_type": "execute_result"
    }
   ],
   "source": [
    "movies_df = pd.read_csv('movies_summary_1024_embeddings.csv')\n",
    "movies_df.head()"
   ]
  },
  {
   "cell_type": "code",
   "execution_count": 7,
   "id": "d75bdb84-1e59-4ace-bd14-d49b086a9997",
   "metadata": {},
   "outputs": [
    {
     "ename": "SyntaxError",
     "evalue": "invalid syntax (<string>, line 1)",
     "output_type": "error",
     "traceback": [
      "Traceback \u001b[0;36m(most recent call last)\u001b[0m:\n",
      "\u001b[0m  File \u001b[1;32m~/miniconda3/envs/mixtral/lib/python3.9/site-packages/IPython/core/interactiveshell.py:3550\u001b[0m in \u001b[1;35mrun_code\u001b[0m\n    exec(code_obj, self.user_global_ns, self.user_ns)\u001b[0m\n",
      "\u001b[0m  Cell \u001b[1;32mIn[7], line 1\u001b[0m\n    movies_df['embeddings_1024'] = movies_df.embeddings_1024.apply(eval).apply(np.array)\u001b[0m\n",
      "\u001b[0m  File \u001b[1;32m~/miniconda3/envs/mixtral/lib/python3.9/site-packages/pandas/core/series.py:4897\u001b[0m in \u001b[1;35mapply\u001b[0m\n    return SeriesApply(\u001b[0m\n",
      "\u001b[0m  File \u001b[1;32m~/miniconda3/envs/mixtral/lib/python3.9/site-packages/pandas/core/apply.py:1427\u001b[0m in \u001b[1;35mapply\u001b[0m\n    return self.apply_standard()\u001b[0m\n",
      "\u001b[0m  File \u001b[1;32m~/miniconda3/envs/mixtral/lib/python3.9/site-packages/pandas/core/apply.py:1507\u001b[0m in \u001b[1;35mapply_standard\u001b[0m\n    mapped = obj._map_values(\u001b[0m\n",
      "\u001b[0m  File \u001b[1;32m~/miniconda3/envs/mixtral/lib/python3.9/site-packages/pandas/core/base.py:921\u001b[0m in \u001b[1;35m_map_values\u001b[0m\n    return algorithms.map_array(arr, mapper, na_action=na_action, convert=convert)\u001b[0m\n",
      "\u001b[0m  File \u001b[1;32m~/miniconda3/envs/mixtral/lib/python3.9/site-packages/pandas/core/algorithms.py:1743\u001b[0m in \u001b[1;35mmap_array\u001b[0m\n    return lib.map_infer(values, mapper, convert=convert)\u001b[0m\n",
      "\u001b[0;36m  File \u001b[0;32mlib.pyx:2972\u001b[0;36m in \u001b[0;35mpandas._libs.lib.map_infer\u001b[0;36m\n",
      "\u001b[0;36m  File \u001b[0;32m<string>:1\u001b[0;36m\u001b[0m\n\u001b[0;31m    [-0.04189223  0.05833309 -0.02476214 ... -0.02134957  0.03375586\u001b[0m\n\u001b[0m                  ^\u001b[0m\n\u001b[0;31mSyntaxError\u001b[0m\u001b[0;31m:\u001b[0m invalid syntax\n"
     ]
    }
   ],
   "source": [
    "movies_df['embeddings_1024'] = movies_df.embeddings_1024.apply(eval).apply(np.array)"
   ]
  },
  {
   "cell_type": "code",
   "execution_count": 17,
   "id": "59d6d948-6294-4ac0-9960-7bcf19a98ab6",
   "metadata": {},
   "outputs": [
    {
     "data": {
      "text/plain": [
       "'[-0.04189223  0.05833309 -0.02476214 ... -0.02134957  0.03375586\\n -0.02773763]'"
      ]
     },
     "execution_count": 17,
     "metadata": {},
     "output_type": "execute_result"
    }
   ],
   "source": [
    "import ast\n",
    "temp = movies_df['embeddings_1024'][0]\n",
    "temp"
   ]
  },
  {
   "cell_type": "code",
   "execution_count": 26,
   "id": "32e673d4-c261-4618-a2fd-2b7f7c54b6b4",
   "metadata": {},
   "outputs": [
    {
     "name": "stdout",
     "output_type": "stream",
     "text": [
      "10\n",
      "0.04189223\n",
      "0.04189223\n",
      "0.05833309\n",
      "0.05833309\n",
      "-0.02476214\n",
      "-0.02476214\n",
      "...\n"
     ]
    },
    {
     "ename": "ValueError",
     "evalue": "could not convert string to float: '...'",
     "output_type": "error",
     "traceback": [
      "\u001b[0;31m---------------------------------------------------------------------------\u001b[0m",
      "\u001b[0;31mValueError\u001b[0m                                Traceback (most recent call last)",
      "Cell \u001b[0;32mIn[26], line 7\u001b[0m\n\u001b[1;32m      5\u001b[0m \u001b[38;5;28;01mif\u001b[39;00m num\u001b[38;5;241m!=\u001b[39m\u001b[38;5;124m'\u001b[39m\u001b[38;5;124m'\u001b[39m:\n\u001b[1;32m      6\u001b[0m     \u001b[38;5;28mprint\u001b[39m(num)\n\u001b[0;32m----> 7\u001b[0m     \u001b[38;5;28mprint\u001b[39m(\u001b[38;5;28;43mfloat\u001b[39;49m\u001b[43m(\u001b[49m\u001b[43mnum\u001b[49m\u001b[38;5;241;43m.\u001b[39;49m\u001b[43mstrip\u001b[49m\u001b[43m(\u001b[49m\u001b[43m)\u001b[49m\u001b[43m)\u001b[49m)\n",
      "\u001b[0;31mValueError\u001b[0m: could not convert string to float: '...'"
     ]
    }
   ],
   "source": [
    "import re\n",
    "temp_list = re.split(\" |, |\\n\", temp[2:-2])\n",
    "print(len(temp_list))\n",
    "for num in temp_list:\n",
    "    if num!='':\n",
    "        print(num)\n",
    "        print(float(num.strip()))"
   ]
  },
  {
   "cell_type": "code",
   "execution_count": null,
   "id": "a317d7da-489e-4b42-bf62-1ccc12317f32",
   "metadata": {},
   "outputs": [],
   "source": []
  }
 ],
 "metadata": {
  "kernelspec": {
   "display_name": "Python 3 (ipykernel)",
   "language": "python",
   "name": "python3"
  },
  "language_info": {
   "codemirror_mode": {
    "name": "ipython",
    "version": 3
   },
   "file_extension": ".py",
   "mimetype": "text/x-python",
   "name": "python",
   "nbconvert_exporter": "python",
   "pygments_lexer": "ipython3",
   "version": "3.9.18"
  }
 },
 "nbformat": 4,
 "nbformat_minor": 5
}
