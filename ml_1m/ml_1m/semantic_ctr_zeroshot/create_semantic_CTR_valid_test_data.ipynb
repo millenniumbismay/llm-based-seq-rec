{
 "cells": [
  {
   "cell_type": "code",
   "execution_count": 1,
   "id": "1adf3328-1917-4107-8fe3-9fcbb462e279",
   "metadata": {},
   "outputs": [],
   "source": [
    "import pickle\n",
    "import pandas as pd\n",
    "import numpy as np\n",
    "import os\n",
    "import time\n",
    "from dotenv import load_dotenv"
   ]
  },
  {
   "cell_type": "code",
   "execution_count": 2,
   "id": "04979962-6a86-4099-90a2-235a2f4b6f87",
   "metadata": {},
   "outputs": [],
   "source": [
    "from openai import OpenAI\n",
    "load_dotenv()\n",
    "client = OpenAI(\n",
    "    # This is the default and can be omitted\n",
    "    api_key=os.environ.get(\"OPENAI_API_KEY\"),\n",
    ")"
   ]
  },
  {
   "cell_type": "code",
   "execution_count": 3,
   "id": "d1515bab-14ca-4967-8d5e-f4e686707515",
   "metadata": {},
   "outputs": [],
   "source": [
    "user_train_path = '../train_valid_test/user_train.pkl'\n",
    "user_valid_path = '../train_valid_test/user_valid.pkl'\n",
    "user_test_path = '../train_valid_test/user_test.pkl'"
   ]
  },
  {
   "cell_type": "code",
   "execution_count": 4,
   "id": "f850e468-bf69-4b6d-8c71-f41a2af5f28b",
   "metadata": {},
   "outputs": [],
   "source": [
    "with open(user_train_path, 'rb') as f:\n",
    "    user_train_dict = pickle.load(f)"
   ]
  },
  {
   "cell_type": "code",
   "execution_count": 5,
   "id": "e15cf520-ecd1-492f-b990-5142bb43e6fc",
   "metadata": {},
   "outputs": [],
   "source": [
    "with open(user_valid_path, 'rb') as f:\n",
    "    user_valid_dict = pickle.load(f)"
   ]
  },
  {
   "cell_type": "code",
   "execution_count": 6,
   "id": "94bcf5f5-32d0-486c-869f-3ae21010a2fe",
   "metadata": {},
   "outputs": [],
   "source": [
    "with open(user_test_path, 'rb') as f:\n",
    "    user_test_dict = pickle.load(f)"
   ]
  },
  {
   "cell_type": "code",
   "execution_count": 7,
   "id": "905ab5e3-51d4-415c-a2b0-baed7f18de98",
   "metadata": {},
   "outputs": [
    {
     "name": "stdout",
     "output_type": "stream",
     "text": [
      "6040 [1022, 1270, 919, 938, 2018, 1028, 661, 3114, 1029, 2321, 1197, 594, 1, 588, 2687, 595, 2294, 783, 2355, 1907]\n"
     ]
    }
   ],
   "source": [
    "with open('./sem_sim_dataset/sem_sim_valid.pkl', 'rb') as f:\n",
    "    user_sem_sim_valid_data = pickle.load(f)\n",
    "print(len(user_sem_sim_valid_data), user_sem_sim_valid_data[1])"
   ]
  },
  {
   "cell_type": "code",
   "execution_count": 8,
   "id": "bfeee13f-824e-4a59-8864-cadf3f8a10dc",
   "metadata": {},
   "outputs": [
    {
     "name": "stdout",
     "output_type": "stream",
     "text": [
      "6040 [1721, 1022, 919, 2018, 1028, 1246, 661, 531, 3114, 1029, 2321, 1197, 594, 1, 588, 2687, 595, 783, 1907, 1566]\n"
     ]
    }
   ],
   "source": [
    "with open('./sem_sim_dataset/sem_sim_test.pkl', 'rb') as f:\n",
    "    user_sem_sim_test_data = pickle.load(f)\n",
    "print(len(user_sem_sim_test_data), user_sem_sim_test_data[1])"
   ]
  },
  {
   "cell_type": "code",
   "execution_count": 9,
   "id": "4c94a8f0-eb62-45bd-ada1-434a72c0de03",
   "metadata": {},
   "outputs": [
    {
     "name": "stdout",
     "output_type": "stream",
     "text": [
      "[[1961, 2028, 3105, 938, 1962, 1035, 150, 2018, 1028, 1097, 914, 2797, 1287, 2762, 1246, 661, 2918, 531, 3114, 2791, 1029, 2321, 1197, 594, 2398, 1545, 527, 1, 588, 2687, 745, 595, 2294, 783, 2355, 1907]]\n",
      "[1566]\n",
      "[48]\n"
     ]
    }
   ],
   "source": [
    "user_id = 1\n",
    "print(user_train_dict[user_id])\n",
    "print(user_valid_dict[user_id])\n",
    "print(user_test_dict[user_id])"
   ]
  },
  {
   "cell_type": "code",
   "execution_count": 10,
   "id": "5670b298-3f28-421a-a2b8-beb607bb180b",
   "metadata": {},
   "outputs": [
    {
     "data": {
      "text/plain": [
       "36"
      ]
     },
     "execution_count": 10,
     "metadata": {},
     "output_type": "execute_result"
    }
   ],
   "source": [
    "len(user_train_dict[user_id][0])"
   ]
  },
  {
   "cell_type": "code",
   "execution_count": 11,
   "id": "f01e1dfe-82fe-456f-a99a-d471308b9447",
   "metadata": {},
   "outputs": [
    {
     "name": "stdout",
     "output_type": "stream",
     "text": [
      "\n",
      "            The user has a diverse taste in movies, with a preference for thought-provoking and emotionally engaging films. They enjoy dramas that explore complex themes such as mental illness, racial injustice, and the meaning of life. The user is drawn to movies that challenge their perspective and provoke deep thought, often favoring those that tackle serious and mature subjects.\n",
      "            \n",
      "            In addition to dramas, the user also has a soft spot for classic Disney films, as evidenced by their fondness for Cinderella. They appreciate the enchanting storytelling and timeless charm of these animated tales.\n",
      "            \n",
      "            The user's taste in movies also extends to comedies, as seen in their appreciation for the hilarious antics of Wallace & Gromit and the dark humor of Fargo. They are also drawn to adventure films, as demonstrated by their love for Star Wars: Episode IV - A New Hope and Back to the Future.\n",
      "            \n",
      "            However, the user is not a fan of horror movies, as none are listed among their favorites. They also tend to avoid movies that are overly violent or graphic, preferring instead to focus on stories that are emotionally resonant and intellectually stimulating.\n",
      "            \n",
      "            Overall, the user's movie preferences reflect a deep appreciation for storytelling, character development, and thematic depth.\n"
     ]
    }
   ],
   "source": [
    "user_profile_path = '../user_profile/cleaned_user_profile_mixtral.pkl'\n",
    "with open(user_profile_path, 'rb') as f:\n",
    "    user_profile_dict = pickle.load(f)\n",
    "print(user_profile_dict[user_id])"
   ]
  },
  {
   "cell_type": "code",
   "execution_count": 12,
   "id": "35e60e15-35e4-456d-aef3-dc9a96f91d08",
   "metadata": {},
   "outputs": [
    {
     "data": {
      "text/html": [
       "<div>\n",
       "<style scoped>\n",
       "    .dataframe tbody tr th:only-of-type {\n",
       "        vertical-align: middle;\n",
       "    }\n",
       "\n",
       "    .dataframe tbody tr th {\n",
       "        vertical-align: top;\n",
       "    }\n",
       "\n",
       "    .dataframe thead th {\n",
       "        text-align: right;\n",
       "    }\n",
       "</style>\n",
       "<table border=\"1\" class=\"dataframe\">\n",
       "  <thead>\n",
       "    <tr style=\"text-align: right;\">\n",
       "      <th></th>\n",
       "      <th>movie_id</th>\n",
       "      <th>name</th>\n",
       "      <th>cleaned_genre</th>\n",
       "      <th>year</th>\n",
       "      <th>summary</th>\n",
       "    </tr>\n",
       "  </thead>\n",
       "  <tbody>\n",
       "    <tr>\n",
       "      <th>0</th>\n",
       "      <td>1</td>\n",
       "      <td>Toy Story</td>\n",
       "      <td>Animation,Children's,Comedy</td>\n",
       "      <td>1995</td>\n",
       "      <td>Toy Story is a groundbreaking animated film th...</td>\n",
       "    </tr>\n",
       "    <tr>\n",
       "      <th>1</th>\n",
       "      <td>2</td>\n",
       "      <td>Jumanji</td>\n",
       "      <td>Adventure,Children's,Fantasy</td>\n",
       "      <td>1995</td>\n",
       "      <td>\"Jumanji (1995) is a thrilling adventure film ...</td>\n",
       "    </tr>\n",
       "    <tr>\n",
       "      <th>2</th>\n",
       "      <td>3</td>\n",
       "      <td>Grumpier Old Men</td>\n",
       "      <td>Comedy,Romance</td>\n",
       "      <td>1995</td>\n",
       "      <td>\"Grumpier Old Men is a hilarious and heartwarm...</td>\n",
       "    </tr>\n",
       "    <tr>\n",
       "      <th>3</th>\n",
       "      <td>4</td>\n",
       "      <td>Waiting to Exhale</td>\n",
       "      <td>Comedy,Drama</td>\n",
       "      <td>1995</td>\n",
       "      <td>\"Waiting to Exhale\" (1995) is a heartfelt dram...</td>\n",
       "    </tr>\n",
       "    <tr>\n",
       "      <th>4</th>\n",
       "      <td>5</td>\n",
       "      <td>Father of the Bride Part II</td>\n",
       "      <td>Comedy</td>\n",
       "      <td>1995</td>\n",
       "      <td>Father of the Bride Part II (1995) is a heartw...</td>\n",
       "    </tr>\n",
       "  </tbody>\n",
       "</table>\n",
       "</div>"
      ],
      "text/plain": [
       "   movie_id                          name                 cleaned_genre  year  \\\n",
       "0         1                    Toy Story    Animation,Children's,Comedy  1995   \n",
       "1         2                      Jumanji   Adventure,Children's,Fantasy  1995   \n",
       "2         3             Grumpier Old Men                 Comedy,Romance  1995   \n",
       "3         4            Waiting to Exhale                   Comedy,Drama  1995   \n",
       "4         5  Father of the Bride Part II                         Comedy  1995   \n",
       "\n",
       "                                             summary  \n",
       "0  Toy Story is a groundbreaking animated film th...  \n",
       "1  \"Jumanji (1995) is a thrilling adventure film ...  \n",
       "2  \"Grumpier Old Men is a hilarious and heartwarm...  \n",
       "3  \"Waiting to Exhale\" (1995) is a heartfelt dram...  \n",
       "4  Father of the Bride Part II (1995) is a heartw...  "
      ]
     },
     "execution_count": 12,
     "metadata": {},
     "output_type": "execute_result"
    }
   ],
   "source": [
    "movie_summary_df = pd.read_csv('../movie_summary_25_words.csv')\n",
    "movie_summary_df.head()"
   ]
  },
  {
   "cell_type": "code",
   "execution_count": 13,
   "id": "a89db52d-5068-4c5e-8ffe-9634e31e7c88",
   "metadata": {},
   "outputs": [
    {
     "name": "stdout",
     "output_type": "stream",
     "text": [
      "     movie_id                                               name  \\\n",
      "262       265  Like Water for Chocolate (Como agua para choco...   \n",
      "\n",
      "     cleaned_genre  year                                            summary  \n",
      "262  Drama,Romance  1992  \"Like Water for Chocolate is a visually stunni...  \n"
     ]
    }
   ],
   "source": [
    "print(movie_summary_df[movie_summary_df['movie_id'] == 265])"
   ]
  },
  {
   "cell_type": "code",
   "execution_count": 14,
   "id": "a69d1d49-deac-473c-b2e8-eab752a23fbf",
   "metadata": {},
   "outputs": [
    {
     "data": {
      "text/html": [
       "<div>\n",
       "<style scoped>\n",
       "    .dataframe tbody tr th:only-of-type {\n",
       "        vertical-align: middle;\n",
       "    }\n",
       "\n",
       "    .dataframe tbody tr th {\n",
       "        vertical-align: top;\n",
       "    }\n",
       "\n",
       "    .dataframe thead th {\n",
       "        text-align: right;\n",
       "    }\n",
       "</style>\n",
       "<table border=\"1\" class=\"dataframe\">\n",
       "  <thead>\n",
       "    <tr style=\"text-align: right;\">\n",
       "      <th></th>\n",
       "      <th>user_id</th>\n",
       "      <th>user_profile</th>\n",
       "    </tr>\n",
       "  </thead>\n",
       "  <tbody>\n",
       "    <tr>\n",
       "      <th>0</th>\n",
       "      <td>1</td>\n",
       "      <td>female k-12 student under 18 years of age</td>\n",
       "    </tr>\n",
       "    <tr>\n",
       "      <th>1</th>\n",
       "      <td>2</td>\n",
       "      <td>male self-employed above 56 years of age</td>\n",
       "    </tr>\n",
       "    <tr>\n",
       "      <th>2</th>\n",
       "      <td>3</td>\n",
       "      <td>male scientist between 25 to 34 years of age</td>\n",
       "    </tr>\n",
       "    <tr>\n",
       "      <th>3</th>\n",
       "      <td>4</td>\n",
       "      <td>male executive/managerial between 45 to 49 yea...</td>\n",
       "    </tr>\n",
       "    <tr>\n",
       "      <th>4</th>\n",
       "      <td>5</td>\n",
       "      <td>male writer between 25 to 34 years of age</td>\n",
       "    </tr>\n",
       "  </tbody>\n",
       "</table>\n",
       "</div>"
      ],
      "text/plain": [
       "   user_id                                       user_profile\n",
       "0        1          female k-12 student under 18 years of age\n",
       "1        2           male self-employed above 56 years of age\n",
       "2        3       male scientist between 25 to 34 years of age\n",
       "3        4  male executive/managerial between 45 to 49 yea...\n",
       "4        5          male writer between 25 to 34 years of age"
      ]
     },
     "execution_count": 14,
     "metadata": {},
     "output_type": "execute_result"
    }
   ],
   "source": [
    "user_df = pd.read_csv('../users.csv')\n",
    "user_df.head()"
   ]
  },
  {
   "cell_type": "code",
   "execution_count": 15,
   "id": "b90be7ee-0d13-4180-b3f6-351ce3e0bf59",
   "metadata": {},
   "outputs": [
    {
     "data": {
      "text/html": [
       "<div>\n",
       "<style scoped>\n",
       "    .dataframe tbody tr th:only-of-type {\n",
       "        vertical-align: middle;\n",
       "    }\n",
       "\n",
       "    .dataframe tbody tr th {\n",
       "        vertical-align: top;\n",
       "    }\n",
       "\n",
       "    .dataframe thead th {\n",
       "        text-align: right;\n",
       "    }\n",
       "</style>\n",
       "<table border=\"1\" class=\"dataframe\">\n",
       "  <thead>\n",
       "    <tr style=\"text-align: right;\">\n",
       "      <th></th>\n",
       "      <th>user_id</th>\n",
       "      <th>movie_id</th>\n",
       "      <th>rating</th>\n",
       "    </tr>\n",
       "  </thead>\n",
       "  <tbody>\n",
       "    <tr>\n",
       "      <th>0</th>\n",
       "      <td>1</td>\n",
       "      <td>3186</td>\n",
       "      <td>4</td>\n",
       "    </tr>\n",
       "    <tr>\n",
       "      <th>1</th>\n",
       "      <td>1</td>\n",
       "      <td>1721</td>\n",
       "      <td>4</td>\n",
       "    </tr>\n",
       "    <tr>\n",
       "      <th>2</th>\n",
       "      <td>1</td>\n",
       "      <td>1022</td>\n",
       "      <td>5</td>\n",
       "    </tr>\n",
       "    <tr>\n",
       "      <th>3</th>\n",
       "      <td>1</td>\n",
       "      <td>1270</td>\n",
       "      <td>5</td>\n",
       "    </tr>\n",
       "    <tr>\n",
       "      <th>4</th>\n",
       "      <td>1</td>\n",
       "      <td>2340</td>\n",
       "      <td>3</td>\n",
       "    </tr>\n",
       "  </tbody>\n",
       "</table>\n",
       "</div>"
      ],
      "text/plain": [
       "   user_id  movie_id  rating\n",
       "0        1      3186       4\n",
       "1        1      1721       4\n",
       "2        1      1022       5\n",
       "3        1      1270       5\n",
       "4        1      2340       3"
      ]
     },
     "execution_count": 15,
     "metadata": {},
     "output_type": "execute_result"
    }
   ],
   "source": [
    "ratings_df = pd.read_csv('../ratings.csv')\n",
    "ratings_df.head()"
   ]
  },
  {
   "cell_type": "code",
   "execution_count": 22,
   "id": "e931275e-9417-4bc3-9f9d-ee7110b18c16",
   "metadata": {},
   "outputs": [],
   "source": [
    "crt_sem_valid_zeroshot_dataset = dict()\n",
    "cnt = 0\n",
    "for user, user_profile in user_profile_dict.items():\n",
    "    # if cnt < 2:\n",
    "    #     cnt += 1\n",
    "    #     continue\n",
    "    cnt += 1\n",
    "    # print(f\"User: {user}\")\n",
    "    prompt = \"\"\"\n",
    "    You are an expert movie critic. You are provided with the user profile and list of movies the user has watched and whether the user likes it or not.\n",
    "    User Profile -\n",
    "    \"\"\"\n",
    "    ### Create the user profile\n",
    "    final_user_profile = \"The user is a \"+user_df[user_df['user_id'] == user]['user_profile'].values[0]+user_profile+\"\\n\"\n",
    "    # print(final_user_profile)\n",
    "    prompt += final_user_profile\n",
    "    \n",
    "    prompt += \"\"\"\n",
    "   User watched the following movies in the given order. List of movies and their description -\n",
    "    \"\"\"\n",
    "    # print(prompt)\n",
    "    ### Create the like/dislike list of last 20 movies\n",
    "    # print(user_train_dict[user][0][-20:])\n",
    "    user_rating_dict = ratings_df[ratings_df['user_id'] == user]\n",
    "    # print(user_rating_dict)\n",
    "    liked_movies = []\n",
    "    disliked_movies = []\n",
    "    # train_valid_movie_list = user_train_dict[user][0][-19:]\n",
    "    # train_valid_movie_list.append(user_valid_dict[user][0])\n",
    "    for movie in user_sem_sim_valid_data[user]:\n",
    "        # print(movie)\n",
    "        user_movie_rating = user_rating_dict[user_rating_dict['movie_id'] == movie]['rating'].values[0]\n",
    "        # print(movie, user_movie_rating)\n",
    "        movie_details = movie_summary_df[movie_summary_df['movie_id'] == movie]\n",
    "        if user_movie_rating >= 3:\n",
    "            if movie != user_valid_dict[user][0]:\n",
    "                prompt += \"\\nLiked \" + movie_details['name'].values[0] + \"(Genre: \" + movie_details['cleaned_genre'].values[0] + \") \" + movie_details['summary'].values[0] + \",\"\n",
    "            else:\n",
    "                ### For the last movie - ending with a . and starting new line\n",
    "                prompt += \"\\nLiked \" + movie_details['name'].values[0] + \"(Genre: \" + movie_details['cleaned_genre'].values[0] + \") \" +  movie_details['summary'].values[0] + \"\\n\"\n",
    "        else:\n",
    "            if movie != user_valid_dict[user][0]:\n",
    "                prompt += \"\\nDisliked \" + movie_details['name'].values[0] + \"(Genre: \" + movie_details['cleaned_genre'].values[0] + \") \" +  movie_details['summary'].values[0] + \",\"\n",
    "            else:\n",
    "                ### For the last movie - ending with a . and starting new line\n",
    "                prompt += \"\\nDisliked \" + movie_details['name'].values[0] + \"(Genre: \" + movie_details['cleaned_genre'].values[0] + \") \" +  movie_details['summary'].values[0] + \"\\n\"\n",
    "\n",
    "    ### To predict\n",
    "    # print(user_valid_dict[user][0])\n",
    "    movie_details = movie_summary_df[movie_summary_df['movie_id'] == user_valid_dict[user][0]]\n",
    "    prompt += f\"\"\"\n",
    "    The user has watched the above movies chronologically in past. The given list of movies are the 20 most similar movies to the next movie -\n",
    "    {movie_details['name'].values[0] + \"(Genre: \" + movie_details['cleaned_genre'].values[0] + \") \" +  movie_details['summary'].values[0]}.\n",
    "    Analyze all the information given in order. Do not use any information not mentioned above. Summarize the user's behavior from the given list of movies and identify the movie characteristics that he likes and dislikes.\n",
    "    \"\"\"\n",
    "    # print(\"Test Movie Rating:\", user_rating_dict[user_rating_dict['movie_id'] == user_valid_dict[user][0]]['rating'].values[0])\n",
    "    # prompt += movie_details['name'].values[0] + \"(Genre: \" + movie_details['cleaned_genre'].values[0] + \") \" +  movie_details['summary'].values[0]\n",
    "    prompt += f\"\"\"\n",
    "    As an expert movie critic and recommender, provide the reasoning why the user will like or dislike {movie_details['name'].values[0]} by analyzing user behavior, movie watching history and explain your reasoning.\n",
    "    According to your reasoning, predict whether the user will like the movie or not. Finally answer with a Yes or No in the following format -\n",
    "    Prediction: Yes or No\n",
    "    \"\"\"\n",
    "    # print(f\"Prompt length: {len(prompt.split())}\", prompt)\n",
    "    crt_sem_valid_zeroshot_dataset[user] = prompt\n",
    "    # break"
   ]
  },
  {
   "cell_type": "code",
   "execution_count": 23,
   "id": "1cace0cf-ef70-4a92-b4b0-c5511b411c95",
   "metadata": {},
   "outputs": [
    {
     "name": "stdout",
     "output_type": "stream",
     "text": [
      "6040\n"
     ]
    }
   ],
   "source": [
    "print(len(crt_sem_valid_zeroshot_dataset))"
   ]
  },
  {
   "cell_type": "code",
   "execution_count": 24,
   "id": "1778ac75-a508-471d-a340-1bf2ca70d29c",
   "metadata": {},
   "outputs": [
    {
     "data": {
      "text/plain": [
       "'\\n    You are an expert movie critic. You are provided with the user profile and list of movies the user has watched and whether the user likes it or not.\\n    User Profile -\\n    The user is a female academic/educator between 35 to 44 years of age\\n            The user has a diverse taste in movies, with a preference for complex and thought-provoking films. They enjoy movies that push the boundaries of sanity and freedom, as seen in \"One Flew Over the Cuckoo\\'s Nest,\" and morally ambiguous characters, as depicted in \"Miller\\'s Crossing.\" The user is drawn to political dramas, as evidenced by their interest in \"The Candidate,\" and adventure films like \"Raiders of the Lost Ark.\"\\n            The user also has a soft spot for movies that explore the human condition, such as \"Butterfly (La Lengua de las Mariposas),\" which delves into the bond between a young boy and his teacher during the Spanish Civil War. They are also interested in movies that intertwine past and present, as seen in \"Dead Again,\" and movies that explore corruption and scandal, as in \"L.A. Confidential.\"\\n            On the other hand, the user is not a fan of mind-bending psychological thrillers, as evidenced by their dislike of \"Jacob\\'s Ladder.\" They also tend to avoid comedies, as seen by their dislike of \"A Very Brady Sequel.\"\\n            Overall, the user is drawn to complex and thought-provoking films that explore the human condition, with a preference for movies that push the boundaries of reality and morality.\\n\\n   User watched the following movies in the given order. List of movies and their description -\\n    \\nDisliked Very Brady Sequel, A (Genre: Comedy) A hilarious and nostalgic comedy that follows the iconic Brady family as they navigate through a series of absurd and comical situations.,\\nLiked Gone in 60 Seconds (Genre: Action,Crime) \"Gone in 60 Seconds is a fast-paced action film about a skilled car thief forced to steal 50 cars in one night to save his brother\\'s life.\",\\nLiked Big Night (Genre: Drama) Big Night (1996) is a charming and heartfelt comedy-drama about two Italian brothers who struggle to save their failing restaurant with one epic dinner.,\\nLiked Get Shorty (Genre: Action,Comedy,Drama) \"Get Shorty\" is a witty crime-comedy film about a mobster turned Hollywood producer, blending humor and suspense with stellar performances from its cast.,\\nLiked Jackie Brown (Genre: Crime,Drama) \"Jackie Brown is a stylish crime thriller directed by Quentin Tarantino, featuring a stellar cast and a gripping plot filled with twists and turns.\",\\nLiked Commitments, The (Genre: Comedy,Drama) \"The Commitments\" is a soulful and energetic musical comedy about a group of working-class Dubliners who form a band to pursue their dreams of fame and success.,\\nDisliked Varsity Blues (Genre: Comedy,Drama) \"Varsity Blues is a high school football drama that explores the pressures and expectations placed on young athletes, with a touch of rebellion and coming-of-age themes.\",\\nLiked Two Jakes, The (Genre: Drama) Two Jakes (1990) is a neo-noir mystery film directed by Jack Nicholson, serving as a sequel to Chinatown, exploring corruption and deceit in 1940s Los Angeles.,\\nLiked Lethal Weapon 4 (Genre: Action,Comedy,Crime,Drama) Lethal Weapon 4 is an action-packed buddy cop film that delivers explosive thrills, witty banter, and a satisfying conclusion to the iconic franchise.,\\nLiked Lethal Weapon 3 (Genre: Action,Comedy,Crime,Drama) Lethal Weapon 3 (1992) is an action-packed buddy cop film that follows the explosive partnership of Riggs and Murtaugh as they take on a deadly arms dealer.,\\nLiked Mariachi, El (Genre: Action,Thriller) \"El Mariachi\" is a thrilling action-packed film directed by Robert Rodriguez, following a musician who becomes entangled in a dangerous web of mistaken identity and violence.,\\nLiked Desperado (Genre: Action,Romance,Thriller) \"Desperado (1995) is a thrilling action-packed film directed by Robert Rodriguez, featuring Antonio Banderas as a guitar-playing gunslinger seeking revenge in Mexico.\",\\nLiked Men in Black (Genre: Action,Adventure,Comedy,Sci-Fi) \"Men in Black is a hilarious and action-packed sci-fi comedy that follows two secret agents as they protect Earth from extraterrestrial threats.\",\\nLiked True Lies (Genre: Action,Adventure,Comedy,Romance) \"True Lies (1994) is a thrilling action-comedy that combines explosive stunts, clever humor, and charismatic performances to deliver an entertaining espionage adventure.\",\\nDisliked Twister (Genre: Action,Adventure,Romance,Thriller) \"Twister (1996) is a thrilling disaster film that follows storm chasers as they pursue tornadoes, delivering intense action and impressive visual effects.\",\\nDisliked Beverly Hills Cop III (Genre: Action,Comedy) \"Beverly Hills Cop III (1994) is a lackluster sequel that fails to capture the charm and excitement of its predecessors, offering little more than tired action clichés.\",\\nLiked Replacement Killers, The (Genre: Action,Thriller) \"Replacement Killers (1998) is a high-octane action film about a hitman and a forger teaming up to outsmart their ruthless enemies.\",\\nLiked U.S. Marshalls (Genre: Action,Thriller) \"U.S. Marshals (1998) is a thrilling action film that follows a team of marshals as they hunt down a fugitive while uncovering a conspiracy.\",\\nDisliked Hot Shots! Part Deux (Genre: Action,Comedy,War) Hot Shots! Part Deux is a hilarious and over-the-top parody of action movies, filled with slapstick humor and clever spoofs.,\\nDisliked Last Action Hero (Genre: Action,Comedy) \"Last Action Hero is a self-aware action-comedy that cleverly satirizes the genre, with Arnold Schwarzenegger playing a fictional character who enters the real world.\",\\n    The user has watched the above movies chronologically in past. The given list of movies are the 20 most similar movies to the next movie -\\n    Blues Brothers 2000 (Genre: Action,Comedy,Musical) Blues Brothers 2000 is a lively musical comedy sequel that follows the new adventures of Jake and Elwood as they assemble a band to save an orphanage..\\n    Analyze all the information given in order. Do not use any information not mentioned above. Summarize the user\\'s behavior from the given list of movies and identify the movie characteristics that he likes and dislikes.\\n    \\n    As an expert movie critic and recommender, provide the reasoning why the user will like or dislike Blues Brothers 2000  by analyzing user behavior, movie watching history and explain your reasoning.\\n    According to your reasoning, predict whether the user will like the movie or not. Finally answer with a Yes or No in the following format -\\n    Prediction: Yes or No\\n    '"
      ]
     },
     "execution_count": 24,
     "metadata": {},
     "output_type": "execute_result"
    }
   ],
   "source": [
    "crt_sem_valid_zeroshot_dataset[3246]"
   ]
  },
  {
   "cell_type": "code",
   "execution_count": 25,
   "id": "3796708a-deaa-4ee9-aaba-0ef996c7a5f8",
   "metadata": {},
   "outputs": [],
   "source": [
    "crt_sem_valid_zeroshot_dataset_path = './sem_sim_dataset/sem_ctr_valid_zeroshot_dataset_2.pkl'\n",
    "with open(crt_sem_valid_zeroshot_dataset_path, 'wb') as f:\n",
    "    pickle.dump(crt_sem_valid_zeroshot_dataset, f)\n",
    "    f.close()"
   ]
  },
  {
   "cell_type": "code",
   "execution_count": 37,
   "id": "3d04813f-70a9-44ef-a637-809c0d5f43c1",
   "metadata": {},
   "outputs": [],
   "source": [
    "# with open(crt_valid_zeroshot_dataset_path, 'rb') as f:\n",
    "#     crt_valid_zeroshot_dataset_temp = pickle.load(f)\n",
    "# print(len(crt_valid_zeroshot_dataset_temp), crt_valid_zeroshot_dataset_temp[1])"
   ]
  },
  {
   "cell_type": "code",
   "execution_count": 29,
   "id": "b304d4d8-8f0f-4650-9260-c0864bb95eef",
   "metadata": {},
   "outputs": [
    {
     "name": "stdout",
     "output_type": "stream",
     "text": [
      "\n",
      "    You are an expert movie critic. You are provided with the user profile and list of movies the user has watched and whether the user likes it or not.\n",
      "    User Profile -\n",
      "    The user is a male technician/engineer between 25 to 34 years of age\n",
      "            The user's preferred movie genres include drama, animation, war, biographical, sports, comedy, and thriller films. They have a strong affinity for movies based on true stories, such as \"Hurricane\" and \"Schindler's List,\" as well as historical dramas like \"The Godfather: Part II\" and \"GoodFellas.\" The user also enjoys a mix of light-hearted and heavy films, with a taste for both the comedic, like \"Meet the Parents,\" and the thrilling, such as \"Silence of the Lambs\" and \"The Usual Suspects.\"\n",
      "            \n",
      "            In terms of animation, the user leans towards stop-motion films, with \"Chicken Run\" and \"Wrong Trousers\" among their favorites. They also appreciate a blend of humor and adventure in their animated movies.\n",
      "            \n",
      "            The user's taste in drama is diverse, with a preference for character-driven narratives and strong emotional arcs, as seen in \"Rain Man,\" \"Casablanca,\" and \"American Beauty.\" They also enjoy movies that explore complex themes, such as the impact of war on individuals and society, as seen in \"Das Boot\" and \"Remember the Titans.\n",
      "\n",
      "   User watched the following movies in the given order. List of movies and their description -\n",
      "    \n",
      "Liked Chicken Run (Genre: Animation,Children's,Comedy) Chicken Run is a delightful stop-motion animated film about a group of chickens attempting to escape their farm before becoming chicken pies.,\n",
      "Liked Wrong Trousers, The (Genre: Animation,Comedy) \"Wrong Trousers\" is a delightful and hilarious stop-motion animated film about a penguin, a cunning dog, and an inventor caught in a thrilling heist.,\n",
      "Liked X-Men (Genre: Action,Sci-Fi) X-Men (2000) is a thrilling superhero film that introduces the mutant world, blending action and drama as Professor Xavier's team battles Magneto's evil plans.,\n",
      "Liked Shawshank Redemption, The (Genre: Drama) Shawshank Redemption (1994) is a powerful and inspiring drama about friendship, hope, and the resilience of the human spirit within the confines of a prison.,\n",
      "Liked Wallace & Gromit: The Best of Aardman Animation (Genre: Animation) Wallace & Gromit: The Best of Aardman Animation is a delightful collection of charming and hilarious stop-motion adventures featuring the beloved duo.,\n",
      "Liked Close Shave, A (Genre: Animation,Comedy,Thriller) \"A Close Shave (1995) is a delightful stop-motion animated film that combines humor, suspense, and heart as Wallace and Gromit unravel a sheep-stealing mystery.\",\n",
      "Liked Good Will Hunting (Genre: Drama) \"Good Will Hunting is a heartfelt drama about a troubled genius who finds redemption through therapy and friendship.\",\n",
      "Liked Toy Story 2 (Genre: Animation,Children's,Comedy) Toy Story 2 (1999) is a heartwarming and hilarious animated adventure that explores the value of friendship and the importance of embracing one's identity.,\n",
      "Liked Toy Story (Genre: Animation,Children's,Comedy) Toy Story is a groundbreaking animated film that brings toys to life, delivering heartwarming humor and adventure as Woody and Buzz navigate the world of childhood imagination.,\n",
      "Liked Grand Day Out, A (Genre: Animation,Comedy) \"Grand Day Out, A\" is a charming and whimsical animated short film about Wallace and Gromit's quest for cheese on the moon.,\n",
      "Liked Matrix, The (Genre: Action,Sci-Fi,Thriller) \"The Matrix (1999) is a mind-bending sci-fi thriller that revolutionized the genre with its groundbreaking visual effects and philosophical exploration of reality versus illusion.\",\n",
      "Liked Bug's Life, A (Genre: Animation,Children's,Comedy) A misfit ant named Flik recruits a group of circus bugs to save his colony from greedy grasshoppers in this animated adventure.,\n",
      "Liked As Good As It Gets (Genre: Comedy,Drama) \"As Good As It Gets\" is a heartwarming and witty romantic comedy that follows an unlikely trio as they navigate love, friendship, and personal growth.,\n",
      "Liked Chasing Amy (Genre: Drama,Romance) \"Chasing Amy (1997) is a thought-provoking romantic comedy that explores love, sexuality, and the complexities of relationships with honesty and humor.\",\n",
      "Liked Fight Club (Genre: Drama) \"Fight Club is a mind-bending, darkly humorous exploration of masculinity and consumerism, with an unforgettable twist that will leave you questioning reality.\",\n",
      "Liked Kolya (Genre: Comedy) \"Kolya\" is a heartwarming Czech film about an unlikely friendship between a middle-aged cellist and a young Russian boy during the political turmoil of 1989.,\n",
      "Liked Three Kings (Genre: Drama,War) \"Three Kings is a gripping war film set during the Gulf War, blending action, humor, and social commentary in a unique and thought-provoking way.\",\n",
      "Liked Truman Show, The (Genre: Drama) \"The Truman Show is a thought-provoking and captivating film that explores the boundaries of reality and the power of human curiosity.\",\n",
      "Liked Gattaca (Genre: Drama,Sci-Fi,Thriller) Gattaca is a thought-provoking sci-fi film set in a future where genetic engineering determines one's fate, following a man who defies his predetermined destiny.,\n",
      "Liked Star Trek: First Contact (Genre: Action,Adventure,Sci-Fi) \"Star Trek: First Contact (1996) is a thrilling and action-packed sci-fi adventure that explores the Borg threat and the crew's desperate mission to save humanity.\",\n",
      "    The user has watched the above movies chronologically in past. The given list of movies are the 20 most similar movies to the next movie -\n",
      "    Antz (Genre: Animation,Children's) Antz (1998) is a witty and entertaining animated film that explores themes of individuality, friendship, and the power of standing up for what you believe in..\n",
      "    Analyze all the information given in order. Do not use any information not mentioned above. Summarize the user's behavior from the given list of movies and identify the movie characteristics that he likes and dislikes.\n",
      "    \n",
      "    As an expert movie critic and recommender, provide the reasoning why the user will like or dislike Antz  by analyzing user behavior, movie watching history and explain your reasoning.\n",
      "    According to your reasoning, predict whether the user will like the movie or not. Finally answer with a Yes or No in the following format -\n",
      "    Prediction: Yes or No\n",
      "    \n",
      "****************************************************************************************************\n",
      "Based on the user's movie watching history, it is evident that the user has a strong preference for animated films, particularly stop-motion animation like \"Chicken Run,\" \"Wrong Trousers,\" and \"Wallace & Gromit.\" The user also enjoys animated movies that blend humor and adventure, as seen in \"Toy Story\" and \"Bug's Life.\" Additionally, the user has shown a liking for movies with themes of individuality, friendship, and standing up for what you believe in, as seen in \"Good Will Hunting\" and \"Three Kings.\"\n",
      "\n",
      "Given the user's preference for animated films, particularly those with humor and adventure, as well as their interest in movies with themes of friendship and standing up for beliefs, it is likely that the user will enjoy \"Antz.\" \"Antz\" is described as a witty and entertaining animated film that explores themes of individuality, friendship, and standing up for what you believe in, which aligns well with the user's preferences.\n",
      "\n",
      "Prediction: Yes\n"
     ]
    },
    {
     "data": {
      "text/plain": [
       "151"
      ]
     },
     "execution_count": 29,
     "metadata": {},
     "output_type": "execute_result"
    }
   ],
   "source": [
    "content = prompt\n",
    "print(crt_sem_valid_zeroshot_dataset[9])\n",
    "print('*'*100)\n",
    "response = client.chat.completions.create(\n",
    "  model=\"gpt-3.5-turbo\",\n",
    "  messages=[\n",
    "    {\n",
    "      \"role\": \"user\",\n",
    "      \"content\": crt_sem_valid_zeroshot_dataset[9]\n",
    "    }\n",
    "  ],\n",
    "  temperature=0.1,\n",
    "  max_tokens=1024,\n",
    "  top_p=0.9\n",
    ")\n",
    "\n",
    "\n",
    "response = response.choices[0].message.content\n",
    "print(response)\n",
    "len(response.split(' '))"
   ]
  },
  {
   "cell_type": "code",
   "execution_count": null,
   "id": "c920c05f-4c68-4208-86e0-7000aced1cc4",
   "metadata": {},
   "outputs": [],
   "source": []
  }
 ],
 "metadata": {
  "kernelspec": {
   "display_name": "Python 3 (ipykernel)",
   "language": "python",
   "name": "python3"
  },
  "language_info": {
   "codemirror_mode": {
    "name": "ipython",
    "version": 3
   },
   "file_extension": ".py",
   "mimetype": "text/x-python",
   "name": "python",
   "nbconvert_exporter": "python",
   "pygments_lexer": "ipython3",
   "version": "3.9.18"
  }
 },
 "nbformat": 4,
 "nbformat_minor": 5
}
