{
 "cells": [
  {
   "cell_type": "code",
   "execution_count": 1,
   "id": "1adf3328-1917-4107-8fe3-9fcbb462e279",
   "metadata": {},
   "outputs": [],
   "source": [
    "import pickle\n",
    "import pandas as pd\n",
    "import numpy as np\n",
    "import os\n",
    "import time\n",
    "from dotenv import load_dotenv"
   ]
  },
  {
   "cell_type": "code",
   "execution_count": 2,
   "id": "04979962-6a86-4099-90a2-235a2f4b6f87",
   "metadata": {},
   "outputs": [],
   "source": [
    "from openai import OpenAI\n",
    "load_dotenv()\n",
    "client = OpenAI(\n",
    "    # This is the default and can be omitted\n",
    "    api_key=os.environ.get(\"OPENAI_API_KEY\"),\n",
    ")"
   ]
  },
  {
   "cell_type": "code",
   "execution_count": 3,
   "id": "d1515bab-14ca-4967-8d5e-f4e686707515",
   "metadata": {},
   "outputs": [],
   "source": [
    "user_train_path = '../train_valid_test/user_train.pkl'\n",
    "user_valid_path = '../train_valid_test/user_valid.pkl'\n",
    "user_test_path = '../train_valid_test/user_test.pkl'"
   ]
  },
  {
   "cell_type": "code",
   "execution_count": 4,
   "id": "f850e468-bf69-4b6d-8c71-f41a2af5f28b",
   "metadata": {},
   "outputs": [],
   "source": [
    "with open(user_train_path, 'rb') as f:\n",
    "    user_train_dict = pickle.load(f)"
   ]
  },
  {
   "cell_type": "code",
   "execution_count": 5,
   "id": "e15cf520-ecd1-492f-b990-5142bb43e6fc",
   "metadata": {},
   "outputs": [],
   "source": [
    "with open(user_valid_path, 'rb') as f:\n",
    "    user_valid_dict = pickle.load(f)"
   ]
  },
  {
   "cell_type": "code",
   "execution_count": 6,
   "id": "94bcf5f5-32d0-486c-869f-3ae21010a2fe",
   "metadata": {},
   "outputs": [],
   "source": [
    "with open(user_test_path, 'rb') as f:\n",
    "    user_test_dict = pickle.load(f)"
   ]
  },
  {
   "cell_type": "code",
   "execution_count": 8,
   "id": "905ab5e3-51d4-415c-a2b0-baed7f18de98",
   "metadata": {},
   "outputs": [
    {
     "name": "stdout",
     "output_type": "stream",
     "text": [
      "6040 [1022, 1270, 919, 938, 2018, 1028, 661, 3114, 1029, 2321, 1197, 594, 1, 588, 2687, 595, 2294, 783, 2355, 1907]\n"
     ]
    }
   ],
   "source": [
    "with open('./sem_sim_dataset/sem_sim_valid.pkl', 'rb') as f:\n",
    "    user_sem_sim_valid_data = pickle.load(f)\n",
    "print(len(user_sem_sim_valid_data), user_sem_sim_valid_data[1])"
   ]
  },
  {
   "cell_type": "code",
   "execution_count": 9,
   "id": "bfeee13f-824e-4a59-8864-cadf3f8a10dc",
   "metadata": {},
   "outputs": [
    {
     "name": "stdout",
     "output_type": "stream",
     "text": [
      "6040 [1721, 1022, 919, 2018, 1028, 1246, 661, 531, 3114, 1029, 2321, 1197, 594, 1, 588, 2687, 595, 783, 1907, 1566]\n"
     ]
    }
   ],
   "source": [
    "with open('./sem_sim_dataset/sem_sim_test.pkl', 'rb') as f:\n",
    "    user_sem_sim_test_data = pickle.load(f)\n",
    "print(len(user_sem_sim_test_data), user_sem_sim_test_data[1])"
   ]
  },
  {
   "cell_type": "code",
   "execution_count": 10,
   "id": "4c94a8f0-eb62-45bd-ada1-434a72c0de03",
   "metadata": {},
   "outputs": [
    {
     "name": "stdout",
     "output_type": "stream",
     "text": [
      "[[1961, 2028, 3105, 938, 1962, 1035, 150, 2018, 1028, 1097, 914, 2797, 1287, 2762, 1246, 661, 2918, 531, 3114, 2791, 1029, 2321, 1197, 594, 2398, 1545, 527, 1, 588, 2687, 745, 595, 2294, 783, 2355, 1907]]\n",
      "[1566]\n",
      "[48]\n"
     ]
    }
   ],
   "source": [
    "user_id = 1\n",
    "print(user_train_dict[user_id])\n",
    "print(user_valid_dict[user_id])\n",
    "print(user_test_dict[user_id])"
   ]
  },
  {
   "cell_type": "code",
   "execution_count": 11,
   "id": "5670b298-3f28-421a-a2b8-beb607bb180b",
   "metadata": {},
   "outputs": [
    {
     "data": {
      "text/plain": [
       "36"
      ]
     },
     "execution_count": 11,
     "metadata": {},
     "output_type": "execute_result"
    }
   ],
   "source": [
    "len(user_train_dict[user_id][0])"
   ]
  },
  {
   "cell_type": "code",
   "execution_count": 12,
   "id": "f01e1dfe-82fe-456f-a99a-d471308b9447",
   "metadata": {},
   "outputs": [
    {
     "name": "stdout",
     "output_type": "stream",
     "text": [
      "\n",
      "            The user has a diverse taste in movies, with a preference for thought-provoking and emotionally engaging films. They enjoy dramas that explore complex themes such as mental illness, racial injustice, and the meaning of life. The user is drawn to movies that challenge their perspective and provoke deep thought, often favoring those that tackle serious and mature subjects.\n",
      "            \n",
      "            In addition to dramas, the user also has a soft spot for classic Disney films, as evidenced by their fondness for Cinderella. They appreciate the enchanting storytelling and timeless charm of these animated tales.\n",
      "            \n",
      "            The user's taste in movies also extends to comedies, as seen in their appreciation for the hilarious antics of Wallace & Gromit and the dark humor of Fargo. They are also drawn to adventure films, as demonstrated by their love for Star Wars: Episode IV - A New Hope and Back to the Future.\n",
      "            \n",
      "            However, the user is not a fan of horror movies, as none are listed among their favorites. They also tend to avoid movies that are overly violent or graphic, preferring instead to focus on stories that are emotionally resonant and intellectually stimulating.\n",
      "            \n",
      "            Overall, the user's movie preferences reflect a deep appreciation for storytelling, character development, and thematic depth.\n"
     ]
    }
   ],
   "source": [
    "user_profile_path = '../user_profile/cleaned_user_profile_mixtral.pkl'\n",
    "with open(user_profile_path, 'rb') as f:\n",
    "    user_profile_dict = pickle.load(f)\n",
    "print(user_profile_dict[user_id])"
   ]
  },
  {
   "cell_type": "code",
   "execution_count": 13,
   "id": "35e60e15-35e4-456d-aef3-dc9a96f91d08",
   "metadata": {},
   "outputs": [
    {
     "data": {
      "text/html": [
       "<div>\n",
       "<style scoped>\n",
       "    .dataframe tbody tr th:only-of-type {\n",
       "        vertical-align: middle;\n",
       "    }\n",
       "\n",
       "    .dataframe tbody tr th {\n",
       "        vertical-align: top;\n",
       "    }\n",
       "\n",
       "    .dataframe thead th {\n",
       "        text-align: right;\n",
       "    }\n",
       "</style>\n",
       "<table border=\"1\" class=\"dataframe\">\n",
       "  <thead>\n",
       "    <tr style=\"text-align: right;\">\n",
       "      <th></th>\n",
       "      <th>movie_id</th>\n",
       "      <th>name</th>\n",
       "      <th>cleaned_genre</th>\n",
       "      <th>year</th>\n",
       "      <th>summary</th>\n",
       "    </tr>\n",
       "  </thead>\n",
       "  <tbody>\n",
       "    <tr>\n",
       "      <th>0</th>\n",
       "      <td>1</td>\n",
       "      <td>Toy Story</td>\n",
       "      <td>Animation,Children's,Comedy</td>\n",
       "      <td>1995</td>\n",
       "      <td>Toy Story is a groundbreaking animated film th...</td>\n",
       "    </tr>\n",
       "    <tr>\n",
       "      <th>1</th>\n",
       "      <td>2</td>\n",
       "      <td>Jumanji</td>\n",
       "      <td>Adventure,Children's,Fantasy</td>\n",
       "      <td>1995</td>\n",
       "      <td>\"Jumanji (1995) is a thrilling adventure film ...</td>\n",
       "    </tr>\n",
       "    <tr>\n",
       "      <th>2</th>\n",
       "      <td>3</td>\n",
       "      <td>Grumpier Old Men</td>\n",
       "      <td>Comedy,Romance</td>\n",
       "      <td>1995</td>\n",
       "      <td>\"Grumpier Old Men is a hilarious and heartwarm...</td>\n",
       "    </tr>\n",
       "    <tr>\n",
       "      <th>3</th>\n",
       "      <td>4</td>\n",
       "      <td>Waiting to Exhale</td>\n",
       "      <td>Comedy,Drama</td>\n",
       "      <td>1995</td>\n",
       "      <td>\"Waiting to Exhale\" (1995) is a heartfelt dram...</td>\n",
       "    </tr>\n",
       "    <tr>\n",
       "      <th>4</th>\n",
       "      <td>5</td>\n",
       "      <td>Father of the Bride Part II</td>\n",
       "      <td>Comedy</td>\n",
       "      <td>1995</td>\n",
       "      <td>Father of the Bride Part II (1995) is a heartw...</td>\n",
       "    </tr>\n",
       "  </tbody>\n",
       "</table>\n",
       "</div>"
      ],
      "text/plain": [
       "   movie_id                          name                 cleaned_genre  year  \\\n",
       "0         1                    Toy Story    Animation,Children's,Comedy  1995   \n",
       "1         2                      Jumanji   Adventure,Children's,Fantasy  1995   \n",
       "2         3             Grumpier Old Men                 Comedy,Romance  1995   \n",
       "3         4            Waiting to Exhale                   Comedy,Drama  1995   \n",
       "4         5  Father of the Bride Part II                         Comedy  1995   \n",
       "\n",
       "                                             summary  \n",
       "0  Toy Story is a groundbreaking animated film th...  \n",
       "1  \"Jumanji (1995) is a thrilling adventure film ...  \n",
       "2  \"Grumpier Old Men is a hilarious and heartwarm...  \n",
       "3  \"Waiting to Exhale\" (1995) is a heartfelt dram...  \n",
       "4  Father of the Bride Part II (1995) is a heartw...  "
      ]
     },
     "execution_count": 13,
     "metadata": {},
     "output_type": "execute_result"
    }
   ],
   "source": [
    "movie_summary_df = pd.read_csv('../movie_summary_25_words.csv')\n",
    "movie_summary_df.head()"
   ]
  },
  {
   "cell_type": "code",
   "execution_count": 14,
   "id": "a89db52d-5068-4c5e-8ffe-9634e31e7c88",
   "metadata": {},
   "outputs": [
    {
     "name": "stdout",
     "output_type": "stream",
     "text": [
      "     movie_id                                               name  \\\n",
      "262       265  Like Water for Chocolate (Como agua para choco...   \n",
      "\n",
      "     cleaned_genre  year                                            summary  \n",
      "262  Drama,Romance  1992  \"Like Water for Chocolate is a visually stunni...  \n"
     ]
    }
   ],
   "source": [
    "print(movie_summary_df[movie_summary_df['movie_id'] == 265])"
   ]
  },
  {
   "cell_type": "code",
   "execution_count": 15,
   "id": "a69d1d49-deac-473c-b2e8-eab752a23fbf",
   "metadata": {},
   "outputs": [
    {
     "data": {
      "text/html": [
       "<div>\n",
       "<style scoped>\n",
       "    .dataframe tbody tr th:only-of-type {\n",
       "        vertical-align: middle;\n",
       "    }\n",
       "\n",
       "    .dataframe tbody tr th {\n",
       "        vertical-align: top;\n",
       "    }\n",
       "\n",
       "    .dataframe thead th {\n",
       "        text-align: right;\n",
       "    }\n",
       "</style>\n",
       "<table border=\"1\" class=\"dataframe\">\n",
       "  <thead>\n",
       "    <tr style=\"text-align: right;\">\n",
       "      <th></th>\n",
       "      <th>user_id</th>\n",
       "      <th>user_profile</th>\n",
       "    </tr>\n",
       "  </thead>\n",
       "  <tbody>\n",
       "    <tr>\n",
       "      <th>0</th>\n",
       "      <td>1</td>\n",
       "      <td>female k-12 student under 18 years of age</td>\n",
       "    </tr>\n",
       "    <tr>\n",
       "      <th>1</th>\n",
       "      <td>2</td>\n",
       "      <td>male self-employed above 56 years of age</td>\n",
       "    </tr>\n",
       "    <tr>\n",
       "      <th>2</th>\n",
       "      <td>3</td>\n",
       "      <td>male scientist between 25 to 34 years of age</td>\n",
       "    </tr>\n",
       "    <tr>\n",
       "      <th>3</th>\n",
       "      <td>4</td>\n",
       "      <td>male executive/managerial between 45 to 49 yea...</td>\n",
       "    </tr>\n",
       "    <tr>\n",
       "      <th>4</th>\n",
       "      <td>5</td>\n",
       "      <td>male writer between 25 to 34 years of age</td>\n",
       "    </tr>\n",
       "  </tbody>\n",
       "</table>\n",
       "</div>"
      ],
      "text/plain": [
       "   user_id                                       user_profile\n",
       "0        1          female k-12 student under 18 years of age\n",
       "1        2           male self-employed above 56 years of age\n",
       "2        3       male scientist between 25 to 34 years of age\n",
       "3        4  male executive/managerial between 45 to 49 yea...\n",
       "4        5          male writer between 25 to 34 years of age"
      ]
     },
     "execution_count": 15,
     "metadata": {},
     "output_type": "execute_result"
    }
   ],
   "source": [
    "user_df = pd.read_csv('../users.csv')\n",
    "user_df.head()"
   ]
  },
  {
   "cell_type": "code",
   "execution_count": 16,
   "id": "b90be7ee-0d13-4180-b3f6-351ce3e0bf59",
   "metadata": {},
   "outputs": [
    {
     "data": {
      "text/html": [
       "<div>\n",
       "<style scoped>\n",
       "    .dataframe tbody tr th:only-of-type {\n",
       "        vertical-align: middle;\n",
       "    }\n",
       "\n",
       "    .dataframe tbody tr th {\n",
       "        vertical-align: top;\n",
       "    }\n",
       "\n",
       "    .dataframe thead th {\n",
       "        text-align: right;\n",
       "    }\n",
       "</style>\n",
       "<table border=\"1\" class=\"dataframe\">\n",
       "  <thead>\n",
       "    <tr style=\"text-align: right;\">\n",
       "      <th></th>\n",
       "      <th>user_id</th>\n",
       "      <th>movie_id</th>\n",
       "      <th>rating</th>\n",
       "    </tr>\n",
       "  </thead>\n",
       "  <tbody>\n",
       "    <tr>\n",
       "      <th>0</th>\n",
       "      <td>1</td>\n",
       "      <td>3186</td>\n",
       "      <td>4</td>\n",
       "    </tr>\n",
       "    <tr>\n",
       "      <th>1</th>\n",
       "      <td>1</td>\n",
       "      <td>1721</td>\n",
       "      <td>4</td>\n",
       "    </tr>\n",
       "    <tr>\n",
       "      <th>2</th>\n",
       "      <td>1</td>\n",
       "      <td>1022</td>\n",
       "      <td>5</td>\n",
       "    </tr>\n",
       "    <tr>\n",
       "      <th>3</th>\n",
       "      <td>1</td>\n",
       "      <td>1270</td>\n",
       "      <td>5</td>\n",
       "    </tr>\n",
       "    <tr>\n",
       "      <th>4</th>\n",
       "      <td>1</td>\n",
       "      <td>2340</td>\n",
       "      <td>3</td>\n",
       "    </tr>\n",
       "  </tbody>\n",
       "</table>\n",
       "</div>"
      ],
      "text/plain": [
       "   user_id  movie_id  rating\n",
       "0        1      3186       4\n",
       "1        1      1721       4\n",
       "2        1      1022       5\n",
       "3        1      1270       5\n",
       "4        1      2340       3"
      ]
     },
     "execution_count": 16,
     "metadata": {},
     "output_type": "execute_result"
    }
   ],
   "source": [
    "ratings_df = pd.read_csv('../ratings.csv')\n",
    "ratings_df.head()"
   ]
  },
  {
   "cell_type": "code",
   "execution_count": 18,
   "id": "e931275e-9417-4bc3-9f9d-ee7110b18c16",
   "metadata": {},
   "outputs": [],
   "source": [
    "crt_sem_valid_zeroshot_dataset = dict()\n",
    "cnt = 0\n",
    "for user, user_profile in user_profile_dict.items():\n",
    "    # if cnt < 2:\n",
    "    #     cnt += 1\n",
    "    #     continue\n",
    "    cnt += 1\n",
    "    # print(f\"User: {user}\")\n",
    "    prompt = \"\"\"\n",
    "    You are an expert movie critic. You are provided with the user profile and list of movies the user has watched and whether the user likes it or not.\n",
    "    User Profile -\n",
    "    \"\"\"\n",
    "    ### Create the user profile\n",
    "    final_user_profile = \"The user is a \"+user_df[user_df['user_id'] == user]['user_profile'].values[0]+user_profile+\"\\n\"\n",
    "    # print(final_user_profile)\n",
    "    prompt += final_user_profile\n",
    "    \n",
    "    prompt += \"\"\"\n",
    "   User watched the following movies in the given order. List of movies and their description -\n",
    "    \"\"\"\n",
    "    # print(prompt)\n",
    "    ### Create the like/dislike list of last 20 movies\n",
    "    # print(user_train_dict[user][0][-20:])\n",
    "    user_rating_dict = ratings_df[ratings_df['user_id'] == user]\n",
    "    # print(user_rating_dict)\n",
    "    liked_movies = []\n",
    "    disliked_movies = []\n",
    "    # train_valid_movie_list = user_train_dict[user][0][-19:]\n",
    "    # train_valid_movie_list.append(user_valid_dict[user][0])\n",
    "    for movie in user_sem_sim_test_data[user]:\n",
    "        # print(movie)\n",
    "        user_movie_rating = user_rating_dict[user_rating_dict['movie_id'] == movie]['rating'].values[0]\n",
    "        # print(movie, user_movie_rating)\n",
    "        movie_details = movie_summary_df[movie_summary_df['movie_id'] == movie]\n",
    "        if user_movie_rating >= 3:\n",
    "            if movie != user_valid_dict[user][0]:\n",
    "                prompt += \"\\nLiked \" + movie_details['name'].values[0] + \"(Genre: \" + movie_details['cleaned_genre'].values[0] + \") \" + movie_details['summary'].values[0] + \",\"\n",
    "            else:\n",
    "                ### For the last movie - ending with a . and starting new line\n",
    "                prompt += \"\\nLiked \" + movie_details['name'].values[0] + \"(Genre: \" + movie_details['cleaned_genre'].values[0] + \") \" +  movie_details['summary'].values[0] + \"\\n\"\n",
    "        else:\n",
    "            if movie != user_valid_dict[user][0]:\n",
    "                prompt += \"\\nDisliked \" + movie_details['name'].values[0] + \"(Genre: \" + movie_details['cleaned_genre'].values[0] + \") \" +  movie_details['summary'].values[0] + \",\"\n",
    "            else:\n",
    "                ### For the last movie - ending with a . and starting new line\n",
    "                prompt += \"\\nDisliked \" + movie_details['name'].values[0] + \"(Genre: \" + movie_details['cleaned_genre'].values[0] + \") \" +  movie_details['summary'].values[0] + \"\\n\"\n",
    "\n",
    "    ### To predict\n",
    "    # print(user_valid_dict[user][0])\n",
    "    movie_details = movie_summary_df[movie_summary_df['movie_id'] == user_test_dict[user][0]]\n",
    "    prompt += f\"\"\"\n",
    "    The user has watched the above movies chronologically in past. The given list of movies are the 20 most similar movies to the next movie -\n",
    "    {movie_details['name'].values[0] + \"(Genre: \" + movie_details['cleaned_genre'].values[0] + \") \" +  movie_details['summary'].values[0]}.\n",
    "    Analyze all the information given in order. Do not use any information not mentioned above. Summarize the user's behavior from the given list of movies and identify the movie characteristics that he likes and dislikes.\n",
    "    \"\"\"\n",
    "    # print(\"Test Movie Rating:\", user_rating_dict[user_rating_dict['movie_id'] == user_valid_dict[user][0]]['rating'].values[0])\n",
    "    # prompt += movie_details['name'].values[0] + \"(Genre: \" + movie_details['cleaned_genre'].values[0] + \") \" +  movie_details['summary'].values[0]\n",
    "    prompt += f\"\"\"\n",
    "    As an expert movie critic and recommender, provide the reasoning why the user will like or dislike {movie_details['name'].values[0]} by analyzing user behavior, movie watching history and explain your reasoning.\n",
    "    According to your reasoning, predict whether the user will like the movie or not. Finally answer with a Yes or No in the following format -\n",
    "    Prediction: Yes or No\n",
    "    \"\"\"\n",
    "    # print(f\"Prompt length: {len(prompt.split())}\", prompt)\n",
    "    crt_sem_valid_zeroshot_dataset[user] = prompt\n",
    "    # break"
   ]
  },
  {
   "cell_type": "code",
   "execution_count": 19,
   "id": "1cace0cf-ef70-4a92-b4b0-c5511b411c95",
   "metadata": {},
   "outputs": [
    {
     "name": "stdout",
     "output_type": "stream",
     "text": [
      "6040\n"
     ]
    }
   ],
   "source": [
    "print(len(crt_sem_valid_zeroshot_dataset))"
   ]
  },
  {
   "cell_type": "code",
   "execution_count": 20,
   "id": "1778ac75-a508-471d-a340-1bf2ca70d29c",
   "metadata": {},
   "outputs": [
    {
     "data": {
      "text/plain": [
       "'\\n    You are an expert movie critic. You are provided with the user profile and list of movies the user has watched and whether the user likes it or not.\\n    User Profile -\\n    The user is a female academic/educator between 35 to 44 years of age\\n            The user has a diverse taste in movies, with a preference for complex and thought-provoking films. They enjoy movies that push the boundaries of sanity and freedom, as seen in \"One Flew Over the Cuckoo\\'s Nest,\" and morally ambiguous characters, as depicted in \"Miller\\'s Crossing.\" The user is drawn to political dramas, as evidenced by their interest in \"The Candidate,\" and adventure films like \"Raiders of the Lost Ark.\"\\n            The user also has a soft spot for movies that explore the human condition, such as \"Butterfly (La Lengua de las Mariposas),\" which delves into the bond between a young boy and his teacher during the Spanish Civil War. They are also interested in movies that intertwine past and present, as seen in \"Dead Again,\" and movies that explore corruption and scandal, as in \"L.A. Confidential.\"\\n            On the other hand, the user is not a fan of mind-bending psychological thrillers, as evidenced by their dislike of \"Jacob\\'s Ladder.\" They also tend to avoid comedies, as seen by their dislike of \"A Very Brady Sequel.\"\\n            Overall, the user is drawn to complex and thought-provoking films that explore the human condition, with a preference for movies that push the boundaries of reality and morality.\\n\\n   User watched the following movies in the given order. List of movies and their description -\\n    \\nLiked Get Shorty (Genre: Action,Comedy,Drama) \"Get Shorty\" is a witty crime-comedy film about a mobster turned Hollywood producer, blending humor and suspense with stellar performances from its cast.,\\nLiked Lethal Weapon 4 (Genre: Action,Comedy,Crime,Drama) Lethal Weapon 4 is an action-packed buddy cop film that delivers explosive thrills, witty banter, and a satisfying conclusion to the iconic franchise.,\\nLiked Lethal Weapon 3 (Genre: Action,Comedy,Crime,Drama) Lethal Weapon 3 (1992) is an action-packed buddy cop film that follows the explosive partnership of Riggs and Murtaugh as they take on a deadly arms dealer.,\\nLiked Out of Sight (Genre: Action,Crime,Romance) \"Out of Sight (1998) is a stylish and captivating crime-comedy that combines sharp dialogue, sizzling chemistry, and clever storytelling.\",\\nLiked Desperado (Genre: Action,Romance,Thriller) \"Desperado (1995) is a thrilling action-packed film directed by Robert Rodriguez, featuring Antonio Banderas as a guitar-playing gunslinger seeking revenge in Mexico.\",\\nLiked Thelma & Louise (Genre: Action,Drama) Thelma & Louise (1991) is a thrilling road trip film about two women on the run, challenging societal norms and embracing freedom.,\\nLiked In the Line of Fire (Genre: Action,Thriller) In the Line of Fire (1993) is a gripping thriller that follows a Secret Service agent\\'s pursuit of a cunning assassin targeting the President.,\\nLiked Patriot Games (Genre: Action,Thriller) \"Patriot Games is a thrilling political action film that follows a former CIA analyst as he becomes entangled in a deadly game of revenge and terrorism.\",\\nLiked Face/Off (Genre: Action,Sci-Fi,Thriller) \"Face/Off (1997) is a thrilling action film where two sworn enemies, played by John Travolta and Nicolas Cage, swap faces to assume each other\\'s identities.\",\\nLiked Long Kiss Goodnight, The (Genre: Action,Thriller) \"Long Kiss Goodnight is a thrilling action film from 1996, featuring Geena Davis as an amnesiac assassin who uncovers her deadly past.\",\\nLiked Rock, The (Genre: Action,Adventure,Thriller) A thrilling action film starring Sean Connery and Nicolas Cage, where a former British spy and an FBI chemical weapons specialist team up to stop a deadly threat.,\\nLiked True Lies (Genre: Action,Adventure,Comedy,Romance) \"True Lies (1994) is a thrilling action-comedy that combines explosive stunts, clever humor, and charismatic performances to deliver an entertaining espionage adventure.\",\\nLiked Thomas Crown Affair, The (Genre: Action,Thriller) A stylish and thrilling heist film where a wealthy businessman orchestrates a series of art thefts, leading to a cat-and-mouse game with an intelligent investigator.,\\nDisliked Twister (Genre: Action,Adventure,Romance,Thriller) \"Twister (1996) is a thrilling disaster film that follows storm chasers as they pursue tornadoes, delivering intense action and impressive visual effects.\",\\nDisliked Air Force One (Genre: Action,Thriller) \"Air Force One (1997) is a thrilling action film where the President of the United States fights terrorists aboard his own plane.\",\\nLiked Replacement Killers, The (Genre: Action,Thriller) \"Replacement Killers (1998) is a high-octane action film about a hitman and a forger teaming up to outsmart their ruthless enemies.\",\\nLiked U.S. Marshalls (Genre: Action,Thriller) \"U.S. Marshals (1998) is a thrilling action film that follows a team of marshals as they hunt down a fugitive while uncovering a conspiracy.\",\\nDisliked Hot Shots! Part Deux (Genre: Action,Comedy,War) Hot Shots! Part Deux is a hilarious and over-the-top parody of action movies, filled with slapstick humor and clever spoofs.,\\nLiked Cliffhanger (Genre: Action,Adventure,Crime) \"Cliffhanger (1993) is a thrilling action film set in the Rocky Mountains, where a mountain climber must rescue hostages from dangerous criminals.\",\\nLiked Air America (Genre: Action,Comedy) \"Air America is an action-comedy film set during the Vietnam War, following two pilots who work for a covert CIA airline.\",\\n    The user has watched the above movies chronologically in past. The given list of movies are the 20 most similar movies to the next movie -\\n    Bird on a Wire (Genre: Action,Adventure,Romance,Thriller) Bird on a Wire (1990) is an action-comedy film starring Mel Gibson and Goldie Hawn as former lovers on the run from dangerous criminals..\\n    Analyze all the information given in order. Do not use any information not mentioned above. Summarize the user\\'s behavior from the given list of movies and identify the movie characteristics that he likes and dislikes.\\n    \\n    As an expert movie critic and recommender, provide the reasoning why the user will like or dislike Bird on a Wire  by analyzing user behavior, movie watching history and explain your reasoning.\\n    According to your reasoning, predict whether the user will like the movie or not. Finally answer with a Yes or No in the following format -\\n    Prediction: Yes or No\\n    '"
      ]
     },
     "execution_count": 20,
     "metadata": {},
     "output_type": "execute_result"
    }
   ],
   "source": [
    "crt_sem_valid_zeroshot_dataset[3246]"
   ]
  },
  {
   "cell_type": "code",
   "execution_count": 21,
   "id": "3796708a-deaa-4ee9-aaba-0ef996c7a5f8",
   "metadata": {},
   "outputs": [],
   "source": [
    "crt_sem_valid_zeroshot_dataset_path = './sem_sim_dataset/sem_ctr_test_zeroshot_dataset.pkl'\n",
    "with open(crt_sem_valid_zeroshot_dataset_path, 'wb') as f:\n",
    "    pickle.dump(crt_sem_valid_zeroshot_dataset, f)\n",
    "    f.close()"
   ]
  },
  {
   "cell_type": "code",
   "execution_count": 37,
   "id": "3d04813f-70a9-44ef-a637-809c0d5f43c1",
   "metadata": {},
   "outputs": [],
   "source": [
    "# with open(crt_valid_zeroshot_dataset_path, 'rb') as f:\n",
    "#     crt_valid_zeroshot_dataset_temp = pickle.load(f)\n",
    "# print(len(crt_valid_zeroshot_dataset_temp), crt_valid_zeroshot_dataset_temp[1])"
   ]
  },
  {
   "cell_type": "code",
   "execution_count": 25,
   "id": "b304d4d8-8f0f-4650-9260-c0864bb95eef",
   "metadata": {},
   "outputs": [
    {
     "name": "stdout",
     "output_type": "stream",
     "text": [
      "\n",
      "    You are an expert movie critic. You are provided with the user profile and list of movies the user has watched and whether the user likes it or not.\n",
      "    User Profile -\n",
      "    The user is a female k-12 student under 18 years of age\n",
      "            The user has a diverse taste in movies, with a preference for thought-provoking and emotionally engaging films. They enjoy dramas that explore complex themes such as mental illness, racial injustice, and the meaning of life. The user is drawn to movies that challenge their perspective and provoke deep thought, often favoring those that tackle serious and mature subjects.\n",
      "            \n",
      "            In addition to dramas, the user also has a soft spot for classic Disney films, as evidenced by their fondness for Cinderella. They appreciate the enchanting storytelling and timeless charm of these animated tales.\n",
      "            \n",
      "            The user's taste in movies also extends to comedies, as seen in their appreciation for the hilarious antics of Wallace & Gromit and the dark humor of Fargo. They are also drawn to adventure films, as demonstrated by their love for Star Wars: Episode IV - A New Hope and Back to the Future.\n",
      "            \n",
      "            However, the user is not a fan of horror movies, as none are listed among their favorites. They also tend to avoid movies that are overly violent or graphic, preferring instead to focus on stories that are emotionally resonant and intellectually stimulating.\n",
      "            \n",
      "            Overall, the user's movie preferences reflect a deep appreciation for storytelling, character development, and thematic depth.\n",
      "\n",
      "   User watched the following movies in the given order. List of movies and their description -\n",
      "    \n",
      "Liked Titanic (Genre: Drama,Romance) Titanic (1997) is a sweeping epic that intertwines a tragic love story with the sinking of the iconic ship, showcasing breathtaking visuals and emotional performances.,\n",
      "Liked Cinderella (Genre: Animation,Children's,Musical) Cinderella (1950) is a timeless Disney classic that tells the enchanting story of a kind-hearted girl who overcomes adversity with the help of her fairy godmother.,\n",
      "Liked Wizard of Oz, The (Genre: Adventure,Children's,Drama,Musical) The Wizard of Oz is a timeless classic that takes viewers on a magical journey through a vibrant and enchanting land filled with memorable characters and iconic songs.,\n",
      "Liked Bambi (Genre: Animation,Children's) \"Bambi, a heartwarming animated classic from Disney, follows the journey of a young deer as he navigates life's joys and tragedies in the forest.\",\n",
      "Liked Mary Poppins (Genre: Children's,Comedy,Musical) \"Mary Poppins is a magical and whimsical musical that follows the adventures of a nanny who brings joy and wonder to a troubled family.\",\n",
      "Liked Dead Poets Society (Genre: Drama) \"Dead Poets Society is a powerful and inspiring drama that explores the transformative impact of an unconventional English teacher on his students' lives.\",\n",
      "Liked James and the Giant Peach (Genre: Animation,Children's,Musical) \"James and the Giant Peach (1996) is a whimsical and visually stunning adaptation of Roald Dahl's beloved children's book, filled with adventure, friendship, and magic.\",\n",
      "Liked Secret Garden, The (Genre: Children's,Drama) \"Secret Garden (1993) is a heartwarming adaptation of the classic children's novel, filled with enchanting visuals and a touching story of friendship and healing.\",\n",
      "Liked Toy Story 2 (Genre: Animation,Children's,Comedy) Toy Story 2 (1999) is a heartwarming and hilarious animated adventure that explores the value of friendship and the importance of embracing one's identity.,\n",
      "Liked Dumbo (Genre: Animation,Children's,Musical) \"Dumbo, a heartwarming Disney classic, tells the story of a lovable elephant with big ears who discovers his unique talent and finds his place in the world.\",\n",
      "Liked Pleasantville (Genre: Comedy) \"Pleasantville is a thought-provoking and visually stunning film that explores the power of change and individuality in a black-and-white 1950s sitcom world.\",\n",
      "Liked Princess Bride, The (Genre: Action,Adventure,Comedy,Romance) \"The Princess Bride is a timeless romantic adventure filled with humor, sword fights, and true love that captivates audiences of all ages.\",\n",
      "Liked Snow White and the Seven Dwarfs (Genre: Animation,Children's,Musical) Snow White and the Seven Dwarfs is a timeless classic that brings enchantment to life with its charming characters, beautiful animation, and unforgettable songs.,\n",
      "Liked Toy Story (Genre: Animation,Children's,Comedy) Toy Story is a groundbreaking animated film that brings toys to life, delivering heartwarming humor and adventure as Woody and Buzz navigate the world of childhood imagination.,\n",
      "Liked Aladdin (Genre: Animation,Children's,Comedy,Musical) \"Aladdin is a magical and enchanting animated film that takes viewers on a thrilling adventure filled with humor, romance, and unforgettable songs.\",\n",
      "Liked Tarzan (Genre: Animation,Children's) Tarzan (1999) is a visually stunning and heartfelt Disney animated film that brings the classic tale to life with memorable characters and an enchanting soundtrack.,\n",
      "Liked Beauty and the Beast (Genre: Animation,Children's,Musical) \"Beauty and the Beast (1991) is a timeless Disney classic that enchants with its captivating story, stunning animation, and unforgettable music.\",\n",
      "Liked Hunchback of Notre Dame, The (Genre: Animation,Children's,Musical) The Hunchback of Notre Dame (1996) is a visually stunning and emotionally powerful Disney animated film that explores themes of love, acceptance, and the power of inner beauty.,\n",
      "Liked Mulan (Genre: Animation,Children's) Mulan is a captivating animated film that tells the empowering story of a young Chinese woman who disguises herself as a man to fight in the army.,\n",
      "Liked Hercules (Genre: Adventure,Animation,Children's,Comedy,Musical) Disney's Hercules is a fun and vibrant animated film that puts a modern twist on the classic Greek myth, with catchy songs and memorable characters.\n",
      "\n",
      "    The user has watched the above movies chronologically in past. The given list of movies are the 20 most similar movies to the next movie -\n",
      "    Pocahontas (Genre: Animation,Children's,Musical,Romance) \"Pocahontas\" (1995) is a visually stunning Disney animated film that tells a fictionalized tale of love and understanding between a Native American princess and an English explorer..\n",
      "    Analyze all the information given in order. Do not use any information not mentioned above. Summarize the user's behavior from the given list of movies and identify the movie characteristics that he likes and dislikes.\n",
      "    \n",
      "    As an expert movie critic and recommender, provide the reasoning why the user will like or dislike Pocahontas  by analyzing user behavior, movie watching history and explain your reasoning.\n",
      "    According to your reasoning, predict whether the user will like the movie or not. Finally answer with a Yes or No in the following format -\n",
      "    Prediction: Yes or No\n",
      "    \n",
      "****************************************************************************************************\n",
      "Based on the user's movie watching history, it is evident that the user enjoys animated films, particularly Disney classics, with themes of empowerment, friendship, and self-discovery. The user also appreciates visually stunning movies with heartwarming stories and memorable characters. Additionally, the user has a preference for movies that explore themes of love, acceptance, and the power of inner beauty.\n",
      "\n",
      "Given that \"Pocahontas\" is a visually stunning Disney animated film that tells a tale of love and understanding, it aligns well with the user's preferences. The movie's themes of love and cultural understanding, along with its enchanting storytelling and memorable characters, are likely to resonate with the user based on their past movie choices.\n",
      "\n",
      "Prediction: Yes\n"
     ]
    },
    {
     "data": {
      "text/plain": [
       "113"
      ]
     },
     "execution_count": 25,
     "metadata": {},
     "output_type": "execute_result"
    }
   ],
   "source": [
    "content = prompt\n",
    "print(crt_sem_valid_zeroshot_dataset[1])\n",
    "print('*'*100)\n",
    "response = client.chat.completions.create(\n",
    "  model=\"gpt-3.5-turbo\",\n",
    "  messages=[\n",
    "    {\n",
    "      \"role\": \"user\",\n",
    "      \"content\": crt_sem_valid_zeroshot_dataset[1]\n",
    "    }\n",
    "  ],\n",
    "  temperature=0.1,\n",
    "  max_tokens=1024,\n",
    "  top_p=0.9\n",
    ")\n",
    "\n",
    "response = response.choices[0].message.content\n",
    "print(response)\n",
    "len(response.split(' '))"
   ]
  },
  {
   "cell_type": "code",
   "execution_count": null,
   "id": "c920c05f-4c68-4208-86e0-7000aced1cc4",
   "metadata": {},
   "outputs": [],
   "source": []
  }
 ],
 "metadata": {
  "kernelspec": {
   "display_name": "Python 3 (ipykernel)",
   "language": "python",
   "name": "python3"
  },
  "language_info": {
   "codemirror_mode": {
    "name": "ipython",
    "version": 3
   },
   "file_extension": ".py",
   "mimetype": "text/x-python",
   "name": "python",
   "nbconvert_exporter": "python",
   "pygments_lexer": "ipython3",
   "version": "3.9.18"
  }
 },
 "nbformat": 4,
 "nbformat_minor": 5
}
