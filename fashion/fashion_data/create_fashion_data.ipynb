{
 "cells": [
  {
   "cell_type": "code",
   "execution_count": 1,
   "id": "951ae561-5ec6-4f0f-923a-f8acf34b82f5",
   "metadata": {},
   "outputs": [],
   "source": [
    "import pandas as pd\n",
    "import numpy as np\n",
    "import os\n",
    "import json\n",
    "import pickle\n",
    "from collections import defaultdict\n",
    "from datetime import datetime\n",
    "import openai\n",
    "import requests\n",
    "from tenacity import retry, wait_random_exponential, stop_after_attempt\n",
    "from termcolor import colored"
   ]
  },
  {
   "cell_type": "code",
   "execution_count": 2,
   "id": "76d57b98-03ce-45a7-a2ed-c98c626919f7",
   "metadata": {},
   "outputs": [],
   "source": [
    "rating_path = './Fashion/AMAZON_FASHION.csv'"
   ]
  },
  {
   "cell_type": "code",
   "execution_count": 3,
   "id": "2f000e5c-8b36-4fc0-96a0-fca7cbbf1b3f",
   "metadata": {},
   "outputs": [
    {
     "name": "stdout",
     "output_type": "stream",
     "text": [
      "(883636, 4)\n"
     ]
    },
    {
     "data": {
      "text/html": [
       "<div>\n",
       "<style scoped>\n",
       "    .dataframe tbody tr th:only-of-type {\n",
       "        vertical-align: middle;\n",
       "    }\n",
       "\n",
       "    .dataframe tbody tr th {\n",
       "        vertical-align: top;\n",
       "    }\n",
       "\n",
       "    .dataframe thead th {\n",
       "        text-align: right;\n",
       "    }\n",
       "</style>\n",
       "<table border=\"1\" class=\"dataframe\">\n",
       "  <thead>\n",
       "    <tr style=\"text-align: right;\">\n",
       "      <th></th>\n",
       "      <th>item</th>\n",
       "      <th>user</th>\n",
       "      <th>rating</th>\n",
       "      <th>timestamp</th>\n",
       "    </tr>\n",
       "  </thead>\n",
       "  <tbody>\n",
       "    <tr>\n",
       "      <th>0</th>\n",
       "      <td>7106116521</td>\n",
       "      <td>A1D4G1SNUZWQOT</td>\n",
       "      <td>5.0</td>\n",
       "      <td>1413763200</td>\n",
       "    </tr>\n",
       "    <tr>\n",
       "      <th>1</th>\n",
       "      <td>7106116521</td>\n",
       "      <td>A3DDWDH9PX2YX2</td>\n",
       "      <td>2.0</td>\n",
       "      <td>1411862400</td>\n",
       "    </tr>\n",
       "    <tr>\n",
       "      <th>2</th>\n",
       "      <td>7106116521</td>\n",
       "      <td>A2MWC41EW7XL15</td>\n",
       "      <td>4.0</td>\n",
       "      <td>1408924800</td>\n",
       "    </tr>\n",
       "    <tr>\n",
       "      <th>3</th>\n",
       "      <td>7106116521</td>\n",
       "      <td>A2UH2QQ275NV45</td>\n",
       "      <td>2.0</td>\n",
       "      <td>1408838400</td>\n",
       "    </tr>\n",
       "    <tr>\n",
       "      <th>4</th>\n",
       "      <td>7106116521</td>\n",
       "      <td>A89F3LQADZBS5</td>\n",
       "      <td>3.0</td>\n",
       "      <td>1406419200</td>\n",
       "    </tr>\n",
       "  </tbody>\n",
       "</table>\n",
       "</div>"
      ],
      "text/plain": [
       "         item            user  rating   timestamp\n",
       "0  7106116521  A1D4G1SNUZWQOT     5.0  1413763200\n",
       "1  7106116521  A3DDWDH9PX2YX2     2.0  1411862400\n",
       "2  7106116521  A2MWC41EW7XL15     4.0  1408924800\n",
       "3  7106116521  A2UH2QQ275NV45     2.0  1408838400\n",
       "4  7106116521   A89F3LQADZBS5     3.0  1406419200"
      ]
     },
     "execution_count": 3,
     "metadata": {},
     "output_type": "execute_result"
    }
   ],
   "source": [
    "custom_header = ['item', 'user', 'rating', 'timestamp']\n",
    "ratings_df = pd.read_csv(rating_path, header = None, names = custom_header)\n",
    "print(ratings_df.shape)\n",
    "ratings_df.head()"
   ]
  },
  {
   "cell_type": "code",
   "execution_count": 4,
   "id": "658b4f9a-ade4-4b6c-9eda-4beeddda79ed",
   "metadata": {},
   "outputs": [
    {
     "name": "stdout",
     "output_type": "stream",
     "text": [
      "(883636, 4)\n"
     ]
    },
    {
     "data": {
      "text/html": [
       "<div>\n",
       "<style scoped>\n",
       "    .dataframe tbody tr th:only-of-type {\n",
       "        vertical-align: middle;\n",
       "    }\n",
       "\n",
       "    .dataframe tbody tr th {\n",
       "        vertical-align: top;\n",
       "    }\n",
       "\n",
       "    .dataframe thead th {\n",
       "        text-align: right;\n",
       "    }\n",
       "</style>\n",
       "<table border=\"1\" class=\"dataframe\">\n",
       "  <thead>\n",
       "    <tr style=\"text-align: right;\">\n",
       "      <th></th>\n",
       "      <th>item</th>\n",
       "      <th>user</th>\n",
       "      <th>rating</th>\n",
       "      <th>timestamp</th>\n",
       "    </tr>\n",
       "  </thead>\n",
       "  <tbody>\n",
       "    <tr>\n",
       "      <th>0</th>\n",
       "      <td>B00L8J2RF8</td>\n",
       "      <td>A0007604Q2582KFW7N4B</td>\n",
       "      <td>5.0</td>\n",
       "      <td>1426377600</td>\n",
       "    </tr>\n",
       "    <tr>\n",
       "      <th>1</th>\n",
       "      <td>B0121M1AJE</td>\n",
       "      <td>A0010606488RW7ZH6EP7</td>\n",
       "      <td>1.0</td>\n",
       "      <td>1507852800</td>\n",
       "    </tr>\n",
       "    <tr>\n",
       "      <th>2</th>\n",
       "      <td>B00IGAOE3U</td>\n",
       "      <td>A001152055E9KVRHH96L</td>\n",
       "      <td>1.0</td>\n",
       "      <td>1434585600</td>\n",
       "    </tr>\n",
       "    <tr>\n",
       "      <th>3</th>\n",
       "      <td>B01GK6XQFI</td>\n",
       "      <td>A00181966XZUX7KEGYLH</td>\n",
       "      <td>3.0</td>\n",
       "      <td>1468022400</td>\n",
       "    </tr>\n",
       "    <tr>\n",
       "      <th>4</th>\n",
       "      <td>B00RLSCLJM</td>\n",
       "      <td>A00205926S885DTOYMX6</td>\n",
       "      <td>5.0</td>\n",
       "      <td>1441497600</td>\n",
       "    </tr>\n",
       "  </tbody>\n",
       "</table>\n",
       "</div>"
      ],
      "text/plain": [
       "         item                  user  rating   timestamp\n",
       "0  B00L8J2RF8  A0007604Q2582KFW7N4B     5.0  1426377600\n",
       "1  B0121M1AJE  A0010606488RW7ZH6EP7     1.0  1507852800\n",
       "2  B00IGAOE3U  A001152055E9KVRHH96L     1.0  1434585600\n",
       "3  B01GK6XQFI  A00181966XZUX7KEGYLH     3.0  1468022400\n",
       "4  B00RLSCLJM  A00205926S885DTOYMX6     5.0  1441497600"
      ]
     },
     "execution_count": 4,
     "metadata": {},
     "output_type": "execute_result"
    }
   ],
   "source": [
    "rating_df = ratings_df.sort_values(by=['user', 'timestamp'])\n",
    "rating_df = rating_df.reset_index(drop = True)\n",
    "print(rating_df.shape)\n",
    "rating_df.head()"
   ]
  },
  {
   "cell_type": "code",
   "execution_count": 5,
   "id": "22cac7e4-ffc1-44f4-91a9-2fe36dc0688f",
   "metadata": {},
   "outputs": [
    {
     "name": "stdout",
     "output_type": "stream",
     "text": [
      "(11136, 4)\n"
     ]
    },
    {
     "data": {
      "text/html": [
       "<div>\n",
       "<style scoped>\n",
       "    .dataframe tbody tr th:only-of-type {\n",
       "        vertical-align: middle;\n",
       "    }\n",
       "\n",
       "    .dataframe tbody tr th {\n",
       "        vertical-align: top;\n",
       "    }\n",
       "\n",
       "    .dataframe thead th {\n",
       "        text-align: right;\n",
       "    }\n",
       "</style>\n",
       "<table border=\"1\" class=\"dataframe\">\n",
       "  <thead>\n",
       "    <tr style=\"text-align: right;\">\n",
       "      <th></th>\n",
       "      <th>item</th>\n",
       "      <th>user</th>\n",
       "      <th>rating</th>\n",
       "      <th>timestamp</th>\n",
       "    </tr>\n",
       "  </thead>\n",
       "  <tbody>\n",
       "    <tr>\n",
       "      <th>3238</th>\n",
       "      <td>B00HFKN2IU</td>\n",
       "      <td>A10G10SU7SAUG1</td>\n",
       "      <td>4.0</td>\n",
       "      <td>1452816000</td>\n",
       "    </tr>\n",
       "    <tr>\n",
       "      <th>3239</th>\n",
       "      <td>B009PMILQE</td>\n",
       "      <td>A10G10SU7SAUG1</td>\n",
       "      <td>4.0</td>\n",
       "      <td>1453766400</td>\n",
       "    </tr>\n",
       "    <tr>\n",
       "      <th>3240</th>\n",
       "      <td>B00D83TNRM</td>\n",
       "      <td>A10G10SU7SAUG1</td>\n",
       "      <td>3.0</td>\n",
       "      <td>1453766400</td>\n",
       "    </tr>\n",
       "    <tr>\n",
       "      <th>3241</th>\n",
       "      <td>B00E1L9QOU</td>\n",
       "      <td>A10G10SU7SAUG1</td>\n",
       "      <td>4.0</td>\n",
       "      <td>1453766400</td>\n",
       "    </tr>\n",
       "    <tr>\n",
       "      <th>3242</th>\n",
       "      <td>B00AW83HM8</td>\n",
       "      <td>A10G10SU7SAUG1</td>\n",
       "      <td>4.0</td>\n",
       "      <td>1453766400</td>\n",
       "    </tr>\n",
       "  </tbody>\n",
       "</table>\n",
       "</div>"
      ],
      "text/plain": [
       "            item            user  rating   timestamp\n",
       "3238  B00HFKN2IU  A10G10SU7SAUG1     4.0  1452816000\n",
       "3239  B009PMILQE  A10G10SU7SAUG1     4.0  1453766400\n",
       "3240  B00D83TNRM  A10G10SU7SAUG1     3.0  1453766400\n",
       "3241  B00E1L9QOU  A10G10SU7SAUG1     4.0  1453766400\n",
       "3242  B00AW83HM8  A10G10SU7SAUG1     4.0  1453766400"
      ]
     },
     "execution_count": 5,
     "metadata": {},
     "output_type": "execute_result"
    }
   ],
   "source": [
    "ratings_7core = rating_df.groupby('user').filter(lambda x: len(x) >= 7)\n",
    "print(ratings_7core.shape)\n",
    "ratings_7core.head()"
   ]
  },
  {
   "cell_type": "code",
   "execution_count": 6,
   "id": "650c798e-9223-4b2c-a4ba-34a9b2faee61",
   "metadata": {},
   "outputs": [
    {
     "name": "stdout",
     "output_type": "stream",
     "text": [
      "Unique items: 6089\n",
      "Unique users: 1273\n"
     ]
    }
   ],
   "source": [
    "print(\"Unique items:\", ratings_7core['item'].nunique())\n",
    "print(\"Unique users:\", ratings_7core['user'].nunique())"
   ]
  },
  {
   "cell_type": "code",
   "execution_count": 7,
   "id": "330c3fa6-eaf7-41d8-bfdb-fd32f275bf73",
   "metadata": {},
   "outputs": [
    {
     "data": {
      "text/plain": [
       "rating\n",
       "5.0    0.577137\n",
       "4.0    0.193786\n",
       "3.0    0.116110\n",
       "1.0    0.058818\n",
       "2.0    0.054149\n",
       "Name: proportion, dtype: float64"
      ]
     },
     "execution_count": 7,
     "metadata": {},
     "output_type": "execute_result"
    }
   ],
   "source": [
    "ratings_7core.rating.value_counts(normalize = True)"
   ]
  },
  {
   "cell_type": "code",
   "execution_count": 8,
   "id": "42a5be4f-7a5e-41be-a71f-2e3b6a415c0f",
   "metadata": {},
   "outputs": [
    {
     "name": "stdout",
     "output_type": "stream",
     "text": [
      "883636\n"
     ]
    }
   ],
   "source": [
    "reviews_path = './Fashion/AMAZON_FASHION.json'\n",
    "reviews = []\n",
    "with open(reviews_path, 'r') as f:\n",
    "    for line in f:\n",
    "        reviews.append(json.loads(line))\n",
    "print(len(reviews))"
   ]
  },
  {
   "cell_type": "code",
   "execution_count": 9,
   "id": "7bb7e89a-83d6-415b-b168-fa9998420c93",
   "metadata": {},
   "outputs": [
    {
     "data": {
      "text/plain": [
       "{'overall': 5.0,\n",
       " 'verified': True,\n",
       " 'reviewTime': '10 20, 2014',\n",
       " 'reviewerID': 'A1D4G1SNUZWQOT',\n",
       " 'asin': '7106116521',\n",
       " 'reviewerName': 'Tracy',\n",
       " 'reviewText': 'Exactly what I needed.',\n",
       " 'summary': 'perfect replacements!!',\n",
       " 'unixReviewTime': 1413763200}"
      ]
     },
     "execution_count": 9,
     "metadata": {},
     "output_type": "execute_result"
    }
   ],
   "source": [
    "reviews[0]"
   ]
  },
  {
   "cell_type": "markdown",
   "id": "0d8a2e83-615a-4762-b0ed-2cbcde2a6d4d",
   "metadata": {},
   "source": [
    "### Creating user and item mapping"
   ]
  },
  {
   "cell_type": "code",
   "execution_count": 10,
   "id": "0abd5e83-2583-4f54-9bc0-ec1f23746252",
   "metadata": {},
   "outputs": [
    {
     "data": {
      "text/html": [
       "<div>\n",
       "<style scoped>\n",
       "    .dataframe tbody tr th:only-of-type {\n",
       "        vertical-align: middle;\n",
       "    }\n",
       "\n",
       "    .dataframe tbody tr th {\n",
       "        vertical-align: top;\n",
       "    }\n",
       "\n",
       "    .dataframe thead th {\n",
       "        text-align: right;\n",
       "    }\n",
       "</style>\n",
       "<table border=\"1\" class=\"dataframe\">\n",
       "  <thead>\n",
       "    <tr style=\"text-align: right;\">\n",
       "      <th></th>\n",
       "      <th>item</th>\n",
       "      <th>user</th>\n",
       "      <th>rating</th>\n",
       "      <th>timestamp</th>\n",
       "    </tr>\n",
       "  </thead>\n",
       "  <tbody>\n",
       "    <tr>\n",
       "      <th>0</th>\n",
       "      <td>B00HFKN2IU</td>\n",
       "      <td>A10G10SU7SAUG1</td>\n",
       "      <td>4.0</td>\n",
       "      <td>1452816000</td>\n",
       "    </tr>\n",
       "    <tr>\n",
       "      <th>1</th>\n",
       "      <td>B009PMILQE</td>\n",
       "      <td>A10G10SU7SAUG1</td>\n",
       "      <td>4.0</td>\n",
       "      <td>1453766400</td>\n",
       "    </tr>\n",
       "    <tr>\n",
       "      <th>2</th>\n",
       "      <td>B00D83TNRM</td>\n",
       "      <td>A10G10SU7SAUG1</td>\n",
       "      <td>3.0</td>\n",
       "      <td>1453766400</td>\n",
       "    </tr>\n",
       "    <tr>\n",
       "      <th>3</th>\n",
       "      <td>B00E1L9QOU</td>\n",
       "      <td>A10G10SU7SAUG1</td>\n",
       "      <td>4.0</td>\n",
       "      <td>1453766400</td>\n",
       "    </tr>\n",
       "    <tr>\n",
       "      <th>4</th>\n",
       "      <td>B00AW83HM8</td>\n",
       "      <td>A10G10SU7SAUG1</td>\n",
       "      <td>4.0</td>\n",
       "      <td>1453766400</td>\n",
       "    </tr>\n",
       "  </tbody>\n",
       "</table>\n",
       "</div>"
      ],
      "text/plain": [
       "         item            user  rating   timestamp\n",
       "0  B00HFKN2IU  A10G10SU7SAUG1     4.0  1452816000\n",
       "1  B009PMILQE  A10G10SU7SAUG1     4.0  1453766400\n",
       "2  B00D83TNRM  A10G10SU7SAUG1     3.0  1453766400\n",
       "3  B00E1L9QOU  A10G10SU7SAUG1     4.0  1453766400\n",
       "4  B00AW83HM8  A10G10SU7SAUG1     4.0  1453766400"
      ]
     },
     "execution_count": 10,
     "metadata": {},
     "output_type": "execute_result"
    }
   ],
   "source": [
    "ratings_7core = ratings_7core.reset_index(drop = True)\n",
    "ratings_7core.head()"
   ]
  },
  {
   "cell_type": "code",
   "execution_count": 11,
   "id": "8d5f8b03-e108-4d01-a671-70d69bc9488f",
   "metadata": {},
   "outputs": [],
   "source": [
    "item_mapping = {item: idx for idx, item in enumerate(ratings_7core['item'].unique())}\n",
    "user_mapping = {user: idx for idx, user in enumerate(ratings_7core['user'].unique())}"
   ]
  },
  {
   "cell_type": "code",
   "execution_count": 12,
   "id": "28c5334a-4147-409c-957f-7c3822876c1c",
   "metadata": {},
   "outputs": [
    {
     "name": "stdout",
     "output_type": "stream",
     "text": [
      "6089 1273\n"
     ]
    }
   ],
   "source": [
    "print(len(item_mapping), len(user_mapping))"
   ]
  },
  {
   "cell_type": "code",
   "execution_count": 13,
   "id": "b28a7348-9ac8-4d35-8c85-22d15621e48f",
   "metadata": {},
   "outputs": [],
   "source": [
    "reverse_item_mapping = {v:k for k,v in item_mapping.items()}\n",
    "reverse_user_mapping = {v:k for k,v in user_mapping.items()}"
   ]
  },
  {
   "cell_type": "code",
   "execution_count": 14,
   "id": "f028c37b-e328-4166-8351-13faf987580a",
   "metadata": {},
   "outputs": [
    {
     "name": "stdout",
     "output_type": "stream",
     "text": [
      "6089 1273\n"
     ]
    }
   ],
   "source": [
    "print(len(reverse_item_mapping), len(reverse_user_mapping))"
   ]
  },
  {
   "cell_type": "code",
   "execution_count": 15,
   "id": "c4c643e4-c8a5-4221-8aa1-16f6ac4e8186",
   "metadata": {},
   "outputs": [
    {
     "name": "stdout",
     "output_type": "stream",
     "text": [
      "2 A10RXRZE0TAKPU 2\n"
     ]
    }
   ],
   "source": [
    "id = 2\n",
    "print(id, reverse_user_mapping[id], user_mapping[reverse_user_mapping[id]])"
   ]
  },
  {
   "cell_type": "code",
   "execution_count": 16,
   "id": "8b5eb055-1c12-43ff-8c3c-b8aac3481a93",
   "metadata": {},
   "outputs": [
    {
     "name": "stdout",
     "output_type": "stream",
     "text": [
      "374 B01201P2GS 374\n"
     ]
    }
   ],
   "source": [
    "id = 374\n",
    "print(id, reverse_item_mapping[id], item_mapping[reverse_item_mapping[id]])"
   ]
  },
  {
   "cell_type": "code",
   "execution_count": 17,
   "id": "72966a00-a77d-47e4-ba3e-439560c1b637",
   "metadata": {},
   "outputs": [],
   "source": [
    "# with open('./Fashion/data/item_idx_mapping.json', 'w+') as f:\n",
    "#     json.dump(item_mapping, f)\n",
    "# with open('./Fashion/data/idx_item_mapping.json', 'w+') as f:\n",
    "#     json.dump(reverse_item_mapping, f)\n",
    "# with open('./Fashion/data/user_idx_mapping.json', 'w+') as f:\n",
    "#     json.dump(user_mapping, f)\n",
    "# with open('./Fashion/data/idx_user_mapping.json', 'w+') as f:\n",
    "#     json.dump(reverse_user_mapping, f)"
   ]
  },
  {
   "cell_type": "markdown",
   "id": "9d8fdc03-9dc6-4986-a9a9-a69d8adab69e",
   "metadata": {},
   "source": [
    "### Creating train, test, valid dataset"
   ]
  },
  {
   "cell_type": "code",
   "execution_count": 18,
   "id": "d7c94dd0-d3f7-40a2-ab8a-8260ed566095",
   "metadata": {},
   "outputs": [
    {
     "data": {
      "text/html": [
       "<div>\n",
       "<style scoped>\n",
       "    .dataframe tbody tr th:only-of-type {\n",
       "        vertical-align: middle;\n",
       "    }\n",
       "\n",
       "    .dataframe tbody tr th {\n",
       "        vertical-align: top;\n",
       "    }\n",
       "\n",
       "    .dataframe thead th {\n",
       "        text-align: right;\n",
       "    }\n",
       "</style>\n",
       "<table border=\"1\" class=\"dataframe\">\n",
       "  <thead>\n",
       "    <tr style=\"text-align: right;\">\n",
       "      <th></th>\n",
       "      <th>item</th>\n",
       "      <th>user</th>\n",
       "      <th>rating</th>\n",
       "      <th>timestamp</th>\n",
       "    </tr>\n",
       "  </thead>\n",
       "  <tbody>\n",
       "    <tr>\n",
       "      <th>0</th>\n",
       "      <td>0</td>\n",
       "      <td>0</td>\n",
       "      <td>4.0</td>\n",
       "      <td>1452816000</td>\n",
       "    </tr>\n",
       "    <tr>\n",
       "      <th>1</th>\n",
       "      <td>1</td>\n",
       "      <td>0</td>\n",
       "      <td>4.0</td>\n",
       "      <td>1453766400</td>\n",
       "    </tr>\n",
       "    <tr>\n",
       "      <th>2</th>\n",
       "      <td>2</td>\n",
       "      <td>0</td>\n",
       "      <td>3.0</td>\n",
       "      <td>1453766400</td>\n",
       "    </tr>\n",
       "    <tr>\n",
       "      <th>3</th>\n",
       "      <td>3</td>\n",
       "      <td>0</td>\n",
       "      <td>4.0</td>\n",
       "      <td>1453766400</td>\n",
       "    </tr>\n",
       "    <tr>\n",
       "      <th>4</th>\n",
       "      <td>4</td>\n",
       "      <td>0</td>\n",
       "      <td>4.0</td>\n",
       "      <td>1453766400</td>\n",
       "    </tr>\n",
       "  </tbody>\n",
       "</table>\n",
       "</div>"
      ],
      "text/plain": [
       "   item  user  rating   timestamp\n",
       "0     0     0     4.0  1452816000\n",
       "1     1     0     4.0  1453766400\n",
       "2     2     0     3.0  1453766400\n",
       "3     3     0     4.0  1453766400\n",
       "4     4     0     4.0  1453766400"
      ]
     },
     "execution_count": 18,
     "metadata": {},
     "output_type": "execute_result"
    }
   ],
   "source": [
    "ratings_7core['item'] = ratings_7core['item'].map(item_mapping)\n",
    "ratings_7core['user'] = ratings_7core['user'].map(user_mapping)\n",
    "ratings_7core.head()"
   ]
  },
  {
   "cell_type": "code",
   "execution_count": 19,
   "id": "e1ebf5c8-3b56-4078-81f0-94bdc9772dd2",
   "metadata": {},
   "outputs": [],
   "source": [
    "# ratings_7core.to_csv('./Fashion/data/ratings.csv', index = False)"
   ]
  },
  {
   "cell_type": "code",
   "execution_count": 20,
   "id": "e82a5231-501d-4a34-bfd1-0d4eb28107b1",
   "metadata": {},
   "outputs": [
    {
     "name": "stdout",
     "output_type": "stream",
     "text": [
      "1273\n"
     ]
    }
   ],
   "source": [
    "user_item_interactions = dict()\n",
    "for user in list(ratings_7core['user'].unique()):\n",
    "    user_item_interactions[user] = ratings_7core[ratings_7core['user']==user]['item'].tolist()\n",
    "print(len(user_item_interactions))"
   ]
  },
  {
   "cell_type": "code",
   "execution_count": 21,
   "id": "a32763b6-0d3b-413d-a0f4-cd4b86733010",
   "metadata": {},
   "outputs": [
    {
     "data": {
      "text/plain": [
       "[0, 1, 2, 3, 4, 5, 6, 7]"
      ]
     },
     "execution_count": 21,
     "metadata": {},
     "output_type": "execute_result"
    }
   ],
   "source": [
    "user_item_interactions[0]"
   ]
  },
  {
   "cell_type": "code",
   "execution_count": 22,
   "id": "5c88e716-8be6-4373-9122-b7faaf6dd8e8",
   "metadata": {},
   "outputs": [],
   "source": [
    "user_train = dict()\n",
    "user_valid = dict()\n",
    "user_test = dict()\n",
    "user_profile = dict()\n",
    "for user, item_list in user_item_interactions.items():\n",
    "    user_profile[int(user)] = item_list[:-7]\n",
    "    user_train[int(user)] = item_list[-7:-2]\n",
    "    user_valid[int(user)] = item_list[-6:-1]\n",
    "    user_test[int(user)] = item_list[-5:]\n",
    "    # break"
   ]
  },
  {
   "cell_type": "code",
   "execution_count": 23,
   "id": "4a4eb966-e593-4aba-9f20-8991dd733b5b",
   "metadata": {},
   "outputs": [
    {
     "name": "stdout",
     "output_type": "stream",
     "text": [
      "[974, 4266]\n",
      "[5780, 2332, 5781, 5782, 5783]\n",
      "[2332, 5781, 5782, 5783, 5784]\n",
      "[5781, 5782, 5783, 5784, 5785]\n"
     ]
    }
   ],
   "source": [
    "id = 1200\n",
    "print(user_profile[id])\n",
    "print(user_train[id])\n",
    "print(user_valid[id])\n",
    "print(user_test[id])"
   ]
  },
  {
   "cell_type": "code",
   "execution_count": 24,
   "id": "483ce64e-115c-4b19-8671-9db53ef2e4d7",
   "metadata": {},
   "outputs": [],
   "source": [
    "# with open('./Fashion/data/user_profile.json', 'w+') as f:\n",
    "#     json.dump(user_profile, f)\n",
    "# with open('./Fashion/data/user_train.json', 'w+') as f:\n",
    "#     json.dump(user_train, f)\n",
    "# with open('./Fashion/data/user_valid.json', 'w+') as f:\n",
    "#     json.dump(user_valid, f)\n",
    "# with open('./Fashion/data/user_test.json', 'w+') as f:\n",
    "#     json.dump(user_test, f)"
   ]
  },
  {
   "cell_type": "markdown",
   "id": "88c70ab0-781f-4a7a-966c-b8a1d567d84e",
   "metadata": {},
   "source": [
    "### Creating item descriptions"
   ]
  },
  {
   "cell_type": "markdown",
   "id": "84848554-1140-4ee7-9b9e-8ecc8956e987",
   "metadata": {},
   "source": [
    "Idea is to create the item description from meta file and reviews file\n",
    "- Use title, brand and price when available from the meta file\n",
    "- Use user reviews from the reviews file\n",
    "    - Identify how to keep the reviews in limit and need to use llm for summarizing"
   ]
  },
  {
   "cell_type": "code",
   "execution_count": 25,
   "id": "3f28e562-d5a0-4988-8804-7593220d3939",
   "metadata": {},
   "outputs": [
    {
     "name": "stdout",
     "output_type": "stream",
     "text": [
      "186637\n"
     ]
    }
   ],
   "source": [
    "meta_fashion_path = './Fashion/meta_AMAZON_FASHION.json'\n",
    "meta_fashion = []\n",
    "with open(meta_fashion_path, 'r') as f:\n",
    "    for line in f:\n",
    "        meta_fashion.append(json.loads(line))\n",
    "print(len(meta_fashion))"
   ]
  },
  {
   "cell_type": "code",
   "execution_count": 26,
   "id": "e3e8fabb-5afd-4e49-8c8b-060eb11f6e4a",
   "metadata": {},
   "outputs": [],
   "source": [
    "all_keys = []\n",
    "for item in meta_fashion:\n",
    "    item_keys = list(item.keys())\n",
    "    all_keys.extend(item_keys)"
   ]
  },
  {
   "cell_type": "code",
   "execution_count": 27,
   "id": "8df41dc2-1157-4fc5-b6a0-6db893004989",
   "metadata": {
    "scrolled": true
   },
   "outputs": [
    {
     "name": "stdout",
     "output_type": "stream",
     "text": [
      "['also_buy', 'feature', 'rank', 'title', 'imageURL', 'also_view', 'details', 'description', 'imageURLHighRes', 'fit', 'date', 'asin', 'brand', 'similar_item', 'price', 'tech1']\n"
     ]
    }
   ],
   "source": [
    "all_keys = list(set(all_keys))\n",
    "print(all_keys)"
   ]
  },
  {
   "cell_type": "code",
   "execution_count": 28,
   "id": "0c668f73-a95a-4001-a167-7008ef41ae39",
   "metadata": {},
   "outputs": [
    {
     "name": "stdout",
     "output_type": "stream",
     "text": [
      "0.08502601306279034\n"
     ]
    }
   ],
   "source": [
    "count_desc = 0\n",
    "for item in meta_fashion:\n",
    "    if 'description' not in item:\n",
    "        continue\n",
    "    if item['description']=='' or item['description']==' ':\n",
    "        continue\n",
    "    count_desc += 1\n",
    "print(count_desc/len(meta_fashion))"
   ]
  },
  {
   "cell_type": "code",
   "execution_count": 38,
   "id": "854e8491-deb3-4d10-b0d8-3070b9a48dc6",
   "metadata": {},
   "outputs": [],
   "source": [
    "required_keys = ['brand', 'price']\n",
    "### description is present in only 8% of the items and many times they are just generic text"
   ]
  },
  {
   "cell_type": "code",
   "execution_count": 39,
   "id": "542df113-d3e1-43a7-9741-0774814d4911",
   "metadata": {},
   "outputs": [],
   "source": [
    "item_information = dict()\n",
    "\n",
    "cnt = 0\n",
    "for item in meta_fashion:\n",
    "    if item['asin'] in item_mapping:\n",
    "        item_id = item_mapping[item['asin']]\n",
    "        # print(\"item_id:\", item_id)\n",
    "        item_information[item_id] = dict()\n",
    "        cnt += 1\n",
    "        ### meta information\n",
    "        if 'title' in item:\n",
    "            item_information[item_id]['title'] = item['title']\n",
    "        for key in required_keys:\n",
    "            if key in item:\n",
    "                if key == 'brand':\n",
    "                    item_information[item_id]['brand'] = item[key]\n",
    "                elif key == 'price':\n",
    "                    item_information[item_id]['price'] = item[key]\n",
    "        ### review information\n",
    "    # if cnt > 10:\n",
    "    #     break\n",
    "# print(item_information)"
   ]
  },
  {
   "cell_type": "code",
   "execution_count": 40,
   "id": "3cec2704-90a1-4279-92a2-9b5c598a11a0",
   "metadata": {},
   "outputs": [
    {
     "name": "stdout",
     "output_type": "stream",
     "text": [
      "6089\n"
     ]
    }
   ],
   "source": [
    "print(len(item_information))"
   ]
  },
  {
   "cell_type": "code",
   "execution_count": 41,
   "id": "7a6dc1a2-522b-45c3-912c-c25b56274fac",
   "metadata": {},
   "outputs": [
    {
     "data": {
      "text/plain": [
       "{'overall': 5.0,\n",
       " 'verified': True,\n",
       " 'reviewTime': '10 20, 2014',\n",
       " 'reviewerID': 'A1D4G1SNUZWQOT',\n",
       " 'asin': '7106116521',\n",
       " 'reviewerName': 'Tracy',\n",
       " 'reviewText': 'Exactly what I needed.',\n",
       " 'summary': 'perfect replacements!!',\n",
       " 'unixReviewTime': 1413763200}"
      ]
     },
     "execution_count": 41,
     "metadata": {},
     "output_type": "execute_result"
    }
   ],
   "source": [
    "reviews[0]"
   ]
  },
  {
   "cell_type": "code",
   "execution_count": 48,
   "id": "f00df02e-d265-4fb7-a328-854f46068266",
   "metadata": {},
   "outputs": [],
   "source": [
    "from collections import defaultdict\n",
    "item_reviews = dict()\n",
    "for item in meta_fashion:\n",
    "    if item['asin'] in item_mapping:\n",
    "        item_id = item_mapping[item['asin']]\n",
    "        item_reviews[item_id] = defaultdict(list)\n",
    "        for review in reviews:\n",
    "            if review['asin'] == item['asin']:\n",
    "                if 'verified' in review:\n",
    "                    if review['verified'] == True:\n",
    "                        if 'reviewText' in review:\n",
    "                            if review['reviewText'] != '' or review['reviewText'] != ' ':\n",
    "                                if 'overall' in review:\n",
    "                                    if review['overall'] != '' or review['overall'] != ' ':\n",
    "                                        item_reviews[item_id][review['overall']].append(review['reviewText'])\n",
    "        # break"
   ]
  },
  {
   "cell_type": "code",
   "execution_count": 49,
   "id": "71be31eb-ae33-4465-923c-312321489aef",
   "metadata": {},
   "outputs": [
    {
     "data": {
      "text/plain": [
       "6089"
      ]
     },
     "execution_count": 49,
     "metadata": {},
     "output_type": "execute_result"
    }
   ],
   "source": [
    "len(item_reviews)"
   ]
  },
  {
   "cell_type": "code",
   "execution_count": 50,
   "id": "9662f1d6-ba3f-482a-ab6b-7eea0acc4a9b",
   "metadata": {},
   "outputs": [
    {
     "data": {
      "text/plain": [
       "defaultdict(list,\n",
       "            {5.0: ['Hello good evening, excellent product quality, comfortable, nice, good wreck 100% recommend them very beautiful, I gusta.soy of Venezuela v'],\n",
       "             3.0: [\"This is a beautiful watch, bigger than I thought it would be, which made me happy. The back light works very well, the shine/glitter it has is beautiful, it doesn't look like too much. It is easy to put on and take off, perfect for workouts. The only bad thing I have to say about this product is that the lifespan of the rubber pieces at the end of the band is Very short and you have no way of getting a replacement, because they are not sold separately. I took mine off and I wear the watch with no rubbers at the ends, its not that ugly you cant even tell actually. All the same Im happy with my purchase, I would recommend it.\"]})"
      ]
     },
     "execution_count": 50,
     "metadata": {},
     "output_type": "execute_result"
    }
   ],
   "source": [
    "item_reviews[4426]"
   ]
  },
  {
   "cell_type": "code",
   "execution_count": 51,
   "id": "e917435b-483d-4bee-aa57-7e4d32659f05",
   "metadata": {},
   "outputs": [
    {
     "data": {
      "text/plain": [
       "6089"
      ]
     },
     "execution_count": 51,
     "metadata": {},
     "output_type": "execute_result"
    }
   ],
   "source": [
    "len(item_information)"
   ]
  },
  {
   "cell_type": "code",
   "execution_count": 52,
   "id": "56c99e70-f16c-47df-87a7-bb9b663d94ba",
   "metadata": {},
   "outputs": [],
   "source": [
    "for item in item_information:\n",
    "    item_information[item]['reviews'] = item_reviews[item]"
   ]
  },
  {
   "cell_type": "code",
   "execution_count": 53,
   "id": "53fbec08-f35d-4def-bc14-0f9dfe35cc0d",
   "metadata": {},
   "outputs": [],
   "source": [
    "with open('./Fashion/data/item_information.json', 'w+') as f:\n",
    "    json.dump(item_information, f)"
   ]
  },
  {
   "cell_type": "markdown",
   "id": "925490b8-aa70-46b3-a078-c40e2aeea857",
   "metadata": {},
   "source": [
    "### Loading the item_information"
   ]
  },
  {
   "cell_type": "code",
   "execution_count": 54,
   "id": "3890a205-5d7f-40a5-bb1a-9001c0026829",
   "metadata": {},
   "outputs": [],
   "source": [
    "item_information_path = './Fashion/data/item_information.json'\n",
    "with open(item_information_path, 'r') as f:\n",
    "    item_information = json.load(f)"
   ]
  },
  {
   "cell_type": "code",
   "execution_count": 55,
   "id": "d2ce59a7-313e-4995-abf9-c1fe01c665fa",
   "metadata": {},
   "outputs": [
    {
     "data": {
      "text/plain": [
       "6089"
      ]
     },
     "execution_count": 55,
     "metadata": {},
     "output_type": "execute_result"
    }
   ],
   "source": [
    "len(item_information)"
   ]
  },
  {
   "cell_type": "code",
   "execution_count": 56,
   "id": "c1fd285c-8c76-4a98-a3d6-d63b448320e3",
   "metadata": {
    "scrolled": true
   },
   "outputs": [
    {
     "data": {
      "text/plain": [
       "{'title': 'Allegra K Lady Long Sleeve Letter Pattern Pullover Knit Shirt Black S',\n",
       " 'reviews': {'5.0': [\"I love this shirt. I bought an M, but since I'm a shorty it is a bit long on me. Otherwise , the material is fine and is perfect for the spring/summer.\\nHowever, I've a question to all the other reviewers, have any of you been able to read what it says on the entire shirt?\\nThanks.\",\n",
       "   'Everybody LOVES this top, fits perfectly, so flattering and unique. Very happy with this purchase!!',\n",
       "   'Very cute and comfy :-)',\n",
       "   'I got it for my wife and she really liked it',\n",
       "   'Love Allegra K Blouses.  I own several!!!',\n",
       "   \"The top was very good fit perfect on me I'm 6 feet tall I weigh 220 pounds I order more\",\n",
       "   'Excellent top, fits like it should.',\n",
       "   'GOOD PRODUCT.  BEAUTIFUL DESIGNS.',\n",
       "   'Fit as expected. Love it!',\n",
       "   'I love this shirt. It fits perfectly and you can wear it with anything. I have worn it with slacks and tights so far.  I am around size 8-10. So i got the medium and its perfect.',\n",
       "   'Great',\n",
       "   'I absolutely love all the oversized sweaters from Allegra k.  First time I ordered a large and it was bigger than expected but I didn\\'t mind since it was meant to be \"oversized\".  So ordered a medium this time and it\\'s still oversized but better fit overall.  I now have about 5 oversized sweaters from this company and plan on ordering more.  Cannot say enough good things about them.  Good quality, cute designs, resonable price...  very happy with my purchase!',\n",
       "   'Like',\n",
       "   'Love it!! I get a lot of compliments on it',\n",
       "   \"The outfits I purchase always seem to fit because I always order one size larger than my true size fit. But, that's also because I like clothes on my body a bit loose. I will say I have nothing but good things to say about Allegra K brand and Uxcell shipping brand. These companies are amazing! They provide a unique product at a reasonable price (usually with free shipping because of the quantities I order). So comfortable and of good quality. A button may of fell off here or there but always came with them all and very easy to sew back on. I do not dry any of their clothing; and because of this- the clothes never lose their shape or color. I am in love and haven't been regular store clothing shopping since I've been purchasing these brands online on Amazon. I don't usually do reviews (obviously because I end up writing a novel) but this brand deserved a review!!!\",\n",
       "   \"I love Allegra tops, they're comfortable and at great price.\",\n",
       "   'Perfect, just what I wanted!',\n",
       "   'Allegra k sizes run a bit big, still love this top. Ive purchased a few Allegra K shirts. Will continue to buy!',\n",
       "   'Super cute...Long enough for us tall girls to cover our bum.  Material is soft and lightweight.',\n",
       "   'Looks even better in person.  Love it!',\n",
       "   'I love it but I should of got an large instead of extra large. Ill just wear it around the house',\n",
       "   'My third tunic and I love everything about it',\n",
       "   'Really cute, great with leggings.  Well made.  Fit well.',\n",
       "   'Good oversized shirt. Look good with leggings.',\n",
       "   'Comfy and cool',\n",
       "   'Love this shirt! The combination of stretchy and flowy is so hard to find! I\\'m adapting to my transitioning \"mom bod\" after having my second child. Needless to say, I didn\\'t bounce back. I feel so great wearing this with some leggings! It\\'s flattering and doesn\\'t overly emphasize the fact that I\\'m carrying some extra weight. I love that it has a conservative neckline, too. The medium fits me great, if not a little big. I\\'m on the large end of being able to fit in medium shirts, if that helps. I am a true size 8, and am 5\\'8\" tall and it fits me like the model picture in length.',\n",
       "   'Perfect fit',\n",
       "   'I\\'m 5\\'3\" and almost 110 lbs and I ordered a S size. It fits loosely and it doesn\\'t shrink after washed. It is long enough to wear leggings (about 3\" below the crotch.)',\n",
       "   'I love this tunic! So comfy, soft, and cute. I get excited to wear it.',\n",
       "   'Love this shirt and get so many compliments  when I wear it.',\n",
       "   'Love this shirt',\n",
       "   'It is very soft and it is light, not a thick sweater but it very comfy.',\n",
       "   \"Super cute and comfortable. It's a wee bit tighter across the chest than I prefer. But easy to wear!\",\n",
       "   \"Great top! The fabric is not too thick, but not too thin. The length hits me low enough that I can wear leggings. The print looks modern and does not bleed when I wash it. I get lots of compliments and it's also super comfy! Overall this was a great buy!\",\n",
       "   \"I'm a recent new Allegra K fan - All of the sweaters I have bought recently are huge faves. I would recommend!\",\n",
       "   \"My expectations were very low given the price of the item.  And just because buying clothes online is iffy to begin with.  I tried it on and couldn't believe how beautiful this blouse is, but most important, the size was spot-on perfect.  I am an extra large, I ordered an extra large.  So not only is the blouse pretty, it is well made.  And the material is 'liquid'  - and probably will never wrinkle.  This makes me happy,  because I ordered a few more at the same time as this one and now I have reasonable expectations that I will be pleased with them as well.  I'll let you know.\",\n",
       "   'Love it, receive a long a compliment when I wear it.',\n",
       "   \"This is a really cute light weight sweater. Great for fall with a pair of leggings. I love the cut of the top because it's slightly tapered at bottom, so you don't look like you wearing a tent. I only bought one at first because the price was so low I figured it would look cheap, but it doesn't and I'm going to order a few more!\",\n",
       "   'PRETTY!!!',\n",
       "   \"I liked that it fit somewhat large. I typically order 1x size but this ex large fit perfectly as I don't like my shirts to cling\",\n",
       "   'Love this top. Silky material. Not to heavy.',\n",
       "   'Super cute.',\n",
       "   'Comfortable, fits well, got lots of compliments.  Ordered another tunic made by this brand.',\n",
       "   \"Love this shirt, it fits great and the sleeves are a great length. Surprisingly, I am 5'7 and around 200lbs, and the shirt was somewhat big on me, so you may want to size down.\",\n",
       "   'Cute top, nice fit. Some reviews were wondering what words are printed on it - just look in the mirror. :)',\n",
       "   'If your arms a just a little bigger from working out or weight you may want to go up a size because the sleeves fit is tight',\n",
       "   'I love this top! It fits just how I wanted! (A smidge loose, but fitting enough I have a shape!) I wear a size 16 and ordered the xL, and i am absolutely in love!',\n",
       "   \"So cute~! It fits perfectly (I'm a size 14 and it fits loosely and flatters me!), and the material is sooo soft and comfy. It looks so nice with jeans or leggings. I bet it would look really nice with skirts (provided they were long enough).  I love it so much, i'm going to buy similar pieces from the same brand!\\n\\nI struggle to find clothing online because it never fits like it says but everything I've bought from Allegra K so far has been WONDERFUL. I'm sticking to this brand! :D\",\n",
       "   'I love Allegra K.  They are a great fit, last through a lot of washes and are very reasonably priced.',\n",
       "   'Cute unique looking shirt. Fits and washes well.',\n",
       "   'Love this shirt and how it scrunches a bit on both sides. Can\\'t tell what it says, and a lot of people ask me and we try to figure it out. I\\'ve gotten \"happy, paris, baby\" so far. It\\'s a thicker material but breathes nicely and is nice to wear in an office in the summer time (when the AC is too cold). Adorable with leggings OR jeans',\n",
       "   'Love it, fits baggy even though I went down a size. Very flattering; get compliments every time I wear it.',\n",
       "   'Love it. It arrive on time and fit very well.',\n",
       "   'Cute top. I am 5\\'9\" and 175 lbs with DDD bra size. This top is very flattering, covers my belly which I love. I usually order an XL, but went with a large, and am pleased with that. Will order another.',\n",
       "   'It fits perfect and the material is Greta I really love it.',\n",
       "   'I liked',\n",
       "   'Good quality product.',\n",
       "   'fits well. looks good!',\n",
       "   \"Nice fit, super cute, have worn this frequently with black 'velvet' leggings.  Always get complements.  True to size imo\",\n",
       "   \"I LOVE THIS DRESS!! I wear it as a dress with sheer pantyhoses and pumps, and it looks amazing! I wish I had a picture of me in it so y'all could see how cute and sexy it looks while it being modest on the top. Also, it's super soft!\",\n",
       "   \"It's adorable, ,perfect over leggings\",\n",
       "   \"I love this shirt! I am 5'3 and weigh 140 so I chose a medium. This shirt fit perfect with leggings.\",\n",
       "   'Fit as expected',\n",
       "   'So cute Love it !!',\n",
       "   'Perfect',\n",
       "   \"I wear a large and bought a medium. Fits great. I got a size smaller because I didn't want it as long as in the picture. It's cute. Thin, but not see through. So happy I bought it.\",\n",
       "   'Love this t-shirt. fits comfortably and looks great for a casual look',\n",
       "   'Looks, feels and fits great.. Love the loose fit.. Go with your regular size to get that loose fit',\n",
       "   'Got a lot of compliments wearing this. I am a size 14 and this fit perfectly. I love all of my tops from Allegra K',\n",
       "   'This is so cute, and fit just as I expected.',\n",
       "   'Fits as expected.  Not too thick and can be worn especially in Spring or Fall.  I like the style, and it is comfortable.  Goes well with leggings.',\n",
       "   'One of my all time favorite tops. Comfy , material a tad thin, but I like that.',\n",
       "   'Excelente !!!',\n",
       "   'Fast delivery. Soft material. Great wear with my leggings. Great price.',\n",
       "   'Usually a medium so I got a large- pretty loose fitting.',\n",
       "   'Nice shirt I wear a medium and ordered a large, it is a little big but that is the point.',\n",
       "   'I just love it',\n",
       "   'This shirt is ridiculously adorable! I LOVE clothes that are unique & stand out. This piece of clothing is perfect! I got soo many compliments when I first wore it. It looks really effortless when worn with leggings. This top has plenty of room & will suit all body types. I actually could have went a size smaller but I like my shirts baggier. Excellent deal! I LOVE Allegra K! <3',\n",
       "   'Fits beautiful if you like the loose look with a pair of jeans or slacks\\nnice material',\n",
       "   \"I love it! The fabric is better than expected, very soft and at excellent price. I'll buy more of these.\",\n",
       "   'Very cute top!  Looks great in leggings and skinny pants.  Recommeneded!',\n",
       "   'my favorite shirt and will be buying more but in different designs',\n",
       "   'Great product for this price!',\n",
       "   'very nice',\n",
       "   'I like this shirt a lot. Nice soft fabric and fit perfectly. Love it',\n",
       "   'Great fit and warm. Typically a medium but a small fits great.',\n",
       "   \"Great product. Very good quality for the price- maybe a little thin but just as good as anything you'd get at Walmart or something. The size seems to run a bit large. I'm 5'2, 120 pounds and the small fits like a short dress, but I think its supposed to be like that. Also I like the little smiley faces and the tapering (is that what its called?) on the sides\",\n",
       "   'a tad larger that I would have liked. I am an 8 or 10 normally but went with Lg- should have tried Med. - I still just love it though',\n",
       "   'Great',\n",
       "   'Perfect!',\n",
       "   'Love this. I have some nail art that matches this. I love anything Allegra k and anything with letters on them. Are you listening fabric people???!',\n",
       "   'Beatifull!',\n",
       "   \"I'm around a size 12 and usually wear large, and this top fit loosely, but in a flattering way because it is long and slightly ruched anyway. Very soft fabric and stretchy! Though I haven't needed the stretch at all\",\n",
       "   'Very pretty,sliming,very very stretchy and true to size. Im 5 10 I order XL and it fits way below my thighs, great for leggings, but I will say not so great if you are petite. Will buy again ',\n",
       "   '510, 180lbs bought in a large love it with tights or with slacks. Received lots of compliments.',\n",
       "   'Very nice material.',\n",
       "   'Gave this to my granddaughter, she loved it',\n",
       "   \"Bought for a gift, she loved it. Fits as expected, soft, but has room for camisole underneath. It falls mid-butt, but looks cute with skinny jeans and boots, or with leggings if you're confident about your posterier. The words don't say anything really, but it doesn't matter. It's great nonetheless.\",\n",
       "   'Good, as expected.'],\n",
       "  '4.0': [\"Love it, but it's a big long for me. 5ft 105, bought the small\",\n",
       "   \"If you ever happen to shop at a retailer like Ross Dress for Less, this is the exact quality you would get from there.  Specifically from the junior section where they have a bunch of no name brands that look cute but wasn't designed to last long.  Personally it looks cute but I know this blouse was not meant to worn for years on end and in some regards I am okay with that.  This is a thin, lightweight sweater.  So if you are self-conscious about your bra showing, just wear a nude color or wear a camisole underneath.  Personally I am shameless so I don't care unless I am cold, then I would throw this over a shirt.\",\n",
       "   'Got a medium and it was oversize a bit, i love allegra k brands!',\n",
       "   'Fast shipping received as described, wife likes it',\n",
       "   \"The sleeves are a little long, making it appear a little baggy, but otherwise great top for the price. Definitely long enough for leggings and the cinched sides make it look more fitted. I've worn it 4 or 5 times now, every time with a belt at the waist, and am now seeing some pilling around that area. It won't be a permanent closet staple, but for the price I still think it is worth one or two seasons of wear.\",\n",
       "   \"I really love this shirt. It is very comfortable and looks great.  It's super cute with or without a wide belt. I like to wear some red bling to accent it. Looks great with my leggings and knee high boots. It does snag easily, so must be careful.\",\n",
       "   'Was returned as it was too large..',\n",
       "   'This shirt is adorable and the pattern is original. Although it is NOT warm by any means and its very form fitting. Expect for your every curve to be accentuated.',\n",
       "   \"I like it but it's baggier than expected. I wore a belt with it so it all worked out in the end.\",\n",
       "   'Nice tunic; good fit',\n",
       "   'One of the best sellers, Allegra K, some of the items are cut different. Will continue to shop!',\n",
       "   \"Other than the pattern not looking appealing for my body and sizing a bit big, this was not a rip off.  Just didn't go my way on this top.  Quality is fine.  Priced appropriate.\",\n",
       "   \"It does run big.  Buy a size down.  I usually wear a large.  And I purchased the medium.  It was a great fit.  It's even better looking in person.\",\n",
       "   'Easy to wear. Travels well.',\n",
       "   'I liked it.',\n",
       "   'Runs a little big I thought but this is a super comfy shirt.',\n",
       "   'Nice product',\n",
       "   'The fabric feels good, size was as expected, good length. Good quality for the price. Overall satisfied.',\n",
       "   'Fit as expected.',\n",
       "   'I love it...little less that true to size. I am a XL and the LARGE was perfect.',\n",
       "   'I liked it..light weight..comfortable wear',\n",
       "   'Beauitful long sleeved shirt. Nicely made for the low price.',\n",
       "   \"Fits like a dress. Ordered a medium which is my usual size. You could probably order a size down if you don't want it to look like a dress. Cute with leggings.\",\n",
       "   \"I purchased one like this previously with a chevron design. I liked it and I also like this one!  These can also be paired with a large belt for a slightly different look! I ordered size large. I am regularly a size 11/12 5'3 175lbs.\",\n",
       "   \"Looks great. It's a tunic so it hides my flat butt. I am loving this brand!!!!! The sleeves are a little short though.\",\n",
       "   'Thin material, light-weight.  I ordered an XS and I think it fits fine.  Covers my butt, and not too huge.',\n",
       "   'Great shirt, and very cute.',\n",
       "   'Nice top, but says happy baby and some other nonsense words. Maternity top? Very nice fit though. I gave it to my daughter who is expecting her 1st baby!',\n",
       "   'I bought this shirt in a size large.  I normally wear size large or x-large depending on the clothing.  Just to give you an idea of my body size, i am 5\\'3\" and wear a size 14 in jeans.  I wear a 38C and my waist measures at 38 inches.  I also have broad shoulders.  This shirt fit me well.  I would advise that if you are a skinny or small person that you go down a size as I was expecting the large to be a bit small.  The only issue I have with this shirt is that it is a bit thin.  However it is super cute.',\n",
       "   'It looks very nice, I like it!',\n",
       "   'I like the shirt...A little thin for MN. winters thou',\n",
       "   \"It's a little tight after a few washes, but it's held up well.\",\n",
       "   'Cute print. Runs slightly large. Fabric very thin, expect to wear something underneath.',\n",
       "   'This cute and nicely oversized. The fabric is neither too thin nor thick',\n",
       "   \"It's a little but thinner than I expected but it's super cute and comfortable.\",\n",
       "   'THANKS YOU',\n",
       "   \"Very nice shirt. Very soft. It fits just like the picture. The length and size are accurate. I ordered a medium and it fits like the photo. The sides being scrunched up is SO CUTE. The only complaint is that it's a bit see through. Not much though, just a tad.\",\n",
       "   'I liked the blouse, though it is somewhat long for me. My height is 168 cm',\n",
       "   'Cute sweater shirt....I really like it a lot.',\n",
       "   \"I wasn't sure if this would be to long (Im 5 ft tall) but with my leggings it was perfect. It was a great price also, wish I had ordered the other color also).\",\n",
       "   'fit good'],\n",
       "  '2.0': ['Looks terrible',\n",
       "   \"It's way too big and compared with the size above it, which was the only other option, it wasn't that much smaller. It's a shame.\",\n",
       "   \"it's really not cute.\",\n",
       "   'I initially ordered this in large, which I returned for a medium. I really wish I would have sized down to small because the medium was still too big. Also, I am not sure what fabric this material is made of, but it was too warm, and the material is not breathable. Put on lots of deodorant when wearing this top.',\n",
       "   'way to big and long I am 5\\' 2\"',\n",
       "   \"This just...is. It hangs, is sloppy, no shape and the material is some sort of terrible cheap polyester. I know it's less than $14, so why complain, but I do have higher expectations I guess for materials.\",\n",
       "   'As expected',\n",
       "   'This shirt is not as expected, more like sweater material than polyester , a little disappointed!'],\n",
       "  '3.0': [\"Very casual! Nothing special, not my favorite, but could be worse, meaning it doesn't look good quality or stylish, very simple. Maybe for a colder day to go out to nature!:)\",\n",
       "   'Good product and quality',\n",
       "   'Way to long for me, but great quality.',\n",
       "   'Very cheap feeling material.  But cost was low and I just wear it around the house',\n",
       "   'I normally wear a xl us size, the first Allegra K shirt i bought was a bit big but comfy, so i decided to buy this one a size down. Still fit big and i almost want to say you have to have some hips/curves for this shirt. The material is thin and not warm. Also my shirt says \"Angela Baby\" of course with other wtitings also but Angela baby stands out most, thats a disappointment.',\n",
       "   'OK...decent quality but runs big',\n",
       "   'okay but too wide',\n",
       "   'I wore this for Christmas at my inlaws, very comfortable, nice fabric fits like an off the shoulder shirt.',\n",
       "   'Love the style. The graphic print is cute and modern. The fit is slightly tapered on the sides but not at all tight. The rouching on the bottom is flattering. It covers my bigger belly while accentuating my thinner legs. Looks good with leggings and tall boots. It is almost like a dress on me. Got compliments on it the one time I\\'ve worn it so far. I do not like the material though. It is a bit scratchy and not very thick like the picture implies. It is loosely woven thin material that looks and feels like it will pill and possibly fall apart after its first wash. We will see. I will wash by hand and hang dry to extend its life. I usually wear a large in something like this as I want it to be roomy. I went with the medium after reading the reviews. I\\'m glad that I did. A large would have been too big. I fluctuate between 140 and 160 lbs. I\\'m on the heavier side right now, and I feel very comfy in it. I\\'m 5\\'5\", thin legs and thighs, thick waist, small chest, very short torso, 31\" in seam, narrow shoulders, rounded booty. This covers the thick parts of my body and flatters the better parts. Would be good for post partum or early pregnancy as it has room for extra stomach.',\n",
       "   'Nice top, but the fit is large.',\n",
       "   'Not bad! Not so good either. Whites are more like grey in reality.',\n",
       "   'It was smaller than I thought it would be, but still a cute shirt. The arms are but tighter thsn I would like, but with s little working out and eating right, should fit better. Nice and thin for spring coming up too.',\n",
       "   \"I love shirts that are different that is why I love Alegra K.  This item is a  it too baggy for my taste wish I got a medium bc . I have a large with their other sweaters  so I think this runs big.  I like it this sweater anyway bc its cute.  I hate boring ,ordinary sweaters I will wait until I am  a very old lady to wear them!  It's fun!  Recommend.  Don't expect heavy material.\",\n",
       "   'Not as good as some of the other products from Allegra K. Very stretchy. Much larger than expected.'],\n",
       "  '1.0': ['I returned the product',\n",
       "   'Way too big!  Looks more like a dress. Cannot wear.',\n",
       "   'Cheaply made. White and black with light BLUE thread. Seams are awful! This is going back!',\n",
       "   'Sleeves are way way long, neck and shoulders wide and hips narrow. I was going to return, but even as a Prime member, it has to go to China, and I am required to pay postage...over $20 for a $13 dollar purchase. Really, Amazon?',\n",
       "   \"I have bought several Allegra K clothing items. This is YET another I have bought; literally worn twice...hand washed with a gentle detergent...and it is snagged in multiple places already making it unwearable. I'm extremely disappointed.\",\n",
       "   'I returned this top! The material was real cheap and see through! Did not fit as expected! Buy at least one size up if you are going to order!']}}"
      ]
     },
     "execution_count": 56,
     "metadata": {},
     "output_type": "execute_result"
    }
   ],
   "source": [
    "item_information['0']"
   ]
  },
  {
   "cell_type": "code",
   "execution_count": 127,
   "id": "4101596b-e5c0-4b0c-8dc5-6dbab55f98fb",
   "metadata": {},
   "outputs": [],
   "source": [
    "import random\n",
    "\n",
    "def select_reviews(item_reviews):\n",
    "    random.seed(42)\n",
    "    total_reviews = 0\n",
    "    rating_wise_reviews = {'1.0': 0 , '2.0': 0, '3.0': 0, '4.0': 0, '5.0': 0}\n",
    "    for rating, reviews in item_reviews.items():\n",
    "        total_reviews += len(reviews)\n",
    "        rating_wise_reviews[rating] += len(reviews)\n",
    "    # print(\"total_reviews:\", total_reviews)\n",
    "    # print(\"rating_wise_reviews:\", rating_wise_reviews)\n",
    "\n",
    "    ### Take 10 reviews accoridng to distribution if num of total reviews > 10 else take all reviews\n",
    "    if total_reviews <= 10:\n",
    "        reviews_for_description = []\n",
    "        for rating, reviews in item_reviews.items():\n",
    "            reviews_for_description.extend(reviews)\n",
    "        # print(reviews_for_description)\n",
    "        return reviews_for_description\n",
    "    else:\n",
    "        rating_distribution = {k: v/total_reviews for k, v in rating_wise_reviews.items()}\n",
    "        rating_count = {k: round(v*10) for k, v in rating_distribution.items()}\n",
    "        rating_wise_reviews = dict(sorted(rating_wise_reviews.items(), key = lambda item: item[1], reverse = True))\n",
    "        # print(\"Sorted rating_wise_reviews:\", rating_wise_reviews)\n",
    "        ### Starting from the highest present rating assign 1 each\n",
    "        current_num_reviews = sum(list(rating_count.values()))\n",
    "        while current_num_reviews < 10:\n",
    "            for rating, num_reviews in rating_wise_reviews.items():\n",
    "                if current_num_reviews < 10:\n",
    "                    if num_reviews > rating_count[rating]:\n",
    "                        rating_count[rating] += 1\n",
    "                        current_num_reviews += 1\n",
    "        # print(\"rating_distribution:\", rating_distribution)\n",
    "        # print(\"rating_count:\", rating_count)\n",
    "        reviews_for_description = []\n",
    "        '''\n",
    "        Randomly sample the reviews by weights (length of reviews)\n",
    "        '''\n",
    "        for rating, reviews in item_reviews.items():\n",
    "            weights = [len(review) for review in reviews]\n",
    "            sampled_reviews = random.choices(reviews, weights=weights, k=rating_count[rating])\n",
    "            # print(sampled_reviews)\n",
    "            reviews_for_description.extend(sampled_reviews)\n",
    "        return reviews_for_description"
   ]
  },
  {
   "cell_type": "code",
   "execution_count": 128,
   "id": "2bff0df7-3b10-4061-9471-4a583ffc069d",
   "metadata": {},
   "outputs": [],
   "source": [
    "for item in item_information:\n",
    "    # print(item)\n",
    "    # print(item_information[item])\n",
    "    item_information[item]['reviews_for_description'] = select_reviews(item_information[item]['reviews'])\n",
    "    # break"
   ]
  },
  {
   "cell_type": "code",
   "execution_count": 133,
   "id": "492cdf6a-8562-4f90-90fd-89d0099bfb81",
   "metadata": {},
   "outputs": [
    {
     "data": {
      "text/plain": [
       "['Cute top. I am 5\\'9\" and 175 lbs with DDD bra size. This top is very flattering, covers my belly which I love. I usually order an XL, but went with a large, and am pleased with that. Will order another.',\n",
       " 'Everybody LOVES this top, fits perfectly, so flattering and unique. Very happy with this purchase!!',\n",
       " 'Love this shirt! The combination of stretchy and flowy is so hard to find! I\\'m adapting to my transitioning \"mom bod\" after having my second child. Needless to say, I didn\\'t bounce back. I feel so great wearing this with some leggings! It\\'s flattering and doesn\\'t overly emphasize the fact that I\\'m carrying some extra weight. I love that it has a conservative neckline, too. The medium fits me great, if not a little big. I\\'m on the large end of being able to fit in medium shirts, if that helps. I am a true size 8, and am 5\\'8\" tall and it fits me like the model picture in length.',\n",
       " 'Looks even better in person.  Love it!',\n",
       " 'Got a lot of compliments wearing this. I am a size 14 and this fit perfectly. I love all of my tops from Allegra K',\n",
       " \"I LOVE THIS DRESS!! I wear it as a dress with sheer pantyhoses and pumps, and it looks amazing! I wish I had a picture of me in it so y'all could see how cute and sexy it looks while it being modest on the top. Also, it's super soft!\",\n",
       " \"Great product. Very good quality for the price- maybe a little thin but just as good as anything you'd get at Walmart or something. The size seems to run a bit large. I'm 5'2, 120 pounds and the small fits like a short dress, but I think its supposed to be like that. Also I like the little smiley faces and the tapering (is that what its called?) on the sides\",\n",
       " \"If you ever happen to shop at a retailer like Ross Dress for Less, this is the exact quality you would get from there.  Specifically from the junior section where they have a bunch of no name brands that look cute but wasn't designed to last long.  Personally it looks cute but I know this blouse was not meant to worn for years on end and in some regards I am okay with that.  This is a thin, lightweight sweater.  So if you are self-conscious about your bra showing, just wear a nude color or wear a camisole underneath.  Personally I am shameless so I don't care unless I am cold, then I would throw this over a shirt.\",\n",
       " \"It does run big.  Buy a size down.  I usually wear a large.  And I purchased the medium.  It was a great fit.  It's even better looking in person.\",\n",
       " \"Very casual! Nothing special, not my favorite, but could be worse, meaning it doesn't look good quality or stylish, very simple. Maybe for a colder day to go out to nature!:)\"]"
      ]
     },
     "execution_count": 133,
     "metadata": {},
     "output_type": "execute_result"
    }
   ],
   "source": [
    "item_information['0']['reviews_for_description']"
   ]
  },
  {
   "cell_type": "code",
   "execution_count": 134,
   "id": "83c6d7bf-3372-4fe4-ad7b-779c43d28c07",
   "metadata": {},
   "outputs": [],
   "source": [
    "with open('./Fashion/data/item_information.json', 'w+') as f:\n",
    "    json.dump(item_information, f)"
   ]
  },
  {
   "cell_type": "markdown",
   "id": "adb4747d-1058-43ec-96f6-738088a73974",
   "metadata": {},
   "source": [
    "### Create item description using chatgpt api - gpt3.5-instruct"
   ]
  },
  {
   "cell_type": "code",
   "execution_count": 4,
   "id": "d2067714-f0a0-4c07-ba4e-2fa1b52b6cf2",
   "metadata": {},
   "outputs": [],
   "source": [
    "openai.api_key = os.environ.get('OPENAI_API_KEY')\n",
    "# print(openai.api_key)"
   ]
  },
  {
   "cell_type": "code",
   "execution_count": 12,
   "id": "4080fc56-e07c-4d11-8740-9f4bacb54446",
   "metadata": {},
   "outputs": [
    {
     "name": "stdout",
     "output_type": "stream",
     "text": [
      "\n",
      "\n",
      "Description: This Allegra K knit shirt is a flattering and unique top with a combination of stretchy and flowy fabric. It has a conservative neckline and is perfect for transitioning \"mom bods.\"\n"
     ]
    }
   ],
   "source": [
    "text = \"\"\"You are given the title of an fashion product and the list of reviews about the product -  \n",
    "Title: Allegra K Lady Long Sleeve Letter Pattern Pullover Knit Shirt Black S\n",
    "List of Reviews: 'Cute top. I am 5\\'9\" and 175 lbs with DDD bra size. This top is very flattering, covers my belly which I love. I usually order an XL, but went with a large, and am pleased with that. Will order another.',\n",
    " 'Everybody LOVES this top, fits perfectly, so flattering and unique. Very happy with this purchase!!',\n",
    " 'Love this shirt! The combination of stretchy and flowy is so hard to find! I\\'m adapting to my transitioning \"mom bod\" after having my second child. Needless to say, I didn\\'t bounce back. I feel so great wearing this with some leggings! It\\'s flattering and doesn\\'t overly emphasize the fact that I\\'m carrying some extra weight. I love that it has a conservative neckline, too. The medium fits me great, if not a little big. I\\'m on the large end of being able to fit in medium shirts, if that helps. I am a true size 8, and am 5\\'8\" tall and it fits me like the model picture in length.',\n",
    " 'Looks even better in person.  Love it!',\n",
    " 'Got a lot of compliments wearing this. I am a size 14 and this fit perfectly. I love all of my tops from Allegra K',\n",
    " \"I LOVE THIS DRESS!! I wear it as a dress with sheer pantyhoses and pumps, and it looks amazing! I wish I had a picture of me in it so y'all could see how cute and sexy it looks while it being modest on the top. Also, it's super soft!\",\n",
    " \"Great product. Very good quality for the price- maybe a little thin but just as good as anything you'd get at Walmart or something. The size seems to run a bit large. I'm 5'2, 120 pounds and the small fits like a short dress, but I think its supposed to be like that. Also I like the little smiley faces and the tapering (is that what its called?) on the sides\",\n",
    " \"If you ever happen to shop at a retailer like Ross Dress for Less, this is the exact quality you would get from there.  Specifically from the junior section where they have a bunch of no name brands that look cute but wasn't designed to last long.  Personally it looks cute but I know this blouse was not meant to worn for years on end and in some regards I am okay with that.  This is a thin, lightweight sweater.  So if you are self-conscious about your bra showing, just wear a nude color or wear a camisole underneath.  Personally I am shameless so I don't care unless I am cold, then I would throw this over a shirt.\",\n",
    " \"It does run big.  Buy a size down.  I usually wear a large.  And I purchased the medium.  It was a great fit.  It's even better looking in person.\",\n",
    " \"Very casual! Nothing special, not my favorite, but could be worse, meaning it doesn't look good quality or stylish, very simple. Maybe for a colder day to go out to nature!:)\"\n",
    "As an expert fashion product recommender and advertiser, extract the strong (positive) and weak (negative) features or characteristics of the product from the reviews. Give a 25 word description of the item from its title and summarized features. You should only give the 25 word product description.\"\"\"\n",
    "response = openai.completions.create(\n",
    "  model=\"gpt-3.5-turbo-instruct\",\n",
    "  prompt = text,\n",
    "  temperature=0,\n",
    "  max_tokens=50,\n",
    "  # top_p=0.3,\n",
    "  # frequency_penalty=0.5,\n",
    "  # presence_penalty=0.5\n",
    ")\n",
    "print(response.choices[0].text)"
   ]
  },
  {
   "cell_type": "code",
   "execution_count": null,
   "id": "ebf78c8d-a040-4689-b064-d2cf41ac43c9",
   "metadata": {},
   "outputs": [],
   "source": []
  }
 ],
 "metadata": {
  "kernelspec": {
   "display_name": "Python 3 (ipykernel)",
   "language": "python",
   "name": "python3"
  },
  "language_info": {
   "codemirror_mode": {
    "name": "ipython",
    "version": 3
   },
   "file_extension": ".py",
   "mimetype": "text/x-python",
   "name": "python",
   "nbconvert_exporter": "python",
   "pygments_lexer": "ipython3",
   "version": "3.9.18"
  }
 },
 "nbformat": 4,
 "nbformat_minor": 5
}
