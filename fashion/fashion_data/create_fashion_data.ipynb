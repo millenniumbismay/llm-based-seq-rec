{
 "cells": [
  {
   "cell_type": "code",
   "execution_count": 1,
   "id": "951ae561-5ec6-4f0f-923a-f8acf34b82f5",
   "metadata": {},
   "outputs": [],
   "source": [
    "import pandas as pd\n",
    "import numpy as np\n",
    "import os\n",
    "import json\n",
    "import pickle"
   ]
  },
  {
   "cell_type": "code",
   "execution_count": 2,
   "id": "76d57b98-03ce-45a7-a2ed-c98c626919f7",
   "metadata": {},
   "outputs": [],
   "source": [
    "rating_path = './Fashion/AMAZON_FASHION.csv'"
   ]
  },
  {
   "cell_type": "code",
   "execution_count": 3,
   "id": "2f000e5c-8b36-4fc0-96a0-fca7cbbf1b3f",
   "metadata": {},
   "outputs": [
    {
     "name": "stdout",
     "output_type": "stream",
     "text": [
      "(883636, 4)\n"
     ]
    },
    {
     "data": {
      "text/html": [
       "<div>\n",
       "<style scoped>\n",
       "    .dataframe tbody tr th:only-of-type {\n",
       "        vertical-align: middle;\n",
       "    }\n",
       "\n",
       "    .dataframe tbody tr th {\n",
       "        vertical-align: top;\n",
       "    }\n",
       "\n",
       "    .dataframe thead th {\n",
       "        text-align: right;\n",
       "    }\n",
       "</style>\n",
       "<table border=\"1\" class=\"dataframe\">\n",
       "  <thead>\n",
       "    <tr style=\"text-align: right;\">\n",
       "      <th></th>\n",
       "      <th>item</th>\n",
       "      <th>user</th>\n",
       "      <th>rating</th>\n",
       "      <th>timestamp</th>\n",
       "    </tr>\n",
       "  </thead>\n",
       "  <tbody>\n",
       "    <tr>\n",
       "      <th>0</th>\n",
       "      <td>7106116521</td>\n",
       "      <td>A1D4G1SNUZWQOT</td>\n",
       "      <td>5.0</td>\n",
       "      <td>1413763200</td>\n",
       "    </tr>\n",
       "    <tr>\n",
       "      <th>1</th>\n",
       "      <td>7106116521</td>\n",
       "      <td>A3DDWDH9PX2YX2</td>\n",
       "      <td>2.0</td>\n",
       "      <td>1411862400</td>\n",
       "    </tr>\n",
       "    <tr>\n",
       "      <th>2</th>\n",
       "      <td>7106116521</td>\n",
       "      <td>A2MWC41EW7XL15</td>\n",
       "      <td>4.0</td>\n",
       "      <td>1408924800</td>\n",
       "    </tr>\n",
       "    <tr>\n",
       "      <th>3</th>\n",
       "      <td>7106116521</td>\n",
       "      <td>A2UH2QQ275NV45</td>\n",
       "      <td>2.0</td>\n",
       "      <td>1408838400</td>\n",
       "    </tr>\n",
       "    <tr>\n",
       "      <th>4</th>\n",
       "      <td>7106116521</td>\n",
       "      <td>A89F3LQADZBS5</td>\n",
       "      <td>3.0</td>\n",
       "      <td>1406419200</td>\n",
       "    </tr>\n",
       "  </tbody>\n",
       "</table>\n",
       "</div>"
      ],
      "text/plain": [
       "         item            user  rating   timestamp\n",
       "0  7106116521  A1D4G1SNUZWQOT     5.0  1413763200\n",
       "1  7106116521  A3DDWDH9PX2YX2     2.0  1411862400\n",
       "2  7106116521  A2MWC41EW7XL15     4.0  1408924800\n",
       "3  7106116521  A2UH2QQ275NV45     2.0  1408838400\n",
       "4  7106116521   A89F3LQADZBS5     3.0  1406419200"
      ]
     },
     "execution_count": 3,
     "metadata": {},
     "output_type": "execute_result"
    }
   ],
   "source": [
    "custom_header = ['item', 'user', 'rating', 'timestamp']\n",
    "ratings_df = pd.read_csv(rating_path, header = None, names = custom_header)\n",
    "print(ratings_df.shape)\n",
    "ratings_df.head()"
   ]
  },
  {
   "cell_type": "code",
   "execution_count": 4,
   "id": "654a71e1-44c9-4717-ae0d-09bd0d6510ef",
   "metadata": {},
   "outputs": [],
   "source": [
    "fashion_5core_path = './Fashion/AMAZON_FASHION_5.json'\n",
    "fashion_5core = []\n",
    "with open(fashion_5core_path, 'rb') as f:\n",
    "    for line in f:\n",
    "        fashion_5core.append(json.loads(line))"
   ]
  },
  {
   "cell_type": "code",
   "execution_count": 5,
   "id": "1c3908a6-f026-4764-b944-5308d09420d6",
   "metadata": {},
   "outputs": [
    {
     "name": "stdout",
     "output_type": "stream",
     "text": [
      "3176\n"
     ]
    }
   ],
   "source": [
    "print(len(fashion_5core))"
   ]
  },
  {
   "cell_type": "code",
   "execution_count": 6,
   "id": "658b4f9a-ade4-4b6c-9eda-4beeddda79ed",
   "metadata": {},
   "outputs": [
    {
     "name": "stdout",
     "output_type": "stream",
     "text": [
      "(883636, 4)\n"
     ]
    },
    {
     "data": {
      "text/html": [
       "<div>\n",
       "<style scoped>\n",
       "    .dataframe tbody tr th:only-of-type {\n",
       "        vertical-align: middle;\n",
       "    }\n",
       "\n",
       "    .dataframe tbody tr th {\n",
       "        vertical-align: top;\n",
       "    }\n",
       "\n",
       "    .dataframe thead th {\n",
       "        text-align: right;\n",
       "    }\n",
       "</style>\n",
       "<table border=\"1\" class=\"dataframe\">\n",
       "  <thead>\n",
       "    <tr style=\"text-align: right;\">\n",
       "      <th></th>\n",
       "      <th>item</th>\n",
       "      <th>user</th>\n",
       "      <th>rating</th>\n",
       "      <th>timestamp</th>\n",
       "    </tr>\n",
       "  </thead>\n",
       "  <tbody>\n",
       "    <tr>\n",
       "      <th>0</th>\n",
       "      <td>B00L8J2RF8</td>\n",
       "      <td>A0007604Q2582KFW7N4B</td>\n",
       "      <td>5.0</td>\n",
       "      <td>1426377600</td>\n",
       "    </tr>\n",
       "    <tr>\n",
       "      <th>1</th>\n",
       "      <td>B0121M1AJE</td>\n",
       "      <td>A0010606488RW7ZH6EP7</td>\n",
       "      <td>1.0</td>\n",
       "      <td>1507852800</td>\n",
       "    </tr>\n",
       "    <tr>\n",
       "      <th>2</th>\n",
       "      <td>B00IGAOE3U</td>\n",
       "      <td>A001152055E9KVRHH96L</td>\n",
       "      <td>1.0</td>\n",
       "      <td>1434585600</td>\n",
       "    </tr>\n",
       "    <tr>\n",
       "      <th>3</th>\n",
       "      <td>B01GK6XQFI</td>\n",
       "      <td>A00181966XZUX7KEGYLH</td>\n",
       "      <td>3.0</td>\n",
       "      <td>1468022400</td>\n",
       "    </tr>\n",
       "    <tr>\n",
       "      <th>4</th>\n",
       "      <td>B00RLSCLJM</td>\n",
       "      <td>A00205926S885DTOYMX6</td>\n",
       "      <td>5.0</td>\n",
       "      <td>1441497600</td>\n",
       "    </tr>\n",
       "  </tbody>\n",
       "</table>\n",
       "</div>"
      ],
      "text/plain": [
       "         item                  user  rating   timestamp\n",
       "0  B00L8J2RF8  A0007604Q2582KFW7N4B     5.0  1426377600\n",
       "1  B0121M1AJE  A0010606488RW7ZH6EP7     1.0  1507852800\n",
       "2  B00IGAOE3U  A001152055E9KVRHH96L     1.0  1434585600\n",
       "3  B01GK6XQFI  A00181966XZUX7KEGYLH     3.0  1468022400\n",
       "4  B00RLSCLJM  A00205926S885DTOYMX6     5.0  1441497600"
      ]
     },
     "execution_count": 6,
     "metadata": {},
     "output_type": "execute_result"
    }
   ],
   "source": [
    "rating_df = ratings_df.sort_values(by=['user', 'timestamp'])\n",
    "rating_df = rating_df.reset_index(drop = True)\n",
    "print(rating_df.shape)\n",
    "rating_df.head()"
   ]
  },
  {
   "cell_type": "code",
   "execution_count": 8,
   "id": "22cac7e4-ffc1-44f4-91a9-2fe36dc0688f",
   "metadata": {},
   "outputs": [
    {
     "name": "stdout",
     "output_type": "stream",
     "text": [
      "(11136, 4)\n"
     ]
    },
    {
     "data": {
      "text/html": [
       "<div>\n",
       "<style scoped>\n",
       "    .dataframe tbody tr th:only-of-type {\n",
       "        vertical-align: middle;\n",
       "    }\n",
       "\n",
       "    .dataframe tbody tr th {\n",
       "        vertical-align: top;\n",
       "    }\n",
       "\n",
       "    .dataframe thead th {\n",
       "        text-align: right;\n",
       "    }\n",
       "</style>\n",
       "<table border=\"1\" class=\"dataframe\">\n",
       "  <thead>\n",
       "    <tr style=\"text-align: right;\">\n",
       "      <th></th>\n",
       "      <th>item</th>\n",
       "      <th>user</th>\n",
       "      <th>rating</th>\n",
       "      <th>timestamp</th>\n",
       "    </tr>\n",
       "  </thead>\n",
       "  <tbody>\n",
       "    <tr>\n",
       "      <th>3238</th>\n",
       "      <td>B00HFKN2IU</td>\n",
       "      <td>A10G10SU7SAUG1</td>\n",
       "      <td>4.0</td>\n",
       "      <td>1452816000</td>\n",
       "    </tr>\n",
       "    <tr>\n",
       "      <th>3239</th>\n",
       "      <td>B009PMILQE</td>\n",
       "      <td>A10G10SU7SAUG1</td>\n",
       "      <td>4.0</td>\n",
       "      <td>1453766400</td>\n",
       "    </tr>\n",
       "    <tr>\n",
       "      <th>3240</th>\n",
       "      <td>B00D83TNRM</td>\n",
       "      <td>A10G10SU7SAUG1</td>\n",
       "      <td>3.0</td>\n",
       "      <td>1453766400</td>\n",
       "    </tr>\n",
       "    <tr>\n",
       "      <th>3241</th>\n",
       "      <td>B00E1L9QOU</td>\n",
       "      <td>A10G10SU7SAUG1</td>\n",
       "      <td>4.0</td>\n",
       "      <td>1453766400</td>\n",
       "    </tr>\n",
       "    <tr>\n",
       "      <th>3242</th>\n",
       "      <td>B00AW83HM8</td>\n",
       "      <td>A10G10SU7SAUG1</td>\n",
       "      <td>4.0</td>\n",
       "      <td>1453766400</td>\n",
       "    </tr>\n",
       "  </tbody>\n",
       "</table>\n",
       "</div>"
      ],
      "text/plain": [
       "            item            user  rating   timestamp\n",
       "3238  B00HFKN2IU  A10G10SU7SAUG1     4.0  1452816000\n",
       "3239  B009PMILQE  A10G10SU7SAUG1     4.0  1453766400\n",
       "3240  B00D83TNRM  A10G10SU7SAUG1     3.0  1453766400\n",
       "3241  B00E1L9QOU  A10G10SU7SAUG1     4.0  1453766400\n",
       "3242  B00AW83HM8  A10G10SU7SAUG1     4.0  1453766400"
      ]
     },
     "execution_count": 8,
     "metadata": {},
     "output_type": "execute_result"
    }
   ],
   "source": [
    "ratings_7core = rating_df.groupby('user').filter(lambda x: len(x) >= 7)\n",
    "print(ratings_7core.shape)\n",
    "ratings_7core.head()"
   ]
  },
  {
   "cell_type": "code",
   "execution_count": 9,
   "id": "650c798e-9223-4b2c-a4ba-34a9b2faee61",
   "metadata": {},
   "outputs": [
    {
     "name": "stdout",
     "output_type": "stream",
     "text": [
      "Unique items: 6089\n",
      "Unique users: 1273\n"
     ]
    }
   ],
   "source": [
    "print(\"Unique items:\", ratings_7core['item'].nunique())\n",
    "print(\"Unique users:\", ratings_7core['user'].nunique())"
   ]
  },
  {
   "cell_type": "code",
   "execution_count": 10,
   "id": "330c3fa6-eaf7-41d8-bfdb-fd32f275bf73",
   "metadata": {},
   "outputs": [
    {
     "data": {
      "text/plain": [
       "rating\n",
       "5.0    6427\n",
       "4.0    2158\n",
       "3.0    1293\n",
       "1.0     655\n",
       "2.0     603\n",
       "Name: count, dtype: int64"
      ]
     },
     "execution_count": 10,
     "metadata": {},
     "output_type": "execute_result"
    }
   ],
   "source": [
    "ratings_7core.rating.value_counts()"
   ]
  },
  {
   "cell_type": "code",
   "execution_count": 11,
   "id": "4975beb4-93e2-4e3d-bced-28bd0e549790",
   "metadata": {},
   "outputs": [],
   "source": [
    "meta_fashion_path = \"./Fashion/meta_AMAZON_FASHION.json\"\n",
    "meta_fashion = []\n",
    "with open(meta_fashion_path, 'r') as f:\n",
    "    for line in f:\n",
    "        meta_fashion.append(json.loads(line))"
   ]
  },
  {
   "cell_type": "code",
   "execution_count": 12,
   "id": "666f143f-82a2-49f5-b1c4-7d9bb958bfaf",
   "metadata": {},
   "outputs": [
    {
     "name": "stdout",
     "output_type": "stream",
     "text": [
      "186637\n"
     ]
    }
   ],
   "source": [
    "print(len(meta_fashion))"
   ]
  },
  {
   "cell_type": "code",
   "execution_count": 13,
   "id": "ef34f6d4-c538-4984-bda4-f5f77149059f",
   "metadata": {},
   "outputs": [
    {
     "name": "stdout",
     "output_type": "stream",
     "text": [
      "{'title': 'Slime Time Fall Fest [With CDROM and Collector Cards and Neutron Balls, Incredi-Ball and Glow Stick Necklace, Paper Fram', 'brand': 'Group Publishing (CO)', 'feature': ['Product Dimensions:\\n                    \\n8.7 x 3.6 x 11.4 inches', 'Shipping Weight:\\n                    \\n2.4 pounds'], 'rank': '13,052,976inClothing,Shoesamp;Jewelry(', 'date': '8.70 inches', 'asin': '0764443682', 'imageURL': ['https://images-na.ssl-images-amazon.com/images/I/51bSrINiWpL._US40_.jpg'], 'imageURLHighRes': ['https://images-na.ssl-images-amazon.com/images/I/51bSrINiWpL.jpg']}\n"
     ]
    }
   ],
   "source": [
    "print(meta_fashion[0])"
   ]
  },
  {
   "cell_type": "code",
   "execution_count": 15,
   "id": "bd15618e-dd9c-4bbb-9d87-33a57b119483",
   "metadata": {},
   "outputs": [
    {
     "data": {
      "text/plain": [
       "{'overall': 5.0,\n",
       " 'verified': True,\n",
       " 'reviewTime': '09 4, 2015',\n",
       " 'reviewerID': 'ALJ66O1Y6SLHA',\n",
       " 'asin': 'B000K2PJ4K',\n",
       " 'style': {'Size:': ' Big Boys', 'Color:': ' Blue/Orange'},\n",
       " 'reviewerName': 'Tonya B.',\n",
       " 'reviewText': 'Great product and price!',\n",
       " 'summary': 'Five Stars',\n",
       " 'unixReviewTime': 1441324800}"
      ]
     },
     "execution_count": 15,
     "metadata": {},
     "output_type": "execute_result"
    }
   ],
   "source": [
    "fashion_5core[0]"
   ]
  },
  {
   "cell_type": "markdown",
   "id": "0d8a2e83-615a-4762-b0ed-2cbcde2a6d4d",
   "metadata": {},
   "source": [
    "### Creating user and item mapping"
   ]
  },
  {
   "cell_type": "code",
   "execution_count": 16,
   "id": "0abd5e83-2583-4f54-9bc0-ec1f23746252",
   "metadata": {},
   "outputs": [
    {
     "data": {
      "text/html": [
       "<div>\n",
       "<style scoped>\n",
       "    .dataframe tbody tr th:only-of-type {\n",
       "        vertical-align: middle;\n",
       "    }\n",
       "\n",
       "    .dataframe tbody tr th {\n",
       "        vertical-align: top;\n",
       "    }\n",
       "\n",
       "    .dataframe thead th {\n",
       "        text-align: right;\n",
       "    }\n",
       "</style>\n",
       "<table border=\"1\" class=\"dataframe\">\n",
       "  <thead>\n",
       "    <tr style=\"text-align: right;\">\n",
       "      <th></th>\n",
       "      <th>item</th>\n",
       "      <th>user</th>\n",
       "      <th>rating</th>\n",
       "      <th>timestamp</th>\n",
       "    </tr>\n",
       "  </thead>\n",
       "  <tbody>\n",
       "    <tr>\n",
       "      <th>3238</th>\n",
       "      <td>B00HFKN2IU</td>\n",
       "      <td>A10G10SU7SAUG1</td>\n",
       "      <td>4.0</td>\n",
       "      <td>1452816000</td>\n",
       "    </tr>\n",
       "    <tr>\n",
       "      <th>3239</th>\n",
       "      <td>B009PMILQE</td>\n",
       "      <td>A10G10SU7SAUG1</td>\n",
       "      <td>4.0</td>\n",
       "      <td>1453766400</td>\n",
       "    </tr>\n",
       "    <tr>\n",
       "      <th>3240</th>\n",
       "      <td>B00D83TNRM</td>\n",
       "      <td>A10G10SU7SAUG1</td>\n",
       "      <td>3.0</td>\n",
       "      <td>1453766400</td>\n",
       "    </tr>\n",
       "    <tr>\n",
       "      <th>3241</th>\n",
       "      <td>B00E1L9QOU</td>\n",
       "      <td>A10G10SU7SAUG1</td>\n",
       "      <td>4.0</td>\n",
       "      <td>1453766400</td>\n",
       "    </tr>\n",
       "    <tr>\n",
       "      <th>3242</th>\n",
       "      <td>B00AW83HM8</td>\n",
       "      <td>A10G10SU7SAUG1</td>\n",
       "      <td>4.0</td>\n",
       "      <td>1453766400</td>\n",
       "    </tr>\n",
       "  </tbody>\n",
       "</table>\n",
       "</div>"
      ],
      "text/plain": [
       "            item            user  rating   timestamp\n",
       "3238  B00HFKN2IU  A10G10SU7SAUG1     4.0  1452816000\n",
       "3239  B009PMILQE  A10G10SU7SAUG1     4.0  1453766400\n",
       "3240  B00D83TNRM  A10G10SU7SAUG1     3.0  1453766400\n",
       "3241  B00E1L9QOU  A10G10SU7SAUG1     4.0  1453766400\n",
       "3242  B00AW83HM8  A10G10SU7SAUG1     4.0  1453766400"
      ]
     },
     "execution_count": 16,
     "metadata": {},
     "output_type": "execute_result"
    }
   ],
   "source": [
    "ratings_7core.head()"
   ]
  },
  {
   "cell_type": "code",
   "execution_count": 18,
   "id": "8d5f8b03-e108-4d01-a671-70d69bc9488f",
   "metadata": {},
   "outputs": [],
   "source": [
    "item_mapping = {item: idx for idx, item in enumerate(ratings_7core['item'].unique())}\n",
    "user_mapping = {user: idx for idx, user in enumerate(ratings_7core['user'].unique())}"
   ]
  },
  {
   "cell_type": "code",
   "execution_count": 19,
   "id": "28c5334a-4147-409c-957f-7c3822876c1c",
   "metadata": {},
   "outputs": [
    {
     "name": "stdout",
     "output_type": "stream",
     "text": [
      "6089 1273\n"
     ]
    }
   ],
   "source": [
    "print(len(item_mapping), len(user_mapping))"
   ]
  },
  {
   "cell_type": "code",
   "execution_count": 20,
   "id": "b28a7348-9ac8-4d35-8c85-22d15621e48f",
   "metadata": {},
   "outputs": [],
   "source": [
    "reverse_item_mapping = {v:k for k,v in item_mapping.items()}\n",
    "reverse_user_mapping = {v:k for k,v in user_mapping.items()}"
   ]
  },
  {
   "cell_type": "code",
   "execution_count": 21,
   "id": "f028c37b-e328-4166-8351-13faf987580a",
   "metadata": {},
   "outputs": [
    {
     "name": "stdout",
     "output_type": "stream",
     "text": [
      "6089 1273\n"
     ]
    }
   ],
   "source": [
    "print(len(reverse_item_mapping), len(reverse_user_mapping))"
   ]
  },
  {
   "cell_type": "code",
   "execution_count": 22,
   "id": "c4c643e4-c8a5-4221-8aa1-16f6ac4e8186",
   "metadata": {},
   "outputs": [
    {
     "name": "stdout",
     "output_type": "stream",
     "text": [
      "2 A10RXRZE0TAKPU 2\n"
     ]
    }
   ],
   "source": [
    "id = 2\n",
    "print(id, reverse_user_mapping[id], user_mapping[reverse_user_mapping[id]])"
   ]
  },
  {
   "cell_type": "code",
   "execution_count": 23,
   "id": "8b5eb055-1c12-43ff-8c3c-b8aac3481a93",
   "metadata": {},
   "outputs": [
    {
     "name": "stdout",
     "output_type": "stream",
     "text": [
      "374 B01201P2GS 374\n"
     ]
    }
   ],
   "source": [
    "id = 374\n",
    "print(id, reverse_item_mapping[id], item_mapping[reverse_item_mapping[id]])"
   ]
  },
  {
   "cell_type": "code",
   "execution_count": 24,
   "id": "72966a00-a77d-47e4-ba3e-439560c1b637",
   "metadata": {},
   "outputs": [],
   "source": [
    "with open('./Fashion/item_idx_mapping.json', 'w+') as f:\n",
    "    json.dump(item_mapping, f)"
   ]
  },
  {
   "cell_type": "code",
   "execution_count": 25,
   "id": "aa5ab5ff-fd52-48c5-affb-6388b18109b3",
   "metadata": {},
   "outputs": [],
   "source": [
    "with open('./Fashion/idx_item_mapping.json', 'w+') as f:\n",
    "    json.dump(reverse_item_mapping, f)"
   ]
  },
  {
   "cell_type": "code",
   "execution_count": 26,
   "id": "7a375248-42ae-4c90-9609-1b567cb0a691",
   "metadata": {},
   "outputs": [],
   "source": [
    "with open('./Fashion/user_idx_mapping.json', 'w+') as f:\n",
    "    json.dump(user_mapping, f)"
   ]
  },
  {
   "cell_type": "code",
   "execution_count": 27,
   "id": "a4f26e9c-e35d-4aa7-91c7-c6928e22e041",
   "metadata": {},
   "outputs": [],
   "source": [
    "with open('./Fashion/idx_user_mapping.json', 'w+') as f:\n",
    "    json.dump(reverse_user_mapping, f)"
   ]
  },
  {
   "cell_type": "markdown",
   "id": "9d8fdc03-9dc6-4986-a9a9-a69d8adab69e",
   "metadata": {},
   "source": [
    "### Creating train, test, valid dataset"
   ]
  },
  {
   "cell_type": "code",
   "execution_count": 28,
   "id": "d7c94dd0-d3f7-40a2-ab8a-8260ed566095",
   "metadata": {},
   "outputs": [
    {
     "data": {
      "text/html": [
       "<div>\n",
       "<style scoped>\n",
       "    .dataframe tbody tr th:only-of-type {\n",
       "        vertical-align: middle;\n",
       "    }\n",
       "\n",
       "    .dataframe tbody tr th {\n",
       "        vertical-align: top;\n",
       "    }\n",
       "\n",
       "    .dataframe thead th {\n",
       "        text-align: right;\n",
       "    }\n",
       "</style>\n",
       "<table border=\"1\" class=\"dataframe\">\n",
       "  <thead>\n",
       "    <tr style=\"text-align: right;\">\n",
       "      <th></th>\n",
       "      <th>item</th>\n",
       "      <th>user</th>\n",
       "      <th>rating</th>\n",
       "      <th>timestamp</th>\n",
       "    </tr>\n",
       "  </thead>\n",
       "  <tbody>\n",
       "    <tr>\n",
       "      <th>3238</th>\n",
       "      <td>0</td>\n",
       "      <td>0</td>\n",
       "      <td>4.0</td>\n",
       "      <td>1452816000</td>\n",
       "    </tr>\n",
       "    <tr>\n",
       "      <th>3239</th>\n",
       "      <td>1</td>\n",
       "      <td>0</td>\n",
       "      <td>4.0</td>\n",
       "      <td>1453766400</td>\n",
       "    </tr>\n",
       "    <tr>\n",
       "      <th>3240</th>\n",
       "      <td>2</td>\n",
       "      <td>0</td>\n",
       "      <td>3.0</td>\n",
       "      <td>1453766400</td>\n",
       "    </tr>\n",
       "    <tr>\n",
       "      <th>3241</th>\n",
       "      <td>3</td>\n",
       "      <td>0</td>\n",
       "      <td>4.0</td>\n",
       "      <td>1453766400</td>\n",
       "    </tr>\n",
       "    <tr>\n",
       "      <th>3242</th>\n",
       "      <td>4</td>\n",
       "      <td>0</td>\n",
       "      <td>4.0</td>\n",
       "      <td>1453766400</td>\n",
       "    </tr>\n",
       "  </tbody>\n",
       "</table>\n",
       "</div>"
      ],
      "text/plain": [
       "      item  user  rating   timestamp\n",
       "3238     0     0     4.0  1452816000\n",
       "3239     1     0     4.0  1453766400\n",
       "3240     2     0     3.0  1453766400\n",
       "3241     3     0     4.0  1453766400\n",
       "3242     4     0     4.0  1453766400"
      ]
     },
     "execution_count": 28,
     "metadata": {},
     "output_type": "execute_result"
    }
   ],
   "source": [
    "ratings_7core['item'] = ratings_7core['item'].map(item_mapping)\n",
    "ratings_7core['user'] = ratings_7core['user'].map(user_mapping)\n",
    "ratings_7core.head()"
   ]
  },
  {
   "cell_type": "code",
   "execution_count": 30,
   "id": "94ee4a2d-0afe-4e57-8d19-3fd3c67a9630",
   "metadata": {},
   "outputs": [
    {
     "data": {
      "text/html": [
       "<div>\n",
       "<style scoped>\n",
       "    .dataframe tbody tr th:only-of-type {\n",
       "        vertical-align: middle;\n",
       "    }\n",
       "\n",
       "    .dataframe tbody tr th {\n",
       "        vertical-align: top;\n",
       "    }\n",
       "\n",
       "    .dataframe thead th {\n",
       "        text-align: right;\n",
       "    }\n",
       "</style>\n",
       "<table border=\"1\" class=\"dataframe\">\n",
       "  <thead>\n",
       "    <tr style=\"text-align: right;\">\n",
       "      <th></th>\n",
       "      <th>item</th>\n",
       "      <th>user</th>\n",
       "      <th>rating</th>\n",
       "      <th>timestamp</th>\n",
       "    </tr>\n",
       "  </thead>\n",
       "  <tbody>\n",
       "    <tr>\n",
       "      <th>0</th>\n",
       "      <td>0</td>\n",
       "      <td>0</td>\n",
       "      <td>4.0</td>\n",
       "      <td>1452816000</td>\n",
       "    </tr>\n",
       "    <tr>\n",
       "      <th>1</th>\n",
       "      <td>1</td>\n",
       "      <td>0</td>\n",
       "      <td>4.0</td>\n",
       "      <td>1453766400</td>\n",
       "    </tr>\n",
       "    <tr>\n",
       "      <th>2</th>\n",
       "      <td>2</td>\n",
       "      <td>0</td>\n",
       "      <td>3.0</td>\n",
       "      <td>1453766400</td>\n",
       "    </tr>\n",
       "    <tr>\n",
       "      <th>3</th>\n",
       "      <td>3</td>\n",
       "      <td>0</td>\n",
       "      <td>4.0</td>\n",
       "      <td>1453766400</td>\n",
       "    </tr>\n",
       "    <tr>\n",
       "      <th>4</th>\n",
       "      <td>4</td>\n",
       "      <td>0</td>\n",
       "      <td>4.0</td>\n",
       "      <td>1453766400</td>\n",
       "    </tr>\n",
       "  </tbody>\n",
       "</table>\n",
       "</div>"
      ],
      "text/plain": [
       "   item  user  rating   timestamp\n",
       "0     0     0     4.0  1452816000\n",
       "1     1     0     4.0  1453766400\n",
       "2     2     0     3.0  1453766400\n",
       "3     3     0     4.0  1453766400\n",
       "4     4     0     4.0  1453766400"
      ]
     },
     "execution_count": 30,
     "metadata": {},
     "output_type": "execute_result"
    }
   ],
   "source": [
    "ratings_7core = ratings_7core.reset_index(drop=True)\n",
    "ratings_7core.head()"
   ]
  },
  {
   "cell_type": "code",
   "execution_count": 33,
   "id": "e1ebf5c8-3b56-4078-81f0-94bdc9772dd2",
   "metadata": {},
   "outputs": [],
   "source": [
    "ratings_7core.to_csv('./Fashion/user_rating.csv', index = False)"
   ]
  },
  {
   "cell_type": "code",
   "execution_count": 41,
   "id": "e82a5231-501d-4a34-bfd1-0d4eb28107b1",
   "metadata": {},
   "outputs": [
    {
     "name": "stdout",
     "output_type": "stream",
     "text": [
      "1273\n"
     ]
    }
   ],
   "source": [
    "user_item_interactions = dict()\n",
    "for user in list(ratings_7core['user'].unique()):\n",
    "    user_item_interactions[user] = ratings_7core[ratings_7core['user']==user]['item'].tolist()\n",
    "print(len(user_item_interactions))"
   ]
  },
  {
   "cell_type": "code",
   "execution_count": 45,
   "id": "a32763b6-0d3b-413d-a0f4-cd4b86733010",
   "metadata": {},
   "outputs": [
    {
     "data": {
      "text/plain": [
       "[0, 1, 2, 3, 4, 5, 6, 7]"
      ]
     },
     "execution_count": 45,
     "metadata": {},
     "output_type": "execute_result"
    }
   ],
   "source": [
    "user_item_interactions[0]"
   ]
  },
  {
   "cell_type": "code",
   "execution_count": 58,
   "id": "5c88e716-8be6-4373-9122-b7faaf6dd8e8",
   "metadata": {},
   "outputs": [],
   "source": [
    "user_train = dict()\n",
    "user_valid = dict()\n",
    "user_test = dict()\n",
    "user_profile = dict()\n",
    "for user, item_list in user_item_interactions.items():\n",
    "    user_profile[int(user)] = item_list[:-7]\n",
    "    user_train[int(user)] = item_list[-7:-2]\n",
    "    user_valid[int(user)] = item_list[-6:-1]\n",
    "    user_test[int(user)] = item_list[-5:]\n",
    "    # break"
   ]
  },
  {
   "cell_type": "code",
   "execution_count": 59,
   "id": "4a4eb966-e593-4aba-9f20-8991dd733b5b",
   "metadata": {},
   "outputs": [
    {
     "name": "stdout",
     "output_type": "stream",
     "text": [
      "[974, 4266]\n",
      "[5780, 2332, 5781, 5782, 5783]\n",
      "[2332, 5781, 5782, 5783, 5784]\n",
      "[5781, 5782, 5783, 5784, 5785]\n"
     ]
    }
   ],
   "source": [
    "id = 1200\n",
    "print(user_profile[id])\n",
    "print(user_train[id])\n",
    "print(user_valid[id])\n",
    "print(user_test[id])"
   ]
  },
  {
   "cell_type": "code",
   "execution_count": 60,
   "id": "483ce64e-115c-4b19-8671-9db53ef2e4d7",
   "metadata": {},
   "outputs": [],
   "source": [
    "with open('./Fashion/user_profile.json', 'w+') as f:\n",
    "    json.dump(user_profile, f)"
   ]
  },
  {
   "cell_type": "code",
   "execution_count": 61,
   "id": "decd7649-6961-4df6-870b-4ee946937195",
   "metadata": {},
   "outputs": [],
   "source": [
    "with open('./Fashion/user_train.json', 'w+') as f:\n",
    "    json.dump(user_train, f)"
   ]
  },
  {
   "cell_type": "code",
   "execution_count": 62,
   "id": "550c228c-d7a2-4c54-afa1-5ae4f8c91246",
   "metadata": {},
   "outputs": [],
   "source": [
    "with open('./Fashion/user_valid.json', 'w+') as f:\n",
    "    json.dump(user_valid, f)"
   ]
  },
  {
   "cell_type": "code",
   "execution_count": 63,
   "id": "41eb5715-efcf-4d3f-9e57-82fe9f7c5e86",
   "metadata": {},
   "outputs": [],
   "source": [
    "with open('./Fashion/user_test.json', 'w+') as f:\n",
    "    json.dump(user_test, f)"
   ]
  },
  {
   "cell_type": "markdown",
   "id": "88c70ab0-781f-4a7a-966c-b8a1d567d84e",
   "metadata": {},
   "source": [
    "### Creating item descriptions"
   ]
  },
  {
   "cell_type": "code",
   "execution_count": 83,
   "id": "e3e8fabb-5afd-4e49-8c8b-060eb11f6e4a",
   "metadata": {},
   "outputs": [],
   "source": [
    "all_keys = []\n",
    "for item in meta_fashion:\n",
    "    item_keys = list(item.keys())\n",
    "    all_keys.extend(item_keys)"
   ]
  },
  {
   "cell_type": "code",
   "execution_count": 86,
   "id": "8df41dc2-1157-4fc5-b6a0-6db893004989",
   "metadata": {
    "scrolled": true
   },
   "outputs": [
    {
     "name": "stdout",
     "output_type": "stream",
     "text": [
      "['title', 'feature', 'rank', 'asin', 'date', 'details', 'also_buy', 'description', 'similar_item', 'imageURL', 'fit', 'price', 'brand', 'also_view', 'imageURLHighRes', 'tech1']\n"
     ]
    }
   ],
   "source": [
    "all_keys = list(set(all_keys))\n",
    "print(all_keys)"
   ]
  },
  {
   "cell_type": "code",
   "execution_count": 105,
   "id": "854e8491-deb3-4d10-b0d8-3070b9a48dc6",
   "metadata": {},
   "outputs": [],
   "source": [
    "required_keys = ['title', 'brand', 'description', 'price']"
   ]
  },
  {
   "cell_type": "code",
   "execution_count": 122,
   "id": "542df113-d3e1-43a7-9741-0774814d4911",
   "metadata": {},
   "outputs": [],
   "source": [
    "item_description = dict()\n",
    "cnt = 0\n",
    "for item in meta_fashion:\n",
    "    if item['asin'] in item_mapping:\n",
    "        cnt += 1\n",
    "        temp_desc = \"\"\n",
    "        for key in required_keys:\n",
    "            if key in item:\n",
    "                if key == 'description':\n",
    "                    temp_desc += f\"{key}: {item[key][0]} \"\n",
    "                else:\n",
    "                    temp_desc += f\"{key}: {item[key]} \"\n",
    "        item_description[item_mapping[item['asin']]] = temp_desc\n",
    "    # if cnt > 10:\n",
    "    #     break"
   ]
  },
  {
   "cell_type": "code",
   "execution_count": 123,
   "id": "3cec2704-90a1-4279-92a2-9b5c598a11a0",
   "metadata": {},
   "outputs": [
    {
     "name": "stdout",
     "output_type": "stream",
     "text": [
      "6089\n"
     ]
    }
   ],
   "source": [
    "print(len(item_description))"
   ]
  },
  {
   "cell_type": "code",
   "execution_count": 124,
   "id": "53fbec08-f35d-4def-bc14-0f9dfe35cc0d",
   "metadata": {},
   "outputs": [],
   "source": [
    "with open('./Fashion/item_description.json', 'w+') as f:\n",
    "    json.dump(item_description, f)"
   ]
  },
  {
   "cell_type": "code",
   "execution_count": null,
   "id": "f26ffcce-7dae-4d48-9ac3-caf85bb38453",
   "metadata": {},
   "outputs": [],
   "source": []
  }
 ],
 "metadata": {
  "kernelspec": {
   "display_name": "Python 3 (ipykernel)",
   "language": "python",
   "name": "python3"
  },
  "language_info": {
   "codemirror_mode": {
    "name": "ipython",
    "version": 3
   },
   "file_extension": ".py",
   "mimetype": "text/x-python",
   "name": "python",
   "nbconvert_exporter": "python",
   "pygments_lexer": "ipython3",
   "version": "3.9.18"
  }
 },
 "nbformat": 4,
 "nbformat_minor": 5
}
