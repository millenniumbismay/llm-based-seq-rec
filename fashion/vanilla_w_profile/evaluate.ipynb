{
 "cells": [
  {
   "cell_type": "markdown",
   "id": "7f37dd14-8b2a-4828-96ec-5065ce47ec6c",
   "metadata": {},
   "source": [
    "### Vanilla CTR Zeroshot"
   ]
  },
  {
   "cell_type": "code",
   "execution_count": 2,
   "id": "cd60e3f4-25e6-4bf0-9437-71e253e3a79b",
   "metadata": {},
   "outputs": [],
   "source": [
    "import pickle\n",
    "import json\n",
    "import pandas as pd\n",
    "import numpy as np\n",
    "import os\n",
    "import time\n",
    "from dotenv import load_dotenv\n",
    "import re"
   ]
  },
  {
   "cell_type": "code",
   "execution_count": 3,
   "id": "d7269b45-6c0d-4e5b-8bc3-0e5bc56055d5",
   "metadata": {},
   "outputs": [
    {
     "name": "stdout",
     "output_type": "stream",
     "text": [
      "1240\n"
     ]
    }
   ],
   "source": [
    "inference_path = 'zeroshot_inference_test.json'\n",
    "with open(inference_path, 'r') as f:\n",
    "    inference_dict = json.load(f)\n",
    "print(len(inference_dict))"
   ]
  },
  {
   "cell_type": "code",
   "execution_count": 4,
   "id": "6fabcd49-cf21-45f5-aa70-24f71818dbdb",
   "metadata": {},
   "outputs": [
    {
     "data": {
      "text/html": [
       "<div>\n",
       "<style scoped>\n",
       "    .dataframe tbody tr th:only-of-type {\n",
       "        vertical-align: middle;\n",
       "    }\n",
       "\n",
       "    .dataframe tbody tr th {\n",
       "        vertical-align: top;\n",
       "    }\n",
       "\n",
       "    .dataframe thead th {\n",
       "        text-align: right;\n",
       "    }\n",
       "</style>\n",
       "<table border=\"1\" class=\"dataframe\">\n",
       "  <thead>\n",
       "    <tr style=\"text-align: right;\">\n",
       "      <th></th>\n",
       "      <th>item</th>\n",
       "      <th>user</th>\n",
       "      <th>rating</th>\n",
       "      <th>timestamp</th>\n",
       "    </tr>\n",
       "  </thead>\n",
       "  <tbody>\n",
       "    <tr>\n",
       "      <th>0</th>\n",
       "      <td>0</td>\n",
       "      <td>0</td>\n",
       "      <td>4.0</td>\n",
       "      <td>1452816000</td>\n",
       "    </tr>\n",
       "    <tr>\n",
       "      <th>1</th>\n",
       "      <td>1</td>\n",
       "      <td>0</td>\n",
       "      <td>4.0</td>\n",
       "      <td>1453766400</td>\n",
       "    </tr>\n",
       "    <tr>\n",
       "      <th>2</th>\n",
       "      <td>2</td>\n",
       "      <td>0</td>\n",
       "      <td>3.0</td>\n",
       "      <td>1453766400</td>\n",
       "    </tr>\n",
       "    <tr>\n",
       "      <th>3</th>\n",
       "      <td>3</td>\n",
       "      <td>0</td>\n",
       "      <td>4.0</td>\n",
       "      <td>1453766400</td>\n",
       "    </tr>\n",
       "    <tr>\n",
       "      <th>4</th>\n",
       "      <td>4</td>\n",
       "      <td>0</td>\n",
       "      <td>4.0</td>\n",
       "      <td>1453766400</td>\n",
       "    </tr>\n",
       "  </tbody>\n",
       "</table>\n",
       "</div>"
      ],
      "text/plain": [
       "   item  user  rating   timestamp\n",
       "0     0     0     4.0  1452816000\n",
       "1     1     0     4.0  1453766400\n",
       "2     2     0     3.0  1453766400\n",
       "3     3     0     4.0  1453766400\n",
       "4     4     0     4.0  1453766400"
      ]
     },
     "execution_count": 4,
     "metadata": {},
     "output_type": "execute_result"
    }
   ],
   "source": [
    "ratings_path = '../fashion_data/processed_data/ratings.csv'\n",
    "ratings_df = pd.read_csv(ratings_path)\n",
    "ratings_df.head()"
   ]
  },
  {
   "cell_type": "code",
   "execution_count": 5,
   "id": "6c385f0f-e18e-449f-8932-2aa4e29b3228",
   "metadata": {
    "scrolled": true
   },
   "outputs": [
    {
     "name": "stdout",
     "output_type": "stream",
     "text": [
      "Yes: 772 -- No: 299 -- Invalid: 169\n",
      "invalid_users: ['6', '32', '34', '39', '45', '46', '48', '52', '59', '60', '67', '75', '81', '90', '102', '115', '116', '124', '132', '143', '145', '148', '163', '172', '173', '176', '189', '193', '194', '220', '238', '240', '241', '244', '252', '274', '277', '280', '286', '289', '298', '302', '313', '314', '319', '326', '330', '344', '346', '350', '353', '356', '364', '380', '382', '387', '394', '398', '409', '414', '420', '428', '432', '443', '446', '448', '462', '474', '475', '477', '483', '494', '523', '535', '545', '555', '569', '570', '571', '577', '582', '601', '619', '636', '638', '655', '659', '662', '665', '673', '700', '701', '705', '713', '718', '734', '741', '756', '764', '766', '773', '798', '799', '803', '811', '813', '820', '829', '830', '848', '852', '860', '869', '870', '873', '875', '876', '878', '879', '895', '898', '903', '908', '911', '912', '914', '917', '928', '929', '935', '939', '940', '941', '954', '959', '963', '967', '991', '999', '1026', '1031', '1043', '1066', '1070', '1071', '1081', '1099', '1106', '1128', '1130', '1142', '1147', '1148', '1151', '1161', '1167', '1170', '1172', '1175', '1201', '1204', '1217', '1218', '1221', '1231', '1238', '1245', '1253', '1258']\n",
      "1240\n"
     ]
    }
   ],
   "source": [
    "pattern = r\"Prediction:(?:\\s+)?(Yes|No)\\b\"\n",
    "invalid_users = []\n",
    "cnt = cntInvalid = cntY = cntN = 0\n",
    "user_inference_dict = dict()\n",
    "for user, inference in inference_dict.items():\n",
    "    cnt += 1\n",
    "    # print(user, inference)\n",
    "    # Use re.findall to find all matches in the string\n",
    "    matches = re.findall(pattern, inference, re.IGNORECASE)\n",
    "    if len(matches) == 0:\n",
    "        cntInvalid += 1\n",
    "        invalid_users.append(user)\n",
    "        user_inference_dict[user] = 1\n",
    "    for match in matches:\n",
    "        if match == 'Yes':\n",
    "            cntY += 1\n",
    "            user_inference_dict[user] = 1\n",
    "            break\n",
    "        elif match == 'No':\n",
    "            cntN += 1\n",
    "            user_inference_dict[user] = 0\n",
    "            break\n",
    "    # print('*'*100)\n",
    "    # if cnt == 10:\n",
    "    #     break\n",
    "print(f\"Yes: {cntY} -- No: {cntN} -- Invalid: {cntInvalid}\")\n",
    "print(\"invalid_users:\", invalid_users)\n",
    "print(len(user_inference_dict))"
   ]
  },
  {
   "cell_type": "code",
   "execution_count": 6,
   "id": "a940a4d4",
   "metadata": {},
   "outputs": [
    {
     "data": {
      "text/html": [
       "<div>\n",
       "<style scoped>\n",
       "    .dataframe tbody tr th:only-of-type {\n",
       "        vertical-align: middle;\n",
       "    }\n",
       "\n",
       "    .dataframe tbody tr th {\n",
       "        vertical-align: top;\n",
       "    }\n",
       "\n",
       "    .dataframe thead th {\n",
       "        text-align: right;\n",
       "    }\n",
       "</style>\n",
       "<table border=\"1\" class=\"dataframe\">\n",
       "  <thead>\n",
       "    <tr style=\"text-align: right;\">\n",
       "      <th></th>\n",
       "      <th>item</th>\n",
       "      <th>user</th>\n",
       "      <th>rating</th>\n",
       "      <th>timestamp</th>\n",
       "    </tr>\n",
       "  </thead>\n",
       "  <tbody>\n",
       "    <tr>\n",
       "      <th>7</th>\n",
       "      <td>7</td>\n",
       "      <td>0</td>\n",
       "      <td>3.0</td>\n",
       "      <td>1500854400</td>\n",
       "    </tr>\n",
       "    <tr>\n",
       "      <th>17</th>\n",
       "      <td>17</td>\n",
       "      <td>1</td>\n",
       "      <td>5.0</td>\n",
       "      <td>1470096000</td>\n",
       "    </tr>\n",
       "    <tr>\n",
       "      <th>25</th>\n",
       "      <td>25</td>\n",
       "      <td>2</td>\n",
       "      <td>4.0</td>\n",
       "      <td>1462924800</td>\n",
       "    </tr>\n",
       "    <tr>\n",
       "      <th>33</th>\n",
       "      <td>25</td>\n",
       "      <td>3</td>\n",
       "      <td>4.0</td>\n",
       "      <td>1495065600</td>\n",
       "    </tr>\n",
       "    <tr>\n",
       "      <th>41</th>\n",
       "      <td>25</td>\n",
       "      <td>4</td>\n",
       "      <td>5.0</td>\n",
       "      <td>1509580800</td>\n",
       "    </tr>\n",
       "  </tbody>\n",
       "</table>\n",
       "</div>"
      ],
      "text/plain": [
       "    item  user  rating   timestamp\n",
       "7      7     0     3.0  1500854400\n",
       "17    17     1     5.0  1470096000\n",
       "25    25     2     4.0  1462924800\n",
       "33    25     3     4.0  1495065600\n",
       "41    25     4     5.0  1509580800"
      ]
     },
     "execution_count": 6,
     "metadata": {},
     "output_type": "execute_result"
    }
   ],
   "source": [
    "user_test_movie_rating_df = ratings_df.groupby('user').nth(-1)\n",
    "user_test_movie_rating_df.head()"
   ]
  },
  {
   "cell_type": "code",
   "execution_count": 7,
   "id": "7a7e4e8c-dd55-49ee-8ccc-754489a27462",
   "metadata": {},
   "outputs": [
    {
     "name": "stdout",
     "output_type": "stream",
     "text": [
      "Confusion Matrix:\n",
      "[[132 157]\n",
      " [167 784]]\n",
      "AUC: 0.6405713890677815\n",
      "Precision: 0.8331562167906482\n",
      "Recall: 0.8243953732912723\n",
      "Accuracy: 0.7387096774193549\n"
     ]
    }
   ],
   "source": [
    "from sklearn.metrics import roc_auc_score, accuracy_score, confusion_matrix, precision_score, recall_score\n",
    "y_true = []\n",
    "y_pred = []\n",
    "\n",
    "fp_users = []\n",
    "fn_users = []\n",
    "\n",
    "for user, inference in user_inference_dict.items():\n",
    "    original_rating = user_test_movie_rating_df[user_test_movie_rating_df['user'] == int(user)]['rating'].values[0]\n",
    "    # print(original_rating)\n",
    "    if original_rating > 3:\n",
    "        y_true.append(1)\n",
    "        if inference == 0:\n",
    "            fn_users.append(user)\n",
    "    else:\n",
    "        y_true.append(0)\n",
    "        if inference == 1:\n",
    "            fp_users.append(user)\n",
    "    y_pred.append(inference)\n",
    "\n",
    "conf_matrix = confusion_matrix(y_true, y_pred)\n",
    "print(\"Confusion Matrix:\")\n",
    "print(conf_matrix)\n",
    "\n",
    "auc_roc = roc_auc_score(y_true, y_pred)\n",
    "print(\"AUC:\", auc_roc)\n",
    "\n",
    "precision = precision_score(y_true, y_pred)\n",
    "print(\"Precision:\", precision)\n",
    "\n",
    "recall = recall_score(y_true, y_pred)\n",
    "print(\"Recall:\", recall)\n",
    "\n",
    "accuracy = accuracy_score(y_true, y_pred)\n",
    "print(\"Accuracy:\", accuracy)"
   ]
  },
  {
   "cell_type": "code",
   "execution_count": 5,
   "id": "29532dd9",
   "metadata": {},
   "outputs": [
    {
     "data": {
      "text/html": [
       "<div>\n",
       "<style scoped>\n",
       "    .dataframe tbody tr th:only-of-type {\n",
       "        vertical-align: middle;\n",
       "    }\n",
       "\n",
       "    .dataframe tbody tr th {\n",
       "        vertical-align: top;\n",
       "    }\n",
       "\n",
       "    .dataframe thead th {\n",
       "        text-align: right;\n",
       "    }\n",
       "</style>\n",
       "<table border=\"1\" class=\"dataframe\">\n",
       "  <thead>\n",
       "    <tr style=\"text-align: right;\">\n",
       "      <th></th>\n",
       "      <th>item</th>\n",
       "      <th>user</th>\n",
       "      <th>rating</th>\n",
       "      <th>timestamp</th>\n",
       "    </tr>\n",
       "  </thead>\n",
       "  <tbody>\n",
       "    <tr>\n",
       "      <th>6</th>\n",
       "      <td>5</td>\n",
       "      <td>0</td>\n",
       "      <td>5.0</td>\n",
       "      <td>1404604800</td>\n",
       "    </tr>\n",
       "    <tr>\n",
       "      <th>13</th>\n",
       "      <td>11</td>\n",
       "      <td>1</td>\n",
       "      <td>5.0</td>\n",
       "      <td>1504656000</td>\n",
       "    </tr>\n",
       "    <tr>\n",
       "      <th>20</th>\n",
       "      <td>11</td>\n",
       "      <td>2</td>\n",
       "      <td>4.0</td>\n",
       "      <td>1506643200</td>\n",
       "    </tr>\n",
       "    <tr>\n",
       "      <th>26</th>\n",
       "      <td>19</td>\n",
       "      <td>3</td>\n",
       "      <td>5.0</td>\n",
       "      <td>1493337600</td>\n",
       "    </tr>\n",
       "    <tr>\n",
       "      <th>32</th>\n",
       "      <td>19</td>\n",
       "      <td>4</td>\n",
       "      <td>5.0</td>\n",
       "      <td>1524614400</td>\n",
       "    </tr>\n",
       "  </tbody>\n",
       "</table>\n",
       "</div>"
      ],
      "text/plain": [
       "    item  user  rating   timestamp\n",
       "6      5     0     5.0  1404604800\n",
       "13    11     1     5.0  1504656000\n",
       "20    11     2     4.0  1506643200\n",
       "26    19     3     5.0  1493337600\n",
       "32    19     4     5.0  1524614400"
      ]
     },
     "execution_count": 5,
     "metadata": {},
     "output_type": "execute_result"
    }
   ],
   "source": [
    "user_valid_movie_rating_df = ratings_df.groupby('user').nth(-2)\n",
    "user_valid_movie_rating_df.head()"
   ]
  },
  {
   "cell_type": "code",
   "execution_count": 6,
   "id": "4d9a3a53",
   "metadata": {},
   "outputs": [
    {
     "name": "stdout",
     "output_type": "stream",
     "text": [
      "Confusion Matrix:\n",
      "[[ 29  15]\n",
      " [118 454]]\n",
      "AUC: 0.7263986013986015\n",
      "Precision: 0.9680170575692963\n",
      "Recall: 0.7937062937062938\n",
      "Accuracy: 0.7840909090909091\n"
     ]
    }
   ],
   "source": [
    "from sklearn.metrics import roc_auc_score, accuracy_score, confusion_matrix, precision_score, recall_score\n",
    "y_true = []\n",
    "y_pred = []\n",
    "\n",
    "fp_users = []\n",
    "fn_users = []\n",
    "\n",
    "for user, inference in user_inference_dict.items():\n",
    "    original_rating = user_valid_movie_rating_df[user_valid_movie_rating_df['user'] == int(user)]['rating'].values[0]\n",
    "    # print(original_rating)\n",
    "    if original_rating > 3:\n",
    "        y_true.append(1)\n",
    "        if inference == 0:\n",
    "            fn_users.append(user)\n",
    "    else:\n",
    "        y_true.append(0)\n",
    "        if inference == 1:\n",
    "            fp_users.append(user)\n",
    "    y_pred.append(inference)\n",
    "\n",
    "conf_matrix = confusion_matrix(y_true, y_pred)\n",
    "print(\"Confusion Matrix:\")\n",
    "print(conf_matrix)\n",
    "\n",
    "auc_roc = roc_auc_score(y_true, y_pred)\n",
    "print(\"AUC:\", auc_roc)\n",
    "\n",
    "precision = precision_score(y_true, y_pred)\n",
    "print(\"Precision:\", precision)\n",
    "\n",
    "recall = recall_score(y_true, y_pred)\n",
    "print(\"Recall:\", recall)\n",
    "\n",
    "accuracy = accuracy_score(y_true, y_pred)\n",
    "print(\"Accuracy:\", accuracy)"
   ]
  },
  {
   "cell_type": "code",
   "execution_count": null,
   "id": "688b4a9f",
   "metadata": {},
   "outputs": [],
   "source": []
  }
 ],
 "metadata": {
  "kernelspec": {
   "display_name": "Python 3 (ipykernel)",
   "language": "python",
   "name": "python3"
  },
  "language_info": {
   "codemirror_mode": {
    "name": "ipython",
    "version": 3
   },
   "file_extension": ".py",
   "mimetype": "text/x-python",
   "name": "python",
   "nbconvert_exporter": "python",
   "pygments_lexer": "ipython3",
   "version": "3.9.18"
  }
 },
 "nbformat": 4,
 "nbformat_minor": 5
}
