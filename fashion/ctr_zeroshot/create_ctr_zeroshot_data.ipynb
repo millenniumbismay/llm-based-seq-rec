{
 "cells": [
  {
   "cell_type": "code",
   "execution_count": 22,
   "id": "d94e2d5c-4f39-490d-89ba-adafad93553a",
   "metadata": {},
   "outputs": [],
   "source": [
    "import pandas as pd\n",
    "import numpy as np\n",
    "import os\n",
    "import json\n",
    "import pickle\n",
    "from collections import defaultdict\n",
    "from datetime import datetime\n",
    "import openai\n",
    "import requests\n",
    "from tenacity import retry, wait_random_exponential, stop_after_attempt\n",
    "from termcolor import colored\n",
    "openai.api_key = os.environ.get('OPENAI_API_KEY')"
   ]
  },
  {
   "cell_type": "code",
   "execution_count": 2,
   "id": "68fd2bd6-658f-4bd4-b9de-658aba17dce9",
   "metadata": {},
   "outputs": [],
   "source": [
    "user_test_path = '../fashion_data/processed_data/user_test.json'\n",
    "user_valid_path = '../fashion_data/processed_data/user_valid.json'"
   ]
  },
  {
   "cell_type": "code",
   "execution_count": 3,
   "id": "c5fa4a9a-85ed-426e-97ed-67b5336d083f",
   "metadata": {},
   "outputs": [
    {
     "name": "stdout",
     "output_type": "stream",
     "text": [
      "1273\n"
     ]
    }
   ],
   "source": [
    "with open(user_test_path, 'rb') as f:\n",
    "    user_test_dict = json.load(f)\n",
    "print(len(user_test_dict))"
   ]
  },
  {
   "cell_type": "code",
   "execution_count": 4,
   "id": "da63ad37-dd20-4d7e-81ce-1d1f3401bad3",
   "metadata": {},
   "outputs": [
    {
     "name": "stdout",
     "output_type": "stream",
     "text": [
      "1273\n"
     ]
    }
   ],
   "source": [
    "with open(user_valid_path, 'rb') as f:\n",
    "    user_valid_dict = json.load(f)\n",
    "print(len(user_valid_dict))"
   ]
  },
  {
   "cell_type": "code",
   "execution_count": 5,
   "id": "357e4a64-a5fe-47ec-8978-5024802b893f",
   "metadata": {},
   "outputs": [
    {
     "name": "stdout",
     "output_type": "stream",
     "text": [
      "[2, 3, 4, 5, 6]\n",
      "[3, 4, 5, 6, 7]\n"
     ]
    }
   ],
   "source": [
    "print(user_valid_dict['0'])\n",
    "print(user_test_dict['0'])"
   ]
  },
  {
   "cell_type": "code",
   "execution_count": 7,
   "id": "2dd821e3-ba6c-49d3-b6a6-f2982efc4033",
   "metadata": {},
   "outputs": [
    {
     "name": "stdout",
     "output_type": "stream",
     "text": [
      "6089\n"
     ]
    }
   ],
   "source": [
    "item_information_path = '../fashion_data/processed_data/processed_item_information.json'\n",
    "with open(item_information_path, 'r') as f:\n",
    "    item_information_dict = json.load(f)\n",
    "print(len(item_information_dict))"
   ]
  },
  {
   "cell_type": "code",
   "execution_count": 14,
   "id": "bed34e1c-e234-4956-b987-71c535712061",
   "metadata": {},
   "outputs": [
    {
     "data": {
      "text/html": [
       "<div>\n",
       "<style scoped>\n",
       "    .dataframe tbody tr th:only-of-type {\n",
       "        vertical-align: middle;\n",
       "    }\n",
       "\n",
       "    .dataframe tbody tr th {\n",
       "        vertical-align: top;\n",
       "    }\n",
       "\n",
       "    .dataframe thead th {\n",
       "        text-align: right;\n",
       "    }\n",
       "</style>\n",
       "<table border=\"1\" class=\"dataframe\">\n",
       "  <thead>\n",
       "    <tr style=\"text-align: right;\">\n",
       "      <th></th>\n",
       "      <th>item</th>\n",
       "      <th>user</th>\n",
       "      <th>rating</th>\n",
       "      <th>timestamp</th>\n",
       "    </tr>\n",
       "  </thead>\n",
       "  <tbody>\n",
       "    <tr>\n",
       "      <th>0</th>\n",
       "      <td>0</td>\n",
       "      <td>0</td>\n",
       "      <td>4.0</td>\n",
       "      <td>1452816000</td>\n",
       "    </tr>\n",
       "    <tr>\n",
       "      <th>1</th>\n",
       "      <td>1</td>\n",
       "      <td>0</td>\n",
       "      <td>4.0</td>\n",
       "      <td>1453766400</td>\n",
       "    </tr>\n",
       "    <tr>\n",
       "      <th>2</th>\n",
       "      <td>2</td>\n",
       "      <td>0</td>\n",
       "      <td>3.0</td>\n",
       "      <td>1453766400</td>\n",
       "    </tr>\n",
       "    <tr>\n",
       "      <th>3</th>\n",
       "      <td>3</td>\n",
       "      <td>0</td>\n",
       "      <td>4.0</td>\n",
       "      <td>1453766400</td>\n",
       "    </tr>\n",
       "    <tr>\n",
       "      <th>4</th>\n",
       "      <td>4</td>\n",
       "      <td>0</td>\n",
       "      <td>4.0</td>\n",
       "      <td>1453766400</td>\n",
       "    </tr>\n",
       "  </tbody>\n",
       "</table>\n",
       "</div>"
      ],
      "text/plain": [
       "   item  user  rating   timestamp\n",
       "0     0     0     4.0  1452816000\n",
       "1     1     0     4.0  1453766400\n",
       "2     2     0     3.0  1453766400\n",
       "3     3     0     4.0  1453766400\n",
       "4     4     0     4.0  1453766400"
      ]
     },
     "execution_count": 14,
     "metadata": {},
     "output_type": "execute_result"
    }
   ],
   "source": [
    "ratings_path = '../fashion_data/processed_data/ratings.csv'\n",
    "ratings_df = pd.read_csv(ratings_path)\n",
    "ratings_df.head()"
   ]
  },
  {
   "cell_type": "markdown",
   "id": "0681fb87-1347-4767-be76-9783058a6564",
   "metadata": {},
   "source": [
    "### Creating zeroshot data"
   ]
  },
  {
   "cell_type": "code",
   "execution_count": 26,
   "id": "e92f8968-ca21-4fb9-9af8-b762cbadc9a2",
   "metadata": {},
   "outputs": [],
   "source": [
    "def get_item_description(item_information):\n",
    "    item_details = \"\"\n",
    "    if 'title' in item_information:\n",
    "        item_details += item_information['title']\n",
    "    if 'brand' in item_information:\n",
    "        item_details += f\" Brand: {item_information['brand']}\"\n",
    "    if 'price' in item_information:\n",
    "        item_details += f\" Price: {item_information['price']}\"\n",
    "    if 'description' in item_information:\n",
    "        item_details += f\" Description: {item_information['description']}\"\n",
    "    return item_details"
   ]
  },
  {
   "cell_type": "code",
   "execution_count": 44,
   "id": "d1e4c6e4-ae49-4a53-ab47-cf7e08f41908",
   "metadata": {},
   "outputs": [],
   "source": [
    "zeroshot_dict = dict()\n",
    "check_missed_items = []\n",
    "for user, item_list in user_test_dict.items():\n",
    "    # print(user, item_list)\n",
    "    user_rating_dict = ratings_df[ratings_df['user'] == int(user)]\n",
    "    # print(user_rating_dict)\n",
    "    prompt = \"You are an expert fashion product recommender. You are provided with a user's list of recent products and their descriptions that the user purchases and whether the user liked it or disliked it. Please go through the list in order -\\n\"\n",
    "    for item in item_list[:-1]:\n",
    "        user_item_rating = user_rating_dict[user_rating_dict['item'] == item]['rating'].values[0]\n",
    "        if user_item_rating > 3:\n",
    "            ### Liked\n",
    "            prompt += f\"Liked {get_item_description(item_information_dict[str(item)])}\\n\"\n",
    "        else:\n",
    "            prompt += f\"Disliked {get_item_description(item_information_dict[str(item)])}\\n\"\n",
    "    target_item = item_list[-1]\n",
    "    target_item_details = get_item_description(item_information_dict[str(target_item)])\n",
    "    prompt += f\"\"\"As an expert fashion product recommender, do the following steps -\n",
    "    1. Analyze the provided list of products purchased by the user in order and summarize the user behavior by identifying the characteristics he liked and disliked about the products in at most 100 words.\n",
    "    2. Explain with reasoning why the user will like or dislike the target product - {target_item_details} in atmost 100 words.\n",
    "    3. Finally, from the reasoning, predict whether the user will like the target product or not in the format - Prediction: Yes or No\"\"\"\n",
    "    zeroshot_dict[user] = prompt\n",
    "    # break"
   ]
  },
  {
   "cell_type": "code",
   "execution_count": 45,
   "id": "13156ae4-233d-4e31-a006-5688954bfc65",
   "metadata": {},
   "outputs": [
    {
     "name": "stdout",
     "output_type": "stream",
     "text": [
      "1273\n"
     ]
    }
   ],
   "source": [
    "print(len(zeroshot_dict))"
   ]
  },
  {
   "cell_type": "code",
   "execution_count": 39,
   "id": "95870a5d-3194-432c-8f94-676dd5d7bca4",
   "metadata": {},
   "outputs": [
    {
     "data": {
      "text/plain": [
       "\"You are an expert fashion product recommender. You are provided with a user's list of recent products and their descriptions that the user purchases and whether the user liked it or disliked it. Please go through the list in order -\\nLiked Shoes Insoles From SHINAP: Comfort Shoes Inserts, Cut to Size, Lightweight & Breathable, Moisture Wicking Shoe Inserts. Perfect for All Shoes & All Sports, Athletics, Work, Running, Hiking! Brand: ShiNap Description: \\n\\nProduct: Knee and Foot Pain Relief Inserts\\n\\nStrengths: \\n1. Works as advertised\\n2. Eased pain on knees and feet\\n3. Comfortable\\n4. Can fit to any shoes\\n\\nWeaknesses: None mentioned in the\\nLiked Ysiop Mens Polyester Skinny Neck ties Bowtie Pocket Square 3pcs Set Brand: Ysiop Description: \\n\\nProduct Description:\\nThe product is a skinny tie with polka dots, having impressive color patterns and feel of material. It has a good overall construction.\\nLiked Niceshop Round Bamboo Wooden Case Watches with Genuine Leather Bamboo Wooden Wristwatches For Men Brand: Niceshop Description: \\nLiked Emiqude Mens Casual Slim Fit Long Sleeve Pocket Inner Contrast Plaid Dress Shirt X-Large Navy Brand: Emiqude Description: \\n\\nThe product is a navy blue shirt with plaid accents, available in XL size. It has good quality but the sizing is inconsistent and smaller than typical large size. The plaid accents are more of a royal blue than depicted in the photo. The fit is slim but not as slim\\nAs an expert fashion product recommender, do the following steps -\\n    1. Analyze the provided list of products purchased by the user in order and summarize the user behavior by identifying the characteristics he liked and disliked about the products in at most 100 words.\\n    2. Explain with reasoning why the user will like or dislike the next product - Zmart Men's Colorful Patterned Casual Crew Socks 4 Pack,Color-2,Medium,Color-2,Medium Brand: Zmart Description: \\n\\nProduct: Fun, colorful socks for adults\\nStrong features: Vivid colors, good fit for adult males, comfortable\\nWeak features: Not sturdy, cheap material, develops holes after single use, too small for men in atmost 100 words.\\n    3. Finally, form the reasoning, predict whether the user will like the product or not in the format - Prediction: Yes or No\""
      ]
     },
     "execution_count": 39,
     "metadata": {},
     "output_type": "execute_result"
    }
   ],
   "source": [
    "zeroshot_dict['34']"
   ]
  },
  {
   "cell_type": "code",
   "execution_count": 46,
   "id": "f6be8de2-79bf-42ec-84c9-32d397a6117d",
   "metadata": {},
   "outputs": [
    {
     "name": "stdout",
     "output_type": "stream",
     "text": [
      "429.3833464257659\n"
     ]
    }
   ],
   "source": [
    "total_len = 0\n",
    "for user, prompt in zeroshot_dict.items():\n",
    "    total_len += len(prompt.strip().split(' '))\n",
    "print(total_len/len(zeroshot_dict))"
   ]
  },
  {
   "cell_type": "code",
   "execution_count": 71,
   "id": "4bf7e804-c26e-426f-9967-5d10979fa1f5",
   "metadata": {},
   "outputs": [],
   "source": [
    "users_very_long = []\n",
    "for user, prompt in zeroshot_dict.items():\n",
    "    if len(prompt.strip().split(' ')) > 450:\n",
    "        users_very_long.append(user)"
   ]
  },
  {
   "cell_type": "code",
   "execution_count": 72,
   "id": "939278ff-a045-4764-b0d7-0bb855493766",
   "metadata": {},
   "outputs": [
    {
     "name": "stdout",
     "output_type": "stream",
     "text": [
      "20 ['17', '27', '94', '127', '140', '215', '254', '292', '337', '367', '424', '666', '739', '795', '849', '902', '958', '988', '1196', '1232']\n"
     ]
    }
   ],
   "source": [
    "print(len(users_very_long), users_very_long)"
   ]
  },
  {
   "cell_type": "code",
   "execution_count": 76,
   "id": "3ddbb773-1d0e-406f-ba69-2924ea38b3a9",
   "metadata": {
    "scrolled": true
   },
   "outputs": [],
   "source": [
    "# print(zeroshot_dict['739'])"
   ]
  },
  {
   "cell_type": "code",
   "execution_count": 77,
   "id": "debc6619-700f-4734-88cd-6df859e20810",
   "metadata": {},
   "outputs": [
    {
     "name": "stdout",
     "output_type": "stream",
     "text": [
      "1253\n"
     ]
    }
   ],
   "source": [
    "for key in users_very_long:\n",
    "    zeroshot_dict.pop(key, None)\n",
    "print(len(zeroshot_dict))"
   ]
  },
  {
   "cell_type": "code",
   "execution_count": 78,
   "id": "84c6b79c-2e7a-4af2-9ae2-cc7f06da9012",
   "metadata": {},
   "outputs": [],
   "source": [
    "zeroshot_test_path = './ctr_zeroshot_dataset/zeroshot_test.json'\n",
    "with open(zeroshot_test_path, 'w+') as f:\n",
    "    json.dump(zeroshot_dict, f)"
   ]
  },
  {
   "cell_type": "code",
   "execution_count": 35,
   "id": "a63d31e0-88f3-4ab4-af57-4f2efbe60705",
   "metadata": {},
   "outputs": [
    {
     "data": {
      "text/html": [
       "<div>\n",
       "<style scoped>\n",
       "    .dataframe tbody tr th:only-of-type {\n",
       "        vertical-align: middle;\n",
       "    }\n",
       "\n",
       "    .dataframe tbody tr th {\n",
       "        vertical-align: top;\n",
       "    }\n",
       "\n",
       "    .dataframe thead th {\n",
       "        text-align: right;\n",
       "    }\n",
       "</style>\n",
       "<table border=\"1\" class=\"dataframe\">\n",
       "  <thead>\n",
       "    <tr style=\"text-align: right;\">\n",
       "      <th></th>\n",
       "      <th>item</th>\n",
       "      <th>user</th>\n",
       "      <th>rating</th>\n",
       "      <th>timestamp</th>\n",
       "    </tr>\n",
       "  </thead>\n",
       "  <tbody>\n",
       "    <tr>\n",
       "      <th>0</th>\n",
       "      <td>0</td>\n",
       "      <td>0</td>\n",
       "      <td>4.0</td>\n",
       "      <td>1452816000</td>\n",
       "    </tr>\n",
       "    <tr>\n",
       "      <th>1</th>\n",
       "      <td>1</td>\n",
       "      <td>0</td>\n",
       "      <td>4.0</td>\n",
       "      <td>1453766400</td>\n",
       "    </tr>\n",
       "    <tr>\n",
       "      <th>2</th>\n",
       "      <td>2</td>\n",
       "      <td>0</td>\n",
       "      <td>3.0</td>\n",
       "      <td>1453766400</td>\n",
       "    </tr>\n",
       "    <tr>\n",
       "      <th>3</th>\n",
       "      <td>3</td>\n",
       "      <td>0</td>\n",
       "      <td>4.0</td>\n",
       "      <td>1453766400</td>\n",
       "    </tr>\n",
       "    <tr>\n",
       "      <th>4</th>\n",
       "      <td>4</td>\n",
       "      <td>0</td>\n",
       "      <td>4.0</td>\n",
       "      <td>1453766400</td>\n",
       "    </tr>\n",
       "    <tr>\n",
       "      <th>5</th>\n",
       "      <td>5</td>\n",
       "      <td>0</td>\n",
       "      <td>3.0</td>\n",
       "      <td>1453766400</td>\n",
       "    </tr>\n",
       "    <tr>\n",
       "      <th>6</th>\n",
       "      <td>6</td>\n",
       "      <td>0</td>\n",
       "      <td>2.0</td>\n",
       "      <td>1453766400</td>\n",
       "    </tr>\n",
       "    <tr>\n",
       "      <th>7</th>\n",
       "      <td>7</td>\n",
       "      <td>0</td>\n",
       "      <td>3.0</td>\n",
       "      <td>1500854400</td>\n",
       "    </tr>\n",
       "  </tbody>\n",
       "</table>\n",
       "</div>"
      ],
      "text/plain": [
       "   item  user  rating   timestamp\n",
       "0     0     0     4.0  1452816000\n",
       "1     1     0     4.0  1453766400\n",
       "2     2     0     3.0  1453766400\n",
       "3     3     0     4.0  1453766400\n",
       "4     4     0     4.0  1453766400\n",
       "5     5     0     3.0  1453766400\n",
       "6     6     0     2.0  1453766400\n",
       "7     7     0     3.0  1500854400"
      ]
     },
     "execution_count": 35,
     "metadata": {},
     "output_type": "execute_result"
    }
   ],
   "source": [
    "ratings_df[ratings_df['user'] == int('0')]"
   ]
  },
  {
   "cell_type": "code",
   "execution_count": 41,
   "id": "ea0a6e76-9773-402b-be48-d3d83da20a72",
   "metadata": {},
   "outputs": [
    {
     "name": "stdout",
     "output_type": "stream",
     "text": [
      "You are an expert fashion product recommender. You are provided with a user's list of recent products and their descriptions that the user purchases and whether the user liked it or disliked it. Please go through the list in order -\n",
      "Liked Shoes Insoles From SHINAP: Comfort Shoes Inserts, Cut to Size, Lightweight & Breathable, Moisture Wicking Shoe Inserts. Perfect for All Shoes & All Sports, Athletics, Work, Running, Hiking! Brand: ShiNap Description: \n",
      "\n",
      "Product: Knee and Foot Pain Relief Inserts\n",
      "\n",
      "Strengths: \n",
      "1. Works as advertised\n",
      "2. Eased pain on knees and feet\n",
      "3. Comfortable\n",
      "4. Can fit to any shoes\n",
      "\n",
      "Weaknesses: None mentioned in the\n",
      "Liked Ysiop Mens Polyester Skinny Neck ties Bowtie Pocket Square 3pcs Set Brand: Ysiop Description: \n",
      "\n",
      "Product Description:\n",
      "The product is a skinny tie with polka dots, having impressive color patterns and feel of material. It has a good overall construction.\n",
      "Liked Niceshop Round Bamboo Wooden Case Watches with Genuine Leather Bamboo Wooden Wristwatches For Men Brand: Niceshop Description: \n",
      "Liked Emiqude Mens Casual Slim Fit Long Sleeve Pocket Inner Contrast Plaid Dress Shirt X-Large Navy Brand: Emiqude Description: \n",
      "\n",
      "The product is a navy blue shirt with plaid accents, available in XL size. It has good quality but the sizing is inconsistent and smaller than typical large size. The plaid accents are more of a royal blue than depicted in the photo. The fit is slim but not as slim\n",
      "As an expert fashion product recommender, do the following steps -\n",
      "    1. Analyze the provided list of products purchased by the user in order and summarize the user behavior by identifying the characteristics he liked and disliked about the products in at most 100 words.\n",
      "    2. Explain with reasoning why the user will like or dislike the next product - Zmart Men's Colorful Patterned Casual Crew Socks 4 Pack,Color-2,Medium,Color-2,Medium Brand: Zmart Description: \n",
      "\n",
      "Product: Fun, colorful socks for adults\n",
      "Strong features: Vivid colors, good fit for adult males, comfortable\n",
      "Weak features: Not sturdy, cheap material, develops holes after single use, too small for men in atmost 100 words.\n",
      "    3. Finally, form the reasoning, predict whether the user will like the product or not in the format - Prediction: Yes or No\n",
      "----------------------------------------------------------------------------------------------------\n",
      "\n",
      "\n",
      "\n",
      "1. The user seems to have a preference for comfortable and functional products, as seen in their purchase of shoe insoles and a pain relief insert. They also appreciate good quality and construction, as seen in their purchase of a bamboo wooden watch and a dress shirt. However, the user may be dissatisfied with inconsistent sizing and color discrepancies, as seen in their purchase of a tie and a dress shirt.\n",
      "\n",
      "2. The user is likely to dislike the next product, Zmart Men's Colorful Patterned Casual Crew Socks, due to its weak features. The user has shown a preference for good quality and construction, which may not be met with these socks as they are not sturdy and develop holes after single use. Additionally, the user may find the socks too small for adult men, which could be uncomfortable and inconvenient.\n",
      "\n",
      "Prediction: No\n"
     ]
    }
   ],
   "source": [
    "test_prompt = zeroshot_dict['34']\n",
    "print(test_prompt)\n",
    "print(\"-\"*100)\n",
    "response = openai.completions.create(\n",
    "    # model = \"gpt-3.5-turbo-0125\",\n",
    "    model=\"gpt-3.5-turbo-instruct\",\n",
    "    prompt = test_prompt,\n",
    "    temperature=0.3,\n",
    "    max_tokens=256,\n",
    "    # top_p=0.3,\n",
    "    # frequency_penalty=0.5,\n",
    "    # presence_penalty=0.5\n",
    ")\n",
    "print(response.choices[0].text)"
   ]
  },
  {
   "cell_type": "code",
   "execution_count": null,
   "id": "4eb994b2-a2cf-49a5-8dcf-2ba30290c191",
   "metadata": {},
   "outputs": [],
   "source": []
  }
 ],
 "metadata": {
  "kernelspec": {
   "display_name": "Python 3 (ipykernel)",
   "language": "python",
   "name": "python3"
  },
  "language_info": {
   "codemirror_mode": {
    "name": "ipython",
    "version": 3
   },
   "file_extension": ".py",
   "mimetype": "text/x-python",
   "name": "python",
   "nbconvert_exporter": "python",
   "pygments_lexer": "ipython3",
   "version": "3.9.18"
  }
 },
 "nbformat": 4,
 "nbformat_minor": 5
}
