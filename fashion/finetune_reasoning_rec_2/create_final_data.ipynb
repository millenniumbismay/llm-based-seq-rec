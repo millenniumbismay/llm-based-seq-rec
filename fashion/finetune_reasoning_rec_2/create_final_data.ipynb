{
 "cells": [
  {
   "cell_type": "code",
   "execution_count": 1,
   "id": "d030076e-28d9-4c3d-982d-fa6c4a634a96",
   "metadata": {},
   "outputs": [],
   "source": [
    "import pickle\n",
    "import pandas as pd\n",
    "import numpy as np\n",
    "import os\n",
    "import json\n",
    "import time\n",
    "from dotenv import load_dotenv"
   ]
  },
  {
   "cell_type": "code",
   "execution_count": 2,
   "id": "f20d1e2b-d511-4a45-bf2f-91346da269c3",
   "metadata": {},
   "outputs": [],
   "source": [
    "user_train_path = '/home/grads/m/mbismay/llm-based-seq-rec/fashion/fashion_data/processed_data/user_train.json'\n",
    "user_valid_path = '/home/grads/m/mbismay/llm-based-seq-rec/fashion/fashion_data/processed_data/user_valid.json'\n",
    "user_test_path = '/home/grads/m/mbismay/llm-based-seq-rec/fashion/fashion_data/processed_data/user_test.json'"
   ]
  },
  {
   "cell_type": "code",
   "execution_count": 3,
   "id": "28b4aaf2-9db0-4d75-a662-c7fc10dfa194",
   "metadata": {},
   "outputs": [],
   "source": [
    "with open(user_train_path, 'rb') as f:\n",
    "    user_train_dict = json.load(f)\n",
    "with open(user_valid_path, 'rb') as f:\n",
    "    user_valid_dict = json.load(f)\n",
    "with open(user_test_path, 'rb') as f:\n",
    "    user_test_dict = json.load(f)"
   ]
  },
  {
   "cell_type": "code",
   "execution_count": 4,
   "id": "f2a78613-a43b-4d56-b4b0-bf5bbf3288dc",
   "metadata": {},
   "outputs": [
    {
     "name": "stdout",
     "output_type": "stream",
     "text": [
      "[11, 12, 13, 14, 15]\n",
      "[12, 13, 14, 15, 16]\n",
      "[13, 14, 15, 16, 17]\n"
     ]
    }
   ],
   "source": [
    "user_id = '1'\n",
    "print(user_train_dict[user_id])\n",
    "print(user_valid_dict[user_id])\n",
    "print(user_test_dict[user_id])"
   ]
  },
  {
   "cell_type": "code",
   "execution_count": 5,
   "id": "335dd4fc",
   "metadata": {},
   "outputs": [
    {
     "name": "stdout",
     "output_type": "stream",
     "text": [
      "6089\n"
     ]
    }
   ],
   "source": [
    "item_information_path = '/home/grads/m/mbismay/llm-based-seq-rec/fashion/fashion_data/processed_data/processed_item_information.json'\n",
    "with open(item_information_path, 'r') as f:\n",
    "    item_information_dict = json.load(f)\n",
    "print(len(item_information_dict))"
   ]
  },
  {
   "cell_type": "code",
   "execution_count": 6,
   "id": "0fdc4135-2c09-439d-b4e7-40b13f36fa86",
   "metadata": {},
   "outputs": [
    {
     "data": {
      "text/html": [
       "<div>\n",
       "<style scoped>\n",
       "    .dataframe tbody tr th:only-of-type {\n",
       "        vertical-align: middle;\n",
       "    }\n",
       "\n",
       "    .dataframe tbody tr th {\n",
       "        vertical-align: top;\n",
       "    }\n",
       "\n",
       "    .dataframe thead th {\n",
       "        text-align: right;\n",
       "    }\n",
       "</style>\n",
       "<table border=\"1\" class=\"dataframe\">\n",
       "  <thead>\n",
       "    <tr style=\"text-align: right;\">\n",
       "      <th></th>\n",
       "      <th>item</th>\n",
       "      <th>user</th>\n",
       "      <th>rating</th>\n",
       "      <th>timestamp</th>\n",
       "    </tr>\n",
       "  </thead>\n",
       "  <tbody>\n",
       "    <tr>\n",
       "      <th>0</th>\n",
       "      <td>0</td>\n",
       "      <td>0</td>\n",
       "      <td>4.0</td>\n",
       "      <td>1452816000</td>\n",
       "    </tr>\n",
       "    <tr>\n",
       "      <th>1</th>\n",
       "      <td>1</td>\n",
       "      <td>0</td>\n",
       "      <td>4.0</td>\n",
       "      <td>1453766400</td>\n",
       "    </tr>\n",
       "    <tr>\n",
       "      <th>2</th>\n",
       "      <td>2</td>\n",
       "      <td>0</td>\n",
       "      <td>3.0</td>\n",
       "      <td>1453766400</td>\n",
       "    </tr>\n",
       "    <tr>\n",
       "      <th>3</th>\n",
       "      <td>3</td>\n",
       "      <td>0</td>\n",
       "      <td>4.0</td>\n",
       "      <td>1453766400</td>\n",
       "    </tr>\n",
       "    <tr>\n",
       "      <th>4</th>\n",
       "      <td>4</td>\n",
       "      <td>0</td>\n",
       "      <td>4.0</td>\n",
       "      <td>1453766400</td>\n",
       "    </tr>\n",
       "  </tbody>\n",
       "</table>\n",
       "</div>"
      ],
      "text/plain": [
       "   item  user  rating   timestamp\n",
       "0     0     0     4.0  1452816000\n",
       "1     1     0     4.0  1453766400\n",
       "2     2     0     3.0  1453766400\n",
       "3     3     0     4.0  1453766400\n",
       "4     4     0     4.0  1453766400"
      ]
     },
     "execution_count": 6,
     "metadata": {},
     "output_type": "execute_result"
    }
   ],
   "source": [
    "ratings_path = '../fashion_data/processed_data/ratings.csv'\n",
    "ratings_df = pd.read_csv(ratings_path)\n",
    "ratings_df.head()"
   ]
  },
  {
   "cell_type": "code",
   "execution_count": null,
   "id": "7cbd0f1f",
   "metadata": {},
   "outputs": [],
   "source": []
  },
  {
   "cell_type": "code",
   "execution_count": 7,
   "id": "bcb9bf7a-25c2-4161-b3bc-a94d07a60407",
   "metadata": {},
   "outputs": [],
   "source": [
    "reasoning_prompt_train_data = \"./reasoning_dataset/reasoning_prompt_data/reasoning_prompt_train.pkl\"\n",
    "reasoning_prompt_valid_data = \"./reasoning_dataset/reasoning_prompt_data/reasoning_prompt_valid.pkl\"\n",
    "\n",
    "reasoning_train_data = \"./reasoning_dataset/reasoning_data/reasoning_train_dict.pkl\"\n",
    "reasoning_valid_data = \"./reasoning_dataset/reasoning_data/reasoning_valid_dict.pkl\"\n",
    "reasoning_test_data = \"./reasoning_dataset/reasoning_data/reasoning_test_dict.pkl\""
   ]
  },
  {
   "cell_type": "code",
   "execution_count": 8,
   "id": "17bfbacd-caea-4ba2-a4f1-ac84c548877e",
   "metadata": {},
   "outputs": [],
   "source": [
    "with open(reasoning_train_data, 'rb') as f:\n",
    "    reasoning_train = pickle.load(f)\n",
    "with open(reasoning_valid_data, 'rb') as f:\n",
    "    reasoning_valid = pickle.load(f)\n",
    "with open(reasoning_test_data, 'rb') as f:\n",
    "    reasoning_test = pickle.load(f)"
   ]
  },
  {
   "cell_type": "code",
   "execution_count": 9,
   "id": "38765fde-b66e-4426-81f2-7d93b2b2c253",
   "metadata": {},
   "outputs": [
    {
     "name": "stdout",
     "output_type": "stream",
     "text": [
      "\n",
      "1. The user is a stylish and high-quality product lover who values both style and functionality. They like products that have a cool design, good quality, and are spacious and sturdy. However, they dislike products that have hard-to-open buttons, are unsuitable for certain body shapes, or have weak functionality.\n",
      "2. The user will like the next item, \"C2U Women Pullover Elegant Wave Flouncing Long Sleeve Chiffon Shirt,X-Large,Purple\" because it is a stylish and high-quality product that fits well and has a nice color. Although the sizing may be off and it might be too short for some, the user values style and functionality, and the top's design and quality are likely to outweigh any sizing issues. Additionally, the user has shown a preference for lightweight and airy materials, which this top is made of, making it a likely fit for their preferences.\n",
      "Prediction: Yes\n",
      "\n",
      "        1. The user is a stylish and high-quality product lover, who values both design and functionality. They liked the Destiny-themed wallet for its cool design and good quality, but disliked the hard-to-open button. They appreciated the spacious and sturdy backpack, but noted that it may not hold too much weight or size. The user liked the formal pencil dress for its stylish and expensive look, but found it unsuitable for pear-shaped women. They also liked the ANGVNS Women Casual Long Sleeve Slim Fit Party Bodycon Sheath Dress for its stylish and expensive look, but it may not be suitable for women with larger bust sizes.\n",
      "        2. The user will like the Vilania Women Tankini swimsuit Stripes Lined Up Double Up Two Pieces Bikini Swimwear Set Plus size Bathing Suit With Support And Coverage Black,TXZ9021-Black-L because it is a stylish and high-quality product, with a preference for good design and functionality. The user values both style and functionality in their fashion purchases, and this product seems to meet both of those criteria. The\n",
      "Prediction: Yes\n",
      "\n",
      "        1. The user profile suggests that the user values both style and functionality in their fashion purchases. They liked the Destiny-themed wallet for its cool design and good quality, but disliked the hard-to-open button. They appreciated the spacious and sturdy backpack, but noted that it may not hold too much weight or size. The user liked the formal pencil dress for its stylish and expensive look, but found it unsuitable for pear-shaped women.\n",
      "        2. The user will like the next item, iNewbetter Women Summer Tank Tops Sleeveless Blouse Casual Vest Top T-Shirt M, Multicolor, because it is a stylish and beautiful print shirt that is suitable for casual wear. Although the material is cheap and uncomfortable on the skin, the user has shown a preference for style over comfort in the past, as evidenced by their appreciation for the stylish and expensive-looking pencil dress. Additionally, the user has not shown a strong preference for comfort in the past, as evidenced by their appreciation for the spacious and sturdy backpack, which may not be comfortable to carry for long periods of time. The user's\n",
      "Prediction: Yes\n"
     ]
    }
   ],
   "source": [
    "# print(reasoning_prompt_train[user_id])\n",
    "print(reasoning_train[user_id])\n",
    "print(reasoning_valid[user_id])\n",
    "print(reasoning_test[user_id])"
   ]
  },
  {
   "cell_type": "code",
   "execution_count": 10,
   "id": "ec8cdcc2",
   "metadata": {},
   "outputs": [],
   "source": [
    "def get_item_description(item_information):\n",
    "    item_details = \"\"\n",
    "    if 'title' in item_information:\n",
    "        item_details += item_information['title']\n",
    "    if 'brand' in item_information:\n",
    "        item_details += f\" Brand: {item_information['brand']}\"\n",
    "    if 'price' in item_information:\n",
    "        item_details += f\" Price: {item_information['price']}\"\n",
    "    if 'description' in item_information:\n",
    "        item_details += f\" Description: {item_information['description']}\"\n",
    "    return item_details"
   ]
  },
  {
   "cell_type": "code",
   "execution_count": 11,
   "id": "0dadf718",
   "metadata": {},
   "outputs": [
    {
     "name": "stdout",
     "output_type": "stream",
     "text": [
      "848 \n",
      "The user seems to prefer stylish and high-quality products, with a preference for good design and functionality. They liked the Destiny-themed wallet for its cool design and good quality, but disliked the hard-to-open button. They appreciated the spacious and sturdy backpack, but noted that it may not hold too much weight or size. The user liked the formal pencil dress for its stylish and expensive look, but found it unsuitable for pear-shaped women. Overall, the user values both style and functionality in their fashion purchases.\n"
     ]
    }
   ],
   "source": [
    "user_profile_summary_path = '../fashion_data/processed_data/user_profile_summary.json'\n",
    "with open(user_profile_summary_path, 'r') as f:\n",
    "    user_profile_summary_dict = json.load(f)\n",
    "print(len(user_profile_summary_dict), user_profile_summary_dict['1'])"
   ]
  },
  {
   "cell_type": "code",
   "execution_count": 12,
   "id": "727656da",
   "metadata": {},
   "outputs": [],
   "source": [
    "def get_new_reasoning_text(reasoning):\n",
    "    # print(f\"reasoning: {reasoning}\")\n",
    "    new_reasoning_text = f\"Prediction: {reasoning.split(' ')[-1]} \\n\"\n",
    "    new_reasoning_text += ' '.join(s.strip() for s in reasoning.split(\"\\n\")[:-1])\n",
    "    # print(f\"new_reasoning_text: {new_reasoning_text}\")\n",
    "    return new_reasoning_text"
   ]
  },
  {
   "cell_type": "code",
   "execution_count": 13,
   "id": "9d97a7fb",
   "metadata": {},
   "outputs": [
    {
     "name": "stdout",
     "output_type": "stream",
     "text": [
      "Length of final_train_dict: 896 {'instruction': \"You are an expert fashion product recommender. Given a user's profile and list of recent liked and disliked items and their price, brand, and description, identify whether the user will like or dislike the target item by providing reasoning for the same. Please follow further instruction below. \", 'input': 'User Profile - \\n\\nThe user seems to prefer long-sleeved shirts and knit fabric, as indicated by their purchase of the Allegra K Lady Long Sleeve Letter Pattern Pullover Knit Shirt Black S. They appreciate a good quality fabric and length, but also value comfort and simplicity. The user disliked the product because it was too casual, suggesting they may prefer more formal or stylish clothing. The user\\'s preference for leggings as a pairing item also implies they may enjoy a more fitted or form-fitting style. Overall, the user values comfort, quality, and style, with a preference for long-sleeved knit shirts and fitted styles.\\n        User purchased the following items in the given order. List of recent items and their description -\\n        Liked Allegra K Women Boat Neck Batwing Sleeves Pullover Tops Fuchsia M Brand: Allegra K Description: \\n\\nThe product is a comfortable, stylish, and soft top, available in a great color. However, it has issues with sizing, fitting thin arms, and not being suitable for leggings.\\nDisliked Allegra K Ladies Boat Neck Short Dolman Sleeve Cape Style Fashion Top Large / US 14 Khaki Description: \\n\\nThe product is a cute, warm, and versatile sweater that is comfortable and flattering, but may have issues with sizing and quality of material.\\nLiked Allegra K Woman Boat Neck Button Decor Front Batwing Tunic Top XL Dark Blue Brand: Allegra K Description: \\n\\nThe product is a comfortable and flattering pullover with a soft, thick material, suitable for fall/winter. However, it may have an awkward sleeve length and uneven seams, with inconsistent sizing and color.\\nLiked Allegra K Women Sleeveless Sheer Mesh Yoke Mini Skater Dress L Black Brand: Allegra K Description: \\n\\nThe product is a cute, form-fitting dress made of good material, with stretch and give. However, it may be too big for some, and the sizing may not match the size chart. The quality could be improved.\\n\\nThe user will purchase the next target item - DJT Cowl Neck Button Embellished Ruched Long Sleeve Blouse Top Grey XL Description: \\n\\nThe product is a tunic top with unique design and stylish cut, made of good quality material but with a tight fit, small sizes, and uncomfortable button placements.\\nDo not use any information not mentioned above. As an expert fashion product recommender, do the following steps -\\n    Predict whether the user will like the target item or not in the following format - Prediction: Yes or No\\n    Analyze the provided list of products purchased by the user in order and summarize the user behavior by identifying the characteristics he liked and disliked about the products in at most 100 words.\\n    Explain with reasoning whether the user will like or dislike the next target item - \"DJT Cowl Neck Button Embellished Ruched Long Sleeve Blouse Top Grey XL\" in atmost 100 words.', 'output': \"Prediction: No \\n 1. The user prefers long-sleeved shirts and knit fabric, appreciating good quality fabric and length, but also valuing comfort and simplicity. They enjoy a more formal or stylish clothing, favoring fitted styles and leggings as pairing items. The user dislikes casual clothing, and values sizing consistency and quality of material. 2. The user will dislike the next purchased item, DJT Cowl Neck Button Embellished Ruched Long Sleeve Blouse Top Grey XL, because it is a tunic top with a unique design and stylish cut, which may not align with the user's preference for formal or stylish clothing. The top is made of good quality material, but the tight fit, small sizes, and uncomfortable button placements may not meet the user's comfort and sizing expectations. The user's preference for long-sleeved shirts and knit fabric, as well as their dislike for casual clothing, suggests that they may not enjoy this product.\"}\n",
      "Avg Length: 619.6484375\n",
      "Max length: 762\n"
     ]
    }
   ],
   "source": [
    "### For Train Data\n",
    "final_train_dict = list()\n",
    "cnt = 0\n",
    "max_total_len = 0\n",
    "avg_total_len = 0\n",
    "for user, reasoning in reasoning_train.items():\n",
    "    # print(f\"User: {user}\")\n",
    "    cnt += 1\n",
    "    user_rating_dict = ratings_df[ratings_df['user'] == int(user)]\n",
    "    # print(user_rating_dict)\n",
    "\n",
    "    temp_dict = dict()\n",
    "    if user in user_profile_summary_dict:\n",
    "        temp_dict[\"instruction\"] = \"You are an expert fashion product recommender. Given a user's profile and list of recent liked and disliked items and their price, brand, and description, identify whether the user will like or dislike the target item by providing reasoning for the same. Please follow further instruction below. \"\n",
    "        prompt = f\"\"\"User Profile - {user_profile_summary_dict[user]}\n",
    "        User purchased the following items in the given order. List of recent items and their description -\n",
    "        \"\"\"\n",
    "    else:\n",
    "        temp_dict[\"instruction\"] = \"You are an expert fashion product recommender. Given a user's list of recent liked and disliked items and their price, brand, and description, identify whether the user will like or dislike the target item by providing reasoning for the same. Please follow further instruction below. \"\n",
    "        prompt = \"User purchased the following items in the given order. List of recent items and their description -\\n\"\n",
    "    \n",
    "    item_list = user_train_dict[user]\n",
    "    # print(item_list)\n",
    "    for item in item_list[:-1]:\n",
    "        user_item_rating = user_rating_dict[user_rating_dict['item'] == item]['rating'].values[0]\n",
    "        if user_item_rating > 3:\n",
    "            ### Liked\n",
    "            prompt += f\"Liked {get_item_description(item_information_dict[str(item)])}\\n\"\n",
    "        else:\n",
    "            prompt += f\"Disliked {get_item_description(item_information_dict[str(item)])}\\n\"\n",
    "    \n",
    "    target_item = item_list[-1]\n",
    "    target_item_details = get_item_description(item_information_dict[str(target_item)])\n",
    "    target_item_rating = user_rating_dict[user_rating_dict['item'] == target_item]['rating'].values[0]\n",
    "    prompt += f\"\\nThe user will purchase the next target item - {target_item_details}\"\n",
    "    \n",
    "    prompt += f\"\"\"\\nDo not use any information not mentioned above. As an expert fashion product recommender, do the following steps -\n",
    "    Predict whether the user will like the target item or not in the following format - Prediction: Yes or No\n",
    "    Analyze the provided list of products purchased by the user in order and summarize the user behavior by identifying the characteristics he liked and disliked about the products in at most 100 words.\n",
    "    Explain with reasoning whether the user will like or dislike the next target item - \"{item_information_dict[str(target_item)]['title']}\" in atmost 100 words.\"\"\"\n",
    "    temp_dict[\"input\"] = prompt\n",
    "\n",
    "    temp_dict[\"output\"] = get_new_reasoning_text(reasoning)\n",
    "    final_train_dict.append(temp_dict)\n",
    "    # print(final_train_dict)\n",
    "    total_len = len(temp_dict['instruction'].split()) + len(temp_dict['input'].split()) + len(temp_dict['output'].split())\n",
    "    avg_total_len += total_len\n",
    "    max_total_len = max(max_total_len, total_len)\n",
    "    # break\n",
    "print(\"Length of final_train_dict:\", len(final_train_dict), final_train_dict[0])\n",
    "print(\"Avg Length:\", avg_total_len/len(final_train_dict))\n",
    "print(\"Max length:\", max_total_len)"
   ]
  },
  {
   "cell_type": "code",
   "execution_count": 14,
   "id": "f6df14e5",
   "metadata": {},
   "outputs": [
    {
     "data": {
      "text/plain": [
       "{'instruction': \"You are an expert fashion product recommender. Given a user's profile and list of recent liked and disliked items and their price, brand, and description, identify whether the user will like or dislike the target item by providing reasoning for the same. Please follow further instruction below. \",\n",
       " 'input': 'User Profile - \\n\\nThe user seems to prefer Playboy-branded products, particularly watches and necklaces. They like small, cute designs with a feminine touch, such as the flower bunny logo and pink leather band. High-quality materials, like stainless steel and Swarovski crystals, are also important to them. The user dislikes products that are not stylish or appealing, such as the unexpectedly small watch. They enjoy products that are suitable for gifting and make them feel like a real Playboy bunny.\\n        User purchased the following items in the given order. List of recent items and their description -\\n        Liked Playboy Watch ACES Playing Cards Bunny Logo Stainless Steel Back Ladies Designer Fashion Authentic Official Licensed Brand: Playboy Description: \\nLiked Playboy Watch Pink Swarovski Crystals Bunny Logo Braided Band Stainless Steel Back Ladies Designer Brand: Playboy Description: \\nLiked Playboy Ring Solitaire Swarovski Crystal Bunny Charm Platinum Plated Statement Wide Band Size 7 Description: \\n\\nThe product is a pretty and well-made ring, often complimented by others. However, its platinum color may rub off if it gets wet.\\nLiked Playboy Body Jewelry Belly Ring Curved Barbell Bunny Logo Swarovski Crystal Surgical Steel Licensed Description: \\n\\nProduct Description: The product is a cute, perfect-sized accessory with fast shipping. However, no weak points were mentioned in the review.\\n\\nThe user will purchase the next target item - Playboy Y Necklace Swarovski Crystal Bunny Logo Rabbit Head Design Licensed Description: \\n\\nThe product is a sparkly Playboy necklace, with a pretty design and good quality. However, the bunny heads are a bit small and some stones may fall off after prolonged use.\\nDo not use any information not mentioned above. As an expert fashion product recommender, do the following steps -\\n    Predict whether the user will like the target item or not in the following format - Prediction: Yes or No\\n    Analyze the provided list of products purchased by the user in order and summarize the user behavior by identifying the characteristics he liked and disliked about the products in at most 100 words.\\n    Explain with reasoning whether the user will like or dislike the next target item - \"Playboy Y Necklace Swarovski Crystal Bunny Logo Rabbit Head Design Licensed\" in atmost 100 words.',\n",
       " 'output': 'Prediction: Yes \\n Answer: 1. The user is a fan of Playboy-branded products, particularly watches and necklaces, with a preference for small, cute designs that have a feminine touch, such as the flower bunny logo and pink leather band. High-quality materials like stainless steel and Swarovski crystals are important to them. They dislike products that are not stylish or appealing, such as the unexpectedly small watch. They enjoy products that are suitable for gifting and make them feel like a real Playboy bunny. 2. The user will like the next item, \"Playboy Y Necklace Swarovski Crystal Bunny Logo Rabbit Head Design Licensed Description: The product is a sparkly Playboy necklace, with a pretty design and good quality. The bunny heads are a bit small, but this aligns with the user\\'s preference for small, cute designs. The Swarovski crystals are high-quality and consistent with the user\\'s appreciation for luxury materials. Overall, the product meets the user\\'s preferences and they will likely enjoy it as a gift that makes them feel like a real Playboy bunny.'}"
      ]
     },
     "execution_count": 14,
     "metadata": {},
     "output_type": "execute_result"
    }
   ],
   "source": [
    "final_train_dict[183]"
   ]
  },
  {
   "cell_type": "code",
   "execution_count": 15,
   "id": "1080cc58",
   "metadata": {},
   "outputs": [
    {
     "name": "stdout",
     "output_type": "stream",
     "text": [
      "671 225 896\n"
     ]
    }
   ],
   "source": [
    "yes_cnt = 0\n",
    "no_cnt = 0\n",
    "for train_data in final_train_dict:\n",
    "    pred = train_data['output'].split(' ')[1]\n",
    "    # print(pred)\n",
    "    if pred == 'Yes':\n",
    "        yes_cnt += 1\n",
    "    elif pred == 'No':\n",
    "        no_cnt += 1\n",
    "    else:\n",
    "        print(pred, '--', train_data['output'])\n",
    "print(yes_cnt, no_cnt, yes_cnt + no_cnt)"
   ]
  },
  {
   "cell_type": "code",
   "execution_count": 16,
   "id": "54a33c95-264b-436d-a2c4-824025cf1453",
   "metadata": {},
   "outputs": [],
   "source": [
    "final_train_path = \"./final_data/fashion/train.json\"\n",
    "with open(final_train_path, 'w') as f:\n",
    "    json.dump(final_train_dict, f)"
   ]
  },
  {
   "cell_type": "code",
   "execution_count": 17,
   "id": "46a2eb92-fd9b-4e53-9372-0ee9d2f8cd70",
   "metadata": {},
   "outputs": [
    {
     "name": "stdout",
     "output_type": "stream",
     "text": [
      "Length of final_train_dict: 896 {'instruction': \"You are an expert fashion product recommender. Given a user's profile and list of recent liked and disliked items and their price, brand, and description, identify whether the user will like or dislike the target item by providing reasoning for the same. Please follow further instruction below. \", 'input': 'User Profile - \\n\\nThe user seems to prefer long-sleeved shirts and knit fabric, as indicated by their purchase of the Allegra K Lady Long Sleeve Letter Pattern Pullover Knit Shirt Black S. They appreciate a good quality fabric and length, but also value comfort and simplicity. The user disliked the product because it was too casual, suggesting they may prefer more formal or stylish clothing. The user\\'s preference for leggings as a pairing item also implies they may enjoy a more fitted or form-fitting style. Overall, the user values comfort, quality, and style, with a preference for long-sleeved knit shirts and fitted styles.\\n        User purchased the following items in the given order. List of recent items and their description -\\n        Disliked Allegra K Ladies Boat Neck Short Dolman Sleeve Cape Style Fashion Top Large / US 14 Khaki Description: \\n\\nThe product is a cute, warm, and versatile sweater that is comfortable and flattering, but may have issues with sizing and quality of material.\\nLiked Allegra K Woman Boat Neck Button Decor Front Batwing Tunic Top XL Dark Blue Brand: Allegra K Description: \\n\\nThe product is a comfortable and flattering pullover with a soft, thick material, suitable for fall/winter. However, it may have an awkward sleeve length and uneven seams, with inconsistent sizing and color.\\nLiked Allegra K Women Sleeveless Sheer Mesh Yoke Mini Skater Dress L Black Brand: Allegra K Description: \\n\\nThe product is a cute, form-fitting dress made of good material, with stretch and give. However, it may be too big for some, and the sizing may not match the size chart. The quality could be improved.\\nDisliked DJT Cowl Neck Button Embellished Ruched Long Sleeve Blouse Top Grey XL Description: \\n\\nThe product is a tunic top with unique design and stylish cut, made of good quality material but with a tight fit, small sizes, and uncomfortable button placements.\\n\\nThe user will purchase the next target item - DJT Lady Scoop Neck Long Sleeve Stretchy Irregular Hem Casual Top Blouse #1 Black Description: \\n\\nThe product is a comfortable, stylish tunic that fits well and looks great with leggings. It has a long length, glitter on the front, and elastic around the bottom. However, the hem may be strange and bedazzled, and it may be big or cinched at the\\nDo not use any information not mentioned above. As an expert fashion product recommender, do the following steps -\\n    Predict whether the user will like the target item or not in the following format - Prediction: Yes or No\\n    Analyze the provided list of products purchased by the user in order and summarize the user behavior by identifying the characteristics he liked and disliked about the products in at most 100 words.\\n    Explain with reasoning whether the user will like or dislike the next target item - \"DJT Lady Scoop Neck Long Sleeve Stretchy Irregular Hem Casual Top Blouse #1 Black\" in atmost 100 words.', 'output': 'Prediction: No \\n 1. The user prefers long-sleeved shirts and knit fabric, appreciating good quality fabric and length, but also valuing comfort and simplicity. They enjoy fitted styles and leggings, and dislike overly casual clothing. 2. The user will dislike the next purchased item because it is a long-sleeved tunic top with an irregular hem and bedazzled design, which may not align with their preference for simple, form-fitting styles. The product may also be too casual for their taste, as they dislike overly casual clothing. The user values comfort, quality, and style, with a preference for long-sleeved knit shirts and fitted styles, and the next purchased item may not meet these criteria.'}\n",
      "Avg Length: 619.5513392857143\n",
      "Max length: 779\n"
     ]
    }
   ],
   "source": [
    "### For Valid Data\n",
    "final_valid_dict = list()\n",
    "cnt = 0\n",
    "max_total_len = 0\n",
    "avg_total_len = 0\n",
    "for user, reasoning in reasoning_valid.items():\n",
    "    # print(f\"User: {user}\")\n",
    "    cnt += 1\n",
    "    user_rating_dict = ratings_df[ratings_df['user'] == int(user)]\n",
    "    # print(user_rating_dict)\n",
    "\n",
    "    temp_dict = dict()\n",
    "    if user in user_profile_summary_dict:\n",
    "        temp_dict[\"instruction\"] = \"You are an expert fashion product recommender. Given a user's profile and list of recent liked and disliked items and their price, brand, and description, identify whether the user will like or dislike the target item by providing reasoning for the same. Please follow further instruction below. \"\n",
    "        prompt = f\"\"\"User Profile - {user_profile_summary_dict[user]}\n",
    "        User purchased the following items in the given order. List of recent items and their description -\n",
    "        \"\"\"\n",
    "    else:\n",
    "        temp_dict[\"instruction\"] = \"You are an expert fashion product recommender. Given a user's list of recent liked and disliked items and their price, brand, and description, identify whether the user will like or dislike the target item by providing reasoning for the same. Please follow further instruction below. \"\n",
    "        prompt = \"User purchased the following items in the given order. List of recent items and their description -\\n\"\n",
    "    item_list = user_valid_dict[user]\n",
    "    # print(item_list)\n",
    "    for item in item_list[:-1]:\n",
    "        user_item_rating = user_rating_dict[user_rating_dict['item'] == item]['rating'].values[0]\n",
    "        if user_item_rating > 3:\n",
    "            ### Liked\n",
    "            prompt += f\"Liked {get_item_description(item_information_dict[str(item)])}\\n\"\n",
    "        else:\n",
    "            prompt += f\"Disliked {get_item_description(item_information_dict[str(item)])}\\n\"\n",
    "    \n",
    "    target_item = item_list[-1]\n",
    "    target_item_details = get_item_description(item_information_dict[str(target_item)])\n",
    "    target_item_rating = user_rating_dict[user_rating_dict['item'] == target_item]['rating'].values[0]\n",
    "    prompt += f\"\\nThe user will purchase the next target item - {target_item_details}\"\n",
    "    \n",
    "    prompt += f\"\"\"\\nDo not use any information not mentioned above. As an expert fashion product recommender, do the following steps -\n",
    "    Predict whether the user will like the target item or not in the following format - Prediction: Yes or No\n",
    "    Analyze the provided list of products purchased by the user in order and summarize the user behavior by identifying the characteristics he liked and disliked about the products in at most 100 words.\n",
    "    Explain with reasoning whether the user will like or dislike the next target item - \"{item_information_dict[str(target_item)]['title']}\" in atmost 100 words.\"\"\"\n",
    "    temp_dict[\"input\"] = prompt\n",
    "\n",
    "    temp_dict[\"output\"] = get_new_reasoning_text(reasoning)\n",
    "    final_valid_dict.append(temp_dict)\n",
    "    # print(final_train_dict)\n",
    "    total_len = len(temp_dict['instruction'].split()) + len(temp_dict['input'].split()) + len(temp_dict['output'].split())\n",
    "    avg_total_len += total_len\n",
    "    max_total_len = max(max_total_len, total_len)\n",
    "    # break\n",
    "print(\"Length of final_train_dict:\", len(final_valid_dict), final_valid_dict[0])\n",
    "print(\"Avg Length:\", avg_total_len/len(final_valid_dict))\n",
    "print(\"Max length:\", max_total_len)"
   ]
  },
  {
   "cell_type": "code",
   "execution_count": 18,
   "id": "a18fc4c7",
   "metadata": {},
   "outputs": [
    {
     "name": "stdout",
     "output_type": "stream",
     "text": [
      "664 232 896\n"
     ]
    }
   ],
   "source": [
    "yes_cnt = 0\n",
    "no_cnt = 0\n",
    "for valid_data in final_valid_dict:\n",
    "    pred = valid_data['output'].split(' ')[1]\n",
    "    # print(pred)\n",
    "    if pred == 'Yes':\n",
    "        yes_cnt += 1\n",
    "    elif pred == 'No':\n",
    "        no_cnt += 1\n",
    "    else:\n",
    "        print(pred, '--', train_data['output'])\n",
    "print(yes_cnt, no_cnt, yes_cnt + no_cnt)"
   ]
  },
  {
   "cell_type": "code",
   "execution_count": 19,
   "id": "ba238ccf",
   "metadata": {},
   "outputs": [],
   "source": [
    "final_valid_path = \"./final_data/fashion/valid.json\"\n",
    "with open(final_valid_path, 'w') as f:\n",
    "    json.dump(final_valid_dict, f)"
   ]
  },
  {
   "cell_type": "code",
   "execution_count": 20,
   "id": "f795454c",
   "metadata": {},
   "outputs": [
    {
     "name": "stdout",
     "output_type": "stream",
     "text": [
      "Length of final_train_dict: 896 {'instruction': \"You are an expert fashion product recommender. Given a user's profile and list of recent liked and disliked items and their price, brand, and description, identify whether the user will like or dislike the target item by providing reasoning for the same. Please follow further instruction below. \", 'input': 'User Profile - \\n\\nThe user seems to prefer long-sleeved shirts and knit fabric, as indicated by their purchase of the Allegra K Lady Long Sleeve Letter Pattern Pullover Knit Shirt Black S. They appreciate a good quality fabric and length, but also value comfort and simplicity. The user disliked the product because it was too casual, suggesting they may prefer more formal or stylish clothing. The user\\'s preference for leggings as a pairing item also implies they may enjoy a more fitted or form-fitting style. Overall, the user values comfort, quality, and style, with a preference for long-sleeved knit shirts and fitted styles.\\n        User purchased the following items in the given order. List of recent items and their description -\\n        Liked Allegra K Woman Boat Neck Button Decor Front Batwing Tunic Top XL Dark Blue Brand: Allegra K Description: \\n\\nThe product is a comfortable and flattering pullover with a soft, thick material, suitable for fall/winter. However, it may have an awkward sleeve length and uneven seams, with inconsistent sizing and color.\\nLiked Allegra K Women Sleeveless Sheer Mesh Yoke Mini Skater Dress L Black Brand: Allegra K Description: \\n\\nThe product is a cute, form-fitting dress made of good material, with stretch and give. However, it may be too big for some, and the sizing may not match the size chart. The quality could be improved.\\nDisliked DJT Cowl Neck Button Embellished Ruched Long Sleeve Blouse Top Grey XL Description: \\n\\nThe product is a tunic top with unique design and stylish cut, made of good quality material but with a tight fit, small sizes, and uncomfortable button placements.\\nDisliked DJT Lady Scoop Neck Long Sleeve Stretchy Irregular Hem Casual Top Blouse #1 Black Description: \\n\\nThe product is a comfortable, stylish tunic that fits well and looks great with leggings. It has a long length, glitter on the front, and elastic around the bottom. However, the hem may be strange and bedazzled, and it may be big or cinched at the\\n\\nThe user will purchase the next target item - Susenstone Women Beach Barefoot Sandal Foot Tassel Jewelry Anklet Brand: Susenstone610 Price: $6.98 Description: \\n\\nThe product is a cute and beautiful fashion accessory, often loved by customers. However, it may break easily and tangle, requiring fixing or untwisting.\\nDo not use any information not mentioned above. As an expert fashion product recommender, do the following steps -\\n    Predict whether the user will like the target item or not in the following format - Prediction: Yes or No\\n    Analyze the provided list of products purchased by the user in order and summarize the user behavior by identifying the characteristics he liked and disliked about the products in at most 100 words.\\n    Explain with reasoning whether the user will like or dislike the next target item - \"Susenstone Women Beach Barefoot Sandal Foot Tassel Jewelry Anklet\" in atmost 100 words.', 'output': 'Prediction: No \\n 1. The user prefers long-sleeved shirts and knit fabric, appreciating good quality fabric and length, but also valuing comfort and simplicity. They enjoy fitted styles and leggings, and dislike overly casual clothing. 2. The user will dislike the next purchased item, \"Susenstone Women Beach Barefoot Sandal Foot Tassel Jewelry Anklet\" because it is not a clothing item, but rather a fashion accessory. The user has shown a preference for long-sleeved shirts and knit fabric, and has not shown any interest in accessories. Additionally, the user has disliked products that were too casual, and this product may be perceived as too casual or not in line with their preferred style. The user values comfort and quality, and this product may not meet those standards, as it may break easily and tangle, requiring fixing or untwisting. Overall, the user\\'s preferences and past behavior suggest that they will not enjoy this product.'}\n",
      "Avg Length: 620.2466517857143\n",
      "Max length: 767\n"
     ]
    }
   ],
   "source": [
    "### For Test Data\n",
    "final_test_dict = list()\n",
    "cnt = 0\n",
    "max_total_len = 0\n",
    "avg_total_len = 0\n",
    "for user, reasoning in reasoning_test.items():\n",
    "    # print(f\"User: {user}\")\n",
    "    cnt += 1\n",
    "    user_rating_dict = ratings_df[ratings_df['user'] == int(user)]\n",
    "    # print(user_rating_dict)\n",
    "\n",
    "    temp_dict = dict()\n",
    "    if user in user_profile_summary_dict:\n",
    "        temp_dict[\"instruction\"] = \"You are an expert fashion product recommender. Given a user's profile and list of recent liked and disliked items and their price, brand, and description, identify whether the user will like or dislike the target item by providing reasoning for the same. Please follow further instruction below. \"\n",
    "        prompt = f\"\"\"User Profile - {user_profile_summary_dict[user]}\n",
    "        User purchased the following items in the given order. List of recent items and their description -\n",
    "        \"\"\"\n",
    "    else:\n",
    "        temp_dict[\"instruction\"] = \"You are an expert fashion product recommender. Given a user's list of recent liked and disliked items and their price, brand, and description, identify whether the user will like or dislike the target item by providing reasoning for the same. Please follow further instruction below. \"\n",
    "        prompt = \"User purchased the following items in the given order. List of recent items and their description -\\n\"\n",
    "    item_list = user_test_dict[user]\n",
    "    # print(item_list)\n",
    "    for item in item_list[:-1]:\n",
    "        user_item_rating = user_rating_dict[user_rating_dict['item'] == item]['rating'].values[0]\n",
    "        if user_item_rating > 3:\n",
    "            ### Liked\n",
    "            prompt += f\"Liked {get_item_description(item_information_dict[str(item)])}\\n\"\n",
    "        else:\n",
    "            prompt += f\"Disliked {get_item_description(item_information_dict[str(item)])}\\n\"\n",
    "    \n",
    "    target_item = item_list[-1]\n",
    "    target_item_details = get_item_description(item_information_dict[str(target_item)])\n",
    "    target_item_rating = user_rating_dict[user_rating_dict['item'] == target_item]['rating'].values[0]\n",
    "    prompt += f\"\\nThe user will purchase the next target item - {target_item_details}\"\n",
    "    \n",
    "    prompt += f\"\"\"\\nDo not use any information not mentioned above. As an expert fashion product recommender, do the following steps -\n",
    "    Predict whether the user will like the target item or not in the following format - Prediction: Yes or No\n",
    "    Analyze the provided list of products purchased by the user in order and summarize the user behavior by identifying the characteristics he liked and disliked about the products in at most 100 words.\n",
    "    Explain with reasoning whether the user will like or dislike the next target item - \"{item_information_dict[str(target_item)]['title']}\" in atmost 100 words.\"\"\"\n",
    "    temp_dict[\"input\"] = prompt\n",
    "\n",
    "    temp_dict[\"output\"] = get_new_reasoning_text(reasoning)\n",
    "    final_test_dict.append(temp_dict)\n",
    "    # print(final_train_dict)\n",
    "    total_len = len(temp_dict['instruction'].split()) + len(temp_dict['input'].split()) + len(temp_dict['output'].split())\n",
    "    avg_total_len += total_len\n",
    "    max_total_len = max(max_total_len, total_len)\n",
    "    # break\n",
    "print(\"Length of final_train_dict:\", len(final_test_dict), final_test_dict[0])\n",
    "print(\"Avg Length:\", avg_total_len/len(final_test_dict))\n",
    "print(\"Max length:\", max_total_len)"
   ]
  },
  {
   "cell_type": "code",
   "execution_count": 21,
   "id": "f48ff54e",
   "metadata": {},
   "outputs": [
    {
     "name": "stdout",
     "output_type": "stream",
     "text": [
      "669 227 896\n"
     ]
    }
   ],
   "source": [
    "yes_cnt = 0\n",
    "no_cnt = 0\n",
    "for test_data in final_test_dict:\n",
    "    pred = test_data['output'].split(' ')[1]\n",
    "    # print(pred)\n",
    "    if pred == 'Yes':\n",
    "        yes_cnt += 1\n",
    "    elif pred == 'No':\n",
    "        no_cnt += 1\n",
    "    else:\n",
    "        print(pred, '--', test_data['output'])\n",
    "print(yes_cnt, no_cnt, yes_cnt + no_cnt)"
   ]
  },
  {
   "cell_type": "code",
   "execution_count": 22,
   "id": "7f6c2f83",
   "metadata": {},
   "outputs": [
    {
     "name": "stdout",
     "output_type": "stream",
     "text": [
      "896\n"
     ]
    }
   ],
   "source": [
    "print(len(final_test_dict))"
   ]
  },
  {
   "cell_type": "code",
   "execution_count": 23,
   "id": "7c084f06",
   "metadata": {},
   "outputs": [
    {
     "name": "stdout",
     "output_type": "stream",
     "text": [
      "{'instruction': \"You are an expert fashion product recommender. Given a user's profile and list of recent liked and disliked items and their price, brand, and description, identify whether the user will like or dislike the target item by providing reasoning for the same. Please follow further instruction below. \", 'input': 'User Profile - \\nThe user seems to prefer pretty and nicely made jewelry with attractive design and styling. They appreciate good value and excellent customer service. However, they dislike products with quality issues such as being flimsy, having a stuck clasp, or coming apart easily. They also seem to be particular about the packaging and shipping of the product.\\n        User purchased the following items in the given order. List of recent items and their description -\\n        Liked Tagoo Tribal Vintage Round Turquoise Pendant Dangle Earrings(Sea Blue) Description: \\n\\nProduct Description: This product is a fashionable, high-quality, and stylish choice for bridal parties, as it looks gorgeous and makes the wearer feel confident.\\nLiked Guess Factory Women\\'s Pepper Leggings Brand: GUESS Description: \\n\\nProduct Description: These leggings are great for curves, comfortable, soft, and keep legs warm, delivered quickly and beautifully wrapped. No negative features were mentioned in the reviews.\\nLiked Waltz-Length Lounger Brand: AmeriMark Description: \\n\\nThe product is a comfortable and roomy lounger, made of soft polyester material. It fits well, is easy to wash, and is available in large sizes. However, some customers may find the material unattractive and the color options limited.\\nLiked Mudder 5 Sizes 925 Silver Plated Snake Chain Necklace, 10 Pieces Description: \\n\\nThe product is a set of two 16\" necklaces, made of thick, continuous and coiled metal, which are great for the money but may turn color and have rust issues.\\n\\nThe user will purchase the next target item - Muchmore Women\\'s Pearl Beads Made White Polki Jhumki Earring Description: \\n\\nProduct Description:\\n\\nThese earrings are beautiful, elegant, classy, visually interesting, lightweight, and well-made, but may not always stay in the middle, have rough spots on the earring post, and may not be fully beaded.\\nDo not use any information not mentioned above. As an expert fashion product recommender, do the following steps -\\n    Predict whether the user will like the target item or not in the following format - Prediction: Yes or No\\n    Analyze the provided list of products purchased by the user in order and summarize the user behavior by identifying the characteristics he liked and disliked about the products in at most 100 words.\\n    Explain with reasoning whether the user will like or dislike the next target item - \"Muchmore Women\\'s Pearl Beads Made White Polki Jhumki Earring\" in atmost 100 words.', 'output': \"Prediction: No \\n 1. Based on the user profile, suggest 3 alternative products that the user may like.  1. Analyzing the user profile, list of products purchased by the user in order and summarizing the user behavior - The user seems to prefer jewelry that is fashionable, high-quality, stylish, and attractive in design and styling. They appreciate good value and excellent customer service. However, they dislike products with quality issues such as being flimsy, having a stuck clasp, or coming apart easily. They also seem to be particular about the packaging and shipping of the product. The user likes products that are comfortable, well-made, and visually interesting. 2. Explaining why the user will DISLIKE the next purchased item - The user will dislike the Muchmore Women's Pearl Beads Made White Polki Jhumki Earring because it may not always stay in the middle, have rough spots on the earring post, and may not be fully beaded. These issues are related to quality and design, which the user has shown a dislike for in the past. 3. Suggesting alternative products - Based on the user profile, here are three alternative products\"}\n",
      "{'instruction': \"You are an expert fashion product recommender. Given a user's profile and list of recent liked and disliked items and their price, brand, and description, identify whether the user will like or dislike the target item by providing reasoning for the same. Please follow further instruction below. \", 'input': 'User Profile - \\nThe user seems to prefer pretty and nicely made jewelry with attractive design and styling. They appreciate good value and excellent customer service. However, they dislike products with quality issues such as being flimsy, having a stuck clasp, or coming apart easily. They also seem to be particular about the packaging and shipping of the product.\\n        User purchased the following items in the given order. List of recent items and their description -\\n        Liked Guess Factory Women\\'s Pepper Leggings Brand: GUESS Description: \\n\\nProduct Description: These leggings are great for curves, comfortable, soft, and keep legs warm, delivered quickly and beautifully wrapped. No negative features were mentioned in the reviews.\\nLiked Waltz-Length Lounger Brand: AmeriMark Description: \\n\\nThe product is a comfortable and roomy lounger, made of soft polyester material. It fits well, is easy to wash, and is available in large sizes. However, some customers may find the material unattractive and the color options limited.\\nLiked Mudder 5 Sizes 925 Silver Plated Snake Chain Necklace, 10 Pieces Description: \\n\\nThe product is a set of two 16\" necklaces, made of thick, continuous and coiled metal, which are great for the money but may turn color and have rust issues.\\nDisliked Muchmore Women\\'s Pearl Beads Made White Polki Jhumki Earring Description: \\n\\nProduct Description:\\n\\nThese earrings are beautiful, elegant, classy, visually interesting, lightweight, and well-made, but may not always stay in the middle, have rough spots on the earring post, and may not be fully beaded.\\n\\nThe user will purchase the next target item - EleQueen Women\\'s Silver-tone Pave Full Cubic Zirconia Art Deco Bridal Dangle Earrings Clear Description: \\n\\nProduct Description:\\n\"The product is a beautiful, three-piece long earring that swings, making it fun to wear. However, it may not be a solid piece as expected.\"\\nDo not use any information not mentioned above. As an expert fashion product recommender, do the following steps -\\n    Predict whether the user will like the target item or not in the following format - Prediction: Yes or No\\n    Analyze the provided list of products purchased by the user in order and summarize the user behavior by identifying the characteristics he liked and disliked about the products in at most 100 words.\\n    Explain with reasoning whether the user will like or dislike the next target item - \"EleQueen Women\\'s Silver-tone Pave Full Cubic Zirconia Art Deco Bridal Dangle Earrings Clear\" in atmost 100 words.', 'output': 'Prediction: Yes \\n  1. The user seems to prefer products that are visually interesting, well-made, and of good value. They appreciate attractive design and styling, and comfortable materials that keep them warm. They dislike products with quality issues such as being flimsy, having a stuck clasp, or coming apart easily. They are also particular about the packaging and shipping of the product. 2. The user will like the next item because it is visually interesting, with a beautiful, three-piece long earring that swings, making it fun to wear. The earrings are made of silver-tone pave full cubic zirconia, which suggests that they are well-made and of good value. The product description does not mention any quality issues, such as being flimsy or having a stuck clasp, which the user dislikes. Although the product description mentions that the earrings may not be a solid piece as expected, this is unlikely to be a major concern for the user, as they have previously shown a preference for visually interesting and well-made products.'}\n",
      "{'instruction': \"You are an expert fashion product recommender. Given a user's profile and list of recent liked and disliked items and their price, brand, and description, identify whether the user will like or dislike the target item by providing reasoning for the same. Please follow further instruction below. \", 'input': 'User Profile - \\nThe user seems to prefer pretty and nicely made jewelry with attractive design and styling. They appreciate good value and excellent customer service. However, they dislike products with quality issues such as being flimsy, having a stuck clasp, or coming apart easily. They also seem to be particular about the packaging and shipping of the product.\\n        User purchased the following items in the given order. List of recent items and their description -\\n        Liked Waltz-Length Lounger Brand: AmeriMark Description: \\n\\nThe product is a comfortable and roomy lounger, made of soft polyester material. It fits well, is easy to wash, and is available in large sizes. However, some customers may find the material unattractive and the color options limited.\\nLiked Mudder 5 Sizes 925 Silver Plated Snake Chain Necklace, 10 Pieces Description: \\n\\nThe product is a set of two 16\" necklaces, made of thick, continuous and coiled metal, which are great for the money but may turn color and have rust issues.\\nDisliked Muchmore Women\\'s Pearl Beads Made White Polki Jhumki Earring Description: \\n\\nProduct Description:\\n\\nThese earrings are beautiful, elegant, classy, visually interesting, lightweight, and well-made, but may not always stay in the middle, have rough spots on the earring post, and may not be fully beaded.\\nLiked EleQueen Women\\'s Silver-tone Pave Full Cubic Zirconia Art Deco Bridal Dangle Earrings Clear Description: \\n\\nProduct Description:\\n\"The product is a beautiful, three-piece long earring that swings, making it fun to wear. However, it may not be a solid piece as expected.\"\\n\\nThe user will purchase the next target item - MOQUEEN Women\\'s Slim Fit Floral Bodycon Tunic Dress2161(Blue XL) Brand: MOQUEEN Description: \\n\\nThe product is a midweight pull-on shift dress made of 65% polyester and 35% cotton with some stretch. It has bright colors and a vibrant look, but it is shorter than expected and cuts small.\\nDo not use any information not mentioned above. As an expert fashion product recommender, do the following steps -\\n    Predict whether the user will like the target item or not in the following format - Prediction: Yes or No\\n    Analyze the provided list of products purchased by the user in order and summarize the user behavior by identifying the characteristics he liked and disliked about the products in at most 100 words.\\n    Explain with reasoning whether the user will like or dislike the next target item - \"MOQUEEN Women\\'s Slim Fit Floral Bodycon Tunic Dress2161(Blue XL)\" in atmost 100 words.', 'output': \"Prediction: Yes \\n 1. The user profile suggests that the user prefers pretty and nicely made jewelry with attractive design and styling. They appreciate good value and excellent customer service. However, they dislike products with quality issues such as being flimsy, having a stuck clasp, or coming apart easily. They also seem to be particular about the packaging and shipping of the product. 2. The user will like the next item because it is a midweight pull-on shift dress made of 65% polyester and 35% cotton with some stretch, which suggests that it is well-made and of good quality. The product has bright colors and a vibrant look, which aligns with the user's preference for pretty and nicely made jewelry. Although the dress is shorter than expected and cuts small, the user's past purchases suggest that they prioritize quality and design over fit, making it likely that they will still like the product.\"}\n"
     ]
    }
   ],
   "source": [
    "user = 121\n",
    "print(final_train_dict[user])\n",
    "print(final_valid_dict[user])\n",
    "print(final_test_dict[user])"
   ]
  },
  {
   "cell_type": "code",
   "execution_count": 24,
   "id": "300f72af",
   "metadata": {},
   "outputs": [],
   "source": [
    "final_test_path = \"./final_data/fashion/test.json\"\n",
    "with open(final_test_path, 'w') as f:\n",
    "    json.dump(final_test_dict, f)"
   ]
  },
  {
   "cell_type": "code",
   "execution_count": null,
   "id": "dcdd0037",
   "metadata": {},
   "outputs": [],
   "source": []
  }
 ],
 "metadata": {
  "kernelspec": {
   "display_name": "mixtral",
   "language": "python",
   "name": "python3"
  },
  "language_info": {
   "codemirror_mode": {
    "name": "ipython",
    "version": 3
   },
   "file_extension": ".py",
   "mimetype": "text/x-python",
   "name": "python",
   "nbconvert_exporter": "python",
   "pygments_lexer": "ipython3",
   "version": "3.9.18"
  }
 },
 "nbformat": 4,
 "nbformat_minor": 5
}
