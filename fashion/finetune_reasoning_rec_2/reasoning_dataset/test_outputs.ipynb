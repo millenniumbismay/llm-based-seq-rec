{
 "cells": [
  {
   "cell_type": "code",
   "execution_count": 1,
   "metadata": {},
   "outputs": [],
   "source": [
    "import pickle\n",
    "import os"
   ]
  },
  {
   "cell_type": "code",
   "execution_count": 2,
   "metadata": {},
   "outputs": [],
   "source": [
    "train_reasoning_path = './reasoning_data/reasoning_train_dict.pkl'\n",
    "with open(train_reasoning_path, 'rb') as f:\n",
    "    train_reasoning_dict = pickle.load(f)"
   ]
  },
  {
   "cell_type": "code",
   "execution_count": 5,
   "metadata": {},
   "outputs": [
    {
     "data": {
      "text/plain": [
       "\"\\n1. The user prefers long-sleeved shirts and knit fabric, appreciating good quality fabric and length, but also valuing comfort and simplicity. They enjoy a more formal or stylish clothing, favoring fitted styles and leggings as pairing items. The user dislikes casual clothing, and values sizing consistency and quality of material.\\n2. The user will dislike the next purchased item, DJT Cowl Neck Button Embellished Ruched Long Sleeve Blouse Top Grey XL, because it is a tunic top with a unique design and stylish cut, which may not align with the user's preference for formal or stylish clothing. The top is made of good quality material, but the tight fit, small sizes, and uncomfortable button placements may not meet the user's comfort and sizing expectations. The user's preference for long-sleeved shirts and knit fabric, as well as their dislike for casual clothing, suggests that they may not enjoy this product.\\nPrediction: No\""
      ]
     },
     "execution_count": 5,
     "metadata": {},
     "output_type": "execute_result"
    }
   ],
   "source": [
    "train_reasoning_dict['0']"
   ]
  },
  {
   "cell_type": "code",
   "execution_count": 3,
   "metadata": {},
   "outputs": [
    {
     "name": "stdout",
     "output_type": "stream",
     "text": [
      "160.56919642857142\n"
     ]
    }
   ],
   "source": [
    "total_len = 0\n",
    "for user, reasoning in train_reasoning_dict.items():\n",
    "    total_len += len(reasoning.strip().split())\n",
    "print(total_len/len(train_reasoning_dict))"
   ]
  },
  {
   "cell_type": "code",
   "execution_count": 4,
   "metadata": {},
   "outputs": [
    {
     "data": {
      "text/plain": [
       "(896,\n",
       " dict_keys(['0', '1', '6', '7', '8', '9', '10', '11', '13', '14', '16', '18', '20', '21', '23', '25', '28', '30', '32', '34', '36', '37', '38', '39', '40', '45', '46', '47', '48', '49', '50', '52', '53', '54', '55', '56', '57', '58', '59', '60', '61', '63', '64', '65', '66', '67', '68', '69', '71', '74', '75', '76', '78', '81', '82', '83', '84', '85', '87', '88', '89', '90', '91', '92', '93', '95', '96', '97', '99', '102', '103', '104', '106', '107', '108', '109', '110', '111', '113', '114', '115', '116', '117', '118', '119', '121', '123', '124', '125', '126', '129', '130', '131', '132', '134', '135', '136', '138', '141', '143', '145', '146', '148', '149', '150', '151', '153', '155', '156', '157', '158', '159', '160', '161', '162', '163', '165', '167', '168', '169', '171', '172', '173', '174', '175', '176', '178', '179', '180', '181', '182', '183', '189', '190', '191', '192', '193', '194', '195', '198', '199', '200', '201', '206', '208', '209', '211', '213', '216', '217', '218', '219', '220', '221', '222', '224', '225', '226', '227', '230', '231', '232', '233', '234', '235', '237', '238', '239', '240', '241', '242', '244', '246', '247', '248', '249', '250', '252', '253', '255', '256', '259', '260', '261', '262', '263', '264', '265', '267', '268', '269', '270', '271', '273', '274', '276', '277', '278', '279', '280', '281', '282', '284', '289', '290', '291', '293', '294', '295', '296', '297', '298', '299', '300', '301', '302', '304', '305', '306', '308', '309', '310', '311', '312', '313', '314', '315', '316', '317', '319', '321', '322', '325', '326', '327', '328', '329', '330', '331', '332', '334', '335', '338', '339', '340', '341', '342', '344', '346', '347', '349', '350', '351', '353', '354', '355', '356', '357', '359', '360', '361', '362', '363', '364', '365', '368', '369', '371', '372', '373', '374', '375', '376', '377', '378', '379', '380', '381', '382', '383', '384', '385', '386', '387', '388', '389', '390', '391', '392', '393', '394', '395', '397', '398', '399', '402', '403', '404', '406', '407', '408', '409', '412', '414', '416', '417', '419', '420', '421', '422', '423', '425', '426', '428', '429', '430', '432', '433', '434', '436', '437', '438', '439', '440', '441', '442', '443', '444', '445', '446', '448', '449', '450', '451', '452', '453', '455', '456', '457', '458', '459', '460', '461', '462', '464', '466', '467', '468', '471', '474', '475', '476', '477', '478', '479', '480', '481', '482', '483', '486', '487', '488', '489', '490', '493', '494', '497', '498', '499', '500', '501', '502', '503', '508', '509', '512', '513', '518', '519', '520', '521', '522', '523', '524', '525', '528', '530', '532', '533', '534', '535', '536', '537', '539', '540', '541', '542', '543', '545', '546', '547', '548', '550', '551', '552', '554', '555', '556', '557', '558', '559', '562', '563', '568', '569', '570', '571', '577', '579', '580', '581', '582', '583', '584', '585', '588', '590', '592', '593', '596', '597', '598', '599', '601', '602', '603', '606', '607', '608', '609', '611', '612', '613', '615', '616', '617', '618', '619', '621', '622', '623', '624', '626', '627', '628', '629', '630', '632', '633', '636', '637', '638', '639', '640', '642', '643', '644', '645', '646', '649', '651', '652', '653', '654', '655', '657', '658', '659', '660', '661', '662', '663', '664', '665', '668', '669', '670', '671', '672', '673', '674', '675', '676', '677', '678', '679', '680', '681', '682', '683', '684', '685', '686', '687', '688', '689', '690', '693', '695', '697', '698', '699', '700', '701', '704', '705', '706', '707', '711', '712', '713', '714', '716', '717', '718', '721', '722', '723', '724', '725', '726', '728', '729', '730', '731', '734', '736', '737', '738', '740', '741', '742', '745', '748', '749', '751', '752', '755', '756', '757', '758', '759', '760', '762', '763', '764', '766', '767', '770', '772', '773', '774', '775', '778', '779', '780', '781', '782', '783', '785', '786', '787', '788', '789', '790', '793', '794', '796', '797', '798', '799', '801', '802', '803', '804', '805', '807', '808', '809', '811', '812', '813', '814', '815', '816', '818', '820', '822', '823', '824', '826', '827', '829', '830', '832', '833', '834', '838', '839', '840', '841', '842', '843', '845', '846', '848', '849', '850', '851', '852', '853', '855', '856', '857', '858', '859', '860', '861', '865', '866', '868', '869', '870', '871', '873', '874', '875', '876', '878', '879', '881', '882', '883', '884', '886', '887', '888', '890', '891', '892', '893', '896', '898', '899', '900', '901', '903', '904', '905', '907', '908', '911', '912', '913', '914', '915', '916', '917', '919', '920', '921', '922', '924', '925', '927', '928', '929', '930', '932', '934', '935', '936', '938', '939', '940', '941', '944', '945', '946', '947', '949', '950', '952', '953', '954', '955', '956', '957', '959', '960', '961', '963', '964', '965', '966', '967', '968', '969', '971', '973', '974', '975', '977', '980', '981', '982', '983', '986', '989', '990', '991', '992', '994', '996', '997', '998', '999', '1000', '1001', '1002', '1003', '1007', '1009', '1010', '1011', '1012', '1013', '1014', '1020', '1021', '1022', '1023', '1024', '1026', '1028', '1029', '1030', '1031', '1032', '1034', '1038', '1039', '1040', '1042', '1043', '1044', '1045', '1046', '1047', '1055', '1057', '1058', '1060', '1061', '1062', '1063', '1064', '1066', '1068', '1069', '1070', '1071', '1072', '1075', '1076', '1077', '1078', '1081', '1082', '1083', '1084', '1085', '1086', '1089', '1090', '1092', '1094', '1098', '1099', '1100', '1102', '1106', '1107', '1108', '1110', '1111', '1114', '1115', '1119', '1121', '1124', '1125', '1126', '1127', '1128', '1129', '1130', '1131', '1134', '1135', '1136', '1137', '1138', '1139', '1140', '1142', '1144', '1145', '1147', '1148', '1150', '1151', '1152', '1153', '1154', '1155', '1158', '1159', '1160', '1161', '1162', '1164', '1166', '1167', '1168', '1170', '1171', '1172', '1173', '1175', '1176', '1178', '1179', '1180', '1181', '1183', '1184', '1185', '1186', '1187', '1188', '1190', '1191', '1192', '1193', '1194', '1195', '1199', '1200', '1201', '1204', '1205', '1208', '1210', '1213', '1214', '1215', '1216', '1217', '1218', '1219', '1221', '1223', '1224', '1226', '1227', '1228', '1229', '1230', '1231', '1233', '1235', '1236', '1237', '1238', '1239', '1240', '1241', '1242', '1245', '1246', '1249', '1250', '1253', '1254', '1255']))"
      ]
     },
     "execution_count": 4,
     "metadata": {},
     "output_type": "execute_result"
    }
   ],
   "source": [
    "len(train_reasoning_dict.keys()), train_reasoning_dict.keys()"
   ]
  },
  {
   "cell_type": "code",
   "execution_count": 12,
   "metadata": {},
   "outputs": [
    {
     "data": {
      "text/plain": [
       "\"\\nPrediction: No\\n1. The user prefers long-sleeved shirts and knit fabric, appreciating good quality fabric and length, but also valuing comfort and simplicity. They enjoy a more formal or stylish clothing, with a preference for fitted styles. They dislike casual clothing, as indicated by their dislike of the Allegra K Ladies Boat Neck Short Dolman Sleeve Cape Style Fashion Top Large / US 14 Khaki.\\n2. The user will dislike the DJT Cowl Neck Button Embellished Ruched Long Sleeve Blouse Top Grey XL because it is a tunic top, which is not a long-sleeved shirt. The product's unique design and stylish cut may not align with the user's preference for simplicity and formality. Additionally, the tight fit, small sizes, and uncomfortable button placements may not meet the user's desire for comfort and quality. The user's preference for fitted styles may also not be met by the product's tunic top design.\""
      ]
     },
     "execution_count": 12,
     "metadata": {},
     "output_type": "execute_result"
    }
   ],
   "source": [
    "train_reasoning_dict['0']"
   ]
  },
  {
   "cell_type": "markdown",
   "metadata": {},
   "source": []
  },
  {
   "cell_type": "code",
   "execution_count": 13,
   "metadata": {},
   "outputs": [],
   "source": [
    "train_reasoning_prompt_path = './reasoning_prompt_data/reasoning_prompt_train.pkl'\n",
    "with open(train_reasoning_prompt_path, 'rb') as f:\n",
    "    train_reasoning_prompt_dict = pickle.load(f)"
   ]
  },
  {
   "cell_type": "code",
   "execution_count": 14,
   "metadata": {},
   "outputs": [
    {
     "data": {
      "text/plain": [
       "['You are an expert fashion product recommender. You are provided with a user\\'s profile and list of recent products and their descriptions that the user purchases and whether the user liked it or disliked it.\\n        User Profile - \\n\\nThe user seems to prefer long-sleeved shirts and knit fabric, as indicated by their purchase of the Allegra K Lady Long Sleeve Letter Pattern Pullover Knit Shirt Black S. They appreciate a good quality fabric and length, but also value comfort and simplicity. The user disliked the product because it was too casual, suggesting they may prefer more formal or stylish clothing. The user\\'s preference for leggings as a pairing item also implies they may enjoy a more fitted or form-fitting style. Overall, the user values comfort, quality, and style, with a preference for long-sleeved knit shirts and fitted styles.\\n        User purchased the following items in the given order. List of recent items and their description -\\n        Liked Allegra K Women Boat Neck Batwing Sleeves Pullover Tops Fuchsia M Brand: Allegra K Description: \\n\\nThe product is a comfortable, stylish, and soft top, available in a great color. However, it has issues with sizing, fitting thin arms, and not being suitable for leggings.\\nDisliked Allegra K Ladies Boat Neck Short Dolman Sleeve Cape Style Fashion Top Large / US 14 Khaki Description: \\n\\nThe product is a cute, warm, and versatile sweater that is comfortable and flattering, but may have issues with sizing and quality of material.\\nLiked Allegra K Woman Boat Neck Button Decor Front Batwing Tunic Top XL Dark Blue Brand: Allegra K Description: \\n\\nThe product is a comfortable and flattering pullover with a soft, thick material, suitable for fall/winter. However, it may have an awkward sleeve length and uneven seams, with inconsistent sizing and color.\\nLiked Allegra K Women Sleeveless Sheer Mesh Yoke Mini Skater Dress L Black Brand: Allegra K Description: \\n\\nThe product is a cute, form-fitting dress made of good material, with stretch and give. However, it may be too big for some, and the sizing may not match the size chart. The quality could be improved.\\nNow, we know that the user will DISLIKE the next purchased item - DJT Cowl Neck Button Embellished Ruched Long Sleeve Blouse Top Grey XL\\n        As an expert fashion product recommender, do the following steps -\\n        1. Analyze the user profile, list of products purchased by the user in order and summarize the user behavior by identifying the characteristics he liked and disliked about the products in at most 100 words.\\n        2. Explain with reasoning why the user will DISLIKE the next purchased item - \"DJT Cowl Neck Button Embellished Ruched Long Sleeve Blouse Top Grey XL Description: \\n\\nThe product is a tunic top with unique design and stylish cut, made of good quality material but with a tight fit, small sizes, and uncomfortable button placements.\", in atmost 100 words.',\n",
       " '\\nPrediction: No']"
      ]
     },
     "execution_count": 14,
     "metadata": {},
     "output_type": "execute_result"
    }
   ],
   "source": [
    "train_reasoning_prompt_dict['0']"
   ]
  },
  {
   "cell_type": "code",
   "execution_count": 11,
   "metadata": {},
   "outputs": [
    {
     "data": {
      "text/plain": [
       "6040"
      ]
     },
     "execution_count": 11,
     "metadata": {},
     "output_type": "execute_result"
    }
   ],
   "source": [
    "len(train_reasoning_prompt_dict)"
   ]
  },
  {
   "cell_type": "code",
   "execution_count": null,
   "metadata": {},
   "outputs": [],
   "source": []
  },
  {
   "cell_type": "markdown",
   "metadata": {},
   "source": [
    "### Final Data"
   ]
  },
  {
   "cell_type": "code",
   "execution_count": 4,
   "metadata": {},
   "outputs": [],
   "source": [
    "import json\n",
    "import pickle\n",
    "import os"
   ]
  },
  {
   "cell_type": "code",
   "execution_count": 5,
   "metadata": {},
   "outputs": [],
   "source": [
    "train_path = \"../final_data/movie_new/train.json\"\n",
    "with open(train_path, 'r') as f:\n",
    "    train_data = json.load(f)"
   ]
  },
  {
   "cell_type": "code",
   "execution_count": 7,
   "metadata": {},
   "outputs": [
    {
     "data": {
      "text/plain": [
       "6032"
      ]
     },
     "execution_count": 7,
     "metadata": {},
     "output_type": "execute_result"
    }
   ],
   "source": [
    "len(train_data)"
   ]
  },
  {
   "cell_type": "code",
   "execution_count": 6,
   "metadata": {},
   "outputs": [
    {
     "data": {
      "text/plain": [
       "{'instruction': 'You are an expert movie critic and recommender. Given the user profile and list of recent liked and disliked movies, identify whether the user will like the target movie or not by providing reasoning for the same. Please follow further instruction below.',\n",
       " 'input': 'User Profile - \\n            The user has a diverse taste in movies, with a preference for thought-provoking and emotionally engaging films. They enjoy dramas that explore complex themes such as mental illness, racial injustice, and the meaning of life. The user is drawn to movies that challenge their perspective and provoke deep thought, often favoring those that tackle serious and mature subjects.\\n            \\n            In addition to dramas, the user also has a soft spot for classic Disney films, as evidenced by their fondness for Cinderella. They appreciate the enchanting storytelling and timeless charm of these animated tales.\\n            \\n            The user\\'s taste in movies also extends to comedies, as seen in their appreciation for the hilarious antics of Wallace & Gromit and the dark humor of Fargo. They are also drawn to adventure films, as demonstrated by their love for Star Wars: Episode IV - A New Hope and Back to the Future.\\n            \\n            However, the user is not a fan of horror movies, as none are listed among their favorites. They also tend to avoid movies that are overly violent or graphic, preferring instead to focus on stories that are emotionally resonant and intellectually stimulating.\\n            \\n            Overall, the user\\'s movie preferences reflect a deep appreciation for storytelling, character development, and thematic depth.\\nUser watched the following movies recently in the given order. List of user behaviour for recent movies and their description -\\nLiked James and the Giant Peach (Genre: Animation,Children\\'s,Musical) \"James and the Giant Peach (1996) is a whimsical and visually stunning adaptation of Roald Dahl\\'s beloved children\\'s book, filled with adventure, friendship, and magic.\",\\nLiked Ferris Bueller\\'s Day Off (Genre: Comedy) \"Ferris Bueller\\'s Day Off\" is a classic 1980s comedy about a high school student who fakes being sick to have an epic day of adventure and mischief in Chicago.,\\nLiked Secret Garden, The (Genre: Children\\'s,Drama) \"Secret Garden (1993) is a heartwarming adaptation of the classic children\\'s novel, filled with enchanting visuals and a touching story of friendship and healing.\",\\nLiked Toy Story 2 (Genre: Animation,Children\\'s,Comedy) Toy Story 2 (1999) is a heartwarming and hilarious animated adventure that explores the value of friendship and the importance of embracing one\\'s identity.,\\nLiked Airplane! (Genre: Comedy) \"Airplane! is a hilarious spoof comedy that takes flight with its clever wordplay, slapstick humor, and memorable one-liners.\",\\nLiked Dumbo (Genre: Animation,Children\\'s,Musical) \"Dumbo, a heartwarming Disney classic, tells the story of a lovable elephant with big ears who discovers his unique talent and finds his place in the world.\",\\nLiked Pleasantville (Genre: Comedy) \"Pleasantville is a thought-provoking and visually stunning film that explores the power of change and individuality in a black-and-white 1950s sitcom world.\",\\nLiked Princess Bride, The (Genre: Action,Adventure,Comedy,Romance) \"The Princess Bride is a timeless romantic adventure filled with humor, sword fights, and true love that captivates audiences of all ages.\",\\nLiked Snow White and the Seven Dwarfs (Genre: Animation,Children\\'s,Musical) Snow White and the Seven Dwarfs is a timeless classic that brings enchantment to life with its charming characters, beautiful animation, and unforgettable songs.,\\nLiked Miracle on 34th Street (Genre: Drama) \"Miracle on 34th Street (1947) is a heartwarming Christmas classic about a department store Santa who claims to be the real deal, spreading holiday cheer and restoring faith in Santa Claus.\",\\nLiked Ponette (Genre: Drama) \"Ponette is a heartbreaking French drama that follows a young girl\\'s journey to cope with the loss of her mother.\",\\nLiked Schindler\\'s List (Genre: Drama,War) Schindler\\'s List (1993) is a powerful and haunting portrayal of Oskar Schindler\\'s efforts to save Jews during the Holocaust.,\\nLiked Toy Story (Genre: Animation,Children\\'s,Comedy) Toy Story is a groundbreaking animated film that brings toys to life, delivering heartwarming humor and adventure as Woody and Buzz navigate the world of childhood imagination.,\\nLiked Aladdin (Genre: Animation,Children\\'s,Comedy,Musical) \"Aladdin is a magical and enchanting animated film that takes viewers on a thrilling adventure filled with humor, romance, and unforgettable songs.\",\\nLiked Tarzan (Genre: Animation,Children\\'s) Tarzan (1999) is a visually stunning and heartfelt Disney animated film that brings the classic tale to life with memorable characters and an enchanting soundtrack.,\\nLiked Close Shave, A (Genre: Animation,Comedy,Thriller) \"A Close Shave (1995) is a delightful stop-motion animated film that combines humor, suspense, and heart as Wallace and Gromit unravel a sheep-stealing mystery.\",\\nLiked Beauty and the Beast (Genre: Animation,Children\\'s,Musical) \"Beauty and the Beast (1991) is a timeless Disney classic that enchants with its captivating story, stunning animation, and unforgettable music.\",\\nLiked Antz (Genre: Animation,Children\\'s) Antz (1998) is a witty and entertaining animated film that explores themes of individuality, friendship, and the power of standing up for what you believe in.,\\nLiked Hunchback of Notre Dame, The (Genre: Animation,Children\\'s,Musical) The Hunchback of Notre Dame (1996) is a visually stunning and emotionally powerful Disney animated film that explores themes of love, acceptance, and the power of inner beauty.,\\nLiked Bug\\'s Life, A (Genre: Animation,Children\\'s,Comedy) A misfit ant named Flik recruits a group of circus bugs to save his colony from greedy grasshoppers in this animated adventure.,\\nThe user watched the next target movie - Mulan (Genre: Animation,Children\\'s) Mulan is a captivating animated film that tells the empowering story of a young Chinese woman who disguises herself as a man to fight in the army.\\n    Do not use any information not mentioned above. As an expert movie critic and recommender, do the following steps -\\n    Analyze the user profile and movie watching history given in order and summarize the user\\'s behavior from the given list of movies and identify the movie characteristics that he likes and dislikes in atmost 100 words.\\n    Explain with reasoning whether the user will like or dislike the target movie - Mulan  in atmost 100 words.\\n    Predict whether the user will like the target movie or not in the following format - Prediction: Yes or No\\n    ',\n",
       " 'output': \"Prediction: Yes \\n Summary of user behavior and movie characteristics: The user enjoys a diverse range of movies, with a preference for thought-provoking and emotionally engaging films. They appreciate enchanting storytelling, timeless charm, and humor. The user is drawn to movies that challenge their perspective, explore complex themes, and provoke deep thought. They enjoy dramas, classic Disney films, comedies, and adventure films, but avoid horror and overly violent or graphic movies.  Reasoning for why the user will like Mulan: Mulan is a captivating animated film that tells an empowering story of a young Chinese woman who disguises herself as a man to fight in the army. This movie aligns with the user's preference for thought-provoking and emotionally engaging films, as it explores themes of identity, courage, and self-discovery. The user's appreciation for classic Disney films and enchanting storytelling is also satisfied by Mulan's stunning animation and unforgettable music. Additionally, the movie's adventure and humor elements cater to the user's enjoyment of comedies and adventure films.\"}"
      ]
     },
     "execution_count": 6,
     "metadata": {},
     "output_type": "execute_result"
    }
   ],
   "source": [
    "train_data[0]"
   ]
  },
  {
   "cell_type": "code",
   "execution_count": 10,
   "metadata": {},
   "outputs": [],
   "source": [
    "valid_path = \"../final_data/movie_new/valid.json\"\n",
    "with open(valid_path, 'r') as f:\n",
    "    valid_data = json.load(f)"
   ]
  },
  {
   "cell_type": "code",
   "execution_count": 11,
   "metadata": {},
   "outputs": [
    {
     "data": {
      "text/plain": [
       "{'instruction': 'You are an expert movie critic and recommender. Given the user profile and list of recent liked and disliked movies, identify whether the user will like the target movie or not by providing reasoning for the same. Please follow further instruction below.',\n",
       " 'input': 'User Profile - \\n            The user has a diverse taste in movies, with a preference for thought-provoking and emotionally engaging films. They enjoy dramas that explore complex themes such as mental illness, racial injustice, and the meaning of life. The user is drawn to movies that challenge their perspective and provoke deep thought, often favoring those that tackle serious and mature subjects.\\n            \\n            In addition to dramas, the user also has a soft spot for classic Disney films, as evidenced by their fondness for Cinderella. They appreciate the enchanting storytelling and timeless charm of these animated tales.\\n            \\n            The user\\'s taste in movies also extends to comedies, as seen in their appreciation for the hilarious antics of Wallace & Gromit and the dark humor of Fargo. They are also drawn to adventure films, as demonstrated by their love for Star Wars: Episode IV - A New Hope and Back to the Future.\\n            \\n            However, the user is not a fan of horror movies, as none are listed among their favorites. They also tend to avoid movies that are overly violent or graphic, preferring instead to focus on stories that are emotionally resonant and intellectually stimulating.\\n            \\n            Overall, the user\\'s movie preferences reflect a deep appreciation for storytelling, character development, and thematic depth.\\nUser watched the following movies recently in the given order. List of user behaviour for recent movies and their description -\\nLiked Ferris Bueller\\'s Day Off (Genre: Comedy) \"Ferris Bueller\\'s Day Off\" is a classic 1980s comedy about a high school student who fakes being sick to have an epic day of adventure and mischief in Chicago.,\\nLiked Secret Garden, The (Genre: Children\\'s,Drama) \"Secret Garden (1993) is a heartwarming adaptation of the classic children\\'s novel, filled with enchanting visuals and a touching story of friendship and healing.\",\\nLiked Toy Story 2 (Genre: Animation,Children\\'s,Comedy) Toy Story 2 (1999) is a heartwarming and hilarious animated adventure that explores the value of friendship and the importance of embracing one\\'s identity.,\\nLiked Airplane! (Genre: Comedy) \"Airplane! is a hilarious spoof comedy that takes flight with its clever wordplay, slapstick humor, and memorable one-liners.\",\\nLiked Dumbo (Genre: Animation,Children\\'s,Musical) \"Dumbo, a heartwarming Disney classic, tells the story of a lovable elephant with big ears who discovers his unique talent and finds his place in the world.\",\\nLiked Pleasantville (Genre: Comedy) \"Pleasantville is a thought-provoking and visually stunning film that explores the power of change and individuality in a black-and-white 1950s sitcom world.\",\\nLiked Princess Bride, The (Genre: Action,Adventure,Comedy,Romance) \"The Princess Bride is a timeless romantic adventure filled with humor, sword fights, and true love that captivates audiences of all ages.\",\\nLiked Snow White and the Seven Dwarfs (Genre: Animation,Children\\'s,Musical) Snow White and the Seven Dwarfs is a timeless classic that brings enchantment to life with its charming characters, beautiful animation, and unforgettable songs.,\\nLiked Miracle on 34th Street (Genre: Drama) \"Miracle on 34th Street (1947) is a heartwarming Christmas classic about a department store Santa who claims to be the real deal, spreading holiday cheer and restoring faith in Santa Claus.\",\\nLiked Ponette (Genre: Drama) \"Ponette is a heartbreaking French drama that follows a young girl\\'s journey to cope with the loss of her mother.\",\\nLiked Schindler\\'s List (Genre: Drama,War) Schindler\\'s List (1993) is a powerful and haunting portrayal of Oskar Schindler\\'s efforts to save Jews during the Holocaust.,\\nLiked Toy Story (Genre: Animation,Children\\'s,Comedy) Toy Story is a groundbreaking animated film that brings toys to life, delivering heartwarming humor and adventure as Woody and Buzz navigate the world of childhood imagination.,\\nLiked Aladdin (Genre: Animation,Children\\'s,Comedy,Musical) \"Aladdin is a magical and enchanting animated film that takes viewers on a thrilling adventure filled with humor, romance, and unforgettable songs.\",\\nLiked Tarzan (Genre: Animation,Children\\'s) Tarzan (1999) is a visually stunning and heartfelt Disney animated film that brings the classic tale to life with memorable characters and an enchanting soundtrack.,\\nLiked Close Shave, A (Genre: Animation,Comedy,Thriller) \"A Close Shave (1995) is a delightful stop-motion animated film that combines humor, suspense, and heart as Wallace and Gromit unravel a sheep-stealing mystery.\",\\nLiked Beauty and the Beast (Genre: Animation,Children\\'s,Musical) \"Beauty and the Beast (1991) is a timeless Disney classic that enchants with its captivating story, stunning animation, and unforgettable music.\",\\nLiked Antz (Genre: Animation,Children\\'s) Antz (1998) is a witty and entertaining animated film that explores themes of individuality, friendship, and the power of standing up for what you believe in.,\\nLiked Hunchback of Notre Dame, The (Genre: Animation,Children\\'s,Musical) The Hunchback of Notre Dame (1996) is a visually stunning and emotionally powerful Disney animated film that explores themes of love, acceptance, and the power of inner beauty.,\\nLiked Bug\\'s Life, A (Genre: Animation,Children\\'s,Comedy) A misfit ant named Flik recruits a group of circus bugs to save his colony from greedy grasshoppers in this animated adventure.,\\nLiked Mulan (Genre: Animation,Children\\'s) Mulan is a captivating animated film that tells the empowering story of a young Chinese woman who disguises herself as a man to fight in the army.,\\nThe user watched the next target movie - Hercules (Genre: Adventure,Animation,Children\\'s,Comedy,Musical) Disney\\'s Hercules is a fun and vibrant animated film that puts a modern twist on the classic Greek myth, with catchy songs and memorable characters.\\n    Do not use any information not mentioned above. As an expert movie critic and recommender, do the following steps -\\n    Analyze the user profile and movie watching history given in order and summarize the user\\'s behavior from the given list of movies and identify the movie characteristics that he likes and dislikes in atmost 100 words.\\n    Explain with reasoning whether the user will like or dislike the target movie - Hercules  in atmost 100 words.\\n    Predict whether the user will like the target movie or not in the following format - Prediction: Yes or No\\n    ',\n",
       " 'output': \"Prediction: Yes \\n The user's movie watching history shows a preference for animated films, with a mix of classic Disney films, comedies, and dramas. They enjoy movies that are heartwarming, visually stunning, and emotionally engaging, often with a musical component. The user tends to avoid horror and overly violent or graphic films, instead favoring stories that explore complex themes and challenge their perspective. Based on this behavior, the user is likely to enjoy Hercules because it is a visually stunning and fun animated film with catchy songs and memorable characters, similar to other Disney films they have enjoyed. Additionally, the movie's modern twist on the classic Greek myth may challenge their perspective and provide intellectually stimulating themes, as they have shown a fondness for in the past.\"}"
      ]
     },
     "execution_count": 11,
     "metadata": {},
     "output_type": "execute_result"
    }
   ],
   "source": [
    "valid_data[0]"
   ]
  },
  {
   "cell_type": "code",
   "execution_count": 15,
   "metadata": {},
   "outputs": [
    {
     "data": {
      "text/plain": [
       "6032"
      ]
     },
     "execution_count": 15,
     "metadata": {},
     "output_type": "execute_result"
    }
   ],
   "source": [
    "len(valid_data)"
   ]
  },
  {
   "cell_type": "code",
   "execution_count": 12,
   "metadata": {},
   "outputs": [],
   "source": [
    "test_path = \"../final_data/movie_new/test.json\"\n",
    "with open(test_path, 'r') as f:\n",
    "    test_data = json.load(f)"
   ]
  },
  {
   "cell_type": "code",
   "execution_count": 13,
   "metadata": {},
   "outputs": [
    {
     "data": {
      "text/plain": [
       "{'instruction': 'You are an expert movie critic and recommender. Given the user profile and list of recent liked and disliked movies, identify whether the user will like the target movie or not by providing reasoning for the same. Please follow further instruction below.',\n",
       " 'input': 'User Profile - \\n            The user has a diverse taste in movies, with a preference for thought-provoking and emotionally engaging films. They enjoy dramas that explore complex themes such as mental illness, racial injustice, and the meaning of life. The user is drawn to movies that challenge their perspective and provoke deep thought, often favoring those that tackle serious and mature subjects.\\n            \\n            In addition to dramas, the user also has a soft spot for classic Disney films, as evidenced by their fondness for Cinderella. They appreciate the enchanting storytelling and timeless charm of these animated tales.\\n            \\n            The user\\'s taste in movies also extends to comedies, as seen in their appreciation for the hilarious antics of Wallace & Gromit and the dark humor of Fargo. They are also drawn to adventure films, as demonstrated by their love for Star Wars: Episode IV - A New Hope and Back to the Future.\\n            \\n            However, the user is not a fan of horror movies, as none are listed among their favorites. They also tend to avoid movies that are overly violent or graphic, preferring instead to focus on stories that are emotionally resonant and intellectually stimulating.\\n            \\n            Overall, the user\\'s movie preferences reflect a deep appreciation for storytelling, character development, and thematic depth.\\nUser watched the following movies recently in the given order. List of user behaviour for recent movies and their description -\\nLiked Secret Garden, The (Genre: Children\\'s,Drama) \"Secret Garden (1993) is a heartwarming adaptation of the classic children\\'s novel, filled with enchanting visuals and a touching story of friendship and healing.\",\\nLiked Toy Story 2 (Genre: Animation,Children\\'s,Comedy) Toy Story 2 (1999) is a heartwarming and hilarious animated adventure that explores the value of friendship and the importance of embracing one\\'s identity.,\\nLiked Airplane! (Genre: Comedy) \"Airplane! is a hilarious spoof comedy that takes flight with its clever wordplay, slapstick humor, and memorable one-liners.\",\\nLiked Dumbo (Genre: Animation,Children\\'s,Musical) \"Dumbo, a heartwarming Disney classic, tells the story of a lovable elephant with big ears who discovers his unique talent and finds his place in the world.\",\\nLiked Pleasantville (Genre: Comedy) \"Pleasantville is a thought-provoking and visually stunning film that explores the power of change and individuality in a black-and-white 1950s sitcom world.\",\\nLiked Princess Bride, The (Genre: Action,Adventure,Comedy,Romance) \"The Princess Bride is a timeless romantic adventure filled with humor, sword fights, and true love that captivates audiences of all ages.\",\\nLiked Snow White and the Seven Dwarfs (Genre: Animation,Children\\'s,Musical) Snow White and the Seven Dwarfs is a timeless classic that brings enchantment to life with its charming characters, beautiful animation, and unforgettable songs.,\\nLiked Miracle on 34th Street (Genre: Drama) \"Miracle on 34th Street (1947) is a heartwarming Christmas classic about a department store Santa who claims to be the real deal, spreading holiday cheer and restoring faith in Santa Claus.\",\\nLiked Ponette (Genre: Drama) \"Ponette is a heartbreaking French drama that follows a young girl\\'s journey to cope with the loss of her mother.\",\\nLiked Schindler\\'s List (Genre: Drama,War) Schindler\\'s List (1993) is a powerful and haunting portrayal of Oskar Schindler\\'s efforts to save Jews during the Holocaust.,\\nLiked Toy Story (Genre: Animation,Children\\'s,Comedy) Toy Story is a groundbreaking animated film that brings toys to life, delivering heartwarming humor and adventure as Woody and Buzz navigate the world of childhood imagination.,\\nLiked Aladdin (Genre: Animation,Children\\'s,Comedy,Musical) \"Aladdin is a magical and enchanting animated film that takes viewers on a thrilling adventure filled with humor, romance, and unforgettable songs.\",\\nLiked Tarzan (Genre: Animation,Children\\'s) Tarzan (1999) is a visually stunning and heartfelt Disney animated film that brings the classic tale to life with memorable characters and an enchanting soundtrack.,\\nLiked Close Shave, A (Genre: Animation,Comedy,Thriller) \"A Close Shave (1995) is a delightful stop-motion animated film that combines humor, suspense, and heart as Wallace and Gromit unravel a sheep-stealing mystery.\",\\nLiked Beauty and the Beast (Genre: Animation,Children\\'s,Musical) \"Beauty and the Beast (1991) is a timeless Disney classic that enchants with its captivating story, stunning animation, and unforgettable music.\",\\nLiked Antz (Genre: Animation,Children\\'s) Antz (1998) is a witty and entertaining animated film that explores themes of individuality, friendship, and the power of standing up for what you believe in.,\\nLiked Hunchback of Notre Dame, The (Genre: Animation,Children\\'s,Musical) The Hunchback of Notre Dame (1996) is a visually stunning and emotionally powerful Disney animated film that explores themes of love, acceptance, and the power of inner beauty.,\\nLiked Bug\\'s Life, A (Genre: Animation,Children\\'s,Comedy) A misfit ant named Flik recruits a group of circus bugs to save his colony from greedy grasshoppers in this animated adventure.,\\nLiked Mulan (Genre: Animation,Children\\'s) Mulan is a captivating animated film that tells the empowering story of a young Chinese woman who disguises herself as a man to fight in the army.,\\nLiked Hercules (Genre: Adventure,Animation,Children\\'s,Comedy,Musical) Disney\\'s Hercules is a fun and vibrant animated film that puts a modern twist on the classic Greek myth, with catchy songs and memorable characters.,\\nThe user watched the next target movie - Pocahontas (Genre: Animation,Children\\'s,Musical,Romance) \"Pocahontas\" (1995) is a visually stunning Disney animated film that tells a fictionalized tale of love and understanding between a Native American princess and an English explorer.\\n    Do not use any information not mentioned above. As an expert movie critic and recommender, do the following steps -\\n    Analyze the user profile and movie watching history given in order and summarize the user\\'s behavior from the given list of movies and identify the movie characteristics that he likes and dislikes in atmost 100 words.\\n    Explain with reasoning whether the user will like or dislike the target movie - Pocahontas  in atmost 100 words.\\n    Predict whether the user will like the target movie or not in the following format - Prediction: Yes or No\\n    ',\n",
       " 'output': \"Prediction: Yes \\n Summary of user behavior and movie characteristics: The user enjoys a diverse range of movies, with a preference for thought-provoking and emotionally engaging films. They appreciate enchanting storytelling, timeless charm, and humor in children's movies, as seen in their fondness for classic Disney films and comedies like Wallace & Gromit. The user also enjoys adventure films, such as Star Wars and Back to the Future. However, they tend to avoid horror movies and prefer stories that are intellectually stimulating and emotionally resonant.  Reasoning for liking Pocahontas: Based on the user's movie watching history, Pocahontas is a movie that aligns with their preferences. It is a visually stunning Disney animated film that tells a fictionalized tale of love and understanding between a Native American princess and an English explorer. The movie explores themes of cultural differences, empathy, and the power of love, which are all intellectually stimulating and emotionally resonant. Additionally, the movie features catchy songs and memorable characters, which the user has shown appreciation for in other animated films. Therefore, the user is likely to enjoy Pocahontas.\"}"
      ]
     },
     "execution_count": 13,
     "metadata": {},
     "output_type": "execute_result"
    }
   ],
   "source": [
    "test_data[0]"
   ]
  },
  {
   "cell_type": "code",
   "execution_count": 14,
   "metadata": {},
   "outputs": [
    {
     "data": {
      "text/plain": [
       "6040"
      ]
     },
     "execution_count": 14,
     "metadata": {},
     "output_type": "execute_result"
    }
   ],
   "source": [
    "len(test_data)"
   ]
  },
  {
   "cell_type": "code",
   "execution_count": null,
   "metadata": {},
   "outputs": [],
   "source": []
  }
 ],
 "metadata": {
  "kernelspec": {
   "display_name": "mixtral",
   "language": "python",
   "name": "python3"
  },
  "language_info": {
   "codemirror_mode": {
    "name": "ipython",
    "version": 3
   },
   "file_extension": ".py",
   "mimetype": "text/x-python",
   "name": "python",
   "nbconvert_exporter": "python",
   "pygments_lexer": "ipython3",
   "version": "3.9.18"
  }
 },
 "nbformat": 4,
 "nbformat_minor": 2
}
