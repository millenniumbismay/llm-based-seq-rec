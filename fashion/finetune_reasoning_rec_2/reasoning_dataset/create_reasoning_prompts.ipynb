{
 "cells": [
  {
   "cell_type": "code",
   "execution_count": 1,
   "id": "1afd5484-961f-4997-9178-6c0f2e46e085",
   "metadata": {},
   "outputs": [],
   "source": [
    "import pickle\n",
    "import pandas as pd\n",
    "import numpy as np\n",
    "import os\n",
    "import time\n",
    "import json\n",
    "from dotenv import load_dotenv"
   ]
  },
  {
   "cell_type": "code",
   "execution_count": 2,
   "id": "95487d68-9053-49c4-8381-5aa26e09035f",
   "metadata": {},
   "outputs": [],
   "source": [
    "from openai import OpenAI\n",
    "load_dotenv()\n",
    "client = OpenAI(\n",
    "    # This is the default and can be omitted\n",
    "    api_key=os.environ.get(\"OPENAI_API_KEY\"),\n",
    ")"
   ]
  },
  {
   "cell_type": "code",
   "execution_count": 3,
   "id": "f804c243-3647-4d2c-a97e-3383a22b3035",
   "metadata": {},
   "outputs": [],
   "source": [
    "user_train_path = '/home/grads/m/mbismay/llm-based-seq-rec/fashion/fashion_data/processed_data/user_train.json'\n",
    "user_valid_path = '/home/grads/m/mbismay/llm-based-seq-rec/fashion/fashion_data/processed_data/user_valid.json'\n",
    "user_test_path = '/home/grads/m/mbismay/llm-based-seq-rec/fashion/fashion_data/processed_data/user_test.json'"
   ]
  },
  {
   "cell_type": "code",
   "execution_count": 4,
   "id": "ec86d569-b862-4999-bba3-78b44ccfe0c3",
   "metadata": {},
   "outputs": [],
   "source": [
    "with open(user_train_path, 'rb') as f:\n",
    "    user_train_dict = json.load(f)\n",
    "with open(user_valid_path, 'rb') as f:\n",
    "    user_valid_dict = json.load(f)\n",
    "with open(user_test_path, 'rb') as f:\n",
    "    user_test_dict = json.load(f)"
   ]
  },
  {
   "cell_type": "code",
   "execution_count": 5,
   "id": "ee17dbc5-601c-48c8-8e44-c2d1838740d0",
   "metadata": {},
   "outputs": [
    {
     "name": "stdout",
     "output_type": "stream",
     "text": [
      "[11, 12, 13, 14, 15]\n",
      "[12, 13, 14, 15, 16]\n",
      "[13, 14, 15, 16, 17]\n"
     ]
    }
   ],
   "source": [
    "user_id = '1'\n",
    "print(user_train_dict[user_id])\n",
    "print(user_valid_dict[user_id])\n",
    "print(user_test_dict[user_id])"
   ]
  },
  {
   "cell_type": "code",
   "execution_count": 6,
   "id": "859eac23-3551-4a84-a025-b9de11ef5eec",
   "metadata": {},
   "outputs": [
    {
     "name": "stdout",
     "output_type": "stream",
     "text": [
      "6089\n"
     ]
    }
   ],
   "source": [
    "item_information_path = '/home/grads/m/mbismay/llm-based-seq-rec/fashion/fashion_data/processed_data/processed_item_information.json'\n",
    "with open(item_information_path, 'r') as f:\n",
    "    item_information_dict = json.load(f)\n",
    "print(len(item_information_dict))"
   ]
  },
  {
   "cell_type": "code",
   "execution_count": 7,
   "id": "84a42d22-43f2-4378-8266-f0862eb9e08c",
   "metadata": {},
   "outputs": [
    {
     "data": {
      "text/html": [
       "<div>\n",
       "<style scoped>\n",
       "    .dataframe tbody tr th:only-of-type {\n",
       "        vertical-align: middle;\n",
       "    }\n",
       "\n",
       "    .dataframe tbody tr th {\n",
       "        vertical-align: top;\n",
       "    }\n",
       "\n",
       "    .dataframe thead th {\n",
       "        text-align: right;\n",
       "    }\n",
       "</style>\n",
       "<table border=\"1\" class=\"dataframe\">\n",
       "  <thead>\n",
       "    <tr style=\"text-align: right;\">\n",
       "      <th></th>\n",
       "      <th>item</th>\n",
       "      <th>user</th>\n",
       "      <th>rating</th>\n",
       "      <th>timestamp</th>\n",
       "    </tr>\n",
       "  </thead>\n",
       "  <tbody>\n",
       "    <tr>\n",
       "      <th>0</th>\n",
       "      <td>0</td>\n",
       "      <td>0</td>\n",
       "      <td>4.0</td>\n",
       "      <td>1452816000</td>\n",
       "    </tr>\n",
       "    <tr>\n",
       "      <th>1</th>\n",
       "      <td>1</td>\n",
       "      <td>0</td>\n",
       "      <td>4.0</td>\n",
       "      <td>1453766400</td>\n",
       "    </tr>\n",
       "    <tr>\n",
       "      <th>2</th>\n",
       "      <td>2</td>\n",
       "      <td>0</td>\n",
       "      <td>3.0</td>\n",
       "      <td>1453766400</td>\n",
       "    </tr>\n",
       "    <tr>\n",
       "      <th>3</th>\n",
       "      <td>3</td>\n",
       "      <td>0</td>\n",
       "      <td>4.0</td>\n",
       "      <td>1453766400</td>\n",
       "    </tr>\n",
       "    <tr>\n",
       "      <th>4</th>\n",
       "      <td>4</td>\n",
       "      <td>0</td>\n",
       "      <td>4.0</td>\n",
       "      <td>1453766400</td>\n",
       "    </tr>\n",
       "  </tbody>\n",
       "</table>\n",
       "</div>"
      ],
      "text/plain": [
       "   item  user  rating   timestamp\n",
       "0     0     0     4.0  1452816000\n",
       "1     1     0     4.0  1453766400\n",
       "2     2     0     3.0  1453766400\n",
       "3     3     0     4.0  1453766400\n",
       "4     4     0     4.0  1453766400"
      ]
     },
     "execution_count": 7,
     "metadata": {},
     "output_type": "execute_result"
    }
   ],
   "source": [
    "ratings_path = '../../fashion_data/processed_data/ratings.csv'\n",
    "ratings_df = pd.read_csv(ratings_path)\n",
    "ratings_df.head()"
   ]
  },
  {
   "cell_type": "code",
   "execution_count": 8,
   "id": "551e7e30",
   "metadata": {},
   "outputs": [
    {
     "name": "stdout",
     "output_type": "stream",
     "text": [
      "848 \n",
      "The user seems to prefer stylish and high-quality products, with a preference for good design and functionality. They liked the Destiny-themed wallet for its cool design and good quality, but disliked the hard-to-open button. They appreciated the spacious and sturdy backpack, but noted that it may not hold too much weight or size. The user liked the formal pencil dress for its stylish and expensive look, but found it unsuitable for pear-shaped women. Overall, the user values both style and functionality in their fashion purchases.\n"
     ]
    }
   ],
   "source": [
    "user_profile_summary_path = '../../fashion_data/processed_data/user_profile_summary.json'\n",
    "with open(user_profile_summary_path, 'r') as f:\n",
    "    user_profile_summary_dict = json.load(f)\n",
    "print(len(user_profile_summary_dict), user_profile_summary_dict['1'])"
   ]
  },
  {
   "cell_type": "code",
   "execution_count": 9,
   "id": "4ec683ad-0276-4bbe-9ede-75f00dd72826",
   "metadata": {},
   "outputs": [],
   "source": [
    "def get_item_description(item_information):\n",
    "    item_details = \"\"\n",
    "    if 'title' in item_information:\n",
    "        item_details += item_information['title']\n",
    "    if 'brand' in item_information:\n",
    "        item_details += f\" Brand: {item_information['brand']}\"\n",
    "    if 'price' in item_information:\n",
    "        item_details += f\" Price: {item_information['price']}\"\n",
    "    if 'description' in item_information:\n",
    "        item_details += f\" Description: {item_information['description']}\"\n",
    "    return item_details"
   ]
  },
  {
   "cell_type": "code",
   "execution_count": 10,
   "id": "58121d83-5664-4f41-888b-9f3d3368c8b4",
   "metadata": {},
   "outputs": [],
   "source": [
    "### Train Data Reaosning\n",
    "train_reasoning_prompts = dict()\n",
    "check_missed_items = []\n",
    "for user, item_list in user_train_dict.items():\n",
    "    # print(user, item_list)\n",
    "    user_rating_dict = ratings_df[ratings_df['user'] == int(user)]\n",
    "    # print(user_rating_dict)\n",
    "    if user in user_profile_summary_dict:\n",
    "        prompt = f\"\"\"You are an expert fashion product recommender. You are provided with a user's profile and list of recent products and their descriptions that the user purchases and whether the user liked it or disliked it.\n",
    "        User Profile - {user_profile_summary_dict[user]}\n",
    "        User purchased the following items in the given order. List of recent items and their description -\n",
    "        \"\"\"\n",
    "    else:\n",
    "        prompt = \"\"\"You are an expert fashion product recommender. You are provided with user's list of recent products and their descriptions that the user purchases and whether the user liked it or disliked it.\n",
    "        User purchased the following items in the given order. List of recent items and their description -\n",
    "        \"\"\"\n",
    "    for item in item_list[:-1]:\n",
    "        user_item_rating = user_rating_dict[user_rating_dict['item'] == item]['rating'].values[0]\n",
    "        if user_item_rating > 3:\n",
    "            ### Liked\n",
    "            prompt += f\"Liked {get_item_description(item_information_dict[str(item)])}\\n\"\n",
    "        else:\n",
    "            prompt += f\"Disliked {get_item_description(item_information_dict[str(item)])}\\n\"\n",
    "    target_item = item_list[-1]\n",
    "    target_item_details = get_item_description(item_information_dict[str(target_item)])\n",
    "    target_item_rating = user_rating_dict[user_rating_dict['item'] == target_item]['rating'].values[0]\n",
    "    # print(f\"target_item_details: {target_item_details} - {target_item_rating}\")\n",
    "\n",
    "    if target_item_rating > 3:\n",
    "        prompt += f\"\"\"Now, we know that the user will LIKE the next item - {item_information_dict[str(target_item)]['title']}\n",
    "        As an expert fashion product recommender, do the following steps -\n",
    "        1. Analyze the user profile, list of products purchased by the user in order and summarize the user behavior by identifying the characteristics he liked and disliked about the products in at most 100 words.\n",
    "        2. Explain with reasoning why the user will LIKE the next item - \"{target_item_details}\", in atmost 100 words.\"\"\"\n",
    "        recommendation = \"\\nPrediction: Yes\"\n",
    "    else:\n",
    "        prompt += f\"\"\"Now, we know that the user will DISLIKE the next purchased item - {item_information_dict[str(target_item)]['title']}\n",
    "        As an expert fashion product recommender, do the following steps -\n",
    "        1. Analyze the user profile, list of products purchased by the user in order and summarize the user behavior by identifying the characteristics he liked and disliked about the products in at most 100 words.\n",
    "        2. Explain with reasoning why the user will DISLIKE the next purchased item - \"{target_item_details}\", in atmost 100 words.\"\"\"\n",
    "        recommendation = \"\\nPrediction: No\"\n",
    "    # print(f\"Prompt: {prompt}\")\n",
    "    train_reasoning_prompts[user] = [prompt, recommendation]\n",
    "    # break\n",
    "# print(train_reasoning_prompts)"
   ]
  },
  {
   "cell_type": "code",
   "execution_count": 11,
   "id": "da09db09-405e-4356-83c2-588f5e888034",
   "metadata": {},
   "outputs": [
    {
     "name": "stdout",
     "output_type": "stream",
     "text": [
      "1444.3079340141398\n"
     ]
    }
   ],
   "source": [
    "total_len = 0\n",
    "all_prompt_lens = []\n",
    "for user, prompt in train_reasoning_prompts.items():\n",
    "    all_prompt_lens.append(len(prompt[0].strip().split(' ')))\n",
    "    total_len += len(prompt[0].strip().split(' '))\n",
    "print(total_len/len(train_reasoning_prompts))"
   ]
  },
  {
   "cell_type": "code",
   "execution_count": 12,
   "id": "cf00b869-7dda-407d-a280-35dd4619ebdd",
   "metadata": {
    "scrolled": true
   },
   "outputs": [
    {
     "data": {
      "text/plain": [
       "(array([  1.,   1.,   2.,   3.,   5.,   5.,  24.,  26.,  53.,  55.,  64.,\n",
       "         73.,  62.,  55.,  42.,  44.,  35.,  68.,  67.,  68.,  58.,  37.,\n",
       "         28.,  23.,  14.,   4.,   1.,   0.,   0.,   0.,   0.,   0.,   0.,\n",
       "          0.,   0.,   0.,   0.,   0.,   0.,   0.,   0.,   0.,   0.,   0.,\n",
       "          0.,   0.,   0.,   0.,   0.,   0.,   0.,   0.,   0.,   0.,   0.,\n",
       "          0.,   0.,   0.,   0.,   0.,   0.,   0.,   0.,   0.,   0.,   0.,\n",
       "          0.,   0.,   0.,   0.,   0.,   0.,   0.,   0.,   0.,   0.,   0.,\n",
       "          0.,   0.,   0.,   0.,   0.,   0.,   0.,   0.,   0.,   0.,   0.,\n",
       "          0.,   0.,   0.,   0.,   0.,   0.,   0.,   0.,   0.,   0.,   0.,\n",
       "          0.,   0.,   0.,   0.,   0.,   0.,   0.,   0.,   0.,   0.,   0.,\n",
       "          0.,   0.,   0.,   0.,   0.,   0.,   0.,   0.,   0.,   0.,   0.,\n",
       "          0.,   0.,   0.,   0.,   0.,   0.,   0.,   0.,   0.,   0.,   0.,\n",
       "          0.,   0.,   0.,   0.,   0.,   0.,   0.,   0.,   0.,   0.,   0.,\n",
       "          0.,   0.,   0.,   0.,   0.,   0.,   0.,   0.,   0.,   0.,   0.,\n",
       "          0.,   0.,   0.,   0.,   0.,   0.,   0.,   0.,   0.,   0.,   0.,\n",
       "          0.,   0.,   0.,   0.,   0.,   0.,   0.,   0.,   0.,   0.,   0.,\n",
       "          0.,   0.,   0.,   0.,   0.,   0.,   0.,   0.,   0.,   0.,   0.,\n",
       "          0.,   0.,   0.,   0.,   0.,   0.,   0.,   0.,   0.,   0.,   0.,\n",
       "          0.,   0.,   0.,   0.,   0.,   0.,   0.,   0.,   0.,   0.,   0.,\n",
       "          0.,   0.,   0.,   0.,   0.,   0.,   0.,   0.,   0.,   0.,   0.,\n",
       "          0.,   0.,   0.,   0.,   0.,   0.,   0.,   0.,   0.,   0.,   0.,\n",
       "          0.,   0.,   0.,   0.,   0.,   0.,   0.,   0.,   0.,   0.,   0.,\n",
       "          0.,   0.,   0.,   0.,   0.,   0.,   0.,   0.,   0.,   0.,   0.,\n",
       "          0.,   0.,   0.,   0.,   0.,   0.,   0.,   0.,   0.,   0.,   0.,\n",
       "          0.,   0.,   0.,   0.,   0.,   0.,   0.,   0.,   0.,   0.,   0.,\n",
       "          0.,   0.,   0.,   0.,   0.,   0.,   0.,   0.,   0.,   0.,   0.,\n",
       "          0.,   0.,   0.,   0.,   0.,   0.,   0.,   0.,   0.,   0.,   0.,\n",
       "          0.,   0.,   0.,   0.,   0.,   0.,   0.,   0.,   0.,   0.,   0.,\n",
       "          0.,   0.,   0.,   0.,   0.,   0.,   0.,   0.,   0.,   0.,   0.,\n",
       "          0.,   0.,   0.,   0.,   0.,   0.,   0.,   3.,   0.,   6.,   0.,\n",
       "          0.,   1.,  27.,  23.,  15.,  49.,  58., 154.,  15.,   2.,   0.,\n",
       "          0.,   0.,   0.,   0.,   0.,   0.,   0.,   0.,   0.,   0.,   0.,\n",
       "          0.,   0.,   0.,   0.,   0.,   0.,   0.,   0.,   0.,   0.,   0.,\n",
       "          0.,   0.,   0.,   0.,   0.,   0.,   0.,   0.,   0.,   0.,   0.,\n",
       "          0.,   0.,   0.,   0.,   0.,   0.,   0.,   0.,   0.,   0.,   0.,\n",
       "          0.,   0.,   0.,   0.,   0.,   0.,   0.,   0.,   0.,   0.,   0.,\n",
       "          0.,   0.,   0.,   0.,   0.,   0.,   0.,   0.,   0.,   0.,   0.,\n",
       "          0.,   0.,   0.,   0.,   0.,   0.,   0.,   0.,   0.,   0.,   0.,\n",
       "          0.,   0.,   0.,   0.,   0.,   0.,   0.,   0.,   0.,   0.,   0.,\n",
       "          0.,   0.,   0.,   0.,   0.,   0.,   0.,   0.,   0.,   0.,   0.,\n",
       "          0.,   0.,   0.,   0.,   0.,   0.,   0.,   0.,   0.,   0.,   0.,\n",
       "          0.,   0.,   0.,   0.,   0.,   0.,   0.,   0.,   0.,   0.,   0.,\n",
       "          0.,   0.,   0.,   0.,   0.,   0.,   0.,   0.,   0.,   0.,   0.,\n",
       "          0.,   0.,   0.,   0.,   0.,   0.,   0.,   0.,   0.,   0.,   0.,\n",
       "          0.,   0.,   0.,   0.,   0.,   0.,   0.,   0.,   0.,   0.,   0.,\n",
       "          0.,   0.,   0.,   0.,   0.,   0.,   0.,   0.,   0.,   0.,   0.,\n",
       "          0.,   0.,   0.,   0.,   0.,   0.,   0.,   0.,   0.,   0.,   0.,\n",
       "          0.,   0.,   0.,   0.,   0.,   0.,   0.,   0.,   0.,   0.,   0.,\n",
       "          0.,   0.,   0.,   0.,   0.,   0.,   0.,   0.,   0.,   0.,   0.,\n",
       "          0.,   0.,   0.,   0.,   0.,   0.,   0.,   0.,   0.,   0.,   0.,\n",
       "          0.,   0.,   0.,   0.,   0.,   0.,   0.,   0.,   0.,   0.,   0.,\n",
       "          0.,   0.,   0.,   0.,   0.,   0.,   0.,   0.,   0.,   0.,   0.,\n",
       "          0.,   0.,   0.,   0.,   0.,   0.,   0.,   0.,   0.,   0.,   0.,\n",
       "          0.,   0.,   0.,   0.,   0.,   0.,   0.,   0.,   0.,   0.,   0.,\n",
       "          0.,   0.,   0.,   0.,   0.,   0.,   0.,   0.,   0.,   0.,   0.,\n",
       "          0.,   0.,   0.,   0.,   0.,   0.,   0.,   0.,   0.,   0.,   0.,\n",
       "          0.,   0.,   0.,   0.,   0.,   0.,   0.,   0.,   0.,   0.,   0.,\n",
       "          0.,   0.,   0.,   0.,   0.,   0.,   0.,   0.,   0.,   0.,   0.,\n",
       "          0.,   0.,   0.,   0.,   0.,   0.,   0.,   0.,   1.,   0.,   0.,\n",
       "          0.,   0.,   0.,   0.,   0.,   0.,   0.,   0.,   0.,   0.,   0.,\n",
       "          0.,   0.,   0.,   0.,   0.,   0.,   0.,   0.,   0.,   0.,   0.,\n",
       "          0.,   0.,   0.,   0.,   0.,   0.,   0.,   0.,   0.,   0.,   0.,\n",
       "          0.,   0.,   0.,   0.,   0.,   0.,   0.,   0.,   0.,   0.,   0.,\n",
       "          0.,   0.,   0.,   0.,   0.,   0.,   0.,   0.,   0.,   0.,   0.,\n",
       "          0.,   0.,   0.,   0.,   0.,   0.,   0.,   0.,   0.,   0.,   0.,\n",
       "          0.,   0.,   0.,   0.,   0.,   0.,   0.,   0.,   0.,   0.,   0.,\n",
       "          0.,   0.,   0.,   0.,   0.,   0.,   0.,   0.,   0.,   0.,   0.,\n",
       "          0.,   0.,   0.,   0.,   0.,   0.,   0.,   0.,   0.,   0.,   0.,\n",
       "          0.,   0.,   0.,   0.,   0.,   0.,   0.,   0.,   0.,   0.,   0.,\n",
       "          0.,   0.,   0.,   0.,   0.,   0.,   0.,   0.,   0.,   0.,   0.,\n",
       "          0.,   0.,   0.,   0.,   0.,   0.,   0.,   0.,   0.,   0.,   0.,\n",
       "          0.,   0.,   0.,   0.,   0.,   0.,   0.,   0.,   0.,   0.,   0.,\n",
       "          0.,   0.,   0.,   0.,   0.,   0.,   0.,   0.,   0.,   0.,   0.,\n",
       "          0.,   0.,   0.,   0.,   0.,   0.,   0.,   0.,   0.,   0.,   0.,\n",
       "          0.,   0.,   0.,   0.,   0.,   0.,   0.,   0.,   0.,   0.,   0.,\n",
       "          0.,   0.,   0.,   0.,   0.,   0.,   0.,   0.,   0.,   0.,   0.,\n",
       "          0.,   0.,   0.,   0.,   0.,   0.,   0.,   0.,   0.,   0.,   0.,\n",
       "          0.,   0.,   0.,   0.,   0.,   0.,   0.,   0.,   0.,   0.,   0.,\n",
       "          0.,   0.,   0.,   0.,   0.,   0.,   0.,   0.,   0.,   0.,   0.,\n",
       "          0.,   0.,   0.,   0.,   0.,   0.,   0.,   0.,   0.,   0.,   0.,\n",
       "          0.,   0.,   0.,   0.,   0.,   0.,   0.,   0.,   0.,   0.,   0.,\n",
       "          0.,   0.,   0.,   0.,   0.,   0.,   0.,   0.,   0.,   0.,   0.,\n",
       "          0.,   0.,   0.,   0.,   0.,   0.,   0.,   0.,   0.,   0.,   0.,\n",
       "          0.,   0.,   0.,   0.,   0.,   0.,   0.,   0.,   0.,   0.,   0.,\n",
       "          0.,   0.,   0.,   0.,   0.,   0.,   0.,   0.,   0.,   0.,   0.,\n",
       "          0.,   0.,   0.,   0.,   0.,   0.,   0.,   0.,   0.,   0.,   0.,\n",
       "          0.,   0.,   0.,   0.,   0.,   0.,   0.,   0.,   0.,   0.,   0.,\n",
       "          0.,   0.,   0.,   0.,   0.,   0.,   0.,   0.,   0.,   0.,   0.,\n",
       "          0.,   0.,   0.,   0.,   0.,   0.,   0.,   0.,   0.,   0.,   0.,\n",
       "          0.,   0.,   0.,   0.,   0.,   0.,   0.,   0.,   0.,   0.,   0.,\n",
       "          0.,   0.,   0.,   0.,   0.,   0.,   0.,   0.,   0.,   1.]),\n",
       " array([  292.   ,   302.952,   313.904, ..., 11222.096, 11233.048,\n",
       "        11244.   ]),\n",
       " <BarContainer object of 1000 artists>)"
      ]
     },
     "execution_count": 12,
     "metadata": {},
     "output_type": "execute_result"
    },
    {
     "data": {
      "image/png": "[encoded data removed]",
      "text/plain": [
       "<Figure size 640x480 with 1 Axes>"
      ]
     },
     "metadata": {},
     "output_type": "display_data"
    }
   ],
   "source": [
    "import matplotlib.pyplot as plt\n",
    "\n",
    "plt.hist(all_prompt_lens, bins=1000, edgecolor='black')"
   ]
  },
  {
   "cell_type": "code",
   "execution_count": 13,
   "id": "85c554f8-7b12-4901-b93b-70713337c9da",
   "metadata": {},
   "outputs": [
    {
     "name": "stdout",
     "output_type": "stream",
     "text": [
      "1273\n"
     ]
    }
   ],
   "source": [
    "### Valid Data Reaosning\n",
    "valid_reasoning_prompts = dict()\n",
    "check_missed_items = []\n",
    "for user, item_list in user_valid_dict.items():\n",
    "    # print(user, item_list)\n",
    "    user_rating_dict = ratings_df[ratings_df['user'] == int(user)]\n",
    "    # print(user_rating_dict)\n",
    "    if user in user_profile_summary_dict:\n",
    "        prompt = f\"\"\"You are an expert fashion product recommender. You are provided with a user's profile and list of recent products and their descriptions that the user purchases and whether the user liked it or disliked it.\n",
    "        User Profile - {user_profile_summary_dict[user]}\n",
    "        User purchased the following items in the given order. List of recent items and their description -\n",
    "        \"\"\"\n",
    "    else:\n",
    "        prompt = \"\"\"You are an expert fashion product recommender. You are provided with user's list of recent products and their descriptions that the user purchases and whether the user liked it or disliked it.\n",
    "        User purchased the following items in the given order. List of recent items and their description -\n",
    "        \"\"\"\n",
    "    for item in item_list[:-1]:\n",
    "        user_item_rating = user_rating_dict[user_rating_dict['item'] == item]['rating'].values[0]\n",
    "        if user_item_rating > 3:\n",
    "            ### Liked\n",
    "            prompt += f\"Liked {get_item_description(item_information_dict[str(item)])}\\n\"\n",
    "        else:\n",
    "            prompt += f\"Disliked {get_item_description(item_information_dict[str(item)])}\\n\"\n",
    "    target_item = item_list[-1]\n",
    "    target_item_details = get_item_description(item_information_dict[str(target_item)])\n",
    "    target_item_rating = user_rating_dict[user_rating_dict['item'] == target_item]['rating'].values[0]\n",
    "    # print(f\"target_item_details: {target_item_details} - {target_item_rating}\")\n",
    "\n",
    "    if target_item_rating > 3:\n",
    "        prompt += f\"\"\"Now, we know that the user will LIKE the next item - {item_information_dict[str(target_item)]['title']}\n",
    "        As an expert fashion product recommender, do the following steps -\n",
    "        1. Analyze the user profile, list of products purchased by the user in order and summarize the user behavior by identifying the characteristics he liked and disliked about the products in at most 100 words.\n",
    "        2. Explain with reasoning why the user will LIKE the next item - \"{target_item_details}\", in atmost 100 words.\"\"\"\n",
    "        recommendation = \"\\nPrediction: Yes\"\n",
    "    else:\n",
    "        prompt += f\"\"\"Now, we know that the user will DISLIKE the next purchased item - {item_information_dict[str(target_item)]['title']}\n",
    "        As an expert fashion product recommender, do the following steps -\n",
    "        1. Analyze the user profile, list of products purchased by the user in order and summarize the user behavior by identifying the characteristics he liked and disliked about the products in at most 100 words.\n",
    "        2. Explain with reasoning why the user will DISLIKE the next purchased item - \"{target_item_details}\", in atmost 100 words.\"\"\"\n",
    "        recommendation = \"\\nPrediction: No\"\n",
    "    # print(f\"Prompt: {prompt}\")\n",
    "    valid_reasoning_prompts[user] = [prompt, recommendation]\n",
    "    # break\n",
    "print(len(valid_reasoning_prompts))"
   ]
  },
  {
   "cell_type": "code",
   "execution_count": 14,
   "id": "d80811b3-83cd-427c-b3f1-1c94fb165d5c",
   "metadata": {},
   "outputs": [
    {
     "name": "stdout",
     "output_type": "stream",
     "text": [
      "1410.59465828751\n"
     ]
    }
   ],
   "source": [
    "total_len = 0\n",
    "all_prompt_lens = []\n",
    "for user, prompt in valid_reasoning_prompts.items():\n",
    "    all_prompt_lens.append(len(prompt[0].strip().split(' ')))\n",
    "    total_len += len(prompt[0].strip().split(' '))\n",
    "print(total_len/len(valid_reasoning_prompts))"
   ]
  },
  {
   "cell_type": "code",
   "execution_count": 15,
   "id": "5d35e073-3561-456a-bf63-e4ac24258fda",
   "metadata": {
    "scrolled": true
   },
   "outputs": [
    {
     "data": {
      "text/plain": [
       "(array([  1.,   1.,   0.,   1.,   0.,   2.,   7.,  11.,  18.,  33.,  33.,\n",
       "         65.,  63.,  60.,  69.,  53.,  51.,  43.,  40.,  63.,  61.,  64.,\n",
       "         66.,  42.,  41.,  20.,  17.,   6.,   1.,   2.,   0.,   0.,   0.,\n",
       "          0.,   0.,   0.,   0.,   0.,   0.,   0.,   0.,   0.,   0.,   0.,\n",
       "          0.,   0.,   0.,   0.,   0.,   0.,   0.,   0.,   0.,   0.,   0.,\n",
       "          0.,   0.,   0.,   0.,   0.,   0.,   0.,   0.,   0.,   0.,   0.,\n",
       "          0.,   0.,   0.,   0.,   0.,   0.,   0.,   0.,   0.,   0.,   0.,\n",
       "          0.,   0.,   0.,   0.,   0.,   0.,   0.,   0.,   0.,   0.,   0.,\n",
       "          0.,   0.,   0.,   0.,   0.,   0.,   0.,   0.,   0.,   0.,   0.,\n",
       "          0.,   0.,   0.,   0.,   0.,   0.,   0.,   0.,   0.,   0.,   0.,\n",
       "          0.,   0.,   0.,   0.,   0.,   0.,   0.,   0.,   0.,   0.,   0.,\n",
       "          0.,   0.,   0.,   0.,   0.,   0.,   0.,   0.,   0.,   0.,   0.,\n",
       "          0.,   0.,   0.,   0.,   0.,   0.,   0.,   0.,   0.,   0.,   0.,\n",
       "          0.,   0.,   0.,   0.,   0.,   0.,   0.,   0.,   0.,   0.,   0.,\n",
       "          0.,   0.,   0.,   0.,   0.,   0.,   0.,   0.,   0.,   0.,   0.,\n",
       "          0.,   0.,   0.,   0.,   0.,   0.,   0.,   0.,   0.,   0.,   0.,\n",
       "          0.,   0.,   0.,   0.,   0.,   0.,   0.,   0.,   0.,   0.,   0.,\n",
       "          0.,   0.,   0.,   0.,   0.,   0.,   0.,   0.,   0.,   0.,   0.,\n",
       "          0.,   0.,   0.,   0.,   0.,   0.,   0.,   0.,   0.,   0.,   0.,\n",
       "          0.,   0.,   0.,   0.,   0.,   0.,   0.,   0.,   0.,   0.,   0.,\n",
       "          0.,   0.,   0.,   0.,   0.,   0.,   0.,   0.,   0.,   0.,   0.,\n",
       "          0.,   0.,   0.,   0.,   0.,   0.,   0.,   0.,   0.,   0.,   0.,\n",
       "          0.,   0.,   0.,   0.,   0.,   0.,   0.,   0.,   0.,   0.,   0.,\n",
       "          0.,   0.,   0.,   0.,   0.,   0.,   0.,   0.,   0.,   0.,   0.,\n",
       "          0.,   0.,   0.,   0.,   0.,   0.,   0.,   0.,   0.,   0.,   0.,\n",
       "          0.,   0.,   0.,   0.,   0.,   0.,   0.,   0.,   0.,   0.,   0.,\n",
       "          0.,   0.,   0.,   0.,   0.,   0.,   0.,   0.,   0.,   0.,   0.,\n",
       "          0.,   0.,   0.,   0.,   0.,   0.,   0.,   0.,   0.,   0.,   0.,\n",
       "          0.,   0.,   0.,   0.,   0.,   0.,   0.,   0.,   0.,   0.,   0.,\n",
       "          0.,   0.,   0.,   0.,   0.,   0.,   0.,   0.,   1.,   1.,   0.,\n",
       "          5.,   2.,   0.,   1.,   0.,  22.,  28.,  15.,  48.,  50., 146.,\n",
       "         13.,   2.,   0.,   0.,   0.,   0.,   0.,   0.,   0.,   0.,   0.,\n",
       "          0.,   0.,   0.,   0.,   0.,   0.,   0.,   0.,   0.,   0.,   0.,\n",
       "          0.,   0.,   0.,   0.,   0.,   0.,   0.,   0.,   0.,   0.,   0.,\n",
       "          0.,   0.,   0.,   0.,   0.,   0.,   0.,   0.,   0.,   0.,   0.,\n",
       "          0.,   0.,   0.,   0.,   0.,   0.,   0.,   0.,   0.,   0.,   0.,\n",
       "          0.,   0.,   0.,   0.,   0.,   0.,   0.,   0.,   0.,   0.,   0.,\n",
       "          0.,   0.,   0.,   0.,   0.,   0.,   0.,   0.,   0.,   0.,   0.,\n",
       "          0.,   0.,   0.,   0.,   0.,   0.,   0.,   0.,   0.,   0.,   0.,\n",
       "          0.,   0.,   0.,   0.,   0.,   0.,   0.,   0.,   0.,   0.,   0.,\n",
       "          0.,   0.,   0.,   0.,   0.,   0.,   0.,   0.,   0.,   0.,   0.,\n",
       "          0.,   0.,   0.,   0.,   0.,   0.,   0.,   0.,   0.,   0.,   0.,\n",
       "          0.,   0.,   0.,   0.,   0.,   0.,   0.,   0.,   0.,   0.,   0.,\n",
       "          0.,   0.,   0.,   0.,   0.,   0.,   0.,   0.,   0.,   0.,   0.,\n",
       "          0.,   0.,   0.,   0.,   0.,   0.,   0.,   0.,   0.,   0.,   0.,\n",
       "          0.,   0.,   0.,   0.,   0.,   0.,   0.,   0.,   0.,   0.,   0.,\n",
       "          0.,   0.,   0.,   0.,   0.,   0.,   0.,   0.,   0.,   0.,   0.,\n",
       "          0.,   0.,   0.,   0.,   0.,   0.,   0.,   0.,   0.,   0.,   0.,\n",
       "          0.,   0.,   0.,   0.,   0.,   0.,   0.,   0.,   0.,   0.,   0.,\n",
       "          0.,   0.,   0.,   0.,   0.,   0.,   0.,   0.,   0.,   0.,   0.,\n",
       "          0.,   0.,   0.,   0.,   0.,   0.,   0.,   0.,   0.,   0.,   0.,\n",
       "          0.,   0.,   0.,   0.,   0.,   0.,   0.,   0.,   0.,   0.,   0.,\n",
       "          0.,   0.,   0.,   0.,   0.,   0.,   0.,   0.,   0.,   0.,   0.,\n",
       "          0.,   0.,   0.,   0.,   0.,   0.,   0.,   0.,   0.,   0.,   0.,\n",
       "          0.,   0.,   0.,   0.,   0.,   0.,   0.,   0.,   0.,   0.,   0.,\n",
       "          0.,   0.,   0.,   0.,   0.,   0.,   0.,   0.,   0.,   0.,   0.,\n",
       "          0.,   0.,   0.,   0.,   0.,   0.,   0.,   0.,   0.,   0.,   0.,\n",
       "          0.,   0.,   0.,   0.,   0.,   0.,   0.,   0.,   0.,   0.,   0.,\n",
       "          0.,   0.,   0.,   0.,   0.,   0.,   0.,   0.,   0.,   0.,   1.,\n",
       "          0.,   0.,   0.,   0.,   0.,   0.,   0.,   2.,   0.,   0.,   1.,\n",
       "          0.,   0.,   0.,   0.,   0.,   0.,   0.,   0.,   0.,   0.,   0.,\n",
       "          0.,   0.,   0.,   0.,   0.,   0.,   0.,   0.,   0.,   0.,   0.,\n",
       "          0.,   0.,   0.,   0.,   0.,   0.,   0.,   0.,   0.,   0.,   0.,\n",
       "          0.,   0.,   0.,   0.,   0.,   0.,   0.,   0.,   0.,   0.,   0.,\n",
       "          0.,   0.,   0.,   0.,   0.,   0.,   0.,   0.,   0.,   0.,   0.,\n",
       "          0.,   0.,   0.,   0.,   0.,   0.,   0.,   0.,   0.,   0.,   0.,\n",
       "          0.,   0.,   0.,   0.,   0.,   0.,   0.,   0.,   0.,   0.,   0.,\n",
       "          0.,   0.,   0.,   0.,   0.,   0.,   0.,   0.,   0.,   0.,   0.,\n",
       "          0.,   0.,   0.,   0.,   0.,   0.,   0.,   0.,   0.,   0.,   0.,\n",
       "          0.,   0.,   0.,   0.,   0.,   0.,   0.,   0.,   0.,   0.,   0.,\n",
       "          0.,   0.,   0.,   0.,   0.,   0.,   0.,   0.,   0.,   0.,   0.,\n",
       "          0.,   0.,   0.,   0.,   0.,   0.,   0.,   0.,   0.,   0.,   0.,\n",
       "          0.,   0.,   0.,   0.,   0.,   0.,   0.,   0.,   0.,   0.,   0.,\n",
       "          0.,   0.,   0.,   0.,   0.,   0.,   0.,   0.,   0.,   0.,   0.,\n",
       "          0.,   0.,   0.,   0.,   0.,   0.,   0.,   0.,   0.,   0.,   0.,\n",
       "          0.,   0.,   0.,   0.,   0.,   0.,   0.,   0.,   0.,   0.,   0.,\n",
       "          0.,   0.,   0.,   0.,   0.,   0.,   0.,   0.,   0.,   0.,   0.,\n",
       "          0.,   0.,   0.,   0.,   0.,   0.,   0.,   0.,   0.,   0.,   0.,\n",
       "          0.,   0.,   0.,   0.,   0.,   0.,   0.,   0.,   0.,   0.,   0.,\n",
       "          0.,   0.,   0.,   0.,   0.,   0.,   0.,   0.,   0.,   0.,   0.,\n",
       "          0.,   0.,   0.,   0.,   0.,   0.,   0.,   0.,   0.,   0.,   0.,\n",
       "          0.,   0.,   0.,   0.,   0.,   0.,   0.,   0.,   0.,   0.,   0.,\n",
       "          0.,   0.,   0.,   0.,   0.,   0.,   0.,   0.,   0.,   0.,   0.,\n",
       "          0.,   0.,   0.,   0.,   0.,   0.,   0.,   0.,   0.,   0.,   0.,\n",
       "          0.,   0.,   0.,   0.,   0.,   0.,   0.,   0.,   0.,   0.,   0.,\n",
       "          0.,   0.,   0.,   0.,   0.,   0.,   0.,   0.,   0.,   0.,   0.,\n",
       "          0.,   0.,   0.,   0.,   0.,   0.,   0.,   0.,   0.,   0.,   0.,\n",
       "          0.,   0.,   0.,   0.,   0.,   0.,   0.,   0.,   0.,   0.,   0.,\n",
       "          0.,   0.,   0.,   0.,   0.,   0.,   0.,   0.,   0.,   0.,   0.,\n",
       "          0.,   0.,   0.,   0.,   0.,   0.,   0.,   0.,   0.,   0.,   0.,\n",
       "          0.,   0.,   0.,   0.,   0.,   0.,   0.,   0.,   0.,   1.]),\n",
       " array([  268.   ,   278.948,   289.896, ..., 11194.104, 11205.052,\n",
       "        11216.   ]),\n",
       " <BarContainer object of 1000 artists>)"
      ]
     },
     "execution_count": 15,
     "metadata": {},
     "output_type": "execute_result"
    },
    {
     "data": {
      "image/png": "[encoded data removed]",
      "text/plain": [
       "<Figure size 640x480 with 1 Axes>"
      ]
     },
     "metadata": {},
     "output_type": "display_data"
    }
   ],
   "source": [
    "import matplotlib.pyplot as plt\n",
    "\n",
    "plt.hist(all_prompt_lens, bins=1000, edgecolor='black')"
   ]
  },
  {
   "cell_type": "code",
   "execution_count": 16,
   "id": "ffd619b7-f8d8-446d-b507-ef472bf36a9d",
   "metadata": {},
   "outputs": [
    {
     "name": "stdout",
     "output_type": "stream",
     "text": [
      "1273\n"
     ]
    }
   ],
   "source": [
    "### Test Data Reaosning\n",
    "test_reasoning_prompts = dict()\n",
    "check_missed_items = []\n",
    "for user, item_list in user_test_dict.items():\n",
    "    # print(user, item_list)\n",
    "    user_rating_dict = ratings_df[ratings_df['user'] == int(user)]\n",
    "    # print(user_rating_dict)\n",
    "    if user in user_profile_summary_dict:\n",
    "        prompt = f\"\"\"You are an expert fashion product recommender. You are provided with a user's profile and list of recent products and their descriptions that the user purchases and whether the user liked it or disliked it.\n",
    "        User Profile - {user_profile_summary_dict[user]}\n",
    "        User purchased the following items in the given order. List of recent items and their description -\n",
    "        \"\"\"\n",
    "    else:\n",
    "        prompt = \"\"\"You are an expert fashion product recommender. You are provided with user's list of recent products and their descriptions that the user purchases and whether the user liked it or disliked it.\n",
    "        User purchased the following items in the given order. List of recent items and their description -\n",
    "        \"\"\"\n",
    "    for item in item_list[:-1]:\n",
    "        user_item_rating = user_rating_dict[user_rating_dict['item'] == item]['rating'].values[0]\n",
    "        if user_item_rating > 3:\n",
    "            ### Liked\n",
    "            prompt += f\"Liked {get_item_description(item_information_dict[str(item)])}\\n\"\n",
    "        else:\n",
    "            prompt += f\"Disliked {get_item_description(item_information_dict[str(item)])}\\n\"\n",
    "    target_item = item_list[-1]\n",
    "    target_item_details = get_item_description(item_information_dict[str(target_item)])\n",
    "    target_item_rating = user_rating_dict[user_rating_dict['item'] == target_item]['rating'].values[0]\n",
    "    # print(f\"target_item_details: {target_item_details} - {target_item_rating}\")\n",
    "\n",
    "    if target_item_rating > 3:\n",
    "        prompt += f\"\"\"Now, we know that the user will LIKE the next item - {item_information_dict[str(target_item)]['title']}\n",
    "        As an expert fashion product recommender, do the following steps -\n",
    "        1. Analyze the user profile, list of products purchased by the user in order and summarize the user behavior by identifying the characteristics he liked and disliked about the products in at most 100 words.\n",
    "        2. Explain with reasoning why the user will LIKE the next item - \"{target_item_details}\", in atmost 100 words.\"\"\"\n",
    "        recommendation = \"\\nPrediction: Yes\"\n",
    "    else:\n",
    "        prompt += f\"\"\"Now, we know that the user will DISLIKE the next purchased item - {item_information_dict[str(target_item)]['title']}\n",
    "        As an expert fashion product recommender, do the following steps -\n",
    "        1. Analyze the user profile, list of products purchased by the user in order and summarize the user behavior by identifying the characteristics he liked and disliked about the products in at most 100 words.\n",
    "        2. Explain with reasoning why the user will DISLIKE the next purchased item - \"{target_item_details}\", in atmost 100 words.\"\"\"\n",
    "        recommendation = \"\\nPrediction: No\"\n",
    "    # print(f\"Prompt: {prompt}\")\n",
    "    test_reasoning_prompts[user] = [prompt, recommendation]\n",
    "    # break\n",
    "print(len(test_reasoning_prompts))"
   ]
  },
  {
   "cell_type": "code",
   "execution_count": 17,
   "id": "f542917a-6452-4da7-b0fe-0f02dc99b562",
   "metadata": {},
   "outputs": [
    {
     "name": "stdout",
     "output_type": "stream",
     "text": [
      "541.5208169677926\n"
     ]
    }
   ],
   "source": [
    "total_len = 0\n",
    "all_prompt_lens = []\n",
    "for user, prompt in test_reasoning_prompts.items():\n",
    "    all_prompt_lens.append(len(prompt[0].strip().split(' ')))\n",
    "    total_len += len(prompt[0].strip().split(' '))\n",
    "print(total_len/len(test_reasoning_prompts))"
   ]
  },
  {
   "cell_type": "code",
   "execution_count": 18,
   "id": "b6814948-c8d7-4a3b-95a1-555d0177efe0",
   "metadata": {
    "scrolled": true
   },
   "outputs": [
    {
     "data": {
      "text/plain": [
       "(array([  2.,   1.,   0.,   1.,   0.,   3.,   1.,   8.,  12.,  15.,  21.,\n",
       "         22.,  25.,  37.,  42.,  43.,  52.,  47.,  39.,  46.,  40.,  20.,\n",
       "         29.,  35.,  27.,  63.,  65.,  50.,  62.,  82.,  69.,  67., 149.,\n",
       "         36.,  14.,   9.,  10.,   4.,   3.,   0.,   1.,   1.,   1.,   0.,\n",
       "          0.,   0.,   0.,   0.,   0.,   0.,   0.,   0.,   0.,   0.,   0.,\n",
       "          0.,   0.,   0.,   0.,   0.,   0.,   0.,   0.,   0.,   0.,   0.,\n",
       "          0.,   0.,   0.,   0.,   0.,   0.,   0.,   0.,   0.,   0.,   0.,\n",
       "          0.,   0.,   0.,   0.,   0.,   0.,   0.,   0.,   0.,   0.,   0.,\n",
       "          0.,   0.,   0.,   0.,   0.,   0.,   0.,   0.,   0.,   0.,   0.,\n",
       "          0.,   0.,   0.,   0.,   0.,   0.,   0.,   0.,   0.,   0.,   0.,\n",
       "          0.,   0.,   0.,   0.,   0.,   0.,   0.,   0.,   0.,   0.,   0.,\n",
       "          0.,   0.,   0.,   0.,   0.,   0.,   0.,   0.,   0.,   0.,   0.,\n",
       "          0.,   0.,   0.,   0.,   0.,   0.,   0.,   0.,   0.,   0.,   0.,\n",
       "          0.,   0.,   0.,   0.,   0.,   0.,   0.,   0.,   0.,   0.,   0.,\n",
       "          0.,   0.,   0.,   0.,   0.,   0.,   0.,   0.,   0.,   0.,   0.,\n",
       "          0.,   0.,   0.,   0.,   0.,   0.,   0.,   0.,   0.,   0.,   0.,\n",
       "          0.,   0.,   0.,   0.,   0.,   0.,   0.,   0.,   0.,   0.,   0.,\n",
       "          0.,   0.,   0.,   0.,   0.,   0.,   0.,   0.,   0.,   0.,   0.,\n",
       "          0.,   0.,   0.,   0.,   0.,   0.,   0.,   0.,   0.,   0.,   0.,\n",
       "          0.,   0.,   0.,   0.,   0.,   0.,   0.,   0.,   0.,   0.,   0.,\n",
       "          0.,   0.,   0.,   0.,   0.,   0.,   0.,   0.,   0.,   0.,   0.,\n",
       "          0.,   0.,   0.,   0.,   0.,   0.,   0.,   0.,   0.,   0.,   0.,\n",
       "          0.,   0.,   0.,   0.,   0.,   0.,   0.,   0.,   0.,   0.,   0.,\n",
       "          0.,   0.,   0.,   0.,   0.,   0.,   0.,   0.,   0.,   0.,   0.,\n",
       "          0.,   0.,   0.,   0.,   0.,   0.,   0.,   0.,   0.,   0.,   0.,\n",
       "          0.,   0.,   0.,   0.,   0.,   0.,   0.,   0.,   0.,   0.,   0.,\n",
       "          0.,   0.,   0.,   0.,   0.,   0.,   0.,   0.,   0.,   0.,   0.,\n",
       "          0.,   0.,   0.,   0.,   0.,   0.,   0.,   0.,   0.,   0.,   0.,\n",
       "          0.,   0.,   0.,   0.,   0.,   0.,   0.,   0.,   0.,   0.,   0.,\n",
       "          0.,   0.,   0.,   0.,   0.,   0.,   0.,   0.,   0.,   0.,   0.,\n",
       "          0.,   0.,   0.,   0.,   0.,   0.,   0.,   0.,   0.,   0.,   0.,\n",
       "          0.,   0.,   0.,   0.,   0.,   0.,   0.,   0.,   0.,   0.,   0.,\n",
       "          0.,   0.,   0.,   0.,   0.,   0.,   0.,   0.,   0.,   0.,   0.,\n",
       "          0.,   0.,   0.,   0.,   0.,   0.,   0.,   0.,   0.,   0.,   0.,\n",
       "          0.,   0.,   0.,   0.,   0.,   0.,   0.,   0.,   0.,   0.,   0.,\n",
       "          0.,   0.,   0.,   0.,   0.,   0.,   0.,   0.,   0.,   0.,   0.,\n",
       "          0.,   0.,   0.,   0.,   0.,   0.,   0.,   0.,   0.,   0.,   0.,\n",
       "          0.,   0.,   0.,   0.,   0.,   0.,   0.,   0.,   0.,   0.,   0.,\n",
       "          0.,   0.,   0.,   0.,   0.,   0.,   0.,   0.,   0.,   0.,   0.,\n",
       "          0.,   0.,   0.,   0.,   0.,   0.,   0.,   0.,   0.,   0.,   0.,\n",
       "          0.,   0.,   0.,   0.,   0.,   0.,   0.,   0.,   0.,   0.,   0.,\n",
       "          0.,   0.,   0.,   0.,   0.,   0.,   0.,   0.,   0.,   0.,   0.,\n",
       "          0.,   0.,   0.,   0.,   0.,   0.,   0.,   0.,   0.,   0.,   0.,\n",
       "          0.,   0.,   0.,   0.,   0.,   0.,   0.,   0.,   0.,   0.,   0.,\n",
       "          0.,   0.,   0.,   0.,   0.,   0.,   0.,   0.,   1.,   0.,   1.,\n",
       "          0.,   0.,   2.,   3.,   0.,   1.,   0.,   1.,   0.,   0.,   0.,\n",
       "          0.,   0.,   0.,   2.,   0.,   0.,   0.,   0.,   1.,   0.,   0.,\n",
       "          0.,   0.,   0.,   0.,   0.,   0.,   0.,   0.,   0.,   0.,   0.,\n",
       "          0.,   0.,   0.,   0.,   0.,   0.,   0.,   0.,   0.,   0.,   0.,\n",
       "          0.,   0.,   0.,   0.,   0.,   0.,   0.,   0.,   0.,   0.,   0.,\n",
       "          0.,   0.,   0.,   0.,   0.,   0.,   0.,   0.,   0.,   0.,   0.,\n",
       "          0.,   0.,   0.,   0.,   0.,   0.,   0.,   0.,   0.,   0.,   0.,\n",
       "          0.,   0.,   0.,   0.,   0.,   0.,   0.,   0.,   0.,   0.,   0.,\n",
       "          0.,   0.,   0.,   0.,   0.,   0.,   0.,   0.,   0.,   0.,   0.,\n",
       "          0.,   0.,   0.,   0.,   0.,   0.,   0.,   0.,   0.,   0.,   0.,\n",
       "          0.,   0.,   0.,   0.,   0.,   0.,   0.,   0.,   0.,   0.,   0.,\n",
       "          0.,   0.,   0.,   0.,   0.,   0.,   0.,   0.,   0.,   0.,   0.,\n",
       "          0.,   0.,   0.,   0.,   0.,   0.,   0.,   0.,   0.,   0.,   0.,\n",
       "          0.,   0.,   0.,   0.,   0.,   0.,   0.,   0.,   0.,   0.,   0.,\n",
       "          0.,   0.,   0.,   0.,   0.,   0.,   0.,   0.,   0.,   0.,   0.,\n",
       "          0.,   0.,   0.,   0.,   0.,   0.,   0.,   0.,   0.,   0.,   0.,\n",
       "          0.,   0.,   0.,   0.,   0.,   0.,   0.,   0.,   0.,   0.,   0.,\n",
       "          0.,   0.,   0.,   0.,   0.,   0.,   0.,   0.,   0.,   0.,   0.,\n",
       "          0.,   0.,   0.,   0.,   0.,   0.,   0.,   0.,   0.,   0.,   0.,\n",
       "          0.,   0.,   0.,   0.,   0.,   0.,   0.,   0.,   0.,   0.,   0.,\n",
       "          0.,   0.,   0.,   0.,   0.,   0.,   0.,   0.,   0.,   0.,   0.,\n",
       "          0.,   0.,   0.,   0.,   0.,   0.,   0.,   0.,   0.,   0.,   0.,\n",
       "          0.,   0.,   0.,   0.,   0.,   0.,   0.,   0.,   0.,   0.,   0.,\n",
       "          0.,   0.,   0.,   0.,   0.,   0.,   0.,   0.,   0.,   0.,   0.,\n",
       "          0.,   0.,   0.,   0.,   0.,   0.,   0.,   0.,   0.,   0.,   0.,\n",
       "          0.,   0.,   0.,   0.,   0.,   0.,   0.,   0.,   0.,   0.,   0.,\n",
       "          0.,   0.,   0.,   0.,   0.,   0.,   0.,   0.,   0.,   0.,   0.,\n",
       "          0.,   0.,   0.,   0.,   0.,   0.,   0.,   0.,   0.,   0.,   0.,\n",
       "          0.,   0.,   0.,   0.,   0.,   0.,   0.,   0.,   0.,   0.,   0.,\n",
       "          0.,   0.,   0.,   0.,   0.,   0.,   0.,   0.,   0.,   0.,   0.,\n",
       "          0.,   0.,   0.,   0.,   0.,   0.,   0.,   0.,   0.,   0.,   0.,\n",
       "          0.,   0.,   0.,   0.,   0.,   0.,   0.,   0.,   0.,   0.,   0.,\n",
       "          0.,   0.,   0.,   0.,   0.,   0.,   0.,   0.,   0.,   0.,   0.,\n",
       "          0.,   0.,   0.,   0.,   0.,   0.,   0.,   0.,   0.,   0.,   0.,\n",
       "          0.,   0.,   0.,   0.,   0.,   0.,   0.,   0.,   0.,   0.,   0.,\n",
       "          0.,   0.,   0.,   0.,   0.,   0.,   0.,   0.,   0.,   0.,   0.,\n",
       "          0.,   0.,   0.,   0.,   0.,   0.,   0.,   0.,   0.,   0.,   0.,\n",
       "          0.,   0.,   0.,   0.,   0.,   0.,   0.,   0.,   0.,   0.,   0.,\n",
       "          0.,   0.,   0.,   0.,   0.,   0.,   0.,   0.,   0.,   0.,   0.,\n",
       "          0.,   0.,   0.,   0.,   0.,   0.,   0.,   0.,   0.,   0.,   0.,\n",
       "          0.,   0.,   0.,   0.,   0.,   0.,   0.,   0.,   0.,   0.,   0.,\n",
       "          0.,   0.,   0.,   0.,   0.,   0.,   0.,   0.,   0.,   0.,   0.,\n",
       "          0.,   0.,   0.,   0.,   0.,   0.,   0.,   0.,   0.,   0.,   0.,\n",
       "          0.,   0.,   0.,   0.,   0.,   0.,   0.,   0.,   0.,   1.,   0.,\n",
       "          0.,   1.,   0.,   0.,   0.,   1.,   0.,   0.,   0.,   0.,   0.,\n",
       "          1.,   1.,   0.,   1.,   0.,   0.,   0.,   0.,   0.,   1.]),\n",
       " array([ 297.   ,  304.208,  311.416, ..., 7490.584, 7497.792, 7505.   ]),\n",
       " <BarContainer object of 1000 artists>)"
      ]
     },
     "execution_count": 18,
     "metadata": {},
     "output_type": "execute_result"
    },
    {
     "data": {
      "image/png": "[encoded data removed]",
      "text/plain": [
       "<Figure size 640x480 with 1 Axes>"
      ]
     },
     "metadata": {},
     "output_type": "display_data"
    }
   ],
   "source": [
    "import matplotlib.pyplot as plt\n",
    "\n",
    "plt.hist(all_prompt_lens, bins=1000, edgecolor='black')"
   ]
  },
  {
   "cell_type": "code",
   "execution_count": 19,
   "id": "9cbddab5-2fa4-4319-830c-def4c7936d27",
   "metadata": {},
   "outputs": [],
   "source": [
    "very_long_prompts_users = set()\n",
    "len_threshold = 600\n",
    "for user, prompt in test_reasoning_prompts.items():\n",
    "    if len(prompt[0].strip().split(' ')) > len_threshold:\n",
    "        very_long_prompts_users.add(user)\n",
    "for user, prompt in train_reasoning_prompts.items():\n",
    "    if len(prompt[0].strip().split(' ')) > len_threshold:\n",
    "        very_long_prompts_users.add(user)\n",
    "for user, prompt in valid_reasoning_prompts.items():\n",
    "    if len(prompt[0].strip().split(' ')) > len_threshold:\n",
    "        very_long_prompts_users.add(user)"
   ]
  },
  {
   "cell_type": "code",
   "execution_count": 20,
   "id": "6a4e3627-5de8-434f-b4f9-e2a575829b42",
   "metadata": {},
   "outputs": [
    {
     "name": "stdout",
     "output_type": "stream",
     "text": [
      "367\n"
     ]
    }
   ],
   "source": [
    "very_long_prompts_users = list(very_long_prompts_users)\n",
    "print(len(very_long_prompts_users))"
   ]
  },
  {
   "cell_type": "code",
   "execution_count": 21,
   "id": "c52cf9ca-1e6b-40e6-9949-38ef6b6c9b04",
   "metadata": {},
   "outputs": [
    {
     "name": "stdout",
     "output_type": "stream",
     "text": [
      "906 906 906\n"
     ]
    }
   ],
   "source": [
    "for user in very_long_prompts_users:\n",
    "    train_reasoning_prompts.pop(user, None)\n",
    "    valid_reasoning_prompts.pop(user, None)\n",
    "    test_reasoning_prompts.pop(user, None)\n",
    "print(len(train_reasoning_prompts), len(valid_reasoning_prompts), len(test_reasoning_prompts))"
   ]
  },
  {
   "cell_type": "code",
   "execution_count": 22,
   "id": "d7860cc4-b347-4b97-89fd-57cad5f272db",
   "metadata": {},
   "outputs": [],
   "source": [
    "reasoning_prompt_path = './reasoning_prompt_data/reasoning_prompt_train.pkl'\n",
    "with open(reasoning_prompt_path, 'wb') as f:\n",
    "    pickle.dump(train_reasoning_prompts, f)\n",
    "    f.close()"
   ]
  },
  {
   "cell_type": "code",
   "execution_count": 23,
   "id": "a7716625-9024-48b4-a4e8-f804b7ebcb3e",
   "metadata": {},
   "outputs": [],
   "source": [
    "reasoning_prompt_path = './reasoning_prompt_data/reasoning_prompt_valid.pkl'\n",
    "with open(reasoning_prompt_path, 'wb') as f:\n",
    "    pickle.dump(valid_reasoning_prompts, f)\n",
    "    f.close()"
   ]
  },
  {
   "cell_type": "code",
   "execution_count": 24,
   "id": "7391d9cf-2bb8-44cc-9b31-54f55b2db5d2",
   "metadata": {},
   "outputs": [],
   "source": [
    "reasoning_prompt_path = './reasoning_prompt_data/reasoning_prompt_test.pkl'\n",
    "with open(reasoning_prompt_path, 'wb') as f:\n",
    "    pickle.dump(test_reasoning_prompts, f)\n",
    "    f.close()"
   ]
  },
  {
   "cell_type": "code",
   "execution_count": 25,
   "id": "f0b61e23-542f-4afc-865a-6bedd683f4e5",
   "metadata": {},
   "outputs": [
    {
     "name": "stdout",
     "output_type": "stream",
     "text": [
      "['You are an expert fashion product recommender. You are provided with a user\\'s profile and list of recent products and their descriptions that the user purchases and whether the user liked it or disliked it.\\n        User Profile - \\n\\nThe user seems to prefer long-sleeved shirts and knit fabric, as indicated by their purchase of the Allegra K Lady Long Sleeve Letter Pattern Pullover Knit Shirt Black S. They appreciate a good quality fabric and length, but also value comfort and simplicity. The user disliked the product because it was too casual, suggesting they may prefer more formal or stylish clothing. The user\\'s preference for leggings as a pairing item also implies they may enjoy a more fitted or form-fitting style. Overall, the user values comfort, quality, and style, with a preference for long-sleeved knit shirts and fitted styles.\\n        User purchased the following items in the given order. List of recent items and their description -\\n        Liked Allegra K Women Boat Neck Batwing Sleeves Pullover Tops Fuchsia M Brand: Allegra K Description: \\n\\nThe product is a comfortable, stylish, and soft top, available in a great color. However, it has issues with sizing, fitting thin arms, and not being suitable for leggings.\\nDisliked Allegra K Ladies Boat Neck Short Dolman Sleeve Cape Style Fashion Top Large / US 14 Khaki Description: \\n\\nThe product is a cute, warm, and versatile sweater that is comfortable and flattering, but may have issues with sizing and quality of material.\\nLiked Allegra K Woman Boat Neck Button Decor Front Batwing Tunic Top XL Dark Blue Brand: Allegra K Description: \\n\\nThe product is a comfortable and flattering pullover with a soft, thick material, suitable for fall/winter. However, it may have an awkward sleeve length and uneven seams, with inconsistent sizing and color.\\nLiked Allegra K Women Sleeveless Sheer Mesh Yoke Mini Skater Dress L Black Brand: Allegra K Description: \\n\\nThe product is a cute, form-fitting dress made of good material, with stretch and give. However, it may be too big for some, and the sizing may not match the size chart. The quality could be improved.\\nNow, we know that the user will DISLIKE the next purchased item - DJT Cowl Neck Button Embellished Ruched Long Sleeve Blouse Top Grey XL\\n        As an expert fashion product recommender, do the following steps -\\n        1. Analyze the user profile, list of products purchased by the user in order and summarize the user behavior by identifying the characteristics he liked and disliked about the products in at most 100 words.\\n        2. Explain with reasoning why the user will DISLIKE the next purchased item - \"DJT Cowl Neck Button Embellished Ruched Long Sleeve Blouse Top Grey XL Description: \\n\\nThe product is a tunic top with unique design and stylish cut, made of good quality material but with a tight fit, small sizes, and uncomfortable button placements.\", in atmost 100 words.', '\\nPrediction: No']\n",
      "['You are an expert fashion product recommender. You are provided with a user\\'s profile and list of recent products and their descriptions that the user purchases and whether the user liked it or disliked it.\\n        User Profile - \\n\\nThe user seems to prefer long-sleeved shirts and knit fabric, as indicated by their purchase of the Allegra K Lady Long Sleeve Letter Pattern Pullover Knit Shirt Black S. They appreciate a good quality fabric and length, but also value comfort and simplicity. The user disliked the product because it was too casual, suggesting they may prefer more formal or stylish clothing. The user\\'s preference for leggings as a pairing item also implies they may enjoy a more fitted or form-fitting style. Overall, the user values comfort, quality, and style, with a preference for long-sleeved knit shirts and fitted styles.\\n        User purchased the following items in the given order. List of recent items and their description -\\n        Disliked Allegra K Ladies Boat Neck Short Dolman Sleeve Cape Style Fashion Top Large / US 14 Khaki Description: \\n\\nThe product is a cute, warm, and versatile sweater that is comfortable and flattering, but may have issues with sizing and quality of material.\\nLiked Allegra K Woman Boat Neck Button Decor Front Batwing Tunic Top XL Dark Blue Brand: Allegra K Description: \\n\\nThe product is a comfortable and flattering pullover with a soft, thick material, suitable for fall/winter. However, it may have an awkward sleeve length and uneven seams, with inconsistent sizing and color.\\nLiked Allegra K Women Sleeveless Sheer Mesh Yoke Mini Skater Dress L Black Brand: Allegra K Description: \\n\\nThe product is a cute, form-fitting dress made of good material, with stretch and give. However, it may be too big for some, and the sizing may not match the size chart. The quality could be improved.\\nDisliked DJT Cowl Neck Button Embellished Ruched Long Sleeve Blouse Top Grey XL Description: \\n\\nThe product is a tunic top with unique design and stylish cut, made of good quality material but with a tight fit, small sizes, and uncomfortable button placements.\\nNow, we know that the user will DISLIKE the next purchased item - DJT Lady Scoop Neck Long Sleeve Stretchy Irregular Hem Casual Top Blouse #1 Black\\n        As an expert fashion product recommender, do the following steps -\\n        1. Analyze the user profile, list of products purchased by the user in order and summarize the user behavior by identifying the characteristics he liked and disliked about the products in at most 100 words.\\n        2. Explain with reasoning why the user will DISLIKE the next purchased item - \"DJT Lady Scoop Neck Long Sleeve Stretchy Irregular Hem Casual Top Blouse #1 Black Description: \\n\\nThe product is a comfortable, stylish tunic that fits well and looks great with leggings. It has a long length, glitter on the front, and elastic around the bottom. However, the hem may be strange and bedazzled, and it may be big or cinched at the\", in atmost 100 words.', '\\nPrediction: No']\n",
      "['You are an expert fashion product recommender. You are provided with a user\\'s profile and list of recent products and their descriptions that the user purchases and whether the user liked it or disliked it.\\n        User Profile - \\n\\nThe user seems to prefer long-sleeved shirts and knit fabric, as indicated by their purchase of the Allegra K Lady Long Sleeve Letter Pattern Pullover Knit Shirt Black S. They appreciate a good quality fabric and length, but also value comfort and simplicity. The user disliked the product because it was too casual, suggesting they may prefer more formal or stylish clothing. The user\\'s preference for leggings as a pairing item also implies they may enjoy a more fitted or form-fitting style. Overall, the user values comfort, quality, and style, with a preference for long-sleeved knit shirts and fitted styles.\\n        User purchased the following items in the given order. List of recent items and their description -\\n        Liked Allegra K Woman Boat Neck Button Decor Front Batwing Tunic Top XL Dark Blue Brand: Allegra K Description: \\n\\nThe product is a comfortable and flattering pullover with a soft, thick material, suitable for fall/winter. However, it may have an awkward sleeve length and uneven seams, with inconsistent sizing and color.\\nLiked Allegra K Women Sleeveless Sheer Mesh Yoke Mini Skater Dress L Black Brand: Allegra K Description: \\n\\nThe product is a cute, form-fitting dress made of good material, with stretch and give. However, it may be too big for some, and the sizing may not match the size chart. The quality could be improved.\\nDisliked DJT Cowl Neck Button Embellished Ruched Long Sleeve Blouse Top Grey XL Description: \\n\\nThe product is a tunic top with unique design and stylish cut, made of good quality material but with a tight fit, small sizes, and uncomfortable button placements.\\nDisliked DJT Lady Scoop Neck Long Sleeve Stretchy Irregular Hem Casual Top Blouse #1 Black Description: \\n\\nThe product is a comfortable, stylish tunic that fits well and looks great with leggings. It has a long length, glitter on the front, and elastic around the bottom. However, the hem may be strange and bedazzled, and it may be big or cinched at the\\nNow, we know that the user will DISLIKE the next purchased item - Susenstone Women Beach Barefoot Sandal Foot Tassel Jewelry Anklet\\n        As an expert fashion product recommender, do the following steps -\\n        1. Analyze the user profile, list of products purchased by the user in order and summarize the user behavior by identifying the characteristics he liked and disliked about the products in at most 100 words.\\n        2. Explain with reasoning why the user will DISLIKE the next purchased item - \"Susenstone Women Beach Barefoot Sandal Foot Tassel Jewelry Anklet Brand: Susenstone610 Price: $6.98 Description: \\n\\nThe product is a cute and beautiful fashion accessory, often loved by customers. However, it may break easily and tangle, requiring fixing or untwisting.\", in atmost 100 words.', '\\nPrediction: No']\n"
     ]
    }
   ],
   "source": [
    "user = '0'\n",
    "print(train_reasoning_prompts[user])\n",
    "print(valid_reasoning_prompts[user])\n",
    "print(test_reasoning_prompts[user])"
   ]
  },
  {
   "cell_type": "code",
   "execution_count": 26,
   "id": "3cd5f401-718d-4c50-902a-fdd530245f63",
   "metadata": {},
   "outputs": [
    {
     "name": "stdout",
     "output_type": "stream",
     "text": [
      "You are an expert fashion product recommender. You are provided with a user's profile and list of recent products and their descriptions that the user purchases and whether the user liked it or disliked it.\n",
      "        User Profile - \n",
      "\n",
      "The user seems to prefer long-sleeved shirts and knit fabric, as indicated by their purchase of the Allegra K Lady Long Sleeve Letter Pattern Pullover Knit Shirt Black S. They appreciate a good quality fabric and length, but also value comfort and simplicity. The user disliked the product because it was too casual, suggesting they may prefer more formal or stylish clothing. The user's preference for leggings as a pairing item also implies they may enjoy a more fitted or form-fitting style. Overall, the user values comfort, quality, and style, with a preference for long-sleeved knit shirts and fitted styles.\n",
      "        User purchased the following items in the given order. List of recent items and their description -\n",
      "        Liked Allegra K Women Boat Neck Batwing Sleeves Pullover Tops Fuchsia M Brand: Allegra K Description: \n",
      "\n",
      "The product is a comfortable, stylish, and soft top, available in a great color. However, it has issues with sizing, fitting thin arms, and not being suitable for leggings.\n",
      "Disliked Allegra K Ladies Boat Neck Short Dolman Sleeve Cape Style Fashion Top Large / US 14 Khaki Description: \n",
      "\n",
      "The product is a cute, warm, and versatile sweater that is comfortable and flattering, but may have issues with sizing and quality of material.\n",
      "Liked Allegra K Woman Boat Neck Button Decor Front Batwing Tunic Top XL Dark Blue Brand: Allegra K Description: \n",
      "\n",
      "The product is a comfortable and flattering pullover with a soft, thick material, suitable for fall/winter. However, it may have an awkward sleeve length and uneven seams, with inconsistent sizing and color.\n",
      "Liked Allegra K Women Sleeveless Sheer Mesh Yoke Mini Skater Dress L Black Brand: Allegra K Description: \n",
      "\n",
      "The product is a cute, form-fitting dress made of good material, with stretch and give. However, it may be too big for some, and the sizing may not match the size chart. The quality could be improved.\n",
      "Now, we know that the user will DISLIKE the next purchased item - DJT Cowl Neck Button Embellished Ruched Long Sleeve Blouse Top Grey XL\n",
      "        As an expert fashion product recommender, do the following steps -\n",
      "        1. Analyze the user profile, list of products purchased by the user in order and summarize the user behavior by identifying the characteristics he liked and disliked about the products in at most 100 words.\n",
      "        2. Explain with reasoning why the user will DISLIKE the next purchased item - \"DJT Cowl Neck Button Embellished Ruched Long Sleeve Blouse Top Grey XL Description: \n",
      "\n",
      "The product is a tunic top with unique design and stylish cut, made of good quality material but with a tight fit, small sizes, and uncomfortable button placements.\", in atmost 100 words.\n",
      "****************************************************************************************************\n",
      "1. The user prefers long-sleeved shirts and knit fabric, values comfort, quality, and style. They liked the comfortable and stylish Allegra K Women Boat Neck Batwing Sleeves Pullover Tops, but disliked the casual Allegra K Lady Long Sleeve Letter Pattern Pullover Knit Shirt for being too casual. They also appreciated the flattering fit and material of the Allegra K Woman Boat Neck Button Decor Front Batwing Tunic Top and the form-fitting style of the Allegra K Women Sleeveless Sheer Mesh Yoke Mini Skater Dress.\n",
      "\n",
      "2. The user will dislike the DJT Cowl Neck Button Embellished Ruched Long Sleeve Blouse Top because it has a tight fit, small sizes, and uncomfortable button placements, which goes against their preference for comfort and quality in clothing.\n"
     ]
    },
    {
     "data": {
      "text/plain": [
       "122"
      ]
     },
     "execution_count": 26,
     "metadata": {},
     "output_type": "execute_result"
    }
   ],
   "source": [
    "user = '0'\n",
    "content = train_reasoning_prompts[user][0]\n",
    "groundtruth = train_reasoning_prompts[user][1]\n",
    "print(content)\n",
    "print('*'*100)\n",
    "response = client.chat.completions.create(\n",
    "  model=\"gpt-3.5-turbo\",\n",
    "  messages=[\n",
    "    {\n",
    "      \"role\": \"user\",\n",
    "      \"content\": content\n",
    "    }\n",
    "  ],\n",
    "  temperature=0,\n",
    "  max_tokens=256,\n",
    "  top_p=0.75\n",
    ")\n",
    "\n",
    "\n",
    "response = response.choices[0].message.content\n",
    "print(response)\n",
    "len(response.split(' '))"
   ]
  },
  {
   "cell_type": "code",
   "execution_count": null,
   "id": "e61476a4-61cf-4354-bac3-b70303b1cf22",
   "metadata": {},
   "outputs": [],
   "source": []
  }
 ],
 "metadata": {
  "kernelspec": {
   "display_name": "Python 3 (ipykernel)",
   "language": "python",
   "name": "python3"
  },
  "language_info": {
   "codemirror_mode": {
    "name": "ipython",
    "version": 3
   },
   "file_extension": ".py",
   "mimetype": "text/x-python",
   "name": "python",
   "nbconvert_exporter": "python",
   "pygments_lexer": "ipython3",
   "version": "3.9.18"
  }
 },
 "nbformat": 4,
 "nbformat_minor": 5
}
