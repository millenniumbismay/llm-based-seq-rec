{
 "cells": [
  {
   "cell_type": "code",
   "execution_count": 1,
   "id": "d030076e-28d9-4c3d-982d-fa6c4a634a96",
   "metadata": {},
   "outputs": [],
   "source": [
    "import pickle\n",
    "import pandas as pd\n",
    "import numpy as np\n",
    "import os\n",
    "import json\n",
    "import time\n",
    "from dotenv import load_dotenv"
   ]
  },
  {
   "cell_type": "code",
   "execution_count": 2,
   "id": "f20d1e2b-d511-4a45-bf2f-91346da269c3",
   "metadata": {},
   "outputs": [],
   "source": [
    "user_train_path = '/home/grads/m/mbismay/llm-based-seq-rec/fashion/fashion_data/processed_data/user_train.json'\n",
    "user_valid_path = '/home/grads/m/mbismay/llm-based-seq-rec/fashion/fashion_data/processed_data/user_valid.json'\n",
    "user_test_path = '/home/grads/m/mbismay/llm-based-seq-rec/fashion/fashion_data/processed_data/user_test.json'"
   ]
  },
  {
   "cell_type": "code",
   "execution_count": 3,
   "id": "28b4aaf2-9db0-4d75-a662-c7fc10dfa194",
   "metadata": {},
   "outputs": [],
   "source": [
    "with open(user_train_path, 'rb') as f:\n",
    "    user_train_dict = json.load(f)\n",
    "with open(user_valid_path, 'rb') as f:\n",
    "    user_valid_dict = json.load(f)\n",
    "with open(user_test_path, 'rb') as f:\n",
    "    user_test_dict = json.load(f)"
   ]
  },
  {
   "cell_type": "code",
   "execution_count": 4,
   "id": "f2a78613-a43b-4d56-b4b0-bf5bbf3288dc",
   "metadata": {},
   "outputs": [
    {
     "name": "stdout",
     "output_type": "stream",
     "text": [
      "[11, 12, 13, 14, 15]\n",
      "[12, 13, 14, 15, 16]\n",
      "[13, 14, 15, 16, 17]\n"
     ]
    }
   ],
   "source": [
    "user_id = '1'\n",
    "print(user_train_dict[user_id])\n",
    "print(user_valid_dict[user_id])\n",
    "print(user_test_dict[user_id])"
   ]
  },
  {
   "cell_type": "code",
   "execution_count": 5,
   "id": "335dd4fc",
   "metadata": {},
   "outputs": [
    {
     "name": "stdout",
     "output_type": "stream",
     "text": [
      "6089\n"
     ]
    }
   ],
   "source": [
    "item_information_path = '/home/grads/m/mbismay/llm-based-seq-rec/fashion/fashion_data/processed_data/processed_item_information.json'\n",
    "with open(item_information_path, 'r') as f:\n",
    "    item_information_dict = json.load(f)\n",
    "print(len(item_information_dict))"
   ]
  },
  {
   "cell_type": "code",
   "execution_count": 6,
   "id": "0fdc4135-2c09-439d-b4e7-40b13f36fa86",
   "metadata": {},
   "outputs": [
    {
     "data": {
      "text/html": [
       "<div>\n",
       "<style scoped>\n",
       "    .dataframe tbody tr th:only-of-type {\n",
       "        vertical-align: middle;\n",
       "    }\n",
       "\n",
       "    .dataframe tbody tr th {\n",
       "        vertical-align: top;\n",
       "    }\n",
       "\n",
       "    .dataframe thead th {\n",
       "        text-align: right;\n",
       "    }\n",
       "</style>\n",
       "<table border=\"1\" class=\"dataframe\">\n",
       "  <thead>\n",
       "    <tr style=\"text-align: right;\">\n",
       "      <th></th>\n",
       "      <th>item</th>\n",
       "      <th>user</th>\n",
       "      <th>rating</th>\n",
       "      <th>timestamp</th>\n",
       "    </tr>\n",
       "  </thead>\n",
       "  <tbody>\n",
       "    <tr>\n",
       "      <th>0</th>\n",
       "      <td>0</td>\n",
       "      <td>0</td>\n",
       "      <td>4.0</td>\n",
       "      <td>1452816000</td>\n",
       "    </tr>\n",
       "    <tr>\n",
       "      <th>1</th>\n",
       "      <td>1</td>\n",
       "      <td>0</td>\n",
       "      <td>4.0</td>\n",
       "      <td>1453766400</td>\n",
       "    </tr>\n",
       "    <tr>\n",
       "      <th>2</th>\n",
       "      <td>2</td>\n",
       "      <td>0</td>\n",
       "      <td>3.0</td>\n",
       "      <td>1453766400</td>\n",
       "    </tr>\n",
       "    <tr>\n",
       "      <th>3</th>\n",
       "      <td>3</td>\n",
       "      <td>0</td>\n",
       "      <td>4.0</td>\n",
       "      <td>1453766400</td>\n",
       "    </tr>\n",
       "    <tr>\n",
       "      <th>4</th>\n",
       "      <td>4</td>\n",
       "      <td>0</td>\n",
       "      <td>4.0</td>\n",
       "      <td>1453766400</td>\n",
       "    </tr>\n",
       "  </tbody>\n",
       "</table>\n",
       "</div>"
      ],
      "text/plain": [
       "   item  user  rating   timestamp\n",
       "0     0     0     4.0  1452816000\n",
       "1     1     0     4.0  1453766400\n",
       "2     2     0     3.0  1453766400\n",
       "3     3     0     4.0  1453766400\n",
       "4     4     0     4.0  1453766400"
      ]
     },
     "execution_count": 6,
     "metadata": {},
     "output_type": "execute_result"
    }
   ],
   "source": [
    "ratings_path = '../fashion_data/processed_data/ratings.csv'\n",
    "ratings_df = pd.read_csv(ratings_path)\n",
    "ratings_df.head()"
   ]
  },
  {
   "cell_type": "code",
   "execution_count": 8,
   "id": "bcb9bf7a-25c2-4161-b3bc-a94d07a60407",
   "metadata": {},
   "outputs": [],
   "source": [
    "reasoning_prompt_train_data = \"./reasoning_dataset/reasoning_prompt_data/reasoning_prompt_train.pkl\"\n",
    "reasoning_prompt_valid_data = \"./reasoning_dataset/reasoning_prompt_data/reasoning_prompt_valid.pkl\"\n",
    "\n",
    "reasoning_train_data = \"./reasoning_dataset/reasoning_data/reasoning_train_dict.pkl\"\n",
    "reasoning_valid_data = \"./reasoning_dataset/reasoning_data/reasoning_valid_dict.pkl\"\n",
    "reasoning_test_data = \"./reasoning_dataset/reasoning_data/reasoning_test_dict.pkl\""
   ]
  },
  {
   "cell_type": "code",
   "execution_count": 9,
   "id": "17bfbacd-caea-4ba2-a4f1-ac84c548877e",
   "metadata": {},
   "outputs": [],
   "source": [
    "with open(reasoning_train_data, 'rb') as f:\n",
    "    reasoning_train = pickle.load(f)\n",
    "with open(reasoning_valid_data, 'rb') as f:\n",
    "    reasoning_valid = pickle.load(f)\n",
    "with open(reasoning_test_data, 'rb') as f:\n",
    "    reasoning_test = pickle.load(f)"
   ]
  },
  {
   "cell_type": "code",
   "execution_count": 10,
   "id": "38765fde-b66e-4426-81f2-7d93b2b2c253",
   "metadata": {},
   "outputs": [
    {
     "name": "stdout",
     "output_type": "stream",
     "text": [
      "\n",
      "        1. The user seems to prefer lightweight, airy clothing that fits well and looks great. They appreciate good deals and are conscious of the weather, as indicated by their preference for clothing suitable for hot, humid weather. They also seem to prefer stylish, well-designed clothing, as indicated by their purchase of a floral tankini swimsuit and a bodycon dress. However, they are conscious of size and fit, as indicated by their comments about clothing running small.\n",
      "        2. Based on the user's past behavior, it is likely that they will like the next item, which is a purple top made of chiffon. The user has shown a preference for lightweight, airy clothing, and chiffon is a light, flowing fabric that is well-suited for hot, humid weather. The top is also described as fitting well for people of average height and weight, which aligns with the user's preference for clothing that fits well. While the user has expressed concerns about sizing in the past, the fact that the top is available in an X-Large size suggests that it may be a good fit for the user. Additionally, the top is described as elegant and stylish, which align\n",
      "Prediction: Yes\n",
      "\n",
      "\n",
      "1. The user seems to prefer lightweight and airy clothing, as indicated by their liking of the FINEJO Women Chiffon Round Neck Sleeveless Maxi Dress. They also appreciate stylish and well-designed products, as seen in their liking of the ANGVNS Women Casual Long Sleeve Slim Fit Party Bodycon Sheath Dress 2017 and the TXZTrade Women's Floral Tankini Swimdress Cover Up Vintage Two-Piece Swimsuit with Swimming trunks. However, they seem to have issues with sizing as they found the TXZTrade swimsuit to be smaller than expected and the C2U Women Pullover Elegant Wave Flouncing Long Sleeve Chiffon Shirt to be too short.\n",
      "2. The user is likely to enjoy the Vilania Women Tankini swimsuit Stripes Lined Up Double Up Two Pieces Bikini Swimwear Set Plus size Bathing Suit With Support And Coverage Black,TXZ9021-Black-L for several reasons. Firstly, it is a two-piece swimsuit\n",
      "Prediction: Yes\n",
      "\n",
      "        1. The user seems to prefer boho chic style as indicated by their liking of the FINEJO Women Chiffon Round Neck Sleeveless Maxi Dress. They also appreciate when products are well-designed and lightweight. However, they dislike products that are not suitable for larger bust sizes and those that run small. They also prefer products that offer support and coverage, as indicated by their liking of the Vilania Women Tankini swimsuit.\n",
      "        2. The user will like the next item, iNewbetter Women Summer Tank Tops Sleeveless Blouse Casual Vest Top T-Shirt M, Multicolor, because it is suitable for casual wear, which the user seems to appreciate based on their past purchases. Additionally, while the material may be cheap and uncomfortable, the user may not consider this a deal-breaker for casual wear. Furthermore, the top is multicolored, which may appeal to the user's preference for unique and colorful prints.\n",
      "Prediction: Yes\n"
     ]
    }
   ],
   "source": [
    "# print(reasoning_prompt_train[user_id])\n",
    "print(reasoning_train[user_id])\n",
    "print(reasoning_valid[user_id])\n",
    "print(reasoning_test[user_id])"
   ]
  },
  {
   "cell_type": "code",
   "execution_count": 11,
   "id": "19bc745f",
   "metadata": {},
   "outputs": [],
   "source": [
    "def get_new_reasoning_text(reasoning):\n",
    "    # print(f\"reasoning: {reasoning}\")\n",
    "    new_reasoning_text = f\"Prediction: {reasoning.split(' ')[-1]} \\n\"\n",
    "    new_reasoning_text += ' '.join(s.strip() for s in reasoning.split(\"\\n\")[:-1])\n",
    "    # print(f\"new_reasoning_text: {new_reasoning_text}\")\n",
    "    return new_reasoning_text"
   ]
  },
  {
   "cell_type": "code",
   "execution_count": 12,
   "id": "ec8cdcc2",
   "metadata": {},
   "outputs": [],
   "source": [
    "def get_item_description(item_information):\n",
    "    item_details = \"\"\n",
    "    if 'title' in item_information:\n",
    "        item_details += item_information['title']\n",
    "    if 'brand' in item_information:\n",
    "        item_details += f\" Brand: {item_information['brand']}\"\n",
    "    if 'price' in item_information:\n",
    "        item_details += f\" Price: {item_information['price']}\"\n",
    "    if 'description' in item_information:\n",
    "        item_details += f\" Description: {item_information['description']}\"\n",
    "    return item_details"
   ]
  },
  {
   "cell_type": "code",
   "execution_count": 12,
   "id": "9d97a7fb",
   "metadata": {},
   "outputs": [
    {
     "name": "stdout",
     "output_type": "stream",
     "text": [
      "Length of final_train_dict: 896 {'instruction': 'You are an expert fashion product recommender. Given the list of recent liked and disliked items and their price, brand, and description, identify whether the user will like or dislike the target item by providing reasoning for the same. Please follow further instruction below. ', 'input': '\\n User purchased the following items recently in given order. List of user behaviour for recent items and their description -Liked Allegra K Women Boat Neck Batwing Sleeves Pullover Tops Fuchsia M Brand: Allegra K Description: \\n\\nThe product is a comfortable, stylish, and soft top, available in a great color. However, it has issues with sizing, fitting thin arms, and not being suitable for leggings.\\nDisliked Allegra K Ladies Boat Neck Short Dolman Sleeve Cape Style Fashion Top Large / US 14 Khaki Description: \\n\\nThe product is a cute, warm, and versatile sweater that is comfortable and flattering, but may have issues with sizing and quality of material.\\nLiked Allegra K Woman Boat Neck Button Decor Front Batwing Tunic Top XL Dark Blue Brand: Allegra K Description: \\n\\nThe product is a comfortable and flattering pullover with a soft, thick material, suitable for fall/winter. However, it may have an awkward sleeve length and uneven seams, with inconsistent sizing and color.\\nLiked Allegra K Women Sleeveless Sheer Mesh Yoke Mini Skater Dress L Black Brand: Allegra K Description: \\n\\nThe product is a cute, form-fitting dress made of good material, with stretch and give. However, it may be too big for some, and the sizing may not match the size chart. The quality could be improved.\\n\\nThe user purchased the next target item - DJT Cowl Neck Button Embellished Ruched Long Sleeve Blouse Top Grey XL Description: \\n\\nThe product is a tunic top with unique design and stylish cut, made of good quality material but with a tight fit, small sizes, and uncomfortable button placements.\\nDo not use any information not mentioned above. As an expert fashion product recommender, do the following steps -\\n    Analyze the provided list of products purchased by the user in order and summarize the user behavior by identifying the characteristics he liked and disliked about the products in at most 100 words.\\n    Explain with reasoning whether the user will like or dislike the target item - DJT Cowl Neck Button Embellished Ruched Long Sleeve Blouse Top Grey XL in atmost 100 words.\\n    Finally, Predict whether the user will like the target item or not in the following format - Prediction: Yes or No', 'output': \"Prediction: No \\n 1. The user seems to prefer comfortable, stylish, and soft clothing, with a preference for pullovers and dresses. They like good color options and versatile pieces that can be worn in different settings. However, they dislike products with sizing issues, inconsistent quality, and poor fit, particularly around the arms and for leggings. They also dislike products with awkward sleeve lengths and uneven seams. 2. The user will dislike the next item because it is a tunic top with unique design and stylish cut, but it is made of good quality material with a tight fit, small sizes, and uncomfortable button placements. This goes against the user's preference for comfortable, soft clothing with good fit and sizing, and they may find the button placements uncomfortable and the sizing too small.\"}\n",
      "Avg Length: 564.2243303571429\n",
      "Max length: 668\n"
     ]
    }
   ],
   "source": [
    "### For Train Data\n",
    "final_train_dict = list()\n",
    "cnt = 0\n",
    "max_total_len = 0\n",
    "avg_total_len = 0\n",
    "for user, reasoning in reasoning_train.items():\n",
    "    # print(f\"User: {user}\")\n",
    "    cnt += 1\n",
    "    user_rating_dict = ratings_df[ratings_df['user'] == int(user)]\n",
    "    # print(user_rating_dict)\n",
    "\n",
    "    temp_dict = dict()\n",
    "    temp_dict[\"instruction\"] = \"You are an expert fashion product recommender. Given the list of recent liked and disliked items and their price, brand, and description, identify whether the user will like or dislike the target item by providing reasoning for the same. Please follow further instruction below. \"\n",
    "    prompt = \"\\n User purchased the following items recently in given order. List of user behaviour for recent items and their description -\"\n",
    "    item_list = user_train_dict[user]\n",
    "    # print(item_list)\n",
    "    for item in item_list[:-1]:\n",
    "        user_item_rating = user_rating_dict[user_rating_dict['item'] == item]['rating'].values[0]\n",
    "        if user_item_rating > 3:\n",
    "            ### Liked\n",
    "            prompt += f\"Liked {get_item_description(item_information_dict[str(item)])}\\n\"\n",
    "        else:\n",
    "            prompt += f\"Disliked {get_item_description(item_information_dict[str(item)])}\\n\"\n",
    "    \n",
    "    target_item = item_list[-1]\n",
    "    target_item_details = get_item_description(item_information_dict[str(target_item)])\n",
    "    target_item_rating = user_rating_dict[user_rating_dict['item'] == target_item]['rating'].values[0]\n",
    "    prompt += f\"\\nThe user purchased the next target item - {target_item_details}\"\n",
    "    \n",
    "    prompt += f\"\"\"\\nDo not use any information not mentioned above. As an expert fashion product recommender, do the following steps -\n",
    "    Analyze the provided list of products purchased by the user in order and summarize the user behavior by identifying the characteristics he liked and disliked about the products in at most 100 words.\n",
    "    Explain with reasoning whether the user will like or dislike the target item - {item_information_dict[str(target_item)]['title']} in atmost 100 words.\n",
    "    Finally, Predict whether the user will like the target item or not in the following format - Prediction: Yes or No\"\"\"\n",
    "    temp_dict[\"input\"] = prompt\n",
    "\n",
    "    temp_dict[\"output\"] = get_new_reasoning_text(reasoning)\n",
    "    final_train_dict.append(temp_dict)\n",
    "    # print(final_train_dict)\n",
    "    total_len = len(temp_dict['instruction'].split()) + len(temp_dict['input'].split()) + len(temp_dict['output'].split())\n",
    "    avg_total_len += total_len\n",
    "    max_total_len = max(max_total_len, total_len)\n",
    "    # break\n",
    "print(\"Length of final_train_dict:\", len(final_train_dict), final_train_dict[0])\n",
    "print(\"Avg Length:\", avg_total_len/len(final_train_dict))\n",
    "print(\"Max length:\", max_total_len)"
   ]
  },
  {
   "cell_type": "code",
   "execution_count": 13,
   "id": "f6df14e5",
   "metadata": {},
   "outputs": [
    {
     "data": {
      "text/plain": [
       "{'instruction': 'You are an expert fashion product recommender. Given the list of recent liked and disliked items and their price, brand, and description, identify whether the user will like or dislike the target item by providing reasoning for the same. Please follow further instruction below. ',\n",
       " 'input': '\\n User purchased the following items recently in given order. List of user behaviour for recent items and their description -Liked Playboy Watch ACES Playing Cards Bunny Logo Stainless Steel Back Ladies Designer Fashion Authentic Official Licensed Brand: Playboy Description: \\nLiked Playboy Watch Pink Swarovski Crystals Bunny Logo Braided Band Stainless Steel Back Ladies Designer Brand: Playboy Description: \\nLiked Playboy Ring Solitaire Swarovski Crystal Bunny Charm Platinum Plated Statement Wide Band Size 7 Description: \\n\\nThe product is a pretty and well-made ring, often complimented by others. However, its platinum color may rub off if it gets wet.\\nLiked Playboy Body Jewelry Belly Ring Curved Barbell Bunny Logo Swarovski Crystal Surgical Steel Licensed Description: \\n\\nProduct Description: The product is a cute, perfect-sized accessory with fast shipping. However, no weak points were mentioned in the review.\\n\\nThe user purchased the next target item - Playboy Y Necklace Swarovski Crystal Bunny Logo Rabbit Head Design Licensed Description: \\n\\nThe product is a sparkly Playboy necklace, with a pretty design and good quality. However, the bunny heads are a bit small and some stones may fall off after prolonged use.\\nDo not use any information not mentioned above. As an expert fashion product recommender, do the following steps -\\n    Analyze the provided list of products purchased by the user in order and summarize the user behavior by identifying the characteristics he liked and disliked about the products in at most 100 words.\\n    Explain with reasoning whether the user will like or dislike the target item - Playboy Y Necklace Swarovski Crystal Bunny Logo Rabbit Head Design Licensed in atmost 100 words.\\n    Finally, Predict whether the user will like the target item or not in the following format - Prediction: Yes or No',\n",
       " 'output': \"Prediction: Yes \\n\\\\ Answer:  1. The user has a clear preference for Playboy-branded products, particularly those adorned with the Bunny logo and embellished with Swarovski crystals. They appreciate the high-quality materials and stylish design of these items. However, they seem to have issues with the durability of platinum plating and the potential for stones to fall off after prolonged use. They also prefer accessories that are perfect-sized and have fast shipping.  2. The user will like the next item, the Playboy Y Necklace Swarovski Crystal Bunny Logo Rabbit Head Design Licensed, because it aligns with their preferred brand and design aesthetic. The Swarovski crystals and Bunny logo meet their taste, and the rabbit head design adds a unique touch. While there are potential durability issues, the user tends to prioritize style and design over long-term wearability. Additionally, the product's description highlights the sparkly and pretty design, which appeals to the user's love for eye-catching accessories.\"}"
      ]
     },
     "execution_count": 13,
     "metadata": {},
     "output_type": "execute_result"
    }
   ],
   "source": [
    "final_train_dict[183]"
   ]
  },
  {
   "cell_type": "code",
   "execution_count": 14,
   "id": "1080cc58",
   "metadata": {},
   "outputs": [
    {
     "name": "stdout",
     "output_type": "stream",
     "text": [
      "671 225 896\n"
     ]
    }
   ],
   "source": [
    "yes_cnt = 0\n",
    "no_cnt = 0\n",
    "for train_data in final_train_dict:\n",
    "    pred = train_data['output'].split(' ')[1]\n",
    "    # print(pred)\n",
    "    if pred == 'Yes':\n",
    "        yes_cnt += 1\n",
    "    elif pred == 'No':\n",
    "        no_cnt += 1\n",
    "    else:\n",
    "        print(pred, '--', train_data['output'])\n",
    "print(yes_cnt, no_cnt, yes_cnt + no_cnt)"
   ]
  },
  {
   "cell_type": "code",
   "execution_count": 15,
   "id": "54a33c95-264b-436d-a2c4-824025cf1453",
   "metadata": {},
   "outputs": [],
   "source": [
    "final_train_path = \"./final_data/fashion/train.json\"\n",
    "with open(final_train_path, 'w') as f:\n",
    "    json.dump(final_train_dict, f)"
   ]
  },
  {
   "cell_type": "code",
   "execution_count": 17,
   "id": "46a2eb92-fd9b-4e53-9372-0ee9d2f8cd70",
   "metadata": {},
   "outputs": [
    {
     "name": "stdout",
     "output_type": "stream",
     "text": [
      "Length of final_train_dict: 896 {'instruction': 'You are an expert fashion product recommender. Given the list of recent liked and disliked items and their price, brand, and description, identify whether the user will like or dislike the target item by providing reasoning for the same. Please follow further instruction below. ', 'input': '\\n User purchased the following items recently in given order. List of user behaviour for recent items and their description -Disliked Allegra K Ladies Boat Neck Short Dolman Sleeve Cape Style Fashion Top Large / US 14 Khaki Description: \\n\\nThe product is a cute, warm, and versatile sweater that is comfortable and flattering, but may have issues with sizing and quality of material.\\nLiked Allegra K Woman Boat Neck Button Decor Front Batwing Tunic Top XL Dark Blue Brand: Allegra K Description: \\n\\nThe product is a comfortable and flattering pullover with a soft, thick material, suitable for fall/winter. However, it may have an awkward sleeve length and uneven seams, with inconsistent sizing and color.\\nLiked Allegra K Women Sleeveless Sheer Mesh Yoke Mini Skater Dress L Black Brand: Allegra K Description: \\n\\nThe product is a cute, form-fitting dress made of good material, with stretch and give. However, it may be too big for some, and the sizing may not match the size chart. The quality could be improved.\\nDisliked DJT Cowl Neck Button Embellished Ruched Long Sleeve Blouse Top Grey XL Description: \\n\\nThe product is a tunic top with unique design and stylish cut, made of good quality material but with a tight fit, small sizes, and uncomfortable button placements.\\n\\nThe user purchased the next target item - DJT Lady Scoop Neck Long Sleeve Stretchy Irregular Hem Casual Top Blouse #1 Black Description: \\n\\nThe product is a comfortable, stylish tunic that fits well and looks great with leggings. It has a long length, glitter on the front, and elastic around the bottom. However, the hem may be strange and bedazzled, and it may be big or cinched at the\\nDo not use any information not mentioned above. As an expert fashion product recommender, do the following steps -\\n    Analyze the provided list of products purchased by the user in order and summarize the user behavior by identifying the characteristics he liked and disliked about the products in at most 100 words.\\n    Explain with reasoning whether the user will like or dislike the target item - DJT Lady Scoop Neck Long Sleeve Stretchy Irregular Hem Casual Top Blouse #1 Black in atmost 100 words.\\n    Finally, Predict whether the user will like the target item or not in the following format - Prediction: Yes or No', 'output': 'Prediction: No \\n 1. The user seems to prefer comfortable and flattering clothing with a soft, thick material, and unique designs. They also seem to appreciate items that are versatile and suitable for fall/winter. However, they dislike products with inconsistent sizing, poor quality of material, and awkward sleeve length. 2. The user is likely to dislike the next item due to its inconsistent sizing, as they have previously expressed dissatisfaction with sizing issues. Additionally, the bedazzled hem may be a turn-off for the user, as they have shown a preference for simple and unique designs rather than overly flashy or embellished items.'}\n",
      "Avg Length: 564.1484375\n",
      "Max length: 669\n"
     ]
    }
   ],
   "source": [
    "### For Valid Data\n",
    "final_valid_dict = list()\n",
    "cnt = 0\n",
    "max_total_len = 0\n",
    "avg_total_len = 0\n",
    "for user, reasoning in reasoning_valid.items():\n",
    "    # print(f\"User: {user}\")\n",
    "    cnt += 1\n",
    "    user_rating_dict = ratings_df[ratings_df['user'] == int(user)]\n",
    "    # print(user_rating_dict)\n",
    "\n",
    "    temp_dict = dict()\n",
    "    temp_dict[\"instruction\"] = \"You are an expert fashion product recommender. Given the list of recent liked and disliked items and their price, brand, and description, identify whether the user will like or dislike the target item by providing reasoning for the same. Please follow further instruction below. \"\n",
    "    prompt = \"\\n User purchased the following items recently in given order. List of user behaviour for recent items and their description -\"\n",
    "    item_list = user_valid_dict[user]\n",
    "    # print(item_list)\n",
    "    for item in item_list[:-1]:\n",
    "        user_item_rating = user_rating_dict[user_rating_dict['item'] == item]['rating'].values[0]\n",
    "        if user_item_rating > 3:\n",
    "            ### Liked\n",
    "            prompt += f\"Liked {get_item_description(item_information_dict[str(item)])}\\n\"\n",
    "        else:\n",
    "            prompt += f\"Disliked {get_item_description(item_information_dict[str(item)])}\\n\"\n",
    "    \n",
    "    target_item = item_list[-1]\n",
    "    target_item_details = get_item_description(item_information_dict[str(target_item)])\n",
    "    target_item_rating = user_rating_dict[user_rating_dict['item'] == target_item]['rating'].values[0]\n",
    "    prompt += f\"\\nThe user purchased the next target item - {target_item_details}\"\n",
    "    \n",
    "    prompt += f\"\"\"\\nDo not use any information not mentioned above. As an expert fashion product recommender, do the following steps -\n",
    "    Analyze the provided list of products purchased by the user in order and summarize the user behavior by identifying the characteristics he liked and disliked about the products in at most 100 words.\n",
    "    Explain with reasoning whether the user will like or dislike the target item - {item_information_dict[str(target_item)]['title']} in atmost 100 words.\n",
    "    Finally, Predict whether the user will like the target item or not in the following format - Prediction: Yes or No\"\"\"\n",
    "    temp_dict[\"input\"] = prompt\n",
    "\n",
    "    temp_dict[\"output\"] = get_new_reasoning_text(reasoning)\n",
    "    final_valid_dict.append(temp_dict)\n",
    "    # print(final_train_dict)\n",
    "    total_len = len(temp_dict['instruction'].split()) + len(temp_dict['input'].split()) + len(temp_dict['output'].split())\n",
    "    avg_total_len += total_len\n",
    "    max_total_len = max(max_total_len, total_len)\n",
    "    # break\n",
    "print(\"Length of final_train_dict:\", len(final_valid_dict), final_valid_dict[0])\n",
    "print(\"Avg Length:\", avg_total_len/len(final_valid_dict))\n",
    "print(\"Max length:\", max_total_len)"
   ]
  },
  {
   "cell_type": "code",
   "execution_count": 18,
   "id": "a18fc4c7",
   "metadata": {},
   "outputs": [
    {
     "name": "stdout",
     "output_type": "stream",
     "text": [
      "664 232 896\n"
     ]
    }
   ],
   "source": [
    "yes_cnt = 0\n",
    "no_cnt = 0\n",
    "for valid_data in final_valid_dict:\n",
    "    pred = valid_data['output'].split(' ')[1]\n",
    "    # print(pred)\n",
    "    if pred == 'Yes':\n",
    "        yes_cnt += 1\n",
    "    elif pred == 'No':\n",
    "        no_cnt += 1\n",
    "    else:\n",
    "        print(pred, '--', train_data['output'])\n",
    "print(yes_cnt, no_cnt, yes_cnt + no_cnt)"
   ]
  },
  {
   "cell_type": "code",
   "execution_count": 20,
   "id": "ba238ccf",
   "metadata": {},
   "outputs": [],
   "source": [
    "final_valid_path = \"./final_data/fashion/valid.json\"\n",
    "with open(final_valid_path, 'w') as f:\n",
    "    json.dump(final_valid_dict, f)"
   ]
  },
  {
   "cell_type": "code",
   "execution_count": 21,
   "id": "7c084f06",
   "metadata": {},
   "outputs": [
    {
     "name": "stdout",
     "output_type": "stream",
     "text": [
      "{'instruction': 'You are an expert fashion product recommender. Given the list of recent liked and disliked items and their price, brand, and description, identify whether the user will like or dislike the target item by providing reasoning for the same. Please follow further instruction below. ', 'input': '\\n User purchased the following items recently in given order. List of user behaviour for recent items and their description -Liked Tagoo Tribal Vintage Round Turquoise Pendant Dangle Earrings(Sea Blue) Description: \\n\\nProduct Description: This product is a fashionable, high-quality, and stylish choice for bridal parties, as it looks gorgeous and makes the wearer feel confident.\\nLiked Guess Factory Women\\'s Pepper Leggings Brand: GUESS Description: \\n\\nProduct Description: These leggings are great for curves, comfortable, soft, and keep legs warm, delivered quickly and beautifully wrapped. No negative features were mentioned in the reviews.\\nLiked Waltz-Length Lounger Brand: AmeriMark Description: \\n\\nThe product is a comfortable and roomy lounger, made of soft polyester material. It fits well, is easy to wash, and is available in large sizes. However, some customers may find the material unattractive and the color options limited.\\nLiked Mudder 5 Sizes 925 Silver Plated Snake Chain Necklace, 10 Pieces Description: \\n\\nThe product is a set of two 16\" necklaces, made of thick, continuous and coiled metal, which are great for the money but may turn color and have rust issues.\\n\\nThe user purchased the next target item - Muchmore Women\\'s Pearl Beads Made White Polki Jhumki Earring Description: \\n\\nProduct Description:\\n\\nThese earrings are beautiful, elegant, classy, visually interesting, lightweight, and well-made, but may not always stay in the middle, have rough spots on the earring post, and may not be fully beaded.\\nDo not use any information not mentioned above. As an expert fashion product recommender, do the following steps -\\n    Analyze the provided list of products purchased by the user in order and summarize the user behavior by identifying the characteristics he liked and disliked about the products in at most 100 words.\\n    Explain with reasoning whether the user will like or dislike the target item - Muchmore Women\\'s Pearl Beads Made White Polki Jhumki Earring in atmost 100 words.\\n    Finally, Predict whether the user will like the target item or not in the following format - Prediction: Yes or No', 'output': \"Prediction: No \\n 1. The user appears to value high-quality, stylish, and comfortable fashion items. They appreciate products that are delivered quickly and beautifully wrapped. They seem to prefer practical items that serve a purpose, such as leggings that keep legs warm, or jewelry that is lightweight and elegant. They may be less concerned with the visual appeal of the packaging or the color options available. 2. The user is likely to dislike the next item, Muchmore Women's Pearl Beads Made White Polki Jhumki Earring, because it may not stay in the middle, have rough spots on the earring post, and may not be fully beaded. These issues suggest that the earrings may not be as well-made or as comfortable as the user prefers. The user has shown a preference for high-quality, stylish, and comfortable fashion items, and these earrings may not meet those standards.\"}\n",
      "{'instruction': 'You are an expert fashion product recommender. Given the list of recent liked and disliked items and their price, brand, and description, identify whether the user will like or dislike the target item by providing reasoning for the same. Please follow further instruction below. ', 'input': '\\n User purchased the following items recently in given order. List of user behaviour for recent items and their description -Liked Guess Factory Women\\'s Pepper Leggings Brand: GUESS Description: \\n\\nProduct Description: These leggings are great for curves, comfortable, soft, and keep legs warm, delivered quickly and beautifully wrapped. No negative features were mentioned in the reviews.\\nLiked Waltz-Length Lounger Brand: AmeriMark Description: \\n\\nThe product is a comfortable and roomy lounger, made of soft polyester material. It fits well, is easy to wash, and is available in large sizes. However, some customers may find the material unattractive and the color options limited.\\nLiked Mudder 5 Sizes 925 Silver Plated Snake Chain Necklace, 10 Pieces Description: \\n\\nThe product is a set of two 16\" necklaces, made of thick, continuous and coiled metal, which are great for the money but may turn color and have rust issues.\\nDisliked Muchmore Women\\'s Pearl Beads Made White Polki Jhumki Earring Description: \\n\\nProduct Description:\\n\\nThese earrings are beautiful, elegant, classy, visually interesting, lightweight, and well-made, but may not always stay in the middle, have rough spots on the earring post, and may not be fully beaded.\\n\\nThe user purchased the next target item - EleQueen Women\\'s Silver-tone Pave Full Cubic Zirconia Art Deco Bridal Dangle Earrings Clear Description: \\n\\nProduct Description:\\n\"The product is a beautiful, three-piece long earring that swings, making it fun to wear. However, it may not be a solid piece as expected.\"\\nDo not use any information not mentioned above. As an expert fashion product recommender, do the following steps -\\n    Analyze the provided list of products purchased by the user in order and summarize the user behavior by identifying the characteristics he liked and disliked about the products in at most 100 words.\\n    Explain with reasoning whether the user will like or dislike the target item - EleQueen Women\\'s Silver-tone Pave Full Cubic Zirconia Art Deco Bridal Dangle Earrings Clear in atmost 100 words.\\n    Finally, Predict whether the user will like the target item or not in the following format - Prediction: Yes or No', 'output': \"Prediction: Yes \\n 1. The user appears to prioritize comfort, style, and quality in their purchases. They appreciate products that are well-made, visually interesting, and fit well. They also seem to prefer items that are easy to maintain and deliver quickly. However, they may be particular about the materials used in the products, as they disliked the earrings with rough spots on the earring post. 2. Based on the user's past purchases, it is likely that they will like the next item - EleQueen Women's Silver-tone Pave Full Cubic Zirconia Art Deco Bridal Dangle Earrings Clear. The earrings are visually interesting, with a unique art deco design that is both elegant and classy. They are made of silver-tone metal, which is a high-quality material that is both durable and attractive. Additionally, the earrings are lightweight and well-made, which aligns with the user's preference for comfortable and easy-to-wear products. While the product description notes that the earrings may not be a solid piece as expected, this is unlikely to be a major issue for the user, as they prioritize comfort and style over other\"}\n"
     ]
    }
   ],
   "source": [
    "user = 121\n",
    "print(final_train_dict[user])\n",
    "print(final_valid_dict[user])"
   ]
  },
  {
   "cell_type": "code",
   "execution_count": null,
   "id": "300f72af",
   "metadata": {},
   "outputs": [],
   "source": []
  },
  {
   "cell_type": "code",
   "execution_count": 13,
   "id": "dcdd0037",
   "metadata": {},
   "outputs": [
    {
     "name": "stdout",
     "output_type": "stream",
     "text": [
      "Length of final_train_dict: 896 {'instruction': 'You are an expert fashion product recommender. Given the list of recent liked and disliked items and their price, brand, and description, identify whether the user will like or dislike the target item by providing reasoning for the same. Please follow further instruction below. ', 'input': '\\n User purchased the following items recently in given order. List of user behaviour for recent items and their description -Liked Allegra K Woman Boat Neck Button Decor Front Batwing Tunic Top XL Dark Blue Brand: Allegra K Description: \\n\\nThe product is a comfortable and flattering pullover with a soft, thick material, suitable for fall/winter. However, it may have an awkward sleeve length and uneven seams, with inconsistent sizing and color.\\nLiked Allegra K Women Sleeveless Sheer Mesh Yoke Mini Skater Dress L Black Brand: Allegra K Description: \\n\\nThe product is a cute, form-fitting dress made of good material, with stretch and give. However, it may be too big for some, and the sizing may not match the size chart. The quality could be improved.\\nDisliked DJT Cowl Neck Button Embellished Ruched Long Sleeve Blouse Top Grey XL Description: \\n\\nThe product is a tunic top with unique design and stylish cut, made of good quality material but with a tight fit, small sizes, and uncomfortable button placements.\\nDisliked DJT Lady Scoop Neck Long Sleeve Stretchy Irregular Hem Casual Top Blouse #1 Black Description: \\n\\nThe product is a comfortable, stylish tunic that fits well and looks great with leggings. It has a long length, glitter on the front, and elastic around the bottom. However, the hem may be strange and bedazzled, and it may be big or cinched at the\\n\\nThe user purchased the next target item - Susenstone Women Beach Barefoot Sandal Foot Tassel Jewelry Anklet Brand: Susenstone610 Price: $6.98 Description: \\n\\nThe product is a cute and beautiful fashion accessory, often loved by customers. However, it may break easily and tangle, requiring fixing or untwisting.\\nDo not use any information not mentioned above. As an expert fashion product recommender, do the following steps -\\n    Analyze the provided list of products purchased by the user in order and summarize the user behavior by identifying the characteristics he liked and disliked about the products in at most 100 words.\\n    Explain with reasoning whether the user will like or dislike the target item - Susenstone Women Beach Barefoot Sandal Foot Tassel Jewelry Anklet in atmost 100 words.\\n    Finally, Predict whether the user will like the target item or not in the following format - Prediction: Yes or No', 'output': \"Prediction: No \\n 1. The user seems to prefer comfortable and flattering clothing with a soft, thick material, suitable for fall/winter. They like form-fitting dresses and tunic tops with unique designs and stylish cuts. However, they dislike products with awkward sleeve length, uneven seams, inconsistent sizing and color, tight fit, small sizes, uncomfortable button placements, and low-quality materials. 2. The user dislikes products with low-quality materials and poor craftsmanship. The Susenstone Women Beach Barefoot Sandal Foot Tassel Jewelry Anklet is a fashion accessory that may break easily and tangle, requiring fixing or untwisting. This characteristic aligns with the user's dislikes, and they are likely to dislike this product due to its low-quality materials and poor craftsmanship.\"}\n",
      "Avg Length: 563.953125\n",
      "Max length: 668\n"
     ]
    }
   ],
   "source": [
    "### For Test Data\n",
    "final_test_dict = list()\n",
    "cnt = 0\n",
    "max_total_len = 0\n",
    "avg_total_len = 0\n",
    "for user, reasoning in reasoning_test.items():\n",
    "    # print(f\"User: {user}\")\n",
    "    cnt += 1\n",
    "    user_rating_dict = ratings_df[ratings_df['user'] == int(user)]\n",
    "    # print(user_rating_dict)\n",
    "\n",
    "    temp_dict = dict()\n",
    "    temp_dict[\"instruction\"] = \"You are an expert fashion product recommender. Given the list of recent liked and disliked items and their price, brand, and description, identify whether the user will like or dislike the target item by providing reasoning for the same. Please follow further instruction below. \"\n",
    "    prompt = \"\\n User purchased the following items recently in given order. List of user behaviour for recent items and their description -\"\n",
    "    item_list = user_test_dict[user]\n",
    "    # print(item_list)\n",
    "    for item in item_list[:-1]:\n",
    "        user_item_rating = user_rating_dict[user_rating_dict['item'] == item]['rating'].values[0]\n",
    "        if user_item_rating > 3:\n",
    "            ### Liked\n",
    "            prompt += f\"Liked {get_item_description(item_information_dict[str(item)])}\\n\"\n",
    "        else:\n",
    "            prompt += f\"Disliked {get_item_description(item_information_dict[str(item)])}\\n\"\n",
    "    \n",
    "    target_item = item_list[-1]\n",
    "    target_item_details = get_item_description(item_information_dict[str(target_item)])\n",
    "    target_item_rating = user_rating_dict[user_rating_dict['item'] == target_item]['rating'].values[0]\n",
    "    prompt += f\"\\nThe user purchased the next target item - {target_item_details}\"\n",
    "    \n",
    "    prompt += f\"\"\"\\nDo not use any information not mentioned above. As an expert fashion product recommender, do the following steps -\n",
    "    Analyze the provided list of products purchased by the user in order and summarize the user behavior by identifying the characteristics he liked and disliked about the products in at most 100 words.\n",
    "    Explain with reasoning whether the user will like or dislike the target item - {item_information_dict[str(target_item)]['title']} in atmost 100 words.\n",
    "    Finally, Predict whether the user will like the target item or not in the following format - Prediction: Yes or No\"\"\"\n",
    "    temp_dict[\"input\"] = prompt\n",
    "\n",
    "    temp_dict[\"output\"] = get_new_reasoning_text(reasoning)\n",
    "    final_test_dict.append(temp_dict)\n",
    "    # print(final_train_dict)\n",
    "    total_len = len(temp_dict['instruction'].split()) + len(temp_dict['input'].split()) + len(temp_dict['output'].split())\n",
    "    avg_total_len += total_len\n",
    "    max_total_len = max(max_total_len, total_len)\n",
    "    # break\n",
    "print(\"Length of final_train_dict:\", len(final_test_dict), final_test_dict[0])\n",
    "print(\"Avg Length:\", avg_total_len/len(final_test_dict))\n",
    "print(\"Max length:\", max_total_len)"
   ]
  },
  {
   "cell_type": "code",
   "execution_count": 14,
   "id": "fcc6e6e0",
   "metadata": {},
   "outputs": [
    {
     "name": "stdout",
     "output_type": "stream",
     "text": [
      "669 227 896\n"
     ]
    }
   ],
   "source": [
    "yes_cnt = 0\n",
    "no_cnt = 0\n",
    "for test_data in final_test_dict:\n",
    "    pred = test_data['output'].split(' ')[1]\n",
    "    # print(pred)\n",
    "    if pred == 'Yes':\n",
    "        yes_cnt += 1\n",
    "    elif pred == 'No':\n",
    "        no_cnt += 1\n",
    "    else:\n",
    "        print(pred, '--', test_data['output'])\n",
    "print(yes_cnt, no_cnt, yes_cnt + no_cnt)"
   ]
  },
  {
   "cell_type": "code",
   "execution_count": 18,
   "id": "3da223fd",
   "metadata": {},
   "outputs": [
    {
     "name": "stdout",
     "output_type": "stream",
     "text": [
      "{'instruction': 'You are an expert fashion product recommender. Given the list of recent liked and disliked items and their price, brand, and description, identify whether the user will like or dislike the target item by providing reasoning for the same. Please follow further instruction below. ', 'input': '\\n User purchased the following items recently in given order. List of user behaviour for recent items and their description -Liked Waltz-Length Lounger Brand: AmeriMark Description: \\n\\nThe product is a comfortable and roomy lounger, made of soft polyester material. It fits well, is easy to wash, and is available in large sizes. However, some customers may find the material unattractive and the color options limited.\\nLiked Mudder 5 Sizes 925 Silver Plated Snake Chain Necklace, 10 Pieces Description: \\n\\nThe product is a set of two 16\" necklaces, made of thick, continuous and coiled metal, which are great for the money but may turn color and have rust issues.\\nDisliked Muchmore Women\\'s Pearl Beads Made White Polki Jhumki Earring Description: \\n\\nProduct Description:\\n\\nThese earrings are beautiful, elegant, classy, visually interesting, lightweight, and well-made, but may not always stay in the middle, have rough spots on the earring post, and may not be fully beaded.\\nLiked EleQueen Women\\'s Silver-tone Pave Full Cubic Zirconia Art Deco Bridal Dangle Earrings Clear Description: \\n\\nProduct Description:\\n\"The product is a beautiful, three-piece long earring that swings, making it fun to wear. However, it may not be a solid piece as expected.\"\\n\\nThe user purchased the next target item - MOQUEEN Women\\'s Slim Fit Floral Bodycon Tunic Dress2161(Blue XL) Brand: MOQUEEN Description: \\n\\nThe product is a midweight pull-on shift dress made of 65% polyester and 35% cotton with some stretch. It has bright colors and a vibrant look, but it is shorter than expected and cuts small.\\nDo not use any information not mentioned above. As an expert fashion product recommender, do the following steps -\\n    Analyze the provided list of products purchased by the user in order and summarize the user behavior by identifying the characteristics he liked and disliked about the products in at most 100 words.\\n    Explain with reasoning whether the user will like or dislike the target item - MOQUEEN Women\\'s Slim Fit Floral Bodycon Tunic Dress2161(Blue XL) in atmost 100 words.\\n    Finally, Predict whether the user will like the target item or not in the following format - Prediction: Yes or No', 'output': \"Prediction: Yes \\n  1. The user seems to prefer products that are comfortable, well-made, and visually interesting. They like items that are easy to wash and come in larger sizes. However, they dislike products that have limited color options and may have issues with the material's appearance. They also seem to appreciate value for money, as seen in their purchase of the necklace set. 2. The user will like the next item, MOQUEEN Women's Slim Fit Floral Bodycon Tunic Dress2161(Blue XL), because it is visually interesting with bright colors and a vibrant look. The dress is also made of a comfortable and easy-to-wash material, which aligns with the user's preferences. Although the dress is shorter than expected and cuts small, the user tends to prefer comfort and functionality over style, so this may not be a significant issue for them.\"}\n"
     ]
    }
   ],
   "source": [
    "user = 121\n",
    "# print(final_train_dict[user])\n",
    "# print(final_valid_dict[user])\n",
    "print(final_test_dict[user])"
   ]
  },
  {
   "cell_type": "code",
   "execution_count": 19,
   "id": "6595df0c",
   "metadata": {},
   "outputs": [],
   "source": [
    "final_test_path = \"./final_data/fashion/test.json\"\n",
    "with open(final_test_path, 'w') as f:\n",
    "    json.dump(final_test_dict, f)"
   ]
  },
  {
   "cell_type": "code",
   "execution_count": null,
   "id": "9cb4670a",
   "metadata": {},
   "outputs": [],
   "source": []
  }
 ],
 "metadata": {
  "kernelspec": {
   "display_name": "Python 3 (ipykernel)",
   "language": "python",
   "name": "python3"
  },
  "language_info": {
   "codemirror_mode": {
    "name": "ipython",
    "version": 3
   },
   "file_extension": ".py",
   "mimetype": "text/x-python",
   "name": "python",
   "nbconvert_exporter": "python",
   "pygments_lexer": "ipython3",
   "version": "3.9.18"
  }
 },
 "nbformat": 4,
 "nbformat_minor": 5
}
