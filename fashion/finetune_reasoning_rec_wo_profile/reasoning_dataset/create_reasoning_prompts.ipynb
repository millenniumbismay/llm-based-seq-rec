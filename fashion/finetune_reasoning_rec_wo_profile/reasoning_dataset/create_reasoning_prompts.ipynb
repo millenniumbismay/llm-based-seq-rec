{
 "cells": [
  {
   "cell_type": "code",
   "execution_count": 1,
   "id": "1afd5484-961f-4997-9178-6c0f2e46e085",
   "metadata": {},
   "outputs": [],
   "source": [
    "import pickle\n",
    "import pandas as pd\n",
    "import numpy as np\n",
    "import os\n",
    "import time\n",
    "import json\n",
    "from dotenv import load_dotenv"
   ]
  },
  {
   "cell_type": "code",
   "execution_count": 2,
   "id": "95487d68-9053-49c4-8381-5aa26e09035f",
   "metadata": {},
   "outputs": [],
   "source": [
    "from openai import OpenAI\n",
    "load_dotenv()\n",
    "client = OpenAI(\n",
    "    # This is the default and can be omitted\n",
    "    api_key=os.environ.get(\"OPENAI_API_KEY\"),\n",
    ")"
   ]
  },
  {
   "cell_type": "code",
   "execution_count": 3,
   "id": "f804c243-3647-4d2c-a97e-3383a22b3035",
   "metadata": {},
   "outputs": [],
   "source": [
    "user_train_path = '/home/grads/m/mbismay/llm-based-seq-rec/fashion/fashion_data/processed_data/user_train.json'\n",
    "user_valid_path = '/home/grads/m/mbismay/llm-based-seq-rec/fashion/fashion_data/processed_data/user_valid.json'\n",
    "user_test_path = '/home/grads/m/mbismay/llm-based-seq-rec/fashion/fashion_data/processed_data/user_test.json'"
   ]
  },
  {
   "cell_type": "code",
   "execution_count": 4,
   "id": "ec86d569-b862-4999-bba3-78b44ccfe0c3",
   "metadata": {},
   "outputs": [],
   "source": [
    "with open(user_train_path, 'rb') as f:\n",
    "    user_train_dict = json.load(f)\n",
    "with open(user_valid_path, 'rb') as f:\n",
    "    user_valid_dict = json.load(f)\n",
    "with open(user_test_path, 'rb') as f:\n",
    "    user_test_dict = json.load(f)"
   ]
  },
  {
   "cell_type": "code",
   "execution_count": 5,
   "id": "ee17dbc5-601c-48c8-8e44-c2d1838740d0",
   "metadata": {},
   "outputs": [
    {
     "name": "stdout",
     "output_type": "stream",
     "text": [
      "[11, 12, 13, 14, 15]\n",
      "[12, 13, 14, 15, 16]\n",
      "[13, 14, 15, 16, 17]\n"
     ]
    }
   ],
   "source": [
    "user_id = '1'\n",
    "print(user_train_dict[user_id])\n",
    "print(user_valid_dict[user_id])\n",
    "print(user_test_dict[user_id])"
   ]
  },
  {
   "cell_type": "code",
   "execution_count": 6,
   "id": "859eac23-3551-4a84-a025-b9de11ef5eec",
   "metadata": {},
   "outputs": [
    {
     "name": "stdout",
     "output_type": "stream",
     "text": [
      "6089\n"
     ]
    }
   ],
   "source": [
    "item_information_path = '/home/grads/m/mbismay/llm-based-seq-rec/fashion/fashion_data/processed_data/processed_item_information.json'\n",
    "with open(item_information_path, 'r') as f:\n",
    "    item_information_dict = json.load(f)\n",
    "print(len(item_information_dict))"
   ]
  },
  {
   "cell_type": "code",
   "execution_count": 7,
   "id": "84a42d22-43f2-4378-8266-f0862eb9e08c",
   "metadata": {},
   "outputs": [
    {
     "data": {
      "text/html": [
       "<div>\n",
       "<style scoped>\n",
       "    .dataframe tbody tr th:only-of-type {\n",
       "        vertical-align: middle;\n",
       "    }\n",
       "\n",
       "    .dataframe tbody tr th {\n",
       "        vertical-align: top;\n",
       "    }\n",
       "\n",
       "    .dataframe thead th {\n",
       "        text-align: right;\n",
       "    }\n",
       "</style>\n",
       "<table border=\"1\" class=\"dataframe\">\n",
       "  <thead>\n",
       "    <tr style=\"text-align: right;\">\n",
       "      <th></th>\n",
       "      <th>item</th>\n",
       "      <th>user</th>\n",
       "      <th>rating</th>\n",
       "      <th>timestamp</th>\n",
       "    </tr>\n",
       "  </thead>\n",
       "  <tbody>\n",
       "    <tr>\n",
       "      <th>0</th>\n",
       "      <td>0</td>\n",
       "      <td>0</td>\n",
       "      <td>4.0</td>\n",
       "      <td>1452816000</td>\n",
       "    </tr>\n",
       "    <tr>\n",
       "      <th>1</th>\n",
       "      <td>1</td>\n",
       "      <td>0</td>\n",
       "      <td>4.0</td>\n",
       "      <td>1453766400</td>\n",
       "    </tr>\n",
       "    <tr>\n",
       "      <th>2</th>\n",
       "      <td>2</td>\n",
       "      <td>0</td>\n",
       "      <td>3.0</td>\n",
       "      <td>1453766400</td>\n",
       "    </tr>\n",
       "    <tr>\n",
       "      <th>3</th>\n",
       "      <td>3</td>\n",
       "      <td>0</td>\n",
       "      <td>4.0</td>\n",
       "      <td>1453766400</td>\n",
       "    </tr>\n",
       "    <tr>\n",
       "      <th>4</th>\n",
       "      <td>4</td>\n",
       "      <td>0</td>\n",
       "      <td>4.0</td>\n",
       "      <td>1453766400</td>\n",
       "    </tr>\n",
       "  </tbody>\n",
       "</table>\n",
       "</div>"
      ],
      "text/plain": [
       "   item  user  rating   timestamp\n",
       "0     0     0     4.0  1452816000\n",
       "1     1     0     4.0  1453766400\n",
       "2     2     0     3.0  1453766400\n",
       "3     3     0     4.0  1453766400\n",
       "4     4     0     4.0  1453766400"
      ]
     },
     "execution_count": 7,
     "metadata": {},
     "output_type": "execute_result"
    }
   ],
   "source": [
    "ratings_path = '../../fashion_data/processed_data/ratings.csv'\n",
    "ratings_df = pd.read_csv(ratings_path)\n",
    "ratings_df.head()"
   ]
  },
  {
   "cell_type": "code",
   "execution_count": 8,
   "id": "4ec683ad-0276-4bbe-9ede-75f00dd72826",
   "metadata": {},
   "outputs": [],
   "source": [
    "def get_item_description(item_information):\n",
    "    item_details = \"\"\n",
    "    if 'title' in item_information:\n",
    "        item_details += item_information['title']\n",
    "    if 'brand' in item_information:\n",
    "        item_details += f\" Brand: {item_information['brand']}\"\n",
    "    if 'price' in item_information:\n",
    "        item_details += f\" Price: {item_information['price']}\"\n",
    "    if 'description' in item_information:\n",
    "        item_details += f\" Description: {item_information['description']}\"\n",
    "    return item_details"
   ]
  },
  {
   "cell_type": "code",
   "execution_count": 17,
   "id": "58121d83-5664-4f41-888b-9f3d3368c8b4",
   "metadata": {},
   "outputs": [],
   "source": [
    "### Train Data Reaosning\n",
    "train_reasoning_prompts = dict()\n",
    "check_missed_items = []\n",
    "for user, item_list in user_train_dict.items():\n",
    "    # print(user, item_list)\n",
    "    user_rating_dict = ratings_df[ratings_df['user'] == int(user)]\n",
    "    # print(user_rating_dict)\n",
    "    prompt = \"You are an expert fashion product recommender. You are provided with a user's list of recent products and their descriptions that the user purchases and whether the user liked it or disliked it. Please go through the list in order -\\n\"\n",
    "    for item in item_list[:-1]:\n",
    "        user_item_rating = user_rating_dict[user_rating_dict['item'] == item]['rating'].values[0]\n",
    "        if user_item_rating > 3:\n",
    "            ### Liked\n",
    "            prompt += f\"Liked {get_item_description(item_information_dict[str(item)])}\\n\"\n",
    "        else:\n",
    "            prompt += f\"Disliked {get_item_description(item_information_dict[str(item)])}\\n\"\n",
    "    target_item = item_list[-1]\n",
    "    target_item_details = get_item_description(item_information_dict[str(target_item)])\n",
    "    target_item_rating = user_rating_dict[user_rating_dict['item'] == target_item]['rating'].values[0]\n",
    "    # print(f\"target_item_details: {target_item_details} - {target_item_rating}\")\n",
    "\n",
    "    if target_item_rating > 3:\n",
    "        prompt += f\"\"\"Now, we know that the user will LIKE the next item - {target_item_details}\n",
    "        As an expert fashion product recommender, do the following steps -\n",
    "        1. Analyze the provided list of products purchased by the user in order and summarize the user behavior by identifying the characteristics he liked and disliked about the products in at most 100 words.\n",
    "        2. Explain with reasoning why the user will like the next item - {item_information_dict[str(target_item)]['title']} in atmost 100 words.\"\"\"\n",
    "        recommendation = \"\\nPrediction: Yes\"\n",
    "    else:\n",
    "        prompt += f\"\"\"Now, we know that the user will DISLIKE the next item - {target_item_details}\n",
    "        As an expert fashion product recommender, do the following steps -\n",
    "        1. Analyze the provided list of products purchased by the user in order and summarize the user behavior by identifying the characteristics he liked and disliked about the products in at most 100 words.\n",
    "        2. Explain with reasoning why the user will dislike the next item - {item_information_dict[str(target_item)]['title']} in atmost 100 words.\"\"\"\n",
    "        recommendation = \"\\nPrediction: No\"\n",
    "    # print(f\"Prompt: {prompt}\")\n",
    "    train_reasoning_prompts[user] = [prompt, recommendation]\n",
    "    # break\n",
    "# print(train_reasoning_prompts)"
   ]
  },
  {
   "cell_type": "code",
   "execution_count": 18,
   "id": "da09db09-405e-4356-83c2-588f5e888034",
   "metadata": {},
   "outputs": [
    {
     "name": "stdout",
     "output_type": "stream",
     "text": [
      "1368.9662215239591\n"
     ]
    }
   ],
   "source": [
    "total_len = 0\n",
    "all_prompt_lens = []\n",
    "for user, prompt in train_reasoning_prompts.items():\n",
    "    all_prompt_lens.append(len(prompt[0].strip().split(' ')))\n",
    "    total_len += len(prompt[0].strip().split(' '))\n",
    "print(total_len/len(train_reasoning_prompts))"
   ]
  },
  {
   "cell_type": "code",
   "execution_count": 19,
   "id": "cf00b869-7dda-407d-a280-35dd4619ebdd",
   "metadata": {
    "scrolled": true
   },
   "outputs": [
    {
     "data": {
      "text/plain": [
       "(array([  3.,   1.,   3.,   2.,   3.,   7.,   8.,   9.,  31.,  52.,  81.,\n",
       "         96., 149., 138., 149.,  95.,  53.,  19.,  13.,   5.,   1.,   0.,\n",
       "          0.,   0.,   0.,   0.,   0.,   0.,   0.,   0.,   0.,   0.,   0.,\n",
       "          0.,   0.,   0.,   0.,   0.,   0.,   0.,   0.,   0.,   0.,   0.,\n",
       "          0.,   0.,   0.,   0.,   0.,   0.,   0.,   0.,   0.,   0.,   0.,\n",
       "          0.,   0.,   0.,   0.,   0.,   0.,   0.,   0.,   0.,   0.,   0.,\n",
       "          0.,   0.,   0.,   0.,   0.,   0.,   0.,   0.,   0.,   0.,   0.,\n",
       "          0.,   0.,   0.,   0.,   0.,   0.,   0.,   0.,   0.,   0.,   0.,\n",
       "          0.,   0.,   0.,   0.,   0.,   0.,   0.,   0.,   0.,   0.,   0.,\n",
       "          0.,   0.,   0.,   0.,   0.,   0.,   0.,   0.,   0.,   0.,   0.,\n",
       "          0.,   0.,   0.,   0.,   0.,   0.,   0.,   0.,   0.,   0.,   0.,\n",
       "          0.,   0.,   0.,   0.,   0.,   0.,   0.,   0.,   0.,   0.,   0.,\n",
       "          0.,   0.,   0.,   0.,   0.,   0.,   0.,   0.,   0.,   0.,   0.,\n",
       "          0.,   0.,   0.,   0.,   0.,   0.,   0.,   0.,   0.,   0.,   0.,\n",
       "          0.,   0.,   0.,   0.,   0.,   0.,   0.,   0.,   0.,   0.,   0.,\n",
       "          0.,   0.,   0.,   0.,   0.,   0.,   0.,   0.,   0.,   0.,   0.,\n",
       "          0.,   0.,   0.,   0.,   0.,   0.,   0.,   0.,   0.,   0.,   0.,\n",
       "          0.,   0.,   0.,   0.,   0.,   0.,   0.,   0.,   0.,   0.,   0.,\n",
       "          0.,   0.,   0.,   0.,   0.,   0.,   0.,   0.,   0.,   0.,   0.,\n",
       "          0.,   0.,   0.,   0.,   0.,   0.,   0.,   0.,   0.,   0.,   0.,\n",
       "          0.,   0.,   0.,   0.,   0.,   0.,   0.,   0.,   0.,   0.,   0.,\n",
       "          0.,   0.,   0.,   0.,   0.,   0.,   0.,   0.,   0.,   0.,   0.,\n",
       "          0.,   0.,   0.,   0.,   0.,   0.,   0.,   0.,   0.,   0.,   0.,\n",
       "          0.,   0.,   0.,   0.,   0.,   0.,   0.,   0.,   0.,   0.,   0.,\n",
       "          0.,   0.,   0.,   0.,   0.,   0.,   0.,   0.,   0.,   0.,   0.,\n",
       "          0.,   0.,   0.,   0.,   0.,   0.,   0.,   0.,   0.,   0.,   0.,\n",
       "          0.,   0.,   0.,   0.,   0.,   0.,   0.,   0.,   0.,   0.,   0.,\n",
       "          0.,   0.,   0.,   0.,   0.,   0.,   0.,   0.,   0.,   0.,   0.,\n",
       "          0.,   0.,   0.,   0.,   0.,   0.,   0.,   0.,   0.,   0.,   0.,\n",
       "          0.,   0.,   0.,   0.,   0.,   0.,   0.,   0.,   0.,   3., 326.,\n",
       "         23.,   0.,   1.,   0.,   0.,   0.,   0.,   0.,   0.,   0.,   0.,\n",
       "          0.,   0.,   0.,   0.,   0.,   0.,   0.,   0.,   0.,   0.,   0.,\n",
       "          0.,   0.,   0.,   0.,   0.,   0.,   0.,   0.,   0.,   0.,   0.,\n",
       "          0.,   0.,   0.,   0.,   0.,   0.,   0.,   0.,   0.,   0.,   0.,\n",
       "          0.,   0.,   0.,   0.,   0.,   0.,   0.,   0.,   0.,   0.,   0.,\n",
       "          0.,   0.,   0.,   0.,   0.,   0.,   0.,   0.,   0.,   0.,   0.,\n",
       "          0.,   0.,   0.,   0.,   0.,   0.,   0.,   0.,   0.,   0.,   0.,\n",
       "          0.,   0.,   0.,   0.,   0.,   0.,   0.,   0.,   0.,   0.,   0.,\n",
       "          0.,   0.,   0.,   0.,   0.,   0.,   0.,   0.,   0.,   0.,   0.,\n",
       "          0.,   0.,   0.,   0.,   0.,   0.,   0.,   0.,   0.,   0.,   0.,\n",
       "          0.,   0.,   0.,   0.,   0.,   0.,   0.,   0.,   0.,   0.,   0.,\n",
       "          0.,   0.,   0.,   0.,   0.,   0.,   0.,   0.,   0.,   0.,   0.,\n",
       "          0.,   0.,   0.,   0.,   0.,   0.,   0.,   0.,   0.,   0.,   0.,\n",
       "          0.,   0.,   0.,   0.,   0.,   0.,   0.,   0.,   0.,   0.,   0.,\n",
       "          0.,   0.,   0.,   0.,   0.,   0.,   0.,   0.,   0.,   0.,   0.,\n",
       "          0.,   0.,   0.,   0.,   0.,   0.,   0.,   0.,   0.,   0.,   0.,\n",
       "          0.,   0.,   0.,   0.,   0.,   0.,   0.,   0.,   0.,   0.,   0.,\n",
       "          0.,   0.,   0.,   0.,   0.,   0.,   0.,   0.,   0.,   0.,   0.,\n",
       "          0.,   0.,   0.,   0.,   0.,   0.,   0.,   0.,   0.,   0.,   0.,\n",
       "          0.,   0.,   0.,   0.,   0.,   0.,   0.,   0.,   0.,   0.,   0.,\n",
       "          0.,   0.,   0.,   0.,   0.,   0.,   0.,   0.,   0.,   0.,   0.,\n",
       "          0.,   0.,   0.,   0.,   0.,   0.,   0.,   0.,   0.,   0.,   0.,\n",
       "          0.,   0.,   0.,   0.,   0.,   0.,   0.,   0.,   0.,   0.,   0.,\n",
       "          0.,   0.,   0.,   0.,   0.,   0.,   0.,   0.,   0.,   0.,   0.,\n",
       "          0.,   0.,   0.,   0.,   0.,   0.,   0.,   0.,   0.,   0.,   0.,\n",
       "          0.,   0.,   0.,   0.,   0.,   0.,   0.,   0.,   0.,   0.,   0.,\n",
       "          0.,   0.,   0.,   0.,   0.,   0.,   0.,   0.,   0.,   0.,   0.,\n",
       "          0.,   0.,   0.,   0.,   0.,   0.,   0.,   0.,   0.,   0.,   0.,\n",
       "          0.,   0.,   0.,   0.,   0.,   0.,   0.,   0.,   0.,   1.,   0.,\n",
       "          0.,   0.,   0.,   0.,   0.,   0.,   0.,   0.,   0.,   0.,   0.,\n",
       "          0.,   0.,   0.,   0.,   0.,   0.,   0.,   0.,   0.,   0.,   0.,\n",
       "          0.,   0.,   0.,   0.,   0.,   0.,   0.,   0.,   0.,   0.,   0.,\n",
       "          0.,   0.,   0.,   0.,   0.,   0.,   0.,   0.,   0.,   0.,   0.,\n",
       "          0.,   0.,   0.,   0.,   0.,   0.,   0.,   0.,   0.,   0.,   0.,\n",
       "          0.,   0.,   0.,   0.,   0.,   0.,   0.,   0.,   0.,   0.,   0.,\n",
       "          0.,   0.,   0.,   0.,   0.,   0.,   0.,   0.,   0.,   0.,   0.,\n",
       "          0.,   0.,   0.,   0.,   0.,   0.,   0.,   0.,   0.,   0.,   0.,\n",
       "          0.,   0.,   0.,   0.,   0.,   0.,   0.,   0.,   0.,   0.,   0.,\n",
       "          0.,   0.,   0.,   0.,   0.,   0.,   0.,   0.,   0.,   0.,   0.,\n",
       "          0.,   0.,   0.,   0.,   0.,   0.,   0.,   0.,   0.,   0.,   0.,\n",
       "          0.,   0.,   0.,   0.,   0.,   0.,   0.,   0.,   0.,   0.,   0.,\n",
       "          0.,   0.,   0.,   0.,   0.,   0.,   0.,   0.,   0.,   0.,   0.,\n",
       "          0.,   0.,   0.,   0.,   0.,   0.,   0.,   0.,   0.,   0.,   0.,\n",
       "          0.,   0.,   0.,   0.,   0.,   0.,   0.,   0.,   0.,   0.,   0.,\n",
       "          0.,   0.,   0.,   0.,   0.,   0.,   0.,   0.,   0.,   0.,   0.,\n",
       "          0.,   0.,   0.,   0.,   0.,   0.,   0.,   0.,   0.,   0.,   0.,\n",
       "          0.,   0.,   0.,   0.,   0.,   0.,   0.,   0.,   0.,   0.,   0.,\n",
       "          0.,   0.,   0.,   0.,   0.,   0.,   0.,   0.,   0.,   0.,   0.,\n",
       "          0.,   0.,   0.,   0.,   0.,   0.,   0.,   0.,   0.,   0.,   0.,\n",
       "          0.,   0.,   0.,   0.,   0.,   0.,   0.,   0.,   0.,   0.,   0.,\n",
       "          0.,   0.,   0.,   0.,   0.,   0.,   0.,   0.,   0.,   0.,   0.,\n",
       "          0.,   0.,   0.,   0.,   0.,   0.,   0.,   0.,   0.,   0.,   0.,\n",
       "          0.,   0.,   0.,   0.,   0.,   0.,   0.,   0.,   0.,   0.,   0.,\n",
       "          0.,   0.,   0.,   0.,   0.,   0.,   0.,   0.,   0.,   0.,   0.,\n",
       "          0.,   0.,   0.,   0.,   0.,   0.,   0.,   0.,   0.,   0.,   0.,\n",
       "          0.,   0.,   0.,   0.,   0.,   0.,   0.,   0.,   0.,   0.,   0.,\n",
       "          0.,   0.,   0.,   0.,   0.,   0.,   0.,   0.,   0.,   0.,   0.,\n",
       "          0.,   0.,   0.,   0.,   0.,   0.,   0.,   0.,   0.,   0.,   0.,\n",
       "          0.,   0.,   0.,   0.,   0.,   0.,   0.,   0.,   0.,   0.,   0.,\n",
       "          0.,   0.,   0.,   0.,   0.,   0.,   0.,   0.,   0.,   0.,   0.,\n",
       "          0.,   0.,   0.,   0.,   0.,   0.,   0.,   0.,   0.,   1.]),\n",
       " array([  249.  ,   259.98,   270.96, ..., 11207.04, 11218.02, 11229.  ]),\n",
       " <BarContainer object of 1000 artists>)"
      ]
     },
     "execution_count": 19,
     "metadata": {},
     "output_type": "execute_result"
    },
    {
     "data": {
      "image/png": "[encoded data removed]",
      "text/plain": [
       "<Figure size 640x480 with 1 Axes>"
      ]
     },
     "metadata": {},
     "output_type": "display_data"
    }
   ],
   "source": [
    "import matplotlib.pyplot as plt\n",
    "\n",
    "plt.hist(all_prompt_lens, bins=1000, edgecolor='black')"
   ]
  },
  {
   "cell_type": "code",
   "execution_count": 38,
   "id": "85c554f8-7b12-4901-b93b-70713337c9da",
   "metadata": {},
   "outputs": [
    {
     "name": "stdout",
     "output_type": "stream",
     "text": [
      "1273\n"
     ]
    }
   ],
   "source": [
    "### Valid Data Reaosning\n",
    "valid_reasoning_prompts = dict()\n",
    "check_missed_items = []\n",
    "for user, item_list in user_valid_dict.items():\n",
    "    # print(user, item_list)\n",
    "    user_rating_dict = ratings_df[ratings_df['user'] == int(user)]\n",
    "    # print(user_rating_dict)\n",
    "    prompt = \"You are an expert fashion product recommender. You are provided with a user's list of recent products and their descriptions that the user purchases and whether the user liked it or disliked it. Please go through the list in order -\\n\"\n",
    "    for item in item_list[:-1]:\n",
    "        user_item_rating = user_rating_dict[user_rating_dict['item'] == item]['rating'].values[0]\n",
    "        if user_item_rating > 3:\n",
    "            ### Liked\n",
    "            prompt += f\"Liked {get_item_description(item_information_dict[str(item)])}\\n\"\n",
    "        else:\n",
    "            prompt += f\"Disliked {get_item_description(item_information_dict[str(item)])}\\n\"\n",
    "    target_item = item_list[-1]\n",
    "    target_item_details = get_item_description(item_information_dict[str(target_item)])\n",
    "    target_item_rating = user_rating_dict[user_rating_dict['item'] == target_item]['rating'].values[0]\n",
    "    # print(f\"target_item_details: {target_item_details} - {target_item_rating}\")\n",
    "\n",
    "    if target_item_rating > 3:\n",
    "        prompt += f\"\"\"Now, we know that the user will LIKE the next item - {target_item_details}\n",
    "        As an expert fashion product recommender, do the following steps -\n",
    "        1. Analyze the provided list of products purchased by the user in order and summarize the user behavior by identifying the characteristics he liked and disliked about the products in at most 100 words.\n",
    "        2. Explain with reasoning why the user will like the next item - {item_information_dict[str(target_item)]['title']} in atmost 100 words.\"\"\"\n",
    "        recommendation = \"\\nPrediction: Yes\"\n",
    "    else:\n",
    "        prompt += f\"\"\"Now, we know that the user will DISLIKE the next item - {target_item_details}\n",
    "        As an expert fashion product recommender, do the following steps -\n",
    "        1. Analyze the provided list of products purchased by the user in order and summarize the user behavior by identifying the characteristics he liked and disliked about the products in at most 100 words.\n",
    "        2. Explain with reasoning why the user will dislike the next item - {item_information_dict[str(target_item)]['title']} in atmost 100 words.\"\"\"\n",
    "        recommendation = \"\\nPrediction: No\"\n",
    "    # print(f\"Prompt: {prompt}\")\n",
    "    valid_reasoning_prompts[user] = [prompt, recommendation]\n",
    "    # break\n",
    "print(len(valid_reasoning_prompts))"
   ]
  },
  {
   "cell_type": "code",
   "execution_count": 39,
   "id": "d80811b3-83cd-427c-b3f1-1c94fb165d5c",
   "metadata": {},
   "outputs": [
    {
     "name": "stdout",
     "output_type": "stream",
     "text": [
      "1326.2450903377849\n"
     ]
    }
   ],
   "source": [
    "total_len = 0\n",
    "all_prompt_lens = []\n",
    "for user, prompt in valid_reasoning_prompts.items():\n",
    "    all_prompt_lens.append(len(prompt[0].strip().split(' ')))\n",
    "    total_len += len(prompt[0].strip().split(' '))\n",
    "print(total_len/len(valid_reasoning_prompts))"
   ]
  },
  {
   "cell_type": "code",
   "execution_count": 40,
   "id": "5d35e073-3561-456a-bf63-e4ac24258fda",
   "metadata": {
    "scrolled": true
   },
   "outputs": [
    {
     "data": {
      "text/plain": [
       "(array([  3.,   4.,   1.,   2.,   2.,   4.,   8.,  16.,  35.,  42.,  82.,\n",
       "        102., 133., 147., 142., 105.,  64.,  25.,  12.,   4.,   1.,   0.,\n",
       "          0.,   0.,   0.,   0.,   0.,   0.,   0.,   0.,   0.,   0.,   0.,\n",
       "          0.,   0.,   0.,   0.,   0.,   0.,   0.,   0.,   0.,   0.,   0.,\n",
       "          0.,   0.,   0.,   0.,   0.,   0.,   0.,   0.,   0.,   0.,   0.,\n",
       "          0.,   0.,   0.,   0.,   0.,   0.,   0.,   0.,   0.,   0.,   0.,\n",
       "          0.,   0.,   0.,   0.,   0.,   0.,   0.,   0.,   0.,   0.,   0.,\n",
       "          0.,   0.,   0.,   0.,   0.,   0.,   0.,   0.,   0.,   0.,   0.,\n",
       "          0.,   0.,   0.,   0.,   0.,   0.,   0.,   0.,   0.,   0.,   0.,\n",
       "          0.,   0.,   0.,   0.,   0.,   0.,   0.,   0.,   0.,   0.,   0.,\n",
       "          0.,   0.,   0.,   0.,   0.,   0.,   0.,   0.,   0.,   0.,   0.,\n",
       "          0.,   0.,   0.,   0.,   0.,   0.,   0.,   0.,   0.,   0.,   0.,\n",
       "          0.,   0.,   0.,   0.,   0.,   0.,   0.,   0.,   0.,   0.,   0.,\n",
       "          0.,   0.,   0.,   0.,   0.,   0.,   0.,   0.,   0.,   0.,   0.,\n",
       "          0.,   0.,   0.,   0.,   0.,   0.,   0.,   0.,   0.,   0.,   0.,\n",
       "          0.,   0.,   0.,   0.,   0.,   0.,   0.,   0.,   0.,   0.,   0.,\n",
       "          0.,   0.,   0.,   0.,   0.,   0.,   0.,   0.,   0.,   0.,   0.,\n",
       "          0.,   0.,   0.,   0.,   0.,   0.,   0.,   0.,   0.,   0.,   0.,\n",
       "          0.,   0.,   0.,   0.,   0.,   0.,   0.,   0.,   0.,   0.,   0.,\n",
       "          0.,   0.,   0.,   0.,   0.,   0.,   0.,   0.,   0.,   0.,   0.,\n",
       "          0.,   0.,   0.,   0.,   0.,   0.,   0.,   0.,   0.,   0.,   0.,\n",
       "          0.,   0.,   0.,   0.,   0.,   0.,   0.,   0.,   0.,   0.,   0.,\n",
       "          0.,   0.,   0.,   0.,   0.,   0.,   0.,   0.,   0.,   0.,   0.,\n",
       "          0.,   0.,   0.,   0.,   0.,   0.,   0.,   0.,   0.,   0.,   0.,\n",
       "          0.,   0.,   0.,   0.,   0.,   0.,   0.,   0.,   0.,   0.,   0.,\n",
       "          0.,   0.,   0.,   0.,   0.,   0.,   0.,   0.,   0.,   0.,   0.,\n",
       "          0.,   0.,   0.,   0.,   0.,   0.,   0.,   0.,   0.,   0.,   0.,\n",
       "          0.,   0.,   0.,   0.,   0.,   0.,   0.,   0.,   0.,   0.,   0.,\n",
       "          0.,   0.,   0.,   0.,   0.,   0.,   0.,   0.,   0.,   0.,   0.,\n",
       "          0.,   0.,   0.,   0.,   0.,   0.,   0.,   0.,   0.,   2.,   0.,\n",
       "          2., 329.,   0.,   1.,   0.,   0.,   0.,   0.,   0.,   0.,   0.,\n",
       "          0.,   0.,   0.,   0.,   0.,   0.,   0.,   0.,   0.,   0.,   0.,\n",
       "          0.,   0.,   0.,   0.,   0.,   0.,   0.,   0.,   0.,   0.,   0.,\n",
       "          0.,   0.,   0.,   0.,   0.,   0.,   0.,   0.,   0.,   0.,   0.,\n",
       "          0.,   0.,   0.,   0.,   0.,   0.,   0.,   0.,   0.,   0.,   0.,\n",
       "          0.,   0.,   0.,   0.,   0.,   0.,   0.,   0.,   0.,   0.,   0.,\n",
       "          0.,   0.,   0.,   0.,   0.,   0.,   0.,   0.,   0.,   0.,   0.,\n",
       "          0.,   0.,   0.,   0.,   0.,   0.,   0.,   0.,   0.,   0.,   0.,\n",
       "          0.,   0.,   0.,   0.,   0.,   0.,   0.,   0.,   0.,   0.,   0.,\n",
       "          0.,   0.,   0.,   0.,   0.,   0.,   0.,   0.,   0.,   0.,   0.,\n",
       "          0.,   0.,   0.,   0.,   0.,   0.,   0.,   0.,   0.,   0.,   0.,\n",
       "          0.,   0.,   0.,   0.,   0.,   0.,   0.,   0.,   0.,   0.,   0.,\n",
       "          0.,   0.,   0.,   0.,   0.,   0.,   0.,   0.,   0.,   0.,   0.,\n",
       "          0.,   0.,   0.,   0.,   0.,   0.,   0.,   0.,   0.,   0.,   0.,\n",
       "          0.,   0.,   0.,   0.,   0.,   0.,   0.,   0.,   0.,   0.,   0.,\n",
       "          0.,   0.,   0.,   0.,   0.,   0.,   0.,   0.,   0.,   0.,   0.,\n",
       "          0.,   0.,   0.,   0.,   0.,   0.,   0.,   0.,   0.,   0.,   0.,\n",
       "          0.,   0.,   0.,   0.,   0.,   0.,   0.,   0.,   0.,   0.,   0.,\n",
       "          0.,   0.,   0.,   0.,   0.,   0.,   0.,   0.,   0.,   0.,   0.,\n",
       "          0.,   0.,   0.,   0.,   0.,   0.,   0.,   0.,   0.,   0.,   0.,\n",
       "          0.,   0.,   0.,   0.,   0.,   0.,   0.,   0.,   0.,   0.,   0.,\n",
       "          0.,   0.,   0.,   0.,   0.,   0.,   0.,   0.,   0.,   0.,   0.,\n",
       "          0.,   0.,   0.,   0.,   0.,   0.,   0.,   0.,   0.,   0.,   0.,\n",
       "          0.,   0.,   0.,   0.,   0.,   0.,   0.,   0.,   0.,   0.,   0.,\n",
       "          0.,   0.,   0.,   0.,   0.,   0.,   0.,   0.,   0.,   0.,   0.,\n",
       "          0.,   0.,   0.,   0.,   0.,   0.,   0.,   0.,   0.,   0.,   0.,\n",
       "          0.,   0.,   0.,   0.,   0.,   0.,   0.,   0.,   0.,   0.,   0.,\n",
       "          0.,   0.,   0.,   0.,   0.,   0.,   0.,   0.,   0.,   0.,   0.,\n",
       "          0.,   0.,   0.,   0.,   0.,   0.,   0.,   0.,   0.,   0.,   1.,\n",
       "          2.,   0.,   0.,   1.,   0.,   0.,   0.,   0.,   0.,   0.,   0.,\n",
       "          0.,   0.,   0.,   0.,   0.,   0.,   0.,   0.,   0.,   0.,   0.,\n",
       "          0.,   0.,   0.,   0.,   0.,   0.,   0.,   0.,   0.,   0.,   0.,\n",
       "          0.,   0.,   0.,   0.,   0.,   0.,   0.,   0.,   0.,   0.,   0.,\n",
       "          0.,   0.,   0.,   0.,   0.,   0.,   0.,   0.,   0.,   0.,   0.,\n",
       "          0.,   0.,   0.,   0.,   0.,   0.,   0.,   0.,   0.,   0.,   0.,\n",
       "          0.,   0.,   0.,   0.,   0.,   0.,   0.,   0.,   0.,   0.,   0.,\n",
       "          0.,   0.,   0.,   0.,   0.,   0.,   0.,   0.,   0.,   0.,   0.,\n",
       "          0.,   0.,   0.,   0.,   0.,   0.,   0.,   0.,   0.,   0.,   0.,\n",
       "          0.,   0.,   0.,   0.,   0.,   0.,   0.,   0.,   0.,   0.,   0.,\n",
       "          0.,   0.,   0.,   0.,   0.,   0.,   0.,   0.,   0.,   0.,   0.,\n",
       "          0.,   0.,   0.,   0.,   0.,   0.,   0.,   0.,   0.,   0.,   0.,\n",
       "          0.,   0.,   0.,   0.,   0.,   0.,   0.,   0.,   0.,   0.,   0.,\n",
       "          0.,   0.,   0.,   0.,   0.,   0.,   0.,   0.,   0.,   0.,   0.,\n",
       "          0.,   0.,   0.,   0.,   0.,   0.,   0.,   0.,   0.,   0.,   0.,\n",
       "          0.,   0.,   0.,   0.,   0.,   0.,   0.,   0.,   0.,   0.,   0.,\n",
       "          0.,   0.,   0.,   0.,   0.,   0.,   0.,   0.,   0.,   0.,   0.,\n",
       "          0.,   0.,   0.,   0.,   0.,   0.,   0.,   0.,   0.,   0.,   0.,\n",
       "          0.,   0.,   0.,   0.,   0.,   0.,   0.,   0.,   0.,   0.,   0.,\n",
       "          0.,   0.,   0.,   0.,   0.,   0.,   0.,   0.,   0.,   0.,   0.,\n",
       "          0.,   0.,   0.,   0.,   0.,   0.,   0.,   0.,   0.,   0.,   0.,\n",
       "          0.,   0.,   0.,   0.,   0.,   0.,   0.,   0.,   0.,   0.,   0.,\n",
       "          0.,   0.,   0.,   0.,   0.,   0.,   0.,   0.,   0.,   0.,   0.,\n",
       "          0.,   0.,   0.,   0.,   0.,   0.,   0.,   0.,   0.,   0.,   0.,\n",
       "          0.,   0.,   0.,   0.,   0.,   0.,   0.,   0.,   0.,   0.,   0.,\n",
       "          0.,   0.,   0.,   0.,   0.,   0.,   0.,   0.,   0.,   0.,   0.,\n",
       "          0.,   0.,   0.,   0.,   0.,   0.,   0.,   0.,   0.,   0.,   0.,\n",
       "          0.,   0.,   0.,   0.,   0.,   0.,   0.,   0.,   0.,   0.,   0.,\n",
       "          0.,   0.,   0.,   0.,   0.,   0.,   0.,   0.,   0.,   0.,   0.,\n",
       "          0.,   0.,   0.,   0.,   0.,   0.,   0.,   0.,   0.,   0.,   0.,\n",
       "          0.,   0.,   0.,   0.,   0.,   0.,   0.,   0.,   0.,   0.,   0.,\n",
       "          0.,   0.,   0.,   0.,   0.,   0.,   0.,   0.,   0.,   1.]),\n",
       " array([  239.   ,   249.953,   260.906, ..., 11170.094, 11181.047,\n",
       "        11192.   ]),\n",
       " <BarContainer object of 1000 artists>)"
      ]
     },
     "execution_count": 40,
     "metadata": {},
     "output_type": "execute_result"
    },
    {
     "data": {
      "image/png": "[encoded data removed]",
      "text/plain": [
       "<Figure size 640x480 with 1 Axes>"
      ]
     },
     "metadata": {},
     "output_type": "display_data"
    }
   ],
   "source": [
    "import matplotlib.pyplot as plt\n",
    "\n",
    "plt.hist(all_prompt_lens, bins=1000, edgecolor='black')"
   ]
  },
  {
   "cell_type": "code",
   "execution_count": 41,
   "id": "ffd619b7-f8d8-446d-b507-ef472bf36a9d",
   "metadata": {},
   "outputs": [
    {
     "name": "stdout",
     "output_type": "stream",
     "text": [
      "1273\n"
     ]
    }
   ],
   "source": [
    "### Test Data Reaosning\n",
    "test_reasoning_prompts = dict()\n",
    "check_missed_items = []\n",
    "for user, item_list in user_test_dict.items():\n",
    "    # print(user, item_list)\n",
    "    user_rating_dict = ratings_df[ratings_df['user'] == int(user)]\n",
    "    # print(user_rating_dict)\n",
    "    prompt = \"You are an expert fashion product recommender. You are provided with a user's list of recent products and their descriptions that the user purchases and whether the user liked it or disliked it. Please go through the list in order -\\n\"\n",
    "    for item in item_list[:-1]:\n",
    "        user_item_rating = user_rating_dict[user_rating_dict['item'] == item]['rating'].values[0]\n",
    "        if user_item_rating > 3:\n",
    "            ### Liked\n",
    "            prompt += f\"Liked {get_item_description(item_information_dict[str(item)])}\\n\"\n",
    "        else:\n",
    "            prompt += f\"Disliked {get_item_description(item_information_dict[str(item)])}\\n\"\n",
    "    target_item = item_list[-1]\n",
    "    target_item_details = get_item_description(item_information_dict[str(target_item)])\n",
    "    target_item_rating = user_rating_dict[user_rating_dict['item'] == target_item]['rating'].values[0]\n",
    "    # print(f\"target_item_details: {target_item_details} - {target_item_rating}\")\n",
    "\n",
    "    if target_item_rating > 3:\n",
    "        prompt += f\"\"\"Now, we know that the user will LIKE the next item - {target_item_details}\n",
    "        As an expert fashion product recommender, do the following steps -\n",
    "        1. Analyze the provided list of products purchased by the user in order and summarize the user behavior by identifying the characteristics he liked and disliked about the products in at most 100 words.\n",
    "        2. Explain with reasoning why the user will like the next item - {item_information_dict[str(target_item)]['title']} in atmost 100 words.\"\"\"\n",
    "        recommendation = \"\\nPrediction: Yes\"\n",
    "    else:\n",
    "        prompt += f\"\"\"Now, we know that the user will DISLIKE the next item - {target_item_details}\n",
    "        As an expert fashion product recommender, do the following steps -\n",
    "        1. Analyze the provided list of products purchased by the user in order and summarize the user behavior by identifying the characteristics he liked and disliked about the products in at most 100 words.\n",
    "        2. Explain with reasoning why the user will dislike the next item - {item_information_dict[str(target_item)]['title']} in atmost 100 words.\"\"\"\n",
    "        recommendation = \"\\nPrediction: No\"\n",
    "    # print(f\"Prompt: {prompt}\")\n",
    "    test_reasoning_prompts[user] = [prompt, recommendation]\n",
    "    # break\n",
    "print(len(test_reasoning_prompts))"
   ]
  },
  {
   "cell_type": "code",
   "execution_count": 42,
   "id": "f542917a-6452-4da7-b0fe-0f02dc99b562",
   "metadata": {},
   "outputs": [
    {
     "name": "stdout",
     "output_type": "stream",
     "text": [
      "457.17753338570304\n"
     ]
    }
   ],
   "source": [
    "total_len = 0\n",
    "all_prompt_lens = []\n",
    "for user, prompt in test_reasoning_prompts.items():\n",
    "    all_prompt_lens.append(len(prompt[0].strip().split(' ')))\n",
    "    total_len += len(prompt[0].strip().split(' '))\n",
    "print(total_len/len(test_reasoning_prompts))"
   ]
  },
  {
   "cell_type": "code",
   "execution_count": 43,
   "id": "b6814948-c8d7-4a3b-95a1-555d0177efe0",
   "metadata": {
    "scrolled": true
   },
   "outputs": [
    {
     "data": {
      "text/plain": [
       "(array([  1.,   1.,   0.,   2.,   7.,   0.,   4.,   4.,   2.,  11.,  10.,\n",
       "         24.,  26.,  22.,  57.,  52.,  80.,  83.,  74.,  96.,  93., 400.,\n",
       "         77.,  56.,  34.,  19.,   7.,   6.,   3.,   2.,   0.,   0.,   0.,\n",
       "          0.,   0.,   0.,   0.,   0.,   0.,   1.,   0.,   0.,   0.,   0.,\n",
       "          0.,   0.,   0.,   0.,   0.,   0.,   0.,   0.,   0.,   0.,   0.,\n",
       "          0.,   0.,   0.,   0.,   0.,   0.,   0.,   0.,   0.,   0.,   0.,\n",
       "          0.,   0.,   0.,   0.,   0.,   0.,   0.,   0.,   0.,   0.,   0.,\n",
       "          0.,   0.,   0.,   0.,   0.,   0.,   0.,   0.,   0.,   0.,   0.,\n",
       "          0.,   0.,   0.,   0.,   0.,   0.,   0.,   0.,   0.,   0.,   0.,\n",
       "          0.,   0.,   0.,   0.,   0.,   0.,   0.,   0.,   0.,   0.,   0.,\n",
       "          0.,   0.,   0.,   0.,   0.,   0.,   0.,   0.,   0.,   0.,   0.,\n",
       "          0.,   0.,   0.,   0.,   0.,   0.,   0.,   0.,   0.,   0.,   0.,\n",
       "          0.,   0.,   0.,   0.,   0.,   0.,   0.,   0.,   0.,   0.,   0.,\n",
       "          0.,   0.,   0.,   0.,   0.,   0.,   0.,   0.,   0.,   0.,   0.,\n",
       "          0.,   0.,   0.,   0.,   0.,   0.,   0.,   0.,   0.,   0.,   0.,\n",
       "          0.,   0.,   0.,   0.,   0.,   0.,   0.,   0.,   0.,   0.,   0.,\n",
       "          0.,   0.,   0.,   0.,   0.,   0.,   0.,   0.,   0.,   0.,   0.,\n",
       "          0.,   0.,   0.,   0.,   0.,   0.,   0.,   0.,   0.,   0.,   0.,\n",
       "          0.,   0.,   0.,   0.,   0.,   0.,   0.,   0.,   0.,   0.,   0.,\n",
       "          0.,   0.,   0.,   0.,   0.,   0.,   0.,   0.,   0.,   0.,   0.,\n",
       "          0.,   0.,   0.,   0.,   0.,   0.,   0.,   0.,   0.,   0.,   0.,\n",
       "          0.,   0.,   0.,   0.,   0.,   0.,   0.,   0.,   0.,   0.,   0.,\n",
       "          0.,   0.,   0.,   0.,   0.,   0.,   0.,   0.,   0.,   0.,   0.,\n",
       "          0.,   0.,   0.,   0.,   0.,   0.,   0.,   0.,   0.,   0.,   0.,\n",
       "          0.,   0.,   0.,   0.,   0.,   0.,   0.,   0.,   0.,   0.,   0.,\n",
       "          0.,   0.,   0.,   0.,   0.,   0.,   0.,   0.,   0.,   0.,   0.,\n",
       "          0.,   0.,   0.,   0.,   0.,   0.,   0.,   0.,   0.,   0.,   0.,\n",
       "          0.,   0.,   0.,   0.,   0.,   0.,   0.,   0.,   0.,   0.,   0.,\n",
       "          0.,   0.,   0.,   0.,   0.,   0.,   0.,   0.,   0.,   0.,   0.,\n",
       "          0.,   0.,   0.,   0.,   0.,   0.,   0.,   0.,   0.,   0.,   0.,\n",
       "          0.,   0.,   0.,   0.,   0.,   0.,   0.,   0.,   0.,   0.,   0.,\n",
       "          0.,   0.,   0.,   0.,   0.,   0.,   0.,   0.,   0.,   0.,   0.,\n",
       "          0.,   0.,   0.,   0.,   0.,   0.,   0.,   0.,   0.,   0.,   0.,\n",
       "          0.,   0.,   0.,   0.,   0.,   0.,   0.,   0.,   0.,   0.,   0.,\n",
       "          0.,   0.,   0.,   0.,   0.,   0.,   0.,   0.,   0.,   0.,   0.,\n",
       "          0.,   0.,   0.,   0.,   0.,   0.,   0.,   0.,   0.,   0.,   0.,\n",
       "          0.,   0.,   0.,   0.,   0.,   0.,   0.,   0.,   0.,   0.,   0.,\n",
       "          0.,   0.,   0.,   0.,   0.,   0.,   0.,   0.,   0.,   0.,   0.,\n",
       "          0.,   0.,   0.,   0.,   0.,   0.,   0.,   0.,   0.,   0.,   0.,\n",
       "          0.,   0.,   0.,   0.,   0.,   0.,   0.,   0.,   0.,   0.,   0.,\n",
       "          0.,   0.,   0.,   0.,   0.,   0.,   0.,   0.,   0.,   0.,   0.,\n",
       "          0.,   0.,   0.,   0.,   0.,   0.,   0.,   0.,   0.,   0.,   0.,\n",
       "          0.,   0.,   0.,   0.,   0.,   0.,   0.,   0.,   0.,   0.,   0.,\n",
       "          0.,   0.,   0.,   0.,   0.,   0.,   0.,   0.,   0.,   0.,   0.,\n",
       "          0.,   0.,   0.,   0.,   0.,   0.,   0.,   0.,   0.,   0.,   0.,\n",
       "          0.,   0.,   0.,   0.,   0.,   0.,   0.,   1.,   1.,   0.,   0.,\n",
       "          0.,   2.,   5.,   0.,   1.,   2.,   0.,   0.,   0.,   0.,   0.,\n",
       "          0.,   0.,   0.,   0.,   0.,   0.,   0.,   0.,   0.,   0.,   0.,\n",
       "          0.,   0.,   0.,   0.,   0.,   0.,   0.,   0.,   0.,   0.,   0.,\n",
       "          0.,   0.,   0.,   0.,   0.,   0.,   0.,   0.,   0.,   0.,   0.,\n",
       "          0.,   0.,   0.,   0.,   0.,   0.,   0.,   0.,   0.,   0.,   0.,\n",
       "          0.,   0.,   0.,   0.,   0.,   0.,   0.,   0.,   0.,   0.,   0.,\n",
       "          0.,   0.,   0.,   0.,   0.,   0.,   0.,   0.,   0.,   0.,   0.,\n",
       "          0.,   0.,   0.,   0.,   0.,   0.,   0.,   0.,   0.,   0.,   0.,\n",
       "          0.,   0.,   0.,   0.,   0.,   0.,   0.,   0.,   0.,   0.,   0.,\n",
       "          0.,   0.,   0.,   0.,   0.,   0.,   0.,   0.,   0.,   0.,   0.,\n",
       "          0.,   0.,   0.,   0.,   0.,   0.,   0.,   0.,   0.,   0.,   0.,\n",
       "          0.,   0.,   0.,   0.,   0.,   0.,   0.,   0.,   0.,   0.,   0.,\n",
       "          0.,   0.,   0.,   0.,   0.,   0.,   0.,   0.,   0.,   0.,   0.,\n",
       "          0.,   0.,   0.,   0.,   0.,   0.,   0.,   0.,   0.,   0.,   0.,\n",
       "          0.,   0.,   0.,   0.,   0.,   0.,   0.,   0.,   0.,   0.,   0.,\n",
       "          0.,   0.,   0.,   0.,   0.,   0.,   0.,   0.,   0.,   0.,   0.,\n",
       "          0.,   0.,   0.,   0.,   0.,   0.,   0.,   0.,   0.,   0.,   0.,\n",
       "          0.,   0.,   0.,   0.,   0.,   0.,   0.,   0.,   0.,   0.,   0.,\n",
       "          0.,   0.,   0.,   0.,   0.,   0.,   0.,   0.,   0.,   0.,   0.,\n",
       "          0.,   0.,   0.,   0.,   0.,   0.,   0.,   0.,   0.,   0.,   0.,\n",
       "          0.,   0.,   0.,   0.,   0.,   0.,   0.,   0.,   0.,   0.,   0.,\n",
       "          0.,   0.,   0.,   0.,   0.,   0.,   0.,   0.,   0.,   0.,   0.,\n",
       "          0.,   0.,   0.,   0.,   0.,   0.,   0.,   0.,   0.,   0.,   0.,\n",
       "          0.,   0.,   0.,   0.,   0.,   0.,   0.,   0.,   0.,   0.,   0.,\n",
       "          0.,   0.,   0.,   0.,   0.,   0.,   0.,   0.,   0.,   0.,   0.,\n",
       "          0.,   0.,   0.,   0.,   0.,   0.,   0.,   0.,   0.,   0.,   0.,\n",
       "          0.,   0.,   0.,   0.,   0.,   0.,   0.,   0.,   0.,   0.,   0.,\n",
       "          0.,   0.,   0.,   0.,   0.,   0.,   0.,   0.,   0.,   0.,   0.,\n",
       "          0.,   0.,   0.,   0.,   0.,   0.,   0.,   0.,   0.,   0.,   0.,\n",
       "          0.,   0.,   0.,   0.,   0.,   0.,   0.,   0.,   0.,   0.,   0.,\n",
       "          0.,   0.,   0.,   0.,   0.,   0.,   0.,   0.,   0.,   0.,   0.,\n",
       "          0.,   0.,   0.,   0.,   0.,   0.,   0.,   0.,   0.,   0.,   0.,\n",
       "          0.,   0.,   0.,   0.,   0.,   0.,   0.,   0.,   0.,   0.,   0.,\n",
       "          0.,   0.,   0.,   0.,   0.,   0.,   0.,   0.,   0.,   0.,   0.,\n",
       "          0.,   0.,   0.,   0.,   0.,   0.,   0.,   0.,   0.,   0.,   0.,\n",
       "          0.,   0.,   0.,   0.,   0.,   0.,   0.,   0.,   0.,   0.,   0.,\n",
       "          0.,   0.,   0.,   0.,   0.,   0.,   0.,   0.,   0.,   0.,   0.,\n",
       "          0.,   0.,   0.,   0.,   0.,   0.,   0.,   0.,   0.,   0.,   0.,\n",
       "          0.,   0.,   0.,   0.,   0.,   0.,   0.,   0.,   0.,   0.,   0.,\n",
       "          0.,   0.,   0.,   0.,   0.,   0.,   0.,   0.,   0.,   0.,   0.,\n",
       "          0.,   0.,   0.,   0.,   0.,   0.,   0.,   0.,   0.,   0.,   0.,\n",
       "          0.,   0.,   0.,   0.,   0.,   0.,   0.,   0.,   0.,   0.,   0.,\n",
       "          0.,   0.,   0.,   0.,   0.,   0.,   0.,   0.,   0.,   0.,   0.,\n",
       "          0.,   0.,   0.,   0.,   0.,   0.,   0.,   0.,   0.,   0.,   0.,\n",
       "          0.,   0.,   0.,   1.,   0.,   0.,   1.,   0.,   3.,   2.]),\n",
       " array([ 248.  ,  255.12,  262.24, ..., 7353.76, 7360.88, 7368.  ]),\n",
       " <BarContainer object of 1000 artists>)"
      ]
     },
     "execution_count": 43,
     "metadata": {},
     "output_type": "execute_result"
    },
    {
     "data": {
      "image/png": "[encoded data removed]",
      "text/plain": [
       "<Figure size 640x480 with 1 Axes>"
      ]
     },
     "metadata": {},
     "output_type": "display_data"
    }
   ],
   "source": [
    "import matplotlib.pyplot as plt\n",
    "\n",
    "plt.hist(all_prompt_lens, bins=1000, edgecolor='black')"
   ]
  },
  {
   "cell_type": "code",
   "execution_count": 44,
   "id": "9cbddab5-2fa4-4319-830c-def4c7936d27",
   "metadata": {},
   "outputs": [],
   "source": [
    "very_long_prompts_users = set()\n",
    "for user, prompt in test_reasoning_prompts.items():\n",
    "    if len(prompt[0].strip().split(' ')) > 500:\n",
    "        very_long_prompts_users.add(user)\n",
    "for user, prompt in train_reasoning_prompts.items():\n",
    "    if len(prompt[0].strip().split(' ')) > 500:\n",
    "        very_long_prompts_users.add(user)\n",
    "for user, prompt in valid_reasoning_prompts.items():\n",
    "    if len(prompt[0].strip().split(' ')) > 500:\n",
    "        very_long_prompts_users.add(user)"
   ]
  },
  {
   "cell_type": "code",
   "execution_count": 45,
   "id": "6a4e3627-5de8-434f-b4f9-e2a575829b42",
   "metadata": {},
   "outputs": [
    {
     "name": "stdout",
     "output_type": "stream",
     "text": [
      "367\n"
     ]
    }
   ],
   "source": [
    "very_long_prompts_users = list(very_long_prompts_users)\n",
    "print(len(very_long_prompts_users))"
   ]
  },
  {
   "cell_type": "code",
   "execution_count": 48,
   "id": "c52cf9ca-1e6b-40e6-9949-38ef6b6c9b04",
   "metadata": {},
   "outputs": [
    {
     "name": "stdout",
     "output_type": "stream",
     "text": [
      "906 906 906\n"
     ]
    }
   ],
   "source": [
    "for user in very_long_prompts_users:\n",
    "    train_reasoning_prompts.pop(user, None)\n",
    "    valid_reasoning_prompts.pop(user, None)\n",
    "    test_reasoning_prompts.pop(user, None)\n",
    "print(len(train_reasoning_prompts), len(valid_reasoning_prompts), len(test_reasoning_prompts))"
   ]
  },
  {
   "cell_type": "code",
   "execution_count": 53,
   "id": "d7860cc4-b347-4b97-89fd-57cad5f272db",
   "metadata": {},
   "outputs": [],
   "source": [
    "reasoning_prompt_path = './reasoning_prompt_data/reasoning_prompt_train.pkl'\n",
    "with open(reasoning_prompt_path, 'wb') as f:\n",
    "    pickle.dump(train_reasoning_prompts, f)\n",
    "    f.close()"
   ]
  },
  {
   "cell_type": "code",
   "execution_count": 54,
   "id": "a7716625-9024-48b4-a4e8-f804b7ebcb3e",
   "metadata": {},
   "outputs": [],
   "source": [
    "reasoning_prompt_path = './reasoning_prompt_data/reasoning_prompt_valid.pkl'\n",
    "with open(reasoning_prompt_path, 'wb') as f:\n",
    "    pickle.dump(valid_reasoning_prompts, f)\n",
    "    f.close()"
   ]
  },
  {
   "cell_type": "code",
   "execution_count": 55,
   "id": "7391d9cf-2bb8-44cc-9b31-54f55b2db5d2",
   "metadata": {},
   "outputs": [],
   "source": [
    "reasoning_prompt_path = './reasoning_prompt_data/reasoning_prompt_test.pkl'\n",
    "with open(reasoning_prompt_path, 'wb') as f:\n",
    "    pickle.dump(test_reasoning_prompts, f)\n",
    "    f.close()"
   ]
  },
  {
   "cell_type": "code",
   "execution_count": 56,
   "id": "f0b61e23-542f-4afc-865a-6bedd683f4e5",
   "metadata": {},
   "outputs": [
    {
     "name": "stdout",
     "output_type": "stream",
     "text": [
      "[\"You are an expert fashion product recommender. You are provided with a user's list of recent products and their descriptions that the user purchases and whether the user liked it or disliked it. Please go through the list in order -\\nLiked TitFus Chunky Knit Infinity Scarf Unisex Super Soft Acrylic/Wool (Burgandy) Brand: TitFus Description: \\n\\nThe product is a burgundy infinity scarf, which is vibrant, thick, warm, and soft but may be itchy and scratchy around the neck. It arrives quickly and is longer than most.\\nLiked Ninimour- Fashion Summer Casual Women's Dress (S, Gray) Brand: Ninimour Description: \\n\\nThe product is a cute dress with simple design and amazing colors. It fits great and exceeds expectations for the price. However, the dress may be too short, colors may not match the picture, and the material may be see-through and thin.\\n\\nNote: I have tried to keep the description\\nLiked Mixmax Women Flowy Sheer Crop Sleeves Loose Chiffon Kimono Cardigan Blouse Top Price: $10.99 - $19.99 Description: \\n\\nThe product is a colorful kimono, great for summer with a breezy and vibrant design. However, the material may be thicker than expected and sizing runs small.\\nDisliked Bestnow Women's Summer Short Sleeveless Slim Evening Party Cocktail Mini Dress (S) Brand: Bestnow Description: \\n\\nThe product is a dress with a nice top and pretty pattern on the skirt, but the skirt material is cheap, slim fitted, and not as pictured. It may not fit well.\\nNow, we know that the user will LIKE the next item - Mosunx(TM) Women Summer Loose Short Sleeve Blouse Casual Vest Tops T-Shirt (M, White) Brand: Mosunx Description: \\n\\nThe product is a soft, comfortable, and stylish shirt that comes in Asian sizes, which are smaller than US sizes. It is slightly see-through and thin, so it may require a layer underneath. The shirt fits well and is true to size, but it is recommended to size up for a lo\\n        As an expert fashion product recommender, do the following steps -\\n        1. Analyze the provided list of products purchased by the user in order and summarize the user behavior by identifying the characteristics he liked and disliked about the products in at most 100 words.\\n        2. Explain with reasoning why the user will like the next item - Mosunx(TM) Women Summer Loose Short Sleeve Blouse Casual Vest Tops T-Shirt (M, White) in atmost 100 words.\", '\\nPrediction: Yes']\n",
      "[\"You are an expert fashion product recommender. You are provided with a user's list of recent products and their descriptions that the user purchases and whether the user liked it or disliked it. Please go through the list in order -\\nLiked Ninimour- Fashion Summer Casual Women's Dress (S, Gray) Brand: Ninimour Description: \\n\\nThe product is a cute dress with simple design and amazing colors. It fits great and exceeds expectations for the price. However, the dress may be too short, colors may not match the picture, and the material may be see-through and thin.\\n\\nNote: I have tried to keep the description\\nLiked Mixmax Women Flowy Sheer Crop Sleeves Loose Chiffon Kimono Cardigan Blouse Top Price: $10.99 - $19.99 Description: \\n\\nThe product is a colorful kimono, great for summer with a breezy and vibrant design. However, the material may be thicker than expected and sizing runs small.\\nDisliked Bestnow Women's Summer Short Sleeveless Slim Evening Party Cocktail Mini Dress (S) Brand: Bestnow Description: \\n\\nThe product is a dress with a nice top and pretty pattern on the skirt, but the skirt material is cheap, slim fitted, and not as pictured. It may not fit well.\\nLiked Mosunx(TM) Women Summer Loose Short Sleeve Blouse Casual Vest Tops T-Shirt (M, White) Brand: Mosunx Description: \\n\\nThe product is a soft, comfortable, and stylish shirt that comes in Asian sizes, which are smaller than US sizes. It is slightly see-through and thin, so it may require a layer underneath. The shirt fits well and is true to size, but it is recommended to size up for a lo\\nNow, we know that the user will DISLIKE the next item - Jacket, Mikey Store Women Long Knitted Sweater Outwear Coat Sweater (M) Brand: Mikey Store Description: \\n\\nThe product is a fashionable clothing item with a unique design, fitting well for most customers. However, the material is cheap and the sizing runs small, with tight arms being a common issue.\\n        As an expert fashion product recommender, do the following steps -\\n        1. Analyze the provided list of products purchased by the user in order and summarize the user behavior by identifying the characteristics he liked and disliked about the products in at most 100 words.\\n        2. Explain with reasoning why the user will dislike the next item - Jacket, Mikey Store Women Long Knitted Sweater Outwear Coat Sweater (M) in atmost 100 words.\", '\\nPrediction: No']\n",
      "[\"You are an expert fashion product recommender. You are provided with a user's list of recent products and their descriptions that the user purchases and whether the user liked it or disliked it. Please go through the list in order -\\nLiked Mixmax Women Flowy Sheer Crop Sleeves Loose Chiffon Kimono Cardigan Blouse Top Price: $10.99 - $19.99 Description: \\n\\nThe product is a colorful kimono, great for summer with a breezy and vibrant design. However, the material may be thicker than expected and sizing runs small.\\nDisliked Bestnow Women's Summer Short Sleeveless Slim Evening Party Cocktail Mini Dress (S) Brand: Bestnow Description: \\n\\nThe product is a dress with a nice top and pretty pattern on the skirt, but the skirt material is cheap, slim fitted, and not as pictured. It may not fit well.\\nLiked Mosunx(TM) Women Summer Loose Short Sleeve Blouse Casual Vest Tops T-Shirt (M, White) Brand: Mosunx Description: \\n\\nThe product is a soft, comfortable, and stylish shirt that comes in Asian sizes, which are smaller than US sizes. It is slightly see-through and thin, so it may require a layer underneath. The shirt fits well and is true to size, but it is recommended to size up for a lo\\nDisliked Jacket, Mikey Store Women Long Knitted Sweater Outwear Coat Sweater (M) Brand: Mikey Store Description: \\n\\nThe product is a fashionable clothing item with a unique design, fitting well for most customers. However, the material is cheap and the sizing runs small, with tight arms being a common issue.\\nNow, we know that the user will LIKE the next item - HDE Womens Lightweight Soft Sheer Jersey Long Infinity Loop Solid Color Scarf (Snow White) Brand: HDE Description: \\n\\nThe product is a soft, lightweight scarf with great colors that enhances any outfit. However, some scarfs may have raw edges, thin material, or a pink tint.\\n        As an expert fashion product recommender, do the following steps -\\n        1. Analyze the provided list of products purchased by the user in order and summarize the user behavior by identifying the characteristics he liked and disliked about the products in at most 100 words.\\n        2. Explain with reasoning why the user will like the next item - HDE Womens Lightweight Soft Sheer Jersey Long Infinity Loop Solid Color Scarf (Snow White) in atmost 100 words.\", '\\nPrediction: Yes']\n"
     ]
    }
   ],
   "source": [
    "user = '32'\n",
    "print(train_reasoning_prompts[user])\n",
    "print(valid_reasoning_prompts[user])\n",
    "print(test_reasoning_prompts[user])"
   ]
  },
  {
   "cell_type": "code",
   "execution_count": 20,
   "id": "3cd5f401-718d-4c50-902a-fdd530245f63",
   "metadata": {},
   "outputs": [
    {
     "name": "stdout",
     "output_type": "stream",
     "text": [
      "You are an expert fashion product recommender. You are provided with a user's list of recent products and their descriptions that the user purchases and whether the user liked it or disliked it. Please go through the list in order -\n",
      "Liked TitFus Chunky Knit Infinity Scarf Unisex Super Soft Acrylic/Wool (Burgandy) Brand: TitFus Description: \n",
      "\n",
      "The product is a burgundy infinity scarf, which is vibrant, thick, warm, and soft but may be itchy and scratchy around the neck. It arrives quickly and is longer than most.\n",
      "Liked Ninimour- Fashion Summer Casual Women's Dress (S, Gray) Brand: Ninimour Description: \n",
      "\n",
      "The product is a cute dress with simple design and amazing colors. It fits great and exceeds expectations for the price. However, the dress may be too short, colors may not match the picture, and the material may be see-through and thin.\n",
      "\n",
      "Note: I have tried to keep the description\n",
      "Liked Mixmax Women Flowy Sheer Crop Sleeves Loose Chiffon Kimono Cardigan Blouse Top Price: $10.99 - $19.99 Description: \n",
      "\n",
      "The product is a colorful kimono, great for summer with a breezy and vibrant design. However, the material may be thicker than expected and sizing runs small.\n",
      "Disliked Bestnow Women's Summer Short Sleeveless Slim Evening Party Cocktail Mini Dress (S) Brand: Bestnow Description: \n",
      "\n",
      "The product is a dress with a nice top and pretty pattern on the skirt, but the skirt material is cheap, slim fitted, and not as pictured. It may not fit well.\n",
      "Now, we know that the user will LIKE the next item - Mosunx(TM) Women Summer Loose Short Sleeve Blouse Casual Vest Tops T-Shirt (M, White) Brand: Mosunx Description: \n",
      "\n",
      "The product is a soft, comfortable, and stylish shirt that comes in Asian sizes, which are smaller than US sizes. It is slightly see-through and thin, so it may require a layer underneath. The shirt fits well and is true to size, but it is recommended to size up for a lo\n",
      "        As an expert fashion product recommender, take into consideration the item brand, price, dscription and do the following steps -\n",
      "        1. Analyze the provided list of products purchased by the user in order and summarize the user behavior by identifying the characteristics he liked and disliked about the products in at most 100 words.\n",
      "        2. Explain with reasoning why the user will like the next item - Mosunx(TM) Women Summer Loose Short Sleeve Blouse Casual Vest Tops T-Shirt (M, White) in atmost 100 words.\n",
      "****************************************************************************************************\n",
      "1. The user likes products that are vibrant, colorful, and stylish, with simple designs and great fits. They appreciate soft and comfortable materials, quick delivery, and items that exceed expectations for the price. However, they dislike products with cheap materials, thin fabrics, sizing issues, and items that do not match the picture.\n",
      "\n",
      "2. The user will like the next item, Mosunx(TM) Women Summer Loose Short Sleeve Blouse Casual Vest Tops T-Shirt (M, White), because it fits their preference for soft and comfortable clothing. The stylish design and true-to-size fit align with their liking for simple yet fashionable pieces. Additionally, the slight see-through quality and recommendation to size up for a looser fit indicate that the user will appreciate the transparency and helpful sizing advice provided by the brand.\n"
     ]
    },
    {
     "data": {
      "text/plain": [
       "127"
      ]
     },
     "execution_count": 20,
     "metadata": {},
     "output_type": "execute_result"
    }
   ],
   "source": [
    "user = '32'\n",
    "content = train_reasoning_prompts[user][0]\n",
    "groundtruth = train_reasoning_prompts[user][1]\n",
    "print(content)\n",
    "print('*'*100)\n",
    "response = client.chat.completions.create(\n",
    "  model=\"gpt-3.5-turbo\",\n",
    "  messages=[\n",
    "    {\n",
    "      \"role\": \"user\",\n",
    "      \"content\": content\n",
    "    }\n",
    "  ],\n",
    "  temperature=0,\n",
    "  max_tokens=256,\n",
    "  top_p=0.75\n",
    ")\n",
    "\n",
    "\n",
    "response = response.choices[0].message.content\n",
    "print(response)\n",
    "len(response.split(' '))"
   ]
  },
  {
   "cell_type": "code",
   "execution_count": null,
   "id": "e61476a4-61cf-4354-bac3-b70303b1cf22",
   "metadata": {},
   "outputs": [],
   "source": []
  }
 ],
 "metadata": {
  "kernelspec": {
   "display_name": "Python 3 (ipykernel)",
   "language": "python",
   "name": "python3"
  },
  "language_info": {
   "codemirror_mode": {
    "name": "ipython",
    "version": 3
   },
   "file_extension": ".py",
   "mimetype": "text/x-python",
   "name": "python",
   "nbconvert_exporter": "python",
   "pygments_lexer": "ipython3",
   "version": "3.9.18"
  }
 },
 "nbformat": 4,
 "nbformat_minor": 5
}
