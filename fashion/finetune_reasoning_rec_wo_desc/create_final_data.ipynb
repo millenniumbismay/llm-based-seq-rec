{
 "cells": [
  {
   "cell_type": "code",
   "execution_count": 1,
   "id": "d030076e-28d9-4c3d-982d-fa6c4a634a96",
   "metadata": {},
   "outputs": [],
   "source": [
    "import pickle\n",
    "import pandas as pd\n",
    "import numpy as np\n",
    "import os\n",
    "import json\n",
    "import time\n",
    "from dotenv import load_dotenv"
   ]
  },
  {
   "cell_type": "code",
   "execution_count": 2,
   "id": "f20d1e2b-d511-4a45-bf2f-91346da269c3",
   "metadata": {},
   "outputs": [],
   "source": [
    "user_train_path = '/home/grads/m/mbismay/llm-based-seq-rec/fashion/fashion_data/processed_data/user_train.json'\n",
    "user_valid_path = '/home/grads/m/mbismay/llm-based-seq-rec/fashion/fashion_data/processed_data/user_valid.json'\n",
    "user_test_path = '/home/grads/m/mbismay/llm-based-seq-rec/fashion/fashion_data/processed_data/user_test.json'"
   ]
  },
  {
   "cell_type": "code",
   "execution_count": 3,
   "id": "28b4aaf2-9db0-4d75-a662-c7fc10dfa194",
   "metadata": {},
   "outputs": [],
   "source": [
    "with open(user_train_path, 'rb') as f:\n",
    "    user_train_dict = json.load(f)\n",
    "with open(user_valid_path, 'rb') as f:\n",
    "    user_valid_dict = json.load(f)\n",
    "with open(user_test_path, 'rb') as f:\n",
    "    user_test_dict = json.load(f)"
   ]
  },
  {
   "cell_type": "code",
   "execution_count": 4,
   "id": "f2a78613-a43b-4d56-b4b0-bf5bbf3288dc",
   "metadata": {},
   "outputs": [
    {
     "name": "stdout",
     "output_type": "stream",
     "text": [
      "[11, 12, 13, 14, 15]\n",
      "[12, 13, 14, 15, 16]\n",
      "[13, 14, 15, 16, 17]\n"
     ]
    }
   ],
   "source": [
    "user_id = '1'\n",
    "print(user_train_dict[user_id])\n",
    "print(user_valid_dict[user_id])\n",
    "print(user_test_dict[user_id])"
   ]
  },
  {
   "cell_type": "code",
   "execution_count": null,
   "id": "335dd4fc",
   "metadata": {},
   "outputs": [
    {
     "name": "stdout",
     "output_type": "stream",
     "text": [
      "6089\n"
     ]
    }
   ],
   "source": [
    "item_information_path = '/home/grads/m/mbismay/llm-based-seq-rec/fashion/fashion_data/processed_data/processed_item_information.json'\n",
    "with open(item_information_path, 'r') as f:\n",
    "    item_information_dict = json.load(f)\n",
    "print(len(item_information_dict))"
   ]
  },
  {
   "cell_type": "code",
   "execution_count": null,
   "id": "0fdc4135-2c09-439d-b4e7-40b13f36fa86",
   "metadata": {},
   "outputs": [
    {
     "data": {
      "text/html": [
       "<div>\n",
       "<style scoped>\n",
       "    .dataframe tbody tr th:only-of-type {\n",
       "        vertical-align: middle;\n",
       "    }\n",
       "\n",
       "    .dataframe tbody tr th {\n",
       "        vertical-align: top;\n",
       "    }\n",
       "\n",
       "    .dataframe thead th {\n",
       "        text-align: right;\n",
       "    }\n",
       "</style>\n",
       "<table border=\"1\" class=\"dataframe\">\n",
       "  <thead>\n",
       "    <tr style=\"text-align: right;\">\n",
       "      <th></th>\n",
       "      <th>item</th>\n",
       "      <th>user</th>\n",
       "      <th>rating</th>\n",
       "      <th>timestamp</th>\n",
       "    </tr>\n",
       "  </thead>\n",
       "  <tbody>\n",
       "    <tr>\n",
       "      <th>0</th>\n",
       "      <td>0</td>\n",
       "      <td>0</td>\n",
       "      <td>4.0</td>\n",
       "      <td>1452816000</td>\n",
       "    </tr>\n",
       "    <tr>\n",
       "      <th>1</th>\n",
       "      <td>1</td>\n",
       "      <td>0</td>\n",
       "      <td>4.0</td>\n",
       "      <td>1453766400</td>\n",
       "    </tr>\n",
       "    <tr>\n",
       "      <th>2</th>\n",
       "      <td>2</td>\n",
       "      <td>0</td>\n",
       "      <td>3.0</td>\n",
       "      <td>1453766400</td>\n",
       "    </tr>\n",
       "    <tr>\n",
       "      <th>3</th>\n",
       "      <td>3</td>\n",
       "      <td>0</td>\n",
       "      <td>4.0</td>\n",
       "      <td>1453766400</td>\n",
       "    </tr>\n",
       "    <tr>\n",
       "      <th>4</th>\n",
       "      <td>4</td>\n",
       "      <td>0</td>\n",
       "      <td>4.0</td>\n",
       "      <td>1453766400</td>\n",
       "    </tr>\n",
       "  </tbody>\n",
       "</table>\n",
       "</div>"
      ],
      "text/plain": [
       "   item  user  rating   timestamp\n",
       "0     0     0     4.0  1452816000\n",
       "1     1     0     4.0  1453766400\n",
       "2     2     0     3.0  1453766400\n",
       "3     3     0     4.0  1453766400\n",
       "4     4     0     4.0  1453766400"
      ]
     },
     "execution_count": 6,
     "metadata": {},
     "output_type": "execute_result"
    }
   ],
   "source": [
    "ratings_path = '../fashion_data/processed_data/ratings.csv'\n",
    "ratings_df = pd.read_csv(ratings_path)\n",
    "ratings_df.head()"
   ]
  },
  {
   "cell_type": "code",
   "execution_count": 7,
   "id": "bcb9bf7a-25c2-4161-b3bc-a94d07a60407",
   "metadata": {},
   "outputs": [],
   "source": [
    "reasoning_prompt_train_data = \"./reasoning_dataset/reasoning_prompt_data/reasoning_prompt_train.pkl\"\n",
    "reasoning_prompt_valid_data = \"./reasoning_dataset/reasoning_prompt_data/reasoning_prompt_valid.pkl\"\n",
    "\n",
    "reasoning_train_data = \"./reasoning_dataset/reasoning_data/reasoning_train_dict.pkl\"\n",
    "reasoning_valid_data = \"./reasoning_dataset/reasoning_data/reasoning_valid_dict.pkl\"\n",
    "reasoning_test_data = \"./reasoning_dataset/reasoning_data/reasoning_test_dict.pkl\""
   ]
  },
  {
   "cell_type": "code",
   "execution_count": 8,
   "id": "17bfbacd-caea-4ba2-a4f1-ac84c548877e",
   "metadata": {},
   "outputs": [],
   "source": [
    "with open(reasoning_train_data, 'rb') as f:\n",
    "    reasoning_train = pickle.load(f)\n",
    "with open(reasoning_valid_data, 'rb') as f:\n",
    "    reasoning_valid = pickle.load(f)\n",
    "with open(reasoning_test_data, 'rb') as f:\n",
    "    reasoning_test = pickle.load(f)"
   ]
  },
  {
   "cell_type": "code",
   "execution_count": 9,
   "id": "38765fde-b66e-4426-81f2-7d93b2b2c253",
   "metadata": {},
   "outputs": [
    {
     "name": "stdout",
     "output_type": "stream",
     "text": [
      "\n",
      "        1. The user seems to prefer stylish and high-quality products, with a preference for good design and functionality. They liked the Jastore Little Girls' Clothing Set for its quality and design, ANGVNS Women Casual Long Sleeve Slim Fit Party Bodycon Sheath Dress for its stylish and expensive look, FINEJO Women Chiffon Round Neck Sleeveless Maxi Dress for its elegant and comfortable design, and TXZTrade Women's Floral Tankini Swimdress Cover Up for its vintage and two-piece design. However, they disliked the hard-to-open button in the Destiny-themed wallet and found the formal pencil dress unsuitable for pear-shaped women.\n",
      "        2. The user will like the next item - C2U Women Pullover Elegant Wave Flouncing Long Sleeve Chiffon Shirt,X-Large,Purple because it aligns with their preference for stylish and high-quality products. The long sleeve chiffon shirt is elegant and has a unique wave flouncing design, which adds to its style quotient. The shirt is also made of\n",
      "Prediction: Yes\n",
      "\n",
      "        1. The user seems to prefer stylish and high-quality products, with a preference for good design and functionality. They liked the Destiny-themed wallet for its cool design and good quality, but disliked the hard-to-open button. They appreciated the spacious and sturdy backpack, but noted that it may not hold too much weight or size. The user values both style and functionality in their fashion purchases, as seen in their preference for formal pencil dresses that are stylish and expensive-looking, but not suitable for pear-shaped women. They also enjoy dresses and swimsuits that are casual, comfortable, and suitable for different occasions.\n",
      "        2. The user will like the next item, Vilania Women Tankini swimsuit Stripes Lined Up Double Up Two Pieces Bikini Swimwear Set Plus size Bathing Suit With Support And Coverage Black,TXZ9021-Black-L, because it aligns with their preference for stylish and high-quality products. The tankini swimsuit features a trendy striped design and is made of high-quality materials that provide support and coverage, making it both fashionable and functional. The two\n",
      "Prediction: Yes\n",
      "\n",
      "        1. The user seems to prefer stylish and high-quality products, with a preference for good design and functionality. They liked the Destiny-themed wallet for its cool design and good quality, but disliked the hard-to-open button. They appreciated the spacious and sturdy backpack, but noted that it may not hold too much weight or size. The user values both style and functionality in their fashion purchases, as seen in their preference for formal pencil dresses that are stylish and expensive-looking, but not suitable for pear-shaped women. They also liked the floral tankini swimsuit for its vintage design and the support and coverage it provides.\n",
      "        2. The user will like the next item, iNewbetter Women Summer Tank Tops Sleeveless Blouse Casual Vest Top T-Shirt M, Multicolor, because it is a stylish and high-quality product that is both functional and fashionable. The multicolor design is trendy and versatile, making it a great addition to the user's wardrobe. The tank top is made of lightweight and breathable fabric, making it perfect for summer. Additionally, the user has shown a preference\n",
      "Prediction: Yes\n"
     ]
    }
   ],
   "source": [
    "# print(reasoning_prompt_train[user_id])\n",
    "print(reasoning_train[user_id])\n",
    "print(reasoning_valid[user_id])\n",
    "print(reasoning_test[user_id])"
   ]
  },
  {
   "cell_type": "code",
   "execution_count": 10,
   "id": "19bc745f",
   "metadata": {},
   "outputs": [],
   "source": [
    "def get_new_reasoning_text(reasoning):\n",
    "    # print(f\"reasoning: {reasoning}\")\n",
    "    new_reasoning_text = f\"Prediction: {reasoning.split(' ')[-1]} \\n\"\n",
    "    new_reasoning_text += ' '.join(s.strip() for s in reasoning.split(\"\\n\")[:-1])\n",
    "    # print(f\"new_reasoning_text: {new_reasoning_text}\")\n",
    "    return new_reasoning_text"
   ]
  },
  {
   "cell_type": "code",
   "execution_count": 11,
   "id": "ec8cdcc2",
   "metadata": {},
   "outputs": [],
   "source": [
    "def get_item_description(item_information):\n",
    "    item_details = \"\"\n",
    "    if 'title' in item_information:\n",
    "        item_details += item_information['title']\n",
    "    # if 'brand' in item_information:\n",
    "    #     item_details += f\" Brand: {item_information['brand']}\"\n",
    "    # if 'price' in item_information:\n",
    "    #     item_details += f\" Price: {item_information['price']}\"\n",
    "    # if 'description' in item_information:\n",
    "    #     item_details += f\" Description: {item_information['description']}\"\n",
    "    return item_details"
   ]
  },
  {
   "cell_type": "code",
   "execution_count": 12,
   "id": "7baee113",
   "metadata": {},
   "outputs": [
    {
     "name": "stdout",
     "output_type": "stream",
     "text": [
      "848 \n",
      "The user seems to prefer stylish and high-quality products, with a preference for good design and functionality. They liked the Destiny-themed wallet for its cool design and good quality, but disliked the hard-to-open button. They appreciated the spacious and sturdy backpack, but noted that it may not hold too much weight or size. The user liked the formal pencil dress for its stylish and expensive look, but found it unsuitable for pear-shaped women. Overall, the user values both style and functionality in their fashion purchases.\n"
     ]
    }
   ],
   "source": [
    "user_profile_summary_path = '../fashion_data/processed_data/user_profile_summary.json'\n",
    "with open(user_profile_summary_path, 'r') as f:\n",
    "    user_profile_summary_dict = json.load(f)\n",
    "print(len(user_profile_summary_dict), user_profile_summary_dict['1'])"
   ]
  },
  {
   "cell_type": "code",
   "execution_count": 13,
   "id": "9d97a7fb",
   "metadata": {},
   "outputs": [
    {
     "name": "stdout",
     "output_type": "stream",
     "text": [
      "Length of final_train_dict: 904 {'instruction': \"You are an expert fashion product recommender. Given a user's profile and list of recent liked and disliked items, identify whether the user will like or dislike the target item by providing reasoning for the same. Please follow further instruction below. \", 'input': \"User Profile - \\n\\nThe user seems to prefer long-sleeved shirts and knit fabric, as indicated by their purchase of the Allegra K Lady Long Sleeve Letter Pattern Pullover Knit Shirt Black S. They appreciate a good quality fabric and length, but also value comfort and simplicity. The user disliked the product because it was too casual, suggesting they may prefer more formal or stylish clothing. The user's preference for leggings as a pairing item also implies they may enjoy a more fitted or form-fitting style. Overall, the user values comfort, quality, and style, with a preference for long-sleeved knit shirts and fitted styles.\\n        User purchased the following items in the given order. List of recent items -\\n        Liked Allegra K Women Boat Neck Batwing Sleeves Pullover Tops Fuchsia M\\nDisliked Allegra K Ladies Boat Neck Short Dolman Sleeve Cape Style Fashion Top Large / US 14 Khaki\\nLiked Allegra K Woman Boat Neck Button Decor Front Batwing Tunic Top XL Dark Blue\\nLiked Allegra K Women Sleeveless Sheer Mesh Yoke Mini Skater Dress L Black\\n\\nThe user purchased the next target item - DJT Cowl Neck Button Embellished Ruched Long Sleeve Blouse Top Grey XL\\nDo not use any information not mentioned above. As an expert fashion product recommender, do the following steps -\\n    Predict whether the user will like the target item or not in the following format - Prediction: Yes or No\\n    by analyzing the provided list of products purchased by the user in order and summarize the user behavior by identifying the characteristics he liked and disliked about the products in at most 100 words.\\n    Explain with reasoning whether the user will like or dislike the target item - DJT Cowl Neck Button Embellished Ruched Long Sleeve Blouse Top Grey XL in atmost 100 words.\", 'output': \"Prediction: No \\n Answer:  1. The user has shown a preference for long-sleeved shirts made of knit fabric, with a dislike for overly casual styles. They appreciate good quality and a fitted style, as indicated by their purchase of a boat neck batwing sleeves pullover top in fuchsia and a boat neck button decor front batwing tunic top in dark blue, both of which they liked. However, they disliked a short dolman sleeve cape style fashion top in khaki, likely due to its casualness and oversized fit. They also enjoy form-fitting styles, as demonstrated by their purchase of a sleeveless shear mesh yoke mini skater dress in black, which they liked. 2. The user will dislike the next item, DJT Cowl Neck Button Embellished Ruched Long Sleeve Blouse Top Grey XL, due to its oversized and casual style, which they have previously shown a dislike for. Additionally, the top's cowl neck and ruched sleeves may not align with the user's preference for simplicity, as they have shown a liking for more straightforward designs. The top's oversized\"}\n",
      "Avg Length: 434.8938053097345\n",
      "Max length: 565\n"
     ]
    }
   ],
   "source": [
    "### For Train Data\n",
    "final_train_dict = list()\n",
    "cnt = 0\n",
    "max_total_len = 0\n",
    "avg_total_len = 0\n",
    "for user, reasoning in reasoning_train.items():\n",
    "    # print(f\"User: {user}\")\n",
    "    cnt += 1\n",
    "    user_rating_dict = ratings_df[ratings_df['user'] == int(user)]\n",
    "    # print(user_rating_dict)\n",
    "\n",
    "    temp_dict = dict()\n",
    "    if user in user_profile_summary_dict:\n",
    "        temp_dict[\"instruction\"] = \"You are an expert fashion product recommender. Given a user's profile and list of recent liked and disliked items, identify whether the user will like or dislike the target item by providing reasoning for the same. Please follow further instruction below. \"\n",
    "        prompt = f\"\"\"User Profile - {user_profile_summary_dict[user]}\n",
    "        User purchased the following items in the given order. List of recent items -\n",
    "        \"\"\"\n",
    "    else:\n",
    "        temp_dict[\"instruction\"] = \"You are an expert fashion product recommender. Given a user's list of recent liked and disliked items, identify whether the user will like or dislike the target item by providing reasoning for the same. Please follow further instruction below. \"\n",
    "        prompt = \"User purchased the following items in the given order. List of recent items -\\n\"\n",
    "\n",
    "    item_list = user_train_dict[user]\n",
    "    # print(item_list)\n",
    "    for item in item_list[:-1]:\n",
    "        user_item_rating = user_rating_dict[user_rating_dict['item'] == item]['rating'].values[0]\n",
    "        if user_item_rating > 3:\n",
    "            ### Liked\n",
    "            prompt += f\"Liked {get_item_description(item_information_dict[str(item)])}\\n\"\n",
    "        else:\n",
    "            prompt += f\"Disliked {get_item_description(item_information_dict[str(item)])}\\n\"\n",
    "    \n",
    "    target_item = item_list[-1]\n",
    "    target_item_details = get_item_description(item_information_dict[str(target_item)])\n",
    "    target_item_rating = user_rating_dict[user_rating_dict['item'] == target_item]['rating'].values[0]\n",
    "    prompt += f\"\\nThe user purchased the next target item - {target_item_details}\"\n",
    "    \n",
    "    prompt += f\"\"\"\\nDo not use any information not mentioned above. As an expert fashion product recommender, do the following steps -\n",
    "    Predict whether the user will like the target item or not in the following format - Prediction: Yes or No\n",
    "    by analyzing the provided list of products purchased by the user in order and summarize the user behavior by identifying the characteristics he liked and disliked about the products in at most 100 words.\n",
    "    Explain with reasoning whether the user will like or dislike the target item - {item_information_dict[str(target_item)]['title']} in atmost 100 words.\"\"\"\n",
    "    temp_dict[\"input\"] = prompt\n",
    "\n",
    "    temp_dict[\"output\"] = get_new_reasoning_text(reasoning)\n",
    "    final_train_dict.append(temp_dict)\n",
    "    # print(final_train_dict)\n",
    "    total_len = len(temp_dict['instruction'].split()) + len(temp_dict['input'].split()) + len(temp_dict['output'].split())\n",
    "    avg_total_len += total_len\n",
    "    max_total_len = max(max_total_len, total_len)\n",
    "    # break\n",
    "print(\"Length of final_train_dict:\", len(final_train_dict), final_train_dict[0])\n",
    "print(\"Avg Length:\", avg_total_len/len(final_train_dict))\n",
    "print(\"Max length:\", max_total_len)"
   ]
  },
  {
   "cell_type": "code",
   "execution_count": 14,
   "id": "f6df14e5",
   "metadata": {},
   "outputs": [
    {
     "data": {
      "text/plain": [
       "{'instruction': \"You are an expert fashion product recommender. Given a user's profile and list of recent liked and disliked items, identify whether the user will like or dislike the target item by providing reasoning for the same. Please follow further instruction below. \",\n",
       " 'input': 'User Profile - \\n\\nThe user seems to prefer Playboy-branded products, particularly watches and necklaces. They like small, cute designs with a feminine touch, such as the flower bunny logo and pink leather band. High-quality materials, like stainless steel and Swarovski crystals, are also important to them. The user dislikes products that are not stylish or appealing, such as the unexpectedly small watch. They enjoy products that are suitable for gifting and make them feel like a real Playboy bunny.\\n        User purchased the following items in the given order. List of recent items -\\n        Liked Playboy Watch ACES Playing Cards Bunny Logo Stainless Steel Back Ladies Designer Fashion Authentic Official Licensed\\nLiked Playboy Watch Pink Swarovski Crystals Bunny Logo Braided Band Stainless Steel Back Ladies Designer\\nLiked Playboy Ring Solitaire Swarovski Crystal Bunny Charm Platinum Plated Statement Wide Band Size 7\\nLiked Playboy Body Jewelry Belly Ring Curved Barbell Bunny Logo Swarovski Crystal Surgical Steel Licensed\\n\\nThe user purchased the next target item - Playboy Y Necklace Swarovski Crystal Bunny Logo Rabbit Head Design Licensed\\nDo not use any information not mentioned above. As an expert fashion product recommender, do the following steps -\\n    Predict whether the user will like the target item or not in the following format - Prediction: Yes or No\\n    by analyzing the provided list of products purchased by the user in order and summarize the user behavior by identifying the characteristics he liked and disliked about the products in at most 100 words.\\n    Explain with reasoning whether the user will like or dislike the target item - Playboy Y Necklace Swarovski Crystal Bunny Logo Rabbit Head Design Licensed in atmost 100 words.',\n",
       " 'output': 'Prediction: Yes \\n 1. The user has shown a clear preference for Playboy-branded products, particularly watches and necklaces, with a feminine touch. They appreciate high-quality materials such as stainless steel and Swarovski crystals, as well as cute designs like the flower bunny logo and pink leather band. The user dislikes products that are not stylish or appealing, such as the unexpectedly small watch. They enjoy products that are suitable for gifting and make them feel like a real Playboy bunny. 2. The user will like the next item, the Playboy Y Necklace Swarovski Crystal Bunny Logo Rabbit Head Design Licensed, because it aligns with their preferences for Playboy-branded products and high-quality materials like Swarovski crystals. The rabbit head design is cute and feminine, and the Y necklace is a stylish and appealing design. The user has shown a preference for necklaces and this one is suitable for gifting, making it a likely choice for the user to like.'}"
      ]
     },
     "execution_count": 14,
     "metadata": {},
     "output_type": "execute_result"
    }
   ],
   "source": [
    "final_train_dict[183]"
   ]
  },
  {
   "cell_type": "code",
   "execution_count": 15,
   "id": "1080cc58",
   "metadata": {},
   "outputs": [
    {
     "name": "stdout",
     "output_type": "stream",
     "text": [
      "677 227 904\n"
     ]
    }
   ],
   "source": [
    "yes_cnt = 0\n",
    "no_cnt = 0\n",
    "for train_data in final_train_dict:\n",
    "    pred = train_data['output'].split(' ')[1]\n",
    "    # print(pred)\n",
    "    if pred == 'Yes':\n",
    "        yes_cnt += 1\n",
    "    elif pred == 'No':\n",
    "        no_cnt += 1\n",
    "    else:\n",
    "        print(pred, '--', train_data['output'])\n",
    "print(yes_cnt, no_cnt, yes_cnt + no_cnt)"
   ]
  },
  {
   "cell_type": "code",
   "execution_count": 16,
   "id": "54a33c95-264b-436d-a2c4-824025cf1453",
   "metadata": {},
   "outputs": [],
   "source": [
    "final_train_path = \"./final_data/fashion/train.json\"\n",
    "with open(final_train_path, 'w') as f:\n",
    "    json.dump(final_train_dict, f)"
   ]
  },
  {
   "cell_type": "code",
   "execution_count": 17,
   "id": "46a2eb92-fd9b-4e53-9372-0ee9d2f8cd70",
   "metadata": {},
   "outputs": [
    {
     "name": "stdout",
     "output_type": "stream",
     "text": [
      "Length of final_train_dict: 904 {'instruction': \"You are an expert fashion product recommender. Given a user's profile and list of recent liked and disliked items, identify whether the user will like or dislike the target item by providing reasoning for the same. Please follow further instruction below. \", 'input': \"User Profile - \\n\\nThe user seems to prefer long-sleeved shirts and knit fabric, as indicated by their purchase of the Allegra K Lady Long Sleeve Letter Pattern Pullover Knit Shirt Black S. They appreciate a good quality fabric and length, but also value comfort and simplicity. The user disliked the product because it was too casual, suggesting they may prefer more formal or stylish clothing. The user's preference for leggings as a pairing item also implies they may enjoy a more fitted or form-fitting style. Overall, the user values comfort, quality, and style, with a preference for long-sleeved knit shirts and fitted styles.\\n        User purchased the following items in the given order. List of recent items -\\n        Disliked Allegra K Ladies Boat Neck Short Dolman Sleeve Cape Style Fashion Top Large / US 14 Khaki\\nLiked Allegra K Woman Boat Neck Button Decor Front Batwing Tunic Top XL Dark Blue\\nLiked Allegra K Women Sleeveless Sheer Mesh Yoke Mini Skater Dress L Black\\nDisliked DJT Cowl Neck Button Embellished Ruched Long Sleeve Blouse Top Grey XL\\n\\nThe user purchased the next target item - DJT Lady Scoop Neck Long Sleeve Stretchy Irregular Hem Casual Top Blouse #1 Black\\nDo not use any information not mentioned above. As an expert fashion product recommender, do the following steps -\\n    Predict whether the user will like the target item or not in the following format - Prediction: Yes or No\\n    by analyzing the provided list of products purchased by the user in order and summarize the user behavior by identifying the characteristics he liked and disliked about the products in at most 100 words.\\n    Explain with reasoning whether the user will like or dislike the target item - DJT Lady Scoop Neck Long Sleeve Stretchy Irregular Hem Casual Top Blouse #1 Black in atmost 100 words.\", 'output': \"Prediction: No \\n 1. The user seems to prefer long-sleeved shirts and knit fabric, as indicated by their purchase of the Allegra K Lady Long Sleeve Letter Pattern Pullover Knit Shirt Black S. They appreciate a good quality fabric and length, but also value comfort and simplicity. The user disliked the product because it was too casual, suggesting they may prefer more formal or stylish clothing. The user's preference for leggings as a pairing item also implies they may enjoy a more fitted or form-fitting style. 2. The user will dislike the next item - DJT Lady Scoop Neck Long Sleeve Stretchy Irregular Hem Casual Top Blouse #1 Black - because it is a long-sleeved top, which the user generally prefers. However, the item is described as casual, which the user has shown a dislike for in the past. Additionally, the irregular hem may not provide the clean, form-fitting style that the user seems to prefer. The scoop neck may also be too revealing for the user's taste, as they have shown a preference for more modest necklines in the past.\"}\n",
      "Avg Length: 434.6504424778761\n",
      "Max length: 589\n"
     ]
    }
   ],
   "source": [
    "### For Valid Data\n",
    "final_valid_dict = list()\n",
    "cnt = 0\n",
    "max_total_len = 0\n",
    "avg_total_len = 0\n",
    "for user, reasoning in reasoning_valid.items():\n",
    "    # print(f\"User: {user}\")\n",
    "    cnt += 1\n",
    "    user_rating_dict = ratings_df[ratings_df['user'] == int(user)]\n",
    "    # print(user_rating_dict)\n",
    "\n",
    "    temp_dict = dict()\n",
    "    if user in user_profile_summary_dict:\n",
    "        temp_dict[\"instruction\"] = \"You are an expert fashion product recommender. Given a user's profile and list of recent liked and disliked items, identify whether the user will like or dislike the target item by providing reasoning for the same. Please follow further instruction below. \"\n",
    "        prompt = f\"\"\"User Profile - {user_profile_summary_dict[user]}\n",
    "        User purchased the following items in the given order. List of recent items -\n",
    "        \"\"\"\n",
    "    else:\n",
    "        temp_dict[\"instruction\"] = \"You are an expert fashion product recommender. Given a user's list of recent liked and disliked items, identify whether the user will like or dislike the target item by providing reasoning for the same. Please follow further instruction below. \"\n",
    "        prompt = \"User purchased the following items in the given order. List of recent items -\\n\"\n",
    "\n",
    "    item_list = user_valid_dict[user]\n",
    "    # print(item_list)\n",
    "    for item in item_list[:-1]:\n",
    "        user_item_rating = user_rating_dict[user_rating_dict['item'] == item]['rating'].values[0]\n",
    "        if user_item_rating > 3:\n",
    "            ### Liked\n",
    "            prompt += f\"Liked {get_item_description(item_information_dict[str(item)])}\\n\"\n",
    "        else:\n",
    "            prompt += f\"Disliked {get_item_description(item_information_dict[str(item)])}\\n\"\n",
    "    \n",
    "    target_item = item_list[-1]\n",
    "    target_item_details = get_item_description(item_information_dict[str(target_item)])\n",
    "    target_item_rating = user_rating_dict[user_rating_dict['item'] == target_item]['rating'].values[0]\n",
    "    prompt += f\"\\nThe user purchased the next target item - {target_item_details}\"\n",
    "    \n",
    "    prompt += f\"\"\"\\nDo not use any information not mentioned above. As an expert fashion product recommender, do the following steps -\n",
    "    Predict whether the user will like the target item or not in the following format - Prediction: Yes or No\n",
    "    by analyzing the provided list of products purchased by the user in order and summarize the user behavior by identifying the characteristics he liked and disliked about the products in at most 100 words.\n",
    "    Explain with reasoning whether the user will like or dislike the target item - {item_information_dict[str(target_item)]['title']} in atmost 100 words.\"\"\"\n",
    "    temp_dict[\"input\"] = prompt\n",
    "\n",
    "    temp_dict[\"output\"] = get_new_reasoning_text(reasoning)\n",
    "    final_valid_dict.append(temp_dict)\n",
    "    # print(final_train_dict)\n",
    "    total_len = len(temp_dict['instruction'].split()) + len(temp_dict['input'].split()) + len(temp_dict['output'].split())\n",
    "    avg_total_len += total_len\n",
    "    max_total_len = max(max_total_len, total_len)\n",
    "    # break\n",
    "print(\"Length of final_train_dict:\", len(final_valid_dict), final_valid_dict[0])\n",
    "print(\"Avg Length:\", avg_total_len/len(final_valid_dict))\n",
    "print(\"Max length:\", max_total_len)"
   ]
  },
  {
   "cell_type": "code",
   "execution_count": 18,
   "id": "a18fc4c7",
   "metadata": {},
   "outputs": [
    {
     "name": "stdout",
     "output_type": "stream",
     "text": [
      "671 233 904\n"
     ]
    }
   ],
   "source": [
    "yes_cnt = 0\n",
    "no_cnt = 0\n",
    "for valid_data in final_valid_dict:\n",
    "    pred = valid_data['output'].split(' ')[1]\n",
    "    # print(pred)\n",
    "    if pred == 'Yes':\n",
    "        yes_cnt += 1\n",
    "    elif pred == 'No':\n",
    "        no_cnt += 1\n",
    "    else:\n",
    "        print(pred, '--', train_data['output'])\n",
    "print(yes_cnt, no_cnt, yes_cnt + no_cnt)"
   ]
  },
  {
   "cell_type": "code",
   "execution_count": 19,
   "id": "ba238ccf",
   "metadata": {},
   "outputs": [],
   "source": [
    "final_valid_path = \"./final_data/fashion/valid.json\"\n",
    "with open(final_valid_path, 'w') as f:\n",
    "    json.dump(final_valid_dict, f)"
   ]
  },
  {
   "cell_type": "code",
   "execution_count": 20,
   "id": "7c084f06",
   "metadata": {},
   "outputs": [
    {
     "name": "stdout",
     "output_type": "stream",
     "text": [
      "{'instruction': \"You are an expert fashion product recommender. Given a user's profile and list of recent liked and disliked items, identify whether the user will like or dislike the target item by providing reasoning for the same. Please follow further instruction below. \", 'input': \"User Profile - \\nThe user seems to prefer pretty and nicely made jewelry with attractive design and styling. They appreciate good value and excellent customer service. However, they dislike products with quality issues such as being flimsy, having a stuck clasp, or coming apart easily. They also seem to be particular about the packaging and shipping of the product.\\n        User purchased the following items in the given order. List of recent items -\\n        Liked Tagoo Tribal Vintage Round Turquoise Pendant Dangle Earrings(Sea Blue)\\nLiked Guess Factory Women's Pepper Leggings\\nLiked Waltz-Length Lounger\\nLiked Mudder 5 Sizes 925 Silver Plated Snake Chain Necklace, 10 Pieces\\n\\nThe user purchased the next target item - Muchmore Women's Pearl Beads Made White Polki Jhumki Earring\\nDo not use any information not mentioned above. As an expert fashion product recommender, do the following steps -\\n    Predict whether the user will like the target item or not in the following format - Prediction: Yes or No\\n    by analyzing the provided list of products purchased by the user in order and summarize the user behavior by identifying the characteristics he liked and disliked about the products in at most 100 words.\\n    Explain with reasoning whether the user will like or dislike the target item - Muchmore Women's Pearl Beads Made White Polki Jhumki Earring in atmost 100 words.\", 'output': \"Prediction: No \\n 1. The user seems to prefer jewelry with attractive design and styling, as indicated by their liking of the Tagoo Tribal Vintage Round Turquoise Pendant Dangle Earrings and Muchmore 925 Silver Plated Snake Chain Necklace. They also appreciate good value, as shown by their liking of the Guess Factory Women's Pepper Leggings and the Waltz-Length Lounger. However, they dislike products with quality issues, such as being flimsy or having a stuck clasp. They are also particular about packaging and shipping. 2. The user will dislike the Muchmore Women's Pearl Beads Made White Polki Jhumki Earring because it does not align with their preferred style of jewelry. The user tends to prefer modern, stylish designs as seen in the Tagoo Tribal Vintage Round Turquoise Pendant Dangle Earrings and the Muchmore 925 Silver Plated Snake Chain Necklace. The Polki Jhumki earrings, on the other hand, have a more traditional and ornate design, which may not appeal to the user's preference for modern and attractive styling. Additionally,\"}\n",
      "{'instruction': \"You are an expert fashion product recommender. Given a user's profile and list of recent liked and disliked items, identify whether the user will like or dislike the target item by providing reasoning for the same. Please follow further instruction below. \", 'input': \"User Profile - \\nThe user seems to prefer pretty and nicely made jewelry with attractive design and styling. They appreciate good value and excellent customer service. However, they dislike products with quality issues such as being flimsy, having a stuck clasp, or coming apart easily. They also seem to be particular about the packaging and shipping of the product.\\n        User purchased the following items in the given order. List of recent items -\\n        Liked Guess Factory Women's Pepper Leggings\\nLiked Waltz-Length Lounger\\nLiked Mudder 5 Sizes 925 Silver Plated Snake Chain Necklace, 10 Pieces\\nDisliked Muchmore Women's Pearl Beads Made White Polki Jhumki Earring\\n\\nThe user purchased the next target item - EleQueen Women's Silver-tone Pave Full Cubic Zirconia Art Deco Bridal Dangle Earrings Clear\\nDo not use any information not mentioned above. As an expert fashion product recommender, do the following steps -\\n    Predict whether the user will like the target item or not in the following format - Prediction: Yes or No\\n    by analyzing the provided list of products purchased by the user in order and summarize the user behavior by identifying the characteristics he liked and disliked about the products in at most 100 words.\\n    Explain with reasoning whether the user will like or dislike the target item - EleQueen Women's Silver-tone Pave Full Cubic Zirconia Art Deco Bridal Dangle Earrings Clear in atmost 100 words.\", 'output': 'Prediction: Yes \\n 1. The user seems to prefer well-made and stylish products, with a particular interest in jewelry. They appreciate good value and excellent customer service, as indicated by their positive response to brands like Guess and Mudder. However, they are particular about quality, disliking products with issues such as being flimsy or having a stuck clasp. They also care about packaging and shipping. 2. The user will like the next item because it aligns with their preferences for stylish, well-made jewelry. The EleQueen earrings are silver-tone and pave-set with cubic zirconia, giving them a luxurious and attractive design. The fact that they are labeled as \"bridal\" suggests that they are high-quality and durable, which is important to the user. Additionally, the brand EleQueen is not known to have quality issues, so the user can expect good value and customer service.'}\n"
     ]
    }
   ],
   "source": [
    "user = 121\n",
    "print(final_train_dict[user])\n",
    "print(final_valid_dict[user])"
   ]
  },
  {
   "cell_type": "code",
   "execution_count": null,
   "id": "300f72af",
   "metadata": {},
   "outputs": [],
   "source": []
  },
  {
   "cell_type": "code",
   "execution_count": 21,
   "id": "dcdd0037",
   "metadata": {},
   "outputs": [
    {
     "name": "stdout",
     "output_type": "stream",
     "text": [
      "Length of final_train_dict: 904 {'instruction': \"You are an expert fashion product recommender. Given a user's profile and list of recent liked and disliked items, identify whether the user will like or dislike the target item by providing reasoning for the same. Please follow further instruction below. \", 'input': \"User Profile - \\n\\nThe user seems to prefer long-sleeved shirts and knit fabric, as indicated by their purchase of the Allegra K Lady Long Sleeve Letter Pattern Pullover Knit Shirt Black S. They appreciate a good quality fabric and length, but also value comfort and simplicity. The user disliked the product because it was too casual, suggesting they may prefer more formal or stylish clothing. The user's preference for leggings as a pairing item also implies they may enjoy a more fitted or form-fitting style. Overall, the user values comfort, quality, and style, with a preference for long-sleeved knit shirts and fitted styles.\\n        User purchased the following items in the given order. List of recent items -\\n        Liked Allegra K Woman Boat Neck Button Decor Front Batwing Tunic Top XL Dark Blue\\nLiked Allegra K Women Sleeveless Sheer Mesh Yoke Mini Skater Dress L Black\\nDisliked DJT Cowl Neck Button Embellished Ruched Long Sleeve Blouse Top Grey XL\\nDisliked DJT Lady Scoop Neck Long Sleeve Stretchy Irregular Hem Casual Top Blouse #1 Black\\n\\nThe user purchased the next target item - Susenstone Women Beach Barefoot Sandal Foot Tassel Jewelry Anklet\\nDo not use any information not mentioned above. As an expert fashion product recommender, do the following steps -\\n    Predict whether the user will like the target item or not in the following format - Prediction: Yes or No\\n    by analyzing the provided list of products purchased by the user in order and summarize the user behavior by identifying the characteristics he liked and disliked about the products in at most 100 words.\\n    Explain with reasoning whether the user will like or dislike the target item - Susenstone Women Beach Barefoot Sandal Foot Tassel Jewelry Anklet in atmost 100 words.\", 'output': \"Prediction: No \\n Answer:  1. The user has shown a preference for long-sleeved shirts and knit fabric, as indicated by their purchase of the Allegra K Lady Long Sleeve Letter Pattern Pullover Knit Shirt Black S. They appreciate a good quality fabric and length, but also value comfort and simplicity. The user disliked the DJT Cowl Neck Button Embellished Ruched Long Sleeve Blouse Top Grey XL and DJT Lady Sleeveless Sheer Mesh Yoke Mini Skater Dress L Black because they were too casual, suggesting they may prefer more formal or stylish clothing. The user's preference for leggings as a pairing item also implies they may enjoy a more fitted or form-fitting style. 2. The user will dislike the next item, Susenstone Women Beach Barefoot Sandal Foot Tassel Jewelry Anklet, because it is not a clothing item and does not align with their preference for long-sleeved shirts and knit fabric. The user has shown a clear preference for formal or stylish clothing, and this item is a beach accessory, which is not in line with\"}\n",
      "Avg Length: 434.94690265486724\n",
      "Max length: 582\n"
     ]
    }
   ],
   "source": [
    "### For Test Data\n",
    "final_test_dict = list()\n",
    "cnt = 0\n",
    "max_total_len = 0\n",
    "avg_total_len = 0\n",
    "for user, reasoning in reasoning_test.items():\n",
    "    # print(f\"User: {user}\")\n",
    "    cnt += 1\n",
    "    user_rating_dict = ratings_df[ratings_df['user'] == int(user)]\n",
    "    # print(user_rating_dict)\n",
    "\n",
    "    temp_dict = dict()\n",
    "    if user in user_profile_summary_dict:\n",
    "        temp_dict[\"instruction\"] = \"You are an expert fashion product recommender. Given a user's profile and list of recent liked and disliked items, identify whether the user will like or dislike the target item by providing reasoning for the same. Please follow further instruction below. \"\n",
    "        prompt = f\"\"\"User Profile - {user_profile_summary_dict[user]}\n",
    "        User purchased the following items in the given order. List of recent items -\n",
    "        \"\"\"\n",
    "    else:\n",
    "        temp_dict[\"instruction\"] = \"You are an expert fashion product recommender. Given a user's list of recent liked and disliked items, identify whether the user will like or dislike the target item by providing reasoning for the same. Please follow further instruction below. \"\n",
    "        prompt = \"User purchased the following items in the given order. List of recent items -\\n\"\n",
    "        \n",
    "    item_list = user_test_dict[user]\n",
    "    # print(item_list)\n",
    "    for item in item_list[:-1]:\n",
    "        user_item_rating = user_rating_dict[user_rating_dict['item'] == item]['rating'].values[0]\n",
    "        if user_item_rating > 3:\n",
    "            ### Liked\n",
    "            prompt += f\"Liked {get_item_description(item_information_dict[str(item)])}\\n\"\n",
    "        else:\n",
    "            prompt += f\"Disliked {get_item_description(item_information_dict[str(item)])}\\n\"\n",
    "    \n",
    "    target_item = item_list[-1]\n",
    "    target_item_details = get_item_description(item_information_dict[str(target_item)])\n",
    "    target_item_rating = user_rating_dict[user_rating_dict['item'] == target_item]['rating'].values[0]\n",
    "    prompt += f\"\\nThe user purchased the next target item - {target_item_details}\"\n",
    "    \n",
    "    prompt += f\"\"\"\\nDo not use any information not mentioned above. As an expert fashion product recommender, do the following steps -\n",
    "    Predict whether the user will like the target item or not in the following format - Prediction: Yes or No\n",
    "    by analyzing the provided list of products purchased by the user in order and summarize the user behavior by identifying the characteristics he liked and disliked about the products in at most 100 words.\n",
    "    Explain with reasoning whether the user will like or dislike the target item - {item_information_dict[str(target_item)]['title']} in atmost 100 words.\"\"\"\n",
    "    temp_dict[\"input\"] = prompt\n",
    "\n",
    "    temp_dict[\"output\"] = get_new_reasoning_text(reasoning)\n",
    "    final_test_dict.append(temp_dict)\n",
    "    # print(final_train_dict)\n",
    "    total_len = len(temp_dict['instruction'].split()) + len(temp_dict['input'].split()) + len(temp_dict['output'].split())\n",
    "    avg_total_len += total_len\n",
    "    max_total_len = max(max_total_len, total_len)\n",
    "    # break\n",
    "print(\"Length of final_train_dict:\", len(final_test_dict), final_test_dict[0])\n",
    "print(\"Avg Length:\", avg_total_len/len(final_test_dict))\n",
    "print(\"Max length:\", max_total_len)"
   ]
  },
  {
   "cell_type": "code",
   "execution_count": 22,
   "id": "fcc6e6e0",
   "metadata": {},
   "outputs": [
    {
     "name": "stdout",
     "output_type": "stream",
     "text": [
      "675 229 904\n"
     ]
    }
   ],
   "source": [
    "yes_cnt = 0\n",
    "no_cnt = 0\n",
    "for test_data in final_test_dict:\n",
    "    pred = test_data['output'].split(' ')[1]\n",
    "    # print(pred)\n",
    "    if pred == 'Yes':\n",
    "        yes_cnt += 1\n",
    "    elif pred == 'No':\n",
    "        no_cnt += 1\n",
    "    else:\n",
    "        print(pred, '--', test_data['output'])\n",
    "print(yes_cnt, no_cnt, yes_cnt + no_cnt)"
   ]
  },
  {
   "cell_type": "code",
   "execution_count": 23,
   "id": "3da223fd",
   "metadata": {},
   "outputs": [
    {
     "name": "stdout",
     "output_type": "stream",
     "text": [
      "{'instruction': \"You are an expert fashion product recommender. Given a user's profile and list of recent liked and disliked items, identify whether the user will like or dislike the target item by providing reasoning for the same. Please follow further instruction below. \", 'input': \"User Profile - \\nThe user seems to prefer pretty and nicely made jewelry with attractive design and styling. They appreciate good value and excellent customer service. However, they dislike products with quality issues such as being flimsy, having a stuck clasp, or coming apart easily. They also seem to be particular about the packaging and shipping of the product.\\n        User purchased the following items in the given order. List of recent items -\\n        Liked Waltz-Length Lounger\\nLiked Mudder 5 Sizes 925 Silver Plated Snake Chain Necklace, 10 Pieces\\nDisliked Muchmore Women's Pearl Beads Made White Polki Jhumki Earring\\nLiked EleQueen Women's Silver-tone Pave Full Cubic Zirconia Art Deco Bridal Dangle Earrings Clear\\n\\nThe user purchased the next target item - MOQUEEN Women's Slim Fit Floral Bodycon Tunic Dress2161(Blue XL)\\nDo not use any information not mentioned above. As an expert fashion product recommender, do the following steps -\\n    Predict whether the user will like the target item or not in the following format - Prediction: Yes or No\\n    by analyzing the provided list of products purchased by the user in order and summarize the user behavior by identifying the characteristics he liked and disliked about the products in at most 100 words.\\n    Explain with reasoning whether the user will like or dislike the target item - MOQUEEN Women's Slim Fit Floral Bodycon Tunic Dress2161(Blue XL) in atmost 100 words.\", 'output': \"Prediction: Yes \\n 1. The user seems to prefer jewelry with attractive design and styling, as indicated by their liking of the Waltz-Length Lounger and the Mudder 5 Sizes 925 Silver Plated Snake Chain Necklace. They appreciate good value, as evidenced by their purchase of the 10-piece Mudder necklace. However, they dislike products with quality issues, as shown by their dislike of the Muchmore Women's Pearl Beads Made White Polki Jhumki Earring. They also seem to be particular about packaging and shipping, as suggested by their profile. 2. The user will like the MOQUEEN Women's Slim Fit Floral Bodycon Tunic Dress2161(Blue XL) because it is a fashionable and stylish item that fits with their preference for attractive design and styling. The dress is also slim-fit, which suggests good value and quality, as it is tailored to fit the user's body. Additionally, the fact that the dress is a tunic style suggests that it is comfortable and easy to wear, which aligns with the user's preference for good value. Finally,\"}\n"
     ]
    }
   ],
   "source": [
    "user = 121\n",
    "# print(final_train_dict[user])\n",
    "# print(final_valid_dict[user])\n",
    "print(final_test_dict[user])"
   ]
  },
  {
   "cell_type": "code",
   "execution_count": 24,
   "id": "6595df0c",
   "metadata": {},
   "outputs": [],
   "source": [
    "final_test_path = \"./final_data/fashion/test.json\"\n",
    "with open(final_test_path, 'w') as f:\n",
    "    json.dump(final_test_dict, f)"
   ]
  },
  {
   "cell_type": "code",
   "execution_count": null,
   "id": "9cb4670a",
   "metadata": {},
   "outputs": [],
   "source": []
  }
 ],
 "metadata": {
  "kernelspec": {
   "display_name": "mixtral",
   "language": "python",
   "name": "python3"
  },
  "language_info": {
   "codemirror_mode": {
    "name": "ipython",
    "version": 3
   },
   "file_extension": ".py",
   "mimetype": "text/x-python",
   "name": "python",
   "nbconvert_exporter": "python",
   "pygments_lexer": "ipython3",
   "version": "3.9.18"
  }
 },
 "nbformat": 4,
 "nbformat_minor": 5
}
