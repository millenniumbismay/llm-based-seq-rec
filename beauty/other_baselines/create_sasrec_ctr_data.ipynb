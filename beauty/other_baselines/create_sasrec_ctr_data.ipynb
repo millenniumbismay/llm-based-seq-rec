{
 "cells": [
  {
   "cell_type": "code",
   "execution_count": 1,
   "id": "74d5d076-eb41-4c83-a098-84f0071206e5",
   "metadata": {},
   "outputs": [],
   "source": [
    "import pandas as pd\n",
    "import numpy as np\n",
    "import os\n",
    "import pickle\n",
    "import csv\n",
    "import json"
   ]
  },
  {
   "cell_type": "code",
   "execution_count": 2,
   "id": "3ad19d19-6921-42db-8bf4-48a0e845f55c",
   "metadata": {},
   "outputs": [],
   "source": [
    "user_train_path = '../fashion_data/processed_data/user_train.json'\n",
    "user_valid_path = '../fashion_data/processed_data/user_valid.json'\n",
    "user_test_path = '../fashion_data/processed_data/user_test.json'"
   ]
  },
  {
   "cell_type": "code",
   "execution_count": 3,
   "id": "561af8e3-fc06-44ac-915f-06c680acf332",
   "metadata": {},
   "outputs": [],
   "source": [
    "with open(user_train_path, 'rb') as f:\n",
    "    user_train_dict = json.load(f)\n",
    "with open(user_valid_path, 'rb') as f:\n",
    "    user_valid_dict = json.load(f)\n",
    "with open(user_test_path, 'rb') as f:\n",
    "    user_test_dict = json.load(f)"
   ]
  },
  {
   "cell_type": "code",
   "execution_count": 4,
   "id": "d2b77886-e18f-42ce-8cc6-d0b49706372b",
   "metadata": {},
   "outputs": [
    {
     "name": "stdout",
     "output_type": "stream",
     "text": [
      "[11, 12, 13, 14, 15]\n",
      "[12, 13, 14, 15, 16]\n",
      "[13, 14, 15, 16, 17]\n"
     ]
    }
   ],
   "source": [
    "user_id = '1'\n",
    "print(user_train_dict[user_id])\n",
    "print(user_valid_dict[user_id])\n",
    "print(user_test_dict[user_id])"
   ]
  },
  {
   "cell_type": "code",
   "execution_count": 5,
   "id": "740aabc7-8bd9-454e-b36d-a7c59add7fce",
   "metadata": {},
   "outputs": [
    {
     "data": {
      "text/plain": [
       "5"
      ]
     },
     "execution_count": 5,
     "metadata": {},
     "output_type": "execute_result"
    }
   ],
   "source": [
    "len(user_train_dict[user_id])"
   ]
  },
  {
   "cell_type": "code",
   "execution_count": 6,
   "id": "3a96fdd0-8e06-436d-827b-d3f2ee8130d7",
   "metadata": {},
   "outputs": [
    {
     "data": {
      "text/html": [
       "<div>\n",
       "<style scoped>\n",
       "    .dataframe tbody tr th:only-of-type {\n",
       "        vertical-align: middle;\n",
       "    }\n",
       "\n",
       "    .dataframe tbody tr th {\n",
       "        vertical-align: top;\n",
       "    }\n",
       "\n",
       "    .dataframe thead th {\n",
       "        text-align: right;\n",
       "    }\n",
       "</style>\n",
       "<table border=\"1\" class=\"dataframe\">\n",
       "  <thead>\n",
       "    <tr style=\"text-align: right;\">\n",
       "      <th></th>\n",
       "      <th>item</th>\n",
       "      <th>user</th>\n",
       "      <th>rating</th>\n",
       "      <th>timestamp</th>\n",
       "    </tr>\n",
       "  </thead>\n",
       "  <tbody>\n",
       "    <tr>\n",
       "      <th>0</th>\n",
       "      <td>0</td>\n",
       "      <td>0</td>\n",
       "      <td>4.0</td>\n",
       "      <td>1452816000</td>\n",
       "    </tr>\n",
       "    <tr>\n",
       "      <th>1</th>\n",
       "      <td>1</td>\n",
       "      <td>0</td>\n",
       "      <td>4.0</td>\n",
       "      <td>1453766400</td>\n",
       "    </tr>\n",
       "    <tr>\n",
       "      <th>2</th>\n",
       "      <td>2</td>\n",
       "      <td>0</td>\n",
       "      <td>3.0</td>\n",
       "      <td>1453766400</td>\n",
       "    </tr>\n",
       "    <tr>\n",
       "      <th>3</th>\n",
       "      <td>3</td>\n",
       "      <td>0</td>\n",
       "      <td>4.0</td>\n",
       "      <td>1453766400</td>\n",
       "    </tr>\n",
       "    <tr>\n",
       "      <th>4</th>\n",
       "      <td>4</td>\n",
       "      <td>0</td>\n",
       "      <td>4.0</td>\n",
       "      <td>1453766400</td>\n",
       "    </tr>\n",
       "  </tbody>\n",
       "</table>\n",
       "</div>"
      ],
      "text/plain": [
       "   item  user  rating   timestamp\n",
       "0     0     0     4.0  1452816000\n",
       "1     1     0     4.0  1453766400\n",
       "2     2     0     3.0  1453766400\n",
       "3     3     0     4.0  1453766400\n",
       "4     4     0     4.0  1453766400"
      ]
     },
     "execution_count": 6,
     "metadata": {},
     "output_type": "execute_result"
    }
   ],
   "source": [
    "ratings_path = '../fashion_data/processed_data/ratings.csv'\n",
    "ratings_df = pd.read_csv(ratings_path)\n",
    "ratings_df.head()"
   ]
  },
  {
   "cell_type": "markdown",
   "id": "b1e544e6-5af6-4a85-a0f4-7cbc5f3a5824",
   "metadata": {},
   "source": [
    "### Creating the SASRec CTR Data"
   ]
  },
  {
   "cell_type": "code",
   "execution_count": 21,
   "id": "66fa88a9-64d6-4463-a09e-ec5e45c4ddb1",
   "metadata": {},
   "outputs": [],
   "source": [
    "sasrec_train_dict = {\"user\": [],\"history_item_id\": [],\"history_rating\": [],\"item_id\": [],\"rating\": [], \"timestamp\": []}\n",
    "sasrec_valid_dict = {\"user\": [],\"history_item_id\": [],\"history_rating\": [],\"item_id\": [],\"rating\": [], \"timestamp\": []}\n",
    "sasrec_test_dict = {\"user\": [],\"history_item_id\": [],\"history_rating\": [],\"item_id\": [],\"rating\": [], \"timestamp\": []}\n",
    "user_list = list(user_train_dict.keys())\n",
    "\n",
    "cnt =  0\n",
    "for user in user_train_dict:\n",
    "    # cnt += 1\n",
    "    # print(f\"User: {user}\")\n",
    "    \n",
    "    # sasrec_valid_dict['user'].append(user)\n",
    "    # sasrec_test_dict['user'].append(user)\n",
    "    user_int = int(user)\n",
    "    user_rating_dict = ratings_df[ratings_df['user'] == user_int]\n",
    "    # print(f\"user_rating_dict: {user_rating_dict}\")\n",
    "\n",
    "    # print(f\"All train_valid_test_movies: {train_valid_test_movies}\")\n",
    "\n",
    "    # train_valid_test_ratings = []\n",
    "    # for movie in train_valid_test_movies:\n",
    "    #     movie_rating = user_rating_dict[user_rating_dict['movie_id'] == movie]['rating'].values[0]\n",
    "    #     if movie_rating > 3:\n",
    "    #         train_valid_test_ratings.append(1)\n",
    "    #     else:\n",
    "    #         train_valid_test_ratings.append(0)\n",
    "    # print(f\"All train_valid_test_ratings: {train_valid_test_ratings}\")\n",
    "\n",
    "    ### SASRec Train Data\n",
    "    # print(\"SASRec Train Data\")\n",
    "    # print(user_train_dict[user])\n",
    "    sasrec_train_dict['user'].append(user_int)\n",
    "    sasrec_train_dict['history_item_id'].append(user_train_dict[user][:-1])\n",
    "    user_train_ratings = []\n",
    "    for item in user_train_dict[user]:\n",
    "        item_rating = user_rating_dict[user_rating_dict['item'] == item]['rating'].values[0]\n",
    "        if item_rating > 3:\n",
    "            user_train_ratings.append(1)\n",
    "        else:\n",
    "            user_train_ratings.append(0)\n",
    "    sasrec_train_dict['history_rating'].append(user_train_ratings[:-1])\n",
    "    sasrec_train_dict['item_id'].append(user_train_dict[user][-1])\n",
    "    sasrec_train_dict['rating'].append(user_train_ratings[-1])\n",
    "    sasrec_train_dict['timestamp'].append(0)\n",
    "    # print(\"sasrec_train_dict:\", sasrec_train_dict)\n",
    "\n",
    "    ### SASRec Valid Data\n",
    "    # print(\"SASRec Valid Data\")\n",
    "    # print(user_valid_dict[user])\n",
    "    sasrec_valid_dict['user'].append(user_int)\n",
    "    sasrec_valid_dict['history_item_id'].append(user_valid_dict[user][:-1])\n",
    "    user_valid_ratings = []\n",
    "    for item in user_valid_dict[user]:\n",
    "        item_rating = user_rating_dict[user_rating_dict['item'] == item]['rating'].values[0]\n",
    "        if item_rating > 3:\n",
    "            user_valid_ratings.append(1)\n",
    "        else:\n",
    "            user_valid_ratings.append(0)\n",
    "    sasrec_valid_dict['history_rating'].append(user_valid_ratings[:-1])\n",
    "    sasrec_valid_dict['item_id'].append(user_valid_dict[user][-1])\n",
    "    sasrec_valid_dict['rating'].append(user_valid_ratings[-1])\n",
    "    sasrec_valid_dict['timestamp'].append(0)\n",
    "    # print(\"sasrec_valid_dict:\", sasrec_valid_dict)\n",
    "\n",
    "    ### SASRec Test Data\n",
    "    # print(\"SASRec Test Data\")\n",
    "    # print(user_test_dict[user])\n",
    "    sasrec_test_dict['user'].append(user_int)\n",
    "    sasrec_test_dict['history_item_id'].append(user_test_dict[user][:-1])\n",
    "    user_test_ratings = []\n",
    "    for item in user_test_dict[user]:\n",
    "        # print(item)\n",
    "        item_rating = user_rating_dict[user_rating_dict['item'] == item]['rating'].values[0]\n",
    "        if item_rating > 3:\n",
    "            user_test_ratings.append(1)\n",
    "        else:\n",
    "            user_test_ratings.append(0)\n",
    "    sasrec_test_dict['history_rating'].append(user_test_ratings[:-1])\n",
    "    sasrec_test_dict['item_id'].append(user_test_dict[user][-1])\n",
    "    sasrec_test_dict['rating'].append(user_test_ratings[-1])\n",
    "    sasrec_test_dict['timestamp'].append(0)\n",
    "    # print(\"sasrec_test_dict:\", sasrec_test_dict)\n",
    "    # if cnt == 10:\n",
    "    # break"
   ]
  },
  {
   "cell_type": "code",
   "execution_count": 22,
   "id": "2d23e481-429b-4b3d-bb65-62de820adf8d",
   "metadata": {},
   "outputs": [
    {
     "name": "stdout",
     "output_type": "stream",
     "text": [
      "sasrec_train_dict: 1273\n",
      "\n",
      "    sasrec_valid_dict: 1273\n",
      "\n",
      "    sasrec_test_dict: 1273\n",
      "\n",
      "    \n"
     ]
    }
   ],
   "source": [
    "print(f\"\"\"sasrec_train_dict: {len(sasrec_train_dict['user'])}\\n\n",
    "    sasrec_valid_dict: {len(sasrec_valid_dict['user'])}\\n\n",
    "    sasrec_test_dict: {len(sasrec_test_dict['user'])}\\n\n",
    "    \"\"\")"
   ]
  },
  {
   "cell_type": "markdown",
   "id": "7d71368a-eeea-4aa0-a283-171e47e5378e",
   "metadata": {},
   "source": [
    "### Saving files"
   ]
  },
  {
   "cell_type": "code",
   "execution_count": 23,
   "id": "d4ddde8d-dde0-4851-9b94-5f5917987d21",
   "metadata": {},
   "outputs": [],
   "source": [
    "def save_to_csv(path, data_dict):\n",
    "    with open(path, 'w+', newline='') as file:\n",
    "        writer = csv.DictWriter(file, fieldnames=data_dict.keys())\n",
    "        # Write header\n",
    "        writer.writeheader()\n",
    "        # Write data rows\n",
    "        for i in range(len(data_dict['user'])):\n",
    "            row = {key: data_dict[key][i] for key in data_dict.keys()}\n",
    "            writer.writerow(row)\n",
    "    print(\"CSV file created successfully.\")"
   ]
  },
  {
   "cell_type": "code",
   "execution_count": 25,
   "id": "f8f37e53-c420-47fd-a55d-76aedf44e0d6",
   "metadata": {},
   "outputs": [
    {
     "name": "stdout",
     "output_type": "stream",
     "text": [
      "CSV file created successfully.\n",
      "CSV file created successfully.\n",
      "CSV file created successfully.\n"
     ]
    }
   ],
   "source": [
    "train_data_path = './final_data/fashion/train.csv'\n",
    "valid_data_path = './final_data/fashion/valid.csv'\n",
    "test_data_path = './final_data/fashion/test.csv'\n",
    "\n",
    "save_to_csv(train_data_path, sasrec_train_dict)\n",
    "save_to_csv(valid_data_path, sasrec_valid_dict)\n",
    "save_to_csv(test_data_path, sasrec_test_dict)"
   ]
  },
  {
   "cell_type": "code",
   "execution_count": null,
   "id": "61c77ff5-607f-4b62-8949-7f20b7192872",
   "metadata": {},
   "outputs": [],
   "source": []
  }
 ],
 "metadata": {
  "kernelspec": {
   "display_name": "Python 3 (ipykernel)",
   "language": "python",
   "name": "python3"
  },
  "language_info": {
   "codemirror_mode": {
    "name": "ipython",
    "version": 3
   },
   "file_extension": ".py",
   "mimetype": "text/x-python",
   "name": "python",
   "nbconvert_exporter": "python",
   "pygments_lexer": "ipython3",
   "version": "3.9.18"
  }
 },
 "nbformat": 4,
 "nbformat_minor": 5
}
