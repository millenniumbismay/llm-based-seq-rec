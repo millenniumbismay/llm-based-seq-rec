{
 "cells": [
  {
   "cell_type": "code",
   "execution_count": 1,
   "id": "1adf3328-1917-4107-8fe3-9fcbb462e279",
   "metadata": {},
   "outputs": [],
   "source": [
    "import pandas as pd\n",
    "import numpy as np\n",
    "import os\n",
    "import json\n",
    "import pickle\n",
    "from collections import defaultdict\n",
    "from datetime import datetime\n",
    "import openai\n",
    "import requests\n",
    "from tenacity import retry, wait_random_exponential, stop_after_attempt\n",
    "from termcolor import colored\n",
    "openai.api_key = os.environ.get('OPENAI_API_KEY')"
   ]
  },
  {
   "cell_type": "code",
   "execution_count": 2,
   "id": "d1515bab-14ca-4967-8d5e-f4e686707515",
   "metadata": {},
   "outputs": [],
   "source": [
    "user_test_path = '../beauty_data/processed_data/user_test.json'\n",
    "user_valid_path = '../beauty_data/processed_data/user_valid.json'\n",
    "user_train_path = '../beauty_data/processed_data/user_train.json'"
   ]
  },
  {
   "cell_type": "code",
   "execution_count": 3,
   "id": "f850e468-bf69-4b6d-8c71-f41a2af5f28b",
   "metadata": {},
   "outputs": [
    {
     "name": "stdout",
     "output_type": "stream",
     "text": [
      "624\n"
     ]
    }
   ],
   "source": [
    "with open(user_test_path, 'rb') as f:\n",
    "    user_test_dict = json.load(f)\n",
    "print(len(user_test_dict))"
   ]
  },
  {
   "cell_type": "code",
   "execution_count": 4,
   "id": "e15cf520-ecd1-492f-b990-5142bb43e6fc",
   "metadata": {},
   "outputs": [
    {
     "name": "stdout",
     "output_type": "stream",
     "text": [
      "624\n"
     ]
    }
   ],
   "source": [
    "with open(user_valid_path, 'rb') as f:\n",
    "    user_valid_dict = json.load(f)\n",
    "print(len(user_valid_dict))"
   ]
  },
  {
   "cell_type": "code",
   "execution_count": 5,
   "id": "94bcf5f5-32d0-486c-869f-3ae21010a2fe",
   "metadata": {},
   "outputs": [
    {
     "name": "stdout",
     "output_type": "stream",
     "text": [
      "624\n"
     ]
    }
   ],
   "source": [
    "with open(user_train_path, 'rb') as f:\n",
    "    user_train_dict = json.load(f)\n",
    "print(len(user_train_dict))"
   ]
  },
  {
   "cell_type": "code",
   "execution_count": 6,
   "id": "4c94a8f0-eb62-45bd-ada1-434a72c0de03",
   "metadata": {},
   "outputs": [
    {
     "name": "stdout",
     "output_type": "stream",
     "text": [
      "[7, 8, 9, 9, 10]\n",
      "[7, 8, 9, 9, 10, 11]\n",
      "[8, 9, 9, 10, 11, 12]\n"
     ]
    }
   ],
   "source": [
    "user_id = '1'\n",
    "print(user_train_dict[user_id])\n",
    "print(user_valid_dict[user_id])\n",
    "print(user_test_dict[user_id])"
   ]
  },
  {
   "cell_type": "code",
   "execution_count": 7,
   "id": "5670b298-3f28-421a-a2b8-beb607bb180b",
   "metadata": {},
   "outputs": [
    {
     "data": {
      "text/plain": [
       "5"
      ]
     },
     "execution_count": 7,
     "metadata": {},
     "output_type": "execute_result"
    }
   ],
   "source": [
    "len(user_train_dict[user_id])"
   ]
  },
  {
   "cell_type": "code",
   "execution_count": 8,
   "id": "615b7636",
   "metadata": {},
   "outputs": [
    {
     "name": "stdout",
     "output_type": "stream",
     "text": [
      "1216\n"
     ]
    }
   ],
   "source": [
    "item_information_path = '../beauty_data/processed_data/processed_item_information.json'\n",
    "with open(item_information_path, 'r') as f:\n",
    "    item_information_dict = json.load(f)\n",
    "print(len(item_information_dict))"
   ]
  },
  {
   "cell_type": "code",
   "execution_count": 9,
   "id": "860341c1",
   "metadata": {},
   "outputs": [
    {
     "name": "stdout",
     "output_type": "stream",
     "text": [
      "{'title': 'Fresh Eau De Parfum EDP - Fig Apricot 3.4oz (100ml)', 'brand': 'Fresh', 'price': '', 'description': '\\n\\nProduct Description: KMRN Fresh Line is a hypoallergenic fragrance, praised for its pleasant scent and ability to generate compliments. However, it may not offer a wide range of scents.'}\n"
     ]
    }
   ],
   "source": [
    "print(item_information_dict['0'])"
   ]
  },
  {
   "cell_type": "code",
   "execution_count": 10,
   "id": "b90be7ee-0d13-4180-b3f6-351ce3e0bf59",
   "metadata": {},
   "outputs": [
    {
     "data": {
      "text/html": [
       "<div>\n",
       "<style scoped>\n",
       "    .dataframe tbody tr th:only-of-type {\n",
       "        vertical-align: middle;\n",
       "    }\n",
       "\n",
       "    .dataframe tbody tr th {\n",
       "        vertical-align: top;\n",
       "    }\n",
       "\n",
       "    .dataframe thead th {\n",
       "        text-align: right;\n",
       "    }\n",
       "</style>\n",
       "<table border=\"1\" class=\"dataframe\">\n",
       "  <thead>\n",
       "    <tr style=\"text-align: right;\">\n",
       "      <th></th>\n",
       "      <th>item</th>\n",
       "      <th>user</th>\n",
       "      <th>rating</th>\n",
       "      <th>timestamp</th>\n",
       "    </tr>\n",
       "  </thead>\n",
       "  <tbody>\n",
       "    <tr>\n",
       "      <th>0</th>\n",
       "      <td>0</td>\n",
       "      <td>0</td>\n",
       "      <td>4.0</td>\n",
       "      <td>1155081600</td>\n",
       "    </tr>\n",
       "    <tr>\n",
       "      <th>1</th>\n",
       "      <td>1</td>\n",
       "      <td>0</td>\n",
       "      <td>5.0</td>\n",
       "      <td>1268697600</td>\n",
       "    </tr>\n",
       "    <tr>\n",
       "      <th>2</th>\n",
       "      <td>2</td>\n",
       "      <td>0</td>\n",
       "      <td>5.0</td>\n",
       "      <td>1404604800</td>\n",
       "    </tr>\n",
       "    <tr>\n",
       "      <th>3</th>\n",
       "      <td>3</td>\n",
       "      <td>0</td>\n",
       "      <td>5.0</td>\n",
       "      <td>1404604800</td>\n",
       "    </tr>\n",
       "    <tr>\n",
       "      <th>4</th>\n",
       "      <td>4</td>\n",
       "      <td>0</td>\n",
       "      <td>5.0</td>\n",
       "      <td>1404604800</td>\n",
       "    </tr>\n",
       "  </tbody>\n",
       "</table>\n",
       "</div>"
      ],
      "text/plain": [
       "   item  user  rating   timestamp\n",
       "0     0     0     4.0  1155081600\n",
       "1     1     0     5.0  1268697600\n",
       "2     2     0     5.0  1404604800\n",
       "3     3     0     5.0  1404604800\n",
       "4     4     0     5.0  1404604800"
      ]
     },
     "execution_count": 10,
     "metadata": {},
     "output_type": "execute_result"
    }
   ],
   "source": [
    "ratings_path = '../beauty_data/processed_data/ratings.csv'\n",
    "ratings_df = pd.read_csv(ratings_path)\n",
    "ratings_df.head()"
   ]
  },
  {
   "cell_type": "code",
   "execution_count": 11,
   "id": "7dd23a16",
   "metadata": {},
   "outputs": [],
   "source": [
    "# def get_item_description(item_information):\n",
    "#     item_details = \"\"\n",
    "#     if 'title' in item_information:\n",
    "#         item_details += item_information['title']\n",
    "#     if 'brand' in item_information:\n",
    "#         item_details += f\" Brand: {item_information['brand']}\"\n",
    "#     if 'price' in item_information:\n",
    "#         item_details += f\" Price: {item_information['price']}\"\n",
    "#     if 'description' in item_information:\n",
    "#         item_details += f\" Description: {item_information['description']}\"\n",
    "#     return item_details"
   ]
  },
  {
   "cell_type": "code",
   "execution_count": 11,
   "id": "6511a0e2",
   "metadata": {},
   "outputs": [
    {
     "name": "stdout",
     "output_type": "stream",
     "text": [
      "User: 64 Item: 229 error index 0 is out of bounds for axis 0 with size 0\n",
      "User: 215 Item: 399 error index 0 is out of bounds for axis 0 with size 0\n",
      "User: 274 Item: 399 error index 0 is out of bounds for axis 0 with size 0\n",
      "User: 401 Item: 880 error index 0 is out of bounds for axis 0 with size 0\n",
      "User: 427 Item: 399 error index 0 is out of bounds for axis 0 with size 0\n"
     ]
    }
   ],
   "source": [
    "train_data = []\n",
    "instruction = \"Given the user preference and unpreference, identify whether the user will like the target item by answering \\\"Yes.\\\" or \\\"No.\\\".\"\n",
    "# print(instruction)\n",
    "cnt = 0\n",
    "for user, item_list in user_train_dict.items():  \n",
    "    # print(user, item_list)\n",
    "    user_rating_dict = ratings_df[ratings_df['user'] == int(user)]\n",
    "    user_dict = dict()\n",
    "    user_dict[\"instruction\"] = instruction\n",
    "    cnt += 1\n",
    "    liked_items = []\n",
    "    disliked_items = []\n",
    "\n",
    "    for item in item_list[:-1]:\n",
    "        try:\n",
    "            user_item_rating = user_rating_dict[user_rating_dict['item'] == item]['rating'].values[0]\n",
    "        except Exception as e:\n",
    "            print(f\"User: {user} Item: {item} error {e}\")\n",
    "            continue\n",
    "        if user_item_rating > 3:\n",
    "            liked_items.append(item)\n",
    "        else:\n",
    "            disliked_items.append(item)\n",
    "    \n",
    "    input = \"\"\n",
    "    if len(liked_items) > 0:\n",
    "        input += \"\\nUser Preference:\"\n",
    "        for item in liked_items:\n",
    "            item_title = item_information_dict[str(item)]['title']\n",
    "            input += f\"\\\"{item_title}\\\", \"\n",
    "    if len(disliked_items) > 0:\n",
    "        input += \"\\nUser Unpreference:\"\n",
    "        for item in liked_items:\n",
    "            item_title = item_information_dict[str(item)]['title']\n",
    "            input += f\"\\\"{item_title}\\\", \"\n",
    "    if str(item_list[-1]) not in item_information_dict:\n",
    "        continue\n",
    "    target_item = item_information_dict[str(item_list[-1])]['title']\n",
    "    input += f\"\\n Whether the user will like the target movie \\\"{target_item}\\\"?\"\n",
    "    # print(input)\n",
    "    user_dict[\"input\"] = input\n",
    "    if user_rating_dict[user_rating_dict['item'] == item_list[-1]]['rating'].values[0] > 3:\n",
    "        user_dict[\"output\"] = \"Yes.\"\n",
    "    else:\n",
    "        user_dict[\"output\"] = \"No.\"\n",
    "    train_data.append(user_dict)"
   ]
  },
  {
   "cell_type": "code",
   "execution_count": 12,
   "id": "758deea7",
   "metadata": {},
   "outputs": [
    {
     "name": "stdout",
     "output_type": "stream",
     "text": [
      "624\n"
     ]
    }
   ],
   "source": [
    "print(len(train_data))"
   ]
  },
  {
   "cell_type": "code",
   "execution_count": 13,
   "id": "1d4466fc",
   "metadata": {},
   "outputs": [
    {
     "data": {
      "text/plain": [
       "{'instruction': 'Given the user preference and unpreference, identify whether the user will like the target item by answering \"Yes.\" or \"No.\".',\n",
       " 'input': '\\nUser Preference:\"Fresh Eau De Parfum EDP - Fig Apricot 3.4oz (100ml)\", \"Monoi - Monoi Pitate Jasmine 4 fl oz\", \"Yardley By Yardley Of London Unisexs Lay It On Thick Hand &amp; Foot Cream 5.3 Oz\", \"Fruits &amp; Passion Blue Refreshing Shower Gel - 6.7 fl. oz.\", \"Bonne Bell Smackers Bath and Body Starburst Collection\", \\n Whether the user will like the target movie \"Bath &amp; Body Works Ile De Tahiti Moana Coconut Vanille Moana Body Wash with Tamanoi 8.5 oz\"?',\n",
       " 'output': 'Yes.'}"
      ]
     },
     "execution_count": 13,
     "metadata": {},
     "output_type": "execute_result"
    }
   ],
   "source": [
    "train_data[0]"
   ]
  },
  {
   "cell_type": "code",
   "execution_count": 14,
   "id": "a02c76e7",
   "metadata": {},
   "outputs": [
    {
     "name": "stdout",
     "output_type": "stream",
     "text": [
      "70.01442307692308\n"
     ]
    }
   ],
   "source": [
    "total_len = 0\n",
    "for data in train_data:\n",
    "    total_len += len(data['input'].split(' '))\n",
    "print(total_len/len(train_data))"
   ]
  },
  {
   "cell_type": "code",
   "execution_count": 15,
   "id": "a9c7d7b6",
   "metadata": {},
   "outputs": [
    {
     "name": "stdout",
     "output_type": "stream",
     "text": [
      "594\n"
     ]
    }
   ],
   "source": [
    "# cnt = 0\n",
    "cleaned_train_data = []\n",
    "for data in train_data:\n",
    "    if len(data['input'].split(' ')) <= 120:\n",
    "        cleaned_train_data.append(data)\n",
    "print(len(cleaned_train_data))"
   ]
  },
  {
   "cell_type": "code",
   "execution_count": 16,
   "id": "ba4c3398",
   "metadata": {},
   "outputs": [
    {
     "name": "stdout",
     "output_type": "stream",
     "text": [
      "436.71153846153845\n"
     ]
    }
   ],
   "source": [
    "total_len = 0\n",
    "for data in train_data:\n",
    "    total_len += len(data['input'])\n",
    "print(total_len/len(train_data))"
   ]
  },
  {
   "cell_type": "code",
   "execution_count": 17,
   "id": "598f55f9",
   "metadata": {},
   "outputs": [
    {
     "name": "stdout",
     "output_type": "stream",
     "text": [
      "411.05387205387206\n"
     ]
    }
   ],
   "source": [
    "total_len = 0\n",
    "for data in cleaned_train_data:\n",
    "    total_len += len(data['input'])\n",
    "print(total_len/len(cleaned_train_data))"
   ]
  },
  {
   "cell_type": "code",
   "execution_count": 18,
   "id": "999e1f1d-54af-498a-9dee-4ad29706bb9c",
   "metadata": {},
   "outputs": [
    {
     "name": "stdout",
     "output_type": "stream",
     "text": [
      "User: 64 Item: 229 error index 0 is out of bounds for axis 0 with size 0\n",
      "User: 215 Item: 399 error index 0 is out of bounds for axis 0 with size 0\n",
      "User: 401 Item: 880 error index 0 is out of bounds for axis 0 with size 0\n",
      "User: 427 Item: 399 error index 0 is out of bounds for axis 0 with size 0\n"
     ]
    }
   ],
   "source": [
    "valid_data = []\n",
    "instruction = \"Given the user preference and unpreference, identify whether the user will like the target item by answering \\\"Yes.\\\" or \\\"No.\\\".\"\n",
    "# print(instruction)\n",
    "cnt = 0\n",
    "for user, item_list in user_valid_dict.items():  \n",
    "    # print(user, item_list)\n",
    "    user_rating_dict = ratings_df[ratings_df['user'] == int(user)]\n",
    "    user_dict = dict()\n",
    "    user_dict[\"instruction\"] = instruction\n",
    "    cnt += 1\n",
    "    liked_items = []\n",
    "    disliked_items = []\n",
    "\n",
    "    for item in item_list[:-1]:\n",
    "        try:\n",
    "            user_item_rating = user_rating_dict[user_rating_dict['item'] == item]['rating'].values[0]\n",
    "        except Exception as e:\n",
    "            print(f\"User: {user} Item: {item} error {e}\")\n",
    "            continue\n",
    "        if user_item_rating > 3:\n",
    "            liked_items.append(item)\n",
    "        else:\n",
    "            disliked_items.append(item)\n",
    "    \n",
    "    input = \"\"\n",
    "    if len(liked_items) > 0:\n",
    "        input += \"\\nUser Preference:\"\n",
    "        for item in liked_items:\n",
    "            item_title = item_information_dict[str(item)]['title']\n",
    "            input += f\"\\\"{item_title}\\\", \"\n",
    "    if len(disliked_items) > 0:\n",
    "        input += \"\\nUser Unpreference:\"\n",
    "        for item in liked_items:\n",
    "            item_title = item_information_dict[str(item)]['title']\n",
    "            input += f\"\\\"{item_title}\\\", \"\n",
    "    \n",
    "    if str(item_list[-1]) not in item_information_dict:\n",
    "        continue\n",
    "    target_item = item_information_dict[str(item_list[-1])]['title']\n",
    "    input += f\"\\n Whether the user will like the target movie \\\"{target_item}\\\"?\"\n",
    "    # print(input)\n",
    "    user_dict[\"input\"] = input\n",
    "    if user_rating_dict[user_rating_dict['item'] == item_list[-1]]['rating'].values[0] > 3:\n",
    "        user_dict[\"output\"] = \"Yes.\"\n",
    "    else:\n",
    "        user_dict[\"output\"] = \"No.\"\n",
    "    valid_data.append(user_dict)"
   ]
  },
  {
   "cell_type": "code",
   "execution_count": 19,
   "id": "dbfa63c9-d92e-45d1-94b8-27a708dbcfaa",
   "metadata": {},
   "outputs": [
    {
     "name": "stdout",
     "output_type": "stream",
     "text": [
      "81.78846153846153\n"
     ]
    }
   ],
   "source": [
    "total_len = 0\n",
    "for data in valid_data:\n",
    "    total_len += len(data['input'].split(' '))\n",
    "print(total_len/len(valid_data))"
   ]
  },
  {
   "cell_type": "code",
   "execution_count": 20,
   "id": "81ca650b-c848-48ca-9c81-96467b315f0b",
   "metadata": {},
   "outputs": [
    {
     "name": "stdout",
     "output_type": "stream",
     "text": [
      "576\n"
     ]
    }
   ],
   "source": [
    "cleaned_valid_data = []\n",
    "for data in valid_data:\n",
    "    if len(data['input'].split(' ')) <= 120:\n",
    "        cleaned_valid_data.append(data)\n",
    "print(len(cleaned_valid_data))"
   ]
  },
  {
   "cell_type": "code",
   "execution_count": 21,
   "id": "28645d1b-762f-44db-ba23-31763ffc118b",
   "metadata": {},
   "outputs": [
    {
     "name": "stdout",
     "output_type": "stream",
     "text": [
      "{'instruction': 'Given the user preference and unpreference, identify whether the user will like the target item by answering \"Yes.\" or \"No.\".', 'input': '\\nUser Preference:\"Pre de Provence Artisanal French Soap Bar Enriched with Shea Butter, Quad-Milled For A Smooth &amp; Rich Lather (150 grams) - Raspberry\", \"essie nail polish, cuticle care, primers and finishers\", \"essie nail polish, cuticle care, primers and finishers\", \\nUser Unpreference:\"Pre de Provence Artisanal French Soap Bar Enriched with Shea Butter, Quad-Milled For A Smooth &amp; Rich Lather (150 grams) - Raspberry\", \"essie nail polish, cuticle care, primers and finishers\", \"essie nail polish, cuticle care, primers and finishers\", \\n Whether the user will like the target movie \"Utopia Care Stainless Steel Fingernail Clipper\"?', 'output': 'Yes.'}\n",
      "{'instruction': 'Given the user preference and unpreference, identify whether the user will like the target item by answering \"Yes.\" or \"No.\".', 'input': '\\nUser Preference:\"Pre de Provence Artisanal French Soap Bar Enriched with Shea Butter, Quad-Milled For A Smooth &amp; Rich Lather (150 grams) - Raspberry\", \"essie nail polish, cuticle care, primers and finishers\", \"essie nail polish, cuticle care, primers and finishers\", \"Utopia Care Stainless Steel Fingernail Clipper\", \\nUser Unpreference:\"Pre de Provence Artisanal French Soap Bar Enriched with Shea Butter, Quad-Milled For A Smooth &amp; Rich Lather (150 grams) - Raspberry\", \"essie nail polish, cuticle care, primers and finishers\", \"essie nail polish, cuticle care, primers and finishers\", \"Utopia Care Stainless Steel Fingernail Clipper\", \\n Whether the user will like the target movie \"Pre de Provence Maison French Dried Lavender Blossoms for Fragrance\"?', 'output': 'Yes.'}\n"
     ]
    }
   ],
   "source": [
    "print(cleaned_train_data[1])\n",
    "print(cleaned_valid_data[1])"
   ]
  },
  {
   "cell_type": "code",
   "execution_count": 22,
   "id": "ef2cea93-4fe8-4043-816c-c897568b30f1",
   "metadata": {},
   "outputs": [
    {
     "name": "stdout",
     "output_type": "stream",
     "text": [
      "User: 64 Item: 229 error index 0 is out of bounds for axis 0 with size 0\n",
      "User: 215 Item: 399 error index 0 is out of bounds for axis 0 with size 0\n",
      "User: 401 Item: 880 error index 0 is out of bounds for axis 0 with size 0\n",
      "User: 427 Item: 399 error index 0 is out of bounds for axis 0 with size 0\n"
     ]
    }
   ],
   "source": [
    "test_data = []\n",
    "instruction = \"Given the user preference and unpreference, identify whether the user will like the target item by answering \\\"Yes.\\\" or \\\"No.\\\".\"\n",
    "# print(instruction)\n",
    "cnt = 0\n",
    "for user, item_list in user_test_dict.items():  \n",
    "    # print(user, item_list)\n",
    "    user_rating_dict = ratings_df[ratings_df['user'] == int(user)]\n",
    "    user_dict = dict()\n",
    "    user_dict[\"instruction\"] = instruction\n",
    "    cnt += 1\n",
    "    liked_items = []\n",
    "    disliked_items = []\n",
    "\n",
    "    for item in item_list[:-1]:\n",
    "        try:\n",
    "            user_item_rating = user_rating_dict[user_rating_dict['item'] == item]['rating'].values[0]\n",
    "        except Exception as e:\n",
    "            print(f\"User: {user} Item: {item} error {e}\")\n",
    "            continue\n",
    "        if user_item_rating > 3:\n",
    "            liked_items.append(item)\n",
    "        else:\n",
    "            disliked_items.append(item)\n",
    "    \n",
    "    input = \"\"\n",
    "    if len(liked_items) > 0:\n",
    "        input += \"\\nUser Preference:\"\n",
    "        for item in liked_items:\n",
    "            item_title = item_information_dict[str(item)]['title']\n",
    "            input += f\"\\\"{item_title}\\\", \"\n",
    "    if len(disliked_items) > 0:\n",
    "        input += \"\\nUser Unpreference:\"\n",
    "        for item in liked_items:\n",
    "            item_title = item_information_dict[str(item)]['title']\n",
    "            input += f\"\\\"{item_title}\\\", \"\n",
    "    \n",
    "    if str(item_list[-1]) not in item_information_dict:\n",
    "        continue\n",
    "    target_item = item_information_dict[str(item_list[-1])]['title']\n",
    "    input += f\"\\n Whether the user will like the target movie \\\"{target_item}\\\"?\"\n",
    "    # print(input)\n",
    "    user_dict[\"input\"] = input\n",
    "    if user_rating_dict[user_rating_dict['item'] == item_list[-1]]['rating'].values[0] > 3:\n",
    "        user_dict[\"output\"] = \"Yes.\"\n",
    "    else:\n",
    "        user_dict[\"output\"] = \"No.\"\n",
    "    test_data.append(user_dict)"
   ]
  },
  {
   "cell_type": "code",
   "execution_count": 24,
   "id": "cb685d0a-b736-4159-8608-040d544b495b",
   "metadata": {},
   "outputs": [
    {
     "name": "stdout",
     "output_type": "stream",
     "text": [
      "91.7315112540193\n"
     ]
    }
   ],
   "source": [
    "total_len = 0\n",
    "for data in test_data:\n",
    "    total_len += len(data['input'].split(' '))\n",
    "print(total_len/len(test_data))"
   ]
  },
  {
   "cell_type": "code",
   "execution_count": 25,
   "id": "151af5fc-d5cf-4900-a4ee-04bf403d4eb9",
   "metadata": {},
   "outputs": [
    {
     "name": "stdout",
     "output_type": "stream",
     "text": [
      "622\n",
      "559\n"
     ]
    }
   ],
   "source": [
    "print(len(test_data))\n",
    "cleaned_test_data = []\n",
    "for data in test_data:\n",
    "    if len(data['input'].split(' ')) <= 120:\n",
    "        cleaned_test_data.append(data)\n",
    "print(len(cleaned_test_data))"
   ]
  },
  {
   "cell_type": "code",
   "execution_count": 26,
   "id": "83a870ec-945f-4f58-b6bf-dc13a1cefb97",
   "metadata": {},
   "outputs": [
    {
     "name": "stdout",
     "output_type": "stream",
     "text": [
      "594\n",
      "559\n"
     ]
    }
   ],
   "source": [
    "print(len(cleaned_train_data))\n",
    "# print(len(cleaned_valid_data))\n",
    "print(len(cleaned_test_data))"
   ]
  },
  {
   "cell_type": "code",
   "execution_count": 29,
   "id": "1778ac75-a508-471d-a340-1bf2ca70d29c",
   "metadata": {},
   "outputs": [
    {
     "name": "stdout",
     "output_type": "stream",
     "text": [
      "{'instruction': 'Given the user preference and unpreference, identify whether the user will like the target item by answering \"Yes.\" or \"No.\".', 'input': '\\nUser Preference:\"Allegra K Women Boat Neck Batwing Sleeves Pullover Tops Fuchsia M\", \"Allegra K Woman Boat Neck Button Decor Front Batwing Tunic Top XL Dark Blue\", \"Allegra K Women Sleeveless Sheer Mesh Yoke Mini Skater Dress L Black\", \\nUser Unpreference:\"Allegra K Women Boat Neck Batwing Sleeves Pullover Tops Fuchsia M\", \"Allegra K Woman Boat Neck Button Decor Front Batwing Tunic Top XL Dark Blue\", \"Allegra K Women Sleeveless Sheer Mesh Yoke Mini Skater Dress L Black\", \\n Whether the user will like the target movie \"DJT Cowl Neck Button Embellished Ruched Long Sleeve Blouse Top Grey XL\"?', 'output': 'No.'}\n",
      "{'instruction': 'Given the user preference and unpreference, identify whether the user will like the target item by answering \"Yes.\" or \"No.\".', 'input': '\\nUser Preference:\"Allegra K Woman Boat Neck Button Decor Front Batwing Tunic Top XL Dark Blue\", \"Allegra K Women Sleeveless Sheer Mesh Yoke Mini Skater Dress L Black\", \\nUser Unpreference:\"Allegra K Woman Boat Neck Button Decor Front Batwing Tunic Top XL Dark Blue\", \"Allegra K Women Sleeveless Sheer Mesh Yoke Mini Skater Dress L Black\", \\n Whether the user will like the target movie \"DJT Lady Scoop Neck Long Sleeve Stretchy Irregular Hem Casual Top Blouse #1 Black\"?', 'output': 'No.'}\n",
      "{'instruction': 'Given the user preference and unpreference, identify whether the user will like the target item by answering \"Yes.\" or \"No.\".', 'input': '\\nUser Preference:\"Allegra K Woman Boat Neck Button Decor Front Batwing Tunic Top XL Dark Blue\", \"Allegra K Women Sleeveless Sheer Mesh Yoke Mini Skater Dress L Black\", \\nUser Unpreference:\"Allegra K Woman Boat Neck Button Decor Front Batwing Tunic Top XL Dark Blue\", \"Allegra K Women Sleeveless Sheer Mesh Yoke Mini Skater Dress L Black\", \\n Whether the user will like the target movie \"Susenstone Women Beach Barefoot Sandal Foot Tassel Jewelry Anklet\"?', 'output': 'No.'}\n"
     ]
    }
   ],
   "source": [
    "print(cleaned_train_data[0])\n",
    "print(cleaned_valid_data[0])\n",
    "print(cleaned_test_data[0])"
   ]
  },
  {
   "cell_type": "code",
   "execution_count": 27,
   "id": "31734bd3-2dc6-4ecd-8e18-b78c8cfee039",
   "metadata": {
    "scrolled": true
   },
   "outputs": [
    {
     "name": "stdout",
     "output_type": "stream",
     "text": [
      "1170 [{'instruction': 'Given the user preference and unpreference, identify whether the user will like the target item by answering \"Yes.\" or \"No.\".', 'input': '\\nUser Preference:\"Fresh Eau De Parfum EDP - Fig Apricot 3.4oz (100ml)\", \"Monoi - Monoi Pitate Jasmine 4 fl oz\", \"Yardley By Yardley Of London Unisexs Lay It On Thick Hand &amp; Foot Cream 5.3 Oz\", \"Fruits &amp; Passion Blue Refreshing Shower Gel - 6.7 fl. oz.\", \"Bonne Bell Smackers Bath and Body Starburst Collection\", \\n Whether the user will like the target movie \"Bath &amp; Body Works Ile De Tahiti Moana Coconut Vanille Moana Body Wash with Tamanoi 8.5 oz\"?', 'output': 'Yes.'}, {'instruction': 'Given the user preference and unpreference, identify whether the user will like the target item by answering \"Yes.\" or \"No.\".', 'input': '\\nUser Preference:\"Pre de Provence Artisanal French Soap Bar Enriched with Shea Butter, Quad-Milled For A Smooth &amp; Rich Lather (150 grams) - Raspberry\", \"essie nail polish, cuticle care, primers and finishers\", \"essie nail polish, cuticle care, primers and finishers\", \\nUser Unpreference:\"Pre de Provence Artisanal French Soap Bar Enriched with Shea Butter, Quad-Milled For A Smooth &amp; Rich Lather (150 grams) - Raspberry\", \"essie nail polish, cuticle care, primers and finishers\", \"essie nail polish, cuticle care, primers and finishers\", \\n Whether the user will like the target movie \"Utopia Care Stainless Steel Fingernail Clipper\"?', 'output': 'Yes.'}, {'instruction': 'Given the user preference and unpreference, identify whether the user will like the target item by answering \"Yes.\" or \"No.\".', 'input': '\\nUser Preference:\"Philips Norelco QC5055 Power Hair Clipper\", \"Toni&amp;Guy Glamour Volume Plumping Whip, 2.82 Fluid Ounce\", \"Fekkai Full Blown Aerosol Foam Cond Us 6.6 Oz, 6.660-Fluid Ounce\", \"SK-II Cellumination Aurabright Illuminating Essence\", \\n Whether the user will like the target movie \"Braun Clean &amp; Renew Refill Cartridges CCR - 2 Count (Packaging May Vary)\"?', 'output': 'Yes.'}]\n",
      "624 624 559\n"
     ]
    }
   ],
   "source": [
    "train_valid_data = cleaned_train_data.copy()\n",
    "train_valid_data.extend(cleaned_valid_data)\n",
    "print(len(train_valid_data), train_valid_data[:3])\n",
    "print(len(train_data), len(valid_data), len(cleaned_test_data))"
   ]
  },
  {
   "cell_type": "markdown",
   "id": "3103072d-85c2-4bea-93cf-e4805917f4d9",
   "metadata": {},
   "source": [
    "### Train Valid split 70:30"
   ]
  },
  {
   "cell_type": "code",
   "execution_count": 28,
   "id": "8e23602f-f910-4237-a501-4d6514ceb3b2",
   "metadata": {},
   "outputs": [
    {
     "name": "stdout",
     "output_type": "stream",
     "text": [
      "819\n"
     ]
    }
   ],
   "source": [
    "import random\n",
    "random_seed = 42\n",
    "random.seed(random_seed)\n",
    "random.shuffle(train_valid_data)\n",
    "\n",
    "train_valid_split = 0.7\n",
    "split_index = int(train_valid_split*len(train_valid_data))\n",
    "print(split_index)"
   ]
  },
  {
   "cell_type": "code",
   "execution_count": 29,
   "id": "053e586a-6c42-491b-80a3-93e23b77060b",
   "metadata": {},
   "outputs": [
    {
     "name": "stdout",
     "output_type": "stream",
     "text": [
      "Train Data:  819 [{'instruction': 'Given the user preference and unpreference, identify whether the user will like the target item by answering \"Yes.\" or \"No.\".', 'input': '\\nUser Preference:\"Yardley By Yardley Of London Unisexs Lay It On Thick Hand &amp; Foot Cream 5.3 Oz\", \"Fruits &amp; Passion Blue Refreshing Shower Gel - 6.7 fl. oz.\", \"Bonne Bell Smackers Bath and Body Starburst Collection\", \"Bath &amp; Body Works Ile De Tahiti Moana Coconut Vanille Moana Body Wash with Tamanoi 8.5 oz\", \\n Whether the user will like the target movie \"Bath &amp; Body Works Ile De Tahiti Moana Coconut Vanille Moana Body Wash with Tamanoi 8.5 oz\"?', 'output': 'Yes.'}, {'instruction': 'Given the user preference and unpreference, identify whether the user will like the target item by answering \"Yes.\" or \"No.\".', 'input': '\\nUser Preference:\"BeautyMe Blackhead and Pimple Remover Kit with 7 Surgical Extractor Tool\", \"Beard Trimmer Kit, 5 in 1 Multi-functional Body Groomer Kit of Mustache Trimmer, Nose Hair Trimmer and Precision Trimmer, Waterproof and Rechargeable Cordless (BT114S)\", \" Colgate Fluoride Toothpaste Strawberry Smash Liquid Gel 4.60 oz (Pack of 6) \", \"Colgate Kids Maximum Cavity Protection Pump Toothpaste - 4.4 ounce (12 Pack)\", \"Pre de Provence Artisanal French Soap Bar Enriched with Shea Butter, Quad-Milled For A Smooth &amp; Rich Lather (150 grams) - Raspberry\", \\n Whether the user will like the target movie \"Urban Spa Moisturizing Booties to Keep your Feet Smooth, Hydrated and Moisturized\"?', 'output': 'No.'}, {'instruction': 'Given the user preference and unpreference, identify whether the user will like the target item by answering \"Yes.\" or \"No.\".', 'input': '\\nUser Preference:\"Citre Shine Moisture Burst Shampoo - 16 fl oz\", \"Bonne Bell Smackers Bath and Body Starburst Collection\", \"Bath &amp; Body Works Ile De Tahiti Moana Coconut Vanille Moana Body Wash with Tamanoi 8.5 oz\", \"Bath &amp; Body Works Ile De Tahiti Moana Coconut Vanille Moana Body Wash with Tamanoi 8.5 oz\", \\n Whether the user will like the target movie \"Avalon Grapefruit and Geranium Smoothing Shampoo, 11 Ounce\"?', 'output': 'Yes.'}]\n",
      "Valid Data:  351 [{'instruction': 'Given the user preference and unpreference, identify whether the user will like the target item by answering \"Yes.\" or \"No.\".', 'input': '\\nUser Preference:\"Sannysis DIY Nail Art Image Stamp Stamping Plates Manicure Template (OM60)\", \"Susenstone&reg; Christmas DIY Image Stamp Stamping Plates Manicure Template Nail Art Plate\", \"Born Pretty Nail Art Stamping Template Image Plate Star Flower BP64\", \\n Whether the user will like the target movie \"Born Pretty Nail Art Stamping Plates Template Image Plate Sailors and Sea Sailing Theme BP33\"?', 'output': 'Yes.'}, {'instruction': 'Given the user preference and unpreference, identify whether the user will like the target item by answering \"Yes.\" or \"No.\".', 'input': '\\nUser Preference:\"Crest Premium White Strips, 28 Count\", \"Kiss My Face Exfoliating Face Wash Start Up, 4 Fluid Ounce\", \"Vitamin E Oil 100% Natural &amp; Organic Highest Quality Organic Vitamin E Oil (d-alpha-tocopherol) + Organic Coconut Oil+ Organic Jojoba+ 100% Natural Vitamin C. 15ML\", \"Essential Oil Blend Anti Aging Serum for Skin\", \"ZUM Zum Bar Anise Lavender, 3 Ounce\", \\n Whether the user will like the target movie \"Avalon Organics Vitamin C Renewal Creme, 2 oz\"?', 'output': 'Yes.'}, {'instruction': 'Given the user preference and unpreference, identify whether the user will like the target item by answering \"Yes.\" or \"No.\".', 'input': '\\nUser Preference:\"Yardley By Yardley Of London Unisexs Lay It On Thick Hand &amp; Foot Cream 5.3 Oz\", \"Fruits &amp; Passion Blue Refreshing Shower Gel - 6.7 fl. oz.\", \"Bonne Bell Smackers Bath and Body Starburst Collection\", \"Bath &amp; Body Works Ile De Tahiti Moana Coconut Vanille Moana Body Wash with Tamanoi 8.5 oz\", \"Bath &amp; Body Works Ile De Tahiti Moana Coconut Vanille Moana Body Wash with Tamanoi 8.5 oz\", \\n Whether the user will like the target movie \"Fantasy Britney Spears By Britney Spears Gift Set For Women Eau De Parfum Spray 1.7 Oz &amp; Body Souffle 1.7 Oz &amp; Shower Gel 1.7 Oz &amp; Bubble Bath 1.7 Oz\"?', 'output': 'Yes.'}]\n"
     ]
    }
   ],
   "source": [
    "new_train_data = train_valid_data[:split_index]\n",
    "new_valid_data = train_valid_data[split_index:]\n",
    "\n",
    "print(\"Train Data: \", len(new_train_data), new_train_data[:3])\n",
    "print(\"Valid Data: \", len(new_valid_data), new_valid_data[:3])"
   ]
  },
  {
   "cell_type": "markdown",
   "id": "baedd1d3-e959-4f87-8929-cfd3bf7e369f",
   "metadata": {},
   "source": [
    "### Storing as json"
   ]
  },
  {
   "cell_type": "code",
   "execution_count": 30,
   "id": "45455f6d-5a1a-463a-9732-8db83f03be70",
   "metadata": {},
   "outputs": [],
   "source": [
    "import json\n",
    "\n",
    "with open('./data/train.json', 'w') as train_file:\n",
    "    json.dump(new_train_data, train_file)\n",
    "\n",
    "with open('./data/valid.json', 'w') as valid_file:\n",
    "    json.dump(new_valid_data, valid_file)\n",
    "\n",
    "with open('./data/test.json', 'w') as test_file:\n",
    "    json.dump(cleaned_test_data, test_file)"
   ]
  },
  {
   "cell_type": "code",
   "execution_count": 31,
   "id": "f16449c5",
   "metadata": {},
   "outputs": [],
   "source": [
    "with open('./data/test.json', 'w') as test_file:\n",
    "    json.dump(cleaned_test_data, test_file)"
   ]
  },
  {
   "cell_type": "code",
   "execution_count": 32,
   "id": "b304d4d8-8f0f-4650-9260-c0864bb95eef",
   "metadata": {},
   "outputs": [
    {
     "name": "stdout",
     "output_type": "stream",
     "text": [
      "Ground Truth: {'instruction': 'Given the user preference and unpreference, identify whether the user will like the target item by answering \"Yes.\" or \"No.\".', 'input': '\\nUser Preference:\"Citre Shine Moisture Burst Shampoo - 16 fl oz\", \"Bonne Bell Smackers Bath and Body Starburst Collection\", \"Bath &amp; Body Works Ile De Tahiti Moana Coconut Vanille Moana Body Wash with Tamanoi 8.5 oz\", \"Bath &amp; Body Works Ile De Tahiti Moana Coconut Vanille Moana Body Wash with Tamanoi 8.5 oz\", \"Avalon Grapefruit and Geranium Smoothing Shampoo, 11 Ounce\", \\n Whether the user will like the target movie \"Naturelle Hypo-Allergenic Styling Gel\"?', 'output': 'Yes.'}\n",
      "Given the user preference and unpreference, identify whether the user will like the target item by answering \"Yes.\" or \"No.\".\n",
      "User Preference:\"Citre Shine Moisture Burst Shampoo - 16 fl oz\", \"Bonne Bell Smackers Bath and Body Starburst Collection\", \"Bath &amp; Body Works Ile De Tahiti Moana Coconut Vanille Moana Body Wash with Tamanoi 8.5 oz\", \"Bath &amp; Body Works Ile De Tahiti Moana Coconut Vanille Moana Body Wash with Tamanoi 8.5 oz\", \"Avalon Grapefruit and Geranium Smoothing Shampoo, 11 Ounce\", \n",
      " Whether the user will like the target movie \"Naturelle Hypo-Allergenic Styling Gel\"?\n",
      "****************************************************************************************************\n",
      "No.\n"
     ]
    },
    {
     "data": {
      "text/plain": [
       "1"
      ]
     },
     "execution_count": 32,
     "metadata": {},
     "output_type": "execute_result"
    }
   ],
   "source": [
    "print(f\"Ground Truth: {test_data[4]}\")\n",
    "content = test_data[4][\"instruction\"] + test_data[4][\"input\"]\n",
    "print(content)\n",
    "print('*'*100)\n",
    "response = openai.chat.completions.create(\n",
    "  model=\"gpt-3.5-turbo\",\n",
    "  messages=[\n",
    "    {\n",
    "      \"role\": \"user\",\n",
    "      \"content\": content\n",
    "    }\n",
    "  ],\n",
    "  temperature=0.1,\n",
    "  max_tokens=64,\n",
    "  top_p=0.9\n",
    ")\n",
    "\n",
    "response = response.choices[0].message.content\n",
    "print(response)\n",
    "len(response.split(' '))"
   ]
  },
  {
   "cell_type": "code",
   "execution_count": null,
   "id": "c920c05f-4c68-4208-86e0-7000aced1cc4",
   "metadata": {},
   "outputs": [],
   "source": []
  }
 ],
 "metadata": {
  "kernelspec": {
   "display_name": "Python 3 (ipykernel)",
   "language": "python",
   "name": "python3"
  },
  "language_info": {
   "codemirror_mode": {
    "name": "ipython",
    "version": 3
   },
   "file_extension": ".py",
   "mimetype": "text/x-python",
   "name": "python",
   "nbconvert_exporter": "python",
   "pygments_lexer": "ipython3",
   "version": "3.9.18"
  }
 },
 "nbformat": 4,
 "nbformat_minor": 5
}
