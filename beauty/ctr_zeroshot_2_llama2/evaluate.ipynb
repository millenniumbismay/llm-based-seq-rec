{
 "cells": [
  {
   "cell_type": "markdown",
   "id": "7f37dd14-8b2a-4828-96ec-5065ce47ec6c",
   "metadata": {},
   "source": [
    "### Vanilla CTR Zeroshot"
   ]
  },
  {
   "cell_type": "code",
   "execution_count": 1,
   "id": "cd60e3f4-25e6-4bf0-9437-71e253e3a79b",
   "metadata": {},
   "outputs": [],
   "source": [
    "import pickle\n",
    "import json\n",
    "import pandas as pd\n",
    "import numpy as np\n",
    "import os\n",
    "import time\n",
    "from dotenv import load_dotenv\n",
    "import re"
   ]
  },
  {
   "cell_type": "code",
   "execution_count": 2,
   "id": "d7269b45-6c0d-4e5b-8bc3-0e5bc56055d5",
   "metadata": {},
   "outputs": [
    {
     "name": "stdout",
     "output_type": "stream",
     "text": [
      "620\n"
     ]
    }
   ],
   "source": [
    "inference_path = 'zeroshot_inference_test.json'\n",
    "with open(inference_path, 'r') as f:\n",
    "    inference_dict = json.load(f)\n",
    "print(len(inference_dict))"
   ]
  },
  {
   "cell_type": "code",
   "execution_count": 3,
   "id": "6fabcd49-cf21-45f5-aa70-24f71818dbdb",
   "metadata": {},
   "outputs": [
    {
     "data": {
      "text/html": [
       "<div>\n",
       "<style scoped>\n",
       "    .dataframe tbody tr th:only-of-type {\n",
       "        vertical-align: middle;\n",
       "    }\n",
       "\n",
       "    .dataframe tbody tr th {\n",
       "        vertical-align: top;\n",
       "    }\n",
       "\n",
       "    .dataframe thead th {\n",
       "        text-align: right;\n",
       "    }\n",
       "</style>\n",
       "<table border=\"1\" class=\"dataframe\">\n",
       "  <thead>\n",
       "    <tr style=\"text-align: right;\">\n",
       "      <th></th>\n",
       "      <th>item</th>\n",
       "      <th>user</th>\n",
       "      <th>rating</th>\n",
       "      <th>timestamp</th>\n",
       "    </tr>\n",
       "  </thead>\n",
       "  <tbody>\n",
       "    <tr>\n",
       "      <th>0</th>\n",
       "      <td>0</td>\n",
       "      <td>0</td>\n",
       "      <td>4.0</td>\n",
       "      <td>1155081600</td>\n",
       "    </tr>\n",
       "    <tr>\n",
       "      <th>1</th>\n",
       "      <td>1</td>\n",
       "      <td>0</td>\n",
       "      <td>5.0</td>\n",
       "      <td>1268697600</td>\n",
       "    </tr>\n",
       "    <tr>\n",
       "      <th>2</th>\n",
       "      <td>2</td>\n",
       "      <td>0</td>\n",
       "      <td>5.0</td>\n",
       "      <td>1404604800</td>\n",
       "    </tr>\n",
       "    <tr>\n",
       "      <th>3</th>\n",
       "      <td>3</td>\n",
       "      <td>0</td>\n",
       "      <td>5.0</td>\n",
       "      <td>1404604800</td>\n",
       "    </tr>\n",
       "    <tr>\n",
       "      <th>4</th>\n",
       "      <td>4</td>\n",
       "      <td>0</td>\n",
       "      <td>5.0</td>\n",
       "      <td>1404604800</td>\n",
       "    </tr>\n",
       "  </tbody>\n",
       "</table>\n",
       "</div>"
      ],
      "text/plain": [
       "   item  user  rating   timestamp\n",
       "0     0     0     4.0  1155081600\n",
       "1     1     0     5.0  1268697600\n",
       "2     2     0     5.0  1404604800\n",
       "3     3     0     5.0  1404604800\n",
       "4     4     0     5.0  1404604800"
      ]
     },
     "execution_count": 3,
     "metadata": {},
     "output_type": "execute_result"
    }
   ],
   "source": [
    "ratings_path = '../beauty_data/processed_data/ratings.csv'\n",
    "ratings_df = pd.read_csv(ratings_path)\n",
    "ratings_df.head()"
   ]
  },
  {
   "cell_type": "code",
   "execution_count": 10,
   "id": "6c385f0f-e18e-449f-8932-2aa4e29b3228",
   "metadata": {
    "scrolled": true
   },
   "outputs": [
    {
     "name": "stdout",
     "output_type": "stream",
     "text": [
      "Yes: 113 -- No: 3 -- Invalid: 504\n",
      "invalid_users: ['0', '3', '4', '7', '8', '9', '10', '11', '12', '13', '14', '15', '16', '17', '19', '20', '22', '23', '24', '25', '27', '28', '29', '31', '32', '35', '36', '37', '38', '39', '40', '41', '44', '46', '47', '48', '49', '51', '52', '53', '54', '55', '56', '57', '58', '61', '62', '63', '64', '65', '66', '67', '68', '69', '71', '73', '74', '75', '76', '77', '78', '79', '80', '81', '82', '83', '85', '86', '87', '88', '89', '90', '91', '93', '94', '95', '97', '98', '99', '100', '101', '103', '105', '106', '107', '108', '109', '110', '111', '112', '113', '114', '115', '116', '117', '118', '120', '121', '122', '124', '125', '126', '127', '128', '129', '130', '131', '132', '133', '134', '136', '137', '138', '141', '142', '143', '145', '146', '148', '149', '150', '152', '153', '155', '156', '157', '159', '160', '164', '165', '166', '168', '172', '173', '174', '175', '177', '178', '180', '181', '182', '183', '184', '185', '186', '187', '188', '189', '190', '191', '192', '193', '194', '195', '196', '197', '198', '199', '200', '202', '203', '204', '205', '206', '208', '209', '210', '211', '212', '214', '215', '216', '217', '219', '220', '221', '222', '223', '224', '225', '226', '227', '228', '229', '230', '231', '232', '233', '234', '235', '236', '237', '238', '239', '243', '244', '245', '246', '247', '249', '250', '251', '252', '253', '254', '255', '256', '258', '262', '263', '264', '265', '266', '267', '268', '269', '270', '271', '272', '274', '275', '277', '278', '280', '281', '282', '285', '286', '287', '288', '289', '290', '291', '292', '294', '295', '296', '297', '298', '299', '300', '301', '302', '304', '305', '306', '307', '308', '309', '310', '312', '313', '314', '315', '316', '317', '318', '319', '320', '321', '322', '323', '324', '325', '326', '327', '331', '332', '333', '335', '336', '337', '338', '339', '340', '342', '343', '344', '345', '346', '348', '349', '350', '351', '352', '353', '354', '355', '358', '360', '362', '363', '364', '366', '367', '368', '369', '370', '371', '372', '373', '374', '376', '377', '378', '379', '380', '381', '382', '383', '385', '386', '387', '388', '389', '390', '391', '392', '393', '394', '395', '396', '398', '400', '401', '402', '403', '404', '407', '408', '409', '410', '412', '413', '414', '415', '417', '418', '419', '420', '422', '423', '424', '425', '428', '429', '430', '431', '432', '433', '434', '435', '436', '437', '438', '439', '440', '441', '442', '443', '444', '445', '447', '448', '449', '450', '452', '453', '454', '455', '456', '457', '458', '459', '460', '462', '463', '464', '465', '466', '467', '468', '469', '471', '472', '474', '476', '477', '478', '479', '482', '483', '484', '485', '486', '488', '489', '490', '491', '492', '493', '495', '497', '498', '500', '501', '503', '504', '505', '506', '507', '509', '510', '511', '513', '515', '516', '517', '519', '520', '522', '523', '524', '525', '526', '527', '528', '530', '531', '533', '534', '536', '538', '539', '541', '542', '543', '544', '545', '546', '547', '549', '551', '552', '553', '554', '555', '556', '557', '559', '560', '561', '562', '563', '564', '565', '566', '567', '569', '570', '571', '572', '573', '574', '575', '576', '577', '579', '580', '581', '583', '585', '586', '587', '591', '592', '593', '594', '595', '596', '597', '598', '599', '600', '601', '602', '603', '604', '605', '607', '608', '609', '610', '611', '612', '613', '614', '615', '616', '618', '619', '620', '621', '622']\n",
      "620\n"
     ]
    }
   ],
   "source": [
    "pattern = r\"Prediction:(?:\\s+)?(Yes|No)\\b\"\n",
    "invalid_users = []\n",
    "cnt = cntInvalid = cntY = cntN = 0\n",
    "user_inference_dict = dict()\n",
    "for user, inference in inference_dict.items():\n",
    "    cnt += 1\n",
    "    # print(user, inference)\n",
    "    # Use re.findall to find all matches in the string\n",
    "    matches = re.findall(pattern, inference, re.IGNORECASE)\n",
    "    if len(matches) == 0:\n",
    "        cntInvalid += 1\n",
    "        invalid_users.append(user)\n",
    "        user_inference_dict[user] = 1\n",
    "    for match in matches:\n",
    "        if match == 'Yes':\n",
    "            cntY += 1\n",
    "            user_inference_dict[user] = 1\n",
    "            break\n",
    "        elif match == 'No':\n",
    "            cntN += 1\n",
    "            user_inference_dict[user] = 0\n",
    "            break\n",
    "    # print('*'*100)\n",
    "    # if cnt == 10:\n",
    "    #     break\n",
    "print(f\"Yes: {cntY} -- No: {cntN} -- Invalid: {cntInvalid}\")\n",
    "print(\"invalid_users:\", invalid_users)\n",
    "print(len(user_inference_dict))"
   ]
  },
  {
   "cell_type": "code",
   "execution_count": 11,
   "id": "a940a4d4",
   "metadata": {},
   "outputs": [
    {
     "data": {
      "text/html": [
       "<div>\n",
       "<style scoped>\n",
       "    .dataframe tbody tr th:only-of-type {\n",
       "        vertical-align: middle;\n",
       "    }\n",
       "\n",
       "    .dataframe tbody tr th {\n",
       "        vertical-align: top;\n",
       "    }\n",
       "\n",
       "    .dataframe thead th {\n",
       "        text-align: right;\n",
       "    }\n",
       "</style>\n",
       "<table border=\"1\" class=\"dataframe\">\n",
       "  <thead>\n",
       "    <tr style=\"text-align: right;\">\n",
       "      <th></th>\n",
       "      <th>item</th>\n",
       "      <th>user</th>\n",
       "      <th>rating</th>\n",
       "      <th>timestamp</th>\n",
       "    </tr>\n",
       "  </thead>\n",
       "  <tbody>\n",
       "    <tr>\n",
       "      <th>7</th>\n",
       "      <td>6</td>\n",
       "      <td>0</td>\n",
       "      <td>5.0</td>\n",
       "      <td>1461801600</td>\n",
       "    </tr>\n",
       "    <tr>\n",
       "      <th>14</th>\n",
       "      <td>12</td>\n",
       "      <td>1</td>\n",
       "      <td>5.0</td>\n",
       "      <td>1504656000</td>\n",
       "    </tr>\n",
       "    <tr>\n",
       "      <th>21</th>\n",
       "      <td>12</td>\n",
       "      <td>2</td>\n",
       "      <td>4.0</td>\n",
       "      <td>1506643200</td>\n",
       "    </tr>\n",
       "    <tr>\n",
       "      <th>27</th>\n",
       "      <td>20</td>\n",
       "      <td>3</td>\n",
       "      <td>5.0</td>\n",
       "      <td>1493337600</td>\n",
       "    </tr>\n",
       "    <tr>\n",
       "      <th>33</th>\n",
       "      <td>21</td>\n",
       "      <td>4</td>\n",
       "      <td>5.0</td>\n",
       "      <td>1524614400</td>\n",
       "    </tr>\n",
       "  </tbody>\n",
       "</table>\n",
       "</div>"
      ],
      "text/plain": [
       "    item  user  rating   timestamp\n",
       "7      6     0     5.0  1461801600\n",
       "14    12     1     5.0  1504656000\n",
       "21    12     2     4.0  1506643200\n",
       "27    20     3     5.0  1493337600\n",
       "33    21     4     5.0  1524614400"
      ]
     },
     "execution_count": 11,
     "metadata": {},
     "output_type": "execute_result"
    }
   ],
   "source": [
    "user_test_movie_rating_df = ratings_df.groupby('user').nth(-1)\n",
    "user_test_movie_rating_df.head()"
   ]
  },
  {
   "cell_type": "code",
   "execution_count": 12,
   "id": "7a7e4e8c-dd55-49ee-8ccc-754489a27462",
   "metadata": {},
   "outputs": [
    {
     "name": "stdout",
     "output_type": "stream",
     "text": [
      "Confusion Matrix:\n",
      "[[  1  43]\n",
      " [  2 574]]\n",
      "AUC: 0.5096275252525253\n",
      "Precision: 0.9303079416531604\n",
      "Recall: 0.9965277777777778\n",
      "Accuracy: 0.9274193548387096\n"
     ]
    }
   ],
   "source": [
    "from sklearn.metrics import roc_auc_score, accuracy_score, confusion_matrix, precision_score, recall_score\n",
    "y_true = []\n",
    "y_pred = []\n",
    "\n",
    "fp_users = []\n",
    "fn_users = []\n",
    "\n",
    "for user, inference in user_inference_dict.items():\n",
    "    original_rating = user_test_movie_rating_df[user_test_movie_rating_df['user'] == int(user)]['rating'].values[0]\n",
    "    # print(original_rating)\n",
    "    if original_rating > 3:\n",
    "        y_true.append(1)\n",
    "        if inference == 0:\n",
    "            fn_users.append(user)\n",
    "    else:\n",
    "        y_true.append(0)\n",
    "        if inference == 1:\n",
    "            fp_users.append(user)\n",
    "    y_pred.append(inference)\n",
    "\n",
    "conf_matrix = confusion_matrix(y_true, y_pred)\n",
    "print(\"Confusion Matrix:\")\n",
    "print(conf_matrix)\n",
    "\n",
    "auc_roc = roc_auc_score(y_true, y_pred)\n",
    "print(\"AUC:\", auc_roc)\n",
    "\n",
    "precision = precision_score(y_true, y_pred)\n",
    "print(\"Precision:\", precision)\n",
    "\n",
    "recall = recall_score(y_true, y_pred)\n",
    "print(\"Recall:\", recall)\n",
    "\n",
    "accuracy = accuracy_score(y_true, y_pred)\n",
    "print(\"Accuracy:\", accuracy)"
   ]
  },
  {
   "cell_type": "code",
   "execution_count": 13,
   "id": "29532dd9",
   "metadata": {},
   "outputs": [
    {
     "data": {
      "text/html": [
       "<div>\n",
       "<style scoped>\n",
       "    .dataframe tbody tr th:only-of-type {\n",
       "        vertical-align: middle;\n",
       "    }\n",
       "\n",
       "    .dataframe tbody tr th {\n",
       "        vertical-align: top;\n",
       "    }\n",
       "\n",
       "    .dataframe thead th {\n",
       "        text-align: right;\n",
       "    }\n",
       "</style>\n",
       "<table border=\"1\" class=\"dataframe\">\n",
       "  <thead>\n",
       "    <tr style=\"text-align: right;\">\n",
       "      <th></th>\n",
       "      <th>item</th>\n",
       "      <th>user</th>\n",
       "      <th>rating</th>\n",
       "      <th>timestamp</th>\n",
       "    </tr>\n",
       "  </thead>\n",
       "  <tbody>\n",
       "    <tr>\n",
       "      <th>6</th>\n",
       "      <td>5</td>\n",
       "      <td>0</td>\n",
       "      <td>5.0</td>\n",
       "      <td>1404604800</td>\n",
       "    </tr>\n",
       "    <tr>\n",
       "      <th>13</th>\n",
       "      <td>11</td>\n",
       "      <td>1</td>\n",
       "      <td>5.0</td>\n",
       "      <td>1504656000</td>\n",
       "    </tr>\n",
       "    <tr>\n",
       "      <th>20</th>\n",
       "      <td>11</td>\n",
       "      <td>2</td>\n",
       "      <td>4.0</td>\n",
       "      <td>1506643200</td>\n",
       "    </tr>\n",
       "    <tr>\n",
       "      <th>26</th>\n",
       "      <td>19</td>\n",
       "      <td>3</td>\n",
       "      <td>5.0</td>\n",
       "      <td>1493337600</td>\n",
       "    </tr>\n",
       "    <tr>\n",
       "      <th>32</th>\n",
       "      <td>19</td>\n",
       "      <td>4</td>\n",
       "      <td>5.0</td>\n",
       "      <td>1524614400</td>\n",
       "    </tr>\n",
       "  </tbody>\n",
       "</table>\n",
       "</div>"
      ],
      "text/plain": [
       "    item  user  rating   timestamp\n",
       "6      5     0     5.0  1404604800\n",
       "13    11     1     5.0  1504656000\n",
       "20    11     2     4.0  1506643200\n",
       "26    19     3     5.0  1493337600\n",
       "32    19     4     5.0  1524614400"
      ]
     },
     "execution_count": 13,
     "metadata": {},
     "output_type": "execute_result"
    }
   ],
   "source": [
    "user_valid_movie_rating_df = ratings_df.groupby('user').nth(-2)\n",
    "user_valid_movie_rating_df.head()"
   ]
  },
  {
   "cell_type": "code",
   "execution_count": 14,
   "id": "4d9a3a53",
   "metadata": {},
   "outputs": [
    {
     "name": "stdout",
     "output_type": "stream",
     "text": [
      "Confusion Matrix:\n",
      "[[ 31  15]\n",
      " [321 257]]\n",
      "AUC: 0.5592748608394764\n",
      "Precision: 0.9448529411764706\n",
      "Recall: 0.444636678200692\n",
      "Accuracy: 0.46153846153846156\n"
     ]
    }
   ],
   "source": [
    "from sklearn.metrics import roc_auc_score, accuracy_score, confusion_matrix, precision_score, recall_score\n",
    "y_true = []\n",
    "y_pred = []\n",
    "\n",
    "fp_users = []\n",
    "fn_users = []\n",
    "\n",
    "for user, inference in user_inference_dict.items():\n",
    "    original_rating = user_valid_movie_rating_df[user_valid_movie_rating_df['user'] == int(user)]['rating'].values[0]\n",
    "    # print(original_rating)\n",
    "    if original_rating > 3:\n",
    "        y_true.append(1)\n",
    "        if inference == 0:\n",
    "            fn_users.append(user)\n",
    "    else:\n",
    "        y_true.append(0)\n",
    "        if inference == 1:\n",
    "            fp_users.append(user)\n",
    "    y_pred.append(inference)\n",
    "\n",
    "conf_matrix = confusion_matrix(y_true, y_pred)\n",
    "print(\"Confusion Matrix:\")\n",
    "print(conf_matrix)\n",
    "\n",
    "auc_roc = roc_auc_score(y_true, y_pred)\n",
    "print(\"AUC:\", auc_roc)\n",
    "\n",
    "precision = precision_score(y_true, y_pred)\n",
    "print(\"Precision:\", precision)\n",
    "\n",
    "recall = recall_score(y_true, y_pred)\n",
    "print(\"Recall:\", recall)\n",
    "\n",
    "accuracy = accuracy_score(y_true, y_pred)\n",
    "print(\"Accuracy:\", accuracy)"
   ]
  },
  {
   "cell_type": "code",
   "execution_count": null,
   "id": "688b4a9f",
   "metadata": {},
   "outputs": [],
   "source": []
  }
 ],
 "metadata": {
  "kernelspec": {
   "display_name": "mixtral",
   "language": "python",
   "name": "python3"
  },
  "language_info": {
   "codemirror_mode": {
    "name": "ipython",
    "version": 3
   },
   "file_extension": ".py",
   "mimetype": "text/x-python",
   "name": "python",
   "nbconvert_exporter": "python",
   "pygments_lexer": "ipython3",
   "version": "3.9.18"
  }
 },
 "nbformat": 4,
 "nbformat_minor": 5
}
