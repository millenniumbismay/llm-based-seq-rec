{
 "cells": [
  {
   "cell_type": "code",
   "execution_count": 1,
   "id": "d030076e-28d9-4c3d-982d-fa6c4a634a96",
   "metadata": {},
   "outputs": [],
   "source": [
    "import pickle\n",
    "import pandas as pd\n",
    "import numpy as np\n",
    "import os\n",
    "import json\n",
    "import time\n",
    "from dotenv import load_dotenv"
   ]
  },
  {
   "cell_type": "code",
   "execution_count": 2,
   "id": "f20d1e2b-d511-4a45-bf2f-91346da269c3",
   "metadata": {},
   "outputs": [],
   "source": [
    "user_train_path = '/home/grads/m/mbismay/llm-based-seq-rec/beauty/beauty_data/processed_data/user_train.json'\n",
    "user_valid_path = '/home/grads/m/mbismay/llm-based-seq-rec/beauty/beauty_data/processed_data/user_valid.json'\n",
    "user_test_path = '/home/grads/m/mbismay/llm-based-seq-rec/beauty/beauty_data/processed_data/user_test.json'"
   ]
  },
  {
   "cell_type": "code",
   "execution_count": 3,
   "id": "28b4aaf2-9db0-4d75-a662-c7fc10dfa194",
   "metadata": {},
   "outputs": [],
   "source": [
    "with open(user_train_path, 'rb') as f:\n",
    "    user_train_dict = json.load(f)\n",
    "with open(user_valid_path, 'rb') as f:\n",
    "    user_valid_dict = json.load(f)\n",
    "with open(user_test_path, 'rb') as f:\n",
    "    user_test_dict = json.load(f)"
   ]
  },
  {
   "cell_type": "code",
   "execution_count": 4,
   "id": "f2a78613-a43b-4d56-b4b0-bf5bbf3288dc",
   "metadata": {},
   "outputs": [
    {
     "name": "stdout",
     "output_type": "stream",
     "text": [
      "[7, 8, 9, 9, 10]\n",
      "[7, 8, 9, 9, 10, 11]\n",
      "[8, 9, 9, 10, 11, 12]\n"
     ]
    }
   ],
   "source": [
    "user_id = '1'\n",
    "print(user_train_dict[user_id])\n",
    "print(user_valid_dict[user_id])\n",
    "print(user_test_dict[user_id])"
   ]
  },
  {
   "cell_type": "code",
   "execution_count": 5,
   "id": "335dd4fc",
   "metadata": {},
   "outputs": [
    {
     "name": "stdout",
     "output_type": "stream",
     "text": [
      "1216\n"
     ]
    }
   ],
   "source": [
    "item_information_path = '/home/grads/m/mbismay/llm-based-seq-rec/beauty/beauty_data/processed_data/processed_item_information.json'\n",
    "with open(item_information_path, 'r') as f:\n",
    "    item_information_dict = json.load(f)\n",
    "print(len(item_information_dict))"
   ]
  },
  {
   "cell_type": "code",
   "execution_count": 7,
   "id": "0fdc4135-2c09-439d-b4e7-40b13f36fa86",
   "metadata": {},
   "outputs": [
    {
     "data": {
      "text/html": [
       "<div>\n",
       "<style scoped>\n",
       "    .dataframe tbody tr th:only-of-type {\n",
       "        vertical-align: middle;\n",
       "    }\n",
       "\n",
       "    .dataframe tbody tr th {\n",
       "        vertical-align: top;\n",
       "    }\n",
       "\n",
       "    .dataframe thead th {\n",
       "        text-align: right;\n",
       "    }\n",
       "</style>\n",
       "<table border=\"1\" class=\"dataframe\">\n",
       "  <thead>\n",
       "    <tr style=\"text-align: right;\">\n",
       "      <th></th>\n",
       "      <th>item</th>\n",
       "      <th>user</th>\n",
       "      <th>rating</th>\n",
       "      <th>timestamp</th>\n",
       "    </tr>\n",
       "  </thead>\n",
       "  <tbody>\n",
       "    <tr>\n",
       "      <th>0</th>\n",
       "      <td>0</td>\n",
       "      <td>0</td>\n",
       "      <td>4.0</td>\n",
       "      <td>1155081600</td>\n",
       "    </tr>\n",
       "    <tr>\n",
       "      <th>1</th>\n",
       "      <td>1</td>\n",
       "      <td>0</td>\n",
       "      <td>5.0</td>\n",
       "      <td>1268697600</td>\n",
       "    </tr>\n",
       "    <tr>\n",
       "      <th>2</th>\n",
       "      <td>2</td>\n",
       "      <td>0</td>\n",
       "      <td>5.0</td>\n",
       "      <td>1404604800</td>\n",
       "    </tr>\n",
       "    <tr>\n",
       "      <th>3</th>\n",
       "      <td>3</td>\n",
       "      <td>0</td>\n",
       "      <td>5.0</td>\n",
       "      <td>1404604800</td>\n",
       "    </tr>\n",
       "    <tr>\n",
       "      <th>4</th>\n",
       "      <td>4</td>\n",
       "      <td>0</td>\n",
       "      <td>5.0</td>\n",
       "      <td>1404604800</td>\n",
       "    </tr>\n",
       "  </tbody>\n",
       "</table>\n",
       "</div>"
      ],
      "text/plain": [
       "   item  user  rating   timestamp\n",
       "0     0     0     4.0  1155081600\n",
       "1     1     0     5.0  1268697600\n",
       "2     2     0     5.0  1404604800\n",
       "3     3     0     5.0  1404604800\n",
       "4     4     0     5.0  1404604800"
      ]
     },
     "execution_count": 7,
     "metadata": {},
     "output_type": "execute_result"
    }
   ],
   "source": [
    "ratings_path = '../beauty_data/processed_data/ratings.csv'\n",
    "ratings_df = pd.read_csv(ratings_path)\n",
    "ratings_df.head()"
   ]
  },
  {
   "cell_type": "code",
   "execution_count": 8,
   "id": "bcb9bf7a-25c2-4161-b3bc-a94d07a60407",
   "metadata": {},
   "outputs": [],
   "source": [
    "reasoning_train_data = \"./reasoning_dataset/reasoning_data/reasoning_train_dict.pkl\"\n",
    "reasoning_valid_data = \"./reasoning_dataset/reasoning_data/reasoning_valid_dict.pkl\"\n",
    "reasoning_test_data = \"./reasoning_dataset/reasoning_data/reasoning_test_dict.pkl\""
   ]
  },
  {
   "cell_type": "code",
   "execution_count": 9,
   "id": "17bfbacd-caea-4ba2-a4f1-ac84c548877e",
   "metadata": {},
   "outputs": [],
   "source": [
    "with open(reasoning_train_data, 'rb') as f:\n",
    "    reasoning_train = pickle.load(f)\n",
    "with open(reasoning_valid_data, 'rb') as f:\n",
    "    reasoning_valid = pickle.load(f)\n",
    "with open(reasoning_test_data, 'rb') as f:\n",
    "    reasoning_test = pickle.load(f)"
   ]
  },
  {
   "cell_type": "code",
   "execution_count": 10,
   "id": "38765fde-b66e-4426-81f2-7d93b2b2c253",
   "metadata": {},
   "outputs": [
    {
     "name": "stdout",
     "output_type": "stream",
     "text": [
      "\n",
      "Answer:\n",
      "\n",
      "1. The user tends to prefer products that offer great value for money, are long-lasting, and have a delightful or refreshing scent. They appreciate products that moisturize and soften their cuticles, and are fragrant. However, they dislike products that unravel after the first wash, have a weak scent that doesn't last long, or are drying to the skin. They also seem to prefer products that come on time and are perfect for their intended use.\n",
      "2. The user will like the Utopia Care Stainless Steel Fingernail Clipper because it is a high-quality product with a unique shape and style. Although it is larger than typical and has a swivel that can come out, it works great for fingernails and resembles toenail clippers. Given the user's preference for long-lasting and good value for money products, this clipper is a great fit as it is made of stainless steel and is designed to last. Additionally, the user has shown a preference for products that come on time and are perfect for their intended use, and this clipper is likely to meet those expectations.\n",
      "Prediction: Yes\n",
      "\n",
      "Answer:\n",
      "\n",
      "1. The user appears to value quality and functionality, as indicated by their preference for long-lasting, exfoliating soaps and nail clippers that work well and have a unique shape. However, they also appreciate aesthetics, as evidenced by their liking of the raspberry-scented soap's delightful and refreshing scent. On the other hand, they dislike products that do not meet their expectations, such as the towels that unraveled after the first wash, and are not afraid to voice their concerns.\n",
      "2. The user is likely to enjoy the Pre de Provence Maison French Dried Lavender Blossoms for Fragrance due to their appreciation for delightful and refreshing scents, as demonstrated by their liking of the Pre de Provence Soap. Additionally, the user has shown a willingness to try different products from the same brand, as evidenced by their purchase of the Pre de Provence Soap and the Pre de Provence Lavender Linen Water. The fact that the product is from a trusted brand and has a fresh lavender scent that leaves a clean smell on linens and clothes further increases the likelihood of the\n",
      "Prediction: Yes\n",
      "\n",
      "\n",
      "1. The user has shown a preference for products with a refreshing and delightful scent, such as the Pre de Provence Soap and the Pre de Provence Lavender Linen Water. They also appreciate items that provide good value for money, such as the Pre de Provence Soap and the Essie Cuticle Oil. The user is interested in products that moisturize and soften, such as the Essie Cuticle Oil, and they seem to enjoy items that have a long-lasting effect, such as the Pre de Provence Soap. However, they dislike products that are drying or have a scent that doesn't last long.\n",
      "2. Based on the user's past purchases, it is highly likely that they will enjoy the Pre De Provence Maison French Lavender Bath & Shower Gel. This product has a great smell, which is a characteristic that the user values highly. Additionally, the scent is described as light and long-lasting, which addresses the user's dislike of scents that don't last long. The product also provides a soothing and clean feeling, which aligns with the user's appreciation for items that make ironing bearable and leave a clean\n",
      "Prediction: Yes\n"
     ]
    }
   ],
   "source": [
    "# print(reasoning_prompt_train[user_id])\n",
    "print(reasoning_train[user_id])\n",
    "print(reasoning_valid[user_id])\n",
    "print(reasoning_test[user_id])"
   ]
  },
  {
   "cell_type": "code",
   "execution_count": 11,
   "id": "19bc745f",
   "metadata": {},
   "outputs": [],
   "source": [
    "def get_new_reasoning_text(reasoning):\n",
    "    # print(f\"reasoning: {reasoning}\")\n",
    "    new_reasoning_text = f\"Prediction: {reasoning.split(' ')[-1]} \\n\"\n",
    "    new_reasoning_text += ' '.join(s.strip() for s in reasoning.split(\"\\n\")[:-1])\n",
    "    # print(f\"new_reasoning_text: {new_reasoning_text}\")\n",
    "    return new_reasoning_text"
   ]
  },
  {
   "cell_type": "code",
   "execution_count": 12,
   "id": "ec8cdcc2",
   "metadata": {},
   "outputs": [],
   "source": [
    "def get_item_description(item_information):\n",
    "    item_details = \"\"\n",
    "    if 'title' in item_information:\n",
    "        item_details += item_information['title']\n",
    "    if 'brand' in item_information:\n",
    "        item_details += f\" Brand: {item_information['brand']}\"\n",
    "    if 'price' in item_information:\n",
    "        item_details += f\" Price: {item_information['price']}\"\n",
    "    if 'description' in item_information:\n",
    "        item_details += f\" Description: {item_information['description']}\"\n",
    "    return item_details"
   ]
  },
  {
   "cell_type": "code",
   "execution_count": 13,
   "id": "9d97a7fb",
   "metadata": {},
   "outputs": [
    {
     "name": "stdout",
     "output_type": "stream",
     "text": [
      "User: 64 Item: 229 error index 0 is out of bounds for axis 0 with size 0\n",
      "User: 215 Item: 399 error index 0 is out of bounds for axis 0 with size 0\n",
      "User: 274 Item: 399 error index 0 is out of bounds for axis 0 with size 0\n",
      "User: 401 Item: 880 error index 0 is out of bounds for axis 0 with size 0\n",
      "User: 427 Item: 399 error index 0 is out of bounds for axis 0 with size 0\n",
      "Length of final_train_dict: 616 {'instruction': 'You are an expert fashion product recommender. Given the list of recent liked and disliked items and their price, brand, and description, identify whether the user will like or dislike the target item by providing reasoning for the same. Please follow further instruction below. ', 'input': '\\n User purchased the following items recently in given order. List of user behaviour for recent items and their description -Liked Fresh Eau De Parfum EDP - Fig Apricot 3.4oz (100ml) Brand: Fresh Price:  Description: \\n\\nProduct Description: KMRN Fresh Line is a hypoallergenic fragrance, praised for its pleasant scent and ability to generate compliments. However, it may not offer a wide range of scents.\\nLiked Monoi - Monoi Pitate Jasmine 4 fl oz Brand: Monoi Price:  Description: \\n\\nThe product is a jasmine-scented coconut oil, great for dry skin and hair, making them soft and non-oily. However, the jasmine scent may not be natural and not everyone may like it.\\nLiked Yardley By Yardley Of London Unisexs Lay It On Thick Hand &amp; Foot Cream 5.3 Oz Brand: Yardley Price:  Description: \\n\\nProduct: Shower Gel\\nPositive features: Lovely holiday scent, mild scrub, good quality, great smell, works well, fresh fruity scent, creamy suds.\\nNegative features: Small size, discontinued.\\n\\nConcise product description: \"Shower Gel with\\nLiked Fruits &amp; Passion Blue Refreshing Shower Gel - 6.7 fl. oz. Brand: Fruits & Passion Price:  Description: \\n\\nThe product is a Body Shop shower gel, with a strong fragrance and great quality, but may be discontinued. It is delivered quickly and gift wrapped.\\nLiked Bonne Bell Smackers Bath and Body Starburst Collection Brand: Bonne Bell Price:  Description: \\n\\nProduct Description:\\nPattern shower gel is a highly recommended product for all skin types, providing a refreshing and cooling sensation. It has a pleasant scent and is great for fine hair, but is unfortunately discontinued by Bain De Terre.\\n\\nThe user purchased the next target item - Bath &amp; Body Works Ile De Tahiti Moana Coconut Vanille Moana Body Wash with Tamanoi 8.5 oz Brand: Bath & Body Works Price:  Description: \\n\\nThe product is a high-quality, good smelling cologne for men. It comes in various scents and is infused with pheromones. However, the scent may not last long after showering.\\n\\nThe product is a high-quality, good smelling cologne for\\nDo not use any information not mentioned above. As an expert fashion product recommender, do the following steps -\\n    Predict whether the user will like the target item or not in the following format - Prediction: Yes or No\\n    by analyzing the provided list of products purchased by the user in order and summarize the user behavior by identifying the characteristics he liked and disliked about the products in at most 100 words.\\n    Explain with reasoning whether the user will like or dislike the target item - Bath &amp; Body Works Ile De Tahiti Moana Coconut Vanille Moana Body Wash with Tamanoi 8.5 oz in atmost 100 words.', 'output': 'Prediction: Yes \\n Answer:  1. The user seems to prefer products with a strong, fresh, and fruity scent, as seen in their liking of the Fresh Eau De Parfum EDP, Monoi - Monoi Pitate Jasmine, Yardley By Yardley Of London Unisexs Lay It On Thick Hand & Foot Cream, Fruits & Passion Blue Refreshing Shower Gel, and Bonne Bell Smackers Bath and Body Starburst Collection. They also appreciate good quality and quick delivery, as noted in their comments about the Fruits & Passion shower gel. However, they dislike products that are discontinued, as seen in their comments about the Yardley shower gel and Pattern shower gel. 2. The user will like the next item, Bath & Body Works Ile De Tahiti Moana Coconut Vanille Moana Body Wash with Tamanoi, because it is a high-quality, good smelling product, which aligns with their preference for products with a strong and fresh scent. Additionally, the product is not discontinued, which addresses their dislike for discontinued products. The brand, Bath & Body Works,'}\n",
      "Avg Length: 569.8944805194806\n",
      "Max length: 763\n"
     ]
    }
   ],
   "source": [
    "### For Train Data\n",
    "final_train_dict = list()\n",
    "cnt = 0\n",
    "max_total_len = 0\n",
    "avg_total_len = 0\n",
    "for user, reasoning in reasoning_train.items():\n",
    "    # print(f\"User: {user}\")\n",
    "    cnt += 1\n",
    "    user_rating_dict = ratings_df[ratings_df['user'] == int(user)]\n",
    "    # print(user_rating_dict)\n",
    "\n",
    "    temp_dict = dict()\n",
    "    temp_dict[\"instruction\"] = \"You are an expert fashion product recommender. Given the list of recent liked and disliked items and their price, brand, and description, identify whether the user will like or dislike the target item by providing reasoning for the same. Please follow further instruction below. \"\n",
    "    prompt = \"\\n User purchased the following items recently in given order. List of user behaviour for recent items and their description -\"\n",
    "    item_list = user_train_dict[user]\n",
    "    # print(item_list)\n",
    "    for item in item_list[:-1]:\n",
    "        try:\n",
    "            user_item_rating = user_rating_dict[user_rating_dict['item'] == item]['rating'].values[0]\n",
    "        except Exception as e:\n",
    "            print(f\"User: {user} Item: {item} error {e}\")\n",
    "            continue\n",
    "        if user_item_rating > 3:\n",
    "            ### Liked\n",
    "            prompt += f\"Liked {get_item_description(item_information_dict[str(item)])}\\n\"\n",
    "        else:\n",
    "            prompt += f\"Disliked {get_item_description(item_information_dict[str(item)])}\\n\"\n",
    "    \n",
    "    target_item = item_list[-1]\n",
    "    if str(target_item) not in item_information_dict:\n",
    "        continue\n",
    "    target_item_details = get_item_description(item_information_dict[str(target_item)])\n",
    "    target_item_rating = user_rating_dict[user_rating_dict['item'] == target_item]['rating'].values[0]\n",
    "    prompt += f\"\\nThe user purchased the next target item - {target_item_details}\"\n",
    "    \n",
    "    prompt += f\"\"\"\\nDo not use any information not mentioned above. As an expert fashion product recommender, do the following steps -\n",
    "    Predict whether the user will like the target item or not in the following format - Prediction: Yes or No\n",
    "    by analyzing the provided list of products purchased by the user in order and summarize the user behavior by identifying the characteristics he liked and disliked about the products in at most 100 words.\n",
    "    Explain with reasoning whether the user will like or dislike the target item - {item_information_dict[str(target_item)]['title']} in atmost 100 words.\"\"\"\n",
    "    temp_dict[\"input\"] = prompt\n",
    "\n",
    "    temp_dict[\"output\"] = get_new_reasoning_text(reasoning)\n",
    "    final_train_dict.append(temp_dict)\n",
    "    # print(final_train_dict)\n",
    "    total_len = len(temp_dict['instruction'].split()) + len(temp_dict['input'].split()) + len(temp_dict['output'].split())\n",
    "    avg_total_len += total_len\n",
    "    max_total_len = max(max_total_len, total_len)\n",
    "    # break\n",
    "print(\"Length of final_train_dict:\", len(final_train_dict), final_train_dict[0])\n",
    "print(\"Avg Length:\", avg_total_len/len(final_train_dict))\n",
    "print(\"Max length:\", max_total_len)"
   ]
  },
  {
   "cell_type": "code",
   "execution_count": 14,
   "id": "f6df14e5",
   "metadata": {},
   "outputs": [
    {
     "data": {
      "text/plain": [
       "{'instruction': 'You are an expert fashion product recommender. Given the list of recent liked and disliked items and their price, brand, and description, identify whether the user will like or dislike the target item by providing reasoning for the same. Please follow further instruction below. ',\n",
       " 'input': '\\n User purchased the following items recently in given order. List of user behaviour for recent items and their description -Liked Yardley By Yardley Of London Unisexs Lay It On Thick Hand &amp; Foot Cream 5.3 Oz Brand: Yardley Price:  Description: \\n\\nProduct: Shower Gel\\nPositive features: Lovely holiday scent, mild scrub, good quality, great smell, works well, fresh fruity scent, creamy suds.\\nNegative features: Small size, discontinued.\\n\\nConcise product description: \"Shower Gel with\\nLiked Fruits &amp; Passion Blue Refreshing Shower Gel - 6.7 fl. oz. Brand: Fruits & Passion Price:  Description: \\n\\nThe product is a Body Shop shower gel, with a strong fragrance and great quality, but may be discontinued. It is delivered quickly and gift wrapped.\\nLiked Bonne Bell Smackers Bath and Body Starburst Collection Brand: Bonne Bell Price:  Description: \\n\\nProduct Description:\\nPattern shower gel is a highly recommended product for all skin types, providing a refreshing and cooling sensation. It has a pleasant scent and is great for fine hair, but is unfortunately discontinued by Bain De Terre.\\n\\nThe user purchased the next target item - Bath &amp; Body Works Ile De Tahiti Moana Coconut Vanille Moana Body Wash with Tamanoi 8.5 oz Brand: Bath & Body Works Price:  Description: \\n\\nThe product is a high-quality, good smelling cologne for men. It comes in various scents and is infused with pheromones. However, the scent may not last long after showering.\\n\\nThe product is a high-quality, good smelling cologne for\\nDo not use any information not mentioned above. As an expert fashion product recommender, do the following steps -\\n    Predict whether the user will like the target item or not in the following format - Prediction: Yes or No\\n    by analyzing the provided list of products purchased by the user in order and summarize the user behavior by identifying the characteristics he liked and disliked about the products in at most 100 words.\\n    Explain with reasoning whether the user will like or dislike the target item - Bath &amp; Body Works Ile De Tahiti Moana Coconut Vanille Moana Body Wash with Tamanoi 8.5 oz in atmost 100 words.',\n",
       " 'output': \"Prediction: Yes \\n Answer:  1. The user seems to prefer shower gels with refreshing and mild scents, as indicated by their positive feedback on products with fruity, fresh, and holiday scents. They also appreciate creamy suds and mild scrubs. However, they dislike small sizes and discontinued products, suggesting a preference for value and availability. 2. The user will like the next item because it is a shower gel, which they have shown a preference for. The product's refreshing and cooling sensation aligns with their preferred characteristics. Additionally, the tropical scent of coconut and vanilla is likely to appeal to their preference for pleasant and strong fragrances. Although the product is from Bath & Body Works, a different brand than the user's previous purchases, the user's desire for value and availability may be satisfied by the product's larger size of 8.5 oz.\"}"
      ]
     },
     "execution_count": 14,
     "metadata": {},
     "output_type": "execute_result"
    }
   ],
   "source": [
    "final_train_dict[183]"
   ]
  },
  {
   "cell_type": "code",
   "execution_count": 15,
   "id": "1080cc58",
   "metadata": {},
   "outputs": [
    {
     "name": "stdout",
     "output_type": "stream",
     "text": [
      "569 47 616\n"
     ]
    }
   ],
   "source": [
    "yes_cnt = 0\n",
    "no_cnt = 0\n",
    "for train_data in final_train_dict:\n",
    "    pred = train_data['output'].split(' ')[1]\n",
    "    # print(pred)\n",
    "    if pred == 'Yes':\n",
    "        yes_cnt += 1\n",
    "    elif pred == 'No':\n",
    "        no_cnt += 1\n",
    "    else:\n",
    "        print(pred, '--', train_data['output'])\n",
    "print(yes_cnt, no_cnt, yes_cnt + no_cnt)"
   ]
  },
  {
   "cell_type": "code",
   "execution_count": 16,
   "id": "54a33c95-264b-436d-a2c4-824025cf1453",
   "metadata": {},
   "outputs": [],
   "source": [
    "final_train_path = \"./final_data/beauty/train.json\"\n",
    "with open(final_train_path, 'w') as f:\n",
    "    json.dump(final_train_dict, f)"
   ]
  },
  {
   "cell_type": "code",
   "execution_count": 17,
   "id": "46a2eb92-fd9b-4e53-9372-0ee9d2f8cd70",
   "metadata": {},
   "outputs": [
    {
     "name": "stdout",
     "output_type": "stream",
     "text": [
      "User: 64 Item: 229 error index 0 is out of bounds for axis 0 with size 0\n",
      "User: 215 Item: 399 error index 0 is out of bounds for axis 0 with size 0\n",
      "User: 401 Item: 880 error index 0 is out of bounds for axis 0 with size 0\n",
      "User: 427 Item: 399 error index 0 is out of bounds for axis 0 with size 0\n",
      "Length of final_train_dict: 616 {'instruction': 'You are an expert fashion product recommender. Given the list of recent liked and disliked items and their price, brand, and description, identify whether the user will like or dislike the target item by providing reasoning for the same. Please follow further instruction below. ', 'input': '\\n User purchased the following items recently in given order. List of user behaviour for recent items and their description -Liked Monoi - Monoi Pitate Jasmine 4 fl oz Brand: Monoi Price:  Description: \\n\\nThe product is a jasmine-scented coconut oil, great for dry skin and hair, making them soft and non-oily. However, the jasmine scent may not be natural and not everyone may like it.\\nLiked Yardley By Yardley Of London Unisexs Lay It On Thick Hand &amp; Foot Cream 5.3 Oz Brand: Yardley Price:  Description: \\n\\nProduct: Shower Gel\\nPositive features: Lovely holiday scent, mild scrub, good quality, great smell, works well, fresh fruity scent, creamy suds.\\nNegative features: Small size, discontinued.\\n\\nConcise product description: \"Shower Gel with\\nLiked Fruits &amp; Passion Blue Refreshing Shower Gel - 6.7 fl. oz. Brand: Fruits & Passion Price:  Description: \\n\\nThe product is a Body Shop shower gel, with a strong fragrance and great quality, but may be discontinued. It is delivered quickly and gift wrapped.\\nLiked Bonne Bell Smackers Bath and Body Starburst Collection Brand: Bonne Bell Price:  Description: \\n\\nProduct Description:\\nPattern shower gel is a highly recommended product for all skin types, providing a refreshing and cooling sensation. It has a pleasant scent and is great for fine hair, but is unfortunately discontinued by Bain De Terre.\\nLiked Bath &amp; Body Works Ile De Tahiti Moana Coconut Vanille Moana Body Wash with Tamanoi 8.5 oz Brand: Bath & Body Works Price:  Description: \\n\\nThe product is a high-quality, good smelling cologne for men. It comes in various scents and is infused with pheromones. However, the scent may not last long after showering.\\n\\nThe product is a high-quality, good smelling cologne for\\n\\nThe user purchased the next target item - Bath &amp; Body Works Ile De Tahiti Moana Coconut Vanille Moana Body Wash with Tamanoi 8.5 oz Brand: Bath & Body Works Price:  Description: \\n\\nThe product is a high-quality, good smelling cologne for men. It comes in various scents and is infused with pheromones. However, the scent may not last long after showering.\\n\\nThe product is a high-quality, good smelling cologne for\\nDo not use any information not mentioned above. As an expert fashion product recommender, do the following steps -\\n    Predict whether the user will like the target item or not in the following format - Prediction: Yes or No\\n    by analyzing the provided list of products purchased by the user in order and summarize the user behavior by identifying the characteristics he liked and disliked about the products in at most 100 words.\\n    Explain with reasoning whether the user will like or dislike the target item - Bath &amp; Body Works Ile De Tahiti Moana Coconut Vanille Moana Body Wash with Tamanoi 8.5 oz in atmost 100 words.', 'output': \"Prediction: Yes \\n Answer:  1. The user seems to prefer products with a strong, fresh, and fruity scent, as indicated by their positive feedback on the Yardley shower gel and Fruits & Passion Blue Refreshing Shower Gel. They also appreciate mild exfoliating properties, as seen in their review of the Yardley hand and foot cream. However, they dislike products that are discontinued, as noted in their comments on the Yardley shower gel, Pattern shower gel, and Bonne Bell Smackers Bath and Body Starburst Collection. 2. The user will like the next item, Bath & Body Works Ile De Tahiti Moana Coconut Vanille Moana Body Wash with Tamanoi, because it is a high-quality, good smelling product, which aligns with their preference for items with a strong and fresh scent. Additionally, the product is not listed as discontinued, which addresses the user's dislike for discontinued items. The coconut and vanilla scent also adds a new dimension to the user's preference for fresh and fruity scents, making it an exciting addition to their collection.\"}\n",
      "Avg Length: 605.6964285714286\n",
      "Max length: 738\n"
     ]
    }
   ],
   "source": [
    "### For Valid Data\n",
    "final_valid_dict = list()\n",
    "cnt = 0\n",
    "max_total_len = 0\n",
    "avg_total_len = 0\n",
    "for user, reasoning in reasoning_valid.items():\n",
    "    # print(f\"User: {user}\")\n",
    "    cnt += 1\n",
    "    user_rating_dict = ratings_df[ratings_df['user'] == int(user)]\n",
    "    # print(user_rating_dict)\n",
    "\n",
    "    temp_dict = dict()\n",
    "    temp_dict[\"instruction\"] = \"You are an expert fashion product recommender. Given the list of recent liked and disliked items and their price, brand, and description, identify whether the user will like or dislike the target item by providing reasoning for the same. Please follow further instruction below. \"\n",
    "    prompt = \"\\n User purchased the following items recently in given order. List of user behaviour for recent items and their description -\"\n",
    "    item_list = user_valid_dict[user]\n",
    "    # print(item_list)\n",
    "    for item in item_list[:-1]:\n",
    "        try:\n",
    "            user_item_rating = user_rating_dict[user_rating_dict['item'] == item]['rating'].values[0]\n",
    "        except Exception as e:\n",
    "            print(f\"User: {user} Item: {item} error {e}\")\n",
    "            continue\n",
    "        if user_item_rating > 3:\n",
    "            ### Liked\n",
    "            prompt += f\"Liked {get_item_description(item_information_dict[str(item)])}\\n\"\n",
    "        else:\n",
    "            prompt += f\"Disliked {get_item_description(item_information_dict[str(item)])}\\n\"\n",
    "    \n",
    "    target_item = item_list[-1]\n",
    "    if str(target_item) not in item_information_dict:\n",
    "        continue\n",
    "    target_item_details = get_item_description(item_information_dict[str(target_item)])\n",
    "    target_item_rating = user_rating_dict[user_rating_dict['item'] == target_item]['rating'].values[0]\n",
    "    prompt += f\"\\nThe user purchased the next target item - {target_item_details}\"\n",
    "    \n",
    "    prompt += f\"\"\"\\nDo not use any information not mentioned above. As an expert fashion product recommender, do the following steps -\n",
    "    Predict whether the user will like the target item or not in the following format - Prediction: Yes or No\n",
    "    by analyzing the provided list of products purchased by the user in order and summarize the user behavior by identifying the characteristics he liked and disliked about the products in at most 100 words.\n",
    "    Explain with reasoning whether the user will like or dislike the target item - {item_information_dict[str(target_item)]['title']} in atmost 100 words.\"\"\"\n",
    "    temp_dict[\"input\"] = prompt\n",
    "\n",
    "    temp_dict[\"output\"] = get_new_reasoning_text(reasoning)\n",
    "    final_valid_dict.append(temp_dict)\n",
    "    # print(final_train_dict)\n",
    "    total_len = len(temp_dict['instruction'].split()) + len(temp_dict['input'].split()) + len(temp_dict['output'].split())\n",
    "    avg_total_len += total_len\n",
    "    max_total_len = max(max_total_len, total_len)\n",
    "    # break\n",
    "print(\"Length of final_train_dict:\", len(final_valid_dict), final_valid_dict[0])\n",
    "print(\"Avg Length:\", avg_total_len/len(final_valid_dict))\n",
    "print(\"Max length:\", max_total_len)"
   ]
  },
  {
   "cell_type": "code",
   "execution_count": 18,
   "id": "a18fc4c7",
   "metadata": {},
   "outputs": [
    {
     "name": "stdout",
     "output_type": "stream",
     "text": [
      "573 43 616\n"
     ]
    }
   ],
   "source": [
    "yes_cnt = 0\n",
    "no_cnt = 0\n",
    "for valid_data in final_valid_dict:\n",
    "    pred = valid_data['output'].split(' ')[1]\n",
    "    # print(pred)\n",
    "    if pred == 'Yes':\n",
    "        yes_cnt += 1\n",
    "    elif pred == 'No':\n",
    "        no_cnt += 1\n",
    "    else:\n",
    "        print(pred, '--', train_data['output'])\n",
    "print(yes_cnt, no_cnt, yes_cnt + no_cnt)"
   ]
  },
  {
   "cell_type": "code",
   "execution_count": 19,
   "id": "ba238ccf",
   "metadata": {},
   "outputs": [],
   "source": [
    "final_valid_path = \"./final_data/beauty/valid.json\"\n",
    "with open(final_valid_path, 'w') as f:\n",
    "    json.dump(final_valid_dict, f)"
   ]
  },
  {
   "cell_type": "code",
   "execution_count": 20,
   "id": "7c084f06",
   "metadata": {},
   "outputs": [
    {
     "name": "stdout",
     "output_type": "stream",
     "text": [
      "{'instruction': 'You are an expert fashion product recommender. Given the list of recent liked and disliked items and their price, brand, and description, identify whether the user will like or dislike the target item by providing reasoning for the same. Please follow further instruction below. ', 'input': '\\n User purchased the following items recently in given order. List of user behaviour for recent items and their description -Liked Yardley By Yardley Of London Unisexs Lay It On Thick Hand &amp; Foot Cream 5.3 Oz Brand: Yardley Price:  Description: \\n\\nProduct: Shower Gel\\nPositive features: Lovely holiday scent, mild scrub, good quality, great smell, works well, fresh fruity scent, creamy suds.\\nNegative features: Small size, discontinued.\\n\\nConcise product description: \"Shower Gel with\\nLiked Fruits &amp; Passion Blue Refreshing Shower Gel - 6.7 fl. oz. Brand: Fruits & Passion Price:  Description: \\n\\nThe product is a Body Shop shower gel, with a strong fragrance and great quality, but may be discontinued. It is delivered quickly and gift wrapped.\\nLiked Bonne Bell Smackers Bath and Body Starburst Collection Brand: Bonne Bell Price:  Description: \\n\\nProduct Description:\\nPattern shower gel is a highly recommended product for all skin types, providing a refreshing and cooling sensation. It has a pleasant scent and is great for fine hair, but is unfortunately discontinued by Bain De Terre.\\n\\nThe user purchased the next target item - Bath &amp; Body Works Ile De Tahiti Moana Coconut Vanille Moana Body Wash with Tamanoi 8.5 oz Brand: Bath & Body Works Price:  Description: \\n\\nThe product is a high-quality, good smelling cologne for men. It comes in various scents and is infused with pheromones. However, the scent may not last long after showering.\\n\\nThe product is a high-quality, good smelling cologne for\\nDo not use any information not mentioned above. As an expert fashion product recommender, do the following steps -\\n    Predict whether the user will like the target item or not in the following format - Prediction: Yes or No\\n    by analyzing the provided list of products purchased by the user in order and summarize the user behavior by identifying the characteristics he liked and disliked about the products in at most 100 words.\\n    Explain with reasoning whether the user will like or dislike the target item - Bath &amp; Body Works Ile De Tahiti Moana Coconut Vanille Moana Body Wash with Tamanoi 8.5 oz in atmost 100 words.', 'output': \"Prediction: Yes \\n Answer:  1. The user seems to prefer shower gels with refreshing and mild scents, as indicated by their positive feedback on products with fruity, fresh, and holiday scents. They also appreciate creamy suds and mild scrubs. However, they dislike small sizes and discontinued products, suggesting a preference for value and availability. 2. The user will like the next item because it is a shower gel, which they have shown a preference for. The product's strong fragrance and good quality align with their desired characteristics. Although the scent may not last long after showering, the user has not explicitly mentioned this as a negative feature in their previous purchases. Therefore, the user is likely to appreciate the product's refreshing and cooling sensation, pleasant scent, and suitability for all skin types.\"}\n",
      "{'instruction': 'You are an expert fashion product recommender. Given the list of recent liked and disliked items and their price, brand, and description, identify whether the user will like or dislike the target item by providing reasoning for the same. Please follow further instruction below. ', 'input': '\\n User purchased the following items recently in given order. List of user behaviour for recent items and their description -Liked Yardley By Yardley Of London Unisexs Lay It On Thick Hand &amp; Foot Cream 5.3 Oz Brand: Yardley Price:  Description: \\n\\nProduct: Shower Gel\\nPositive features: Lovely holiday scent, mild scrub, good quality, great smell, works well, fresh fruity scent, creamy suds.\\nNegative features: Small size, discontinued.\\n\\nConcise product description: \"Shower Gel with\\nLiked Fruits &amp; Passion Blue Refreshing Shower Gel - 6.7 fl. oz. Brand: Fruits & Passion Price:  Description: \\n\\nThe product is a Body Shop shower gel, with a strong fragrance and great quality, but may be discontinued. It is delivered quickly and gift wrapped.\\nLiked Bonne Bell Smackers Bath and Body Starburst Collection Brand: Bonne Bell Price:  Description: \\n\\nProduct Description:\\nPattern shower gel is a highly recommended product for all skin types, providing a refreshing and cooling sensation. It has a pleasant scent and is great for fine hair, but is unfortunately discontinued by Bain De Terre.\\nLiked Bath &amp; Body Works Ile De Tahiti Moana Coconut Vanille Moana Body Wash with Tamanoi 8.5 oz Brand: Bath & Body Works Price:  Description: \\n\\nThe product is a high-quality, good smelling cologne for men. It comes in various scents and is infused with pheromones. However, the scent may not last long after showering.\\n\\nThe product is a high-quality, good smelling cologne for\\n\\nThe user purchased the next target item - Bath &amp; Body Works Ile De Tahiti Moana Coconut Vanille Moana Body Wash with Tamanoi 8.5 oz Brand: Bath & Body Works Price:  Description: \\n\\nThe product is a high-quality, good smelling cologne for men. It comes in various scents and is infused with pheromones. However, the scent may not last long after showering.\\n\\nThe product is a high-quality, good smelling cologne for\\nDo not use any information not mentioned above. As an expert fashion product recommender, do the following steps -\\n    Predict whether the user will like the target item or not in the following format - Prediction: Yes or No\\n    by analyzing the provided list of products purchased by the user in order and summarize the user behavior by identifying the characteristics he liked and disliked about the products in at most 100 words.\\n    Explain with reasoning whether the user will like or dislike the target item - Bath &amp; Body Works Ile De Tahiti Moana Coconut Vanille Moana Body Wash with Tamanoi 8.5 oz in atmost 100 words.', 'output': \"Prediction: Yes \\n 1. The user seems to prefer shower gels and body washes with strong, refreshing scents, as indicated by their positive feedback on products with fruity, holiday, and coconut vanille scents. They also appreciate mild scrubs and creamy suds. However, they dislike small sizes and discontinued products. 2. Based on the user's past purchases and preferences, they are likely to enjoy the Bath & Body Works Ile De Tahiti Moana Coconut Vanille Moana Body Wash with Tamanoi 8.5 oz. This product has a strong, refreshing scent of coconut vanille, which aligns with the user's preference for fruity and holiday scents. Additionally, the product is not discontinued, which addresses the user's dislike for discontinued products. The user's positive feedback on the previous shower gel with a mild scrub suggests that they may appreciate the refreshing and cooling sensation provided by this product. Therefore, it is highly likely that the user will like this product.\"}\n"
     ]
    }
   ],
   "source": [
    "user = 121\n",
    "print(final_train_dict[user])\n",
    "print(final_valid_dict[user])"
   ]
  },
  {
   "cell_type": "code",
   "execution_count": null,
   "id": "300f72af",
   "metadata": {},
   "outputs": [],
   "source": []
  },
  {
   "cell_type": "code",
   "execution_count": 21,
   "id": "dcdd0037",
   "metadata": {},
   "outputs": [
    {
     "name": "stdout",
     "output_type": "stream",
     "text": [
      "User: 64 Item: 229 error index 0 is out of bounds for axis 0 with size 0\n",
      "User: 215 Item: 399 error index 0 is out of bounds for axis 0 with size 0\n",
      "User: 401 Item: 880 error index 0 is out of bounds for axis 0 with size 0\n",
      "User: 427 Item: 399 error index 0 is out of bounds for axis 0 with size 0\n",
      "Length of final_train_dict: 616 {'instruction': 'You are an expert fashion product recommender. Given the list of recent liked and disliked items and their price, brand, and description, identify whether the user will like or dislike the target item by providing reasoning for the same. Please follow further instruction below. ', 'input': '\\n User purchased the following items recently in given order. List of user behaviour for recent items and their description -Liked Yardley By Yardley Of London Unisexs Lay It On Thick Hand &amp; Foot Cream 5.3 Oz Brand: Yardley Price:  Description: \\n\\nProduct: Shower Gel\\nPositive features: Lovely holiday scent, mild scrub, good quality, great smell, works well, fresh fruity scent, creamy suds.\\nNegative features: Small size, discontinued.\\n\\nConcise product description: \"Shower Gel with\\nLiked Fruits &amp; Passion Blue Refreshing Shower Gel - 6.7 fl. oz. Brand: Fruits & Passion Price:  Description: \\n\\nThe product is a Body Shop shower gel, with a strong fragrance and great quality, but may be discontinued. It is delivered quickly and gift wrapped.\\nLiked Bonne Bell Smackers Bath and Body Starburst Collection Brand: Bonne Bell Price:  Description: \\n\\nProduct Description:\\nPattern shower gel is a highly recommended product for all skin types, providing a refreshing and cooling sensation. It has a pleasant scent and is great for fine hair, but is unfortunately discontinued by Bain De Terre.\\nLiked Bath &amp; Body Works Ile De Tahiti Moana Coconut Vanille Moana Body Wash with Tamanoi 8.5 oz Brand: Bath & Body Works Price:  Description: \\n\\nThe product is a high-quality, good smelling cologne for men. It comes in various scents and is infused with pheromones. However, the scent may not last long after showering.\\n\\nThe product is a high-quality, good smelling cologne for\\nLiked Bath &amp; Body Works Ile De Tahiti Moana Coconut Vanille Moana Body Wash with Tamanoi 8.5 oz Brand: Bath & Body Works Price:  Description: \\n\\nThe product is a high-quality, good smelling cologne for men. It comes in various scents and is infused with pheromones. However, the scent may not last long after showering.\\n\\nThe product is a high-quality, good smelling cologne for\\n\\nThe user purchased the next target item - Bumble and Bumble Hairdresser\\'s Invisible Oil, 3.4 Ounce Brand: Bumble and Bumble Price: $35.99 Description: \\n\\nThe product is a high-quality, long-lasting hair oil that adds shine and softness to hair, especially beneficial for color-treated hair. However, it is pricey, lacks a cover, and has a strong scent that may not appeal to everyone.\\nDo not use any information not mentioned above. As an expert fashion product recommender, do the following steps -\\n    Predict whether the user will like the target item or not in the following format - Prediction: Yes or No\\n    by analyzing the provided list of products purchased by the user in order and summarize the user behavior by identifying the characteristics he liked and disliked about the products in at most 100 words.\\n    Explain with reasoning whether the user will like or dislike the target item - Bumble and Bumble Hairdresser\\'s Invisible Oil, 3.4 Ounce in atmost 100 words.', 'output': \"Prediction: Yes \\n 1. The user seems to prefer shower gels and body washes with strong, fresh, and fruity scents. They appreciate when the product has a mild scrub and works well, but dislike small sizes and discontinued items. They also seem to enjoy products from brands like Bath & Body Works and Fruits & Passion. 2. Based on the user's past purchases, it is likely that they will enjoy the Bumble and Bumble Hairdresser's Invisible Oil. The product is high-quality and long-lasting, which aligns with the user's preference for products that work well. Additionally, the oil adds shine and softness to hair, which is a positive feature for the user. Although the product is pricey and has a strong scent, the user has shown a willingness to pay more for high-quality products and has not explicitly mentioned an aversion to strong scents. Therefore, the benefits of the product are likely to outweigh any potential drawbacks for the user.\"}\n",
      "Avg Length: 647.7126623376623\n",
      "Max length: 791\n"
     ]
    }
   ],
   "source": [
    "### For Test Data\n",
    "final_test_dict = list()\n",
    "cnt = 0\n",
    "max_total_len = 0\n",
    "avg_total_len = 0\n",
    "for user, reasoning in reasoning_test.items():\n",
    "    # print(f\"User: {user}\")\n",
    "    cnt += 1\n",
    "    user_rating_dict = ratings_df[ratings_df['user'] == int(user)]\n",
    "    # print(user_rating_dict)\n",
    "\n",
    "    temp_dict = dict()\n",
    "    temp_dict[\"instruction\"] = \"You are an expert fashion product recommender. Given the list of recent liked and disliked items and their price, brand, and description, identify whether the user will like or dislike the target item by providing reasoning for the same. Please follow further instruction below. \"\n",
    "    prompt = \"\\n User purchased the following items recently in given order. List of user behaviour for recent items and their description -\"\n",
    "    item_list = user_test_dict[user]\n",
    "    # print(item_list)\n",
    "    for item in item_list[:-1]:\n",
    "        try:\n",
    "            user_item_rating = user_rating_dict[user_rating_dict['item'] == item]['rating'].values[0]\n",
    "        except Exception as e:\n",
    "            print(f\"User: {user} Item: {item} error {e}\")\n",
    "            continue\n",
    "        if user_item_rating > 3:\n",
    "            ### Liked\n",
    "            prompt += f\"Liked {get_item_description(item_information_dict[str(item)])}\\n\"\n",
    "        else:\n",
    "            prompt += f\"Disliked {get_item_description(item_information_dict[str(item)])}\\n\"\n",
    "    \n",
    "    target_item = item_list[-1]\n",
    "    if str(target_item) not in item_information_dict:\n",
    "        continue\n",
    "    target_item_details = get_item_description(item_information_dict[str(target_item)])\n",
    "    target_item_rating = user_rating_dict[user_rating_dict['item'] == target_item]['rating'].values[0]\n",
    "    prompt += f\"\\nThe user purchased the next target item - {target_item_details}\"\n",
    "    \n",
    "    prompt += f\"\"\"\\nDo not use any information not mentioned above. As an expert fashion product recommender, do the following steps -\n",
    "    Predict whether the user will like the target item or not in the following format - Prediction: Yes or No\n",
    "    by analyzing the provided list of products purchased by the user in order and summarize the user behavior by identifying the characteristics he liked and disliked about the products in at most 100 words.\n",
    "    Explain with reasoning whether the user will like or dislike the target item - {item_information_dict[str(target_item)]['title']} in atmost 100 words.\"\"\"\n",
    "    temp_dict[\"input\"] = prompt\n",
    "\n",
    "    temp_dict[\"output\"] = get_new_reasoning_text(reasoning)\n",
    "    final_test_dict.append(temp_dict)\n",
    "    # print(final_train_dict)\n",
    "    total_len = len(temp_dict['instruction'].split()) + len(temp_dict['input'].split()) + len(temp_dict['output'].split())\n",
    "    avg_total_len += total_len\n",
    "    max_total_len = max(max_total_len, total_len)\n",
    "    # break\n",
    "print(\"Length of final_train_dict:\", len(final_test_dict), final_test_dict[0])\n",
    "print(\"Avg Length:\", avg_total_len/len(final_test_dict))\n",
    "print(\"Max length:\", max_total_len)"
   ]
  },
  {
   "cell_type": "code",
   "execution_count": 22,
   "id": "fcc6e6e0",
   "metadata": {},
   "outputs": [
    {
     "name": "stdout",
     "output_type": "stream",
     "text": [
      "571 45 616\n"
     ]
    }
   ],
   "source": [
    "yes_cnt = 0\n",
    "no_cnt = 0\n",
    "for test_data in final_test_dict:\n",
    "    pred = test_data['output'].split(' ')[1]\n",
    "    # print(pred)\n",
    "    if pred == 'Yes':\n",
    "        yes_cnt += 1\n",
    "    elif pred == 'No':\n",
    "        no_cnt += 1\n",
    "    else:\n",
    "        print(pred, '--', test_data['output'])\n",
    "print(yes_cnt, no_cnt, yes_cnt + no_cnt)"
   ]
  },
  {
   "cell_type": "code",
   "execution_count": 23,
   "id": "3da223fd",
   "metadata": {},
   "outputs": [
    {
     "name": "stdout",
     "output_type": "stream",
     "text": [
      "{'instruction': 'You are an expert fashion product recommender. Given the list of recent liked and disliked items and their price, brand, and description, identify whether the user will like or dislike the target item by providing reasoning for the same. Please follow further instruction below. ', 'input': '\\n User purchased the following items recently in given order. List of user behaviour for recent items and their description -Liked Yardley By Yardley Of London Unisexs Lay It On Thick Hand &amp; Foot Cream 5.3 Oz Brand: Yardley Price:  Description: \\n\\nProduct: Shower Gel\\nPositive features: Lovely holiday scent, mild scrub, good quality, great smell, works well, fresh fruity scent, creamy suds.\\nNegative features: Small size, discontinued.\\n\\nConcise product description: \"Shower Gel with\\nLiked Fruits &amp; Passion Blue Refreshing Shower Gel - 6.7 fl. oz. Brand: Fruits & Passion Price:  Description: \\n\\nThe product is a Body Shop shower gel, with a strong fragrance and great quality, but may be discontinued. It is delivered quickly and gift wrapped.\\nLiked Bonne Bell Smackers Bath and Body Starburst Collection Brand: Bonne Bell Price:  Description: \\n\\nProduct Description:\\nPattern shower gel is a highly recommended product for all skin types, providing a refreshing and cooling sensation. It has a pleasant scent and is great for fine hair, but is unfortunately discontinued by Bain De Terre.\\nLiked Bath &amp; Body Works Ile De Tahiti Moana Coconut Vanille Moana Body Wash with Tamanoi 8.5 oz Brand: Bath & Body Works Price:  Description: \\n\\nThe product is a high-quality, good smelling cologne for men. It comes in various scents and is infused with pheromones. However, the scent may not last long after showering.\\n\\nThe product is a high-quality, good smelling cologne for\\nLiked Bath &amp; Body Works Ile De Tahiti Moana Coconut Vanille Moana Body Wash with Tamanoi 8.5 oz Brand: Bath & Body Works Price:  Description: \\n\\nThe product is a high-quality, good smelling cologne for men. It comes in various scents and is infused with pheromones. However, the scent may not last long after showering.\\n\\nThe product is a high-quality, good smelling cologne for\\n\\nThe user purchased the next target item - EO Shower Gel Grapefruit &amp; Mint 32 oz Brand: E&O Essentials Price:  Description: \\n\\nThe product is a wonderful soap with a great scent, suitable for sensitive skin, and free of sulfates. It has a nice smell and quick delivery, but some users find it soapy.\\nDo not use any information not mentioned above. As an expert fashion product recommender, do the following steps -\\n    Predict whether the user will like the target item or not in the following format - Prediction: Yes or No\\n    by analyzing the provided list of products purchased by the user in order and summarize the user behavior by identifying the characteristics he liked and disliked about the products in at most 100 words.\\n    Explain with reasoning whether the user will like or dislike the target item - EO Shower Gel Grapefruit &amp; Mint 32 oz in atmost 100 words.', 'output': \"Prediction: Yes \\n 1. The user seems to prefer shower gels with strong, fresh, and fruity scents. They appreciate mild scrubs and good quality products, but dislike small sizes and discontinued items. They also value quick delivery and gift wrapping. 2. The user will like the next item, EO Shower Gel Grapefruit & Mint 32 oz, because it is a shower gel with a strong, fresh, and fruity scent (grapefruit) that aligns with their preference. The product is also from a brand, E&O Essentials, which suggests good quality. Additionally, the large size of the product (32 oz) addresses the user's dislike of small sizes. The product's suitability for sensitive skin and quick delivery are added bonuses.\"}\n"
     ]
    }
   ],
   "source": [
    "user = 121\n",
    "# print(final_train_dict[user])\n",
    "# print(final_valid_dict[user])\n",
    "print(final_test_dict[user])"
   ]
  },
  {
   "cell_type": "code",
   "execution_count": 24,
   "id": "6595df0c",
   "metadata": {},
   "outputs": [],
   "source": [
    "final_test_path = \"./final_data/beauty/test.json\"\n",
    "with open(final_test_path, 'w') as f:\n",
    "    json.dump(final_test_dict, f)"
   ]
  },
  {
   "cell_type": "code",
   "execution_count": null,
   "id": "9cb4670a",
   "metadata": {},
   "outputs": [],
   "source": []
  }
 ],
 "metadata": {
  "kernelspec": {
   "display_name": "Python 3 (ipykernel)",
   "language": "python",
   "name": "python3"
  },
  "language_info": {
   "codemirror_mode": {
    "name": "ipython",
    "version": 3
   },
   "file_extension": ".py",
   "mimetype": "text/x-python",
   "name": "python",
   "nbconvert_exporter": "python",
   "pygments_lexer": "ipython3",
   "version": "3.9.18"
  }
 },
 "nbformat": 4,
 "nbformat_minor": 5
}
