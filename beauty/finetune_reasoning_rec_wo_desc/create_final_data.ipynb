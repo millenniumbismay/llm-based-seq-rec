{
 "cells": [
  {
   "cell_type": "code",
   "execution_count": 3,
   "id": "d030076e-28d9-4c3d-982d-fa6c4a634a96",
   "metadata": {},
   "outputs": [],
   "source": [
    "import pickle\n",
    "import pandas as pd\n",
    "import numpy as np\n",
    "import os\n",
    "import json\n",
    "import time\n",
    "from dotenv import load_dotenv"
   ]
  },
  {
   "cell_type": "code",
   "execution_count": 4,
   "id": "f20d1e2b-d511-4a45-bf2f-91346da269c3",
   "metadata": {},
   "outputs": [],
   "source": [
    "user_train_path = '/home/grads/m/mbismay/llm-based-seq-rec/beauty/beauty_data/processed_data/user_train.json'\n",
    "user_valid_path = '/home/grads/m/mbismay/llm-based-seq-rec/beauty/beauty_data/processed_data/user_valid.json'\n",
    "user_test_path = '/home/grads/m/mbismay/llm-based-seq-rec/beauty/beauty_data/processed_data/user_test.json'"
   ]
  },
  {
   "cell_type": "code",
   "execution_count": 5,
   "id": "28b4aaf2-9db0-4d75-a662-c7fc10dfa194",
   "metadata": {},
   "outputs": [],
   "source": [
    "with open(user_train_path, 'rb') as f:\n",
    "    user_train_dict = json.load(f)\n",
    "with open(user_valid_path, 'rb') as f:\n",
    "    user_valid_dict = json.load(f)\n",
    "with open(user_test_path, 'rb') as f:\n",
    "    user_test_dict = json.load(f)"
   ]
  },
  {
   "cell_type": "code",
   "execution_count": 6,
   "id": "f2a78613-a43b-4d56-b4b0-bf5bbf3288dc",
   "metadata": {},
   "outputs": [
    {
     "name": "stdout",
     "output_type": "stream",
     "text": [
      "[7, 8, 9, 9, 10]\n",
      "[7, 8, 9, 9, 10, 11]\n",
      "[8, 9, 9, 10, 11, 12]\n"
     ]
    }
   ],
   "source": [
    "user_id = '1'\n",
    "print(user_train_dict[user_id])\n",
    "print(user_valid_dict[user_id])\n",
    "print(user_test_dict[user_id])"
   ]
  },
  {
   "cell_type": "code",
   "execution_count": 7,
   "id": "335dd4fc",
   "metadata": {},
   "outputs": [
    {
     "name": "stdout",
     "output_type": "stream",
     "text": [
      "1216\n"
     ]
    }
   ],
   "source": [
    "item_information_path = '/home/grads/m/mbismay/llm-based-seq-rec/beauty/beauty_data/processed_data/processed_item_information.json'\n",
    "with open(item_information_path, 'r') as f:\n",
    "    item_information_dict = json.load(f)\n",
    "print(len(item_information_dict))"
   ]
  },
  {
   "cell_type": "code",
   "execution_count": 8,
   "id": "0fdc4135-2c09-439d-b4e7-40b13f36fa86",
   "metadata": {},
   "outputs": [
    {
     "data": {
      "text/html": [
       "<div>\n",
       "<style scoped>\n",
       "    .dataframe tbody tr th:only-of-type {\n",
       "        vertical-align: middle;\n",
       "    }\n",
       "\n",
       "    .dataframe tbody tr th {\n",
       "        vertical-align: top;\n",
       "    }\n",
       "\n",
       "    .dataframe thead th {\n",
       "        text-align: right;\n",
       "    }\n",
       "</style>\n",
       "<table border=\"1\" class=\"dataframe\">\n",
       "  <thead>\n",
       "    <tr style=\"text-align: right;\">\n",
       "      <th></th>\n",
       "      <th>item</th>\n",
       "      <th>user</th>\n",
       "      <th>rating</th>\n",
       "      <th>timestamp</th>\n",
       "    </tr>\n",
       "  </thead>\n",
       "  <tbody>\n",
       "    <tr>\n",
       "      <th>0</th>\n",
       "      <td>0</td>\n",
       "      <td>0</td>\n",
       "      <td>4.0</td>\n",
       "      <td>1155081600</td>\n",
       "    </tr>\n",
       "    <tr>\n",
       "      <th>1</th>\n",
       "      <td>1</td>\n",
       "      <td>0</td>\n",
       "      <td>5.0</td>\n",
       "      <td>1268697600</td>\n",
       "    </tr>\n",
       "    <tr>\n",
       "      <th>2</th>\n",
       "      <td>2</td>\n",
       "      <td>0</td>\n",
       "      <td>5.0</td>\n",
       "      <td>1404604800</td>\n",
       "    </tr>\n",
       "    <tr>\n",
       "      <th>3</th>\n",
       "      <td>3</td>\n",
       "      <td>0</td>\n",
       "      <td>5.0</td>\n",
       "      <td>1404604800</td>\n",
       "    </tr>\n",
       "    <tr>\n",
       "      <th>4</th>\n",
       "      <td>4</td>\n",
       "      <td>0</td>\n",
       "      <td>5.0</td>\n",
       "      <td>1404604800</td>\n",
       "    </tr>\n",
       "  </tbody>\n",
       "</table>\n",
       "</div>"
      ],
      "text/plain": [
       "   item  user  rating   timestamp\n",
       "0     0     0     4.0  1155081600\n",
       "1     1     0     5.0  1268697600\n",
       "2     2     0     5.0  1404604800\n",
       "3     3     0     5.0  1404604800\n",
       "4     4     0     5.0  1404604800"
      ]
     },
     "execution_count": 8,
     "metadata": {},
     "output_type": "execute_result"
    }
   ],
   "source": [
    "ratings_path = '../beauty_data/processed_data/ratings.csv'\n",
    "ratings_df = pd.read_csv(ratings_path)\n",
    "ratings_df.head()"
   ]
  },
  {
   "cell_type": "code",
   "execution_count": 9,
   "id": "bcb9bf7a-25c2-4161-b3bc-a94d07a60407",
   "metadata": {},
   "outputs": [],
   "source": [
    "reasoning_train_data = \"./reasoning_dataset/reasoning_data/reasoning_train_dict.pkl\"\n",
    "reasoning_valid_data = \"./reasoning_dataset/reasoning_data/reasoning_valid_dict.pkl\"\n",
    "reasoning_test_data = \"./reasoning_dataset/reasoning_data/reasoning_test_dict.pkl\""
   ]
  },
  {
   "cell_type": "code",
   "execution_count": 10,
   "id": "17bfbacd-caea-4ba2-a4f1-ac84c548877e",
   "metadata": {},
   "outputs": [],
   "source": [
    "with open(reasoning_train_data, 'rb') as f:\n",
    "    reasoning_train = pickle.load(f)\n",
    "with open(reasoning_valid_data, 'rb') as f:\n",
    "    reasoning_valid = pickle.load(f)\n",
    "with open(reasoning_test_data, 'rb') as f:\n",
    "    reasoning_test = pickle.load(f)"
   ]
  },
  {
   "cell_type": "code",
   "execution_count": 11,
   "id": "38765fde-b66e-4426-81f2-7d93b2b2c253",
   "metadata": {},
   "outputs": [
    {
     "name": "stdout",
     "output_type": "stream",
     "text": [
      "\n",
      "        1. The user seems to value durability and quality in their purchases. They disliked the 100% Cotton Premium Salon Towels because, despite being soft and thick, they unraveled after the first wash. This indicates that the user prioritizes products that can withstand wear and tear. On the other hand, the user liked Pre de Provence Artisanal French Soap Bar, essie nail polish, and cuticle care products, all of which are known for their high quality. The user appreciates products that deliver on their promises and meet expectations.\n",
      "        2. The user will like the Utopia Care Stainless Steel Fingernail Clipper because it is a durable and high-quality product. The clipper is made of stainless steel, which is known for its strength and resistance to corrosion. This means that the clipper is likely to last a long time and maintain its sharpness, even with regular use. Additionally, the clipper has a comfortable grip, making it easy to use. Given the user's preference for durable and high-quality products, the Utopia Care Stainless Steel Fingernail Clipper is a great fit\n",
      "Prediction: Yes\n",
      "\n",
      "        1. The user appears to value durability and quality in their purchases, as evidenced by their disappointment with the 100% Cotton Premium Salon Towels that unraveled after the first wash. However, the user also appreciates products that meet expectations, as seen with their positive reactions to Pre de Provence Artisanal French Soap Bar, essie nail polish, and Utopia Care Stainless Steel Fingernail Clipper. These products likely met the user's expectations in terms of quality and durability, as well as providing a positive user experience.\n",
      "        2. The user is likely to appreciate the Pre de Provence Maison French Dried Lavender Blossoms for Fragrance due to their previous positive experience with Pre de Provence products. The user values quality and durability, and Pre de Provence has already demonstrated their ability to meet these standards. Additionally, the user has shown a preference for products that provide a positive user experience, and the lavender blossoms are likely to provide a pleasant and calming aroma, contributing to a positive experience. Finally, the user has shown a willingness to pay a premium price for high-quality products, and\n",
      "Prediction: Yes\n",
      "\n",
      "        1. The user appears to value high-quality, durable products, as indicated by their preference for Pre de Provence soap and lavender blossoms, which are both long-lasting and luxurious. They also appreciate brands that are known for their quality, as evidenced by their purchase of essie nail polish and Utopia Care nail clippers. The user dislikes products that do not meet expectations, as seen with the 100% Cotton Premium Salon Towels. Despite being soft and thick, the towels unraveled after the first wash, which was disappointing for the user.\n",
      "        2. The user will like the Pre De Provence Maison French Lavender Bath & Shower Gel because it is from the same brand as the soap and lavender blossoms that they previously liked. The brand is known for its high-quality, luxurious products, which aligns with the user's preference for durability and quality. Additionally, the user has shown a liking for lavender-scented products, as indicated by their purchase of lavender blossoms. Therefore, the Pre De Provence Maison French Lavender Bath & Shower Gel is a product\n",
      "Prediction: Yes\n"
     ]
    }
   ],
   "source": [
    "# print(reasoning_prompt_train[user_id])\n",
    "print(reasoning_train[user_id])\n",
    "print(reasoning_valid[user_id])\n",
    "print(reasoning_test[user_id])"
   ]
  },
  {
   "cell_type": "code",
   "execution_count": 12,
   "id": "19bc745f",
   "metadata": {},
   "outputs": [],
   "source": [
    "def get_new_reasoning_text(reasoning):\n",
    "    # print(f\"reasoning: {reasoning}\")\n",
    "    new_reasoning_text = f\"Prediction: {reasoning.split(' ')[-1]} \\n\"\n",
    "    new_reasoning_text += ' '.join(s.strip() for s in reasoning.split(\"\\n\")[:-1])\n",
    "    # print(f\"new_reasoning_text: {new_reasoning_text}\")\n",
    "    return new_reasoning_text"
   ]
  },
  {
   "cell_type": "code",
   "execution_count": 14,
   "id": "ec8cdcc2",
   "metadata": {},
   "outputs": [],
   "source": [
    "def get_item_description(item_information):\n",
    "    item_details = \"\"\n",
    "    if 'title' in item_information:\n",
    "        item_details += item_information['title']\n",
    "    # if 'brand' in item_information:\n",
    "    #     item_details += f\" Brand: {item_information['brand']}\"\n",
    "    # if 'price' in item_information:\n",
    "    #     item_details += f\" Price: {item_information['price']}\"\n",
    "    # if 'description' in item_information:\n",
    "    #     item_details += f\" Description: {item_information['description']}\"\n",
    "    return item_details"
   ]
  },
  {
   "cell_type": "code",
   "execution_count": 15,
   "id": "a981bbbf",
   "metadata": {},
   "outputs": [
    {
     "name": "stdout",
     "output_type": "stream",
     "text": [
      "160 \n",
      "\n",
      "The user dislikes products that do not meet expectations, as seen with the 100% Cotton Premium Salon Towels. Despite being soft and thick, the towels unraveled after the first wash, which was disappointing for the user. The user seems to value durability and quality in their purchases.\n"
     ]
    }
   ],
   "source": [
    "user_profile_summary_path = '../beauty_data/processed_data/user_profile_summary.json'\n",
    "with open(user_profile_summary_path, 'r') as f:\n",
    "    user_profile_summary_dict = json.load(f)\n",
    "print(len(user_profile_summary_dict), user_profile_summary_dict['1'])"
   ]
  },
  {
   "cell_type": "code",
   "execution_count": 16,
   "id": "9d97a7fb",
   "metadata": {},
   "outputs": [
    {
     "name": "stdout",
     "output_type": "stream",
     "text": [
      "User: 64 Item: 229 error index 0 is out of bounds for axis 0 with size 0\n",
      "User: 215 Item: 399 error index 0 is out of bounds for axis 0 with size 0\n",
      "User: 274 Item: 399 error index 0 is out of bounds for axis 0 with size 0\n",
      "User: 401 Item: 880 error index 0 is out of bounds for axis 0 with size 0\n",
      "User: 427 Item: 399 error index 0 is out of bounds for axis 0 with size 0\n",
      "Length of final_train_dict: 616 {'instruction': \"You are an expert beauty product recommender. Given a user's profile and list of recent liked and disliked items, identify whether the user will like or dislike the target item by providing reasoning for the same. Please follow further instruction below. \", 'input': \"User Profile - \\n\\nThe user seems to prefer hypoallergenic fragrances and natural ingredients. They liked Fresh Eau De Parfum EDP - Fig Apricot, which is a hypoallergenic fragrance, indicating their preference for pleasant scents that don't cause allergies. They also liked Monoi - Monoi Pitate Jasmine, a jasmine-scented coconut oil, suggesting a preference for natural ingredients that are beneficial for dry skin and hair. The user may not prefer overpowering or artificial scents, as indicated by their dislike for KMRN Fresh Line, which may not offer a wide range of scents and may have a non-natural jasmine scent.\\n        User purchased the following items in the given order. List of recent items -\\n        Liked Fresh Eau De Parfum EDP - Fig Apricot 3.4oz (100ml)\\nLiked Monoi - Monoi Pitate Jasmine 4 fl oz\\nLiked Yardley By Yardley Of London Unisexs Lay It On Thick Hand &amp; Foot Cream 5.3 Oz\\nLiked Fruits &amp; Passion Blue Refreshing Shower Gel - 6.7 fl. oz.\\nLiked Bonne Bell Smackers Bath and Body Starburst Collection\\n\\nThe user purchased the next target item - Bath &amp; Body Works Ile De Tahiti Moana Coconut Vanille Moana Body Wash with Tamanoi 8.5 oz\\nDo not use any information not mentioned above. As an expert fashion product recommender, do the following steps -\\n    Predict whether the user will like the target item or not in the following format - Prediction: Yes or No\\n    by analyzing the provided list of products purchased by the user in order and summarize the user behavior by identifying the characteristics he liked and disliked about the products in at most 100 words.\\n    Explain with reasoning whether the user will like or dislike the target item - Bath &amp; Body Works Ile De Tahiti Moana Coconut Vanille Moana Body Wash with Tamanoi 8.5 oz in atmost 100 words.\", 'output': \"Prediction: Yes \\n 1. The user seems to prefer hypoallergenic fragrances and natural ingredients. They liked Fresh Eau De Parfum EDP - Fig Apricot, which is a hypoallergenic fragrance, indicating their preference for pleasant scents that don't cause allergies. They also liked Monoi - Monoi Pitate Jasmine, a jasmine-scented coconut oil, suggesting a preference for natural ingredients that are beneficial for dry skin and hair. The user may not prefer overpowering or artificial scents, as indicated by their dislike for KMRN Fresh Line. 2. The user will like the next item - Bath & Body Works Ile De Tahiti Moana Coconut Vanille Moana Body Wash with Tamanoi 8.5 oz because it is a hypoallergenic fragrance with natural ingredients. The product is made with Tamanoi, which is a natural ingredient derived from the Tahitian gardenia flower. The coconut vanille scent is also a natural scent that is not overpowering. The user's preference for natural ingredients and hypoallergenic fragrances aligns with\"}\n",
      "Avg Length: 416.31168831168833\n",
      "Max length: 609\n"
     ]
    }
   ],
   "source": [
    "### For Train Data\n",
    "final_train_dict = list()\n",
    "cnt = 0\n",
    "max_total_len = 0\n",
    "avg_total_len = 0\n",
    "for user, reasoning in reasoning_train.items():\n",
    "    # print(f\"User: {user}\")\n",
    "    cnt += 1\n",
    "    user_rating_dict = ratings_df[ratings_df['user'] == int(user)]\n",
    "    # print(user_rating_dict)\n",
    "\n",
    "    temp_dict = dict()\n",
    "    if user in user_profile_summary_dict:\n",
    "        temp_dict[\"instruction\"] = \"You are an expert beauty product recommender. Given a user's profile and list of recent liked and disliked items, identify whether the user will like or dislike the target item by providing reasoning for the same. Please follow further instruction below. \"\n",
    "        prompt = f\"\"\"User Profile - {user_profile_summary_dict[user]}\n",
    "        User purchased the following items in the given order. List of recent items -\n",
    "        \"\"\"\n",
    "    else:\n",
    "        temp_dict[\"instruction\"] = \"You are an expert beauty product recommender. Given a user's list of recent liked and disliked items, identify whether the user will like or dislike the target item by providing reasoning for the same. Please follow further instruction below. \"\n",
    "        prompt = \"User purchased the following items in the given order. List of recent items-\\n\"\n",
    "    item_list = user_train_dict[user]\n",
    "    # print(item_list)\n",
    "    for item in item_list[:-1]:\n",
    "        try:\n",
    "            user_item_rating = user_rating_dict[user_rating_dict['item'] == item]['rating'].values[0]\n",
    "        except Exception as e:\n",
    "            print(f\"User: {user} Item: {item} error {e}\")\n",
    "            continue\n",
    "        if user_item_rating > 3:\n",
    "            ### Liked\n",
    "            prompt += f\"Liked {get_item_description(item_information_dict[str(item)])}\\n\"\n",
    "        else:\n",
    "            prompt += f\"Disliked {get_item_description(item_information_dict[str(item)])}\\n\"\n",
    "    \n",
    "    target_item = item_list[-1]\n",
    "    if str(target_item) not in item_information_dict:\n",
    "        continue\n",
    "    target_item_details = get_item_description(item_information_dict[str(target_item)])\n",
    "    target_item_rating = user_rating_dict[user_rating_dict['item'] == target_item]['rating'].values[0]\n",
    "    prompt += f\"\\nThe user purchased the next target item - {target_item_details}\"\n",
    "    \n",
    "    prompt += f\"\"\"\\nDo not use any information not mentioned above. As an expert fashion product recommender, do the following steps -\n",
    "    Predict whether the user will like the target item or not in the following format - Prediction: Yes or No\n",
    "    by analyzing the provided list of products purchased by the user in order and summarize the user behavior by identifying the characteristics he liked and disliked about the products in at most 100 words.\n",
    "    Explain with reasoning whether the user will like or dislike the target item - {item_information_dict[str(target_item)]['title']} in atmost 100 words.\"\"\"\n",
    "    temp_dict[\"input\"] = prompt\n",
    "\n",
    "    temp_dict[\"output\"] = get_new_reasoning_text(reasoning)\n",
    "    final_train_dict.append(temp_dict)\n",
    "    # print(final_train_dict)\n",
    "    total_len = len(temp_dict['instruction'].split()) + len(temp_dict['input'].split()) + len(temp_dict['output'].split())\n",
    "    avg_total_len += total_len\n",
    "    max_total_len = max(max_total_len, total_len)\n",
    "    # break\n",
    "print(\"Length of final_train_dict:\", len(final_train_dict), final_train_dict[0])\n",
    "print(\"Avg Length:\", avg_total_len/len(final_train_dict))\n",
    "print(\"Max length:\", max_total_len)"
   ]
  },
  {
   "cell_type": "code",
   "execution_count": 17,
   "id": "f6df14e5",
   "metadata": {},
   "outputs": [
    {
     "data": {
      "text/plain": [
       "{'instruction': \"You are an expert beauty product recommender. Given a user's profile and list of recent liked and disliked items, identify whether the user will like or dislike the target item by providing reasoning for the same. Please follow further instruction below. \",\n",
       " 'input': 'User Profile - \\n\\nThe user seems to prefer purchasing multiple items in a set, as both products are sets of rings. They appreciate the variety in the sets, as indicated by their positive review of the mixed silver zircon diamond rings. However, they value quality over quantity, as they disliked the sterling silver plated rings due to their poor quality and late delivery. They may be interested in products that are both stylish and durable.\\n        User purchased the following items in the given order. List of recent items -\\n        Liked Woman Wholesale Lots 10PCS Fashion Sterling Silver Plated Mixed Design Ring Set 02\\nLiked Fashion Woman Wholesale Lots 10pcs Mixed Silver Zircon Diamond Rings Set 03\\nLiked 12 Classic Color Elegant Blush Set\\nLiked Doinshop Ladies 3d Heart Pendant Chain Necklace with a 16 Inch Adjustable Link Jewelry\\nLiked So Beauty Hot Newest Coming Fashion Single Nail Ring Mixed Metal Black Rhinestone Popular Finger Designs\\n\\nThe user purchased the next target item - Sannysis 1Pair Beautiful Silvering Crystal Shiny Ear Stud Earrings\\nDo not use any information not mentioned above. As an expert fashion product recommender, do the following steps -\\n    Predict whether the user will like the target item or not in the following format - Prediction: Yes or No\\n    by analyzing the provided list of products purchased by the user in order and summarize the user behavior by identifying the characteristics he liked and disliked about the products in at most 100 words.\\n    Explain with reasoning whether the user will like or dislike the target item - Sannysis 1Pair Beautiful Silvering Crystal Shiny Ear Stud Earrings in atmost 100 words.',\n",
       " 'output': \"Prediction: Yes \\n 1. The user seems to prefer purchasing multiple items in a set, as both the rings sets were purchased together. They appreciate the variety in the sets, as indicated by their positive review of the mixed silver zircon diamond rings. However, they value quality over quantity, as they disliked the sterling silver plated rings due to their poor quality and late delivery. They may be interested in products that are both stylish and durable. 2. The user will like the next item, Sannysis 1Pair Beautiful Silvering Crystal Shiny Ear Stud Earrings, because it is a single item that is both stylish and durable. The user has shown a preference for high-quality items, and these earrings are made of silvering crystal, which is likely to be more durable than the sterling silver plated rings they disliked. Additionally, the earrings are elegant and stylish, fitting with the user's preference for fashionable items. The user has also shown a willingness to purchase from new brands, as evidenced by their purchase of Emori and DOINSHOP products, so the unfamiliar brand name is not likely to be a deterrent.\"}"
      ]
     },
     "execution_count": 17,
     "metadata": {},
     "output_type": "execute_result"
    }
   ],
   "source": [
    "final_train_dict[183]"
   ]
  },
  {
   "cell_type": "code",
   "execution_count": 18,
   "id": "1080cc58",
   "metadata": {},
   "outputs": [
    {
     "name": "stdout",
     "output_type": "stream",
     "text": [
      "568 48 616\n"
     ]
    }
   ],
   "source": [
    "yes_cnt = 0\n",
    "no_cnt = 0\n",
    "for train_data in final_train_dict:\n",
    "    pred = train_data['output'].split(' ')[1]\n",
    "    # print(pred)\n",
    "    if pred == 'Yes':\n",
    "        yes_cnt += 1\n",
    "    elif pred == 'No':\n",
    "        no_cnt += 1\n",
    "    else:\n",
    "        print(pred, '--', train_data['output'])\n",
    "print(yes_cnt, no_cnt, yes_cnt + no_cnt)"
   ]
  },
  {
   "cell_type": "code",
   "execution_count": 19,
   "id": "54a33c95-264b-436d-a2c4-824025cf1453",
   "metadata": {},
   "outputs": [],
   "source": [
    "final_train_path = \"./final_data/beauty/train.json\"\n",
    "with open(final_train_path, 'w') as f:\n",
    "    json.dump(final_train_dict, f)"
   ]
  },
  {
   "cell_type": "code",
   "execution_count": 20,
   "id": "46a2eb92-fd9b-4e53-9372-0ee9d2f8cd70",
   "metadata": {},
   "outputs": [
    {
     "name": "stdout",
     "output_type": "stream",
     "text": [
      "User: 64 Item: 229 error index 0 is out of bounds for axis 0 with size 0\n",
      "User: 215 Item: 399 error index 0 is out of bounds for axis 0 with size 0\n",
      "User: 401 Item: 880 error index 0 is out of bounds for axis 0 with size 0\n",
      "User: 427 Item: 399 error index 0 is out of bounds for axis 0 with size 0\n",
      "Length of final_train_dict: 616 {'instruction': \"You are an expert beauty product recommender. Given a user's profile and list of recent liked and disliked items, identify whether the user will like or dislike the target item by providing reasoning for the same. Please follow further instruction below. \", 'input': \"User Profile - \\n\\nThe user seems to prefer hypoallergenic fragrances and natural ingredients. They liked Fresh Eau De Parfum EDP - Fig Apricot, which is a hypoallergenic fragrance, indicating their preference for pleasant scents that don't cause allergies. They also liked Monoi - Monoi Pitate Jasmine, a jasmine-scented coconut oil, suggesting a preference for natural ingredients that are beneficial for dry skin and hair. The user may not prefer overpowering or artificial scents, as indicated by their dislike for KMRN Fresh Line, which may not offer a wide range of scents and may have a non-natural jasmine scent.\\n        User purchased the following items in the given order. List of recent items -\\n        Liked Monoi - Monoi Pitate Jasmine 4 fl oz\\nLiked Yardley By Yardley Of London Unisexs Lay It On Thick Hand &amp; Foot Cream 5.3 Oz\\nLiked Fruits &amp; Passion Blue Refreshing Shower Gel - 6.7 fl. oz.\\nLiked Bonne Bell Smackers Bath and Body Starburst Collection\\nLiked Bath &amp; Body Works Ile De Tahiti Moana Coconut Vanille Moana Body Wash with Tamanoi 8.5 oz\\n\\nThe user purchased the next target item - Bath &amp; Body Works Ile De Tahiti Moana Coconut Vanille Moana Body Wash with Tamanoi 8.5 oz\\nDo not use any information not mentioned above. As an expert fashion product recommender, do the following steps -\\n    Predict whether the user will like the target item or not in the following format - Prediction: Yes or No\\n    by analyzing the provided list of products purchased by the user in order and summarize the user behavior by identifying the characteristics he liked and disliked about the products in at most 100 words.\\n    Explain with reasoning whether the user will like or dislike the target item - Bath &amp; Body Works Ile De Tahiti Moana Coconut Vanille Moana Body Wash with Tamanoi 8.5 oz in atmost 100 words.\", 'output': \"Prediction: Yes \\n 1. The user seems to prefer natural ingredients and hypoallergenic fragrances. They liked Monoi - Monoi Pitate Jasmine, a jasmine-scented coconut oil, suggesting a preference for natural ingredients that are beneficial for dry skin and hair. They also liked Fresh Eau De Parfum EDP - Fig Apricot, which is a hypoallergenic fragrance, indicating their preference for pleasant scents that don't cause allergies. The user may not prefer overpowering or artificial scents, as indicated by their dislike for KMRN Fresh Line. 2. The user will like the next item, Bath &amp; Body Works Ile De Tahiti Moana Coconut Vanille Moana Body Wash with Tamanoi 8.5 oz, because it is a hypoallergenic fragrance with natural ingredients. The user has shown a preference for natural ingredients, such as coconut oil, and hypoallergenic fragrances, such as Fresh Eau De Parfum EDP - Fig Apricot. The product is also from a reputable brand, Bath & Body Works, which the user\"}\n",
      "Avg Length: 425.3944805194805\n",
      "Max length: 628\n"
     ]
    }
   ],
   "source": [
    "### For Valid Data\n",
    "final_valid_dict = list()\n",
    "cnt = 0\n",
    "max_total_len = 0\n",
    "avg_total_len = 0\n",
    "for user, reasoning in reasoning_valid.items():\n",
    "    # print(f\"User: {user}\")\n",
    "    cnt += 1\n",
    "    user_rating_dict = ratings_df[ratings_df['user'] == int(user)]\n",
    "    # print(user_rating_dict)\n",
    "\n",
    "    temp_dict = dict()\n",
    "    if user in user_profile_summary_dict:\n",
    "        temp_dict[\"instruction\"] = \"You are an expert beauty product recommender. Given a user's profile and list of recent liked and disliked items, identify whether the user will like or dislike the target item by providing reasoning for the same. Please follow further instruction below. \"\n",
    "        prompt = f\"\"\"User Profile - {user_profile_summary_dict[user]}\n",
    "        User purchased the following items in the given order. List of recent items -\n",
    "        \"\"\"\n",
    "    else:\n",
    "        temp_dict[\"instruction\"] = \"You are an expert beauty product recommender. Given a user's list of recent liked and disliked items, identify whether the user will like or dislike the target item by providing reasoning for the same. Please follow further instruction below. \"\n",
    "        prompt = \"User purchased the following items in the given order. List of recent items-\\n\"\n",
    "    item_list = user_valid_dict[user]\n",
    "    # print(item_list)\n",
    "    for item in item_list[:-1]:\n",
    "        try:\n",
    "            user_item_rating = user_rating_dict[user_rating_dict['item'] == item]['rating'].values[0]\n",
    "        except Exception as e:\n",
    "            print(f\"User: {user} Item: {item} error {e}\")\n",
    "            continue\n",
    "        if user_item_rating > 3:\n",
    "            ### Liked\n",
    "            prompt += f\"Liked {get_item_description(item_information_dict[str(item)])}\\n\"\n",
    "        else:\n",
    "            prompt += f\"Disliked {get_item_description(item_information_dict[str(item)])}\\n\"\n",
    "    \n",
    "    target_item = item_list[-1]\n",
    "    if str(target_item) not in item_information_dict:\n",
    "        continue\n",
    "    target_item_details = get_item_description(item_information_dict[str(target_item)])\n",
    "    target_item_rating = user_rating_dict[user_rating_dict['item'] == target_item]['rating'].values[0]\n",
    "    prompt += f\"\\nThe user purchased the next target item - {target_item_details}\"\n",
    "    \n",
    "    prompt += f\"\"\"\\nDo not use any information not mentioned above. As an expert fashion product recommender, do the following steps -\n",
    "    Predict whether the user will like the target item or not in the following format - Prediction: Yes or No\n",
    "    by analyzing the provided list of products purchased by the user in order and summarize the user behavior by identifying the characteristics he liked and disliked about the products in at most 100 words.\n",
    "    Explain with reasoning whether the user will like or dislike the target item - {item_information_dict[str(target_item)]['title']} in atmost 100 words.\"\"\"\n",
    "    temp_dict[\"input\"] = prompt\n",
    "\n",
    "    temp_dict[\"output\"] = get_new_reasoning_text(reasoning)\n",
    "    final_valid_dict.append(temp_dict)\n",
    "    # print(final_train_dict)\n",
    "    total_len = len(temp_dict['instruction'].split()) + len(temp_dict['input'].split()) + len(temp_dict['output'].split())\n",
    "    avg_total_len += total_len\n",
    "    max_total_len = max(max_total_len, total_len)\n",
    "    # break\n",
    "print(\"Length of final_train_dict:\", len(final_valid_dict), final_valid_dict[0])\n",
    "print(\"Avg Length:\", avg_total_len/len(final_valid_dict))\n",
    "print(\"Max length:\", max_total_len)"
   ]
  },
  {
   "cell_type": "code",
   "execution_count": 21,
   "id": "a18fc4c7",
   "metadata": {},
   "outputs": [
    {
     "name": "stdout",
     "output_type": "stream",
     "text": [
      "573 43 616\n"
     ]
    }
   ],
   "source": [
    "yes_cnt = 0\n",
    "no_cnt = 0\n",
    "for valid_data in final_valid_dict:\n",
    "    pred = valid_data['output'].split(' ')[1]\n",
    "    # print(pred)\n",
    "    if pred == 'Yes':\n",
    "        yes_cnt += 1\n",
    "    elif pred == 'No':\n",
    "        no_cnt += 1\n",
    "    else:\n",
    "        print(pred, '--', train_data['output'])\n",
    "print(yes_cnt, no_cnt, yes_cnt + no_cnt)"
   ]
  },
  {
   "cell_type": "code",
   "execution_count": 22,
   "id": "ba238ccf",
   "metadata": {},
   "outputs": [],
   "source": [
    "final_valid_path = \"./final_data/beauty/valid.json\"\n",
    "with open(final_valid_path, 'w') as f:\n",
    "    json.dump(final_valid_dict, f)"
   ]
  },
  {
   "cell_type": "code",
   "execution_count": 23,
   "id": "7c084f06",
   "metadata": {},
   "outputs": [
    {
     "name": "stdout",
     "output_type": "stream",
     "text": [
      "{'instruction': \"You are an expert beauty product recommender. Given a user's list of recent liked and disliked items, identify whether the user will like or dislike the target item by providing reasoning for the same. Please follow further instruction below. \", 'input': 'User purchased the following items in the given order. List of recent items-\\nLiked Citre Shine Moisture Burst Shampoo - 16 fl oz\\nLiked Bonne Bell Smackers Bath and Body Starburst Collection\\nLiked Bath &amp; Body Works Ile De Tahiti Moana Coconut Vanille Moana Body Wash with Tamanoi 8.5 oz\\n\\nThe user purchased the next target item - Bath &amp; Body Works Ile De Tahiti Moana Coconut Vanille Moana Body Wash with Tamanoi 8.5 oz\\nDo not use any information not mentioned above. As an expert fashion product recommender, do the following steps -\\n    Predict whether the user will like the target item or not in the following format - Prediction: Yes or No\\n    by analyzing the provided list of products purchased by the user in order and summarize the user behavior by identifying the characteristics he liked and disliked about the products in at most 100 words.\\n    Explain with reasoning whether the user will like or dislike the target item - Bath &amp; Body Works Ile De Tahiti Moana Coconut Vanille Moana Body Wash with Tamanoi 8.5 oz in atmost 100 words.', 'output': \"Prediction: Yes \\n 1. The user seems to prefer products from well-known brands like Citre Shine and Bath & Body Works. They like items that are moisturizing and have a fruity or tropical scent, as indicated by their purchase of the Citre Shine Moisture Burst Shampoo and the Bonne Bell Smackers Bath and Body Starburst Collection. They also seem to enjoy products that are part of a collection or have a unique theme, as shown by their purchase of the Starburst Collection. 2. The user is likely to enjoy the next item, Bath & Body Works Ile De Tahiti Moana Coconut Vanille Moana Body Wash with Tamanoi 8.5 oz, because it is from a brand they have previously purchased from and liked. The product is also moisturizing and has a tropical scent, which aligns with the user's preferences. Additionally, the item is part of a collection, which the user has shown a fondness for in the past. Overall, the next item meets all of the user's known preferences and is therefore likely to be a hit.\"}\n",
      "{'instruction': \"You are an expert beauty product recommender. Given a user's list of recent liked and disliked items, identify whether the user will like or dislike the target item by providing reasoning for the same. Please follow further instruction below. \", 'input': 'User purchased the following items in the given order. List of recent items-\\nLiked Citre Shine Moisture Burst Shampoo - 16 fl oz\\nLiked Bonne Bell Smackers Bath and Body Starburst Collection\\nLiked Bath &amp; Body Works Ile De Tahiti Moana Coconut Vanille Moana Body Wash with Tamanoi 8.5 oz\\nLiked Bath &amp; Body Works Ile De Tahiti Moana Coconut Vanille Moana Body Wash with Tamanoi 8.5 oz\\n\\nThe user purchased the next target item - Avalon Grapefruit and Geranium Smoothing Shampoo, 11 Ounce\\nDo not use any information not mentioned above. As an expert fashion product recommender, do the following steps -\\n    Predict whether the user will like the target item or not in the following format - Prediction: Yes or No\\n    by analyzing the provided list of products purchased by the user in order and summarize the user behavior by identifying the characteristics he liked and disliked about the products in at most 100 words.\\n    Explain with reasoning whether the user will like or dislike the target item - Avalon Grapefruit and Geranium Smoothing Shampoo, 11 Ounce in atmost 100 words.', 'output': 'Prediction: Yes \\n 1. The user seems to prefer products from well-known brands like Citre Shine, Bonne Bell, and Bath & Body Works. They like shampoos that provide moisture and have a fruity or vanilla scent, as indicated by their purchase of Citre Shine Moisture Burst Shampoo and Bath & Body Works Ile De Tahiti Moana Coconut Vanille Moana Body Wash. They also seem to enjoy collecting items with a fun theme, as evidenced by their purchase of the Bonne Bell Smackers Bath and Body Starburst Collection. 2. The user is likely to enjoy the Avalon Grapefruit and Geranium Smoothing Shampoo because it is from a reputable brand, Avalon, and has a fruity scent that they seem to prefer. Additionally, the word \"smoothing\" in the product name suggests that it may provide moisture to the hair, which is another characteristic that the user seems to look for in their hair care products.'}\n"
     ]
    }
   ],
   "source": [
    "user = 121\n",
    "print(final_train_dict[user])\n",
    "print(final_valid_dict[user])"
   ]
  },
  {
   "cell_type": "code",
   "execution_count": null,
   "id": "300f72af",
   "metadata": {},
   "outputs": [],
   "source": []
  },
  {
   "cell_type": "code",
   "execution_count": 24,
   "id": "dcdd0037",
   "metadata": {},
   "outputs": [
    {
     "name": "stdout",
     "output_type": "stream",
     "text": [
      "User: 64 Item: 229 error index 0 is out of bounds for axis 0 with size 0\n",
      "User: 215 Item: 399 error index 0 is out of bounds for axis 0 with size 0\n",
      "User: 401 Item: 880 error index 0 is out of bounds for axis 0 with size 0\n",
      "User: 427 Item: 399 error index 0 is out of bounds for axis 0 with size 0\n",
      "Length of final_train_dict: 616 {'instruction': \"You are an expert beauty product recommender. Given a user's profile and list of recent liked and disliked items, identify whether the user will like or dislike the target item by providing reasoning for the same. Please follow further instruction below. \", 'input': \"User Profile - \\n\\nThe user seems to prefer hypoallergenic fragrances and natural ingredients. They liked Fresh Eau De Parfum EDP - Fig Apricot, which is a hypoallergenic fragrance, indicating their preference for pleasant scents that don't cause allergies. They also liked Monoi - Monoi Pitate Jasmine, a jasmine-scented coconut oil, suggesting a preference for natural ingredients that are beneficial for dry skin and hair. The user may not prefer overpowering or artificial scents, as indicated by their dislike for KMRN Fresh Line, which may not offer a wide range of scents and may have a non-natural jasmine scent.\\n        User purchased the following items in the given order. List of recent items -\\n        Liked Yardley By Yardley Of London Unisexs Lay It On Thick Hand &amp; Foot Cream 5.3 Oz\\nLiked Fruits &amp; Passion Blue Refreshing Shower Gel - 6.7 fl. oz.\\nLiked Bonne Bell Smackers Bath and Body Starburst Collection\\nLiked Bath &amp; Body Works Ile De Tahiti Moana Coconut Vanille Moana Body Wash with Tamanoi 8.5 oz\\nLiked Bath &amp; Body Works Ile De Tahiti Moana Coconut Vanille Moana Body Wash with Tamanoi 8.5 oz\\n\\nThe user purchased the next target item - Bumble and Bumble Hairdresser's Invisible Oil, 3.4 Ounce\\nDo not use any information not mentioned above. As an expert fashion product recommender, do the following steps -\\n    Predict whether the user will like the target item or not in the following format - Prediction: Yes or No\\n    by analyzing the provided list of products purchased by the user in order and summarize the user behavior by identifying the characteristics he liked and disliked about the products in at most 100 words.\\n    Explain with reasoning whether the user will like or dislike the target item - Bumble and Bumble Hairdresser's Invisible Oil, 3.4 Ounce in atmost 100 words.\", 'output': \"Prediction: Yes \\n 1. The user seems to prefer products with natural ingredients and pleasant, non-overpowering scents. They liked Yardley hand and foot cream, which is enriched with shea butter and aloe vera, suggesting a preference for moisturizing and soothing ingredients. They also liked Fruits & Passion shower gel, which has a refreshing scent, and Bonne Bell Smackers bath and body products, which are infused with fruity scents. The user seems to enjoy coconut and vanilla scents, as indicated by their purchase of Bath & Body Works Ile De Tahiti Moana Coconut Vanille Moana Body Wash with Tamanoi. 2. The user will like Bumble and Bumble Hairdresser's Invisible Oil, 3.4 Ounce because it is a lightweight hair oil that is formulated with six featherlight oils to provide nourishment and protection to the hair without weighing it down. The oil is infused with natural ingredients such as grape seed oil, safflower seed oil, and sweet almond oil, which are known to moisturize and soften the hair. The oil\"}\n",
      "Avg Length: 435.06006493506493\n",
      "Max length: 633\n"
     ]
    }
   ],
   "source": [
    "### For Test Data\n",
    "final_test_dict = list()\n",
    "cnt = 0\n",
    "max_total_len = 0\n",
    "avg_total_len = 0\n",
    "for user, reasoning in reasoning_test.items():\n",
    "    # print(f\"User: {user}\")\n",
    "    cnt += 1\n",
    "    user_rating_dict = ratings_df[ratings_df['user'] == int(user)]\n",
    "    # print(user_rating_dict)\n",
    "\n",
    "    temp_dict = dict()\n",
    "    if user in user_profile_summary_dict:\n",
    "        temp_dict[\"instruction\"] = \"You are an expert beauty product recommender. Given a user's profile and list of recent liked and disliked items, identify whether the user will like or dislike the target item by providing reasoning for the same. Please follow further instruction below. \"\n",
    "        prompt = f\"\"\"User Profile - {user_profile_summary_dict[user]}\n",
    "        User purchased the following items in the given order. List of recent items -\n",
    "        \"\"\"\n",
    "    else:\n",
    "        temp_dict[\"instruction\"] = \"You are an expert beauty product recommender. Given a user's list of recent liked and disliked items, identify whether the user will like or dislike the target item by providing reasoning for the same. Please follow further instruction below. \"\n",
    "        prompt = \"User purchased the following items in the given order. List of recent items-\\n\"\n",
    "    item_list = user_test_dict[user]\n",
    "    # print(item_list)\n",
    "    for item in item_list[:-1]:\n",
    "        try:\n",
    "            user_item_rating = user_rating_dict[user_rating_dict['item'] == item]['rating'].values[0]\n",
    "        except Exception as e:\n",
    "            print(f\"User: {user} Item: {item} error {e}\")\n",
    "            continue\n",
    "        if user_item_rating > 3:\n",
    "            ### Liked\n",
    "            prompt += f\"Liked {get_item_description(item_information_dict[str(item)])}\\n\"\n",
    "        else:\n",
    "            prompt += f\"Disliked {get_item_description(item_information_dict[str(item)])}\\n\"\n",
    "    \n",
    "    target_item = item_list[-1]\n",
    "    if str(target_item) not in item_information_dict:\n",
    "        continue\n",
    "    target_item_details = get_item_description(item_information_dict[str(target_item)])\n",
    "    target_item_rating = user_rating_dict[user_rating_dict['item'] == target_item]['rating'].values[0]\n",
    "    prompt += f\"\\nThe user purchased the next target item - {target_item_details}\"\n",
    "    \n",
    "    prompt += f\"\"\"\\nDo not use any information not mentioned above. As an expert fashion product recommender, do the following steps -\n",
    "    Predict whether the user will like the target item or not in the following format - Prediction: Yes or No\n",
    "    by analyzing the provided list of products purchased by the user in order and summarize the user behavior by identifying the characteristics he liked and disliked about the products in at most 100 words.\n",
    "    Explain with reasoning whether the user will like or dislike the target item - {item_information_dict[str(target_item)]['title']} in atmost 100 words.\"\"\"\n",
    "    temp_dict[\"input\"] = prompt\n",
    "\n",
    "    temp_dict[\"output\"] = get_new_reasoning_text(reasoning)\n",
    "    final_test_dict.append(temp_dict)\n",
    "    # print(final_train_dict)\n",
    "    total_len = len(temp_dict['instruction'].split()) + len(temp_dict['input'].split()) + len(temp_dict['output'].split())\n",
    "    avg_total_len += total_len\n",
    "    max_total_len = max(max_total_len, total_len)\n",
    "    # break\n",
    "print(\"Length of final_train_dict:\", len(final_test_dict), final_test_dict[0])\n",
    "print(\"Avg Length:\", avg_total_len/len(final_test_dict))\n",
    "print(\"Max length:\", max_total_len)"
   ]
  },
  {
   "cell_type": "code",
   "execution_count": 25,
   "id": "fcc6e6e0",
   "metadata": {},
   "outputs": [
    {
     "name": "stdout",
     "output_type": "stream",
     "text": [
      "571 45 616\n"
     ]
    }
   ],
   "source": [
    "yes_cnt = 0\n",
    "no_cnt = 0\n",
    "for test_data in final_test_dict:\n",
    "    pred = test_data['output'].split(' ')[1]\n",
    "    # print(pred)\n",
    "    if pred == 'Yes':\n",
    "        yes_cnt += 1\n",
    "    elif pred == 'No':\n",
    "        no_cnt += 1\n",
    "    else:\n",
    "        print(pred, '--', test_data['output'])\n",
    "print(yes_cnt, no_cnt, yes_cnt + no_cnt)"
   ]
  },
  {
   "cell_type": "code",
   "execution_count": 26,
   "id": "3da223fd",
   "metadata": {},
   "outputs": [
    {
     "name": "stdout",
     "output_type": "stream",
     "text": [
      "{'instruction': \"You are an expert beauty product recommender. Given a user's list of recent liked and disliked items, identify whether the user will like or dislike the target item by providing reasoning for the same. Please follow further instruction below. \", 'input': 'User purchased the following items in the given order. List of recent items-\\nLiked Citre Shine Moisture Burst Shampoo - 16 fl oz\\nLiked Bonne Bell Smackers Bath and Body Starburst Collection\\nLiked Bath &amp; Body Works Ile De Tahiti Moana Coconut Vanille Moana Body Wash with Tamanoi 8.5 oz\\nLiked Bath &amp; Body Works Ile De Tahiti Moana Coconut Vanille Moana Body Wash with Tamanoi 8.5 oz\\nLiked Avalon Grapefruit and Geranium Smoothing Shampoo, 11 Ounce\\n\\nThe user purchased the next target item - (Pack of 3) L.A. Colors Mineral Pressed Powder #Mp303 &quot;Creamy Natural&quot;\\nDo not use any information not mentioned above. As an expert fashion product recommender, do the following steps -\\n    Predict whether the user will like the target item or not in the following format - Prediction: Yes or No\\n    by analyzing the provided list of products purchased by the user in order and summarize the user behavior by identifying the characteristics he liked and disliked about the products in at most 100 words.\\n    Explain with reasoning whether the user will like or dislike the target item - (Pack of 3) L.A. Colors Mineral Pressed Powder #Mp303 &quot;Creamy Natural&quot; in atmost 100 words.', 'output': 'Prediction: Yes \\n  1. The user seems to prefer beauty products from well-known brands such as Citre Shine, Bonne Bell, and Bath & Body Works. They like products that have a fruity or vanilla scent, as evidenced by their purchase of the Citre Shine Moisture Burst Shampoo and the Bath & Body Works Ile De Tahiti Moana Coconut Vanille Moana Body Wash. They also seem to prefer products that are moisturizing or smoothing, as indicated by their purchase of the Avalon Grapefruit and Geranium Smoothing Shampoo. 2. The user will like the next item, (Pack of 3) L.A. Colors Mineral Pressed Powder #Mp303 \"Creamy Natural\", because it is a beauty product from a well-known brand, L.A. Colors. The product is a mineral pressed powder, which is a type of makeup that is known for providing good coverage while also being gentle on the skin. The \"creamy natural\" shade is also likely to be a good match for the user\\'s skin tone, as it is a neutral shade that is suitable for'}\n"
     ]
    }
   ],
   "source": [
    "user = 121\n",
    "# print(final_train_dict[user])\n",
    "# print(final_valid_dict[user])\n",
    "print(final_test_dict[user])"
   ]
  },
  {
   "cell_type": "code",
   "execution_count": 27,
   "id": "6595df0c",
   "metadata": {},
   "outputs": [],
   "source": [
    "final_test_path = \"./final_data/beauty/test.json\"\n",
    "with open(final_test_path, 'w') as f:\n",
    "    json.dump(final_test_dict, f)"
   ]
  },
  {
   "cell_type": "code",
   "execution_count": null,
   "id": "9cb4670a",
   "metadata": {},
   "outputs": [],
   "source": []
  }
 ],
 "metadata": {
  "kernelspec": {
   "display_name": "mixtral",
   "language": "python",
   "name": "python3"
  },
  "language_info": {
   "codemirror_mode": {
    "name": "ipython",
    "version": 3
   },
   "file_extension": ".py",
   "mimetype": "text/x-python",
   "name": "python",
   "nbconvert_exporter": "python",
   "pygments_lexer": "ipython3",
   "version": "3.9.18"
  }
 },
 "nbformat": 4,
 "nbformat_minor": 5
}
