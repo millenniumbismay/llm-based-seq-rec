{
 "cells": [
  {
   "cell_type": "code",
   "execution_count": 1,
   "id": "d94e2d5c-4f39-490d-89ba-adafad93553a",
   "metadata": {},
   "outputs": [],
   "source": [
    "import pandas as pd\n",
    "import numpy as np\n",
    "import os\n",
    "import json\n",
    "import pickle\n",
    "from collections import defaultdict\n",
    "from datetime import datetime\n",
    "import openai\n",
    "import requests\n",
    "from tenacity import retry, wait_random_exponential, stop_after_attempt\n",
    "from termcolor import colored\n",
    "openai.api_key = os.environ.get('OPENAI_API_KEY')"
   ]
  },
  {
   "cell_type": "code",
   "execution_count": 2,
   "id": "68fd2bd6-658f-4bd4-b9de-658aba17dce9",
   "metadata": {},
   "outputs": [],
   "source": [
    "user_test_path = '../beauty_data/processed_data/user_test.json'\n",
    "user_valid_path = '../beauty_data/processed_data/user_valid.json'\n",
    "user_train_path = '../beauty_data/processed_data/user_train.json'"
   ]
  },
  {
   "cell_type": "code",
   "execution_count": 3,
   "id": "eeb1b369",
   "metadata": {},
   "outputs": [
    {
     "name": "stdout",
     "output_type": "stream",
     "text": [
      "624\n"
     ]
    }
   ],
   "source": [
    "with open(user_train_path, 'rb') as f:\n",
    "    user_train_dict = json.load(f)\n",
    "print(len(user_train_dict))"
   ]
  },
  {
   "cell_type": "code",
   "execution_count": 4,
   "id": "c5fa4a9a-85ed-426e-97ed-67b5336d083f",
   "metadata": {},
   "outputs": [
    {
     "name": "stdout",
     "output_type": "stream",
     "text": [
      "624\n"
     ]
    }
   ],
   "source": [
    "with open(user_test_path, 'rb') as f:\n",
    "    user_test_dict = json.load(f)\n",
    "print(len(user_test_dict))"
   ]
  },
  {
   "cell_type": "code",
   "execution_count": 5,
   "id": "da63ad37-dd20-4d7e-81ce-1d1f3401bad3",
   "metadata": {},
   "outputs": [
    {
     "name": "stdout",
     "output_type": "stream",
     "text": [
      "624\n"
     ]
    }
   ],
   "source": [
    "with open(user_valid_path, 'rb') as f:\n",
    "    user_valid_dict = json.load(f)\n",
    "print(len(user_valid_dict))"
   ]
  },
  {
   "cell_type": "code",
   "execution_count": 6,
   "id": "357e4a64-a5fe-47ec-8978-5024802b893f",
   "metadata": {},
   "outputs": [
    {
     "name": "stdout",
     "output_type": "stream",
     "text": [
      "[1, 2, 3, 4, 5, 5]\n",
      "[2, 3, 4, 5, 5, 6]\n"
     ]
    }
   ],
   "source": [
    "print(user_valid_dict['0'])\n",
    "print(user_test_dict['0'])"
   ]
  },
  {
   "cell_type": "code",
   "execution_count": 7,
   "id": "2dd821e3-ba6c-49d3-b6a6-f2982efc4033",
   "metadata": {},
   "outputs": [
    {
     "name": "stdout",
     "output_type": "stream",
     "text": [
      "1216 {'title': 'Monoi - Monoi Pitate Jasmine 4 fl oz', 'brand': 'Monoi', 'price': '', 'description': '\\n\\nThe product is a jasmine-scented coconut oil, great for dry skin and hair, making them soft and non-oily. However, the jasmine scent may not be natural and not everyone may like it.'}\n"
     ]
    }
   ],
   "source": [
    "item_information_path = '../beauty_data/processed_data/processed_item_information.json'\n",
    "with open(item_information_path, 'r') as f:\n",
    "    item_information_dict = json.load(f)\n",
    "print(len(item_information_dict), item_information_dict['1'])"
   ]
  },
  {
   "cell_type": "code",
   "execution_count": 8,
   "id": "bed34e1c-e234-4956-b987-71c535712061",
   "metadata": {},
   "outputs": [
    {
     "data": {
      "text/html": [
       "<div>\n",
       "<style scoped>\n",
       "    .dataframe tbody tr th:only-of-type {\n",
       "        vertical-align: middle;\n",
       "    }\n",
       "\n",
       "    .dataframe tbody tr th {\n",
       "        vertical-align: top;\n",
       "    }\n",
       "\n",
       "    .dataframe thead th {\n",
       "        text-align: right;\n",
       "    }\n",
       "</style>\n",
       "<table border=\"1\" class=\"dataframe\">\n",
       "  <thead>\n",
       "    <tr style=\"text-align: right;\">\n",
       "      <th></th>\n",
       "      <th>item</th>\n",
       "      <th>user</th>\n",
       "      <th>rating</th>\n",
       "      <th>timestamp</th>\n",
       "    </tr>\n",
       "  </thead>\n",
       "  <tbody>\n",
       "    <tr>\n",
       "      <th>0</th>\n",
       "      <td>0</td>\n",
       "      <td>0</td>\n",
       "      <td>4.0</td>\n",
       "      <td>1155081600</td>\n",
       "    </tr>\n",
       "    <tr>\n",
       "      <th>1</th>\n",
       "      <td>1</td>\n",
       "      <td>0</td>\n",
       "      <td>5.0</td>\n",
       "      <td>1268697600</td>\n",
       "    </tr>\n",
       "    <tr>\n",
       "      <th>2</th>\n",
       "      <td>2</td>\n",
       "      <td>0</td>\n",
       "      <td>5.0</td>\n",
       "      <td>1404604800</td>\n",
       "    </tr>\n",
       "    <tr>\n",
       "      <th>3</th>\n",
       "      <td>3</td>\n",
       "      <td>0</td>\n",
       "      <td>5.0</td>\n",
       "      <td>1404604800</td>\n",
       "    </tr>\n",
       "    <tr>\n",
       "      <th>4</th>\n",
       "      <td>4</td>\n",
       "      <td>0</td>\n",
       "      <td>5.0</td>\n",
       "      <td>1404604800</td>\n",
       "    </tr>\n",
       "  </tbody>\n",
       "</table>\n",
       "</div>"
      ],
      "text/plain": [
       "   item  user  rating   timestamp\n",
       "0     0     0     4.0  1155081600\n",
       "1     1     0     5.0  1268697600\n",
       "2     2     0     5.0  1404604800\n",
       "3     3     0     5.0  1404604800\n",
       "4     4     0     5.0  1404604800"
      ]
     },
     "execution_count": 8,
     "metadata": {},
     "output_type": "execute_result"
    }
   ],
   "source": [
    "ratings_path = '../beauty_data/processed_data/ratings.csv'\n",
    "ratings_df = pd.read_csv(ratings_path)\n",
    "ratings_df.head()"
   ]
  },
  {
   "cell_type": "code",
   "execution_count": 9,
   "id": "3721bb73",
   "metadata": {},
   "outputs": [
    {
     "name": "stdout",
     "output_type": "stream",
     "text": [
      "160 \n",
      "\n",
      "The user dislikes products that do not meet expectations, as seen with the 100% Cotton Premium Salon Towels. Despite being soft and thick, the towels unraveled after the first wash, which was disappointing for the user. The user seems to value durability and quality in their purchases.\n"
     ]
    }
   ],
   "source": [
    "user_profile_summary_path = '../beauty_data/processed_data/user_profile_summary.json'\n",
    "with open(user_profile_summary_path, 'r') as f:\n",
    "    user_profile_summary_dict = json.load(f)\n",
    "print(len(user_profile_summary_dict), user_profile_summary_dict['1'])"
   ]
  },
  {
   "cell_type": "markdown",
   "id": "0681fb87-1347-4767-be76-9783058a6564",
   "metadata": {},
   "source": [
    "### Creating zeroshot data"
   ]
  },
  {
   "cell_type": "code",
   "execution_count": 11,
   "id": "e92f8968-ca21-4fb9-9af8-b762cbadc9a2",
   "metadata": {},
   "outputs": [],
   "source": [
    "def get_item_description(item_information):\n",
    "    item_details = \"\"\n",
    "    if 'title' in item_information:\n",
    "        item_details += item_information['title']\n",
    "    # if 'brand' in item_information:\n",
    "    #     item_details += f\" Brand: {item_information['brand']}\"\n",
    "    # if 'price' in item_information:\n",
    "    #     item_details += f\" Price: {item_information['price']}\"\n",
    "    # if 'description' in item_information:\n",
    "    #     item_details += f\" Description: {item_information['description']}\"\n",
    "    return item_details"
   ]
  },
  {
   "cell_type": "code",
   "execution_count": 12,
   "id": "d1e4c6e4-ae49-4a53-ab47-cf7e08f41908",
   "metadata": {},
   "outputs": [
    {
     "name": "stdout",
     "output_type": "stream",
     "text": [
      "User: 64 Item: 229 error index 0 is out of bounds for axis 0 with size 0\n",
      "User: 215 Item: 399 error index 0 is out of bounds for axis 0 with size 0\n",
      "User: 401 Item: 880 error index 0 is out of bounds for axis 0 with size 0\n",
      "User: 427 Item: 399 error index 0 is out of bounds for axis 0 with size 0\n"
     ]
    }
   ],
   "source": [
    "### Test Data\n",
    "zeroshot_dict = dict()\n",
    "check_missed_items = []\n",
    "for user, item_list in user_test_dict.items():\n",
    "    # print(user, item_list)\n",
    "    user_rating_dict = ratings_df[ratings_df['user'] == int(user)]\n",
    "    # print(user_rating_dict)\n",
    "    prompt = \"\"\"You are an expert beauty product recommender. You are provided with user's list of recent products that the user purchases and whether the user liked it or disliked it.\n",
    "    User purchased the following items in the given order. List of recent items -\n",
    "    \"\"\"\n",
    "    for item in item_list[:-1]:\n",
    "        try:\n",
    "            user_item_rating = user_rating_dict[user_rating_dict['item'] == item]['rating'].values[0]\n",
    "        except Exception as e:\n",
    "            print(f\"User: {user} Item: {item} error {e}\")\n",
    "            continue\n",
    "        if user_item_rating > 3:\n",
    "            ### Liked\n",
    "            prompt += f\"Liked {get_item_description(item_information_dict[str(item)])}\\n\"\n",
    "        else:\n",
    "            prompt += f\"Disliked {get_item_description(item_information_dict[str(item)])}\\n\"\n",
    "    target_item = item_list[-1]\n",
    "    if str(target_item) not in item_information_dict:\n",
    "        continue\n",
    "    target_item_details = get_item_description(item_information_dict[str(target_item)])\n",
    "    prompt += f\"\"\"As an expert beauty product recommender, do the following steps -\n",
    "    Predict whether the user will like the target item or not in the following format - Prediction: Yes or No\n",
    "    by analyzing the provided list of products purchased by the user in order and summarize the user behavior by identifying the characteristics he liked and disliked about the products in at most 100 words.\n",
    "    Explain with reasoning whether the user will like or dislike the next target item - \"{target_item_details}\" in atmost 100 words.\"\"\"\n",
    "    zeroshot_dict[user] = prompt\n",
    "    # break"
   ]
  },
  {
   "cell_type": "code",
   "execution_count": 13,
   "id": "3efddf80",
   "metadata": {},
   "outputs": [
    {
     "name": "stdout",
     "output_type": "stream",
     "text": [
      "User: 64 Item: 229 error index 0 is out of bounds for axis 0 with size 0\n",
      "User: 215 Item: 399 error index 0 is out of bounds for axis 0 with size 0\n",
      "User: 401 Item: 880 error index 0 is out of bounds for axis 0 with size 0\n",
      "User: 427 Item: 399 error index 0 is out of bounds for axis 0 with size 0\n"
     ]
    }
   ],
   "source": [
    "### Valid Data\n",
    "zeroshot_valid_dict = dict()\n",
    "check_missed_items = []\n",
    "for user, item_list in user_valid_dict.items():\n",
    "    # print(user, item_list)\n",
    "    user_rating_dict = ratings_df[ratings_df['user'] == int(user)]\n",
    "    # print(user_rating_dict)\n",
    "    prompt = \"\"\"You are an expert beauty product recommender. You are provided with user's list of recent products that the user purchases and whether the user liked it or disliked it.\n",
    "    User purchased the following items in the given order. List of recent items -\n",
    "    \"\"\"\n",
    "    for item in item_list[:-1]:\n",
    "        try:\n",
    "            user_item_rating = user_rating_dict[user_rating_dict['item'] == item]['rating'].values[0]\n",
    "        except Exception as e:\n",
    "            print(f\"User: {user} Item: {item} error {e}\")\n",
    "            continue\n",
    "        if user_item_rating > 3:\n",
    "            ### Liked\n",
    "            prompt += f\"Liked {get_item_description(item_information_dict[str(item)])}\\n\"\n",
    "        else:\n",
    "            prompt += f\"Disliked {get_item_description(item_information_dict[str(item)])}\\n\"\n",
    "    target_item = item_list[-1]\n",
    "    if str(target_item) not in item_information_dict:\n",
    "        continue\n",
    "    target_item_details = get_item_description(item_information_dict[str(target_item)])\n",
    "    prompt += f\"\"\"As an expert beauty product recommender, do the following steps -\n",
    "    Predict whether the user will like the target item or not in the following format - Prediction: Yes or No\n",
    "    by analyzing the provided list of products purchased by the user in order and summarize the user behavior by identifying the characteristics he liked and disliked about the products in at most 100 words.\n",
    "    Explain with reasoning whether the user will like or dislike the next target item - \"{target_item_details}\" in atmost 100 words.\"\"\"\n",
    "    zeroshot_valid_dict[user] = prompt\n",
    "    # break"
   ]
  },
  {
   "cell_type": "code",
   "execution_count": 14,
   "id": "13156ae4-233d-4e31-a006-5688954bfc65",
   "metadata": {},
   "outputs": [
    {
     "name": "stdout",
     "output_type": "stream",
     "text": [
      "622 624\n"
     ]
    }
   ],
   "source": [
    "print(len(zeroshot_dict), len(zeroshot_valid_dict))"
   ]
  },
  {
   "cell_type": "code",
   "execution_count": 15,
   "id": "95870a5d-3194-432c-8f94-676dd5d7bca4",
   "metadata": {},
   "outputs": [
    {
     "name": "stdout",
     "output_type": "stream",
     "text": [
      "You are an expert beauty product recommender. You are provided with user's list of recent products that the user purchases and whether the user liked it or disliked it.\n",
      "    User purchased the following items in the given order. List of recent items -\n",
      "    Liked Yardley By Yardley Of London Unisexs Lay It On Thick Hand &amp; Foot Cream 5.3 Oz\n",
      "Liked Fruits &amp; Passion Blue Refreshing Shower Gel - 6.7 fl. oz.\n",
      "Liked Bonne Bell Smackers Bath and Body Starburst Collection\n",
      "Liked Bath &amp; Body Works Ile De Tahiti Moana Coconut Vanille Moana Body Wash with Tamanoi 8.5 oz\n",
      "Liked Bath &amp; Body Works Ile De Tahiti Moana Coconut Vanille Moana Body Wash with Tamanoi 8.5 oz\n",
      "As an expert beauty product recommender, do the following steps -\n",
      "    Predict whether the user will like the target item or not in the following format - Prediction: Yes or No\n",
      "    by analyzing the provided list of products purchased by the user in order and summarize the user behavior by identifying the characteristics he liked and disliked about the products in at most 100 words.\n",
      "    Explain with reasoning whether the user will like or dislike the next target item - \"Bumble and Bumble Hairdresser's Invisible Oil, 3.4 Ounce\" in atmost 100 words.\n",
      "----------------------------------------------------------------------------------------------------\n",
      "You are an expert beauty product recommender. You are provided with user's list of recent products that the user purchases and whether the user liked it or disliked it.\n",
      "    User purchased the following items in the given order. List of recent items -\n",
      "    Liked Monoi - Monoi Pitate Jasmine 4 fl oz\n",
      "Liked Yardley By Yardley Of London Unisexs Lay It On Thick Hand &amp; Foot Cream 5.3 Oz\n",
      "Liked Fruits &amp; Passion Blue Refreshing Shower Gel - 6.7 fl. oz.\n",
      "Liked Bonne Bell Smackers Bath and Body Starburst Collection\n",
      "Liked Bath &amp; Body Works Ile De Tahiti Moana Coconut Vanille Moana Body Wash with Tamanoi 8.5 oz\n",
      "As an expert beauty product recommender, do the following steps -\n",
      "    Predict whether the user will like the target item or not in the following format - Prediction: Yes or No\n",
      "    by analyzing the provided list of products purchased by the user in order and summarize the user behavior by identifying the characteristics he liked and disliked about the products in at most 100 words.\n",
      "    Explain with reasoning whether the user will like or dislike the next target item - \"Bath &amp; Body Works Ile De Tahiti Moana Coconut Vanille Moana Body Wash with Tamanoi 8.5 oz\" in atmost 100 words.\n"
     ]
    }
   ],
   "source": [
    "print(zeroshot_dict['0'])\n",
    "print(\"-\"*100)\n",
    "print(zeroshot_valid_dict['0'])"
   ]
  },
  {
   "cell_type": "code",
   "execution_count": 16,
   "id": "f6be8de2-79bf-42ec-84c9-32d397a6117d",
   "metadata": {},
   "outputs": [
    {
     "name": "stdout",
     "output_type": "stream",
     "text": [
      "220.17524115755626\n"
     ]
    }
   ],
   "source": [
    "total_len = 0\n",
    "for user, prompt in zeroshot_dict.items():\n",
    "    total_len += len(prompt.strip().split(' '))\n",
    "print(total_len/len(zeroshot_dict))"
   ]
  },
  {
   "cell_type": "code",
   "execution_count": 17,
   "id": "ae27d6f2",
   "metadata": {},
   "outputs": [
    {
     "name": "stdout",
     "output_type": "stream",
     "text": [
      "1\n"
     ]
    }
   ],
   "source": [
    "users_very_long = []\n",
    "for user, prompt in zeroshot_dict.items():\n",
    "    if len(prompt.strip().split(' ')) > 400:\n",
    "        users_very_long.append(user)\n",
    "print(len(users_very_long))"
   ]
  },
  {
   "cell_type": "code",
   "execution_count": 18,
   "id": "3fecf374",
   "metadata": {},
   "outputs": [
    {
     "name": "stdout",
     "output_type": "stream",
     "text": [
      "621\n"
     ]
    }
   ],
   "source": [
    "for key in users_very_long:\n",
    "    zeroshot_dict.pop(key, None)\n",
    "print(len(zeroshot_dict))"
   ]
  },
  {
   "cell_type": "code",
   "execution_count": 19,
   "id": "9d534778",
   "metadata": {},
   "outputs": [
    {
     "name": "stdout",
     "output_type": "stream",
     "text": [
      "212.32367149758454\n"
     ]
    }
   ],
   "source": [
    "total_len = 0\n",
    "for user, prompt in zeroshot_valid_dict.items():\n",
    "    total_len += len(prompt.strip().split(' '))\n",
    "print(total_len/len(zeroshot_dict))"
   ]
  },
  {
   "cell_type": "code",
   "execution_count": 20,
   "id": "4bf7e804-c26e-426f-9967-5d10979fa1f5",
   "metadata": {},
   "outputs": [
    {
     "name": "stdout",
     "output_type": "stream",
     "text": [
      "0\n"
     ]
    }
   ],
   "source": [
    "users_very_long = []\n",
    "for user, prompt in zeroshot_valid_dict.items():\n",
    "    if len(prompt.strip().split(' ')) > 400:\n",
    "        users_very_long.append(user)\n",
    "print(len(users_very_long))"
   ]
  },
  {
   "cell_type": "code",
   "execution_count": 21,
   "id": "debc6619-700f-4734-88cd-6df859e20810",
   "metadata": {},
   "outputs": [
    {
     "name": "stdout",
     "output_type": "stream",
     "text": [
      "624\n"
     ]
    }
   ],
   "source": [
    "for key in users_very_long:\n",
    "    zeroshot_valid_dict.pop(key, None)\n",
    "print(len(zeroshot_valid_dict))"
   ]
  },
  {
   "cell_type": "code",
   "execution_count": 22,
   "id": "84c6b79c-2e7a-4af2-9ae2-cc7f06da9012",
   "metadata": {},
   "outputs": [],
   "source": [
    "zeroshot_valid_path = './ctr_zeroshot_dataset/zeroshot_valid.json'\n",
    "with open(zeroshot_valid_path, 'w+') as f:\n",
    "    json.dump(zeroshot_valid_dict, f)"
   ]
  },
  {
   "cell_type": "code",
   "execution_count": 23,
   "id": "83a1b948",
   "metadata": {},
   "outputs": [],
   "source": [
    "zeroshot_test_path = './ctr_zeroshot_dataset/zeroshot_test.json'\n",
    "with open(zeroshot_test_path, 'w+') as f:\n",
    "    json.dump(zeroshot_dict, f)"
   ]
  },
  {
   "cell_type": "code",
   "execution_count": 24,
   "id": "a63d31e0-88f3-4ab4-af57-4f2efbe60705",
   "metadata": {},
   "outputs": [
    {
     "data": {
      "text/html": [
       "<div>\n",
       "<style scoped>\n",
       "    .dataframe tbody tr th:only-of-type {\n",
       "        vertical-align: middle;\n",
       "    }\n",
       "\n",
       "    .dataframe tbody tr th {\n",
       "        vertical-align: top;\n",
       "    }\n",
       "\n",
       "    .dataframe thead th {\n",
       "        text-align: right;\n",
       "    }\n",
       "</style>\n",
       "<table border=\"1\" class=\"dataframe\">\n",
       "  <thead>\n",
       "    <tr style=\"text-align: right;\">\n",
       "      <th></th>\n",
       "      <th>item</th>\n",
       "      <th>user</th>\n",
       "      <th>rating</th>\n",
       "      <th>timestamp</th>\n",
       "    </tr>\n",
       "  </thead>\n",
       "  <tbody>\n",
       "    <tr>\n",
       "      <th>0</th>\n",
       "      <td>0</td>\n",
       "      <td>0</td>\n",
       "      <td>4.0</td>\n",
       "      <td>1155081600</td>\n",
       "    </tr>\n",
       "    <tr>\n",
       "      <th>1</th>\n",
       "      <td>1</td>\n",
       "      <td>0</td>\n",
       "      <td>5.0</td>\n",
       "      <td>1268697600</td>\n",
       "    </tr>\n",
       "    <tr>\n",
       "      <th>2</th>\n",
       "      <td>2</td>\n",
       "      <td>0</td>\n",
       "      <td>5.0</td>\n",
       "      <td>1404604800</td>\n",
       "    </tr>\n",
       "    <tr>\n",
       "      <th>3</th>\n",
       "      <td>3</td>\n",
       "      <td>0</td>\n",
       "      <td>5.0</td>\n",
       "      <td>1404604800</td>\n",
       "    </tr>\n",
       "    <tr>\n",
       "      <th>4</th>\n",
       "      <td>4</td>\n",
       "      <td>0</td>\n",
       "      <td>5.0</td>\n",
       "      <td>1404604800</td>\n",
       "    </tr>\n",
       "    <tr>\n",
       "      <th>5</th>\n",
       "      <td>5</td>\n",
       "      <td>0</td>\n",
       "      <td>5.0</td>\n",
       "      <td>1404604800</td>\n",
       "    </tr>\n",
       "    <tr>\n",
       "      <th>6</th>\n",
       "      <td>5</td>\n",
       "      <td>0</td>\n",
       "      <td>5.0</td>\n",
       "      <td>1404604800</td>\n",
       "    </tr>\n",
       "    <tr>\n",
       "      <th>7</th>\n",
       "      <td>6</td>\n",
       "      <td>0</td>\n",
       "      <td>5.0</td>\n",
       "      <td>1461801600</td>\n",
       "    </tr>\n",
       "  </tbody>\n",
       "</table>\n",
       "</div>"
      ],
      "text/plain": [
       "   item  user  rating   timestamp\n",
       "0     0     0     4.0  1155081600\n",
       "1     1     0     5.0  1268697600\n",
       "2     2     0     5.0  1404604800\n",
       "3     3     0     5.0  1404604800\n",
       "4     4     0     5.0  1404604800\n",
       "5     5     0     5.0  1404604800\n",
       "6     5     0     5.0  1404604800\n",
       "7     6     0     5.0  1461801600"
      ]
     },
     "execution_count": 24,
     "metadata": {},
     "output_type": "execute_result"
    }
   ],
   "source": [
    "ratings_df[ratings_df['user'] == int('0')]"
   ]
  },
  {
   "cell_type": "code",
   "execution_count": 25,
   "id": "ea0a6e76-9773-402b-be48-d3d83da20a72",
   "metadata": {},
   "outputs": [
    {
     "name": "stdout",
     "output_type": "stream",
     "text": [
      "You are an expert beauty product recommender. You are provided with user's list of recent products that the user purchases and whether the user liked it or disliked it.\n",
      "    User purchased the following items in the given order. List of recent items -\n",
      "    Liked Citre Shine Moisture Burst Shampoo - 16 fl oz\n",
      "Liked Bath &amp; Body Works Ile De Tahiti Moana Coconut Vanille Moana Body Wash with Tamanoi 8.5 oz\n",
      "Liked Bath &amp; Body Works Ile De Tahiti Moana Coconut Vanille Moana Body Wash with Tamanoi 8.5 oz\n",
      "Liked Bath &amp; Body Works Ile De Tahiti Moana Coconut Vanille Moana Body Wash with Tamanoi 8.5 oz\n",
      "Liked Bath &amp; Body Works Ile De Tahiti Moana Coconut Vanille Moana Body Wash with Tamanoi 8.5 oz\n",
      "As an expert beauty product recommender, do the following steps -\n",
      "    Predict whether the user will like the target item or not in the following format - Prediction: Yes or No\n",
      "    by analyzing the provided list of products purchased by the user in order and summarize the user behavior by identifying the characteristics he liked and disliked about the products in at most 100 words.\n",
      "    Explain with reasoning whether the user will like or dislike the next target item - \"Avalon Grapefruit and Geranium Smoothing Shampoo, 11 Ounce\" in atmost 100 words.\n",
      "----------------------------------------------------------------------------------------------------\n",
      "\n",
      "\n",
      "Prediction: Yes\n",
      "\n",
      "The user has a clear preference for bath and body products, specifically the Bath & Body Works Ile De Tahiti Moana Coconut Vanille Moana Body Wash with Tamanoi. They have purchased this product multiple times and have consistently liked it. This suggests that the user enjoys tropical scents and moisturizing properties in their body wash. They also seem to appreciate larger sizes, as the Citre Shine Moisture Burst Shampoo is 16 fl oz. Based on this behavior, it is likely that the user will also like the Avalon Grapefruit and Geranium Smoothing Shampoo, as it has similar characteristics to the products they have previously enjoyed. It is also a shampoo, which is a product category the user has already shown interest in.\n"
     ]
    }
   ],
   "source": [
    "test_prompt = zeroshot_dict['34']\n",
    "print(test_prompt)\n",
    "print(\"-\"*100)\n",
    "response = openai.completions.create(\n",
    "    # model = \"gpt-3.5-turbo-0125\",\n",
    "    model=\"gpt-3.5-turbo-instruct\",\n",
    "    prompt = test_prompt,\n",
    "    temperature=0.3,\n",
    "    max_tokens=256,\n",
    "    # top_p=0.3,\n",
    "    # frequency_penalty=0.5,\n",
    "    # presence_penalty=0.5\n",
    ")\n",
    "print(response.choices[0].text)"
   ]
  },
  {
   "cell_type": "code",
   "execution_count": null,
   "id": "4eb994b2-a2cf-49a5-8dcf-2ba30290c191",
   "metadata": {},
   "outputs": [],
   "source": []
  }
 ],
 "metadata": {
  "kernelspec": {
   "display_name": "Python 3 (ipykernel)",
   "language": "python",
   "name": "python3"
  },
  "language_info": {
   "codemirror_mode": {
    "name": "ipython",
    "version": 3
   },
   "file_extension": ".py",
   "mimetype": "text/x-python",
   "name": "python",
   "nbconvert_exporter": "python",
   "pygments_lexer": "ipython3",
   "version": "3.9.18"
  }
 },
 "nbformat": 4,
 "nbformat_minor": 5
}
