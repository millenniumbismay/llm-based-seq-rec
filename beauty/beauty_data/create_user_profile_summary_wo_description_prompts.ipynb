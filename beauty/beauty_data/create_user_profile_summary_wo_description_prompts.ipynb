{
 "cells": [
  {
   "cell_type": "code",
   "execution_count": 1,
   "id": "737d449a-0b84-415a-8ad7-c904e7fd99ef",
   "metadata": {},
   "outputs": [],
   "source": [
    "import pandas as pd\n",
    "import numpy as np\n",
    "import os\n",
    "import json\n",
    "import pickle\n",
    "from collections import defaultdict\n",
    "from datetime import datetime\n",
    "import openai\n",
    "import requests\n",
    "from tenacity import retry, wait_random_exponential, stop_after_attempt\n",
    "from termcolor import colored"
   ]
  },
  {
   "cell_type": "code",
   "execution_count": 2,
   "id": "6de66ae4-6a12-40ff-a62b-eedc7a64fe01",
   "metadata": {},
   "outputs": [
    {
     "name": "stdout",
     "output_type": "stream",
     "text": [
      "624\n"
     ]
    }
   ],
   "source": [
    "user_profile_path = './data/user_profile.json'\n",
    "with open(user_profile_path, 'r') as f:\n",
    "    user_profile = json.load(f)\n",
    "print(len(user_profile))"
   ]
  },
  {
   "cell_type": "code",
   "execution_count": 3,
   "id": "979a3883-0ce1-42f0-a406-d28388367316",
   "metadata": {},
   "outputs": [
    {
     "name": "stdout",
     "output_type": "stream",
     "text": [
      "169\n"
     ]
    }
   ],
   "source": [
    "cnt = 0\n",
    "for user, profile in user_profile.items():\n",
    "    if len(profile) > 0:\n",
    "        cnt += 1\n",
    "print(cnt)"
   ]
  },
  {
   "cell_type": "code",
   "execution_count": 4,
   "id": "3a4054d4-afde-4841-9442-c3d8baed1d06",
   "metadata": {},
   "outputs": [
    {
     "name": "stdout",
     "output_type": "stream",
     "text": [
      "1216\n"
     ]
    }
   ],
   "source": [
    "item_information_path = './processed_data/processed_item_information.json'\n",
    "with open(item_information_path, 'r') as f:\n",
    "    item_information_dict = json.load(f)\n",
    "print(len(item_information_dict))"
   ]
  },
  {
   "cell_type": "code",
   "execution_count": 5,
   "id": "0738cf85-fc7e-45d0-86f5-241f8b3948a5",
   "metadata": {},
   "outputs": [
    {
     "data": {
      "text/plain": [
       "{'title': 'Yardley By Yardley Of London Unisexs Lay It On Thick Hand &amp; Foot Cream 5.3 Oz',\n",
       " 'brand': 'Yardley',\n",
       " 'price': '',\n",
       " 'description': '\\n\\nProduct: Shower Gel\\nPositive features: Lovely holiday scent, mild scrub, good quality, great smell, works well, fresh fruity scent, creamy suds.\\nNegative features: Small size, discontinued.\\n\\nConcise product description: \"Shower Gel with'}"
      ]
     },
     "execution_count": 5,
     "metadata": {},
     "output_type": "execute_result"
    }
   ],
   "source": [
    "item_information_dict['2']"
   ]
  },
  {
   "cell_type": "code",
   "execution_count": 6,
   "id": "403f8773-8074-4c6a-9e21-7d5ff3be2794",
   "metadata": {},
   "outputs": [
    {
     "data": {
      "text/html": [
       "<div>\n",
       "<style scoped>\n",
       "    .dataframe tbody tr th:only-of-type {\n",
       "        vertical-align: middle;\n",
       "    }\n",
       "\n",
       "    .dataframe tbody tr th {\n",
       "        vertical-align: top;\n",
       "    }\n",
       "\n",
       "    .dataframe thead th {\n",
       "        text-align: right;\n",
       "    }\n",
       "</style>\n",
       "<table border=\"1\" class=\"dataframe\">\n",
       "  <thead>\n",
       "    <tr style=\"text-align: right;\">\n",
       "      <th></th>\n",
       "      <th>item</th>\n",
       "      <th>user</th>\n",
       "      <th>rating</th>\n",
       "      <th>timestamp</th>\n",
       "    </tr>\n",
       "  </thead>\n",
       "  <tbody>\n",
       "    <tr>\n",
       "      <th>0</th>\n",
       "      <td>0</td>\n",
       "      <td>0</td>\n",
       "      <td>4.0</td>\n",
       "      <td>1155081600</td>\n",
       "    </tr>\n",
       "    <tr>\n",
       "      <th>1</th>\n",
       "      <td>1</td>\n",
       "      <td>0</td>\n",
       "      <td>5.0</td>\n",
       "      <td>1268697600</td>\n",
       "    </tr>\n",
       "    <tr>\n",
       "      <th>2</th>\n",
       "      <td>2</td>\n",
       "      <td>0</td>\n",
       "      <td>5.0</td>\n",
       "      <td>1404604800</td>\n",
       "    </tr>\n",
       "    <tr>\n",
       "      <th>3</th>\n",
       "      <td>3</td>\n",
       "      <td>0</td>\n",
       "      <td>5.0</td>\n",
       "      <td>1404604800</td>\n",
       "    </tr>\n",
       "    <tr>\n",
       "      <th>4</th>\n",
       "      <td>4</td>\n",
       "      <td>0</td>\n",
       "      <td>5.0</td>\n",
       "      <td>1404604800</td>\n",
       "    </tr>\n",
       "  </tbody>\n",
       "</table>\n",
       "</div>"
      ],
      "text/plain": [
       "   item  user  rating   timestamp\n",
       "0     0     0     4.0  1155081600\n",
       "1     1     0     5.0  1268697600\n",
       "2     2     0     5.0  1404604800\n",
       "3     3     0     5.0  1404604800\n",
       "4     4     0     5.0  1404604800"
      ]
     },
     "execution_count": 6,
     "metadata": {},
     "output_type": "execute_result"
    }
   ],
   "source": [
    "ratings_path = './data/ratings.csv'\n",
    "ratings_df = pd.read_csv(ratings_path)\n",
    "ratings_df.head()"
   ]
  },
  {
   "cell_type": "code",
   "execution_count": 16,
   "id": "3a3224e3-46da-4c86-9c44-be385b14c77d",
   "metadata": {},
   "outputs": [],
   "source": [
    "def get_item_description(item_information):\n",
    "    item_details = \"\"\n",
    "    if 'title' in item_information and item_information['title']!='':\n",
    "        item_details += item_information['title']\n",
    "    if 'brand' in item_information and item_information['brand']!='':\n",
    "        item_details += f\" Brand: {item_information['brand']}\"\n",
    "    if 'price' in item_information and item_information['price']!='':\n",
    "        item_details += f\" Price: {item_information['price']}\"\n",
    "    # if 'description' in item_information:\n",
    "    #     item_details += f\" Description: {item_information['description']}\"\n",
    "    return item_details"
   ]
  },
  {
   "cell_type": "code",
   "execution_count": 17,
   "id": "b93e6740-a938-424d-b5a5-aed18b30f9fa",
   "metadata": {
    "scrolled": true
   },
   "outputs": [
    {
     "name": "stdout",
     "output_type": "stream",
     "text": [
      "User 131 -- Item 399 -- error: index 0 is out of bounds for axis 0 with size 0\n",
      "User 274 -- Item 399 -- error: index 0 is out of bounds for axis 0 with size 0\n",
      "169\n"
     ]
    }
   ],
   "source": [
    "user_profile_summary_prompt_dict = dict()\n",
    "for user, profile in user_profile.items():\n",
    "    # print('-'*10)\n",
    "    # print(user, profile)\n",
    "    if len(profile) == 0:\n",
    "        continue\n",
    "    # print(f\"User: {user} Profile: {profile}\")\n",
    "    user_rating_dict = ratings_df[ratings_df['user'] == int(user)]\n",
    "    # print(user_rating_dict)\n",
    "    prompt = \"You are an expert beauty product reviewer and recommender. You are provided with a user's list of recent products and their descriptions that the user purchases and whether the user liked it or disliked it. Please go through the list in order -\\n\"\n",
    "    for item in list(set(profile))[:15]:\n",
    "        # print(item)\n",
    "        try:\n",
    "            user_item_rating = user_rating_dict[user_rating_dict['item'] == item]['rating'].values[0]\n",
    "        except Exception as e:\n",
    "            print(f\"User {user} -- Item {item} -- error: {e}\")\n",
    "            continue\n",
    "        if user_item_rating > 3:\n",
    "            ### Liked\n",
    "            prompt += f\"Liked {get_item_description(item_information_dict[str(item)])}\\n\"\n",
    "        else:\n",
    "            prompt += f\"Disliked {get_item_description(item_information_dict[str(item)])}\\n\"\n",
    "    prompt += \"\"\"You are an expert beauty product reviewer and recommender. Analyze the provided list of products purchased by the user in order and summarize the user behavior by identifying the characteristics he liked and disliked about the products in at most 100 words.\n",
    "    Do not include information not present in the item descriptions.\"\"\"\n",
    "    user_profile_summary_prompt_dict[user] = prompt\n",
    "    # break\n",
    "print(len(user_profile_summary_prompt_dict))"
   ]
  },
  {
   "cell_type": "code",
   "execution_count": 18,
   "id": "6f3e4f7d-2232-47d2-927a-ad82d5984893",
   "metadata": {},
   "outputs": [
    {
     "name": "stdout",
     "output_type": "stream",
     "text": [
      "136.3846153846154\n"
     ]
    }
   ],
   "source": [
    "total_len = 0\n",
    "all_prompt_lens = []\n",
    "for user, prompt in user_profile_summary_prompt_dict.items():\n",
    "    all_prompt_lens.append(len(prompt.strip().split(' ')))\n",
    "    total_len += len(prompt.strip().split(' '))\n",
    "print(total_len/len(user_profile_summary_prompt_dict))"
   ]
  },
  {
   "cell_type": "code",
   "execution_count": 19,
   "id": "bc4da5f2-7ac6-4376-8432-8e0e5e010ea5",
   "metadata": {
    "scrolled": true
   },
   "outputs": [
    {
     "data": {
      "text/plain": [
       "(array([ 1.,  0.,  0.,  0.,  1.,  0.,  0.,  0.,  2.,  0.,  0.,  0.,  2.,\n",
       "         0.,  0.,  0.,  1.,  0.,  0.,  0.,  0.,  2.,  0.,  0.,  0.,  5.,\n",
       "         0.,  0.,  0.,  7.,  0.,  0.,  0.,  7.,  0.,  0.,  0., 10.,  0.,\n",
       "         0.,  0.,  0.,  6.,  0.,  0.,  0.,  3.,  0.,  0.,  0.,  6.,  0.,\n",
       "         0.,  0., 10.,  0.,  0.,  0.,  0.,  4.,  0.,  0.,  0.,  4.,  0.,\n",
       "         0.,  0.,  4.,  0.,  0.,  0.,  2.,  0.,  0.,  0.,  4.,  0.,  0.,\n",
       "         0.,  0.,  2.,  0.,  0.,  0.,  6.,  0.,  0.,  0.,  1.,  0.,  0.,\n",
       "         0.,  1.,  0.,  0.,  0.,  0.,  3.,  0.,  0.,  0.,  1.,  0.,  0.,\n",
       "         0.,  1.,  0.,  0.,  0.,  0.,  0.,  0.,  0.,  3.,  0.,  0.,  0.,\n",
       "         0.,  4.,  0.,  0.,  0.,  1.,  0.,  0.,  0.,  1.,  0.,  0.,  0.,\n",
       "         0.,  0.,  0.,  0.,  0.,  0.,  0.,  0.,  0.,  3.,  0.,  0.,  0.,\n",
       "         0.,  0.,  0.,  0.,  1.,  0.,  0.,  0.,  2.,  0.,  0.,  0.,  0.,\n",
       "         1.,  0.,  0.,  0.,  3.,  0.,  0.,  0.,  1.,  0.,  0.,  0.,  2.,\n",
       "         0.,  0.,  0.,  3.,  0.,  0.,  0.,  0.,  4.,  0.,  0.,  0.,  0.,\n",
       "         0.,  0.,  0.,  2.,  0.,  0.,  0.,  2.,  0.,  0.,  0.,  0.,  1.,\n",
       "         0.,  0.,  0.,  3.,  0.,  0.,  0.,  0.,  0.,  0.,  0.,  0.,  0.,\n",
       "         0.,  0.,  0.,  0.,  0.,  0.,  0.,  0.,  0.,  0.,  0.,  3.,  0.,\n",
       "         0.,  0.,  0.,  0.,  0.,  0.,  0.,  0.,  0.,  0.,  0.,  1.,  0.,\n",
       "         0.,  0.,  0.,  0.,  0.,  0.,  0.,  0.,  0.,  0.,  0.,  0.,  0.,\n",
       "         0.,  3.,  0.,  0.,  0.,  0.,  1.,  0.,  0.,  0.,  5.,  0.,  0.,\n",
       "         0.,  2.,  0.,  0.,  0.,  0.,  0.,  0.,  0.,  0.,  1.,  0.,  0.,\n",
       "         0.,  1.,  0.,  0.,  0.,  1.,  0.,  0.,  0.,  1.,  0.,  0.,  0.,\n",
       "         0.,  0.,  0.,  0.,  0.,  0.,  0.,  0.,  0.,  1.,  0.,  0.,  0.,\n",
       "         0.,  0.,  0.,  0.,  0.,  0.,  0.,  0.,  0.,  2.,  0.,  0.,  0.,\n",
       "         0.,  0.,  0.,  0.,  0.,  0.,  0.,  0.,  1.,  0.,  0.,  0.,  0.,\n",
       "         0.,  0.,  0.,  0.,  0.,  0.,  0.,  0.,  0.,  0.,  0.,  0.,  1.,\n",
       "         0.,  0.,  0.,  0.,  0.,  0.,  0.,  0.,  0.,  0.,  0.,  0.,  0.,\n",
       "         0.,  0.,  0.,  0.,  0.,  0.,  0.,  1.,  0.,  0.,  0.,  2.,  0.,\n",
       "         0.,  0.,  0.,  0.,  0.,  0.,  0.,  0.,  0.,  0.,  0.,  0.,  0.,\n",
       "         0.,  0.,  1.,  0.,  0.,  0.,  0.,  0.,  0.,  0.,  0.,  0.,  0.,\n",
       "         0.,  0.,  0.,  0.,  0.,  0.,  0.,  0.,  0.,  0.,  0.,  0.,  0.,\n",
       "         0.,  0.,  0.,  0.,  0.,  0.,  0.,  0.,  0.,  0.,  0.,  0.,  0.,\n",
       "         0.,  0.,  0.,  0.,  0.,  0.,  0.,  0.,  0.,  0.,  0.,  0.,  0.,\n",
       "         0.,  0.,  0.,  0.,  0.,  0.,  0.,  0.,  0.,  1.,  0.,  0.,  0.,\n",
       "         0.,  0.,  0.,  0.,  0.,  0.,  0.,  0.,  0.,  0.,  0.,  0.,  0.,\n",
       "         0.,  0.,  0.,  0.,  0.,  0.,  0.,  0.,  0.,  0.,  0.,  0.,  0.,\n",
       "         0.,  0.,  0.,  0.,  0.,  0.,  0.,  0.,  0.,  0.,  0.,  0.,  0.,\n",
       "         0.,  0.,  0.,  0.,  0.,  0.,  0.,  0.,  0.,  0.,  0.,  0.,  0.,\n",
       "         0.,  0.,  0.,  0.,  0.,  0.,  0.,  0.,  0.,  0.,  0.,  0.,  0.,\n",
       "         0.,  0.,  0.,  0.,  0.,  0.,  0.,  0.,  0.,  0.,  0.,  0.,  0.,\n",
       "         0.,  0.,  0.,  0.,  0.,  0.,  0.,  0.,  0.,  0.,  0.,  0.,  0.,\n",
       "         0.,  0.,  0.,  0.,  0.,  0.,  0.,  0.,  0.,  0.,  0.,  0.,  0.,\n",
       "         0.,  0.,  0.,  0.,  0.,  0.,  0.,  0.,  0.,  0.,  0.,  0.,  0.,\n",
       "         0.,  0.,  0.,  0.,  0.,  0.,  0.,  0.,  0.,  0.,  0.,  0.,  0.,\n",
       "         0.,  1.,  0.,  0.,  0.,  0.,  0.,  0.,  0.,  0.,  0.,  0.,  0.,\n",
       "         0.,  0.,  0.,  0.,  0.,  0.,  0.,  0.,  0.,  0.,  0.,  0.,  0.,\n",
       "         0.,  0.,  0.,  0.,  0.,  0.,  0.,  0.,  0.,  1.,  0.,  0.,  0.,\n",
       "         0.,  0.,  0.,  0.,  0.,  0.,  0.,  0.,  0.,  0.,  0.,  0.,  0.,\n",
       "         0.,  0.,  0.,  0.,  0.,  0.,  0.,  0.,  0.,  0.,  0.,  0.,  0.,\n",
       "         0.,  0.,  0.,  0.,  0.,  0.,  0.,  0.,  0.,  0.,  0.,  0.,  0.,\n",
       "         0.,  0.,  0.,  0.,  0.,  0.,  0.,  0.,  0.,  0.,  0.,  0.,  0.,\n",
       "         0.,  0.,  0.,  0.,  0.,  0.,  0.,  0.,  0.,  0.,  0.,  0.,  0.,\n",
       "         0.,  0.,  0.,  0.,  0.,  0.,  0.,  0.,  0.,  0.,  0.,  0.,  0.,\n",
       "         0.,  0.,  1.,  0.,  0.,  0.,  0.,  0.,  0.,  0.,  0.,  0.,  0.,\n",
       "         0.,  0.,  0.,  0.,  0.,  0.,  0.,  0.,  0.,  0.,  0.,  0.,  0.,\n",
       "         0.,  0.,  0.,  0.,  0.,  0.,  0.,  0.,  0.,  0.,  0.,  0.,  0.,\n",
       "         0.,  0.,  0.,  0.,  0.,  0.,  0.,  0.,  0.,  0.,  0.,  0.,  0.,\n",
       "         0.,  0.,  0.,  0.,  0.,  0.,  0.,  0.,  0.,  0.,  0.,  0.,  0.,\n",
       "         0.,  0.,  0.,  0.,  0.,  0.,  0.,  0.,  0.,  1.,  0.,  0.,  0.,\n",
       "         0.,  0.,  0.,  0.,  0.,  0.,  0.,  0.,  0.,  0.,  0.,  0.,  0.,\n",
       "         0.,  0.,  0.,  0.,  0.,  0.,  0.,  0.,  0.,  0.,  0.,  0.,  0.,\n",
       "         0.,  0.,  0.,  0.,  0.,  0.,  0.,  0.,  0.,  0.,  0.,  0.,  0.,\n",
       "         0.,  0.,  0.,  0.,  0.,  0.,  0.,  0.,  0.,  0.,  0.,  0.,  0.,\n",
       "         0.,  0.,  0.,  0.,  0.,  0.,  0.,  0.,  0.,  0.,  0.,  0.,  0.,\n",
       "         0.,  0.,  0.,  0.,  0.,  0.,  0.,  0.,  0.,  0.,  0.,  0.,  0.,\n",
       "         0.,  0.,  0.,  0.,  0.,  0.,  0.,  0.,  0.,  0.,  0.,  0.,  0.,\n",
       "         0.,  0.,  0.,  0.,  0.,  0.,  0.,  0.,  0.,  0.,  0.,  0.,  0.,\n",
       "         0.,  0.,  0.,  0.,  0.,  0.,  0.,  0.,  0.,  0.,  0.,  0.,  0.,\n",
       "         0.,  0.,  0.,  0.,  0.,  0.,  0.,  0.,  0.,  0.,  0.,  0.,  0.,\n",
       "         0.,  0.,  0.,  0.,  0.,  0.,  0.,  0.,  0.,  0.,  0.,  0.,  0.,\n",
       "         0.,  0.,  0.,  0.,  0.,  1.,  0.,  0.,  0.,  0.,  0.,  0.,  0.,\n",
       "         0.,  0.,  0.,  0.,  0.,  0.,  0.,  0.,  0.,  0.,  0.,  0.,  0.,\n",
       "         0.,  0.,  0.,  0.,  0.,  0.,  0.,  0.,  0.,  0.,  0.,  0.,  0.,\n",
       "         0.,  0.,  0.,  0.,  0.,  0.,  0.,  0.,  0.,  0.,  0.,  0.,  0.,\n",
       "         0.,  0.,  0.,  0.,  0.,  0.,  0.,  0.,  0.,  0.,  0.,  0.,  0.,\n",
       "         0.,  0.,  0.,  0.,  0.,  0.,  0.,  0.,  0.,  0.,  0.,  0.,  0.,\n",
       "         0.,  0.,  0.,  0.,  0.,  0.,  0.,  1.,  0.,  0.,  0.,  1.]),\n",
       " array([102.   , 102.237, 102.474, ..., 338.526, 338.763, 339.   ]),\n",
       " <BarContainer object of 1000 artists>)"
      ]
     },
     "execution_count": 19,
     "metadata": {},
     "output_type": "execute_result"
    },
    {
     "data": {
      "image/png": "[encoded data removed]",
      "text/plain": [
       "<Figure size 640x480 with 1 Axes>"
      ]
     },
     "metadata": {},
     "output_type": "display_data"
    }
   ],
   "source": [
    "import matplotlib.pyplot as plt\n",
    "\n",
    "plt.hist(all_prompt_lens, bins=1000, edgecolor='black')"
   ]
  },
  {
   "cell_type": "code",
   "execution_count": 20,
   "id": "db86dbd6-3b33-4330-b449-d2b851492009",
   "metadata": {},
   "outputs": [
    {
     "name": "stdout",
     "output_type": "stream",
     "text": [
      "5\n"
     ]
    }
   ],
   "source": [
    "very_long_prompts_users = list()\n",
    "for user, prompt in user_profile_summary_prompt_dict.items():\n",
    "    if len(prompt.strip().split(' ')) > 250:\n",
    "        very_long_prompts_users.append(user)\n",
    "print(len(very_long_prompts_users))"
   ]
  },
  {
   "cell_type": "code",
   "execution_count": 21,
   "id": "f4c868f9-9be6-4751-8a32-2641bcf7b2bc",
   "metadata": {},
   "outputs": [
    {
     "name": "stdout",
     "output_type": "stream",
     "text": [
      "['55', '79', '160', '234', '520']\n"
     ]
    }
   ],
   "source": [
    "print(very_long_prompts_users)"
   ]
  },
  {
   "cell_type": "code",
   "execution_count": 22,
   "id": "9a3285ab-6b0d-4bea-8b65-a2f462ebe73c",
   "metadata": {},
   "outputs": [
    {
     "name": "stdout",
     "output_type": "stream",
     "text": [
      "You are an expert beauty product reviewer and recommender. You are provided with a user's list of recent products and their descriptions that the user purchases and whether the user liked it or disliked it. Please go through the list in order -\n",
      "Liked Pre de Provence Artisanal French Soap Bar Enriched with Shea Butter, Quad-Milled For A Smooth &amp; Rich Lather (150 grams) - Raspberry Brand: Pre de Provence Price: $4.99\n",
      "Liked Vinolia Cold Cream Bath Soap 170g (1) Brand: Vinolia Price: $6.50\n",
      "Liked Pre de Provence Artisanal French Soap Bar Enriched with Shea Butter, Quad-Milled For A Smooth &amp; Rich Lather (250 grams) - Rose Petal Brand: Pre de Provence Price: $7.50\n",
      "Liked Pre de Provence Artisanal French Soap Bar Enriched with Shea Butter, Quad-Milled For A Smooth &amp; Rich Lather (250 grams) - Milk Brand: Pre de Provence Price: $7.49\n",
      "Liked Calgon Massaging Beauty Bar - English Garden: 2 Bars Brand: Calgon\n",
      "Liked Asquith &amp; Somerset Triple Milled Luxury Soap Bar Love Tea Rose\n",
      "Liked Michel Design Works Bath Soap Bar, Peony, Large Brand: Michel Design Works Price: $12.99\n",
      "Liked Bundle of 2 Greenwich Bay Trading Co. Soaps - 10.5oz Bath Soap Bar and Matching 1.9oz Hand Soap Bar (Exfoliating - Pomegranate Shea Butter) Brand: Greenwich Bay Trading Company\n",
      "Liked CST Box Bath Soap (Cherry Blossom) Brand: AsaVea\n",
      "You are an expert beauty product reviewer and recommender. Analyze the provided list of products purchased by the user in order and summarize the user behavior by identifying the characteristics he liked and disliked about the products in at most 100 words.\n",
      "    Do not include information not present in the item descriptions.\n",
      "----------------------------------------------------------------------------------------------------\n",
      "You are an expert beauty product reviewer and recommender. You are provided with a user's list of recent products and their descriptions that the user purchases and whether the user liked it or disliked it. Please go through the list in order -\n",
      "Disliked Helen of Troy 1579 Tangle Free Hot Air Brush, White, 3/4 Inch Barrel Brand: Helen Of Troy Price: $28.70\n",
      "Disliked TOOGOO(R) Facial Beauty Tool Face Massager Facemaster 6 in 1 Set Pink for Woman\n",
      "Liked Age Beautiful Intense Strengthening Treat 5.1oz Tube (3 Pack) Brand: DAKOKA\n",
      "Liked KIBIKI Premium Facial Amino Soap 80g\n",
      "Liked African Soft Black Soap Tub 1lb Brand: SmellGood Price: $11.98\n",
      "Disliked African Black Soap Liquid (8oz) Brand: SmellGood Price: $6.98\n",
      "Disliked Okay African Soap Liquid, Black, 8 Ounce Brand: Okay Price: $8.56\n",
      "Liked TECHNIC GET GORGEOUS HIGHLIGHTER Shimmer Compact Highlighting Shimmering Powder by Technic Brand: Technic Price: $5.99\n",
      "Disliked Hesh Rose petal powder Herbal 100gms Brand: Hesh Price: $5.93\n",
      "Liked Sleek MakeUp Precious Metals Highlighting Palette Price: $14.99\n",
      "Disliked Cleomee Donkey Snowy Pore Balm Brand: Cleomee\n",
      "Disliked Dermacol Make-up Cover #212, Mid-Brown/Pink, For All Skin Types Brand: Dermacol Price: $13.99\n",
      "Disliked Korean Innovative Caviar Capsule Cream With Canadian Salmon Egg Extract for Abundant Moisture Nutrition And Whitening - 50 ml by koreangs\n",
      "Liked Mederma AG Advanced Dry Skin Therapy Body Cleanser 8 oz Brand: Aqua Glycolic Price: $18.23\n",
      "Disliked FATCO Myrrhaculous Face Cream, Natural Anti-aging Moisturizing Cream Infused with Myrrh - All Skin Types, 1 oz\n",
      "You are an expert beauty product reviewer and recommender. Analyze the provided list of products purchased by the user in order and summarize the user behavior by identifying the characteristics he liked and disliked about the products in at most 100 words.\n",
      "    Do not include information not present in the item descriptions.\n",
      "----------------------------------------------------------------------------------------------------\n",
      "You are an expert beauty product reviewer and recommender. You are provided with a user's list of recent products and their descriptions that the user purchases and whether the user liked it or disliked it. Please go through the list in order -\n",
      "Liked Oral-B Glide Pro-Health Dental Floss, Original Floss, 50m, Pack of 6 Brand: Oral-B Price: $19.47\n",
      "Liked Coppertone Water Babies SPF Sunblock Stick .6oz Brand: Coppertone\n",
      "Liked Goody Simple Styles Spin Pin Dark Hair Brand: Goody\n",
      "Disliked Vktech Hair Braider Twist Styling Braid Tool Magic Wonder Holder Clip DIY French Brand: Vktech\n",
      "Liked Suave for Kids 2 in 1 Shampoo, Dragon Fruit 12 fl oz (355 ml) Brand: Unilever Price: $15.00\n",
      "Disliked Simply Beautiful De Tangle Brush - Professional Detangling Hairbrush - Pink, Black, Purple, Blue or Green (Black)\n",
      "Liked Beauty Bridge - Anti-Aging Protective Day Cream Brand: Beauty Bridge Price: $37.28\n",
      "Liked Wavertree &amp; London Lavender D'Provence (8 bars) -Triple-milled (twice) Shea Butter soap Bar -Rich &amp; Creamy Lather Price: $56.00\n",
      "Liked Wavertree &amp; London Beach (8 bars) -Triple-milled (twice) Shea Butter soap Bar -Rich &amp; Creamy Lather Price: $56.00\n",
      "Liked Aisilk Hair Cutting Cape Hairdressing &amp; Large Neck Duster Brush set for Hair Cut Hairstylist Design Gown Barbers Salon Make up Cosmetic\n",
      "Liked Neutrogena Ultra Sheer Dry-Touch Sunscreen Broad Spectrum SPF 70, 3 Fl. oz. Brand: Neutrogena Price: $8.04\n",
      "Disliked Fekkai Full Blown Aerosol Foam Cond Us 6.6 Oz, 6.660-Fluid Ounce Brand: Fekkai\n",
      "Liked Panasonic Bikini Shaper and Trimmer for Women ES246AC; Compact; Portable Design with Adjustable Trim Settings; Battery Operated Brand: Panasonic Price: $18.49\n",
      "Liked  Colgate Fluoride Toothpaste Strawberry Smash Liquid Gel 4.60 oz (Pack of 6)  Brand: Colgate Price: $29.63\n",
      "You are an expert beauty product reviewer and recommender. Analyze the provided list of products purchased by the user in order and summarize the user behavior by identifying the characteristics he liked and disliked about the products in at most 100 words.\n",
      "    Do not include information not present in the item descriptions.\n",
      "----------------------------------------------------------------------------------------------------\n",
      "You are an expert beauty product reviewer and recommender. You are provided with a user's list of recent products and their descriptions that the user purchases and whether the user liked it or disliked it. Please go through the list in order -\n",
      "Liked Oral-B Glide Pro-Health Dental Floss, Original Floss, 50m, Pack of 6 Brand: Oral-B Price: $19.47\n",
      "Liked Yes To Cucumber Hypoallergenic Facial Towelettes, 30 Count (Pack of 6) Brand: Yes To Price: $39.38\n",
      "Liked (3 Pack) e.l.f. Essential All Over Color Stick - Golden Peach\n",
      "Liked clariSEA Pomegranate De-Bump Salt Buff, 15 oz. Brand: Jubujub\n",
      "Disliked Secret Antiperspirant and Deodorant for Women, Clinical Strength Soft Solid, Light and Fresh, 1.6 Oz Brand: Secret Price: $7.89\n",
      "Disliked Whish Coconut Shaving Cream - Smooth, All Natural Shave Cream for Men &amp; Women, Leaves Skin so Soft, Shea Butter and Coconut Oil, Natural and Organic Skin Care - 5 oz. pump Brand: Whish Price: $16.00\n",
      "Liked COVERGIRL Smoothers Moisturizing Concealer, 1 Tube (0.14 oz), For Fair Skin Tones, Solid Stick Concealer, Fragrance Free, Moisturizing (packaging may vary) Brand: COVERGIRL Price: $3.94\n",
      "Liked ZeroShop(TM) Empty Clear Spray Bottles / Portable Refillable Fine Mist Sprayer Bottles for Cleaning Products,Beauty Treatments / Pack Of 3 (Colors may Vary)\n",
      "Liked Insane Deal! Powerful 3 in 1 Professional Blue Electric Callus Remover, Epilator &amp; Shaver Rechargeable Cordless Gentle and Safe for Healthy and Smooth Skin for Women or Men.\n",
      "Liked Yumbutter - Organic Go-Anywhere Superfood Pouch Almond Butter - 7 oz.\n",
      "Liked Tara Smith Base Coat Serum\n",
      "Liked Peripera Rouge Pang Rich Color Lipstick 0.2 Ounce PP02 Some Story To Tell\n",
      "Liked Mega Pro 2 Palette 32 Colors Authentic\n",
      "Liked Givenchy Poudre Lumi&egrave;re Originelle - Soft Powder Radiance Enhancer Price: $95.00\n",
      "Disliked Home Health Evercln, Face Cream, 1.69 Fluid Ounce Brand: Home Health Price: $15.55\n",
      "You are an expert beauty product reviewer and recommender. Analyze the provided list of products purchased by the user in order and summarize the user behavior by identifying the characteristics he liked and disliked about the products in at most 100 words.\n",
      "    Do not include information not present in the item descriptions.\n",
      "----------------------------------------------------------------------------------------------------\n",
      "You are an expert beauty product reviewer and recommender. You are provided with a user's list of recent products and their descriptions that the user purchases and whether the user liked it or disliked it. Please go through the list in order -\n",
      "Liked NAILICIOUS TEN Fabulous Vintage Deer Nail Art Water Transfer Decal Gorgeous 21pcs - ST8029 Brand: Nailicious Ten\n",
      "Liked Diva Stuff Kym's Pumpkin Cupcake Facial Scrubbies for Smooth, Clear, Hydrated Skin, 12 Count\n",
      "Liked Chocolate -Mint Detox Face Scrubbies, All Skin Types, Diva Stuff\n",
      "Liked Bamboo Smooth Kendi Intense Moisture Masque, 4.7 Ounce Brand: Alterna Price: $0.10\n",
      "Liked Organic Fields of Heather Mt. Spring Breeze Organic &amp; Natural Deodorant With Botanically Infused Ingredients, 2.5 fl. Oz Brand: Organic Fields Of Heather\n",
      "Liked Kevin Murphy Young Again, 3.4 Ounce Brand: Kevin Murphy Price: $41.49\n",
      "Liked Organic Fields of Heather Gingerbread Man Organic Body Cream With Botanically Infused Ingredients, 8.0 fl. Oz\n",
      "Liked Organic ROSEHIP &amp; COCONUT OIL Face CREAM Cleanser Makeup Remover and Facial Cleanser 100% Chemical Free Rose Cream Cleanser (1 oz) (2 oz) (4 oz) (1 oz)\n",
      "Liked BRIGHTEN &amp; RENEW Facial Cleansing Grains and Face Mask with Rice Powder, Australian Pink Caly, Organic Hisbiscus, Chamomile and Rose Geranium FACE CLEANSER\n",
      "Liked Organic Body Scrub -Cocoa Coffee Butter -The Body Exfoliator that Heals Damaged Skin with Aloe Vera, Manuka Honey, Coconut, &amp; Vitamins C &amp; E For EVERY Skin Type - Hypoallergenic &amp; Chemical Free\n",
      "Liked Acne Scar Reducing Cream, All Natural w/ Tomato,Cucumber &amp; Fenugreek, 2 oz, By Diva Stuff Brand: Diva Stuff Price: $11.80\n",
      "Liked Coconut Orange Cardamon Luxury Body Cream, 8 Ounces, By Diva Stuff\n",
      "Liked Primal Elements Bar Soap in Shrinkwrap, Penguins, 6 Ounce Brand: Primal Elements Price: $6.95\n",
      "Liked Bamboo Shine Silk-Sleek Brilliance Cream, 4.2-Ounce Brand: Alterna Price: $10.26\n",
      "You are an expert beauty product reviewer and recommender. Analyze the provided list of products purchased by the user in order and summarize the user behavior by identifying the characteristics he liked and disliked about the products in at most 100 words.\n",
      "    Do not include information not present in the item descriptions.\n",
      "----------------------------------------------------------------------------------------------------\n"
     ]
    }
   ],
   "source": [
    "for user in very_long_prompts_users:\n",
    "    print(user_profile_summary_prompt_dict[user])\n",
    "    print('-'*100)"
   ]
  },
  {
   "cell_type": "code",
   "execution_count": 23,
   "id": "4c8c937e-93fb-49f2-90f8-7fae1afffce5",
   "metadata": {},
   "outputs": [],
   "source": [
    "# for user in very_long_prompts_users:\n",
    "#     user_profile_summary_prompt_dict.pop(user, None)"
   ]
  },
  {
   "cell_type": "code",
   "execution_count": 24,
   "id": "af189791-6511-4f0d-9a07-00c486bf9b93",
   "metadata": {},
   "outputs": [
    {
     "name": "stdout",
     "output_type": "stream",
     "text": [
      "169\n"
     ]
    }
   ],
   "source": [
    "print(len(user_profile_summary_prompt_dict))"
   ]
  },
  {
   "cell_type": "code",
   "execution_count": 25,
   "id": "07afed3e-ce4b-4efb-89b5-6a016d799369",
   "metadata": {},
   "outputs": [],
   "source": [
    "user_profile_summary_prompt_path = './data/user_profile_summary_wo_description_prompt_dict.json'\n",
    "with open(user_profile_summary_prompt_path, 'w') as f:\n",
    "    json.dump(user_profile_summary_prompt_dict, f)\n",
    "    f.close()"
   ]
  },
  {
   "cell_type": "code",
   "execution_count": null,
   "id": "394464bb-d341-4c44-afc4-4a390370bc39",
   "metadata": {},
   "outputs": [],
   "source": []
  }
 ],
 "metadata": {
  "kernelspec": {
   "display_name": "Python 3 (ipykernel)",
   "language": "python",
   "name": "python3"
  },
  "language_info": {
   "codemirror_mode": {
    "name": "ipython",
    "version": 3
   },
   "file_extension": ".py",
   "mimetype": "text/x-python",
   "name": "python",
   "nbconvert_exporter": "python",
   "pygments_lexer": "ipython3",
   "version": "3.9.18"
  }
 },
 "nbformat": 4,
 "nbformat_minor": 5
}
