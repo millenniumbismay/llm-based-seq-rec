{
 "cells": [
  {
   "cell_type": "code",
   "execution_count": 1,
   "id": "737d449a-0b84-415a-8ad7-c904e7fd99ef",
   "metadata": {},
   "outputs": [],
   "source": [
    "import pandas as pd\n",
    "import numpy as np\n",
    "import os\n",
    "import json\n",
    "import pickle\n",
    "from collections import defaultdict\n",
    "from datetime import datetime\n",
    "import openai\n",
    "import requests\n",
    "from tenacity import retry, wait_random_exponential, stop_after_attempt\n",
    "from termcolor import colored"
   ]
  },
  {
   "cell_type": "code",
   "execution_count": 2,
   "id": "6de66ae4-6a12-40ff-a62b-eedc7a64fe01",
   "metadata": {},
   "outputs": [
    {
     "name": "stdout",
     "output_type": "stream",
     "text": [
      "624\n"
     ]
    }
   ],
   "source": [
    "user_profile_path = './data/user_profile.json'\n",
    "with open(user_profile_path, 'r') as f:\n",
    "    user_profile = json.load(f)\n",
    "print(len(user_profile))"
   ]
  },
  {
   "cell_type": "code",
   "execution_count": 22,
   "id": "979a3883-0ce1-42f0-a406-d28388367316",
   "metadata": {},
   "outputs": [
    {
     "name": "stdout",
     "output_type": "stream",
     "text": [
      "169\n"
     ]
    }
   ],
   "source": [
    "cnt = 0\n",
    "for user, profile in user_profile.items():\n",
    "    if len(profile) > 0:\n",
    "        cnt += 1\n",
    "print(cnt)"
   ]
  },
  {
   "cell_type": "code",
   "execution_count": 3,
   "id": "3a4054d4-afde-4841-9442-c3d8baed1d06",
   "metadata": {},
   "outputs": [
    {
     "name": "stdout",
     "output_type": "stream",
     "text": [
      "1216\n"
     ]
    }
   ],
   "source": [
    "item_information_path = './processed_data/processed_item_information.json'\n",
    "with open(item_information_path, 'r') as f:\n",
    "    item_information_dict = json.load(f)\n",
    "print(len(item_information_dict))"
   ]
  },
  {
   "cell_type": "code",
   "execution_count": 4,
   "id": "0738cf85-fc7e-45d0-86f5-241f8b3948a5",
   "metadata": {},
   "outputs": [
    {
     "data": {
      "text/plain": [
       "{'title': 'Yardley By Yardley Of London Unisexs Lay It On Thick Hand &amp; Foot Cream 5.3 Oz',\n",
       " 'brand': 'Yardley',\n",
       " 'price': '',\n",
       " 'description': '\\n\\nProduct: Shower Gel\\nPositive features: Lovely holiday scent, mild scrub, good quality, great smell, works well, fresh fruity scent, creamy suds.\\nNegative features: Small size, discontinued.\\n\\nConcise product description: \"Shower Gel with'}"
      ]
     },
     "execution_count": 4,
     "metadata": {},
     "output_type": "execute_result"
    }
   ],
   "source": [
    "item_information_dict['2']"
   ]
  },
  {
   "cell_type": "code",
   "execution_count": 5,
   "id": "403f8773-8074-4c6a-9e21-7d5ff3be2794",
   "metadata": {},
   "outputs": [
    {
     "data": {
      "text/html": [
       "<div>\n",
       "<style scoped>\n",
       "    .dataframe tbody tr th:only-of-type {\n",
       "        vertical-align: middle;\n",
       "    }\n",
       "\n",
       "    .dataframe tbody tr th {\n",
       "        vertical-align: top;\n",
       "    }\n",
       "\n",
       "    .dataframe thead th {\n",
       "        text-align: right;\n",
       "    }\n",
       "</style>\n",
       "<table border=\"1\" class=\"dataframe\">\n",
       "  <thead>\n",
       "    <tr style=\"text-align: right;\">\n",
       "      <th></th>\n",
       "      <th>item</th>\n",
       "      <th>user</th>\n",
       "      <th>rating</th>\n",
       "      <th>timestamp</th>\n",
       "    </tr>\n",
       "  </thead>\n",
       "  <tbody>\n",
       "    <tr>\n",
       "      <th>0</th>\n",
       "      <td>0</td>\n",
       "      <td>0</td>\n",
       "      <td>4.0</td>\n",
       "      <td>1155081600</td>\n",
       "    </tr>\n",
       "    <tr>\n",
       "      <th>1</th>\n",
       "      <td>1</td>\n",
       "      <td>0</td>\n",
       "      <td>5.0</td>\n",
       "      <td>1268697600</td>\n",
       "    </tr>\n",
       "    <tr>\n",
       "      <th>2</th>\n",
       "      <td>2</td>\n",
       "      <td>0</td>\n",
       "      <td>5.0</td>\n",
       "      <td>1404604800</td>\n",
       "    </tr>\n",
       "    <tr>\n",
       "      <th>3</th>\n",
       "      <td>3</td>\n",
       "      <td>0</td>\n",
       "      <td>5.0</td>\n",
       "      <td>1404604800</td>\n",
       "    </tr>\n",
       "    <tr>\n",
       "      <th>4</th>\n",
       "      <td>4</td>\n",
       "      <td>0</td>\n",
       "      <td>5.0</td>\n",
       "      <td>1404604800</td>\n",
       "    </tr>\n",
       "  </tbody>\n",
       "</table>\n",
       "</div>"
      ],
      "text/plain": [
       "   item  user  rating   timestamp\n",
       "0     0     0     4.0  1155081600\n",
       "1     1     0     5.0  1268697600\n",
       "2     2     0     5.0  1404604800\n",
       "3     3     0     5.0  1404604800\n",
       "4     4     0     5.0  1404604800"
      ]
     },
     "execution_count": 5,
     "metadata": {},
     "output_type": "execute_result"
    }
   ],
   "source": [
    "ratings_path = './data/ratings.csv'\n",
    "ratings_df = pd.read_csv(ratings_path)\n",
    "ratings_df.head()"
   ]
  },
  {
   "cell_type": "code",
   "execution_count": 6,
   "id": "3a3224e3-46da-4c86-9c44-be385b14c77d",
   "metadata": {},
   "outputs": [],
   "source": [
    "def get_item_description(item_information):\n",
    "    item_details = \"\"\n",
    "    if 'title' in item_information:\n",
    "        item_details += item_information['title']\n",
    "    if 'brand' in item_information:\n",
    "        item_details += f\" Brand: {item_information['brand']}\"\n",
    "    if 'price' in item_information:\n",
    "        item_details += f\" Price: {item_information['price']}\"\n",
    "    if 'description' in item_information:\n",
    "        item_details += f\" Description: {item_information['description']}\"\n",
    "    return item_details"
   ]
  },
  {
   "cell_type": "code",
   "execution_count": 16,
   "id": "b93e6740-a938-424d-b5a5-aed18b30f9fa",
   "metadata": {
    "scrolled": true
   },
   "outputs": [
    {
     "name": "stdout",
     "output_type": "stream",
     "text": [
      "User 131 -- Item 399 -- error: index 0 is out of bounds for axis 0 with size 0\n",
      "User 274 -- Item 399 -- error: index 0 is out of bounds for axis 0 with size 0\n",
      "169\n"
     ]
    }
   ],
   "source": [
    "user_profile_summary_prompt_dict = dict()\n",
    "for user, profile in user_profile.items():\n",
    "    # print('-'*10)\n",
    "    # print(user, profile)\n",
    "    if len(profile) == 0:\n",
    "        continue\n",
    "    # print(f\"User: {user} Profile: {profile}\")\n",
    "    user_rating_dict = ratings_df[ratings_df['user'] == int(user)]\n",
    "    # print(user_rating_dict)\n",
    "    prompt = \"You are an expert beauty product reviewer and recommender. You are provided with a user's list of recent products and their descriptions that the user purchases and whether the user liked it or disliked it. Please go through the list in order -\\n\"\n",
    "    for item in list(set(profile))[:15]:\n",
    "        # print(item)\n",
    "        try:\n",
    "            user_item_rating = user_rating_dict[user_rating_dict['item'] == item]['rating'].values[0]\n",
    "        except Exception as e:\n",
    "            print(f\"User {user} -- Item {item} -- error: {e}\")\n",
    "            continue\n",
    "        if user_item_rating > 3:\n",
    "            ### Liked\n",
    "            prompt += f\"Liked {get_item_description(item_information_dict[str(item)])}\\n\"\n",
    "        else:\n",
    "            prompt += f\"Disliked {get_item_description(item_information_dict[str(item)])}\\n\"\n",
    "    prompt += \"\"\"You are an expert beauty product reviewer and recommender. Analyze the provided list of products purchased by the user in order and summarize the user behavior by identifying the characteristics he liked and disliked about the products in at most 100 words.\n",
    "    Do not include information not present in the item descriptions.\"\"\"\n",
    "    user_profile_summary_prompt_dict[user] = prompt\n",
    "    # break\n",
    "print(len(user_profile_summary_prompt_dict))"
   ]
  },
  {
   "cell_type": "code",
   "execution_count": 17,
   "id": "6f3e4f7d-2232-47d2-927a-ad82d5984893",
   "metadata": {},
   "outputs": [
    {
     "name": "stdout",
     "output_type": "stream",
     "text": [
      "224.31360946745562\n"
     ]
    }
   ],
   "source": [
    "total_len = 0\n",
    "all_prompt_lens = []\n",
    "for user, prompt in user_profile_summary_prompt_dict.items():\n",
    "    all_prompt_lens.append(len(prompt.strip().split(' ')))\n",
    "    total_len += len(prompt.strip().split(' '))\n",
    "print(total_len/len(user_profile_summary_prompt_dict))"
   ]
  },
  {
   "cell_type": "code",
   "execution_count": 18,
   "id": "bc4da5f2-7ac6-4376-8432-8e0e5e010ea5",
   "metadata": {
    "scrolled": true
   },
   "outputs": [
    {
     "data": {
      "text/plain": [
       "(array([1., 0., 0., 0., 0., 0., 0., 0., 0., 0., 0., 0., 0., 0., 0., 0., 0.,\n",
       "        0., 0., 1., 0., 0., 0., 0., 0., 0., 1., 0., 0., 4., 3., 1., 0., 0.,\n",
       "        2., 2., 0., 8., 5., 1., 5., 0., 8., 4., 1., 0., 2., 2., 5., 0., 0.,\n",
       "        1., 1., 2., 2., 0., 2., 1., 1., 0., 0., 0., 0., 0., 0., 0., 0., 0.,\n",
       "        0., 1., 1., 2., 2., 0., 0., 0., 0., 0., 0., 1., 1., 0., 0., 0., 1.,\n",
       "        2., 0., 0., 0., 1., 2., 0., 1., 0., 0., 1., 0., 0., 4., 0., 0., 0.,\n",
       "        1., 3., 2., 0., 2., 2., 2., 1., 0., 1., 1., 2., 0., 1., 3., 0., 0.,\n",
       "        0., 0., 0., 0., 0., 1., 1., 0., 0., 0., 0., 0., 1., 1., 0., 0., 0.,\n",
       "        0., 0., 0., 0., 0., 0., 0., 0., 1., 1., 0., 0., 0., 0., 1., 0., 1.,\n",
       "        0., 0., 0., 1., 1., 0., 0., 0., 2., 0., 0., 0., 0., 2., 2., 0., 0.,\n",
       "        0., 1., 0., 0., 0., 0., 1., 0., 0., 0., 1., 0., 3., 0., 1., 0., 0.,\n",
       "        0., 0., 0., 0., 0., 0., 1., 0., 0., 1., 0., 0., 0., 1., 0., 0., 2.,\n",
       "        0., 0., 0., 1., 0., 0., 1., 0., 0., 0., 0., 0., 0., 0., 0., 0., 0.,\n",
       "        0., 0., 1., 0., 0., 0., 0., 0., 0., 0., 1., 0., 0., 0., 0., 0., 0.,\n",
       "        0., 1., 0., 0., 0., 0., 3., 0., 0., 0., 0., 0., 0., 0., 0., 0., 0.,\n",
       "        2., 0., 0., 0., 1., 0., 0., 0., 0., 1., 0., 0., 0., 1., 0., 0., 0.,\n",
       "        0., 1., 0., 0., 0., 0., 0., 0., 0., 0., 0., 2., 0., 0., 0., 0., 0.,\n",
       "        0., 0., 0., 0., 0., 0., 1., 0., 0., 0., 0., 1., 1., 0., 2., 0., 0.,\n",
       "        0., 0., 0., 0., 0., 0., 0., 1., 0., 0., 0., 0., 0., 1., 0., 0., 0.,\n",
       "        0., 0., 0., 0., 0., 0., 0., 0., 0., 0., 0., 0., 0., 0., 0., 0., 0.,\n",
       "        0., 0., 0., 0., 0., 0., 0., 0., 0., 0., 1., 0., 1., 0., 0., 0., 0.,\n",
       "        0., 0., 0., 0., 0., 0., 0., 0., 0., 0., 0., 0., 0., 0., 0., 0., 0.,\n",
       "        0., 0., 0., 0., 0., 0., 0., 0., 0., 1., 0., 0., 0., 0., 0., 0., 0.,\n",
       "        0., 0., 0., 0., 0., 0., 0., 0., 0., 0., 0., 0., 0., 0., 0., 0., 0.,\n",
       "        0., 0., 0., 0., 0., 0., 0., 0., 0., 0., 0., 0., 0., 0., 0., 0., 1.,\n",
       "        0., 0., 0., 0., 1., 0., 0., 0., 0., 0., 0., 0., 0., 0., 0., 0., 0.,\n",
       "        0., 0., 0., 0., 0., 0., 0., 0., 0., 0., 0., 0., 0., 0., 0., 0., 0.,\n",
       "        0., 0., 0., 0., 0., 0., 0., 0., 0., 0., 0., 0., 0., 0., 0., 0., 0.,\n",
       "        0., 0., 0., 0., 0., 0., 0., 0., 1., 0., 0., 0., 0., 0., 0., 0., 0.,\n",
       "        0., 0., 0., 0., 0., 0., 0., 0., 0., 0., 0., 0., 0., 0., 0., 0., 0.,\n",
       "        0., 0., 0., 0., 0., 0., 0., 0., 0., 0., 0., 0., 0., 0., 0., 0., 0.,\n",
       "        0., 0., 0., 0., 0., 0., 0., 0., 0., 0., 0., 0., 0., 0., 0., 0., 0.,\n",
       "        0., 0., 0., 0., 0., 0., 0., 0., 0., 0., 0., 0., 0., 0., 0., 0., 0.,\n",
       "        0., 0., 0., 0., 0., 0., 0., 0., 0., 0., 0., 0., 0., 0., 0., 1., 0.,\n",
       "        0., 0., 0., 0., 0., 0., 0., 0., 0., 0., 0., 0., 0., 0., 0., 0., 0.,\n",
       "        0., 0., 0., 0., 0., 0., 0., 0., 0., 0., 0., 0., 0., 0., 0., 0., 0.,\n",
       "        0., 0., 0., 0., 0., 0., 0., 0., 0., 0., 0., 0., 0., 0., 0., 0., 0.,\n",
       "        0., 0., 0., 0., 0., 0., 0., 0., 0., 0., 0., 0., 0., 0., 0., 0., 0.,\n",
       "        0., 0., 0., 0., 0., 0., 0., 0., 0., 0., 0., 0., 0., 0., 0., 0., 0.,\n",
       "        0., 0., 0., 0., 0., 0., 0., 0., 0., 0., 0., 0., 0., 0., 0., 0., 0.,\n",
       "        0., 0., 0., 0., 0., 0., 0., 0., 0., 0., 0., 0., 0., 0., 0., 0., 0.,\n",
       "        0., 0., 0., 0., 0., 0., 0., 0., 0., 0., 0., 0., 0., 0., 0., 0., 0.,\n",
       "        0., 0., 0., 0., 0., 0., 0., 0., 0., 0., 0., 0., 0., 0., 0., 0., 0.,\n",
       "        0., 0., 0., 0., 0., 0., 0., 0., 0., 0., 0., 1., 0., 0., 0., 0., 0.,\n",
       "        0., 0., 0., 0., 0., 0., 1., 0., 0., 0., 0., 0., 0., 0., 0., 0., 0.,\n",
       "        0., 0., 0., 0., 0., 0., 0., 0., 0., 0., 0., 0., 0., 0., 0., 0., 0.,\n",
       "        0., 0., 0., 0., 0., 0., 0., 0., 0., 0., 0., 0., 0., 0., 0., 0., 0.,\n",
       "        0., 0., 0., 0., 0., 0., 0., 0., 0., 0., 0., 0., 0., 0., 0., 0., 0.,\n",
       "        0., 0., 0., 0., 0., 0., 0., 0., 0., 0., 0., 0., 0., 0., 0., 0., 0.,\n",
       "        0., 0., 0., 0., 0., 0., 0., 0., 0., 0., 0., 0., 0., 0., 0., 0., 0.,\n",
       "        0., 0., 0., 0., 0., 0., 1., 0., 0., 0., 0., 0., 0., 0., 0., 0., 0.,\n",
       "        0., 0., 0., 0., 0., 0., 0., 0., 0., 0., 0., 0., 0., 0., 0., 0., 0.,\n",
       "        0., 0., 0., 0., 0., 0., 0., 0., 0., 0., 0., 0., 0., 0., 0., 0., 0.,\n",
       "        0., 0., 0., 0., 0., 0., 0., 0., 0., 0., 0., 0., 0., 0., 0., 0., 0.,\n",
       "        0., 0., 0., 0., 0., 0., 0., 0., 0., 0., 0., 0., 0., 0., 0., 0., 0.,\n",
       "        0., 0., 0., 0., 0., 0., 0., 0., 0., 0., 0., 0., 0., 0., 0., 0., 0.,\n",
       "        0., 0., 0., 0., 0., 0., 0., 0., 0., 0., 0., 0., 0., 0., 0., 0., 0.,\n",
       "        0., 0., 0., 0., 0., 0., 0., 0., 0., 0., 0., 0., 0., 0., 0., 0., 0.,\n",
       "        0., 0., 0., 0., 0., 0., 0., 0., 0., 0., 0., 0., 0., 1.]),\n",
       " array([114.   , 114.782, 115.564, ..., 894.436, 895.218, 896.   ]),\n",
       " <BarContainer object of 1000 artists>)"
      ]
     },
     "execution_count": 18,
     "metadata": {},
     "output_type": "execute_result"
    },
    {
     "data": {
      "image/png": "[encoded data removed]",
      "text/plain": [
       "<Figure size 640x480 with 1 Axes>"
      ]
     },
     "metadata": {},
     "output_type": "display_data"
    }
   ],
   "source": [
    "import matplotlib.pyplot as plt\n",
    "\n",
    "plt.hist(all_prompt_lens, bins=1000, edgecolor='black')"
   ]
  },
  {
   "cell_type": "code",
   "execution_count": 13,
   "id": "db86dbd6-3b33-4330-b449-d2b851492009",
   "metadata": {},
   "outputs": [
    {
     "name": "stdout",
     "output_type": "stream",
     "text": [
      "8\n"
     ]
    }
   ],
   "source": [
    "very_long_prompts_users = list()\n",
    "for user, prompt in user_profile_summary_prompt_dict.items():\n",
    "    if len(prompt.strip().split(' ')) > 500:\n",
    "        very_long_prompts_users.append(user)\n",
    "print(len(very_long_prompts_users))"
   ]
  },
  {
   "cell_type": "code",
   "execution_count": 19,
   "id": "f4c868f9-9be6-4751-8a32-2641bcf7b2bc",
   "metadata": {},
   "outputs": [
    {
     "name": "stdout",
     "output_type": "stream",
     "text": [
      "['55', '79', '131', '146', '160', '234', '431', '520']\n"
     ]
    }
   ],
   "source": [
    "print(very_long_prompts_users)"
   ]
  },
  {
   "cell_type": "code",
   "execution_count": 20,
   "id": "9a3285ab-6b0d-4bea-8b65-a2f462ebe73c",
   "metadata": {},
   "outputs": [
    {
     "name": "stdout",
     "output_type": "stream",
     "text": [
      "You are an expert beauty product reviewer and recommender. You are provided with a user's list of recent products and their descriptions that the user purchases and whether the user liked it or disliked it. Please go through the list in order -\n",
      "Liked Pre de Provence Artisanal French Soap Bar Enriched with Shea Butter, Quad-Milled For A Smooth &amp; Rich Lather (150 grams) - Raspberry Brand: Pre de Provence Price: $4.99 Description: \n",
      "\n",
      "Product: Pre de Provence Soap\n",
      "Strengths: Delightful, refreshing, rich lather, long-lasting, good value for money, lovely scent, exfoliating\n",
      "Weaknesses: Scent doesn't last long after use, slightly drying to\n",
      "Liked Vinolia Cold Cream Bath Soap 170g (1) Brand: Vinolia Price: $6.50 Description: \n",
      "\n",
      "The product is a creamy, gentle soap with a delightful scent, suitable for all skin types. However, it may leave soap scum and is relatively expensive.\n",
      "Liked Pre de Provence Artisanal French Soap Bar Enriched with Shea Butter, Quad-Milled For A Smooth &amp; Rich Lather (250 grams) - Rose Petal Brand: Pre de Provence Price: $7.50 Description: \n",
      "\n",
      "The product is a triple milled, long-lasting soap with a wide range of fragrances, including Milk, Lavender, and Rose. It leaves skin soft and fragrant, but the rose scent may not last as long as desired. The soap is pricey but worth it. Some\n",
      "Liked Pre de Provence Artisanal French Soap Bar Enriched with Shea Butter, Quad-Milled For A Smooth &amp; Rich Lather (250 grams) - Milk Brand: Pre de Provence Price: $7.49 Description: \n",
      "\n",
      "The product is a high-quality, long-lasting soap with a delightful fragrance and excellent moisturizing qualities. However, the appearance may not be appealing to all. It lathers well, is sudsy, and leaves the skin clean.\n",
      "Liked Calgon Massaging Beauty Bar - English Garden: 2 Bars Brand: Calgon Price:  Description: \n",
      "\"Calgon bath products offer delicious scents and creamy soaps, making you feel pampered and squeaky clean.\"\n",
      "Liked Asquith &amp; Somerset Triple Milled Luxury Soap Bar Love Tea Rose Brand:  Price:  Description: \n",
      "\n",
      "Product: Asquith & Somerset bath bar soaps\n",
      "\n",
      "Description: Asquith & Somerset bath bar soaps are luxurious bath products with a delicate rose scent. The large bar soap is suitable for tub baths, keeping skin soft. However, it may not be ideal for shower use\n",
      "Liked Michel Design Works Bath Soap Bar, Peony, Large Brand: Michel Design Works Price: $12.99 Description: \n",
      "\n",
      "The product is a rich and creamy soap with a delightful fragrance, available in a large oval shape. However, the peony scent may not last long and could produce a chemical smell after use.\n",
      "Liked Bundle of 2 Greenwich Bay Trading Co. Soaps - 10.5oz Bath Soap Bar and Matching 1.9oz Hand Soap Bar (Exfoliating - Pomegranate Shea Butter) Brand: Greenwich Bay Trading Company Price:  Description: \n",
      "\n",
      "Product Description: Greenwich Bay Trading Co. offers all-natural soaps and lotions with delicious scents and high-quality emollients, but they are pricey. The big bar soap is huge and long-lasting.\n",
      "Liked CST Box Bath Soap (Cherry Blossom) Brand: AsaVea Price:  Description: \n",
      "\n",
      "Product: Cherry Blossom scented bar soap\n",
      "Description: This is a big bar of cherry blossom scented soap, packed in a nice box. It is from the reputed company, Commonwealth.\n",
      "You are an expert beauty product reviewer and recommender. Analyze the provided list of products purchased by the user in order and summarize the user behavior by identifying the characteristics he liked and disliked about the products in at most 100 words.\n",
      "    Do not include information not present in the item descriptions.\n",
      "----------------------------------------------------------------------------------------------------\n",
      "You are an expert beauty product reviewer and recommender. You are provided with a user's list of recent products and their descriptions that the user purchases and whether the user liked it or disliked it. Please go through the list in order -\n",
      "Disliked Helen of Troy 1579 Tangle Free Hot Air Brush, White, 3/4 Inch Barrel Brand: Helen Of Troy Price: $28.70 Description: \n",
      "\n",
      "The product is an air brush dryer that is easy to clean and use, dries hair quickly, and gives body and shine. However, it may tangle hair and the release function may not always work.\n",
      "Disliked TOOGOO(R) Facial Beauty Tool Face Massager Facemaster 6 in 1 Set Pink for Woman Brand:  Price:  Description: \n",
      "\n",
      "This is a battery-operated vibrating massager with sponge and 3 pink attachment heads. It has a noisy motor and sponges fall off. Inexpensive but not durable.\n",
      "Liked Age Beautiful Intense Strengthening Treat 5.1oz Tube (3 Pack) Brand: DAKOKA Price:  Description: \n",
      "\n",
      "Product: Hair Treatment\n",
      "Positive Features: Leaves hair beautiful, full, soft, manageable, wonderful, great deal, good for curly and color treated hair, body to hair\n",
      "Negative Features: None mentioned\n",
      "\n",
      "Concise Product Description: This hair treatment is a great deal,\n",
      "Liked KIBIKI Premium Facial Amino Soap 80g Brand:  Price:  Description: \n",
      "Liked African Soft Black Soap Tub 1lb Brand: SmellGood Price: $11.98 Description: \n",
      "\n",
      "Product: Facial Cleanser\n",
      "Strong features: Effectively removes makeup, suitable for oily skin, long-lasting, good smell, easy to use.\n",
      "Weak features: Poor packaging, contains rocks/pebbles, not suitable for re-batching with herbs.\n",
      "Disliked African Black Soap Liquid (8oz) Brand: SmellGood Price: $6.98 Description: \n",
      "\n",
      "Product: Black Soap\n",
      "Strong features: None\n",
      "Weak features: Thinner consistency, less cleaning ability\n",
      "Disliked Okay African Soap Liquid, Black, 8 Ounce Brand: Okay Price: $8.56 Description: \n",
      "\n",
      "Product: Face Wash\n",
      "Strong features: Favorite face wash, cleans face well, removes makeup, helps control acne and dark marks, good smell\n",
      "Weak features: Leaves skin dry, not for everyone, may be too strong for some people's skin\n",
      "Liked TECHNIC GET GORGEOUS HIGHLIGHTER Shimmer Compact Highlighting Shimmering Powder by Technic Brand: Technic Price: $5.99 Description: \n",
      "\n",
      "The product is a highlighter that comes in a silvery white, pearl color. It is highly pigmented, providing a lot of product for the price. However, it may not show up as bright as desired and might not look great on darker skin tones. Some users found it\n",
      "Disliked Hesh Rose petal powder Herbal 100gms Brand: Hesh Price: $5.93 Description: \n",
      "\n",
      "Product: Rose Powder\n",
      "\n",
      "Strengths: Light rose smell, great for face and hair masks, soothes facial skin, smells heavenly, leaves soft and glowing appearance.\n",
      "\n",
      "Weaknesses: Dark color may cause staining, not eligible for return.\n",
      "Liked Sleek MakeUp Precious Metals Highlighting Palette Brand:  Price: $14.99 Description: \n",
      "\n",
      "The product is a highlighter palette with great pigment payoff and quick delivery. However, the texture is crumbly and some customers expected powder instead of creme.\n",
      "Disliked Cleomee Donkey Snowy Pore Balm Brand: Cleomee Price:  Description: \n",
      "Answer: This product provides long-lasting, smooth coverage and seals in moisture, but it may not be suitable for those seeking matte finish or moisturizing properties.\n",
      "Disliked Dermacol Make-up Cover #212, Mid-Brown/Pink, For All Skin Types Brand: Dermacol Price: $13.99 Description: \n",
      "\n",
      "The product is a foundation that provides excellent coverage for redness, hyperpigmentation, acne, and dark spots. However, it may not be suitable for oily skin as it can cause shine by midday, and it may not blend well or match the selected shade. Additionally, it may\n",
      "Disliked Korean Innovative Caviar Capsule Cream With Canadian Salmon Egg Extract for Abundant Moisture Nutrition And Whitening - 50 ml by koreangs Brand:  Price:  Description: \n",
      "\n",
      "The product is a moisturizing facial cream with a unique fish egg-like texture. It comes in a jar with a scoop, and has a pleasant smell. However, it may be too oily for some skin types and the delivery method could be improved.\n",
      "Liked Mederma AG Advanced Dry Skin Therapy Body Cleanser 8 oz Brand: Aqua Glycolic Price: $18.23 Description: \n",
      "\n",
      "The product is a shampoo that treats dry and dandruffy scalp effectively, but may negatively affect hair texture and requires a waiting period before washing. It has a feminine smell and is great for skin, but can be drying if not used with a moisturizer.\n",
      "Disliked FATCO Myrrhaculous Face Cream, Natural Anti-aging Moisturizing Cream Infused with Myrrh - All Skin Types, 1 oz Brand:  Price:  Description: \n",
      "\n",
      "The product is a natural face cream, made with beef tallow, that moisturizes well but can be greasy and thick, leaving a shiny and oily feel on the skin.\n",
      "You are an expert beauty product reviewer and recommender. Analyze the provided list of products purchased by the user in order and summarize the user behavior by identifying the characteristics he liked and disliked about the products in at most 100 words.\n",
      "    Do not include information not present in the item descriptions.\n",
      "----------------------------------------------------------------------------------------------------\n",
      "You are an expert beauty product reviewer and recommender. You are provided with a user's list of recent products and their descriptions that the user purchases and whether the user liked it or disliked it. Please go through the list in order -\n",
      "Liked Dove Men+Care, Deep Clean Body + Face Bar, 4 Ounce, 6 Count, (Pack of 2)&hellip; Brand: Dove Price: $18.99 Description: \n",
      "\n",
      "Dove Men+Care soap is a basic, effective cleanser with a pleasant scent and exfoliating micro-beads, but its plastic scrub particles may not dissolve.\n",
      "Liked Crest Pro-health Multi-Protection Rinse, Cool Wintergreen, 33.8 Fluid Ounce Brand: Crest Price:  Description: \n",
      "\n",
      "The product is Crest Pro Health mouthwash, which has a wintergreen flavor and keeps mouth clean for a long time. However, some versions contain alcohol and may not always spit out colored bits, which could be plaque.\n",
      "Liked Pantene Pro-V Volume Conditioner 12.0 Fluid Ounce (Product Size May Vary) Brand: Pantene Price:  Description: \n",
      "Liked Crest + Oral-B Professional Gingivitis Kit, 1 Count Brand: Crest Price:  Description: \n",
      "Ans - \"This product is a 5-in-1 toothbrush with customizable settings, but its complexity and clock feature are unnecessary.\"\n",
      "Liked Crest + Oral-B Professional Daily Clean Kit, 1 Count Brand: Crest Price:  Description: \n",
      "Liked Fekkai Full Blown Aerosol Foam Cond Us 6.6 Oz, 6.660-Fluid Ounce Brand: Fekkai Price:  Description: \n",
      "\n",
      "The product is a lightweight conditioner that provides fullness and smoothness to fine, frizzy, and thinning hair, while detangling and avoiding static. However, the packaging may be prone to damage during shipping.\n",
      "Liked 9 Pcs Manicure Set Pedicure Tools - Nail Care, Art Kit - For Girls Teens Women Men - Includes Nail Files Emery Boards, Nail Clipper, Cuticle Sticks, Manicure Gloves, Travel Pouch by Perfect Life Ideas Brand:  Price:  Description: \n",
      "\n",
      "The product is a nail clipper kit with additional tools. It meets expectations but the nail clipper is ineffective and not travel-friendly.\n",
      "Disliked Crest Pro-Health For Life CPC Antigingivitis/Antiplaque Smooth Mint Rinse 33.8 Fl Oz Brand: Crest Price:  Description: \n",
      "\n",
      "Product: Oral Rinse\n",
      "Strengths: Fast shipping, excellent product, highly recommended, delivers as promised, BEST oral rinse, water-pic compatible\n",
      "Weaknesses: Little pricey, only one review mentions this\n",
      "Liked Hotrose&reg; Shower Bath Back Brush Scrubber Skin Cleaning Body Massager Brand:  Price:  Description: \n",
      "\n",
      "Product: Wooden Body Brush\n",
      "\n",
      "Strengths: Comfortable long handle, soft bristles, holds soap well, lathers up good, great back scratcher.\n",
      "\n",
      "Weaknesses: Short handle, bristles show wear quickly, not silicone nub\n",
      "Liked BeautyMe Blackhead and Pimple Remover Kit with 7 Surgical Extractor Tool Brand: HotLife Price:  Description: \n",
      "\n",
      "Product: Acne Zit Removal Kit\n",
      "\n",
      "Strengths:\n",
      "- Comes with 7 tools for various uses\n",
      "- High quality tools and case\n",
      "- Instructions included\n",
      "- Affordable price\n",
      "\n",
      "Weaknesses:\n",
      "- Some users found it difficult to use without\n",
      "You are an expert beauty product reviewer and recommender. Analyze the provided list of products purchased by the user in order and summarize the user behavior by identifying the characteristics he liked and disliked about the products in at most 100 words.\n",
      "    Do not include information not present in the item descriptions.\n",
      "----------------------------------------------------------------------------------------------------\n",
      "You are an expert beauty product reviewer and recommender. You are provided with a user's list of recent products and their descriptions that the user purchases and whether the user liked it or disliked it. Please go through the list in order -\n",
      "Liked Yardley By Yardley Of London Unisexs Lay It On Thick Hand &amp; Foot Cream 5.3 Oz Brand: Yardley Price:  Description: \n",
      "\n",
      "Product: Shower Gel\n",
      "Positive features: Lovely holiday scent, mild scrub, good quality, great smell, works well, fresh fruity scent, creamy suds.\n",
      "Negative features: Small size, discontinued.\n",
      "\n",
      "Concise product description: \"Shower Gel with\n",
      "Liked Fruits &amp; Passion Blue Refreshing Shower Gel - 6.7 fl. oz. Brand: Fruits & Passion Price:  Description: \n",
      "\n",
      "The product is a Body Shop shower gel, with a strong fragrance and great quality, but may be discontinued. It is delivered quickly and gift wrapped.\n",
      "Liked Bonne Bell Smackers Bath and Body Starburst Collection Brand: Bonne Bell Price:  Description: \n",
      "\n",
      "Product Description:\n",
      "Pattern shower gel is a highly recommended product for all skin types, providing a refreshing and cooling sensation. It has a pleasant scent and is great for fine hair, but is unfortunately discontinued by Bain De Terre.\n",
      "Liked Bath &amp; Body Works Ile De Tahiti Moana Coconut Vanille Moana Body Wash with Tamanoi 8.5 oz Brand: Bath & Body Works Price:  Description: \n",
      "\n",
      "The product is a high-quality, good smelling cologne for men. It comes in various scents and is infused with pheromones. However, the scent may not last long after showering.\n",
      "\n",
      "The product is a high-quality, good smelling cologne for\n",
      "Liked Fresh Balls The Solution For Men - 5 oz Brand: Fresh Body Price:  Description: \n",
      "\n",
      "The product is a body powder called 'driBalls' that works effectively to keep the crotch area dry and firm, but may leave a powdery residue and cause slight caking upon application.\n",
      "You are an expert beauty product reviewer and recommender. Analyze the provided list of products purchased by the user in order and summarize the user behavior by identifying the characteristics he liked and disliked about the products in at most 100 words.\n",
      "    Do not include information not present in the item descriptions.\n",
      "----------------------------------------------------------------------------------------------------\n",
      "You are an expert beauty product reviewer and recommender. You are provided with a user's list of recent products and their descriptions that the user purchases and whether the user liked it or disliked it. Please go through the list in order -\n",
      "Liked Oral-B Glide Pro-Health Dental Floss, Original Floss, 50m, Pack of 6 Brand: Oral-B Price: $19.47 Description: \n",
      "\n",
      "\"Glide dental floss is a popular, durable, and smooth floss, often praised for its ability to prevent breakage and easily navigate tight gaps. However, some customers have reported receiving fewer packs than ordered.\"\n",
      "Liked Coppertone Water Babies SPF Sunblock Stick .6oz Brand: Coppertone Price:  Description: \n",
      "\n",
      "Product: Sunblock stick\n",
      "Strong features: Portable, easy application, waterproof\n",
      "Weak features: None mentioned in the review\n",
      "Liked Goody Simple Styles Spin Pin Dark Hair Brand: Goody Price:  Description: \n",
      "\n",
      "The product is a set of spin pins used to hold up hair. They work well for most hair types but may not hold up very thick or slippery hair for long periods. Some counterfeit products exist.\n",
      "Disliked Vktech Hair Braider Twist Styling Braid Tool Magic Wonder Holder Clip DIY French Brand: Vktech Price:  Description: \n",
      "\n",
      "The product is a hair accessory that works great for some users, but is difficult for others to use due to unclear instructions and complicated design.\n",
      "Liked Suave for Kids 2 in 1 Shampoo, Dragon Fruit 12 fl oz (355 ml) Brand: Unilever Price: $15.00 Description: \n",
      "Disliked Simply Beautiful De Tangle Brush - Professional Detangling Hairbrush - Pink, Black, Purple, Blue or Green (Black) Brand:  Price:  Description: \n",
      "\n",
      "The product is a detangle brush, excellent for long and tangle-prone hair, with a sturdy handle. However, it may arrive folded and cause static.\n",
      "Liked Beauty Bridge - Anti-Aging Protective Day Cream Brand: Beauty Bridge Price: $37.28 Description: \n",
      "Liked Wavertree &amp; London Lavender D'Provence (8 bars) -Triple-milled (twice) Shea Butter soap Bar -Rich &amp; Creamy Lather Brand:  Price: $56.00 Description: \n",
      "\n",
      "The product is a goat milk and Shea butter soap that smells great, has a mild pleasant scent, and works well for neutralizing old man smell. However, the bars are too big for women. It lasts long and leaves skin soft without needing to work up a lather.\n",
      "Liked Wavertree &amp; London Beach (8 bars) -Triple-milled (twice) Shea Butter soap Bar -Rich &amp; Creamy Lather Brand:  Price: $56.00 Description: \n",
      "\n",
      "Product Description: This soap has a pleasant aroma and cleans effectively, but no negative features were mentioned in the review.\n",
      "Liked Aisilk Hair Cutting Cape Hairdressing &amp; Large Neck Duster Brush set for Hair Cut Hairstylist Design Gown Barbers Salon Make up Cosmetic Brand:  Price:  Description: \n",
      "\n",
      "The product is a thin, large-sized cape, with adjustable string ties. It works well for hair dye protection, but has fit issues for children and small adults, and may not cover waist.\n",
      "Liked Neutrogena Ultra Sheer Dry-Touch Sunscreen Broad Spectrum SPF 70, 3 Fl. oz. Brand: Neutrogena Price: $8.04 Description: br>\n",
      "\n",
      "This is a travel-friendly, clear-finish sunscreen that provides excellent sun protection. However, it can leave a shiny finish and has a strong fragrance.\n",
      "Disliked Fekkai Full Blown Aerosol Foam Cond Us 6.6 Oz, 6.660-Fluid Ounce Brand: Fekkai Price:  Description: \n",
      "\n",
      "The product is a lightweight conditioner that provides fullness and smoothness to fine, frizzy, and thinning hair, while detangling and avoiding static. However, the packaging may be prone to damage during shipping.\n",
      "Liked Panasonic Bikini Shaper and Trimmer for Women ES246AC; Compact; Portable Design with Adjustable Trim Settings; Battery Operated Brand: Panasonic Price: $18.49 Description: \n",
      "\n",
      "The product is a versatile, quiet, and effortless trimmer, recommended for personal use. However, it may not be suitable for professional waxing and has limited wet usage.\n",
      "Liked  Colgate Fluoride Toothpaste Strawberry Smash Liquid Gel 4.60 oz (Pack of 6)  Brand: Colgate Price: $29.63 Description: \n",
      "\n",
      "Product: Strawberry Flavored Kids Toothpaste\n",
      "Strong Features: Kids love it, easy for kids to use, unique strawberry flavor, good stocking stuffer.\n",
      "Weak Features: Some kids don't like the flavor, mouthwash combination not preferred by all,\n",
      "You are an expert beauty product reviewer and recommender. Analyze the provided list of products purchased by the user in order and summarize the user behavior by identifying the characteristics he liked and disliked about the products in at most 100 words.\n",
      "    Do not include information not present in the item descriptions.\n",
      "----------------------------------------------------------------------------------------------------\n",
      "You are an expert beauty product reviewer and recommender. You are provided with a user's list of recent products and their descriptions that the user purchases and whether the user liked it or disliked it. Please go through the list in order -\n",
      "Liked Oral-B Glide Pro-Health Dental Floss, Original Floss, 50m, Pack of 6 Brand: Oral-B Price: $19.47 Description: \n",
      "\n",
      "\"Glide dental floss is a popular, durable, and smooth floss, often praised for its ability to prevent breakage and easily navigate tight gaps. However, some customers have reported receiving fewer packs than ordered.\"\n",
      "Liked Yes To Cucumber Hypoallergenic Facial Towelettes, 30 Count (Pack of 6) Brand: Yes To Price: $39.38 Description: \n",
      "\n",
      "The product is Yes To Cucumbers Soothing Hypoallergenic Facial Wipes, which has a great refreshing cucumber scent and works well in taking off makeup, but may leave residue and dry out quickly. Some users may experience skin irritation due to alcohol content.\n",
      "Liked (3 Pack) e.l.f. Essential All Over Color Stick - Golden Peach Brand:  Price:  Description: \n",
      "Liked clariSEA Pomegranate De-Bump Salt Buff, 15 oz. Brand: Jubujub Price:  Description: \n",
      "\n",
      "Product: Skin Smoothing Cream\n",
      "Strength: Great smell, effective in reducing skin bumps\n",
      "Weakness: None mentioned in the review\n",
      "Disliked Secret Antiperspirant and Deodorant for Women, Clinical Strength Soft Solid, Light and Fresh, 1.6 Oz Brand: Secret Price: $7.89 Description: \n",
      "\n",
      "Product: Secret Clinical Strength Deodorant\n",
      "Strengths: Effective in preventing perspiration, suitable for sensitive skin, pleasant smell, long-lasting, good value\n",
      "Weaknesses: Can leave white streaks on clothing, expensive, gel form may differ from solid\n",
      "Disliked Whish Coconut Shaving Cream - Smooth, All Natural Shave Cream for Men &amp; Women, Leaves Skin so Soft, Shea Butter and Coconut Oil, Natural and Organic Skin Care - 5 oz. pump Brand: Whish Price: $16.00 Description: \n",
      "\n",
      "The product is a natural shaving cream that provides a silky smooth shave and soft skin. It smells great but may be too sweet for some. However, it is not non-toxic as advertised.\n",
      "Liked COVERGIRL Smoothers Moisturizing Concealer, 1 Tube (0.14 oz), For Fair Skin Tones, Solid Stick Concealer, Fragrance Free, Moisturizing (packaging may vary) Brand: COVERGIRL Price: $3.94 Description: \n",
      "\n",
      "This product is a concealer that provides great coverage and blends naturally. It has a good price and is easy to use, but lacks staying power.\n",
      "Liked ZeroShop(TM) Empty Clear Spray Bottles / Portable Refillable Fine Mist Sprayer Bottles for Cleaning Products,Beauty Treatments / Pack Of 3 (Colors may Vary) Brand:  Price:  Description: \n",
      "Liked Insane Deal! Powerful 3 in 1 Professional Blue Electric Callus Remover, Epilator &amp; Shaver Rechargeable Cordless Gentle and Safe for Healthy and Smooth Skin for Women or Men. Brand:  Price:  Description: \n",
      "\n",
      "The product is a 3-in-1 epilator, shaver, and exfoliator. It works well for epilating and exfoliating but may require multiple passes. The shaver needs multiple passes for 100% results. It is affordable and fun to use\n",
      "Liked Yumbutter - Organic Go-Anywhere Superfood Pouch Almond Butter - 7 oz. Brand:  Price:  Description: \n",
      "\n",
      "Product Description: This product has a great taste, but no other features are mentioned in the reviews.\n",
      "Liked Tara Smith Base Coat Serum Brand:  Price:  Description: \n",
      "\n",
      "Product: Hair Smoothing Cream\n",
      "Strong features: Makes curly frizzy hair easier to manage, makes a huge difference with a small amount, allows for air drying\n",
      "Weak features: Can make hair slightly greasy if too much is used or applied near roots\n",
      "Liked Peripera Rouge Pang Rich Color Lipstick 0.2 Ounce PP02 Some Story To Tell Brand:  Price:  Description: \n",
      "Liked Mega Pro 2 Palette 32 Colors Authentic Brand:  Price:  Description: \n",
      "Liked Givenchy Poudre Lumi&egrave;re Originelle - Soft Powder Radiance Enhancer Brand:  Price: $95.00 Description: \n",
      "Disliked Home Health Evercln, Face Cream, 1.69 Fluid Ounce Brand: Home Health Price: $15.55 Description: \n",
      "\n",
      "The product is a cleanser and toner that promotes normal facial acidity, is cruelty-free, hypoallergenic, and non-comedogenic. However, it may not be suitable for sensitive eyes and its origin is uncertain.\n",
      "You are an expert beauty product reviewer and recommender. Analyze the provided list of products purchased by the user in order and summarize the user behavior by identifying the characteristics he liked and disliked about the products in at most 100 words.\n",
      "    Do not include information not present in the item descriptions.\n",
      "----------------------------------------------------------------------------------------------------\n",
      "You are an expert beauty product reviewer and recommender. You are provided with a user's list of recent products and their descriptions that the user purchases and whether the user liked it or disliked it. Please go through the list in order -\n",
      "Liked Pre de Provence Artisanal French Soap Bar Enriched with Shea Butter, Quad-Milled For A Smooth &amp; Rich Lather (150 grams) - Raspberry Brand: Pre de Provence Price: $4.99 Description: \n",
      "\n",
      "Product: Pre de Provence Soap\n",
      "Strengths: Delightful, refreshing, rich lather, long-lasting, good value for money, lovely scent, exfoliating\n",
      "Weaknesses: Scent doesn't last long after use, slightly drying to\n",
      "Liked Pre de Provence Artisanal French Soap Bar Enriched with Shea Butter, Quad-Milled For A Smooth &amp; Rich Lather (250 grams) - Rose Petal Brand: Pre de Provence Price: $7.50 Description: \n",
      "\n",
      "The product is a triple milled, long-lasting soap with a wide range of fragrances, including Milk, Lavender, and Rose. It leaves skin soft and fragrant, but the rose scent may not last as long as desired. The soap is pricey but worth it. Some\n",
      "Liked Pre de Provence Artisanal French Soap Bar Enriched with Shea Butter, Quad-Milled For A Smooth &amp; Rich Lather (250 grams) - Milk Brand: Pre de Provence Price: $7.49 Description: \n",
      "\n",
      "The product is a high-quality, long-lasting soap with a delightful fragrance and excellent moisturizing qualities. However, the appearance may not be appealing to all. It lathers well, is sudsy, and leaves the skin clean.\n",
      "You are an expert beauty product reviewer and recommender. Analyze the provided list of products purchased by the user in order and summarize the user behavior by identifying the characteristics he liked and disliked about the products in at most 100 words.\n",
      "    Do not include information not present in the item descriptions.\n",
      "----------------------------------------------------------------------------------------------------\n",
      "You are an expert beauty product reviewer and recommender. You are provided with a user's list of recent products and their descriptions that the user purchases and whether the user liked it or disliked it. Please go through the list in order -\n",
      "Liked NAILICIOUS TEN Fabulous Vintage Deer Nail Art Water Transfer Decal Gorgeous 21pcs - ST8029 Brand: Nailicious Ten Price:  Description: \n",
      "\n",
      "Product: Deer Nail Decals\n",
      "Strong features: attractive, fun, easy to use, cheap, good quality\n",
      "Weak features: none mentioned in the reviews\n",
      "Liked Diva Stuff Kym's Pumpkin Cupcake Facial Scrubbies for Smooth, Clear, Hydrated Skin, 12 Count Brand:  Price:  Description: \n",
      "\n",
      "The product is a face scrub that smells like a pumpkin cupcake, comes in convenient packaging, and leaves the face feeling smooth and clean. However, it may not be drying and can be used on the body as well. The product lathers well and has a strong, realistic pumpkin\n",
      "Liked Chocolate -Mint Detox Face Scrubbies, All Skin Types, Diva Stuff Brand:  Price:  Description: \n",
      "\n",
      "The product is Diva Stuff Chocolate Mint Scrubbies, a face scrub that smells delicious, feels amazing, and leaves skin clean and smooth. However, it may resemble beef jerky in appearance.\n",
      "Liked Bamboo Smooth Kendi Intense Moisture Masque, 4.7 Ounce Brand: Alterna Price: $0.10 Description: \n",
      "\n",
      "The product is a thick and creamy hair mask, great for adding moisture and shine to hair. It has a pleasant scent and rinses well. However, it can make hair feel heavy and waxy if overused.\n",
      "Liked Organic Fields of Heather Mt. Spring Breeze Organic &amp; Natural Deodorant With Botanically Infused Ingredients, 2.5 fl. Oz Brand: Organic Fields Of Heather Price:  Description: \n",
      "\n",
      "Product: A deodorant with a great scent and good drying properties. However, the packaging is not user-friendly and the product may not effectively stop odor for heavy sweaters.\n",
      "\n",
      "Explanation:\n",
      "\n",
      "To extract the strong features of the product, I looked for positive reviews\n",
      "Liked Kevin Murphy Young Again, 3.4 Ounce Brand: Kevin Murphy Price: $41.49 Description: \n",
      "\n",
      "The product is Kevin Murphy Young Again oil, a thermal protection styling aid that gets rid of damaged frizz and provides salon shine to fine hair. It is a leave-in conditioner for older processed hair, making it soft and silky. However, it might not distribute evenly and may\n",
      "Liked Organic Fields of Heather Gingerbread Man Organic Body Cream With Botanically Infused Ingredients, 8.0 fl. Oz Brand:  Price:  Description: \n",
      "\n",
      "The product is a foot cream that smells great, is organic and natural, and works well for dry, cracked feet. However, the blending of ingredients could be improved, as it sometimes comes out as water. The container could also be improved, as the brown container is not flexible and makes it difficult\n",
      "Liked Organic ROSEHIP &amp; COCONUT OIL Face CREAM Cleanser Makeup Remover and Facial Cleanser 100% Chemical Free Rose Cream Cleanser (1 oz) (2 oz) (4 oz) (1 oz) Brand:  Price:  Description: \n",
      "\n",
      "The product is a coconut-scented makeup remover/cleanser that effectively removes makeup, moisturizes, and leaves skin smooth. However, some users may not like the coconut smell and find it greasy, and it may not work for all skin types.\n",
      "Liked BRIGHTEN &amp; RENEW Facial Cleansing Grains and Face Mask with Rice Powder, Australian Pink Caly, Organic Hisbiscus, Chamomile and Rose Geranium FACE CLEANSER Brand:  Price:  Description: \n",
      "\n",
      "The product is a luxurious, great for mature skin, rose-scented cleanser/mask that makes skin feel amazing and soft, but the quantity is small and it can be dry.\n",
      "Liked Organic Body Scrub -Cocoa Coffee Butter -The Body Exfoliator that Heals Damaged Skin with Aloe Vera, Manuka Honey, Coconut, &amp; Vitamins C &amp; E For EVERY Skin Type - Hypoallergenic &amp; Chemical Free Brand:  Price:  Description: \n",
      "\n",
      "The product is a NATURAL scrub with a delightful smell, making skin soft. However, it's messy to use, has a waxy coating, and may not be suitable for first-time users. Some users received damaged or leaking items.\n",
      "Liked Acne Scar Reducing Cream, All Natural w/ Tomato,Cucumber &amp; Fenugreek, 2 oz, By Diva Stuff Brand: Diva Stuff Price: $11.80 Description: \n",
      "\n",
      "The product is a face cream that smells great, reduces acne scars, and keeps skin matte and hydrated. However, it may not work for all scars and the formula was changed recently.\n",
      "Liked Coconut Orange Cardamon Luxury Body Cream, 8 Ounces, By Diva Stuff Brand:  Price:  Description: \n",
      "\n",
      "\"This lotion is a refreshing, creamy, and non-greasy product with a strong orange scent that faintly smells of coconut. However, it can be difficult to obtain.\"\n",
      "Liked Primal Elements Bar Soap in Shrinkwrap, Penguins, 6 Ounce Brand: Primal Elements Price: $6.95 Description: \n",
      "\n",
      "Product: Primal Elements Soap\n",
      "Description: Primal Elements Soap is a beautifully scented, refreshing, and invigorating soap that leaves no soapy residue. It is suitable for sensitive skin, non-drying, and long-lasting.\n",
      "\n",
      "Note:\n",
      "Liked Bamboo Shine Silk-Sleek Brilliance Cream, 4.2-Ounce Brand: Alterna Price: $10.26 Description: \n",
      "\n",
      "The product is a hair cream that adds shine and softness to hair, especially beneficial for curly and coarse hair. It doesn't make hair greasy or heavy, and has a pleasant scent, although it may be too strong for some. It is great for dry or color-treated hair\n",
      "You are an expert beauty product reviewer and recommender. Analyze the provided list of products purchased by the user in order and summarize the user behavior by identifying the characteristics he liked and disliked about the products in at most 100 words.\n",
      "    Do not include information not present in the item descriptions.\n",
      "----------------------------------------------------------------------------------------------------\n"
     ]
    }
   ],
   "source": [
    "for user in very_long_prompts_users:\n",
    "    print(user_profile_summary_prompt_dict[user])\n",
    "    print('-'*100)"
   ]
  },
  {
   "cell_type": "code",
   "execution_count": 32,
   "id": "4c8c937e-93fb-49f2-90f8-7fae1afffce5",
   "metadata": {},
   "outputs": [],
   "source": [
    "# for user in very_long_prompts_users:\n",
    "#     user_profile_summary_prompt_dict.pop(user, None)"
   ]
  },
  {
   "cell_type": "code",
   "execution_count": 21,
   "id": "af189791-6511-4f0d-9a07-00c486bf9b93",
   "metadata": {},
   "outputs": [
    {
     "name": "stdout",
     "output_type": "stream",
     "text": [
      "169\n"
     ]
    }
   ],
   "source": [
    "print(len(user_profile_summary_prompt_dict))"
   ]
  },
  {
   "cell_type": "code",
   "execution_count": 23,
   "id": "07afed3e-ce4b-4efb-89b5-6a016d799369",
   "metadata": {},
   "outputs": [],
   "source": [
    "user_profile_summary_prompt_path = './data/user_profile_summary_prompt_dict.json'\n",
    "with open(user_profile_summary_prompt_path, 'w') as f:\n",
    "    json.dump(user_profile_summary_prompt_dict, f)\n",
    "    f.close()"
   ]
  },
  {
   "cell_type": "code",
   "execution_count": null,
   "id": "394464bb-d341-4c44-afc4-4a390370bc39",
   "metadata": {},
   "outputs": [],
   "source": []
  }
 ],
 "metadata": {
  "kernelspec": {
   "display_name": "Python 3 (ipykernel)",
   "language": "python",
   "name": "python3"
  },
  "language_info": {
   "codemirror_mode": {
    "name": "ipython",
    "version": 3
   },
   "file_extension": ".py",
   "mimetype": "text/x-python",
   "name": "python",
   "nbconvert_exporter": "python",
   "pygments_lexer": "ipython3",
   "version": "3.9.18"
  }
 },
 "nbformat": 4,
 "nbformat_minor": 5
}
