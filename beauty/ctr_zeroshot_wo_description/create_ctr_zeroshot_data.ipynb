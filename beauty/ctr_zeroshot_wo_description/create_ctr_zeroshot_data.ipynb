{
 "cells": [
  {
   "cell_type": "code",
   "execution_count": 1,
   "id": "d94e2d5c-4f39-490d-89ba-adafad93553a",
   "metadata": {},
   "outputs": [],
   "source": [
    "import pandas as pd\n",
    "import numpy as np\n",
    "import os\n",
    "import json\n",
    "import pickle\n",
    "from collections import defaultdict\n",
    "from datetime import datetime\n",
    "import openai\n",
    "import requests\n",
    "from tenacity import retry, wait_random_exponential, stop_after_attempt\n",
    "from termcolor import colored\n",
    "openai.api_key = os.environ.get('OPENAI_API_KEY')"
   ]
  },
  {
   "cell_type": "code",
   "execution_count": 2,
   "id": "68fd2bd6-658f-4bd4-b9de-658aba17dce9",
   "metadata": {},
   "outputs": [],
   "source": [
    "user_test_path = '../beauty_data/processed_data/user_test.json'\n",
    "user_valid_path = '../beauty_data/processed_data/user_valid.json'"
   ]
  },
  {
   "cell_type": "code",
   "execution_count": 3,
   "id": "c5fa4a9a-85ed-426e-97ed-67b5336d083f",
   "metadata": {},
   "outputs": [
    {
     "name": "stdout",
     "output_type": "stream",
     "text": [
      "624\n"
     ]
    }
   ],
   "source": [
    "with open(user_test_path, 'rb') as f:\n",
    "    user_test_dict = json.load(f)\n",
    "print(len(user_test_dict))"
   ]
  },
  {
   "cell_type": "code",
   "execution_count": 4,
   "id": "da63ad37-dd20-4d7e-81ce-1d1f3401bad3",
   "metadata": {},
   "outputs": [
    {
     "name": "stdout",
     "output_type": "stream",
     "text": [
      "624\n"
     ]
    }
   ],
   "source": [
    "with open(user_valid_path, 'rb') as f:\n",
    "    user_valid_dict = json.load(f)\n",
    "print(len(user_valid_dict))"
   ]
  },
  {
   "cell_type": "code",
   "execution_count": 5,
   "id": "357e4a64-a5fe-47ec-8978-5024802b893f",
   "metadata": {},
   "outputs": [
    {
     "name": "stdout",
     "output_type": "stream",
     "text": [
      "[1, 2, 3, 4, 5, 5]\n",
      "[2, 3, 4, 5, 5, 6]\n"
     ]
    }
   ],
   "source": [
    "print(user_valid_dict['0'])\n",
    "print(user_test_dict['0'])"
   ]
  },
  {
   "cell_type": "code",
   "execution_count": 6,
   "id": "2dd821e3-ba6c-49d3-b6a6-f2982efc4033",
   "metadata": {},
   "outputs": [
    {
     "name": "stdout",
     "output_type": "stream",
     "text": [
      "1216 {'title': 'Monoi - Monoi Pitate Jasmine 4 fl oz', 'brand': 'Monoi', 'price': '', 'description': '\\n\\nThe product is a jasmine-scented coconut oil, great for dry skin and hair, making them soft and non-oily. However, the jasmine scent may not be natural and not everyone may like it.'}\n"
     ]
    }
   ],
   "source": [
    "item_information_path = '../beauty_data/processed_data/processed_item_information.json'\n",
    "with open(item_information_path, 'r') as f:\n",
    "    item_information_dict = json.load(f)\n",
    "print(len(item_information_dict), item_information_dict['1'])"
   ]
  },
  {
   "cell_type": "code",
   "execution_count": 7,
   "id": "bed34e1c-e234-4956-b987-71c535712061",
   "metadata": {},
   "outputs": [
    {
     "data": {
      "text/html": [
       "<div>\n",
       "<style scoped>\n",
       "    .dataframe tbody tr th:only-of-type {\n",
       "        vertical-align: middle;\n",
       "    }\n",
       "\n",
       "    .dataframe tbody tr th {\n",
       "        vertical-align: top;\n",
       "    }\n",
       "\n",
       "    .dataframe thead th {\n",
       "        text-align: right;\n",
       "    }\n",
       "</style>\n",
       "<table border=\"1\" class=\"dataframe\">\n",
       "  <thead>\n",
       "    <tr style=\"text-align: right;\">\n",
       "      <th></th>\n",
       "      <th>item</th>\n",
       "      <th>user</th>\n",
       "      <th>rating</th>\n",
       "      <th>timestamp</th>\n",
       "    </tr>\n",
       "  </thead>\n",
       "  <tbody>\n",
       "    <tr>\n",
       "      <th>0</th>\n",
       "      <td>0</td>\n",
       "      <td>0</td>\n",
       "      <td>4.0</td>\n",
       "      <td>1155081600</td>\n",
       "    </tr>\n",
       "    <tr>\n",
       "      <th>1</th>\n",
       "      <td>1</td>\n",
       "      <td>0</td>\n",
       "      <td>5.0</td>\n",
       "      <td>1268697600</td>\n",
       "    </tr>\n",
       "    <tr>\n",
       "      <th>2</th>\n",
       "      <td>2</td>\n",
       "      <td>0</td>\n",
       "      <td>5.0</td>\n",
       "      <td>1404604800</td>\n",
       "    </tr>\n",
       "    <tr>\n",
       "      <th>3</th>\n",
       "      <td>3</td>\n",
       "      <td>0</td>\n",
       "      <td>5.0</td>\n",
       "      <td>1404604800</td>\n",
       "    </tr>\n",
       "    <tr>\n",
       "      <th>4</th>\n",
       "      <td>4</td>\n",
       "      <td>0</td>\n",
       "      <td>5.0</td>\n",
       "      <td>1404604800</td>\n",
       "    </tr>\n",
       "  </tbody>\n",
       "</table>\n",
       "</div>"
      ],
      "text/plain": [
       "   item  user  rating   timestamp\n",
       "0     0     0     4.0  1155081600\n",
       "1     1     0     5.0  1268697600\n",
       "2     2     0     5.0  1404604800\n",
       "3     3     0     5.0  1404604800\n",
       "4     4     0     5.0  1404604800"
      ]
     },
     "execution_count": 7,
     "metadata": {},
     "output_type": "execute_result"
    }
   ],
   "source": [
    "ratings_path = '../beauty_data/processed_data/ratings.csv'\n",
    "ratings_df = pd.read_csv(ratings_path)\n",
    "ratings_df.head()"
   ]
  },
  {
   "cell_type": "code",
   "execution_count": 9,
   "id": "3721bb73",
   "metadata": {},
   "outputs": [
    {
     "name": "stdout",
     "output_type": "stream",
     "text": [
      "160 \n",
      "The user disliked 100% Cotton Premium Salon Towels 16&quot; X 27&quot; - Pack of 12 Pcs (Royal Blue) because they were likely not satisfied with the product's quality or size, as they specifically mentioned the dimensions and material. The user seems to prefer high-quality, possibly larger-sized towels.\n"
     ]
    }
   ],
   "source": [
    "user_profile_summary_path = '../beauty_data/processed_data/user_profile_summary_wo_description.json'\n",
    "with open(user_profile_summary_path, 'r') as f:\n",
    "    user_profile_summary_dict = json.load(f)\n",
    "print(len(user_profile_summary_dict), user_profile_summary_dict['1'])"
   ]
  },
  {
   "cell_type": "markdown",
   "id": "0681fb87-1347-4767-be76-9783058a6564",
   "metadata": {},
   "source": [
    "### Creating zeroshot data"
   ]
  },
  {
   "cell_type": "code",
   "execution_count": 10,
   "id": "e92f8968-ca21-4fb9-9af8-b762cbadc9a2",
   "metadata": {},
   "outputs": [],
   "source": [
    "def get_item_description(item_information):\n",
    "    item_details = \"\"\n",
    "    if 'title' in item_information:\n",
    "        item_details += item_information['title']\n",
    "    if 'brand' in item_information:\n",
    "        item_details += f\" Brand: {item_information['brand']}\"\n",
    "    if 'price' in item_information:\n",
    "        item_details += f\" Price: {item_information['price']}\"\n",
    "    # if 'description' in item_information:\n",
    "    #     item_details += f\" Description: {item_information['description']}\"\n",
    "    return item_details"
   ]
  },
  {
   "cell_type": "code",
   "execution_count": 13,
   "id": "d1e4c6e4-ae49-4a53-ab47-cf7e08f41908",
   "metadata": {},
   "outputs": [
    {
     "name": "stdout",
     "output_type": "stream",
     "text": [
      "User: 64 Item: 229 error index 0 is out of bounds for axis 0 with size 0\n",
      "User: 215 Item: 399 error index 0 is out of bounds for axis 0 with size 0\n",
      "User: 401 Item: 880 error index 0 is out of bounds for axis 0 with size 0\n",
      "User: 427 Item: 399 error index 0 is out of bounds for axis 0 with size 0\n"
     ]
    }
   ],
   "source": [
    "### Test Data\n",
    "zeroshot_dict = dict()\n",
    "check_missed_items = []\n",
    "for user, item_list in user_test_dict.items():\n",
    "    # print(user, item_list)\n",
    "    user_rating_dict = ratings_df[ratings_df['user'] == int(user)]\n",
    "    # print(user_rating_dict)\n",
    "    if user in user_profile_summary_dict:\n",
    "        prompt = f\"\"\"You are an expert beauty product recommender. You are provided with a user's profile and list of recent products and their descriptions that the user purchases and whether the user liked it or disliked it.\n",
    "        User Profile - {user_profile_summary_dict[user]}\n",
    "        User purchased the following items in the given order. List of recent items and their description -\n",
    "        \"\"\"\n",
    "    else:\n",
    "        prompt = \"\"\"You are an expert beauty product recommender. You are provided with user's list of recent products and their descriptions that the user purchases and whether the user liked it or disliked it.\n",
    "        User purchased the following items in the given order. List of recent items and their description -\n",
    "        \"\"\"\n",
    "    for item in item_list[:-1]:\n",
    "        try:\n",
    "            user_item_rating = user_rating_dict[user_rating_dict['item'] == item]['rating'].values[0]\n",
    "        except Exception as e:\n",
    "            print(f\"User: {user} Item: {item} error {e}\")\n",
    "            continue\n",
    "        if user_item_rating > 3:\n",
    "            ### Liked\n",
    "            prompt += f\"Liked {get_item_description(item_information_dict[str(item)])}\\n\"\n",
    "        else:\n",
    "            prompt += f\"Disliked {get_item_description(item_information_dict[str(item)])}\\n\"\n",
    "    target_item = item_list[-1]\n",
    "    if str(target_item) not in item_information_dict:\n",
    "        continue\n",
    "    target_item_details = get_item_description(item_information_dict[str(target_item)])\n",
    "    prompt += f\"\"\"As an expert beauty product recommender, do the following steps -\n",
    "    1. Analyze the user profile, list of products purchased by the user in order and summarize the user behavior by identifying the characteristics he liked and disliked about the products in at most 100 words.\n",
    "    2. Explain with reasoning why the user will like or dislike the target product - {target_item_details} in atmost 100 words.\n",
    "    3. Finally, from the reasoning, predict whether the user will like the target product or not in the format - Prediction: Yes or No\"\"\"\n",
    "    zeroshot_dict[user] = prompt\n",
    "    # break"
   ]
  },
  {
   "cell_type": "code",
   "execution_count": 14,
   "id": "3efddf80",
   "metadata": {},
   "outputs": [
    {
     "name": "stdout",
     "output_type": "stream",
     "text": [
      "User: 64 Item: 229 error index 0 is out of bounds for axis 0 with size 0\n",
      "User: 215 Item: 399 error index 0 is out of bounds for axis 0 with size 0\n",
      "User: 401 Item: 880 error index 0 is out of bounds for axis 0 with size 0\n",
      "User: 427 Item: 399 error index 0 is out of bounds for axis 0 with size 0\n"
     ]
    }
   ],
   "source": [
    "### Valid Data\n",
    "zeroshot_valid_dict = dict()\n",
    "check_missed_items = []\n",
    "for user, item_list in user_valid_dict.items():\n",
    "    # print(user, item_list)\n",
    "    user_rating_dict = ratings_df[ratings_df['user'] == int(user)]\n",
    "    # print(user_rating_dict)\n",
    "    if user in user_profile_summary_dict:\n",
    "        prompt = f\"\"\"You are an expert beauty product recommender. You are provided with a user's profile and list of recent products and their descriptions that the user purchases and whether the user liked it or disliked it.\n",
    "        User Profile - {user_profile_summary_dict[user]}\n",
    "        User purchased the following items in the given order. List of recent items and their description -\n",
    "        \"\"\"\n",
    "    else:\n",
    "        prompt = \"\"\"You are an expert beauty product recommender. You are provided with user's list of recent products and their descriptions that the user purchases and whether the user liked it or disliked it.\n",
    "        User purchased the following items in the given order. List of recent items and their description -\n",
    "        \"\"\"\n",
    "    for item in item_list[:-1]:\n",
    "        try:\n",
    "            user_item_rating = user_rating_dict[user_rating_dict['item'] == item]['rating'].values[0]\n",
    "        except Exception as e:\n",
    "            print(f\"User: {user} Item: {item} error {e}\")\n",
    "            continue\n",
    "        if user_item_rating > 3:\n",
    "            ### Liked\n",
    "            prompt += f\"Liked {get_item_description(item_information_dict[str(item)])}\\n\"\n",
    "        else:\n",
    "            prompt += f\"Disliked {get_item_description(item_information_dict[str(item)])}\\n\"\n",
    "    target_item = item_list[-1]\n",
    "    if str(target_item) not in item_information_dict:\n",
    "        continue\n",
    "    target_item_details = get_item_description(item_information_dict[str(target_item)])\n",
    "    prompt += f\"\"\"As an expert beauty product recommender, do the following steps -\n",
    "    1. Analyze the user profile, list of products purchased by the user in order and summarize the user behavior by identifying the characteristics he liked and disliked about the products in at most 100 words.\n",
    "    2. Explain with reasoning why the user will like or dislike the target product - {target_item_details} in atmost 100 words.\n",
    "    3. Finally, from the reasoning, predict whether the user will like the target product or not in the format - Prediction: Yes or No\"\"\"\n",
    "    zeroshot_valid_dict[user] = prompt\n",
    "    # break"
   ]
  },
  {
   "cell_type": "code",
   "execution_count": 15,
   "id": "13156ae4-233d-4e31-a006-5688954bfc65",
   "metadata": {},
   "outputs": [
    {
     "name": "stdout",
     "output_type": "stream",
     "text": [
      "622 624\n"
     ]
    }
   ],
   "source": [
    "print(len(zeroshot_dict), len(zeroshot_valid_dict))"
   ]
  },
  {
   "cell_type": "code",
   "execution_count": 16,
   "id": "95870a5d-3194-432c-8f94-676dd5d7bca4",
   "metadata": {},
   "outputs": [
    {
     "name": "stdout",
     "output_type": "stream",
     "text": [
      "You are an expert beauty product recommender. You are provided with a user's profile and list of recent products and their descriptions that the user purchases and whether the user liked it or disliked it.\n",
      "        User Profile - \n",
      "The user seems to prefer products from niche brands Fresh and Monoi. They like fragrances that are fruity and floral, as evidenced by their preference for Fresh Eau De Parfum EDP in Fig Apricot and Monoi - Monoi Pitate Jasmine. The user's positive feedback suggests that they appreciate high-quality, luxurious scents that are not overpowering. They may also prefer products that are ethically sourced and cruelty-free, as both Fresh and Monoi are known for their commitment to sustainability.\n",
      "        User purchased the following items in the given order. List of recent items and their description -\n",
      "        Liked Yardley By Yardley Of London Unisexs Lay It On Thick Hand &amp; Foot Cream 5.3 Oz Brand: Yardley Price: \n",
      "Liked Fruits &amp; Passion Blue Refreshing Shower Gel - 6.7 fl. oz. Brand: Fruits & Passion Price: \n",
      "Liked Bonne Bell Smackers Bath and Body Starburst Collection Brand: Bonne Bell Price: \n",
      "Liked Bath &amp; Body Works Ile De Tahiti Moana Coconut Vanille Moana Body Wash with Tamanoi 8.5 oz Brand: Bath & Body Works Price: \n",
      "Liked Bath &amp; Body Works Ile De Tahiti Moana Coconut Vanille Moana Body Wash with Tamanoi 8.5 oz Brand: Bath & Body Works Price: \n",
      "As an expert beauty product recommender, do the following steps -\n",
      "    1. Analyze the user profile, list of products purchased by the user in order and summarize the user behavior by identifying the characteristics he liked and disliked about the products in at most 100 words.\n",
      "    2. Explain with reasoning why the user will like or dislike the target product - Bumble and Bumble Hairdresser's Invisible Oil, 3.4 Ounce Brand: Bumble and Bumble Price: $35.99 in atmost 100 words.\n",
      "    3. Finally, from the reasoning, predict whether the user will like the target product or not in the format - Prediction: Yes or No\n",
      "----------------------------------------------------------------------------------------------------\n",
      "You are an expert beauty product recommender. You are provided with a user's profile and list of recent products and their descriptions that the user purchases and whether the user liked it or disliked it.\n",
      "        User Profile - \n",
      "The user seems to prefer products from niche brands Fresh and Monoi. They like fragrances that are fruity and floral, as evidenced by their preference for Fresh Eau De Parfum EDP in Fig Apricot and Monoi - Monoi Pitate Jasmine. The user's positive feedback suggests that they appreciate high-quality, luxurious scents that are not overpowering. They may also prefer products that are ethically sourced and cruelty-free, as both Fresh and Monoi are known for their commitment to sustainability.\n",
      "        User purchased the following items in the given order. List of recent items and their description -\n",
      "        Liked Monoi - Monoi Pitate Jasmine 4 fl oz Brand: Monoi Price: \n",
      "Liked Yardley By Yardley Of London Unisexs Lay It On Thick Hand &amp; Foot Cream 5.3 Oz Brand: Yardley Price: \n",
      "Liked Fruits &amp; Passion Blue Refreshing Shower Gel - 6.7 fl. oz. Brand: Fruits & Passion Price: \n",
      "Liked Bonne Bell Smackers Bath and Body Starburst Collection Brand: Bonne Bell Price: \n",
      "Liked Bath &amp; Body Works Ile De Tahiti Moana Coconut Vanille Moana Body Wash with Tamanoi 8.5 oz Brand: Bath & Body Works Price: \n",
      "As an expert beauty product recommender, do the following steps -\n",
      "    1. Analyze the user profile, list of products purchased by the user in order and summarize the user behavior by identifying the characteristics he liked and disliked about the products in at most 100 words.\n",
      "    2. Explain with reasoning why the user will like or dislike the target product - Bath &amp; Body Works Ile De Tahiti Moana Coconut Vanille Moana Body Wash with Tamanoi 8.5 oz Brand: Bath & Body Works Price:  in atmost 100 words.\n",
      "    3. Finally, from the reasoning, predict whether the user will like the target product or not in the format - Prediction: Yes or No\n"
     ]
    }
   ],
   "source": [
    "print(zeroshot_dict['0'])\n",
    "print(\"-\"*100)\n",
    "print(zeroshot_valid_dict['0'])"
   ]
  },
  {
   "cell_type": "code",
   "execution_count": 17,
   "id": "f6be8de2-79bf-42ec-84c9-32d397a6117d",
   "metadata": {},
   "outputs": [
    {
     "name": "stdout",
     "output_type": "stream",
     "text": [
      "294.363344051447\n"
     ]
    }
   ],
   "source": [
    "total_len = 0\n",
    "for user, prompt in zeroshot_dict.items():\n",
    "    total_len += len(prompt.strip().split(' '))\n",
    "print(total_len/len(zeroshot_dict))"
   ]
  },
  {
   "cell_type": "code",
   "execution_count": 18,
   "id": "9d534778",
   "metadata": {},
   "outputs": [
    {
     "name": "stdout",
     "output_type": "stream",
     "text": [
      "282.7347266881029\n"
     ]
    }
   ],
   "source": [
    "total_len = 0\n",
    "for user, prompt in zeroshot_valid_dict.items():\n",
    "    total_len += len(prompt.strip().split(' '))\n",
    "print(total_len/len(zeroshot_dict))"
   ]
  },
  {
   "cell_type": "code",
   "execution_count": 23,
   "id": "4bf7e804-c26e-426f-9967-5d10979fa1f5",
   "metadata": {},
   "outputs": [],
   "source": [
    "users_very_long = []\n",
    "for user, prompt in zeroshot_valid_dict.items():\n",
    "    if len(prompt.strip().split(' ')) > 500:\n",
    "        users_very_long.append(user)"
   ]
  },
  {
   "cell_type": "code",
   "execution_count": 24,
   "id": "939278ff-a045-4764-b0d7-0bb855493766",
   "metadata": {},
   "outputs": [
    {
     "name": "stdout",
     "output_type": "stream",
     "text": [
      "1 ['59']\n"
     ]
    }
   ],
   "source": [
    "print(len(users_very_long), users_very_long)"
   ]
  },
  {
   "cell_type": "code",
   "execution_count": 25,
   "id": "3ddbb773-1d0e-406f-ba69-2924ea38b3a9",
   "metadata": {
    "scrolled": true
   },
   "outputs": [
    {
     "name": "stdout",
     "output_type": "stream",
     "text": [
      "You are an expert beauty product recommender. You are provided with user's list of recent products and their descriptions that the user purchases and whether the user liked it or disliked it.\n",
      "        User purchased the following items in the given order. List of recent items and their description -\n",
      "        Liked Yardley By Yardley Of London Unisexs Lay It On Thick Hand &amp; Foot Cream 5.3 Oz Brand: Yardley Price: \n",
      "Liked Fruits &amp; Passion Blue Refreshing Shower Gel - 6.7 fl. oz. Brand: Fruits & Passion Price: \n",
      "Liked Bonne Bell Smackers Bath and Body Starburst Collection Brand: Bonne Bell Price: \n",
      "Liked Bath &amp; Body Works Ile De Tahiti Moana Coconut Vanille Moana Body Wash with Tamanoi 8.5 oz Brand: Bath & Body Works Price: \n",
      "As an expert beauty product recommender, do the following steps -\n",
      "    1. Analyze the user profile, list of products purchased by the user in order and summarize the user behavior by identifying the characteristics he liked and disliked about the products in at most 100 words.\n",
      "    2. Explain with reasoning why the user will like or dislike the target product - Bath &amp; Body Works Ile De Tahiti Moana Coconut Vanille Moana Body Wash with Tamanoi 8.5 oz Brand: Bath & Body Works Price:  in atmost 100 words.\n",
      "    3. Finally, from the reasoning, predict whether the user will like the target product or not in the format - Prediction: Yes or No\n"
     ]
    }
   ],
   "source": [
    "print(zeroshot_valid_dict['12'])"
   ]
  },
  {
   "cell_type": "code",
   "execution_count": 26,
   "id": "debc6619-700f-4734-88cd-6df859e20810",
   "metadata": {},
   "outputs": [
    {
     "name": "stdout",
     "output_type": "stream",
     "text": [
      "623\n"
     ]
    }
   ],
   "source": [
    "for key in users_very_long:\n",
    "    zeroshot_valid_dict.pop(key, None)\n",
    "print(len(zeroshot_valid_dict))"
   ]
  },
  {
   "cell_type": "code",
   "execution_count": 27,
   "id": "84c6b79c-2e7a-4af2-9ae2-cc7f06da9012",
   "metadata": {},
   "outputs": [],
   "source": [
    "zeroshot_valid_path = './ctr_zeroshot_dataset/zeroshot_valid.json'\n",
    "with open(zeroshot_valid_path, 'w+') as f:\n",
    "    json.dump(zeroshot_valid_dict, f)"
   ]
  },
  {
   "cell_type": "code",
   "execution_count": 34,
   "id": "2078c042",
   "metadata": {},
   "outputs": [],
   "source": [
    "users_very_long = []\n",
    "for user, prompt in zeroshot_dict.items():\n",
    "    if len(prompt.strip().split(' ')) > 500:\n",
    "        users_very_long.append(user)"
   ]
  },
  {
   "cell_type": "code",
   "execution_count": 35,
   "id": "cf0a811a",
   "metadata": {},
   "outputs": [
    {
     "name": "stdout",
     "output_type": "stream",
     "text": [
      "602\n"
     ]
    }
   ],
   "source": [
    "for key in users_very_long:\n",
    "    zeroshot_dict.pop(key, None)\n",
    "print(len(zeroshot_dict))"
   ]
  },
  {
   "cell_type": "code",
   "execution_count": 36,
   "id": "83a1b948",
   "metadata": {},
   "outputs": [],
   "source": [
    "zeroshot_test_path = './ctr_zeroshot_dataset/zeroshot_test.json'\n",
    "with open(zeroshot_test_path, 'w+') as f:\n",
    "    json.dump(zeroshot_dict, f)"
   ]
  },
  {
   "cell_type": "code",
   "execution_count": 37,
   "id": "a63d31e0-88f3-4ab4-af57-4f2efbe60705",
   "metadata": {},
   "outputs": [
    {
     "data": {
      "text/html": [
       "<div>\n",
       "<style scoped>\n",
       "    .dataframe tbody tr th:only-of-type {\n",
       "        vertical-align: middle;\n",
       "    }\n",
       "\n",
       "    .dataframe tbody tr th {\n",
       "        vertical-align: top;\n",
       "    }\n",
       "\n",
       "    .dataframe thead th {\n",
       "        text-align: right;\n",
       "    }\n",
       "</style>\n",
       "<table border=\"1\" class=\"dataframe\">\n",
       "  <thead>\n",
       "    <tr style=\"text-align: right;\">\n",
       "      <th></th>\n",
       "      <th>item</th>\n",
       "      <th>user</th>\n",
       "      <th>rating</th>\n",
       "      <th>timestamp</th>\n",
       "    </tr>\n",
       "  </thead>\n",
       "  <tbody>\n",
       "    <tr>\n",
       "      <th>0</th>\n",
       "      <td>0</td>\n",
       "      <td>0</td>\n",
       "      <td>4.0</td>\n",
       "      <td>1155081600</td>\n",
       "    </tr>\n",
       "    <tr>\n",
       "      <th>1</th>\n",
       "      <td>1</td>\n",
       "      <td>0</td>\n",
       "      <td>5.0</td>\n",
       "      <td>1268697600</td>\n",
       "    </tr>\n",
       "    <tr>\n",
       "      <th>2</th>\n",
       "      <td>2</td>\n",
       "      <td>0</td>\n",
       "      <td>5.0</td>\n",
       "      <td>1404604800</td>\n",
       "    </tr>\n",
       "    <tr>\n",
       "      <th>3</th>\n",
       "      <td>3</td>\n",
       "      <td>0</td>\n",
       "      <td>5.0</td>\n",
       "      <td>1404604800</td>\n",
       "    </tr>\n",
       "    <tr>\n",
       "      <th>4</th>\n",
       "      <td>4</td>\n",
       "      <td>0</td>\n",
       "      <td>5.0</td>\n",
       "      <td>1404604800</td>\n",
       "    </tr>\n",
       "    <tr>\n",
       "      <th>5</th>\n",
       "      <td>5</td>\n",
       "      <td>0</td>\n",
       "      <td>5.0</td>\n",
       "      <td>1404604800</td>\n",
       "    </tr>\n",
       "    <tr>\n",
       "      <th>6</th>\n",
       "      <td>5</td>\n",
       "      <td>0</td>\n",
       "      <td>5.0</td>\n",
       "      <td>1404604800</td>\n",
       "    </tr>\n",
       "    <tr>\n",
       "      <th>7</th>\n",
       "      <td>6</td>\n",
       "      <td>0</td>\n",
       "      <td>5.0</td>\n",
       "      <td>1461801600</td>\n",
       "    </tr>\n",
       "  </tbody>\n",
       "</table>\n",
       "</div>"
      ],
      "text/plain": [
       "   item  user  rating   timestamp\n",
       "0     0     0     4.0  1155081600\n",
       "1     1     0     5.0  1268697600\n",
       "2     2     0     5.0  1404604800\n",
       "3     3     0     5.0  1404604800\n",
       "4     4     0     5.0  1404604800\n",
       "5     5     0     5.0  1404604800\n",
       "6     5     0     5.0  1404604800\n",
       "7     6     0     5.0  1461801600"
      ]
     },
     "execution_count": 37,
     "metadata": {},
     "output_type": "execute_result"
    }
   ],
   "source": [
    "ratings_df[ratings_df['user'] == int('0')]"
   ]
  },
  {
   "cell_type": "code",
   "execution_count": 38,
   "id": "ea0a6e76-9773-402b-be48-d3d83da20a72",
   "metadata": {},
   "outputs": [
    {
     "name": "stdout",
     "output_type": "stream",
     "text": [
      "You are an expert beauty product recommender. You are provided with user's list of recent products and their descriptions that the user purchases and whether the user liked it or disliked it.\n",
      "        User purchased the following items in the given order. List of recent items and their description -\n",
      "        Liked Citre Shine Moisture Burst Shampoo - 16 fl oz Brand: Citre Shine Price: $23.00\n",
      "Liked Bath &amp; Body Works Ile De Tahiti Moana Coconut Vanille Moana Body Wash with Tamanoi 8.5 oz Brand: Bath & Body Works Price: \n",
      "Liked Bath &amp; Body Works Ile De Tahiti Moana Coconut Vanille Moana Body Wash with Tamanoi 8.5 oz Brand: Bath & Body Works Price: \n",
      "Liked Bath &amp; Body Works Ile De Tahiti Moana Coconut Vanille Moana Body Wash with Tamanoi 8.5 oz Brand: Bath & Body Works Price: \n",
      "Liked Bath &amp; Body Works Ile De Tahiti Moana Coconut Vanille Moana Body Wash with Tamanoi 8.5 oz Brand: Bath & Body Works Price: \n",
      "As an expert beauty product recommender, do the following steps -\n",
      "    1. Analyze the user profile, list of products purchased by the user in order and summarize the user behavior by identifying the characteristics he liked and disliked about the products in at most 100 words.\n",
      "    2. Explain with reasoning why the user will like or dislike the target product - Avalon Grapefruit and Geranium Smoothing Shampoo, 11 Ounce Brand: Avalon Price:  in atmost 100 words.\n",
      "    3. Finally, from the reasoning, predict whether the user will like the target product or not in the format - Prediction: Yes or No\n",
      "----------------------------------------------------------------------------------------------------\n",
      "\n",
      "\n",
      "1. The user seems to have a preference for high-end hair and body care products, as evidenced by their purchase of the Citre Shine Moisture Burst Shampoo and multiple Bath & Body Works body washes. They also seem to enjoy products with unique scents, as all of the body washes have a tropical coconut and vanilla fragrance. The user may also value the moisturizing properties of these products, as all of them are marketed as being hydrating. Based on their purchase history, it seems that the user is likely to enjoy the Avalon Grapefruit and Geranium Smoothing Shampoo due to its high-quality ingredients and refreshing scent.\n",
      "\n",
      "2. The user is likely to enjoy the Avalon Grapefruit and Geranium Smoothing Shampoo because it shares similar characteristics with the products they have previously purchased and enjoyed. The shampoo is made with natural and nourishing ingredients, such as grapefruit and geranium extracts, which aligns with the user's preference for high-quality products. Additionally, the refreshing grapefruit scent may appeal to the user's love for unique and tropical fragrances. The smoothing properties of the shampoo may also be appealing to the user, as they seem to value moisturizing products for their hair and body.\n",
      "\n",
      "3. Prediction: Yes\n"
     ]
    }
   ],
   "source": [
    "test_prompt = zeroshot_dict['34']\n",
    "print(test_prompt)\n",
    "print(\"-\"*100)\n",
    "response = openai.completions.create(\n",
    "    # model = \"gpt-3.5-turbo-0125\",\n",
    "    model=\"gpt-3.5-turbo-instruct\",\n",
    "    prompt = test_prompt,\n",
    "    temperature=0.3,\n",
    "    max_tokens=256,\n",
    "    # top_p=0.3,\n",
    "    # frequency_penalty=0.5,\n",
    "    # presence_penalty=0.5\n",
    ")\n",
    "print(response.choices[0].text)"
   ]
  },
  {
   "cell_type": "code",
   "execution_count": null,
   "id": "4eb994b2-a2cf-49a5-8dcf-2ba30290c191",
   "metadata": {},
   "outputs": [],
   "source": []
  }
 ],
 "metadata": {
  "kernelspec": {
   "display_name": "Python 3 (ipykernel)",
   "language": "python",
   "name": "python3"
  },
  "language_info": {
   "codemirror_mode": {
    "name": "ipython",
    "version": 3
   },
   "file_extension": ".py",
   "mimetype": "text/x-python",
   "name": "python",
   "nbconvert_exporter": "python",
   "pygments_lexer": "ipython3",
   "version": "3.9.18"
  }
 },
 "nbformat": 4,
 "nbformat_minor": 5
}
