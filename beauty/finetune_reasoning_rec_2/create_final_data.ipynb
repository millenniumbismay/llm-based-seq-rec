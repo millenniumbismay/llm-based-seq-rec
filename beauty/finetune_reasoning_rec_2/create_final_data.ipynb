{
 "cells": [
  {
   "cell_type": "code",
   "execution_count": 1,
   "id": "d030076e-28d9-4c3d-982d-fa6c4a634a96",
   "metadata": {},
   "outputs": [],
   "source": [
    "import pickle\n",
    "import pandas as pd\n",
    "import numpy as np\n",
    "import os\n",
    "import json\n",
    "import time\n",
    "from dotenv import load_dotenv"
   ]
  },
  {
   "cell_type": "code",
   "execution_count": 2,
   "id": "f20d1e2b-d511-4a45-bf2f-91346da269c3",
   "metadata": {},
   "outputs": [],
   "source": [
    "user_train_path = '/home/grads/m/mbismay/llm-based-seq-rec/beauty/beauty_data/processed_data/user_train.json'\n",
    "user_valid_path = '/home/grads/m/mbismay/llm-based-seq-rec/beauty/beauty_data/processed_data/user_valid.json'\n",
    "user_test_path = '/home/grads/m/mbismay/llm-based-seq-rec/beauty/beauty_data/processed_data/user_test.json'"
   ]
  },
  {
   "cell_type": "code",
   "execution_count": 3,
   "id": "28b4aaf2-9db0-4d75-a662-c7fc10dfa194",
   "metadata": {},
   "outputs": [],
   "source": [
    "with open(user_train_path, 'rb') as f:\n",
    "    user_train_dict = json.load(f)\n",
    "with open(user_valid_path, 'rb') as f:\n",
    "    user_valid_dict = json.load(f)\n",
    "with open(user_test_path, 'rb') as f:\n",
    "    user_test_dict = json.load(f)"
   ]
  },
  {
   "cell_type": "code",
   "execution_count": 4,
   "id": "f2a78613-a43b-4d56-b4b0-bf5bbf3288dc",
   "metadata": {},
   "outputs": [
    {
     "name": "stdout",
     "output_type": "stream",
     "text": [
      "[7, 8, 9, 9, 10]\n",
      "[7, 8, 9, 9, 10, 11]\n",
      "[8, 9, 9, 10, 11, 12]\n"
     ]
    }
   ],
   "source": [
    "user_id = '1'\n",
    "print(user_train_dict[user_id])\n",
    "print(user_valid_dict[user_id])\n",
    "print(user_test_dict[user_id])"
   ]
  },
  {
   "cell_type": "code",
   "execution_count": 5,
   "id": "335dd4fc",
   "metadata": {},
   "outputs": [
    {
     "name": "stdout",
     "output_type": "stream",
     "text": [
      "1216\n"
     ]
    }
   ],
   "source": [
    "item_information_path = '/home/grads/m/mbismay/llm-based-seq-rec/beauty/beauty_data/processed_data/processed_item_information.json'\n",
    "with open(item_information_path, 'r') as f:\n",
    "    item_information_dict = json.load(f)\n",
    "print(len(item_information_dict))"
   ]
  },
  {
   "cell_type": "code",
   "execution_count": 6,
   "id": "0fdc4135-2c09-439d-b4e7-40b13f36fa86",
   "metadata": {},
   "outputs": [
    {
     "data": {
      "text/html": [
       "<div>\n",
       "<style scoped>\n",
       "    .dataframe tbody tr th:only-of-type {\n",
       "        vertical-align: middle;\n",
       "    }\n",
       "\n",
       "    .dataframe tbody tr th {\n",
       "        vertical-align: top;\n",
       "    }\n",
       "\n",
       "    .dataframe thead th {\n",
       "        text-align: right;\n",
       "    }\n",
       "</style>\n",
       "<table border=\"1\" class=\"dataframe\">\n",
       "  <thead>\n",
       "    <tr style=\"text-align: right;\">\n",
       "      <th></th>\n",
       "      <th>item</th>\n",
       "      <th>user</th>\n",
       "      <th>rating</th>\n",
       "      <th>timestamp</th>\n",
       "    </tr>\n",
       "  </thead>\n",
       "  <tbody>\n",
       "    <tr>\n",
       "      <th>0</th>\n",
       "      <td>0</td>\n",
       "      <td>0</td>\n",
       "      <td>4.0</td>\n",
       "      <td>1155081600</td>\n",
       "    </tr>\n",
       "    <tr>\n",
       "      <th>1</th>\n",
       "      <td>1</td>\n",
       "      <td>0</td>\n",
       "      <td>5.0</td>\n",
       "      <td>1268697600</td>\n",
       "    </tr>\n",
       "    <tr>\n",
       "      <th>2</th>\n",
       "      <td>2</td>\n",
       "      <td>0</td>\n",
       "      <td>5.0</td>\n",
       "      <td>1404604800</td>\n",
       "    </tr>\n",
       "    <tr>\n",
       "      <th>3</th>\n",
       "      <td>3</td>\n",
       "      <td>0</td>\n",
       "      <td>5.0</td>\n",
       "      <td>1404604800</td>\n",
       "    </tr>\n",
       "    <tr>\n",
       "      <th>4</th>\n",
       "      <td>4</td>\n",
       "      <td>0</td>\n",
       "      <td>5.0</td>\n",
       "      <td>1404604800</td>\n",
       "    </tr>\n",
       "  </tbody>\n",
       "</table>\n",
       "</div>"
      ],
      "text/plain": [
       "   item  user  rating   timestamp\n",
       "0     0     0     4.0  1155081600\n",
       "1     1     0     5.0  1268697600\n",
       "2     2     0     5.0  1404604800\n",
       "3     3     0     5.0  1404604800\n",
       "4     4     0     5.0  1404604800"
      ]
     },
     "execution_count": 6,
     "metadata": {},
     "output_type": "execute_result"
    }
   ],
   "source": [
    "ratings_path = '../beauty_data/processed_data/ratings.csv'\n",
    "ratings_df = pd.read_csv(ratings_path)\n",
    "ratings_df.head()"
   ]
  },
  {
   "cell_type": "code",
   "execution_count": null,
   "id": "7cbd0f1f",
   "metadata": {},
   "outputs": [],
   "source": []
  },
  {
   "cell_type": "code",
   "execution_count": 7,
   "id": "bcb9bf7a-25c2-4161-b3bc-a94d07a60407",
   "metadata": {},
   "outputs": [],
   "source": [
    "reasoning_train_data = \"./reasoning_dataset/reasoning_data/reasoning_train_dict.pkl\"\n",
    "reasoning_valid_data = \"./reasoning_dataset/reasoning_data/reasoning_valid_dict.pkl\"\n",
    "reasoning_test_data = \"./reasoning_dataset/reasoning_data/reasoning_test_dict.pkl\""
   ]
  },
  {
   "cell_type": "code",
   "execution_count": 8,
   "id": "17bfbacd-caea-4ba2-a4f1-ac84c548877e",
   "metadata": {},
   "outputs": [],
   "source": [
    "with open(reasoning_train_data, 'rb') as f:\n",
    "    reasoning_train = pickle.load(f)\n",
    "with open(reasoning_valid_data, 'rb') as f:\n",
    "    reasoning_valid = pickle.load(f)\n",
    "with open(reasoning_test_data, 'rb') as f:\n",
    "    reasoning_test = pickle.load(f)"
   ]
  },
  {
   "cell_type": "code",
   "execution_count": 9,
   "id": "38765fde-b66e-4426-81f2-7d93b2b2c253",
   "metadata": {},
   "outputs": [
    {
     "name": "stdout",
     "output_type": "stream",
     "text": [
      "\n",
      "        1. The user profile shows that the user values durability and quality in their purchases. The user dislikes products that do not meet expectations, as seen with the 100% Cotton Premium Salon Towels. Despite being soft and thick, the towels unraveled after the first wash, which was disappointing for the user. The user seems to value durability and quality in their purchases.\n",
      "        The user likes products that are long-lasting, good value for money, and have a lovely scent. The user dislikes products that have a weak scent or are drying to the skin.\n",
      "        2. The user will like the Utopia Care Stainless Steel Fingernail Clipper because it is a high-quality product made of stainless steel, which is a durable material that will last a long time. The clipper has a unique shape and style, which the user values in their purchases. Although the clipper is larger than typical and has a swivel that can come out, it works great and resembles toenail clippers. However, the user values functionality and durability over aesthetics, and the clipper's quality and durability will meet\n",
      "Prediction: Yes\n",
      "\n",
      "        1. The user profile shows that the user values durability and quality in their purchases. In the list of products purchased, the user disliked the 100% Cotton Premium Salon Towels because they unraveled after the first wash, despite being soft and thick. The user liked the Pre de Provence Artisanal French Soap Bar for its delightful, refreshing, rich lather and long-lasting quality. The user also liked the Essie Cuticle Oil for its great smell, moisturizing and softening properties, and the Utopia Care Stainless Steel Fingernail Clipper for its good quality and unique shape. The user disliked the clipper's larger size and swivel feature, but appreciated its style and functionality.\n",
      "        2. The user will like the Pre de Provence Maison French Dried Lavender Blossoms for Fragrance because of its delightful, fresh lavender scent and the product's association with the Pre de Provence brand, which the user has previously liked. The user values quality and durability, and while the scent may not be strong enough for some users, the user has shown a preference for subtle scents\n",
      "Prediction: Yes\n",
      "\n",
      "\n",
      "1. The user is someone who values durability and quality in their purchases. They like products that are long-lasting, good value for money, and have a delightful scent. They dislike products that do not meet expectations, such as the 100% Cotton Premium Salon Towels that unraveled after the first wash. They appreciate products that moisturize and soften cuticles well, and have a great smell. They also like products that are exfoliating and have a rich lather.\n",
      "2. The user will like the next item, Pre De Provence Maison French Lavender Bath & Shower Gel, because it has a great smell, which is something the user values in their beauty products. The product's light scent is also long-lasting, which is another characteristic the user appreciates. The user has previously liked Pre de Provence products, such as the Pre de Provence Artisanal French Soap Bar Enriched with Shea Butter, Quad-Milled For A Smooth & Rich Lather, and the Pre de Provence Maison French Dried Lavender Blossoms for Fragrance. Therefore, it is likely that the user will\n",
      "Prediction: Yes\n"
     ]
    }
   ],
   "source": [
    "# print(reasoning_prompt_train[user_id])\n",
    "print(reasoning_train[user_id])\n",
    "print(reasoning_valid[user_id])\n",
    "print(reasoning_test[user_id])"
   ]
  },
  {
   "cell_type": "code",
   "execution_count": 28,
   "id": "ec8cdcc2",
   "metadata": {},
   "outputs": [],
   "source": [
    "def get_item_description(item_information):\n",
    "    item_details = \"\"\n",
    "    if 'title' in item_information:\n",
    "        item_details += item_information['title']\n",
    "    if 'brand' in item_information:\n",
    "        item_details += f\" Brand: {item_information['brand']}\"\n",
    "    if 'price' in item_information:\n",
    "        item_details += f\" Price: {item_information['price']}\"\n",
    "    if 'description' in item_information:\n",
    "        item_details += f\" Description: {item_information['description']}\"\n",
    "    return item_details"
   ]
  },
  {
   "cell_type": "code",
   "execution_count": 29,
   "id": "0dadf718",
   "metadata": {},
   "outputs": [
    {
     "name": "stdout",
     "output_type": "stream",
     "text": [
      "160 \n",
      "\n",
      "The user dislikes products that do not meet expectations, as seen with the 100% Cotton Premium Salon Towels. Despite being soft and thick, the towels unraveled after the first wash, which was disappointing for the user. The user seems to value durability and quality in their purchases.\n"
     ]
    }
   ],
   "source": [
    "user_profile_summary_path = '../beauty_data/processed_data/user_profile_summary.json'\n",
    "with open(user_profile_summary_path, 'r') as f:\n",
    "    user_profile_summary_dict = json.load(f)\n",
    "print(len(user_profile_summary_dict), user_profile_summary_dict['1'])"
   ]
  },
  {
   "cell_type": "code",
   "execution_count": 30,
   "id": "727656da",
   "metadata": {},
   "outputs": [],
   "source": [
    "def get_new_reasoning_text(reasoning):\n",
    "    # print(f\"reasoning: {reasoning}\")\n",
    "    new_reasoning_text = f\"Prediction: {reasoning.split(' ')[-1]} \\n\"\n",
    "    new_reasoning_text += ' '.join(s.strip() for s in reasoning.split(\"\\n\")[:-1])\n",
    "    # print(f\"new_reasoning_text: {new_reasoning_text}\")\n",
    "    return new_reasoning_text"
   ]
  },
  {
   "cell_type": "code",
   "execution_count": 31,
   "id": "9d97a7fb",
   "metadata": {},
   "outputs": [
    {
     "name": "stdout",
     "output_type": "stream",
     "text": [
      "User: 64 Item: 229 error index 0 is out of bounds for axis 0 with size 0\n",
      "User: 215 Item: 399 error index 0 is out of bounds for axis 0 with size 0\n",
      "User: 274 Item: 399 error index 0 is out of bounds for axis 0 with size 0\n",
      "User: 401 Item: 880 error index 0 is out of bounds for axis 0 with size 0\n",
      "User: 427 Item: 399 error index 0 is out of bounds for axis 0 with size 0\n",
      "Length of final_train_dict: 616 {'instruction': \"You are an expert beauty product recommender. Given a user's profile and list of recent liked and disliked items and their price, brand, and description, identify whether the user will like or dislike the target item by providing reasoning for the same. Please follow further instruction below. \", 'input': 'User Profile - \\n\\nThe user seems to prefer hypoallergenic fragrances and natural ingredients. They liked Fresh Eau De Parfum EDP - Fig Apricot, which is a hypoallergenic fragrance, indicating their preference for pleasant scents that don\\'t cause allergies. They also liked Monoi - Monoi Pitate Jasmine, a jasmine-scented coconut oil, suggesting a preference for natural ingredients that are beneficial for dry skin and hair. The user may not prefer overpowering or artificial scents, as indicated by their dislike for KMRN Fresh Line, which may not offer a wide range of scents and may have a non-natural jasmine scent.\\n        User purchased the following items in the given order. List of recent items and their description -\\n        Liked Fresh Eau De Parfum EDP - Fig Apricot 3.4oz (100ml) Brand: Fresh Price:  Description: \\n\\nProduct Description: KMRN Fresh Line is a hypoallergenic fragrance, praised for its pleasant scent and ability to generate compliments. However, it may not offer a wide range of scents.\\nLiked Monoi - Monoi Pitate Jasmine 4 fl oz Brand: Monoi Price:  Description: \\n\\nThe product is a jasmine-scented coconut oil, great for dry skin and hair, making them soft and non-oily. However, the jasmine scent may not be natural and not everyone may like it.\\nLiked Yardley By Yardley Of London Unisexs Lay It On Thick Hand &amp; Foot Cream 5.3 Oz Brand: Yardley Price:  Description: \\n\\nProduct: Shower Gel\\nPositive features: Lovely holiday scent, mild scrub, good quality, great smell, works well, fresh fruity scent, creamy suds.\\nNegative features: Small size, discontinued.\\n\\nConcise product description: \"Shower Gel with\\nLiked Fruits &amp; Passion Blue Refreshing Shower Gel - 6.7 fl. oz. Brand: Fruits & Passion Price:  Description: \\n\\nThe product is a Body Shop shower gel, with a strong fragrance and great quality, but may be discontinued. It is delivered quickly and gift wrapped.\\nLiked Bonne Bell Smackers Bath and Body Starburst Collection Brand: Bonne Bell Price:  Description: \\n\\nProduct Description:\\nPattern shower gel is a highly recommended product for all skin types, providing a refreshing and cooling sensation. It has a pleasant scent and is great for fine hair, but is unfortunately discontinued by Bain De Terre.\\n\\nThe user will purchase the next target item - Bath &amp; Body Works Ile De Tahiti Moana Coconut Vanille Moana Body Wash with Tamanoi 8.5 oz Brand: Bath & Body Works Price:  Description: \\n\\nThe product is a high-quality, good smelling cologne for men. It comes in various scents and is infused with pheromones. However, the scent may not last long after showering.\\n\\nThe product is a high-quality, good smelling cologne for\\nDo not use any information not mentioned above. As an expert beauty product recommender, do the following steps -\\n    Predict whether the user will like the target item or not in the following format - Prediction: Yes or No\\n    by analyzing the provided list of products purchased by the user in order and summarize the user behavior by identifying the characteristics he liked and disliked about the products in at most 100 words.\\n    Explain with reasoning whether the user will like or dislike the next target item - \"Bath &amp; Body Works Ile De Tahiti Moana Coconut Vanille Moana Body Wash with Tamanoi 8.5 oz\" in atmost 100 words.', 'output': \"Prediction: Yes \\n 1. The user profile suggests that the user prefers hypoallergenic fragrances and natural ingredients. They liked Fresh Eau De Parfum EDP - Fig Apricot, which is a hypoallergenic fragrance, indicating their preference for pleasant scents that don't cause allergies. They also liked Monoi - Monoi Pitate Jasmine, a jasmine-scented coconut oil, suggesting a preference for natural ingredients that are beneficial for dry skin and hair. The user may not prefer overpowering or artificial scents, as indicated by their dislike for KMRN Fresh Line, which may not offer a wide range of scents. 2. The user will like the next item, Bath & Body Works Ile De Tahiti Moana Coconut Vanille Moana Body Wash with Tamanoi 8.5 oz, because it is a hypoallergenic fragrance with natural ingredients. The product is a body wash with a coconut vanilla scent, which is a natural and pleasant scent that the user may prefer. The product also contains Tamanoi, which is a natural ingredient derived from the Tahitian Mon\"}\n",
      "Avg Length: 607.0162337662338\n",
      "Max length: 874\n"
     ]
    }
   ],
   "source": [
    "### For Train Data\n",
    "final_train_dict = list()\n",
    "cnt = 0\n",
    "max_total_len = 0\n",
    "avg_total_len = 0\n",
    "for user, reasoning in reasoning_train.items():\n",
    "    # print(f\"User: {user}\")\n",
    "    cnt += 1\n",
    "    user_rating_dict = ratings_df[ratings_df['user'] == int(user)]\n",
    "    # print(user_rating_dict)\n",
    "\n",
    "    temp_dict = dict()\n",
    "    if user in user_profile_summary_dict:\n",
    "        temp_dict[\"instruction\"] = \"You are an expert beauty product recommender. Given a user's profile and list of recent liked and disliked items and their price, brand, and description, identify whether the user will like or dislike the target item by providing reasoning for the same. Please follow further instruction below. \"\n",
    "        prompt = f\"\"\"User Profile - {user_profile_summary_dict[user]}\n",
    "        User purchased the following items in the given order. List of recent items and their description -\n",
    "        \"\"\"\n",
    "    else:\n",
    "        temp_dict[\"instruction\"] = \"You are an expert beauty product recommender. Given a user's list of recent liked and disliked items and their price, brand, and description, identify whether the user will like or dislike the target item by providing reasoning for the same. Please follow further instruction below. \"\n",
    "        prompt = \"User purchased the following items in the given order. List of recent items and their description -\\n\"\n",
    "    \n",
    "    item_list = user_train_dict[user]\n",
    "    # print(item_list)\n",
    "    for item in item_list[:-1]:\n",
    "        try:\n",
    "            user_item_rating = user_rating_dict[user_rating_dict['item'] == item]['rating'].values[0]\n",
    "        except Exception as e:\n",
    "            print(f\"User: {user} Item: {item} error {e}\")\n",
    "            continue\n",
    "        if user_item_rating > 3:\n",
    "            ### Liked\n",
    "            prompt += f\"Liked {get_item_description(item_information_dict[str(item)])}\\n\"\n",
    "        else:\n",
    "            prompt += f\"Disliked {get_item_description(item_information_dict[str(item)])}\\n\"\n",
    "    \n",
    "    target_item = item_list[-1]\n",
    "    if str(target_item) not in item_information_dict:\n",
    "        continue\n",
    "    target_item_details = get_item_description(item_information_dict[str(target_item)])\n",
    "    target_item_rating = user_rating_dict[user_rating_dict['item'] == target_item]['rating'].values[0]\n",
    "    prompt += f\"\\nThe user will purchase the next target item - {target_item_details}\"\n",
    "    \n",
    "    prompt += f\"\"\"\\nDo not use any information not mentioned above. As an expert beauty product recommender, do the following steps -\n",
    "    Predict whether the user will like the target item or not in the following format - Prediction: Yes or No\n",
    "    by analyzing the provided list of products purchased by the user in order and summarize the user behavior by identifying the characteristics he liked and disliked about the products in at most 100 words.\n",
    "    Explain with reasoning whether the user will like or dislike the next target item - \"{item_information_dict[str(target_item)]['title']}\" in atmost 100 words.\"\"\"\n",
    "    temp_dict[\"input\"] = prompt\n",
    "\n",
    "    temp_dict[\"output\"] = get_new_reasoning_text(reasoning)\n",
    "    final_train_dict.append(temp_dict)\n",
    "    # print(final_train_dict)\n",
    "    total_len = len(temp_dict['instruction'].split()) + len(temp_dict['input'].split()) + len(temp_dict['output'].split())\n",
    "    avg_total_len += total_len\n",
    "    max_total_len = max(max_total_len, total_len)\n",
    "    # break\n",
    "print(\"Length of final_train_dict:\", len(final_train_dict), final_train_dict[0])\n",
    "print(\"Avg Length:\", avg_total_len/len(final_train_dict))\n",
    "print(\"Max length:\", max_total_len)"
   ]
  },
  {
   "cell_type": "code",
   "execution_count": 32,
   "id": "f6df14e5",
   "metadata": {},
   "outputs": [
    {
     "data": {
      "text/plain": [
       "{'instruction': \"You are an expert beauty product recommender. Given a user's list of recent liked and disliked items and their price, brand, and description, identify whether the user will like or dislike the target item by providing reasoning for the same. Please follow further instruction below. \",\n",
       " 'input': 'User purchased the following items in the given order. List of recent items and their description -\\nLiked Yardley By Yardley Of London Unisexs Lay It On Thick Hand &amp; Foot Cream 5.3 Oz Brand: Yardley Price:  Description: \\n\\nProduct: Shower Gel\\nPositive features: Lovely holiday scent, mild scrub, good quality, great smell, works well, fresh fruity scent, creamy suds.\\nNegative features: Small size, discontinued.\\n\\nConcise product description: \"Shower Gel with\\nLiked Fruits &amp; Passion Blue Refreshing Shower Gel - 6.7 fl. oz. Brand: Fruits & Passion Price:  Description: \\n\\nThe product is a Body Shop shower gel, with a strong fragrance and great quality, but may be discontinued. It is delivered quickly and gift wrapped.\\nLiked Bonne Bell Smackers Bath and Body Starburst Collection Brand: Bonne Bell Price:  Description: \\n\\nProduct Description:\\nPattern shower gel is a highly recommended product for all skin types, providing a refreshing and cooling sensation. It has a pleasant scent and is great for fine hair, but is unfortunately discontinued by Bain De Terre.\\n\\nThe user will purchase the next target item - Bath &amp; Body Works Ile De Tahiti Moana Coconut Vanille Moana Body Wash with Tamanoi 8.5 oz Brand: Bath & Body Works Price:  Description: \\n\\nThe product is a high-quality, good smelling cologne for men. It comes in various scents and is infused with pheromones. However, the scent may not last long after showering.\\n\\nThe product is a high-quality, good smelling cologne for\\nDo not use any information not mentioned above. As an expert beauty product recommender, do the following steps -\\n    Predict whether the user will like the target item or not in the following format - Prediction: Yes or No\\n    by analyzing the provided list of products purchased by the user in order and summarize the user behavior by identifying the characteristics he liked and disliked about the products in at most 100 words.\\n    Explain with reasoning whether the user will like or dislike the next target item - \"Bath &amp; Body Works Ile De Tahiti Moana Coconut Vanille Moana Body Wash with Tamanoi 8.5 oz\" in atmost 100 words.',\n",
       " 'output': \"Prediction: Yes \\n 1. The user seems to prefer products with a strong, fresh, and fruity scent. They like shower gels that have a mild scrub and creamy suds. The user dislikes products that are discontinued and prefers larger sizes. They also appreciate quick delivery and gift wrapping.  2. The user will like the next item because it is a shower gel with a strong, fresh, and fruity scent, which they prefer. The product is from a reputable brand, Bath & Body Works, and is likely to have good quality. The user has previously liked products with a refreshing and cooling sensation, and this product is likely to provide that. Although the user dislikes discontinued products, there is no mention of this product being discontinued. The user also appreciates quick delivery and gift wrapping, which is not explicitly mentioned but is a feature of the brand's products. Overall, the product meets the user's preferences and is likely to provide a positive experience.\"}"
      ]
     },
     "execution_count": 32,
     "metadata": {},
     "output_type": "execute_result"
    }
   ],
   "source": [
    "final_train_dict[183]"
   ]
  },
  {
   "cell_type": "code",
   "execution_count": 33,
   "id": "1080cc58",
   "metadata": {},
   "outputs": [
    {
     "name": "stdout",
     "output_type": "stream",
     "text": [
      "568 48 616\n"
     ]
    }
   ],
   "source": [
    "yes_cnt = 0\n",
    "no_cnt = 0\n",
    "for train_data in final_train_dict:\n",
    "    pred = train_data['output'].split(' ')[1]\n",
    "    # print(pred)\n",
    "    if pred == 'Yes':\n",
    "        yes_cnt += 1\n",
    "    elif pred == 'No':\n",
    "        no_cnt += 1\n",
    "    else:\n",
    "        print(pred, '--', train_data['output'])\n",
    "print(yes_cnt, no_cnt, yes_cnt + no_cnt)"
   ]
  },
  {
   "cell_type": "code",
   "execution_count": 38,
   "id": "dd1ae2cf",
   "metadata": {},
   "outputs": [
    {
     "name": "stdout",
     "output_type": "stream",
     "text": [
      "9\n",
      "616 607\n"
     ]
    }
   ],
   "source": [
    "cnt = 0\n",
    "cleaned_final_train_dict = []\n",
    "for temp_dict in final_train_dict:\n",
    "    total_len = len(temp_dict['instruction'].split()) + len(temp_dict['input'].split()) + len(temp_dict['output'].split())\n",
    "    if total_len>800:\n",
    "        cnt += 1\n",
    "        continue\n",
    "    cleaned_final_train_dict.append(temp_dict)\n",
    "\n",
    "print(cnt)\n",
    "print(len(final_train_dict), len(cleaned_final_train_dict))"
   ]
  },
  {
   "cell_type": "code",
   "execution_count": 39,
   "id": "86b9d75e",
   "metadata": {},
   "outputs": [
    {
     "name": "stdout",
     "output_type": "stream",
     "text": [
      "560 47 607\n"
     ]
    }
   ],
   "source": [
    "yes_cnt = 0\n",
    "no_cnt = 0\n",
    "for train_data in cleaned_final_train_dict:\n",
    "    pred = train_data['output'].split(' ')[1]\n",
    "    # print(pred)\n",
    "    if pred == 'Yes':\n",
    "        yes_cnt += 1\n",
    "    elif pred == 'No':\n",
    "        no_cnt += 1\n",
    "    else:\n",
    "        print(pred, '--', train_data['output'])\n",
    "print(yes_cnt, no_cnt, yes_cnt + no_cnt)"
   ]
  },
  {
   "cell_type": "code",
   "execution_count": 41,
   "id": "54a33c95-264b-436d-a2c4-824025cf1453",
   "metadata": {},
   "outputs": [],
   "source": [
    "final_train_path = \"./final_data/beauty/train.json\"\n",
    "with open(final_train_path, 'w') as f:\n",
    "    json.dump(cleaned_final_train_dict, f)"
   ]
  },
  {
   "cell_type": "code",
   "execution_count": 42,
   "id": "46a2eb92-fd9b-4e53-9372-0ee9d2f8cd70",
   "metadata": {},
   "outputs": [
    {
     "name": "stdout",
     "output_type": "stream",
     "text": [
      "User: 64 Item: 229 error index 0 is out of bounds for axis 0 with size 0\n",
      "User: 215 Item: 399 error index 0 is out of bounds for axis 0 with size 0\n",
      "User: 274 Item: 399 error index 0 is out of bounds for axis 0 with size 0\n",
      "User: 401 Item: 880 error index 0 is out of bounds for axis 0 with size 0\n",
      "User: 427 Item: 399 error index 0 is out of bounds for axis 0 with size 0\n",
      "Length of final_valid_dict: 616 {'instruction': \"You are an expert beauty product recommender. Given a user's profile and list of recent liked and disliked items and their price, brand, and description, identify whether the user will like or dislike the target item by providing reasoning for the same. Please follow further instruction below. \", 'input': 'User Profile - \\n\\nThe user seems to prefer hypoallergenic fragrances and natural ingredients. They liked Fresh Eau De Parfum EDP - Fig Apricot, which is a hypoallergenic fragrance, indicating their preference for pleasant scents that don\\'t cause allergies. They also liked Monoi - Monoi Pitate Jasmine, a jasmine-scented coconut oil, suggesting a preference for natural ingredients that are beneficial for dry skin and hair. The user may not prefer overpowering or artificial scents, as indicated by their dislike for KMRN Fresh Line, which may not offer a wide range of scents and may have a non-natural jasmine scent.\\n        User purchased the following items in the given order. List of recent items and their description -\\n        Liked Fresh Eau De Parfum EDP - Fig Apricot 3.4oz (100ml) Brand: Fresh Price:  Description: \\n\\nProduct Description: KMRN Fresh Line is a hypoallergenic fragrance, praised for its pleasant scent and ability to generate compliments. However, it may not offer a wide range of scents.\\nLiked Monoi - Monoi Pitate Jasmine 4 fl oz Brand: Monoi Price:  Description: \\n\\nThe product is a jasmine-scented coconut oil, great for dry skin and hair, making them soft and non-oily. However, the jasmine scent may not be natural and not everyone may like it.\\nLiked Yardley By Yardley Of London Unisexs Lay It On Thick Hand &amp; Foot Cream 5.3 Oz Brand: Yardley Price:  Description: \\n\\nProduct: Shower Gel\\nPositive features: Lovely holiday scent, mild scrub, good quality, great smell, works well, fresh fruity scent, creamy suds.\\nNegative features: Small size, discontinued.\\n\\nConcise product description: \"Shower Gel with\\nLiked Fruits &amp; Passion Blue Refreshing Shower Gel - 6.7 fl. oz. Brand: Fruits & Passion Price:  Description: \\n\\nThe product is a Body Shop shower gel, with a strong fragrance and great quality, but may be discontinued. It is delivered quickly and gift wrapped.\\nLiked Bonne Bell Smackers Bath and Body Starburst Collection Brand: Bonne Bell Price:  Description: \\n\\nProduct Description:\\nPattern shower gel is a highly recommended product for all skin types, providing a refreshing and cooling sensation. It has a pleasant scent and is great for fine hair, but is unfortunately discontinued by Bain De Terre.\\n\\nThe user will purchase the next target item - Bath &amp; Body Works Ile De Tahiti Moana Coconut Vanille Moana Body Wash with Tamanoi 8.5 oz Brand: Bath & Body Works Price:  Description: \\n\\nThe product is a high-quality, good smelling cologne for men. It comes in various scents and is infused with pheromones. However, the scent may not last long after showering.\\n\\nThe product is a high-quality, good smelling cologne for\\nDo not use any information not mentioned above. As an expert beauty product recommender, do the following steps -\\n    Predict whether the user will like the target item or not in the following format - Prediction: Yes or No\\n    by analyzing the provided list of products purchased by the user in order and summarize the user behavior by identifying the characteristics he liked and disliked about the products in at most 100 words.\\n    Explain with reasoning whether the user will like or dislike the next target item - \"Bath &amp; Body Works Ile De Tahiti Moana Coconut Vanille Moana Body Wash with Tamanoi 8.5 oz\" in atmost 100 words.', 'output': \"Prediction: Yes \\n 1. The user profile suggests that the user prefers hypoallergenic fragrances and natural ingredients. They liked Fresh Eau De Parfum EDP - Fig Apricot, which is a hypoallergenic fragrance, indicating their preference for pleasant scents that don't cause allergies. They also liked Monoi - Monoi Pitate Jasmine, a jasmine-scented coconut oil, suggesting a preference for natural ingredients that are beneficial for dry skin and hair. The user may not prefer overpowering or artificial scents, as indicated by their dislike for KMRN Fresh Line, which may not offer a wide range of scents and may have a non-natural jasmine scent. 2. The user will like the next item, Bath & Bath & Body Works Ile De Tahiti Moana Coconut Vanille Moana Body Wash with Tamanoi 8.5 oz, because it is a high-quality, good smelling cologne for men, which suggests that it has a pleasant scent that is not overpowering or artificial. The product is infused with pheromones, which may appeal to the user's\"}\n",
      "Avg Length: 604.5438311688312\n",
      "Max length: 882\n"
     ]
    }
   ],
   "source": [
    "### For Valid Data\n",
    "final_valid_dict = list()\n",
    "cnt = 0\n",
    "max_total_len = 0\n",
    "avg_total_len = 0\n",
    "for user, reasoning in reasoning_valid.items():\n",
    "    # print(f\"User: {user}\")\n",
    "    cnt += 1\n",
    "    user_rating_dict = ratings_df[ratings_df['user'] == int(user)]\n",
    "    # print(user_rating_dict)\n",
    "\n",
    "    temp_dict = dict()\n",
    "    if user in user_profile_summary_dict:\n",
    "        temp_dict[\"instruction\"] = \"You are an expert beauty product recommender. Given a user's profile and list of recent liked and disliked items and their price, brand, and description, identify whether the user will like or dislike the target item by providing reasoning for the same. Please follow further instruction below. \"\n",
    "        prompt = f\"\"\"User Profile - {user_profile_summary_dict[user]}\n",
    "        User purchased the following items in the given order. List of recent items and their description -\n",
    "        \"\"\"\n",
    "    else:\n",
    "        temp_dict[\"instruction\"] = \"You are an expert beauty product recommender. Given a user's list of recent liked and disliked items and their price, brand, and description, identify whether the user will like or dislike the target item by providing reasoning for the same. Please follow further instruction below. \"\n",
    "        prompt = \"User purchased the following items in the given order. List of recent items and their description -\\n\"\n",
    "    \n",
    "    item_list = user_train_dict[user]\n",
    "    # print(item_list)\n",
    "    for item in item_list[:-1]:\n",
    "        try:\n",
    "            user_item_rating = user_rating_dict[user_rating_dict['item'] == item]['rating'].values[0]\n",
    "        except Exception as e:\n",
    "            print(f\"User: {user} Item: {item} error {e}\")\n",
    "            continue\n",
    "        if user_item_rating > 3:\n",
    "            ### Liked\n",
    "            prompt += f\"Liked {get_item_description(item_information_dict[str(item)])}\\n\"\n",
    "        else:\n",
    "            prompt += f\"Disliked {get_item_description(item_information_dict[str(item)])}\\n\"\n",
    "    \n",
    "    target_item = item_list[-1]\n",
    "    if str(target_item) not in item_information_dict:\n",
    "        continue\n",
    "    target_item_details = get_item_description(item_information_dict[str(target_item)])\n",
    "    target_item_rating = user_rating_dict[user_rating_dict['item'] == target_item]['rating'].values[0]\n",
    "    prompt += f\"\\nThe user will purchase the next target item - {target_item_details}\"\n",
    "    \n",
    "    prompt += f\"\"\"\\nDo not use any information not mentioned above. As an expert beauty product recommender, do the following steps -\n",
    "    Predict whether the user will like the target item or not in the following format - Prediction: Yes or No\n",
    "    by analyzing the provided list of products purchased by the user in order and summarize the user behavior by identifying the characteristics he liked and disliked about the products in at most 100 words.\n",
    "    Explain with reasoning whether the user will like or dislike the next target item - \"{item_information_dict[str(target_item)]['title']}\" in atmost 100 words.\"\"\"\n",
    "    temp_dict[\"input\"] = prompt\n",
    "\n",
    "    temp_dict[\"output\"] = get_new_reasoning_text(reasoning)\n",
    "    final_valid_dict.append(temp_dict)\n",
    "    # print(final_valid_dict)\n",
    "    total_len = len(temp_dict['instruction'].split()) + len(temp_dict['input'].split()) + len(temp_dict['output'].split())\n",
    "    avg_total_len += total_len\n",
    "    max_total_len = max(max_total_len, total_len)\n",
    "    # break\n",
    "print(\"Length of final_valid_dict:\", len(final_valid_dict), final_valid_dict[0])\n",
    "print(\"Avg Length:\", avg_total_len/len(final_valid_dict))\n",
    "print(\"Max length:\", max_total_len)"
   ]
  },
  {
   "cell_type": "code",
   "execution_count": 43,
   "id": "a18fc4c7",
   "metadata": {},
   "outputs": [
    {
     "name": "stdout",
     "output_type": "stream",
     "text": [
      "573 43 616\n"
     ]
    }
   ],
   "source": [
    "yes_cnt = 0\n",
    "no_cnt = 0\n",
    "for valid_data in final_valid_dict:\n",
    "    pred = valid_data['output'].split(' ')[1]\n",
    "    # print(pred)\n",
    "    if pred == 'Yes':\n",
    "        yes_cnt += 1\n",
    "    elif pred == 'No':\n",
    "        no_cnt += 1\n",
    "    else:\n",
    "        print(pred, '--', train_data['output'])\n",
    "print(yes_cnt, no_cnt, yes_cnt + no_cnt)"
   ]
  },
  {
   "cell_type": "code",
   "execution_count": 44,
   "id": "9cb82edf",
   "metadata": {},
   "outputs": [
    {
     "name": "stdout",
     "output_type": "stream",
     "text": [
      "13\n",
      "616 603\n"
     ]
    }
   ],
   "source": [
    "cnt = 0\n",
    "cleaned_final_valid_dict = []\n",
    "for temp_dict in final_valid_dict:\n",
    "    total_len = len(temp_dict['instruction'].split()) + len(temp_dict['input'].split()) + len(temp_dict['output'].split())\n",
    "    if total_len>800:\n",
    "        cnt += 1\n",
    "        continue\n",
    "    cleaned_final_valid_dict.append(temp_dict)\n",
    "\n",
    "print(cnt)\n",
    "print(len(final_valid_dict), len(cleaned_final_valid_dict))"
   ]
  },
  {
   "cell_type": "code",
   "execution_count": 45,
   "id": "d2aed5ae",
   "metadata": {},
   "outputs": [
    {
     "name": "stdout",
     "output_type": "stream",
     "text": [
      "560 43 603\n"
     ]
    }
   ],
   "source": [
    "yes_cnt = 0\n",
    "no_cnt = 0\n",
    "for valid_data in cleaned_final_valid_dict:\n",
    "    pred = valid_data['output'].split(' ')[1]\n",
    "    # print(pred)\n",
    "    if pred == 'Yes':\n",
    "        yes_cnt += 1\n",
    "    elif pred == 'No':\n",
    "        no_cnt += 1\n",
    "    else:\n",
    "        print(pred, '--', train_data['output'])\n",
    "print(yes_cnt, no_cnt, yes_cnt + no_cnt)"
   ]
  },
  {
   "cell_type": "code",
   "execution_count": 51,
   "id": "ba238ccf",
   "metadata": {},
   "outputs": [],
   "source": [
    "final_valid_path = \"./final_data/beauty/valid.json\"\n",
    "with open(final_valid_path, 'w') as f:\n",
    "    json.dump(cleaned_final_valid_dict, f)"
   ]
  },
  {
   "cell_type": "code",
   "execution_count": 47,
   "id": "f795454c",
   "metadata": {},
   "outputs": [
    {
     "name": "stdout",
     "output_type": "stream",
     "text": [
      "User: 64 Item: 229 error index 0 is out of bounds for axis 0 with size 0\n",
      "User: 215 Item: 399 error index 0 is out of bounds for axis 0 with size 0\n",
      "User: 274 Item: 399 error index 0 is out of bounds for axis 0 with size 0\n",
      "User: 401 Item: 880 error index 0 is out of bounds for axis 0 with size 0\n",
      "User: 427 Item: 399 error index 0 is out of bounds for axis 0 with size 0\n",
      "Length of final_test_dict: 616 {'instruction': \"You are an expert beauty product recommender. Given a user's profile and list of recent liked and disliked items and their price, brand, and description, identify whether the user will like or dislike the target item by providing reasoning for the same. Please follow further instruction below. \", 'input': 'User Profile - \\n\\nThe user seems to prefer hypoallergenic fragrances and natural ingredients. They liked Fresh Eau De Parfum EDP - Fig Apricot, which is a hypoallergenic fragrance, indicating their preference for pleasant scents that don\\'t cause allergies. They also liked Monoi - Monoi Pitate Jasmine, a jasmine-scented coconut oil, suggesting a preference for natural ingredients that are beneficial for dry skin and hair. The user may not prefer overpowering or artificial scents, as indicated by their dislike for KMRN Fresh Line, which may not offer a wide range of scents and may have a non-natural jasmine scent.\\n        User purchased the following items in the given order. List of recent items and their description -\\n        Liked Fresh Eau De Parfum EDP - Fig Apricot 3.4oz (100ml) Brand: Fresh Price:  Description: \\n\\nProduct Description: KMRN Fresh Line is a hypoallergenic fragrance, praised for its pleasant scent and ability to generate compliments. However, it may not offer a wide range of scents.\\nLiked Monoi - Monoi Pitate Jasmine 4 fl oz Brand: Monoi Price:  Description: \\n\\nThe product is a jasmine-scented coconut oil, great for dry skin and hair, making them soft and non-oily. However, the jasmine scent may not be natural and not everyone may like it.\\nLiked Yardley By Yardley Of London Unisexs Lay It On Thick Hand &amp; Foot Cream 5.3 Oz Brand: Yardley Price:  Description: \\n\\nProduct: Shower Gel\\nPositive features: Lovely holiday scent, mild scrub, good quality, great smell, works well, fresh fruity scent, creamy suds.\\nNegative features: Small size, discontinued.\\n\\nConcise product description: \"Shower Gel with\\nLiked Fruits &amp; Passion Blue Refreshing Shower Gel - 6.7 fl. oz. Brand: Fruits & Passion Price:  Description: \\n\\nThe product is a Body Shop shower gel, with a strong fragrance and great quality, but may be discontinued. It is delivered quickly and gift wrapped.\\nLiked Bonne Bell Smackers Bath and Body Starburst Collection Brand: Bonne Bell Price:  Description: \\n\\nProduct Description:\\nPattern shower gel is a highly recommended product for all skin types, providing a refreshing and cooling sensation. It has a pleasant scent and is great for fine hair, but is unfortunately discontinued by Bain De Terre.\\n\\nThe user will purchase the next target item - Bath &amp; Body Works Ile De Tahiti Moana Coconut Vanille Moana Body Wash with Tamanoi 8.5 oz Brand: Bath & Body Works Price:  Description: \\n\\nThe product is a high-quality, good smelling cologne for men. It comes in various scents and is infused with pheromones. However, the scent may not last long after showering.\\n\\nThe product is a high-quality, good smelling cologne for\\nDo not use any information not mentioned above. As an expert beauty product recommender, do the following steps -\\n    Predict whether the user will like the target item or not in the following format - Prediction: Yes or No\\n    by analyzing the provided list of products purchased by the user in order and summarize the user behavior by identifying the characteristics he liked and disliked about the products in at most 100 words.\\n    Explain with reasoning whether the user will like or dislike the next target item - \"Bath &amp; Body Works Ile De Tahiti Moana Coconut Vanille Moana Body Wash with Tamanoi 8.5 oz\" in atmost 100 words.', 'output': \"Prediction: Yes \\n 1. The user profile suggests that the user prefers hypoallergenic fragrances and natural ingredients. They like products that are beneficial for dry skin and hair, such as Fresh Eau De Parfum EDP - Fig Apricot and Monoi - Monoi Pitate Jasmine. They dislike overpowering or artificial scents, as indicated by their dislike for KMRN Fresh Line. They prefer products that are of good quality, have a mild scrub, and provide a refreshing and cooling sensation. 2. The user will like the next item, Bumble and Bumble Hairdresser's Invisible Oil, 3.4 Ounce, because it is a high-quality hair oil that adds shine and softness to hair, especially beneficial for color-treated hair. Although it is pricey and lacks a cover, it is long-lasting and has a natural fragrance that is not overpowering or artificial. The user's preference for natural ingredients and good quality products suggests that they will appreciate the benefits of this hair oil, despite its high price point. Additionally, the user's preference for products that provide a refreshing and cooling sensation may be\"}\n",
      "Avg Length: 599.8555194805194\n",
      "Max length: 846\n"
     ]
    }
   ],
   "source": [
    "### For Test Data\n",
    "final_test_dict = list()\n",
    "cnt = 0\n",
    "max_total_len = 0\n",
    "avg_total_len = 0\n",
    "for user, reasoning in reasoning_test.items():\n",
    "    # print(f\"User: {user}\")\n",
    "    cnt += 1\n",
    "    user_rating_dict = ratings_df[ratings_df['user'] == int(user)]\n",
    "    # print(user_rating_dict)\n",
    "\n",
    "    temp_dict = dict()\n",
    "    if user in user_profile_summary_dict:\n",
    "        temp_dict[\"instruction\"] = \"You are an expert beauty product recommender. Given a user's profile and list of recent liked and disliked items and their price, brand, and description, identify whether the user will like or dislike the target item by providing reasoning for the same. Please follow further instruction below. \"\n",
    "        prompt = f\"\"\"User Profile - {user_profile_summary_dict[user]}\n",
    "        User purchased the following items in the given order. List of recent items and their description -\n",
    "        \"\"\"\n",
    "    else:\n",
    "        temp_dict[\"instruction\"] = \"You are an expert beauty product recommender. Given a user's list of recent liked and disliked items and their price, brand, and description, identify whether the user will like or dislike the target item by providing reasoning for the same. Please follow further instruction below. \"\n",
    "        prompt = \"User purchased the following items in the given order. List of recent items and their description -\\n\"\n",
    "    \n",
    "    item_list = user_train_dict[user]\n",
    "    # print(item_list)\n",
    "    for item in item_list[:-1]:\n",
    "        try:\n",
    "            user_item_rating = user_rating_dict[user_rating_dict['item'] == item]['rating'].values[0]\n",
    "        except Exception as e:\n",
    "            print(f\"User: {user} Item: {item} error {e}\")\n",
    "            continue\n",
    "        if user_item_rating > 3:\n",
    "            ### Liked\n",
    "            prompt += f\"Liked {get_item_description(item_information_dict[str(item)])}\\n\"\n",
    "        else:\n",
    "            prompt += f\"Disliked {get_item_description(item_information_dict[str(item)])}\\n\"\n",
    "    \n",
    "    target_item = item_list[-1]\n",
    "    if str(target_item) not in item_information_dict:\n",
    "        continue\n",
    "    target_item_details = get_item_description(item_information_dict[str(target_item)])\n",
    "    target_item_rating = user_rating_dict[user_rating_dict['item'] == target_item]['rating'].values[0]\n",
    "    prompt += f\"\\nThe user will purchase the next target item - {target_item_details}\"\n",
    "    \n",
    "    prompt += f\"\"\"\\nDo not use any information not mentioned above. As an expert beauty product recommender, do the following steps -\n",
    "    Predict whether the user will like the target item or not in the following format - Prediction: Yes or No\n",
    "    by analyzing the provided list of products purchased by the user in order and summarize the user behavior by identifying the characteristics he liked and disliked about the products in at most 100 words.\n",
    "    Explain with reasoning whether the user will like or dislike the next target item - \"{item_information_dict[str(target_item)]['title']}\" in atmost 100 words.\"\"\"\n",
    "    temp_dict[\"input\"] = prompt\n",
    "\n",
    "    temp_dict[\"output\"] = get_new_reasoning_text(reasoning)\n",
    "    final_test_dict.append(temp_dict)\n",
    "    # print(final_test_dict)\n",
    "    total_len = len(temp_dict['instruction'].split()) + len(temp_dict['input'].split()) + len(temp_dict['output'].split())\n",
    "    avg_total_len += total_len\n",
    "    max_total_len = max(max_total_len, total_len)\n",
    "    # break\n",
    "print(\"Length of final_test_dict:\", len(final_test_dict), final_test_dict[0])\n",
    "print(\"Avg Length:\", avg_total_len/len(final_test_dict))\n",
    "print(\"Max length:\", max_total_len)"
   ]
  },
  {
   "cell_type": "code",
   "execution_count": 48,
   "id": "f48ff54e",
   "metadata": {},
   "outputs": [
    {
     "name": "stdout",
     "output_type": "stream",
     "text": [
      "571 45 616\n"
     ]
    }
   ],
   "source": [
    "yes_cnt = 0\n",
    "no_cnt = 0\n",
    "for test_data in final_test_dict:\n",
    "    pred = test_data['output'].split(' ')[1]\n",
    "    # print(pred)\n",
    "    if pred == 'Yes':\n",
    "        yes_cnt += 1\n",
    "    elif pred == 'No':\n",
    "        no_cnt += 1\n",
    "    else:\n",
    "        print(pred, '--', test_data['output'])\n",
    "print(yes_cnt, no_cnt, yes_cnt + no_cnt)"
   ]
  },
  {
   "cell_type": "code",
   "execution_count": 49,
   "id": "e1f74f3a",
   "metadata": {},
   "outputs": [
    {
     "name": "stdout",
     "output_type": "stream",
     "text": [
      "12\n",
      "616 604\n"
     ]
    }
   ],
   "source": [
    "cnt = 0\n",
    "cleaned_final_test_dict = []\n",
    "for temp_dict in final_test_dict:\n",
    "    total_len = len(temp_dict['instruction'].split()) + len(temp_dict['input'].split()) + len(temp_dict['output'].split())\n",
    "    if total_len>800:\n",
    "        cnt += 1\n",
    "        continue\n",
    "    cleaned_final_test_dict.append(temp_dict)\n",
    "\n",
    "print(cnt)\n",
    "print(len(final_test_dict), len(cleaned_final_test_dict))"
   ]
  },
  {
   "cell_type": "code",
   "execution_count": 50,
   "id": "c5700a80",
   "metadata": {},
   "outputs": [
    {
     "name": "stdout",
     "output_type": "stream",
     "text": [
      "560 44 604\n"
     ]
    }
   ],
   "source": [
    "yes_cnt = 0\n",
    "no_cnt = 0\n",
    "for test_data in cleaned_final_test_dict:\n",
    "    pred = test_data['output'].split(' ')[1]\n",
    "    # print(pred)\n",
    "    if pred == 'Yes':\n",
    "        yes_cnt += 1\n",
    "    elif pred == 'No':\n",
    "        no_cnt += 1\n",
    "    else:\n",
    "        print(pred, '--', test_data['output'])\n",
    "print(yes_cnt, no_cnt, yes_cnt + no_cnt)"
   ]
  },
  {
   "cell_type": "code",
   "execution_count": 55,
   "id": "7f6c2f83",
   "metadata": {},
   "outputs": [
    {
     "name": "stdout",
     "output_type": "stream",
     "text": [
      "616\n"
     ]
    }
   ],
   "source": [
    "print(len(final_test_dict))"
   ]
  },
  {
   "cell_type": "code",
   "execution_count": 54,
   "id": "7c084f06",
   "metadata": {},
   "outputs": [
    {
     "name": "stdout",
     "output_type": "stream",
     "text": [
      "{'instruction': \"You are an expert beauty product recommender. Given a user's list of recent liked and disliked items and their price, brand, and description, identify whether the user will like or dislike the target item by providing reasoning for the same. Please follow further instruction below. \", 'input': 'User purchased the following items in the given order. List of recent items and their description -\\nLiked Yardley By Yardley Of London Unisexs Lay It On Thick Hand &amp; Foot Cream 5.3 Oz Brand: Yardley Price:  Description: \\n\\nProduct: Shower Gel\\nPositive features: Lovely holiday scent, mild scrub, good quality, great smell, works well, fresh fruity scent, creamy suds.\\nNegative features: Small size, discontinued.\\n\\nConcise product description: \"Shower Gel with\\nLiked Fruits &amp; Passion Blue Refreshing Shower Gel - 6.7 fl. oz. Brand: Fruits & Passion Price:  Description: \\n\\nThe product is a Body Shop shower gel, with a strong fragrance and great quality, but may be discontinued. It is delivered quickly and gift wrapped.\\nLiked Bonne Bell Smackers Bath and Body Starburst Collection Brand: Bonne Bell Price:  Description: \\n\\nProduct Description:\\nPattern shower gel is a highly recommended product for all skin types, providing a refreshing and cooling sensation. It has a pleasant scent and is great for fine hair, but is unfortunately discontinued by Bain De Terre.\\n\\nThe user will purchase the next target item - Bath &amp; Body Works Ile De Tahiti Moana Coconut Vanille Moana Body Wash with Tamanoi 8.5 oz Brand: Bath & Body Works Price:  Description: \\n\\nThe product is a high-quality, good smelling cologne for men. It comes in various scents and is infused with pheromones. However, the scent may not last long after showering.\\n\\nThe product is a high-quality, good smelling cologne for\\nDo not use any information not mentioned above. As an expert beauty product recommender, do the following steps -\\n    Predict whether the user will like the target item or not in the following format - Prediction: Yes or No\\n    by analyzing the provided list of products purchased by the user in order and summarize the user behavior by identifying the characteristics he liked and disliked about the products in at most 100 words.\\n    Explain with reasoning whether the user will like or dislike the next target item - \"Bath &amp; Body Works Ile De Tahiti Moana Coconut Vanille Moana Body Wash with Tamanoi 8.5 oz\" in atmost 100 words.', 'output': \"Prediction: Yes \\n 1. The user seems to prefer products with a strong, fresh, and fruity scent. They like shower gels that have a mild scrub and creamy suds. The user dislikes products that are discontinued and prefers larger sizes. They also appreciate quick delivery and gift wrapping.  2. The user will like the next item because it is a shower gel with a strong, fresh, and fruity scent, which they prefer. The product is from a reputable brand, Bath & Body Works, and is likely to have good quality. The user has previously liked products with a refreshing and cooling sensation, and this product is likely to provide that. Although the user dislikes discontinued products, there is no mention of this product being discontinued. The user also appreciates quick delivery and gift wrapping, which is not explicitly mentioned but is a feature of the brand's products. Overall, the product meets the user's preferences and is likely to provide a positive experience.\"}\n",
      "{'instruction': \"You are an expert beauty product recommender. Given a user's list of recent liked and disliked items and their price, brand, and description, identify whether the user will like or dislike the target item by providing reasoning for the same. Please follow further instruction below. \", 'input': 'User purchased the following items in the given order. List of recent items and their description -\\nLiked Yardley By Yardley Of London Unisexs Lay It On Thick Hand &amp; Foot Cream 5.3 Oz Brand: Yardley Price:  Description: \\n\\nProduct: Shower Gel\\nPositive features: Lovely holiday scent, mild scrub, good quality, great smell, works well, fresh fruity scent, creamy suds.\\nNegative features: Small size, discontinued.\\n\\nConcise product description: \"Shower Gel with\\nLiked Fruits &amp; Passion Blue Refreshing Shower Gel - 6.7 fl. oz. Brand: Fruits & Passion Price:  Description: \\n\\nThe product is a Body Shop shower gel, with a strong fragrance and great quality, but may be discontinued. It is delivered quickly and gift wrapped.\\nLiked Bonne Bell Smackers Bath and Body Starburst Collection Brand: Bonne Bell Price:  Description: \\n\\nProduct Description:\\nPattern shower gel is a highly recommended product for all skin types, providing a refreshing and cooling sensation. It has a pleasant scent and is great for fine hair, but is unfortunately discontinued by Bain De Terre.\\n\\nThe user will purchase the next target item - Bath &amp; Body Works Ile De Tahiti Moana Coconut Vanille Moana Body Wash with Tamanoi 8.5 oz Brand: Bath & Body Works Price:  Description: \\n\\nThe product is a high-quality, good smelling cologne for men. It comes in various scents and is infused with pheromones. However, the scent may not last long after showering.\\n\\nThe product is a high-quality, good smelling cologne for\\nDo not use any information not mentioned above. As an expert beauty product recommender, do the following steps -\\n    Predict whether the user will like the target item or not in the following format - Prediction: Yes or No\\n    by analyzing the provided list of products purchased by the user in order and summarize the user behavior by identifying the characteristics he liked and disliked about the products in at most 100 words.\\n    Explain with reasoning whether the user will like or dislike the next target item - \"Bath &amp; Body Works Ile De Tahiti Moana Coconut Vanille Moana Body Wash with Tamanoi 8.5 oz\" in atmost 100 words.', 'output': 'Prediction: Yes \\n Answer:  1. The user profile indicates a preference for beauty products with refreshing and cooling sensations, pleasant scents, and high-quality ingredients. The user tends to dislike products that are discontinued and may prefer products that come in larger sizes. The user also seems to appreciate quick delivery and gift wrapping services.  2. The user will like the next item because it is a high-quality, good smelling body wash that comes in a pleasant scent. The user has previously shown a preference for products with refreshing and cooling sensations, and this product is likely to provide that. Additionally, the product is from a reputable brand, Bath & Body Works, which the user has previously purchased and liked. Although the product is marketed towards men, the user has shown a willingness to use products from various brands and genders, as long as they meet their desired criteria. Therefore, the user is likely to enjoy this product and find it to be a good addition to their beauty routine.'}\n",
      "{'instruction': \"You are an expert beauty product recommender. Given a user's list of recent liked and disliked items and their price, brand, and description, identify whether the user will like or dislike the target item by providing reasoning for the same. Please follow further instruction below. \", 'input': 'User purchased the following items in the given order. List of recent items and their description -\\nLiked Yardley By Yardley Of London Unisexs Lay It On Thick Hand &amp; Foot Cream 5.3 Oz Brand: Yardley Price:  Description: \\n\\nProduct: Shower Gel\\nPositive features: Lovely holiday scent, mild scrub, good quality, great smell, works well, fresh fruity scent, creamy suds.\\nNegative features: Small size, discontinued.\\n\\nConcise product description: \"Shower Gel with\\nLiked Fruits &amp; Passion Blue Refreshing Shower Gel - 6.7 fl. oz. Brand: Fruits & Passion Price:  Description: \\n\\nThe product is a Body Shop shower gel, with a strong fragrance and great quality, but may be discontinued. It is delivered quickly and gift wrapped.\\nLiked Bonne Bell Smackers Bath and Body Starburst Collection Brand: Bonne Bell Price:  Description: \\n\\nProduct Description:\\nPattern shower gel is a highly recommended product for all skin types, providing a refreshing and cooling sensation. It has a pleasant scent and is great for fine hair, but is unfortunately discontinued by Bain De Terre.\\n\\nThe user will purchase the next target item - Bath &amp; Body Works Ile De Tahiti Moana Coconut Vanille Moana Body Wash with Tamanoi 8.5 oz Brand: Bath & Body Works Price:  Description: \\n\\nThe product is a high-quality, good smelling cologne for men. It comes in various scents and is infused with pheromones. However, the scent may not last long after showering.\\n\\nThe product is a high-quality, good smelling cologne for\\nDo not use any information not mentioned above. As an expert beauty product recommender, do the following steps -\\n    Predict whether the user will like the target item or not in the following format - Prediction: Yes or No\\n    by analyzing the provided list of products purchased by the user in order and summarize the user behavior by identifying the characteristics he liked and disliked about the products in at most 100 words.\\n    Explain with reasoning whether the user will like or dislike the next target item - \"Bath &amp; Body Works Ile De Tahiti Moana Coconut Vanille Moana Body Wash with Tamanoi 8.5 oz\" in atmost 100 words.', 'output': \"Prediction: Yes \\n 1. The user profile shows that the user likes products with a strong fragrance, good quality, and refreshing or cooling sensation. The user dislikes products that are discontinued and has a preference for larger sizes. 2. The user will like the next item, EO Shower Gel Grapefruit & Mint 32 oz, because it is a soap with a great scent, which is a positive feature for the user. It is also suitable for sensitive skin, which is a characteristic that the user has not explicitly liked or disliked but is a positive feature. The product is free of sulfates, which is a positive feature for users who prefer natural products. The size of the product is 32 oz, which is larger than the sizes of the products that the user has previously purchased and liked, and it is not discontinued, which is a positive feature for the user. Therefore, based on the user's past behavior and preferences, it is likely that the user will like the next item.\"}\n"
     ]
    }
   ],
   "source": [
    "user = 121\n",
    "print(final_train_dict[user])\n",
    "print(final_valid_dict[user])\n",
    "print(final_test_dict[user])"
   ]
  },
  {
   "cell_type": "code",
   "execution_count": 53,
   "id": "300f72af",
   "metadata": {},
   "outputs": [],
   "source": [
    "final_test_path = \"./final_data/beauty/test.json\"\n",
    "with open(final_test_path, 'w') as f:\n",
    "    json.dump(cleaned_final_test_dict, f)"
   ]
  },
  {
   "cell_type": "code",
   "execution_count": null,
   "id": "dcdd0037",
   "metadata": {},
   "outputs": [],
   "source": []
  }
 ],
 "metadata": {
  "kernelspec": {
   "display_name": "mixtral",
   "language": "python",
   "name": "python3"
  },
  "language_info": {
   "codemirror_mode": {
    "name": "ipython",
    "version": 3
   },
   "file_extension": ".py",
   "mimetype": "text/x-python",
   "name": "python",
   "nbconvert_exporter": "python",
   "pygments_lexer": "ipython3",
   "version": "3.9.18"
  }
 },
 "nbformat": 4,
 "nbformat_minor": 5
}
