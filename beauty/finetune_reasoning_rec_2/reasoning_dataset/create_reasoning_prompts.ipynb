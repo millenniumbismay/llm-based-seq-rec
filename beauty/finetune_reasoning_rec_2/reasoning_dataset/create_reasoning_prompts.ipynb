{
 "cells": [
  {
   "cell_type": "code",
   "execution_count": 1,
   "id": "1afd5484-961f-4997-9178-6c0f2e46e085",
   "metadata": {},
   "outputs": [],
   "source": [
    "import pickle\n",
    "import pandas as pd\n",
    "import numpy as np\n",
    "import os\n",
    "import time\n",
    "import json\n",
    "from dotenv import load_dotenv"
   ]
  },
  {
   "cell_type": "code",
   "execution_count": 2,
   "id": "95487d68-9053-49c4-8381-5aa26e09035f",
   "metadata": {},
   "outputs": [],
   "source": [
    "from openai import OpenAI\n",
    "load_dotenv()\n",
    "client = OpenAI(\n",
    "    # This is the default and can be omitted\n",
    "    api_key=os.environ.get(\"OPENAI_API_KEY\"),\n",
    ")"
   ]
  },
  {
   "cell_type": "code",
   "execution_count": 3,
   "id": "f804c243-3647-4d2c-a97e-3383a22b3035",
   "metadata": {},
   "outputs": [],
   "source": [
    "user_train_path = '/home/grads/m/mbismay/llm-based-seq-rec/beauty/beauty_data/processed_data/user_train.json'\n",
    "user_valid_path = '/home/grads/m/mbismay/llm-based-seq-rec/beauty/beauty_data/processed_data/user_valid.json'\n",
    "user_test_path = '/home/grads/m/mbismay/llm-based-seq-rec/beauty/beauty_data/processed_data/user_test.json'"
   ]
  },
  {
   "cell_type": "code",
   "execution_count": 4,
   "id": "ec86d569-b862-4999-bba3-78b44ccfe0c3",
   "metadata": {},
   "outputs": [],
   "source": [
    "with open(user_train_path, 'rb') as f:\n",
    "    user_train_dict = json.load(f)\n",
    "with open(user_valid_path, 'rb') as f:\n",
    "    user_valid_dict = json.load(f)\n",
    "with open(user_test_path, 'rb') as f:\n",
    "    user_test_dict = json.load(f)"
   ]
  },
  {
   "cell_type": "code",
   "execution_count": 5,
   "id": "ee17dbc5-601c-48c8-8e44-c2d1838740d0",
   "metadata": {},
   "outputs": [
    {
     "name": "stdout",
     "output_type": "stream",
     "text": [
      "[7, 8, 9, 9, 10]\n",
      "[7, 8, 9, 9, 10, 11]\n",
      "[8, 9, 9, 10, 11, 12]\n"
     ]
    }
   ],
   "source": [
    "user_id = '1'\n",
    "print(user_train_dict[user_id])\n",
    "print(user_valid_dict[user_id])\n",
    "print(user_test_dict[user_id])"
   ]
  },
  {
   "cell_type": "code",
   "execution_count": 6,
   "id": "859eac23-3551-4a84-a025-b9de11ef5eec",
   "metadata": {},
   "outputs": [
    {
     "name": "stdout",
     "output_type": "stream",
     "text": [
      "1216\n"
     ]
    }
   ],
   "source": [
    "item_information_path = '/home/grads/m/mbismay/llm-based-seq-rec/beauty/beauty_data/processed_data/processed_item_information.json'\n",
    "with open(item_information_path, 'r') as f:\n",
    "    item_information_dict = json.load(f)\n",
    "print(len(item_information_dict))"
   ]
  },
  {
   "cell_type": "code",
   "execution_count": 7,
   "id": "84a42d22-43f2-4378-8266-f0862eb9e08c",
   "metadata": {},
   "outputs": [
    {
     "data": {
      "text/html": [
       "<div>\n",
       "<style scoped>\n",
       "    .dataframe tbody tr th:only-of-type {\n",
       "        vertical-align: middle;\n",
       "    }\n",
       "\n",
       "    .dataframe tbody tr th {\n",
       "        vertical-align: top;\n",
       "    }\n",
       "\n",
       "    .dataframe thead th {\n",
       "        text-align: right;\n",
       "    }\n",
       "</style>\n",
       "<table border=\"1\" class=\"dataframe\">\n",
       "  <thead>\n",
       "    <tr style=\"text-align: right;\">\n",
       "      <th></th>\n",
       "      <th>item</th>\n",
       "      <th>user</th>\n",
       "      <th>rating</th>\n",
       "      <th>timestamp</th>\n",
       "    </tr>\n",
       "  </thead>\n",
       "  <tbody>\n",
       "    <tr>\n",
       "      <th>0</th>\n",
       "      <td>0</td>\n",
       "      <td>0</td>\n",
       "      <td>4.0</td>\n",
       "      <td>1155081600</td>\n",
       "    </tr>\n",
       "    <tr>\n",
       "      <th>1</th>\n",
       "      <td>1</td>\n",
       "      <td>0</td>\n",
       "      <td>5.0</td>\n",
       "      <td>1268697600</td>\n",
       "    </tr>\n",
       "    <tr>\n",
       "      <th>2</th>\n",
       "      <td>2</td>\n",
       "      <td>0</td>\n",
       "      <td>5.0</td>\n",
       "      <td>1404604800</td>\n",
       "    </tr>\n",
       "    <tr>\n",
       "      <th>3</th>\n",
       "      <td>3</td>\n",
       "      <td>0</td>\n",
       "      <td>5.0</td>\n",
       "      <td>1404604800</td>\n",
       "    </tr>\n",
       "    <tr>\n",
       "      <th>4</th>\n",
       "      <td>4</td>\n",
       "      <td>0</td>\n",
       "      <td>5.0</td>\n",
       "      <td>1404604800</td>\n",
       "    </tr>\n",
       "  </tbody>\n",
       "</table>\n",
       "</div>"
      ],
      "text/plain": [
       "   item  user  rating   timestamp\n",
       "0     0     0     4.0  1155081600\n",
       "1     1     0     5.0  1268697600\n",
       "2     2     0     5.0  1404604800\n",
       "3     3     0     5.0  1404604800\n",
       "4     4     0     5.0  1404604800"
      ]
     },
     "execution_count": 7,
     "metadata": {},
     "output_type": "execute_result"
    }
   ],
   "source": [
    "ratings_path = '../../beauty_data/processed_data/ratings.csv'\n",
    "ratings_df = pd.read_csv(ratings_path)\n",
    "ratings_df.head()"
   ]
  },
  {
   "cell_type": "code",
   "execution_count": 8,
   "id": "551e7e30",
   "metadata": {},
   "outputs": [
    {
     "name": "stdout",
     "output_type": "stream",
     "text": [
      "160 \n",
      "\n",
      "The user dislikes products that do not meet expectations, as seen with the 100% Cotton Premium Salon Towels. Despite being soft and thick, the towels unraveled after the first wash, which was disappointing for the user. The user seems to value durability and quality in their purchases.\n"
     ]
    }
   ],
   "source": [
    "user_profile_summary_path = '../../beauty_data/processed_data/user_profile_summary.json'\n",
    "with open(user_profile_summary_path, 'r') as f:\n",
    "    user_profile_summary_dict = json.load(f)\n",
    "print(len(user_profile_summary_dict), user_profile_summary_dict['1'])"
   ]
  },
  {
   "cell_type": "code",
   "execution_count": 9,
   "id": "4ec683ad-0276-4bbe-9ede-75f00dd72826",
   "metadata": {},
   "outputs": [],
   "source": [
    "def get_item_description(item_information):\n",
    "    item_details = \"\"\n",
    "    if 'title' in item_information:\n",
    "        item_details += item_information['title']\n",
    "    if 'brand' in item_information:\n",
    "        item_details += f\" Brand: {item_information['brand']}\"\n",
    "    if 'price' in item_information:\n",
    "        item_details += f\" Price: {item_information['price']}\"\n",
    "    if 'description' in item_information:\n",
    "        item_details += f\" Description: {item_information['description']}\"\n",
    "    return item_details"
   ]
  },
  {
   "cell_type": "code",
   "execution_count": 10,
   "id": "58121d83-5664-4f41-888b-9f3d3368c8b4",
   "metadata": {},
   "outputs": [
    {
     "name": "stdout",
     "output_type": "stream",
     "text": [
      "User: 64 Item: 229 error index 0 is out of bounds for axis 0 with size 0\n",
      "User: 215 Item: 399 error index 0 is out of bounds for axis 0 with size 0\n",
      "User: 274 Item: 399 error index 0 is out of bounds for axis 0 with size 0\n",
      "User: 401 Item: 880 error index 0 is out of bounds for axis 0 with size 0\n",
      "User: 427 Item: 399 error index 0 is out of bounds for axis 0 with size 0\n",
      "624\n"
     ]
    }
   ],
   "source": [
    "### Train Data Reaosning\n",
    "train_reasoning_prompts = dict()\n",
    "check_missed_items = []\n",
    "for user, item_list in user_train_dict.items():\n",
    "    # print(user, item_list)\n",
    "    user_rating_dict = ratings_df[ratings_df['user'] == int(user)]\n",
    "    # print(user_rating_dict)\n",
    "    if user in user_profile_summary_dict:\n",
    "        prompt = f\"\"\"You are an expert beauty product recommender. You are provided with a user's profile and list of recent products and their descriptions that the user purchases and whether the user liked it or disliked it.\n",
    "        User Profile - {user_profile_summary_dict[user]}\n",
    "        User purchased the following items in the given order. List of recent items and their description -\n",
    "        \"\"\"\n",
    "    else:\n",
    "        prompt = \"\"\"You are an expert beauty product recommender. You are provided with user's list of recent products and their descriptions that the user purchases and whether the user liked it or disliked it.\n",
    "        User purchased the following items in the given order. List of recent items and their description -\n",
    "        \"\"\"\n",
    "    for item in item_list[:-1]:\n",
    "        try:\n",
    "            user_item_rating = user_rating_dict[user_rating_dict['item'] == item]['rating'].values[0]\n",
    "        except Exception as e:\n",
    "            print(f\"User: {user} Item: {item} error {e}\")\n",
    "            continue\n",
    "        if user_item_rating > 3:\n",
    "            ### Liked\n",
    "            prompt += f\"Liked {get_item_description(item_information_dict[str(item)])}\\n\"\n",
    "        else:\n",
    "            prompt += f\"Disliked {get_item_description(item_information_dict[str(item)])}\\n\"\n",
    "    target_item = item_list[-1]\n",
    "    if str(target_item) not in item_information_dict:\n",
    "        continue\n",
    "    target_item_details = get_item_description(item_information_dict[str(target_item)])\n",
    "    target_item_rating = user_rating_dict[user_rating_dict['item'] == target_item]['rating'].values[0]\n",
    "    # print(f\"target_item_details: {target_item_details} - {target_item_rating}\")\n",
    "\n",
    "    if target_item_rating > 3:\n",
    "        prompt += f\"\"\"Now, we know that the user will LIKE the next item - {item_information_dict[str(target_item)]['title']}\n",
    "        As an expert beauty product recommender, do the following steps -\n",
    "        1. Analyze the user profile, list of products purchased by the user in order and summarize the user behavior by identifying the characteristics he liked and disliked about the products in at most 100 words.\n",
    "        2. Explain with reasoning why the user will LIKE the next item - \"{target_item_details}\", in atmost 100 words.\"\"\"\n",
    "        recommendation = \"\\nPrediction: Yes\"\n",
    "    else:\n",
    "        prompt += f\"\"\"Now, we know that the user will DISLIKE the next purchased item - {item_information_dict[str(target_item)]['title']}\n",
    "        As an expert beauty product recommender, do the following steps -\n",
    "        1. Analyze the user profile, list of products purchased by the user in order and summarize the user behavior by identifying the characteristics he liked and disliked about the products in at most 100 words.\n",
    "        2. Explain with reasoning why the user will DISLIKE the next purchased item - \"{target_item_details}\", in atmost 100 words.\"\"\"\n",
    "        recommendation = \"\\nPrediction: No\"\n",
    "    # print(f\"Prompt: {prompt}\")\n",
    "    train_reasoning_prompts[user] = [prompt, recommendation]\n",
    "    # break\n",
    "print(len(train_reasoning_prompts))"
   ]
  },
  {
   "cell_type": "code",
   "execution_count": 11,
   "id": "da09db09-405e-4356-83c2-588f5e888034",
   "metadata": {},
   "outputs": [
    {
     "name": "stdout",
     "output_type": "stream",
     "text": [
      "432.40384615384613\n"
     ]
    }
   ],
   "source": [
    "total_len = 0\n",
    "all_prompt_lens = []\n",
    "for user, prompt in train_reasoning_prompts.items():\n",
    "    all_prompt_lens.append(len(prompt[0].strip().split(' ')))\n",
    "    total_len += len(prompt[0].strip().split(' '))\n",
    "print(total_len/len(train_reasoning_prompts))"
   ]
  },
  {
   "cell_type": "code",
   "execution_count": 12,
   "id": "cf00b869-7dda-407d-a280-35dd4619ebdd",
   "metadata": {
    "scrolled": true
   },
   "outputs": [
    {
     "data": {
      "text/plain": [
       "(array([  1.,   0.,   0.,   0.,   0.,   0.,   0.,   2.,   0.,   0.,   0.,\n",
       "          1.,   0.,   0.,   0.,   0.,   0.,   0.,   0.,   0.,   0.,   0.,\n",
       "          0.,   1.,   0.,   0.,   0.,   0.,   0.,   0.,   1.,   0.,   0.,\n",
       "          0.,   0.,   0.,   0.,   0.,   0.,   0.,   1.,   0.,   0.,   0.,\n",
       "          0.,   2.,   0.,   1.,   0.,   0.,   0.,   0.,   1.,   0.,   0.,\n",
       "          0.,   0.,   0.,   0.,   0.,   0.,   1.,   0.,   0.,   1.,   0.,\n",
       "          2.,   0.,   0.,   1.,   0.,   0.,   0.,   0.,   0.,   0.,   0.,\n",
       "          0.,   0.,   0.,   1.,   0.,   0.,   1.,   0.,   2.,   0.,   0.,\n",
       "          1.,   0.,   2.,   0.,   2.,   0.,   0.,   0.,   0.,   2.,   0.,\n",
       "          0.,   1.,   0.,   2.,   0.,   1.,   0.,   0.,   0.,   0.,   1.,\n",
       "          0.,   0.,   0.,   0.,   1.,   0.,   2.,   0.,   0.,   1.,   0.,\n",
       "          0.,   0.,   1.,   0.,   0.,   0.,   0.,   0.,   0.,   2.,   0.,\n",
       "          0.,   2.,   0.,   1.,   0.,   0.,   0.,   0.,   3.,   0.,   1.,\n",
       "          0.,   0.,   2.,   0.,   5.,   0.,   0.,   1.,   0.,   4.,   0.,\n",
       "          2.,   0.,   0.,   1.,   0.,   0.,   0.,   2.,   0.,   0.,   2.,\n",
       "          0.,   1.,   0.,   0.,   0.,   0.,   1.,   0.,   4.,   0.,   0.,\n",
       "          2.,   0.,   3.,   0.,   2.,   0.,   0.,   4.,   0.,   0.,   0.,\n",
       "          0.,   5.,   0.,   2.,   0., 101.,   0.,   0.,   4.,   0.,   1.,\n",
       "          0.,   0.,   3.,   0.,   0.,   0.,   2.,   0.,   0.,   0.,   0.,\n",
       "          1.,   0.,   0.,   0.,   0.,   1.,   0.,  18.,   0.,   0.,   4.,\n",
       "          0.,   2.,   0.,   1.,   0.,   0., 197.,   0.,   4.,   0.,   4.,\n",
       "          0.,   0.,   2.,   0.,   0.,   0.,   0.,   0.,   0.,   1.,   0.,\n",
       "          0.,   0.,   0.,   0.,   0.,   1.,   0.,   0.,   5.,   0.,   0.,\n",
       "          0.,   0.,   0.,   0.,   1.,   0.,   0.,   0.,   0.,   0.,   0.,\n",
       "          1.,   0.,   0.,   0.,   0.,   0.,   0.,   0.,   0.,   1.,   0.,\n",
       "          0.,   1.,   0.,   2.,   0.,   0.,   0.,   0.,   0.,   0.,   1.,\n",
       "          0.,   0.,   0.,   0.,   0.,   0.,   0.,   0.,   0.,   1.,   0.,\n",
       "          0.,   0.,   0.,   0.,   0.,   1.,   0.,   1.,   0.,   0.,   0.,\n",
       "          0.,   2.,   0.,   0.,   0.,   0.,   1.,   0.,   0.,   0.,   0.,\n",
       "          0.,   0.,   0.,   0.,   0.,   0.,   0.,   1.,   0.,   1.,   0.,\n",
       "          1.,   0.,   0.,   1.,   0.,   0.,   0.,   0.,   0.,   0.,   2.,\n",
       "          0.,   1.,   0.,   0.,   0.,   0.,   0.,   0.,   0.,   0.,   0.,\n",
       "          0.,   0.,   0.,   0.,   0.,   0.,   0.,   1.,   0.,   1.,   0.,\n",
       "          0.,   0.,   0.,   0.,   0.,   0.,   1.,   0.,   0.,   0.,   1.,\n",
       "          0.,   0.,   1.,   0.,   0.,   0.,   2.,   0.,   0.,   1.,   0.,\n",
       "          1.,   0.,   0.,   0.,   0.,   0.,   0.,   1.,   0.,   0.,   0.,\n",
       "          0.,   0.,   0.,   0.,   0.,   0.,   0.,   0.,   1.,   0.,   0.,\n",
       "          0.,   0.,   0.,   0.,   0.,   0.,   0.,   0.,   0.,   0.,   0.,\n",
       "          0.,   0.,   0.,   0.,   0.,   1.,   0.,   0.,   1.,   0.,   0.,\n",
       "          0.,   0.,   0.,   0.,   0.,   0.,   1.,   0.,   0.,   0.,   0.,\n",
       "          0.,   0.,   0.,   0.,   0.,   0.,   0.,   1.,   0.,   0.,   0.,\n",
       "          0.,   1.,   0.,   0.,   0.,   0.,   0.,   0.,   0.,   0.,   0.,\n",
       "          0.,   0.,   0.,   0.,   1.,   0.,   0.,   0.,   0.,   2.,   0.,\n",
       "          0.,   0.,   0.,   0.,   0.,   1.,   0.,   5.,   0.,   0.,   0.,\n",
       "          0.,   2.,   0.,   0.,   0.,   0.,   2.,   0.,   1.,   0.,   0.,\n",
       "          1.,   0.,   2.,   0.,   0.,   1.,   0.,   0.,   0.,   1.,   0.,\n",
       "          0.,   2.,   0.,   1.,   0.,   1.,   0.,   0.,   1.,   0.,   1.,\n",
       "          0.,   0.,   0.,   0.,   0.,   0.,   0.,   0.,   0.,   1.,   0.,\n",
       "          0.,   0.,   0.,   0.,   0.,   1.,   0.,   0.,   0.,   0.,   0.,\n",
       "          0.,   1.,   0.,   0.,   0.,   0.,   2.,   0.,   2.,   0.,   0.,\n",
       "          4.,   0.,   1.,   0.,   0.,   0.,   0.,   1.,   0.,   0.,   0.,\n",
       "          2.,   0.,   0.,   3.,   0.,   0.,   0.,   0.,   0.,   0.,   1.,\n",
       "          0.,   0.,   0.,   0.,   5.,   0.,   3.,   0.,   1.,   0.,   0.,\n",
       "          0.,   0.,   5.,   0.,   0.,   1.,   0.,   1.,   0.,   0.,   0.,\n",
       "          0.,   2.,   0.,   0.,   0.,   0.,   1.,   0.,   1.,   0.,   0.,\n",
       "          0.,   0.,   6.,   0.,   2.,   0.,   0.,   0.,   0.,   1.,   0.,\n",
       "          0.,   0.,   0.,   0.,   0.,   0.,   0.,   3.,   0.,   0.,   1.,\n",
       "          0.,   1.,   0.,   1.,   0.,   0.,   0.,   0.,   0.,   0.,   0.,\n",
       "          1.,   0.,   0.,   0.,   1.,   0.,   0.,   0.,   0.,   2.,   0.,\n",
       "          0.,   4.,   0.,   0.,   0.,   1.,   0.,   0.,   3.,   0.,   0.,\n",
       "          0.,   1.,   0.,   0.,   2.,   0.,   1.,   0.,   0.,   1.,   0.,\n",
       "          3.,   0.,   3.,   0.,   0.,   0.,   0.,   1.,   0.,   0.,   0.,\n",
       "          0.,   0.,   0.,   4.,   0.,   0.,   0.,   0.,   3.,   0.,   1.,\n",
       "          0.,   0.,   1.,   0.,   2.,   0.,   0.,   0.,   0.,   1.,   0.,\n",
       "          1.,   0.,   0.,   2.,   0.,   0.,   0.,   1.,   0.,   0.,   0.,\n",
       "          0.,   1.,   0.,   0.,   1.,   0.,   0.,   0.,   1.,   0.,   0.,\n",
       "          1.,   0.,   0.,   0.,   0.,   0.,   0.,   1.,   0.,   0.,   0.,\n",
       "          0.,   2.,   0.,   0.,   0.,   0.,   0.,   0.,   0.,   0.,   3.,\n",
       "          0.,   0.,   2.,   0.,   0.,   0.,   2.,   0.,   0.,   0.,   0.,\n",
       "          1.,   0.,   1.,   0.,   0.,   0.,   0.,   0.,   0.,   0.,   0.,\n",
       "          0.,   1.,   0.,   0.,   0.,   0.,   0.,   0.,   1.,   0.,   0.,\n",
       "          0.,   0.,   1.,   0.,   0.,   0.,   0.,   0.,   0.,   0.,   0.,\n",
       "          1.,   0.,   0.,   1.,   0.,   0.,   0.,   0.,   0.,   0.,   0.,\n",
       "          0.,   0.,   0.,   0.,   0.,   0.,   0.,   0.,   0.,   0.,   0.,\n",
       "          0.,   0.,   0.,   0.,   0.,   2.,   0.,   0.,   0.,   0.,   0.,\n",
       "          0.,   0.,   0.,   0.,   0.,   0.,   0.,   0.,   0.,   0.,   0.,\n",
       "          0.,   0.,   0.,   0.,   0.,   0.,   0.,   0.,   0.,   0.,   0.,\n",
       "          0.,   0.,   0.,   0.,   0.,   1.,   0.,   0.,   0.,   0.,   0.,\n",
       "          0.,   0.,   0.,   1.,   0.,   0.,   0.,   0.,   0.,   0.,   0.,\n",
       "          0.,   0.,   0.,   0.,   0.,   0.,   0.,   0.,   0.,   0.,   0.,\n",
       "          0.,   0.,   0.,   0.,   0.,   0.,   0.,   0.,   0.,   0.,   0.,\n",
       "          0.,   0.,   0.,   0.,   0.,   0.,   0.,   0.,   0.,   1.,   0.,\n",
       "          0.,   0.,   0.,   0.,   0.,   0.,   0.,   0.,   0.,   0.,   0.,\n",
       "          0.,   0.,   0.,   0.,   0.,   0.,   0.,   0.,   0.,   0.,   0.,\n",
       "          0.,   0.,   0.,   0.,   0.,   0.,   0.,   0.,   0.,   1.,   0.,\n",
       "          0.,   0.,   0.,   0.,   0.,   0.,   0.,   0.,   0.,   0.,   0.,\n",
       "          0.,   0.,   0.,   0.,   0.,   0.,   0.,   0.,   0.,   0.,   0.,\n",
       "          0.,   0.,   0.,   0.,   0.,   0.,   0.,   0.,   0.,   0.,   0.,\n",
       "          0.,   0.,   0.,   0.,   0.,   0.,   0.,   0.,   0.,   0.,   0.,\n",
       "          0.,   0.,   0.,   0.,   0.,   0.,   0.,   0.,   0.,   0.,   0.,\n",
       "          0.,   0.,   0.,   0.,   0.,   0.,   0.,   0.,   0.,   1.]),\n",
       " array([303.  , 303.42, 303.84, ..., 722.16, 722.58, 723.  ]),\n",
       " <BarContainer object of 1000 artists>)"
      ]
     },
     "execution_count": 12,
     "metadata": {},
     "output_type": "execute_result"
    },
    {
     "data": {
      "image/png": "[encoded data removed]",
      "text/plain": [
       "<Figure size 640x480 with 1 Axes>"
      ]
     },
     "metadata": {},
     "output_type": "display_data"
    }
   ],
   "source": [
    "import matplotlib.pyplot as plt\n",
    "\n",
    "plt.hist(all_prompt_lens, bins=1000, edgecolor='black')"
   ]
  },
  {
   "cell_type": "code",
   "execution_count": 13,
   "id": "85c554f8-7b12-4901-b93b-70713337c9da",
   "metadata": {},
   "outputs": [
    {
     "name": "stdout",
     "output_type": "stream",
     "text": [
      "User: 64 Item: 229 error index 0 is out of bounds for axis 0 with size 0\n",
      "User: 215 Item: 399 error index 0 is out of bounds for axis 0 with size 0\n",
      "User: 401 Item: 880 error index 0 is out of bounds for axis 0 with size 0\n",
      "User: 427 Item: 399 error index 0 is out of bounds for axis 0 with size 0\n",
      "624\n"
     ]
    }
   ],
   "source": [
    "### Valid Data Reaosning\n",
    "valid_reasoning_prompts = dict()\n",
    "check_missed_items = []\n",
    "for user, item_list in user_valid_dict.items():\n",
    "    # print(user, item_list)\n",
    "    user_rating_dict = ratings_df[ratings_df['user'] == int(user)]\n",
    "    # print(user_rating_dict)\n",
    "    if user in user_profile_summary_dict:\n",
    "        prompt = f\"\"\"You are an expert beauty product recommender. You are provided with a user's profile and list of recent products and their descriptions that the user purchases and whether the user liked it or disliked it.\n",
    "        User Profile - {user_profile_summary_dict[user]}\n",
    "        User purchased the following items in the given order. List of recent items and their description -\n",
    "        \"\"\"\n",
    "    else:\n",
    "        prompt = \"\"\"You are an expert beauty product recommender. You are provided with user's list of recent products and their descriptions that the user purchases and whether the user liked it or disliked it.\n",
    "        User purchased the following items in the given order. List of recent items and their description -\n",
    "        \"\"\"\n",
    "    for item in item_list[:-1]:\n",
    "        try:\n",
    "            user_item_rating = user_rating_dict[user_rating_dict['item'] == item]['rating'].values[0]\n",
    "        except Exception as e:\n",
    "            print(f\"User: {user} Item: {item} error {e}\")\n",
    "            continue\n",
    "        if user_item_rating > 3:\n",
    "            ### Liked\n",
    "            prompt += f\"Liked {get_item_description(item_information_dict[str(item)])}\\n\"\n",
    "        else:\n",
    "            prompt += f\"Disliked {get_item_description(item_information_dict[str(item)])}\\n\"\n",
    "    target_item = item_list[-1]\n",
    "    if str(target_item) not in item_information_dict:\n",
    "        continue\n",
    "    target_item_details = get_item_description(item_information_dict[str(target_item)])\n",
    "    target_item_rating = user_rating_dict[user_rating_dict['item'] == target_item]['rating'].values[0]\n",
    "    # print(f\"target_item_details: {target_item_details} - {target_item_rating}\")\n",
    "\n",
    "    if target_item_rating > 3:\n",
    "        prompt += f\"\"\"Now, we know that the user will LIKE the next item - {item_information_dict[str(target_item)]['title']}\n",
    "        As an expert beauty product recommender, do the following steps -\n",
    "        1. Analyze the user profile, list of products purchased by the user in order and summarize the user behavior by identifying the characteristics he liked and disliked about the products in at most 100 words.\n",
    "        2. Explain with reasoning why the user will LIKE the next item - \"{target_item_details}\", in atmost 100 words.\"\"\"\n",
    "        recommendation = \"\\nPrediction: Yes\"\n",
    "    else:\n",
    "        prompt += f\"\"\"Now, we know that the user will DISLIKE the next purchased item - {item_information_dict[str(target_item)]['title']}\n",
    "        As an expert beauty product recommender, do the following steps -\n",
    "        1. Analyze the user profile, list of products purchased by the user in order and summarize the user behavior by identifying the characteristics he liked and disliked about the products in at most 100 words.\n",
    "        2. Explain with reasoning why the user will DISLIKE the next purchased item - \"{target_item_details}\", in atmost 100 words.\"\"\"\n",
    "        recommendation = \"\\nPrediction: No\"\n",
    "    # print(f\"Prompt: {prompt}\")\n",
    "    valid_reasoning_prompts[user] = [prompt, recommendation]\n",
    "    # break\n",
    "print(len(valid_reasoning_prompts))"
   ]
  },
  {
   "cell_type": "code",
   "execution_count": 14,
   "id": "d80811b3-83cd-427c-b3f1-1c94fb165d5c",
   "metadata": {},
   "outputs": [
    {
     "name": "stdout",
     "output_type": "stream",
     "text": [
      "478.09134615384613\n"
     ]
    }
   ],
   "source": [
    "total_len = 0\n",
    "all_prompt_lens = []\n",
    "for user, prompt in valid_reasoning_prompts.items():\n",
    "    all_prompt_lens.append(len(prompt[0].strip().split(' ')))\n",
    "    total_len += len(prompt[0].strip().split(' '))\n",
    "print(total_len/len(valid_reasoning_prompts))"
   ]
  },
  {
   "cell_type": "code",
   "execution_count": 15,
   "id": "5d35e073-3561-456a-bf63-e4ac24258fda",
   "metadata": {
    "scrolled": true
   },
   "outputs": [
    {
     "data": {
      "text/plain": [
       "(array([  1.,   0.,   0.,   0.,   0.,   0.,   0.,   0.,   0.,   0.,   0.,\n",
       "          0.,   0.,   0.,   0.,   0.,   0.,   0.,   0.,   0.,   0.,   0.,\n",
       "          0.,   0.,   0.,   0.,   0.,   0.,   0.,   0.,   0.,   0.,   0.,\n",
       "          0.,   0.,   0.,   0.,   0.,   0.,   0.,   0.,   0.,   0.,   0.,\n",
       "          0.,   0.,   0.,   0.,   0.,   0.,   0.,   0.,   1.,   0.,   0.,\n",
       "          0.,   0.,   0.,   0.,   0.,   0.,   0.,   0.,   0.,   0.,   0.,\n",
       "          0.,   0.,   0.,   0.,   0.,   0.,   0.,   0.,   0.,   0.,   0.,\n",
       "          0.,   0.,   0.,   1.,   0.,   0.,   0.,   0.,   2.,   0.,   0.,\n",
       "          0.,   0.,   0.,   0.,   0.,   0.,   1.,   0.,   0.,   2.,   0.,\n",
       "          0.,   0.,   0.,   0.,   0.,   0.,   0.,   1.,   0.,   0.,   0.,\n",
       "          0.,   1.,   0.,   1.,   0.,   0.,   0.,   0.,   1.,   0.,   1.,\n",
       "          0.,   0.,   0.,   0.,   3.,   0.,   1.,   0.,   0.,   0.,   0.,\n",
       "          0.,   0.,   0.,   0.,   0.,   0.,   0.,   2.,   0.,   0.,   2.,\n",
       "          0.,   1.,   0.,   1.,   0.,   0.,   1.,   0.,   0.,   0.,   0.,\n",
       "          1.,   0.,   1.,   0.,   2.,   0.,   0.,   3.,   0.,   0.,   0.,\n",
       "          1.,   0.,   0.,   0.,   0.,   2.,   0.,   0.,   0.,   0.,   1.,\n",
       "          0.,   0.,   0.,   0.,   2.,   0.,   1.,   0.,   1.,   0.,   0.,\n",
       "          1.,   0.,   1.,   0.,   1.,   0.,   0.,   2.,   0.,   1.,   0.,\n",
       "          0.,   1.,   0.,   4.,   0.,   2.,   0.,   0.,   0.,   0.,   0.,\n",
       "          0.,   3.,   0.,   0.,   1.,   0.,   3.,   0.,   0.,   1.,   0.,\n",
       "          3.,   0.,   1.,   0.,   0.,   2.,   0.,   0.,   0.,   0.,   0.,\n",
       "          0.,   3.,   0.,   0.,   0.,   3.,   0.,   0.,   2.,   0.,   2.,\n",
       "          0.,   0.,   1.,   0.,   1.,   0.,   0.,   0.,   0.,   3.,   0.,\n",
       "          3.,   0.,   3.,   0.,   0.,   1.,   0.,   0.,   0.,   0.,   1.,\n",
       "          0.,   1.,   0.,   3.,   0.,   0.,   1.,   0.,   2.,   0.,   0.,\n",
       "          0.,   0.,   1.,   0.,   2.,   0., 101.,   0.,   0.,   3.,   0.,\n",
       "          1.,   0.,   0., 196.,   0.,   1.,   0.,   2.,   0.,   0.,   0.,\n",
       "          0.,   3.,   0.,   1.,   0.,   0.,   1.,   0.,  16.,   0.,   0.,\n",
       "          2.,   0.,   2.,   0.,   1.,   0.,   0.,   0.,   0.,   1.,   0.,\n",
       "          2.,   0.,   0.,   0.,   0.,   1.,   0.,   0.,   2.,   0.,   0.,\n",
       "          0.,   1.,   0.,   0.,   1.,   0.,   1.,   0.,   6.,   0.,   0.,\n",
       "          0.,   0.,   0.,   0.,   0.,   0.,   0.,   1.,   0.,   1.,   0.,\n",
       "          0.,   1.,   0.,   0.,   0.,   2.,   0.,   0.,   0.,   0.,   0.,\n",
       "          0.,   1.,   0.,   0.,   2.,   0.,   2.,   0.,   0.,   0.,   0.,\n",
       "          0.,   0.,   0.,   0.,   0.,   0.,   0.,   1.,   0.,   0.,   0.,\n",
       "          0.,   0.,   0.,   1.,   0.,   1.,   0.,   0.,   1.,   0.,   1.,\n",
       "          0.,   0.,   1.,   0.,   1.,   0.,   0.,   0.,   0.,   2.,   0.,\n",
       "          0.,   0.,   0.,   0.,   0.,   0.,   0.,   0.,   0.,   0.,   0.,\n",
       "          0.,   0.,   0.,   1.,   0.,   0.,   0.,   0.,   1.,   0.,   0.,\n",
       "          0.,   0.,   1.,   0.,   4.,   0.,   0.,   1.,   0.,   1.,   0.,\n",
       "          0.,   0.,   0.,   1.,   0.,   0.,   0.,   0.,   0.,   0.,   1.,\n",
       "          0.,   0.,   0.,   2.,   0.,   0.,   0.,   0.,   0.,   0.,   0.,\n",
       "          0.,   0.,   0.,   0.,   2.,   0.,   0.,   0.,   0.,   0.,   0.,\n",
       "          1.,   0.,   0.,   1.,   0.,   0.,   0.,   0.,   0.,   0.,   0.,\n",
       "          0.,   2.,   0.,   0.,   2.,   0.,   1.,   0.,   0.,   0.,   0.,\n",
       "          0.,   0.,   0.,   0.,   0.,   1.,   0.,   0.,   0.,   1.,   0.,\n",
       "          0.,   0.,   0.,   0.,   0.,   1.,   0.,   0.,   0.,   0.,   1.,\n",
       "          0.,   0.,   0.,   0.,   1.,   0.,   2.,   0.,   0.,   1.,   0.,\n",
       "          2.,   0.,   1.,   0.,   0.,   3.,   0.,   1.,   0.,   2.,   0.,\n",
       "          0.,   1.,   0.,   1.,   0.,   0.,   2.,   0.,   0.,   0.,   2.,\n",
       "          0.,   0.,   4.,   0.,   2.,   0.,   2.,   0.,   0.,   1.,   0.,\n",
       "          1.,   0.,   3.,   0.,   0.,   2.,   0.,   2.,   0.,   0.,   1.,\n",
       "          0.,   1.,   0.,   1.,   0.,   0.,   5.,   0.,   2.,   0.,   2.,\n",
       "          0.,   0.,   0.,   0.,   2.,   0.,   0.,   1.,   0.,   1.,   0.,\n",
       "          2.,   0.,   0.,   0.,   0.,   1.,   0.,   5.,   0.,   0.,   1.,\n",
       "          0.,   2.,   0.,   0.,   1.,   0.,   3.,   0.,   1.,   0.,   0.,\n",
       "          1.,   0.,   2.,   0.,   3.,   0.,   0.,   1.,   0.,   1.,   0.,\n",
       "          2.,   0.,   0.,   0.,   0.,   1.,   0.,   0.,   2.,   0.,   1.,\n",
       "          0.,   0.,   0.,   0.,   2.,   0.,   2.,   0.,   1.,   0.,   0.,\n",
       "          3.,   0.,   1.,   0.,   0.,   2.,   0.,   1.,   0.,   3.,   0.,\n",
       "          0.,   1.,   0.,   0.,   0.,   1.,   0.,   0.,   1.,   0.,   2.,\n",
       "          0.,   1.,   0.,   0.,   1.,   0.,   2.,   0.,   0.,   2.,   0.,\n",
       "          0.,   0.,   2.,   0.,   0.,   1.,   0.,   0.,   0.,   2.,   0.,\n",
       "          0.,   0.,   0.,   2.,   0.,   0.,   0.,   0.,   0.,   0.,   1.,\n",
       "          0.,   0.,   0.,   0.,   1.,   0.,   0.,   0.,   0.,   1.,   0.,\n",
       "          0.,   0.,   0.,   0.,   0.,   0.,   0.,   1.,   0.,   0.,   1.,\n",
       "          0.,   0.,   0.,   1.,   0.,   0.,   0.,   0.,   1.,   0.,   0.,\n",
       "          0.,   0.,   0.,   0.,   1.,   0.,   0.,   0.,   0.,   0.,   0.,\n",
       "          1.,   0.,   0.,   1.,   0.,   0.,   0.,   1.,   0.,   0.,   1.,\n",
       "          0.,   1.,   0.,   0.,   0.,   0.,   1.,   0.,   0.,   0.,   0.,\n",
       "          0.,   0.,   0.,   0.,   0.,   0.,   0.,   1.,   0.,   0.,   0.,\n",
       "          0.,   0.,   0.,   0.,   0.,   0.,   0.,   0.,   0.,   0.,   0.,\n",
       "          0.,   0.,   0.,   0.,   0.,   0.,   0.,   0.,   0.,   0.,   0.,\n",
       "          0.,   0.,   0.,   0.,   0.,   0.,   0.,   0.,   0.,   0.,   0.,\n",
       "          0.,   0.,   0.,   0.,   0.,   0.,   0.,   0.,   0.,   0.,   0.,\n",
       "          0.,   0.,   0.,   0.,   0.,   0.,   0.,   0.,   0.,   0.,   0.,\n",
       "          1.,   0.,   0.,   0.,   0.,   1.,   0.,   0.,   0.,   0.,   0.,\n",
       "          0.,   0.,   0.,   0.,   0.,   0.,   0.,   0.,   0.,   0.,   0.,\n",
       "          0.,   0.,   1.,   0.,   0.,   0.,   0.,   0.,   0.,   0.,   0.,\n",
       "          0.,   0.,   0.,   0.,   0.,   0.,   0.,   0.,   0.,   0.,   0.,\n",
       "          0.,   0.,   0.,   0.,   0.,   0.,   0.,   0.,   0.,   0.,   0.,\n",
       "          0.,   0.,   0.,   0.,   1.,   0.,   0.,   0.,   0.,   0.,   0.,\n",
       "          0.,   0.,   0.,   0.,   0.,   0.,   0.,   0.,   0.,   0.,   0.,\n",
       "          0.,   0.,   0.,   0.,   0.,   0.,   0.,   0.,   0.,   0.,   0.,\n",
       "          0.,   0.,   0.,   0.,   0.,   0.,   0.,   0.,   0.,   0.,   0.,\n",
       "          0.,   0.,   0.,   0.,   0.,   0.,   0.,   0.,   0.,   0.,   0.,\n",
       "          0.,   0.,   0.,   0.,   0.,   0.,   0.,   0.,   0.,   0.,   0.,\n",
       "          0.,   0.,   0.,   0.,   0.,   0.,   0.,   0.,   0.,   0.,   0.,\n",
       "          0.,   0.,   0.,   0.,   0.,   0.,   0.,   0.,   0.,   0.,   0.,\n",
       "          0.,   0.,   0.,   0.,   0.,   0.,   0.,   0.,   0.,   0.,   0.,\n",
       "          0.,   0.,   0.,   0.,   0.,   0.,   0.,   0.,   0.,   1.]),\n",
       " array([327.   , 327.422, 327.844, ..., 748.156, 748.578, 749.   ]),\n",
       " <BarContainer object of 1000 artists>)"
      ]
     },
     "execution_count": 15,
     "metadata": {},
     "output_type": "execute_result"
    },
    {
     "data": {
      "image/png": "[encoded data removed]",
      "text/plain": [
       "<Figure size 640x480 with 1 Axes>"
      ]
     },
     "metadata": {},
     "output_type": "display_data"
    }
   ],
   "source": [
    "import matplotlib.pyplot as plt\n",
    "\n",
    "plt.hist(all_prompt_lens, bins=1000, edgecolor='black')"
   ]
  },
  {
   "cell_type": "code",
   "execution_count": 16,
   "id": "ffd619b7-f8d8-446d-b507-ef472bf36a9d",
   "metadata": {},
   "outputs": [
    {
     "name": "stdout",
     "output_type": "stream",
     "text": [
      "User: 64 Item: 229 error index 0 is out of bounds for axis 0 with size 0\n",
      "User: 215 Item: 399 error index 0 is out of bounds for axis 0 with size 0\n",
      "User: 401 Item: 880 error index 0 is out of bounds for axis 0 with size 0\n",
      "User: 427 Item: 399 error index 0 is out of bounds for axis 0 with size 0\n",
      "622\n"
     ]
    }
   ],
   "source": [
    "### Test Data Reaosning\n",
    "test_reasoning_prompts = dict()\n",
    "check_missed_items = []\n",
    "for user, item_list in user_test_dict.items():\n",
    "    # print(user, item_list)\n",
    "    user_rating_dict = ratings_df[ratings_df['user'] == int(user)]\n",
    "    # print(user_rating_dict)\n",
    "    if user in user_profile_summary_dict:\n",
    "        prompt = f\"\"\"You are an expert beauty product recommender. You are provided with a user's profile and list of recent products and their descriptions that the user purchases and whether the user liked it or disliked it.\n",
    "        User Profile - {user_profile_summary_dict[user]}\n",
    "        User purchased the following items in the given order. List of recent items and their description -\n",
    "        \"\"\"\n",
    "    else:\n",
    "        prompt = \"\"\"You are an expert beauty product recommender. You are provided with user's list of recent products and their descriptions that the user purchases and whether the user liked it or disliked it.\n",
    "        User purchased the following items in the given order. List of recent items and their description -\n",
    "        \"\"\"\n",
    "    for item in item_list[:-1]:\n",
    "        try:\n",
    "            user_item_rating = user_rating_dict[user_rating_dict['item'] == item]['rating'].values[0]\n",
    "        except Exception as e:\n",
    "            print(f\"User: {user} Item: {item} error {e}\")\n",
    "            continue\n",
    "        if user_item_rating > 3:\n",
    "            ### Liked\n",
    "            prompt += f\"Liked {get_item_description(item_information_dict[str(item)])}\\n\"\n",
    "        else:\n",
    "            prompt += f\"Disliked {get_item_description(item_information_dict[str(item)])}\\n\"\n",
    "    target_item = item_list[-1]\n",
    "    if str(target_item) not in item_information_dict:\n",
    "        continue\n",
    "    target_item_details = get_item_description(item_information_dict[str(target_item)])\n",
    "    target_item_rating = user_rating_dict[user_rating_dict['item'] == target_item]['rating'].values[0]\n",
    "    # print(f\"target_item_details: {target_item_details} - {target_item_rating}\")\n",
    "\n",
    "    if target_item_rating > 3:\n",
    "        prompt += f\"\"\"Now, we know that the user will LIKE the next item - {item_information_dict[str(target_item)]['title']}\n",
    "        As an expert beauty product recommender, do the following steps -\n",
    "        1. Analyze the user profile, list of products purchased by the user in order and summarize the user behavior by identifying the characteristics he liked and disliked about the products in at most 100 words.\n",
    "        2. Explain with reasoning why the user will LIKE the next item - \"{target_item_details}\", in atmost 100 words.\"\"\"\n",
    "        recommendation = \"\\nPrediction: Yes\"\n",
    "    else:\n",
    "        prompt += f\"\"\"Now, we know that the user will DISLIKE the next purchased item - {item_information_dict[str(target_item)]['title']}\n",
    "        As an expert beauty product recommender, do the following steps -\n",
    "        1. Analyze the user profile, list of products purchased by the user in order and summarize the user behavior by identifying the characteristics he liked and disliked about the products in at most 100 words.\n",
    "        2. Explain with reasoning why the user will DISLIKE the next purchased item - \"{target_item_details}\", in atmost 100 words.\"\"\"\n",
    "        recommendation = \"\\nPrediction: No\"\n",
    "    # print(f\"Prompt: {prompt}\")\n",
    "    test_reasoning_prompts[user] = [prompt, recommendation]\n",
    "    # break\n",
    "print(len(test_reasoning_prompts))"
   ]
  },
  {
   "cell_type": "code",
   "execution_count": 17,
   "id": "f542917a-6452-4da7-b0fe-0f02dc99b562",
   "metadata": {},
   "outputs": [
    {
     "name": "stdout",
     "output_type": "stream",
     "text": [
      "513.3086816720257\n"
     ]
    }
   ],
   "source": [
    "total_len = 0\n",
    "all_prompt_lens = []\n",
    "for user, prompt in test_reasoning_prompts.items():\n",
    "    all_prompt_lens.append(len(prompt[0].strip().split(' ')))\n",
    "    total_len += len(prompt[0].strip().split(' '))\n",
    "print(total_len/len(test_reasoning_prompts))"
   ]
  },
  {
   "cell_type": "code",
   "execution_count": 18,
   "id": "b6814948-c8d7-4a3b-95a1-555d0177efe0",
   "metadata": {
    "scrolled": true
   },
   "outputs": [
    {
     "data": {
      "text/plain": [
       "(array([ 1.,  0.,  0.,  0.,  0.,  0.,  0.,  0.,  0.,  0.,  0.,  0.,  0.,\n",
       "         0.,  2.,  0.,  0.,  0.,  0.,  0.,  0.,  0.,  0.,  0.,  0.,  0.,\n",
       "         0.,  0.,  0.,  0.,  0.,  0.,  0.,  0.,  0.,  0.,  0.,  0.,  0.,\n",
       "         0.,  0.,  0.,  0.,  0.,  0.,  1.,  0.,  0.,  1.,  0.,  0.,  0.,\n",
       "         0.,  0.,  0.,  0.,  0.,  0.,  0.,  0.,  0.,  0.,  0.,  0.,  0.,\n",
       "         0.,  0.,  0.,  0.,  0.,  0.,  0.,  0.,  0.,  0.,  0.,  0.,  0.,\n",
       "         0.,  0.,  0.,  0.,  0.,  0.,  0.,  0.,  0.,  0.,  0.,  2.,  0.,\n",
       "         0.,  0.,  0.,  0.,  0.,  0.,  0.,  0.,  1.,  0.,  0.,  0.,  0.,\n",
       "         0.,  0.,  2.,  0.,  1.,  0.,  0.,  0.,  0.,  0.,  0.,  1.,  0.,\n",
       "         0.,  0.,  0.,  1.,  0.,  0.,  0.,  0.,  1.,  0.,  0.,  1.,  0.,\n",
       "         1.,  0.,  0.,  0.,  0.,  0.,  0.,  1.,  0.,  0.,  3.,  0.,  0.,\n",
       "         0.,  0.,  0.,  0.,  1.,  0.,  1.,  0.,  0.,  0.,  0.,  1.,  0.,\n",
       "         0.,  1.,  0.,  0.,  0.,  0.,  0.,  0.,  1.,  0.,  0.,  0.,  0.,\n",
       "         1.,  0.,  0.,  0.,  0.,  0.,  0.,  2.,  0.,  4.,  0.,  0.,  1.,\n",
       "         0.,  0.,  0.,  3.,  0.,  0.,  2.,  0.,  1.,  0.,  0.,  2.,  0.,\n",
       "         0.,  0.,  0.,  2.,  0.,  2.,  0.,  2.,  0.,  0.,  2.,  0.,  4.,\n",
       "         0.,  0.,  4.,  0.,  1.,  0.,  1.,  0.,  0.,  2.,  0.,  0.,  0.,\n",
       "         0.,  3.,  0.,  6.,  0.,  0.,  1.,  0.,  2.,  0.,  5.,  0.,  0.,\n",
       "         2.,  0.,  1.,  0.,  0.,  0.,  0.,  1.,  0.,  2.,  0.,  0.,  1.,\n",
       "         0.,  2.,  0.,  0.,  1.,  0.,  4.,  0.,  0., 17.,  0.,  6.,  0.,\n",
       "        15.,  0.,  0.,  6.,  0., 20.,  0.,  0., 10.,  0., 13.,  0.,  9.,\n",
       "         0.,  0.,  3.,  0.,  2.,  0.,  0., 14.,  0.,  7.,  0.,  0., 12.,\n",
       "         0., 11.,  0., 28.,  0.,  0.,  8.,  0.,  5.,  0.,  0., 12.,  0.,\n",
       "         2.,  0.,  3.,  0.,  0.,  9.,  0.,  4.,  0.,  0.,  5.,  0., 11.,\n",
       "         0.,  0., 14.,  0.,  8.,  0.,  6.,  0.,  0.,  2.,  0.,  9.,  0.,\n",
       "         0.,  8.,  0., 25.,  0.,  1.,  0.,  0.,  3.,  0., 15.,  0.,  0.,\n",
       "         2.,  0.,  1.,  0.,  7.,  0.,  0.,  1.,  0.,  0.,  0.,  0., 20.,\n",
       "         0.,  1.,  0.,  0.,  1.,  0.,  6.,  0.,  0.,  0.,  0.,  5.,  0.,\n",
       "         0.,  0.,  0.,  1.,  0.,  0.,  0.,  2.,  0.,  0.,  0.,  0.,  1.,\n",
       "         0.,  0.,  0.,  0.,  1.,  0.,  0.,  1.,  0.,  1.,  0.,  1.,  0.,\n",
       "         0.,  1.,  0.,  2.,  0.,  0.,  1.,  0.,  0.,  0.,  0.,  0.,  0.,\n",
       "         2.,  0.,  1.,  0.,  0.,  1.,  0.,  0.,  0.,  0.,  0.,  0.,  1.,\n",
       "         0.,  4.,  0.,  0.,  2.,  0.,  3.,  0.,  0.,  1.,  0.,  5.,  0.,\n",
       "         4.,  0.,  0.,  1.,  0.,  0.,  0.,  0.,  3.,  0.,  3.,  0.,  0.,\n",
       "         1.,  0.,  1.,  0.,  2.,  0.,  0.,  4.,  0.,  2.,  0.,  0.,  4.,\n",
       "         0.,  0.,  0.,  0.,  0.,  0.,  3.,  0.,  3.,  0.,  0.,  1.,  0.,\n",
       "         0.,  0.,  0.,  0.,  0.,  2.,  0.,  3.,  0.,  0.,  3.,  0.,  1.,\n",
       "         0.,  0.,  1.,  0.,  1.,  0.,  1.,  0.,  0.,  3.,  0.,  3.,  0.,\n",
       "         0.,  0.,  0.,  1.,  0.,  0.,  3.,  0.,  2.,  0.,  0.,  0.,  0.,\n",
       "         0.,  0.,  2.,  0.,  0.,  6.,  0.,  1.,  0.,  1.,  0.,  0.,  1.,\n",
       "         0.,  2.,  0.,  0.,  2.,  0.,  2.,  0.,  0.,  0.,  0.,  5.,  0.,\n",
       "         0.,  0.,  0.,  1.,  0.,  0.,  0.,  0.,  1.,  0.,  1.,  0.,  0.,\n",
       "         0.,  0.,  2.,  0.,  1.,  0.,  0.,  0.,  0.,  0.,  0.,  1.,  0.,\n",
       "         0.,  3.,  0.,  1.,  0.,  0.,  1.,  0.,  1.,  0.,  0.,  0.,  0.,\n",
       "         2.,  0.,  1.,  0.,  0.,  0.,  0.,  2.,  0.,  0.,  2.,  0.,  1.,\n",
       "         0.,  0.,  0.,  0.,  1.,  0.,  1.,  0.,  0.,  1.,  0.,  0.,  0.,\n",
       "         0.,  1.,  0.,  3.,  0.,  0.,  0.,  0.,  0.,  0.,  0.,  0.,  0.,\n",
       "         0.,  0.,  1.,  0.,  2.,  0.,  0.,  2.,  0.,  0.,  0.,  0.,  0.,\n",
       "         0.,  1.,  0.,  0.,  1.,  0.,  0.,  0.,  0.,  0.,  0.,  0.,  0.,\n",
       "         0.,  0.,  0.,  0.,  0.,  0.,  0.,  1.,  0.,  0.,  1.,  0.,  1.,\n",
       "         0.,  0.,  1.,  0.,  1.,  0.,  0.,  0.,  0.,  1.,  0.,  0.,  0.,\n",
       "         0.,  0.,  0.,  1.,  0.,  0.,  1.,  0.,  0.,  0.,  0.,  0.,  0.,\n",
       "         1.,  0.,  0.,  0.,  0.,  0.,  0.,  0.,  0.,  0.,  0.,  0.,  0.,\n",
       "         0.,  0.,  0.,  0.,  0.,  0.,  0.,  0.,  0.,  2.,  0.,  0.,  0.,\n",
       "         0.,  0.,  0.,  1.,  0.,  0.,  0.,  0.,  0.,  0.,  0.,  0.,  0.,\n",
       "         0.,  0.,  0.,  0.,  0.,  0.,  0.,  0.,  0.,  0.,  0.,  0.,  0.,\n",
       "         0.,  0.,  0.,  1.,  0.,  0.,  1.,  0.,  0.,  0.,  0.,  0.,  0.,\n",
       "         1.,  0.,  0.,  0.,  0.,  0.,  0.,  0.,  0.,  0.,  0.,  0.,  0.,\n",
       "         0.,  0.,  0.,  0.,  0.,  0.,  1.,  0.,  0.,  0.,  0.,  0.,  0.,\n",
       "         0.,  0.,  0.,  0.,  0.,  0.,  0.,  0.,  0.,  0.,  0.,  0.,  0.,\n",
       "         1.,  0.,  0.,  0.,  0.,  0.,  0.,  0.,  0.,  0.,  0.,  0.,  0.,\n",
       "         0.,  0.,  0.,  0.,  0.,  0.,  0.,  0.,  0.,  0.,  0.,  0.,  0.,\n",
       "         0.,  0.,  0.,  0.,  0.,  0.,  0.,  0.,  0.,  0.,  0.,  0.,  0.,\n",
       "         0.,  0.,  0.,  0.,  0.,  0.,  0.,  0.,  0.,  0.,  0.,  0.,  0.,\n",
       "         0.,  0.,  0.,  0.,  0.,  0.,  0.,  0.,  0.,  0.,  0.,  0.,  0.,\n",
       "         0.,  0.,  0.,  0.,  0.,  0.,  0.,  0.,  0.,  0.,  0.,  0.,  0.,\n",
       "         0.,  0.,  0.,  0.,  0.,  0.,  0.,  0.,  0.,  0.,  0.,  0.,  0.,\n",
       "         0.,  0.,  0.,  0.,  0.,  0.,  0.,  0.,  0.,  0.,  0.,  0.,  0.,\n",
       "         0.,  0.,  0.,  0.,  0.,  0.,  0.,  0.,  0.,  0.,  0.,  0.,  0.,\n",
       "         0.,  0.,  0.,  0.,  0.,  0.,  0.,  0.,  0.,  0.,  0.,  0.,  0.,\n",
       "         0.,  0.,  0.,  0.,  0.,  0.,  0.,  0.,  0.,  0.,  0.,  0.,  0.,\n",
       "         0.,  0.,  0.,  0.,  0.,  0.,  0.,  0.,  0.,  0.,  0.,  0.,  0.,\n",
       "         0.,  0.,  0.,  0.,  0.,  0.,  0.,  0.,  0.,  0.,  0.,  0.,  0.,\n",
       "         0.,  0.,  0.,  0.,  0.,  0.,  0.,  0.,  0.,  0.,  0.,  0.,  0.,\n",
       "         0.,  0.,  0.,  0.,  0.,  0.,  0.,  0.,  0.,  0.,  0.,  0.,  0.,\n",
       "         0.,  0.,  0.,  0.,  0.,  0.,  0.,  0.,  0.,  0.,  0.,  0.,  0.,\n",
       "         0.,  0.,  0.,  0.,  0.,  0.,  0.,  0.,  0.,  0.,  0.,  1.]),\n",
       " array([373.   , 373.414, 373.828, ..., 786.172, 786.586, 787.   ]),\n",
       " <BarContainer object of 1000 artists>)"
      ]
     },
     "execution_count": 18,
     "metadata": {},
     "output_type": "execute_result"
    },
    {
     "data": {
      "image/png": "[encoded data removed]",
      "text/plain": [
       "<Figure size 640x480 with 1 Axes>"
      ]
     },
     "metadata": {},
     "output_type": "display_data"
    }
   ],
   "source": [
    "import matplotlib.pyplot as plt\n",
    "\n",
    "plt.hist(all_prompt_lens, bins=1000, edgecolor='black')"
   ]
  },
  {
   "cell_type": "code",
   "execution_count": 21,
   "id": "9cbddab5-2fa4-4319-830c-def4c7936d27",
   "metadata": {},
   "outputs": [],
   "source": [
    "very_long_prompts_users = set()\n",
    "len_threshold = 700\n",
    "for user, prompt in test_reasoning_prompts.items():\n",
    "    if len(prompt[0].strip().split(' ')) > len_threshold:\n",
    "        very_long_prompts_users.add(user)\n",
    "for user, prompt in train_reasoning_prompts.items():\n",
    "    if len(prompt[0].strip().split(' ')) > len_threshold:\n",
    "        very_long_prompts_users.add(user)\n",
    "for user, prompt in valid_reasoning_prompts.items():\n",
    "    if len(prompt[0].strip().split(' ')) > len_threshold:\n",
    "        very_long_prompts_users.add(user)"
   ]
  },
  {
   "cell_type": "code",
   "execution_count": 23,
   "id": "6a4e3627-5de8-434f-b4f9-e2a575829b42",
   "metadata": {},
   "outputs": [
    {
     "name": "stdout",
     "output_type": "stream",
     "text": [
      "2 ['447', '59']\n"
     ]
    }
   ],
   "source": [
    "very_long_prompts_users = list(very_long_prompts_users)\n",
    "print(len(very_long_prompts_users), very_long_prompts_users)"
   ]
  },
  {
   "cell_type": "code",
   "execution_count": 25,
   "id": "c52cf9ca-1e6b-40e6-9949-38ef6b6c9b04",
   "metadata": {},
   "outputs": [
    {
     "name": "stdout",
     "output_type": "stream",
     "text": [
      "622 622 620\n"
     ]
    }
   ],
   "source": [
    "for user in very_long_prompts_users:\n",
    "    train_reasoning_prompts.pop(user, None)\n",
    "    valid_reasoning_prompts.pop(user, None)\n",
    "    test_reasoning_prompts.pop(user, None)\n",
    "print(len(train_reasoning_prompts), len(valid_reasoning_prompts), len(test_reasoning_prompts))"
   ]
  },
  {
   "cell_type": "code",
   "execution_count": 26,
   "id": "d7860cc4-b347-4b97-89fd-57cad5f272db",
   "metadata": {},
   "outputs": [],
   "source": [
    "reasoning_prompt_path = './reasoning_prompt_data/reasoning_prompt_train.pkl'\n",
    "with open(reasoning_prompt_path, 'wb') as f:\n",
    "    pickle.dump(train_reasoning_prompts, f)\n",
    "    f.close()"
   ]
  },
  {
   "cell_type": "code",
   "execution_count": 27,
   "id": "a7716625-9024-48b4-a4e8-f804b7ebcb3e",
   "metadata": {},
   "outputs": [],
   "source": [
    "reasoning_prompt_path = './reasoning_prompt_data/reasoning_prompt_valid.pkl'\n",
    "with open(reasoning_prompt_path, 'wb') as f:\n",
    "    pickle.dump(valid_reasoning_prompts, f)\n",
    "    f.close()"
   ]
  },
  {
   "cell_type": "code",
   "execution_count": 28,
   "id": "7391d9cf-2bb8-44cc-9b31-54f55b2db5d2",
   "metadata": {},
   "outputs": [],
   "source": [
    "reasoning_prompt_path = './reasoning_prompt_data/reasoning_prompt_test.pkl'\n",
    "with open(reasoning_prompt_path, 'wb') as f:\n",
    "    pickle.dump(test_reasoning_prompts, f)\n",
    "    f.close()"
   ]
  },
  {
   "cell_type": "code",
   "execution_count": 29,
   "id": "f0b61e23-542f-4afc-865a-6bedd683f4e5",
   "metadata": {},
   "outputs": [
    {
     "name": "stdout",
     "output_type": "stream",
     "text": [
      "['You are an expert beauty product recommender. You are provided with a user\\'s profile and list of recent products and their descriptions that the user purchases and whether the user liked it or disliked it.\\n        User Profile - \\n\\nThe user seems to prefer hypoallergenic fragrances and natural ingredients. They liked Fresh Eau De Parfum EDP - Fig Apricot, which is a hypoallergenic fragrance, indicating their preference for pleasant scents that don\\'t cause allergies. They also liked Monoi - Monoi Pitate Jasmine, a jasmine-scented coconut oil, suggesting a preference for natural ingredients that are beneficial for dry skin and hair. The user may not prefer overpowering or artificial scents, as indicated by their dislike for KMRN Fresh Line, which may not offer a wide range of scents and may have a non-natural jasmine scent.\\n        User purchased the following items in the given order. List of recent items and their description -\\n        Liked Fresh Eau De Parfum EDP - Fig Apricot 3.4oz (100ml) Brand: Fresh Price:  Description: \\n\\nProduct Description: KMRN Fresh Line is a hypoallergenic fragrance, praised for its pleasant scent and ability to generate compliments. However, it may not offer a wide range of scents.\\nLiked Monoi - Monoi Pitate Jasmine 4 fl oz Brand: Monoi Price:  Description: \\n\\nThe product is a jasmine-scented coconut oil, great for dry skin and hair, making them soft and non-oily. However, the jasmine scent may not be natural and not everyone may like it.\\nLiked Yardley By Yardley Of London Unisexs Lay It On Thick Hand &amp; Foot Cream 5.3 Oz Brand: Yardley Price:  Description: \\n\\nProduct: Shower Gel\\nPositive features: Lovely holiday scent, mild scrub, good quality, great smell, works well, fresh fruity scent, creamy suds.\\nNegative features: Small size, discontinued.\\n\\nConcise product description: \"Shower Gel with\\nLiked Fruits &amp; Passion Blue Refreshing Shower Gel - 6.7 fl. oz. Brand: Fruits & Passion Price:  Description: \\n\\nThe product is a Body Shop shower gel, with a strong fragrance and great quality, but may be discontinued. It is delivered quickly and gift wrapped.\\nLiked Bonne Bell Smackers Bath and Body Starburst Collection Brand: Bonne Bell Price:  Description: \\n\\nProduct Description:\\nPattern shower gel is a highly recommended product for all skin types, providing a refreshing and cooling sensation. It has a pleasant scent and is great for fine hair, but is unfortunately discontinued by Bain De Terre.\\nNow, we know that the user will LIKE the next item - Bath &amp; Body Works Ile De Tahiti Moana Coconut Vanille Moana Body Wash with Tamanoi 8.5 oz\\n        As an expert beauty product recommender, do the following steps -\\n        1. Analyze the user profile, list of products purchased by the user in order and summarize the user behavior by identifying the characteristics he liked and disliked about the products in at most 100 words.\\n        2. Explain with reasoning why the user will LIKE the next item - \"Bath &amp; Body Works Ile De Tahiti Moana Coconut Vanille Moana Body Wash with Tamanoi 8.5 oz Brand: Bath & Body Works Price:  Description: \\n\\nThe product is a high-quality, good smelling cologne for men. It comes in various scents and is infused with pheromones. However, the scent may not last long after showering.\\n\\nThe product is a high-quality, good smelling cologne for\", in atmost 100 words.', '\\nPrediction: Yes']\n",
      "['You are an expert beauty product recommender. You are provided with a user\\'s profile and list of recent products and their descriptions that the user purchases and whether the user liked it or disliked it.\\n        User Profile - \\n\\nThe user seems to prefer hypoallergenic fragrances and natural ingredients. They liked Fresh Eau De Parfum EDP - Fig Apricot, which is a hypoallergenic fragrance, indicating their preference for pleasant scents that don\\'t cause allergies. They also liked Monoi - Monoi Pitate Jasmine, a jasmine-scented coconut oil, suggesting a preference for natural ingredients that are beneficial for dry skin and hair. The user may not prefer overpowering or artificial scents, as indicated by their dislike for KMRN Fresh Line, which may not offer a wide range of scents and may have a non-natural jasmine scent.\\n        User purchased the following items in the given order. List of recent items and their description -\\n        Liked Monoi - Monoi Pitate Jasmine 4 fl oz Brand: Monoi Price:  Description: \\n\\nThe product is a jasmine-scented coconut oil, great for dry skin and hair, making them soft and non-oily. However, the jasmine scent may not be natural and not everyone may like it.\\nLiked Yardley By Yardley Of London Unisexs Lay It On Thick Hand &amp; Foot Cream 5.3 Oz Brand: Yardley Price:  Description: \\n\\nProduct: Shower Gel\\nPositive features: Lovely holiday scent, mild scrub, good quality, great smell, works well, fresh fruity scent, creamy suds.\\nNegative features: Small size, discontinued.\\n\\nConcise product description: \"Shower Gel with\\nLiked Fruits &amp; Passion Blue Refreshing Shower Gel - 6.7 fl. oz. Brand: Fruits & Passion Price:  Description: \\n\\nThe product is a Body Shop shower gel, with a strong fragrance and great quality, but may be discontinued. It is delivered quickly and gift wrapped.\\nLiked Bonne Bell Smackers Bath and Body Starburst Collection Brand: Bonne Bell Price:  Description: \\n\\nProduct Description:\\nPattern shower gel is a highly recommended product for all skin types, providing a refreshing and cooling sensation. It has a pleasant scent and is great for fine hair, but is unfortunately discontinued by Bain De Terre.\\nLiked Bath &amp; Body Works Ile De Tahiti Moana Coconut Vanille Moana Body Wash with Tamanoi 8.5 oz Brand: Bath & Body Works Price:  Description: \\n\\nThe product is a high-quality, good smelling cologne for men. It comes in various scents and is infused with pheromones. However, the scent may not last long after showering.\\n\\nThe product is a high-quality, good smelling cologne for\\nNow, we know that the user will LIKE the next item - Bath &amp; Body Works Ile De Tahiti Moana Coconut Vanille Moana Body Wash with Tamanoi 8.5 oz\\n        As an expert beauty product recommender, do the following steps -\\n        1. Analyze the user profile, list of products purchased by the user in order and summarize the user behavior by identifying the characteristics he liked and disliked about the products in at most 100 words.\\n        2. Explain with reasoning why the user will LIKE the next item - \"Bath &amp; Body Works Ile De Tahiti Moana Coconut Vanille Moana Body Wash with Tamanoi 8.5 oz Brand: Bath & Body Works Price:  Description: \\n\\nThe product is a high-quality, good smelling cologne for men. It comes in various scents and is infused with pheromones. However, the scent may not last long after showering.\\n\\nThe product is a high-quality, good smelling cologne for\", in atmost 100 words.', '\\nPrediction: Yes']\n",
      "['You are an expert beauty product recommender. You are provided with a user\\'s profile and list of recent products and their descriptions that the user purchases and whether the user liked it or disliked it.\\n        User Profile - \\n\\nThe user seems to prefer hypoallergenic fragrances and natural ingredients. They liked Fresh Eau De Parfum EDP - Fig Apricot, which is a hypoallergenic fragrance, indicating their preference for pleasant scents that don\\'t cause allergies. They also liked Monoi - Monoi Pitate Jasmine, a jasmine-scented coconut oil, suggesting a preference for natural ingredients that are beneficial for dry skin and hair. The user may not prefer overpowering or artificial scents, as indicated by their dislike for KMRN Fresh Line, which may not offer a wide range of scents and may have a non-natural jasmine scent.\\n        User purchased the following items in the given order. List of recent items and their description -\\n        Liked Yardley By Yardley Of London Unisexs Lay It On Thick Hand &amp; Foot Cream 5.3 Oz Brand: Yardley Price:  Description: \\n\\nProduct: Shower Gel\\nPositive features: Lovely holiday scent, mild scrub, good quality, great smell, works well, fresh fruity scent, creamy suds.\\nNegative features: Small size, discontinued.\\n\\nConcise product description: \"Shower Gel with\\nLiked Fruits &amp; Passion Blue Refreshing Shower Gel - 6.7 fl. oz. Brand: Fruits & Passion Price:  Description: \\n\\nThe product is a Body Shop shower gel, with a strong fragrance and great quality, but may be discontinued. It is delivered quickly and gift wrapped.\\nLiked Bonne Bell Smackers Bath and Body Starburst Collection Brand: Bonne Bell Price:  Description: \\n\\nProduct Description:\\nPattern shower gel is a highly recommended product for all skin types, providing a refreshing and cooling sensation. It has a pleasant scent and is great for fine hair, but is unfortunately discontinued by Bain De Terre.\\nLiked Bath &amp; Body Works Ile De Tahiti Moana Coconut Vanille Moana Body Wash with Tamanoi 8.5 oz Brand: Bath & Body Works Price:  Description: \\n\\nThe product is a high-quality, good smelling cologne for men. It comes in various scents and is infused with pheromones. However, the scent may not last long after showering.\\n\\nThe product is a high-quality, good smelling cologne for\\nLiked Bath &amp; Body Works Ile De Tahiti Moana Coconut Vanille Moana Body Wash with Tamanoi 8.5 oz Brand: Bath & Body Works Price:  Description: \\n\\nThe product is a high-quality, good smelling cologne for men. It comes in various scents and is infused with pheromones. However, the scent may not last long after showering.\\n\\nThe product is a high-quality, good smelling cologne for\\nNow, we know that the user will LIKE the next item - Bumble and Bumble Hairdresser\\'s Invisible Oil, 3.4 Ounce\\n        As an expert beauty product recommender, do the following steps -\\n        1. Analyze the user profile, list of products purchased by the user in order and summarize the user behavior by identifying the characteristics he liked and disliked about the products in at most 100 words.\\n        2. Explain with reasoning why the user will LIKE the next item - \"Bumble and Bumble Hairdresser\\'s Invisible Oil, 3.4 Ounce Brand: Bumble and Bumble Price: $35.99 Description: \\n\\nThe product is a high-quality, long-lasting hair oil that adds shine and softness to hair, especially beneficial for color-treated hair. However, it is pricey, lacks a cover, and has a strong scent that may not appeal to everyone.\", in atmost 100 words.', '\\nPrediction: Yes']\n"
     ]
    }
   ],
   "source": [
    "user = '0'\n",
    "print(train_reasoning_prompts[user])\n",
    "print(valid_reasoning_prompts[user])\n",
    "print(test_reasoning_prompts[user])"
   ]
  },
  {
   "cell_type": "code",
   "execution_count": 30,
   "id": "3cd5f401-718d-4c50-902a-fdd530245f63",
   "metadata": {},
   "outputs": [
    {
     "name": "stdout",
     "output_type": "stream",
     "text": [
      "You are an expert beauty product recommender. You are provided with a user's profile and list of recent products and their descriptions that the user purchases and whether the user liked it or disliked it.\n",
      "        User Profile - \n",
      "\n",
      "The user seems to prefer hypoallergenic fragrances and natural ingredients. They liked Fresh Eau De Parfum EDP - Fig Apricot, which is a hypoallergenic fragrance, indicating their preference for pleasant scents that don't cause allergies. They also liked Monoi - Monoi Pitate Jasmine, a jasmine-scented coconut oil, suggesting a preference for natural ingredients that are beneficial for dry skin and hair. The user may not prefer overpowering or artificial scents, as indicated by their dislike for KMRN Fresh Line, which may not offer a wide range of scents and may have a non-natural jasmine scent.\n",
      "        User purchased the following items in the given order. List of recent items and their description -\n",
      "        Liked Fresh Eau De Parfum EDP - Fig Apricot 3.4oz (100ml) Brand: Fresh Price:  Description: \n",
      "\n",
      "Product Description: KMRN Fresh Line is a hypoallergenic fragrance, praised for its pleasant scent and ability to generate compliments. However, it may not offer a wide range of scents.\n",
      "Liked Monoi - Monoi Pitate Jasmine 4 fl oz Brand: Monoi Price:  Description: \n",
      "\n",
      "The product is a jasmine-scented coconut oil, great for dry skin and hair, making them soft and non-oily. However, the jasmine scent may not be natural and not everyone may like it.\n",
      "Liked Yardley By Yardley Of London Unisexs Lay It On Thick Hand &amp; Foot Cream 5.3 Oz Brand: Yardley Price:  Description: \n",
      "\n",
      "Product: Shower Gel\n",
      "Positive features: Lovely holiday scent, mild scrub, good quality, great smell, works well, fresh fruity scent, creamy suds.\n",
      "Negative features: Small size, discontinued.\n",
      "\n",
      "Concise product description: \"Shower Gel with\n",
      "Liked Fruits &amp; Passion Blue Refreshing Shower Gel - 6.7 fl. oz. Brand: Fruits & Passion Price:  Description: \n",
      "\n",
      "The product is a Body Shop shower gel, with a strong fragrance and great quality, but may be discontinued. It is delivered quickly and gift wrapped.\n",
      "Liked Bonne Bell Smackers Bath and Body Starburst Collection Brand: Bonne Bell Price:  Description: \n",
      "\n",
      "Product Description:\n",
      "Pattern shower gel is a highly recommended product for all skin types, providing a refreshing and cooling sensation. It has a pleasant scent and is great for fine hair, but is unfortunately discontinued by Bain De Terre.\n",
      "Now, we know that the user will LIKE the next item - Bath &amp; Body Works Ile De Tahiti Moana Coconut Vanille Moana Body Wash with Tamanoi 8.5 oz\n",
      "        As an expert beauty product recommender, do the following steps -\n",
      "        1. Analyze the user profile, list of products purchased by the user in order and summarize the user behavior by identifying the characteristics he liked and disliked about the products in at most 100 words.\n",
      "        2. Explain with reasoning why the user will LIKE the next item - \"Bath &amp; Body Works Ile De Tahiti Moana Coconut Vanille Moana Body Wash with Tamanoi 8.5 oz Brand: Bath & Body Works Price:  Description: \n",
      "\n",
      "The product is a high-quality, good smelling cologne for men. It comes in various scents and is infused with pheromones. However, the scent may not last long after showering.\n",
      "\n",
      "The product is a high-quality, good smelling cologne for\", in atmost 100 words.\n",
      "****************************************************************************************************\n",
      "1. The user prefers hypoallergenic fragrances and natural ingredients, as seen in their liking of Fresh Eau De Parfum EDP - Fig Apricot and Monoi - Monoi Pitate Jasmine. They may not enjoy overpowering or artificial scents, as indicated by their dislike for KMRN Fresh Line. The user also appreciates products with pleasant scents, good quality, and effectiveness, as seen in their positive reviews for Yardley Hand & Foot Cream and Fruits & Passion Shower Gel.\n",
      "\n",
      "2. The user will like the next item, Bath & Body Works Ile De Tahiti Moana Coconut Vanille Moana Body Wash with Tamanoi, because it aligns with their preference for high-quality products with pleasant scents. The product offers a combination of coconut and vanilla scents, which are likely to appeal to the user's preference for natural and pleasant fragrances. Additionally, the inclusion of Tamanoi in the body wash may provide added benefits for the skin, further enhancing the user's overall experience with the product.\n"
     ]
    },
    {
     "data": {
      "text/plain": [
       "159"
      ]
     },
     "execution_count": 30,
     "metadata": {},
     "output_type": "execute_result"
    }
   ],
   "source": [
    "user = '0'\n",
    "content = train_reasoning_prompts[user][0]\n",
    "groundtruth = train_reasoning_prompts[user][1]\n",
    "print(content)\n",
    "print('*'*100)\n",
    "response = client.chat.completions.create(\n",
    "  model=\"gpt-3.5-turbo\",\n",
    "  messages=[\n",
    "    {\n",
    "      \"role\": \"user\",\n",
    "      \"content\": content\n",
    "    }\n",
    "  ],\n",
    "  temperature=0,\n",
    "  max_tokens=256,\n",
    "  top_p=0.75\n",
    ")\n",
    "\n",
    "\n",
    "response = response.choices[0].message.content\n",
    "print(response)\n",
    "len(response.split(' '))"
   ]
  },
  {
   "cell_type": "code",
   "execution_count": null,
   "id": "e61476a4-61cf-4354-bac3-b70303b1cf22",
   "metadata": {},
   "outputs": [],
   "source": []
  }
 ],
 "metadata": {
  "kernelspec": {
   "display_name": "Python 3 (ipykernel)",
   "language": "python",
   "name": "python3"
  },
  "language_info": {
   "codemirror_mode": {
    "name": "ipython",
    "version": 3
   },
   "file_extension": ".py",
   "mimetype": "text/x-python",
   "name": "python",
   "nbconvert_exporter": "python",
   "pygments_lexer": "ipython3",
   "version": "3.9.18"
  }
 },
 "nbformat": 4,
 "nbformat_minor": 5
}
