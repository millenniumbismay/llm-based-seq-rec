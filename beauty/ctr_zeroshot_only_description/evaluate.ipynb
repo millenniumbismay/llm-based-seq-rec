{
 "cells": [
  {
   "cell_type": "markdown",
   "id": "7f37dd14-8b2a-4828-96ec-5065ce47ec6c",
   "metadata": {},
   "source": [
    "### Vanilla CTR Zeroshot"
   ]
  },
  {
   "cell_type": "code",
   "execution_count": 1,
   "id": "cd60e3f4-25e6-4bf0-9437-71e253e3a79b",
   "metadata": {},
   "outputs": [],
   "source": [
    "import pickle\n",
    "import json\n",
    "import pandas as pd\n",
    "import numpy as np\n",
    "import os\n",
    "import time\n",
    "from dotenv import load_dotenv\n",
    "import re"
   ]
  },
  {
   "cell_type": "code",
   "execution_count": 2,
   "id": "d7269b45-6c0d-4e5b-8bc3-0e5bc56055d5",
   "metadata": {},
   "outputs": [
    {
     "name": "stdout",
     "output_type": "stream",
     "text": [
      "624\n"
     ]
    }
   ],
   "source": [
    "inference_path = 'zeroshot_only_description_inference_valid.json'\n",
    "with open(inference_path, 'r') as f:\n",
    "    inference_dict = json.load(f)\n",
    "print(len(inference_dict))"
   ]
  },
  {
   "cell_type": "code",
   "execution_count": 3,
   "id": "6fabcd49-cf21-45f5-aa70-24f71818dbdb",
   "metadata": {},
   "outputs": [
    {
     "data": {
      "text/html": [
       "<div>\n",
       "<style scoped>\n",
       "    .dataframe tbody tr th:only-of-type {\n",
       "        vertical-align: middle;\n",
       "    }\n",
       "\n",
       "    .dataframe tbody tr th {\n",
       "        vertical-align: top;\n",
       "    }\n",
       "\n",
       "    .dataframe thead th {\n",
       "        text-align: right;\n",
       "    }\n",
       "</style>\n",
       "<table border=\"1\" class=\"dataframe\">\n",
       "  <thead>\n",
       "    <tr style=\"text-align: right;\">\n",
       "      <th></th>\n",
       "      <th>item</th>\n",
       "      <th>user</th>\n",
       "      <th>rating</th>\n",
       "      <th>timestamp</th>\n",
       "    </tr>\n",
       "  </thead>\n",
       "  <tbody>\n",
       "    <tr>\n",
       "      <th>0</th>\n",
       "      <td>0</td>\n",
       "      <td>0</td>\n",
       "      <td>4.0</td>\n",
       "      <td>1155081600</td>\n",
       "    </tr>\n",
       "    <tr>\n",
       "      <th>1</th>\n",
       "      <td>1</td>\n",
       "      <td>0</td>\n",
       "      <td>5.0</td>\n",
       "      <td>1268697600</td>\n",
       "    </tr>\n",
       "    <tr>\n",
       "      <th>2</th>\n",
       "      <td>2</td>\n",
       "      <td>0</td>\n",
       "      <td>5.0</td>\n",
       "      <td>1404604800</td>\n",
       "    </tr>\n",
       "    <tr>\n",
       "      <th>3</th>\n",
       "      <td>3</td>\n",
       "      <td>0</td>\n",
       "      <td>5.0</td>\n",
       "      <td>1404604800</td>\n",
       "    </tr>\n",
       "    <tr>\n",
       "      <th>4</th>\n",
       "      <td>4</td>\n",
       "      <td>0</td>\n",
       "      <td>5.0</td>\n",
       "      <td>1404604800</td>\n",
       "    </tr>\n",
       "  </tbody>\n",
       "</table>\n",
       "</div>"
      ],
      "text/plain": [
       "   item  user  rating   timestamp\n",
       "0     0     0     4.0  1155081600\n",
       "1     1     0     5.0  1268697600\n",
       "2     2     0     5.0  1404604800\n",
       "3     3     0     5.0  1404604800\n",
       "4     4     0     5.0  1404604800"
      ]
     },
     "execution_count": 3,
     "metadata": {},
     "output_type": "execute_result"
    }
   ],
   "source": [
    "ratings_path = '../beauty_data/processed_data/ratings.csv'\n",
    "ratings_df = pd.read_csv(ratings_path)\n",
    "ratings_df.head()"
   ]
  },
  {
   "cell_type": "code",
   "execution_count": 4,
   "id": "6c385f0f-e18e-449f-8932-2aa4e29b3228",
   "metadata": {
    "scrolled": true
   },
   "outputs": [
    {
     "name": "stdout",
     "output_type": "stream",
     "text": [
      "Yes: 354 -- No: 41 -- Invalid: 229\n",
      "invalid_users: ['0', '9', '11', '12', '17', '18', '19', '21', '22', '24', '27', '33', '34', '35', '37', '38', '39', '40', '43', '44', '46', '49', '53', '54', '57', '58', '61', '62', '65', '68', '69', '72', '75', '79', '83', '86', '88', '89', '92', '93', '97', '100', '103', '104', '107', '108', '109', '111', '112', '114', '116', '118', '120', '122', '124', '127', '131', '135', '137', '138', '142', '143', '153', '154', '158', '160', '161', '162', '164', '166', '171', '172', '173', '174', '175', '177', '182', '183', '184', '185', '188', '191', '192', '193', '194', '196', '198', '199', '207', '209', '210', '220', '221', '222', '223', '228', '229', '238', '239', '240', '243', '244', '247', '248', '253', '256', '260', '261', '265', '266', '272', '275', '279', '280', '282', '283', '285', '286', '287', '291', '293', '299', '304', '305', '306', '307', '310', '318', '319', '325', '326', '329', '330', '332', '333', '339', '347', '348', '349', '355', '360', '367', '378', '379', '380', '383', '384', '396', '401', '403', '404', '405', '406', '408', '412', '413', '417', '419', '422', '427', '429', '434', '435', '436', '438', '443', '444', '445', '453', '458', '459', '461', '469', '473', '475', '476', '477', '479', '482', '483', '486', '487', '494', '495', '496', '500', '502', '505', '507', '508', '509', '512', '515', '518', '520', '521', '522', '529', '531', '532', '534', '535', '540', '542', '543', '544', '550', '553', '554', '556', '564', '566', '567', '568', '573', '577', '579', '587', '588', '590', '600', '604', '606', '607', '609', '615', '616', '621', '623']\n",
      "624\n"
     ]
    }
   ],
   "source": [
    "pattern = r\"Prediction:(?:\\s+)?(Yes|No)\\b\"\n",
    "invalid_users = []\n",
    "cnt = cntInvalid = cntY = cntN = 0\n",
    "user_inference_dict = dict()\n",
    "for user, inference in inference_dict.items():\n",
    "    cnt += 1\n",
    "    # print(user, inference)\n",
    "    # Use re.findall to find all matches in the string\n",
    "    matches = re.findall(pattern, inference, re.IGNORECASE)\n",
    "    if len(matches) == 0:\n",
    "        cntInvalid += 1\n",
    "        invalid_users.append(user)\n",
    "        user_inference_dict[user] = 0\n",
    "    for match in matches:\n",
    "        if match == 'Yes':\n",
    "            cntY += 1\n",
    "            user_inference_dict[user] = 1\n",
    "            break\n",
    "        elif match == 'No':\n",
    "            cntN += 1\n",
    "            user_inference_dict[user] = 0\n",
    "            break\n",
    "    # print('*'*100)\n",
    "    # if cnt == 10:\n",
    "    #     break\n",
    "print(f\"Yes: {cntY} -- No: {cntN} -- Invalid: {cntInvalid}\")\n",
    "print(\"invalid_users:\", invalid_users)\n",
    "print(len(user_inference_dict))"
   ]
  },
  {
   "cell_type": "code",
   "execution_count": 6,
   "id": "a940a4d4",
   "metadata": {},
   "outputs": [
    {
     "data": {
      "text/html": [
       "<div>\n",
       "<style scoped>\n",
       "    .dataframe tbody tr th:only-of-type {\n",
       "        vertical-align: middle;\n",
       "    }\n",
       "\n",
       "    .dataframe tbody tr th {\n",
       "        vertical-align: top;\n",
       "    }\n",
       "\n",
       "    .dataframe thead th {\n",
       "        text-align: right;\n",
       "    }\n",
       "</style>\n",
       "<table border=\"1\" class=\"dataframe\">\n",
       "  <thead>\n",
       "    <tr style=\"text-align: right;\">\n",
       "      <th></th>\n",
       "      <th>item</th>\n",
       "      <th>user</th>\n",
       "      <th>rating</th>\n",
       "      <th>timestamp</th>\n",
       "    </tr>\n",
       "  </thead>\n",
       "  <tbody>\n",
       "    <tr>\n",
       "      <th>7</th>\n",
       "      <td>6</td>\n",
       "      <td>0</td>\n",
       "      <td>5.0</td>\n",
       "      <td>1461801600</td>\n",
       "    </tr>\n",
       "    <tr>\n",
       "      <th>14</th>\n",
       "      <td>12</td>\n",
       "      <td>1</td>\n",
       "      <td>5.0</td>\n",
       "      <td>1504656000</td>\n",
       "    </tr>\n",
       "    <tr>\n",
       "      <th>21</th>\n",
       "      <td>12</td>\n",
       "      <td>2</td>\n",
       "      <td>4.0</td>\n",
       "      <td>1506643200</td>\n",
       "    </tr>\n",
       "    <tr>\n",
       "      <th>27</th>\n",
       "      <td>20</td>\n",
       "      <td>3</td>\n",
       "      <td>5.0</td>\n",
       "      <td>1493337600</td>\n",
       "    </tr>\n",
       "    <tr>\n",
       "      <th>33</th>\n",
       "      <td>21</td>\n",
       "      <td>4</td>\n",
       "      <td>5.0</td>\n",
       "      <td>1524614400</td>\n",
       "    </tr>\n",
       "  </tbody>\n",
       "</table>\n",
       "</div>"
      ],
      "text/plain": [
       "    item  user  rating   timestamp\n",
       "7      6     0     5.0  1461801600\n",
       "14    12     1     5.0  1504656000\n",
       "21    12     2     4.0  1506643200\n",
       "27    20     3     5.0  1493337600\n",
       "33    21     4     5.0  1524614400"
      ]
     },
     "execution_count": 6,
     "metadata": {},
     "output_type": "execute_result"
    }
   ],
   "source": [
    "user_test_movie_rating_df = ratings_df.groupby('user').nth(-1)\n",
    "user_test_movie_rating_df.head()"
   ]
  },
  {
   "cell_type": "code",
   "execution_count": 7,
   "id": "7a7e4e8c-dd55-49ee-8ccc-754489a27462",
   "metadata": {},
   "outputs": [
    {
     "name": "stdout",
     "output_type": "stream",
     "text": [
      "Confusion Matrix:\n",
      "[[ 26  17]\n",
      " [220 353]]\n",
      "AUC: 0.6103535046065182\n",
      "Precision: 0.9540540540540541\n",
      "Recall: 0.6160558464223386\n",
      "Accuracy: 0.6152597402597403\n"
     ]
    }
   ],
   "source": [
    "from sklearn.metrics import roc_auc_score, accuracy_score, confusion_matrix, precision_score, recall_score\n",
    "y_true = []\n",
    "y_pred = []\n",
    "\n",
    "fp_users = []\n",
    "fn_users = []\n",
    "\n",
    "for user, inference in user_inference_dict.items():\n",
    "    original_rating = user_test_movie_rating_df[user_test_movie_rating_df['user'] == int(user)]['rating'].values[0]\n",
    "    # print(original_rating)\n",
    "    if original_rating > 3:\n",
    "        y_true.append(1)\n",
    "        if inference == 0:\n",
    "            fn_users.append(user)\n",
    "    else:\n",
    "        y_true.append(0)\n",
    "        if inference == 1:\n",
    "            fp_users.append(user)\n",
    "    y_pred.append(inference)\n",
    "\n",
    "conf_matrix = confusion_matrix(y_true, y_pred)\n",
    "print(\"Confusion Matrix:\")\n",
    "print(conf_matrix)\n",
    "\n",
    "auc_roc = roc_auc_score(y_true, y_pred)\n",
    "print(\"AUC:\", auc_roc)\n",
    "\n",
    "precision = precision_score(y_true, y_pred)\n",
    "print(\"Precision:\", precision)\n",
    "\n",
    "recall = recall_score(y_true, y_pred)\n",
    "print(\"Recall:\", recall)\n",
    "\n",
    "accuracy = accuracy_score(y_true, y_pred)\n",
    "print(\"Accuracy:\", accuracy)"
   ]
  },
  {
   "cell_type": "code",
   "execution_count": 5,
   "id": "29532dd9",
   "metadata": {},
   "outputs": [
    {
     "data": {
      "text/html": [
       "<div>\n",
       "<style scoped>\n",
       "    .dataframe tbody tr th:only-of-type {\n",
       "        vertical-align: middle;\n",
       "    }\n",
       "\n",
       "    .dataframe tbody tr th {\n",
       "        vertical-align: top;\n",
       "    }\n",
       "\n",
       "    .dataframe thead th {\n",
       "        text-align: right;\n",
       "    }\n",
       "</style>\n",
       "<table border=\"1\" class=\"dataframe\">\n",
       "  <thead>\n",
       "    <tr style=\"text-align: right;\">\n",
       "      <th></th>\n",
       "      <th>item</th>\n",
       "      <th>user</th>\n",
       "      <th>rating</th>\n",
       "      <th>timestamp</th>\n",
       "    </tr>\n",
       "  </thead>\n",
       "  <tbody>\n",
       "    <tr>\n",
       "      <th>6</th>\n",
       "      <td>5</td>\n",
       "      <td>0</td>\n",
       "      <td>5.0</td>\n",
       "      <td>1404604800</td>\n",
       "    </tr>\n",
       "    <tr>\n",
       "      <th>13</th>\n",
       "      <td>11</td>\n",
       "      <td>1</td>\n",
       "      <td>5.0</td>\n",
       "      <td>1504656000</td>\n",
       "    </tr>\n",
       "    <tr>\n",
       "      <th>20</th>\n",
       "      <td>11</td>\n",
       "      <td>2</td>\n",
       "      <td>4.0</td>\n",
       "      <td>1506643200</td>\n",
       "    </tr>\n",
       "    <tr>\n",
       "      <th>26</th>\n",
       "      <td>19</td>\n",
       "      <td>3</td>\n",
       "      <td>5.0</td>\n",
       "      <td>1493337600</td>\n",
       "    </tr>\n",
       "    <tr>\n",
       "      <th>32</th>\n",
       "      <td>19</td>\n",
       "      <td>4</td>\n",
       "      <td>5.0</td>\n",
       "      <td>1524614400</td>\n",
       "    </tr>\n",
       "  </tbody>\n",
       "</table>\n",
       "</div>"
      ],
      "text/plain": [
       "    item  user  rating   timestamp\n",
       "6      5     0     5.0  1404604800\n",
       "13    11     1     5.0  1504656000\n",
       "20    11     2     4.0  1506643200\n",
       "26    19     3     5.0  1493337600\n",
       "32    19     4     5.0  1524614400"
      ]
     },
     "execution_count": 5,
     "metadata": {},
     "output_type": "execute_result"
    }
   ],
   "source": [
    "user_valid_movie_rating_df = ratings_df.groupby('user').nth(-2)\n",
    "user_valid_movie_rating_df.head()"
   ]
  },
  {
   "cell_type": "code",
   "execution_count": 6,
   "id": "ade343aa",
   "metadata": {},
   "outputs": [
    {
     "name": "stdout",
     "output_type": "stream",
     "text": [
      "Confusion Matrix:\n",
      "[[ 35  11]\n",
      " [235 343]]\n",
      "AUC: 0.6771475853768618\n",
      "Precision: 0.9689265536723164\n",
      "Recall: 0.5934256055363322\n",
      "Accuracy: 0.6057692307692307\n"
     ]
    }
   ],
   "source": [
    "from sklearn.metrics import roc_auc_score, accuracy_score, confusion_matrix, precision_score, recall_score\n",
    "y_true = []\n",
    "y_pred = []\n",
    "\n",
    "fp_users = []\n",
    "fn_users = []\n",
    "\n",
    "for user, inference in user_inference_dict.items():\n",
    "    original_rating = user_valid_movie_rating_df[user_valid_movie_rating_df['user'] == int(user)]['rating'].values[0]\n",
    "    # print(original_rating)\n",
    "    if original_rating > 3:\n",
    "        y_true.append(1)\n",
    "        if inference == 0:\n",
    "            fn_users.append(user)\n",
    "    else:\n",
    "        y_true.append(0)\n",
    "        if inference == 1:\n",
    "            fp_users.append(user)\n",
    "    y_pred.append(inference)\n",
    "\n",
    "conf_matrix = confusion_matrix(y_true, y_pred)\n",
    "print(\"Confusion Matrix:\")\n",
    "print(conf_matrix)\n",
    "\n",
    "auc_roc = roc_auc_score(y_true, y_pred)\n",
    "print(\"AUC:\", auc_roc)\n",
    "\n",
    "precision = precision_score(y_true, y_pred)\n",
    "print(\"Precision:\", precision)\n",
    "\n",
    "recall = recall_score(y_true, y_pred)\n",
    "print(\"Recall:\", recall)\n",
    "\n",
    "accuracy = accuracy_score(y_true, y_pred)\n",
    "print(\"Accuracy:\", accuracy)"
   ]
  },
  {
   "cell_type": "code",
   "execution_count": null,
   "id": "0f81a723",
   "metadata": {},
   "outputs": [],
   "source": []
  }
 ],
 "metadata": {
  "kernelspec": {
   "display_name": "Python 3 (ipykernel)",
   "language": "python",
   "name": "python3"
  },
  "language_info": {
   "codemirror_mode": {
    "name": "ipython",
    "version": 3
   },
   "file_extension": ".py",
   "mimetype": "text/x-python",
   "name": "python",
   "nbconvert_exporter": "python",
   "pygments_lexer": "ipython3",
   "version": "3.9.18"
  }
 },
 "nbformat": 4,
 "nbformat_minor": 5
}
