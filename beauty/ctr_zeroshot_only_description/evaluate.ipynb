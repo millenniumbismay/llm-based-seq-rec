{
 "cells": [
  {
   "cell_type": "markdown",
   "id": "7f37dd14-8b2a-4828-96ec-5065ce47ec6c",
   "metadata": {},
   "source": [
    "### Vanilla CTR Zeroshot"
   ]
  },
  {
   "cell_type": "code",
   "execution_count": 1,
   "id": "cd60e3f4-25e6-4bf0-9437-71e253e3a79b",
   "metadata": {},
   "outputs": [],
   "source": [
    "import pickle\n",
    "import json\n",
    "import pandas as pd\n",
    "import numpy as np\n",
    "import os\n",
    "import time\n",
    "from dotenv import load_dotenv\n",
    "import re"
   ]
  },
  {
   "cell_type": "code",
   "execution_count": 2,
   "id": "d7269b45-6c0d-4e5b-8bc3-0e5bc56055d5",
   "metadata": {},
   "outputs": [
    {
     "name": "stdout",
     "output_type": "stream",
     "text": [
      "928\n"
     ]
    }
   ],
   "source": [
    "inference_path = 'zeroshot_only_description_inference_valid.json'\n",
    "with open(inference_path, 'r') as f:\n",
    "    inference_dict = json.load(f)\n",
    "print(len(inference_dict))"
   ]
  },
  {
   "cell_type": "code",
   "execution_count": 3,
   "id": "6fabcd49-cf21-45f5-aa70-24f71818dbdb",
   "metadata": {},
   "outputs": [
    {
     "data": {
      "text/html": [
       "<div>\n",
       "<style scoped>\n",
       "    .dataframe tbody tr th:only-of-type {\n",
       "        vertical-align: middle;\n",
       "    }\n",
       "\n",
       "    .dataframe tbody tr th {\n",
       "        vertical-align: top;\n",
       "    }\n",
       "\n",
       "    .dataframe thead th {\n",
       "        text-align: right;\n",
       "    }\n",
       "</style>\n",
       "<table border=\"1\" class=\"dataframe\">\n",
       "  <thead>\n",
       "    <tr style=\"text-align: right;\">\n",
       "      <th></th>\n",
       "      <th>item</th>\n",
       "      <th>user</th>\n",
       "      <th>rating</th>\n",
       "      <th>timestamp</th>\n",
       "    </tr>\n",
       "  </thead>\n",
       "  <tbody>\n",
       "    <tr>\n",
       "      <th>0</th>\n",
       "      <td>0</td>\n",
       "      <td>0</td>\n",
       "      <td>4.0</td>\n",
       "      <td>1452816000</td>\n",
       "    </tr>\n",
       "    <tr>\n",
       "      <th>1</th>\n",
       "      <td>1</td>\n",
       "      <td>0</td>\n",
       "      <td>4.0</td>\n",
       "      <td>1453766400</td>\n",
       "    </tr>\n",
       "    <tr>\n",
       "      <th>2</th>\n",
       "      <td>2</td>\n",
       "      <td>0</td>\n",
       "      <td>3.0</td>\n",
       "      <td>1453766400</td>\n",
       "    </tr>\n",
       "    <tr>\n",
       "      <th>3</th>\n",
       "      <td>3</td>\n",
       "      <td>0</td>\n",
       "      <td>4.0</td>\n",
       "      <td>1453766400</td>\n",
       "    </tr>\n",
       "    <tr>\n",
       "      <th>4</th>\n",
       "      <td>4</td>\n",
       "      <td>0</td>\n",
       "      <td>4.0</td>\n",
       "      <td>1453766400</td>\n",
       "    </tr>\n",
       "  </tbody>\n",
       "</table>\n",
       "</div>"
      ],
      "text/plain": [
       "   item  user  rating   timestamp\n",
       "0     0     0     4.0  1452816000\n",
       "1     1     0     4.0  1453766400\n",
       "2     2     0     3.0  1453766400\n",
       "3     3     0     4.0  1453766400\n",
       "4     4     0     4.0  1453766400"
      ]
     },
     "execution_count": 3,
     "metadata": {},
     "output_type": "execute_result"
    }
   ],
   "source": [
    "ratings_path = '../fashion_data/processed_data/ratings.csv'\n",
    "ratings_df = pd.read_csv(ratings_path)\n",
    "ratings_df.head()"
   ]
  },
  {
   "cell_type": "code",
   "execution_count": 4,
   "id": "6c385f0f-e18e-449f-8932-2aa4e29b3228",
   "metadata": {
    "scrolled": true
   },
   "outputs": [
    {
     "name": "stdout",
     "output_type": "stream",
     "text": [
      "Yes: 541 -- No: 253 -- Invalid: 134\n",
      "invalid_users: ['21', '34', '36', '39', '40', '55', '60', '61', '66', '68', '81', '91', '115', '117', '138', '155', '157', '179', '181', '189', '206', '221', '240', '246', '250', '255', '262', '269', '271', '286', '306', '316', '321', '340', '357', '382', '386', '389', '432', '434', '440', '451', '455', '458', '460', '468', '476', '481', '482', '483', '486', '487', '488', '490', '493', '502', '521', '546', '563', '571', '596', '601', '606', '638', '642', '660', '661', '672', '687', '714', '723', '725', '734', '740', '751', '756', '764', '773', '785', '786', '788', '816', '829', '830', '849', '855', '861', '873', '883', '887', '893', '900', '911', '920', '924', '925', '927', '929', '945', '960', '973', '977', '991', '994', '996', '1024', '1029', '1034', '1043', '1044', '1058', '1062', '1068', '1099', '1100', '1121', '1127', '1129', '1144', '1150', '1153', '1154', '1162', '1166', '1184', '1215', '1229', '1230', '1231', '1236', '1237', '1238', '1241', '1255']\n",
      "928\n"
     ]
    }
   ],
   "source": [
    "pattern = r\"Prediction:(?:\\s+)?(Yes|No)\\b\"\n",
    "invalid_users = []\n",
    "cnt = cntInvalid = cntY = cntN = 0\n",
    "user_inference_dict = dict()\n",
    "for user, inference in inference_dict.items():\n",
    "    cnt += 1\n",
    "    # print(user, inference)\n",
    "    # Use re.findall to find all matches in the string\n",
    "    matches = re.findall(pattern, inference, re.IGNORECASE)\n",
    "    if len(matches) == 0:\n",
    "        cntInvalid += 1\n",
    "        invalid_users.append(user)\n",
    "        user_inference_dict[user] = 0\n",
    "    for match in matches:\n",
    "        if match == 'Yes':\n",
    "            cntY += 1\n",
    "            user_inference_dict[user] = 1\n",
    "            break\n",
    "        elif match == 'No':\n",
    "            cntN += 1\n",
    "            user_inference_dict[user] = 0\n",
    "            break\n",
    "    # print('*'*100)\n",
    "    # if cnt == 10:\n",
    "    #     break\n",
    "print(f\"Yes: {cntY} -- No: {cntN} -- Invalid: {cntInvalid}\")\n",
    "print(\"invalid_users:\", invalid_users)\n",
    "print(len(user_inference_dict))"
   ]
  },
  {
   "cell_type": "code",
   "execution_count": 13,
   "id": "a940a4d4",
   "metadata": {},
   "outputs": [
    {
     "data": {
      "text/html": [
       "<div>\n",
       "<style scoped>\n",
       "    .dataframe tbody tr th:only-of-type {\n",
       "        vertical-align: middle;\n",
       "    }\n",
       "\n",
       "    .dataframe tbody tr th {\n",
       "        vertical-align: top;\n",
       "    }\n",
       "\n",
       "    .dataframe thead th {\n",
       "        text-align: right;\n",
       "    }\n",
       "</style>\n",
       "<table border=\"1\" class=\"dataframe\">\n",
       "  <thead>\n",
       "    <tr style=\"text-align: right;\">\n",
       "      <th></th>\n",
       "      <th>item</th>\n",
       "      <th>user</th>\n",
       "      <th>rating</th>\n",
       "      <th>timestamp</th>\n",
       "    </tr>\n",
       "  </thead>\n",
       "  <tbody>\n",
       "    <tr>\n",
       "      <th>7</th>\n",
       "      <td>7</td>\n",
       "      <td>0</td>\n",
       "      <td>3.0</td>\n",
       "      <td>1500854400</td>\n",
       "    </tr>\n",
       "    <tr>\n",
       "      <th>17</th>\n",
       "      <td>17</td>\n",
       "      <td>1</td>\n",
       "      <td>5.0</td>\n",
       "      <td>1470096000</td>\n",
       "    </tr>\n",
       "    <tr>\n",
       "      <th>25</th>\n",
       "      <td>25</td>\n",
       "      <td>2</td>\n",
       "      <td>4.0</td>\n",
       "      <td>1462924800</td>\n",
       "    </tr>\n",
       "    <tr>\n",
       "      <th>33</th>\n",
       "      <td>25</td>\n",
       "      <td>3</td>\n",
       "      <td>4.0</td>\n",
       "      <td>1495065600</td>\n",
       "    </tr>\n",
       "    <tr>\n",
       "      <th>41</th>\n",
       "      <td>25</td>\n",
       "      <td>4</td>\n",
       "      <td>5.0</td>\n",
       "      <td>1509580800</td>\n",
       "    </tr>\n",
       "  </tbody>\n",
       "</table>\n",
       "</div>"
      ],
      "text/plain": [
       "    item  user  rating   timestamp\n",
       "7      7     0     3.0  1500854400\n",
       "17    17     1     5.0  1470096000\n",
       "25    25     2     4.0  1462924800\n",
       "33    25     3     4.0  1495065600\n",
       "41    25     4     5.0  1509580800"
      ]
     },
     "execution_count": 13,
     "metadata": {},
     "output_type": "execute_result"
    }
   ],
   "source": [
    "user_test_movie_rating_df = ratings_df.groupby('user').nth(-1)\n",
    "user_test_movie_rating_df.head()"
   ]
  },
  {
   "cell_type": "code",
   "execution_count": 14,
   "id": "7a7e4e8c-dd55-49ee-8ccc-754489a27462",
   "metadata": {},
   "outputs": [
    {
     "name": "stdout",
     "output_type": "stream",
     "text": [
      "Confusion Matrix:\n",
      "[[203  87]\n",
      " [266 692]]\n",
      "AUC: 0.7111691022964509\n",
      "Precision: 0.8883183568677792\n",
      "Recall: 0.7223382045929019\n",
      "Accuracy: 0.7171474358974359\n"
     ]
    }
   ],
   "source": [
    "from sklearn.metrics import roc_auc_score, accuracy_score, confusion_matrix, precision_score, recall_score\n",
    "y_true = []\n",
    "y_pred = []\n",
    "\n",
    "fp_users = []\n",
    "fn_users = []\n",
    "\n",
    "for user, inference in user_inference_dict.items():\n",
    "    original_rating = user_test_movie_rating_df[user_test_movie_rating_df['user'] == int(user)]['rating'].values[0]\n",
    "    # print(original_rating)\n",
    "    if original_rating > 3:\n",
    "        y_true.append(1)\n",
    "        if inference == 0:\n",
    "            fn_users.append(user)\n",
    "    else:\n",
    "        y_true.append(0)\n",
    "        if inference == 1:\n",
    "            fp_users.append(user)\n",
    "    y_pred.append(inference)\n",
    "\n",
    "conf_matrix = confusion_matrix(y_true, y_pred)\n",
    "print(\"Confusion Matrix:\")\n",
    "print(conf_matrix)\n",
    "\n",
    "auc_roc = roc_auc_score(y_true, y_pred)\n",
    "print(\"AUC:\", auc_roc)\n",
    "\n",
    "precision = precision_score(y_true, y_pred)\n",
    "print(\"Precision:\", precision)\n",
    "\n",
    "recall = recall_score(y_true, y_pred)\n",
    "print(\"Recall:\", recall)\n",
    "\n",
    "accuracy = accuracy_score(y_true, y_pred)\n",
    "print(\"Accuracy:\", accuracy)"
   ]
  },
  {
   "cell_type": "code",
   "execution_count": 5,
   "id": "29532dd9",
   "metadata": {},
   "outputs": [
    {
     "data": {
      "text/html": [
       "<div>\n",
       "<style scoped>\n",
       "    .dataframe tbody tr th:only-of-type {\n",
       "        vertical-align: middle;\n",
       "    }\n",
       "\n",
       "    .dataframe tbody tr th {\n",
       "        vertical-align: top;\n",
       "    }\n",
       "\n",
       "    .dataframe thead th {\n",
       "        text-align: right;\n",
       "    }\n",
       "</style>\n",
       "<table border=\"1\" class=\"dataframe\">\n",
       "  <thead>\n",
       "    <tr style=\"text-align: right;\">\n",
       "      <th></th>\n",
       "      <th>item</th>\n",
       "      <th>user</th>\n",
       "      <th>rating</th>\n",
       "      <th>timestamp</th>\n",
       "    </tr>\n",
       "  </thead>\n",
       "  <tbody>\n",
       "    <tr>\n",
       "      <th>6</th>\n",
       "      <td>6</td>\n",
       "      <td>0</td>\n",
       "      <td>2.0</td>\n",
       "      <td>1453766400</td>\n",
       "    </tr>\n",
       "    <tr>\n",
       "      <th>16</th>\n",
       "      <td>16</td>\n",
       "      <td>1</td>\n",
       "      <td>5.0</td>\n",
       "      <td>1468195200</td>\n",
       "    </tr>\n",
       "    <tr>\n",
       "      <th>24</th>\n",
       "      <td>24</td>\n",
       "      <td>2</td>\n",
       "      <td>4.0</td>\n",
       "      <td>1462924800</td>\n",
       "    </tr>\n",
       "    <tr>\n",
       "      <th>32</th>\n",
       "      <td>24</td>\n",
       "      <td>3</td>\n",
       "      <td>4.0</td>\n",
       "      <td>1495065600</td>\n",
       "    </tr>\n",
       "    <tr>\n",
       "      <th>40</th>\n",
       "      <td>24</td>\n",
       "      <td>4</td>\n",
       "      <td>5.0</td>\n",
       "      <td>1509580800</td>\n",
       "    </tr>\n",
       "  </tbody>\n",
       "</table>\n",
       "</div>"
      ],
      "text/plain": [
       "    item  user  rating   timestamp\n",
       "6      6     0     2.0  1453766400\n",
       "16    16     1     5.0  1468195200\n",
       "24    24     2     4.0  1462924800\n",
       "32    24     3     4.0  1495065600\n",
       "40    24     4     5.0  1509580800"
      ]
     },
     "execution_count": 5,
     "metadata": {},
     "output_type": "execute_result"
    }
   ],
   "source": [
    "user_valid_movie_rating_df = ratings_df.groupby('user').nth(-2)\n",
    "user_valid_movie_rating_df.head()"
   ]
  },
  {
   "cell_type": "code",
   "execution_count": 6,
   "id": "ade343aa",
   "metadata": {},
   "outputs": [
    {
     "name": "stdout",
     "output_type": "stream",
     "text": [
      "Confusion Matrix:\n",
      "[[149  93]\n",
      " [238 448]]\n",
      "AUC: 0.6343818519143194\n",
      "Precision: 0.8280961182994455\n",
      "Recall: 0.6530612244897959\n",
      "Accuracy: 0.6433189655172413\n"
     ]
    }
   ],
   "source": [
    "from sklearn.metrics import roc_auc_score, accuracy_score, confusion_matrix, precision_score, recall_score\n",
    "y_true = []\n",
    "y_pred = []\n",
    "\n",
    "fp_users = []\n",
    "fn_users = []\n",
    "\n",
    "for user, inference in user_inference_dict.items():\n",
    "    original_rating = user_valid_movie_rating_df[user_valid_movie_rating_df['user'] == int(user)]['rating'].values[0]\n",
    "    # print(original_rating)\n",
    "    if original_rating > 3:\n",
    "        y_true.append(1)\n",
    "        if inference == 0:\n",
    "            fn_users.append(user)\n",
    "    else:\n",
    "        y_true.append(0)\n",
    "        if inference == 1:\n",
    "            fp_users.append(user)\n",
    "    y_pred.append(inference)\n",
    "\n",
    "conf_matrix = confusion_matrix(y_true, y_pred)\n",
    "print(\"Confusion Matrix:\")\n",
    "print(conf_matrix)\n",
    "\n",
    "auc_roc = roc_auc_score(y_true, y_pred)\n",
    "print(\"AUC:\", auc_roc)\n",
    "\n",
    "precision = precision_score(y_true, y_pred)\n",
    "print(\"Precision:\", precision)\n",
    "\n",
    "recall = recall_score(y_true, y_pred)\n",
    "print(\"Recall:\", recall)\n",
    "\n",
    "accuracy = accuracy_score(y_true, y_pred)\n",
    "print(\"Accuracy:\", accuracy)"
   ]
  },
  {
   "cell_type": "code",
   "execution_count": null,
   "id": "0f81a723",
   "metadata": {},
   "outputs": [],
   "source": []
  }
 ],
 "metadata": {
  "kernelspec": {
   "display_name": "Python 3 (ipykernel)",
   "language": "python",
   "name": "python3"
  },
  "language_info": {
   "codemirror_mode": {
    "name": "ipython",
    "version": 3
   },
   "file_extension": ".py",
   "mimetype": "text/x-python",
   "name": "python",
   "nbconvert_exporter": "python",
   "pygments_lexer": "ipython3",
   "version": "3.9.18"
  }
 },
 "nbformat": 4,
 "nbformat_minor": 5
}
